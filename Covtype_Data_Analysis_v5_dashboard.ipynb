{
 "cells": [
  {
   "cell_type": "code",
   "execution_count": 1,
   "metadata": {
    "collapsed": true
   },
   "outputs": [],
   "source": [
    "import pandas as pd\n",
    "import numpy as np\n",
    "import matplotlib.pyplot as plt\n",
    "import seaborn as sns\n",
    "%matplotlib inline"
   ]
  },
  {
   "cell_type": "code",
   "execution_count": 2,
   "metadata": {
    "collapsed": true
   },
   "outputs": [],
   "source": [
    "data=pd.read_csv('covtype.CSV',header=-1)"
   ]
  },
  {
   "cell_type": "code",
   "execution_count": 3,
   "metadata": {},
   "outputs": [
    {
     "data": {
      "text/html": [
       "<div>\n",
       "<style scoped>\n",
       "    .dataframe tbody tr th:only-of-type {\n",
       "        vertical-align: middle;\n",
       "    }\n",
       "\n",
       "    .dataframe tbody tr th {\n",
       "        vertical-align: top;\n",
       "    }\n",
       "\n",
       "    .dataframe thead th {\n",
       "        text-align: right;\n",
       "    }\n",
       "</style>\n",
       "<table border=\"1\" class=\"dataframe\">\n",
       "  <thead>\n",
       "    <tr style=\"text-align: right;\">\n",
       "      <th></th>\n",
       "      <th>0</th>\n",
       "      <th>1</th>\n",
       "      <th>2</th>\n",
       "      <th>3</th>\n",
       "      <th>4</th>\n",
       "      <th>5</th>\n",
       "      <th>6</th>\n",
       "      <th>7</th>\n",
       "      <th>8</th>\n",
       "      <th>9</th>\n",
       "      <th>...</th>\n",
       "      <th>45</th>\n",
       "      <th>46</th>\n",
       "      <th>47</th>\n",
       "      <th>48</th>\n",
       "      <th>49</th>\n",
       "      <th>50</th>\n",
       "      <th>51</th>\n",
       "      <th>52</th>\n",
       "      <th>53</th>\n",
       "      <th>54</th>\n",
       "    </tr>\n",
       "  </thead>\n",
       "  <tbody>\n",
       "    <tr>\n",
       "      <th>0</th>\n",
       "      <td>2596</td>\n",
       "      <td>51</td>\n",
       "      <td>3</td>\n",
       "      <td>258</td>\n",
       "      <td>0</td>\n",
       "      <td>510</td>\n",
       "      <td>221</td>\n",
       "      <td>232</td>\n",
       "      <td>148</td>\n",
       "      <td>6279</td>\n",
       "      <td>...</td>\n",
       "      <td>0</td>\n",
       "      <td>0</td>\n",
       "      <td>0</td>\n",
       "      <td>0</td>\n",
       "      <td>0</td>\n",
       "      <td>0</td>\n",
       "      <td>0</td>\n",
       "      <td>0</td>\n",
       "      <td>0</td>\n",
       "      <td>5</td>\n",
       "    </tr>\n",
       "    <tr>\n",
       "      <th>1</th>\n",
       "      <td>2590</td>\n",
       "      <td>56</td>\n",
       "      <td>2</td>\n",
       "      <td>212</td>\n",
       "      <td>-6</td>\n",
       "      <td>390</td>\n",
       "      <td>220</td>\n",
       "      <td>235</td>\n",
       "      <td>151</td>\n",
       "      <td>6225</td>\n",
       "      <td>...</td>\n",
       "      <td>0</td>\n",
       "      <td>0</td>\n",
       "      <td>0</td>\n",
       "      <td>0</td>\n",
       "      <td>0</td>\n",
       "      <td>0</td>\n",
       "      <td>0</td>\n",
       "      <td>0</td>\n",
       "      <td>0</td>\n",
       "      <td>5</td>\n",
       "    </tr>\n",
       "    <tr>\n",
       "      <th>2</th>\n",
       "      <td>2804</td>\n",
       "      <td>139</td>\n",
       "      <td>9</td>\n",
       "      <td>268</td>\n",
       "      <td>65</td>\n",
       "      <td>3180</td>\n",
       "      <td>234</td>\n",
       "      <td>238</td>\n",
       "      <td>135</td>\n",
       "      <td>6121</td>\n",
       "      <td>...</td>\n",
       "      <td>0</td>\n",
       "      <td>0</td>\n",
       "      <td>0</td>\n",
       "      <td>0</td>\n",
       "      <td>0</td>\n",
       "      <td>0</td>\n",
       "      <td>0</td>\n",
       "      <td>0</td>\n",
       "      <td>0</td>\n",
       "      <td>2</td>\n",
       "    </tr>\n",
       "    <tr>\n",
       "      <th>3</th>\n",
       "      <td>2785</td>\n",
       "      <td>155</td>\n",
       "      <td>18</td>\n",
       "      <td>242</td>\n",
       "      <td>118</td>\n",
       "      <td>3090</td>\n",
       "      <td>238</td>\n",
       "      <td>238</td>\n",
       "      <td>122</td>\n",
       "      <td>6211</td>\n",
       "      <td>...</td>\n",
       "      <td>0</td>\n",
       "      <td>0</td>\n",
       "      <td>0</td>\n",
       "      <td>0</td>\n",
       "      <td>0</td>\n",
       "      <td>0</td>\n",
       "      <td>0</td>\n",
       "      <td>0</td>\n",
       "      <td>0</td>\n",
       "      <td>2</td>\n",
       "    </tr>\n",
       "    <tr>\n",
       "      <th>4</th>\n",
       "      <td>2595</td>\n",
       "      <td>45</td>\n",
       "      <td>2</td>\n",
       "      <td>153</td>\n",
       "      <td>-1</td>\n",
       "      <td>391</td>\n",
       "      <td>220</td>\n",
       "      <td>234</td>\n",
       "      <td>150</td>\n",
       "      <td>6172</td>\n",
       "      <td>...</td>\n",
       "      <td>0</td>\n",
       "      <td>0</td>\n",
       "      <td>0</td>\n",
       "      <td>0</td>\n",
       "      <td>0</td>\n",
       "      <td>0</td>\n",
       "      <td>0</td>\n",
       "      <td>0</td>\n",
       "      <td>0</td>\n",
       "      <td>5</td>\n",
       "    </tr>\n",
       "  </tbody>\n",
       "</table>\n",
       "<p>5 rows × 55 columns</p>\n",
       "</div>"
      ],
      "text/plain": [
       "     0    1   2    3    4     5    6    7    8     9  ...  45  46  47  48  49  \\\n",
       "0  2596   51   3  258    0   510  221  232  148  6279 ...   0   0   0   0   0   \n",
       "1  2590   56   2  212   -6   390  220  235  151  6225 ...   0   0   0   0   0   \n",
       "2  2804  139   9  268   65  3180  234  238  135  6121 ...   0   0   0   0   0   \n",
       "3  2785  155  18  242  118  3090  238  238  122  6211 ...   0   0   0   0   0   \n",
       "4  2595   45   2  153   -1   391  220  234  150  6172 ...   0   0   0   0   0   \n",
       "\n",
       "   50  51  52  53  54  \n",
       "0   0   0   0   0   5  \n",
       "1   0   0   0   0   5  \n",
       "2   0   0   0   0   2  \n",
       "3   0   0   0   0   2  \n",
       "4   0   0   0   0   5  \n",
       "\n",
       "[5 rows x 55 columns]"
      ]
     },
     "execution_count": 3,
     "metadata": {},
     "output_type": "execute_result"
    }
   ],
   "source": [
    "data.head()"
   ]
  },
  {
   "cell_type": "code",
   "execution_count": 4,
   "metadata": {
    "collapsed": true
   },
   "outputs": [],
   "source": [
    "import numpy as np\n",
    "from bqplot import *\n",
    "from bqplot.marks import Graph\n",
    "from ipywidgets import IntSlider, Dropdown, RadioButtons, HBox, VBox, Button, Layout\n",
    "from bqplot import pyplot as plt1\n",
    "from bqplot import OrdinalScale\n",
    "\n",
    "from IPython.display import display"
   ]
  },
  {
   "cell_type": "code",
   "execution_count": 5,
   "metadata": {
    "collapsed": true
   },
   "outputs": [],
   "source": [
    "headers=['Elevation','Aspect','Slope','Horizontal_Distance_To_Hydrology','Vertical_Distance_To_Hydrology','Horizontal_Distance_To_Roadways'         \n",
    ",'Hillshade_9am','Hillshade_Noon','Hillshade_3pm','Horizontal_Distance_To_Fire_Points','Wilderness_Area_1','Wilderness_Area_2','Wilderness_Area_3','Wilderness_Area_4']"
   ]
  },
  {
   "cell_type": "code",
   "execution_count": 6,
   "metadata": {
    "collapsed": true
   },
   "outputs": [],
   "source": [
    "headers_init=['Elevation','Aspect','Slope','Horizontal_Distance_To_Hydrology','Vertical_Distance_To_Hydrology','Horizontal_Distance_To_Roadways'         \n",
    ",'Hillshade_9am','Hillshade_Noon','Hillshade_3pm','Horizontal_Distance_To_Fire_Points','Cover_Type']"
   ]
  },
  {
   "cell_type": "code",
   "execution_count": 7,
   "metadata": {
    "collapsed": true
   },
   "outputs": [],
   "source": [
    "soiltypes=[]\n",
    "for i in range(1,41):\n",
    "    soiltypes.append('Soil_Type_'+str(i))\n",
    "\n",
    "soiltypes.append('Cover_Type')"
   ]
  },
  {
   "cell_type": "code",
   "execution_count": 8,
   "metadata": {
    "collapsed": true
   },
   "outputs": [],
   "source": [
    "for i in range(len(soiltypes)):\n",
    "    headers.append(soiltypes[i])"
   ]
  },
  {
   "cell_type": "code",
   "execution_count": 9,
   "metadata": {
    "collapsed": true
   },
   "outputs": [],
   "source": [
    "data.columns=headers"
   ]
  },
  {
   "cell_type": "code",
   "execution_count": 10,
   "metadata": {},
   "outputs": [
    {
     "name": "stdout",
     "output_type": "stream",
     "text": [
      "<class 'pandas.core.frame.DataFrame'>\n",
      "RangeIndex: 581012 entries, 0 to 581011\n",
      "Data columns (total 55 columns):\n",
      "Elevation                             581012 non-null int64\n",
      "Aspect                                581012 non-null int64\n",
      "Slope                                 581012 non-null int64\n",
      "Horizontal_Distance_To_Hydrology      581012 non-null int64\n",
      "Vertical_Distance_To_Hydrology        581012 non-null int64\n",
      "Horizontal_Distance_To_Roadways       581012 non-null int64\n",
      "Hillshade_9am                         581012 non-null int64\n",
      "Hillshade_Noon                        581012 non-null int64\n",
      "Hillshade_3pm                         581012 non-null int64\n",
      "Horizontal_Distance_To_Fire_Points    581012 non-null int64\n",
      "Wilderness_Area_1                     581012 non-null int64\n",
      "Wilderness_Area_2                     581012 non-null int64\n",
      "Wilderness_Area_3                     581012 non-null int64\n",
      "Wilderness_Area_4                     581012 non-null int64\n",
      "Soil_Type_1                           581012 non-null int64\n",
      "Soil_Type_2                           581012 non-null int64\n",
      "Soil_Type_3                           581012 non-null int64\n",
      "Soil_Type_4                           581012 non-null int64\n",
      "Soil_Type_5                           581012 non-null int64\n",
      "Soil_Type_6                           581012 non-null int64\n",
      "Soil_Type_7                           581012 non-null int64\n",
      "Soil_Type_8                           581012 non-null int64\n",
      "Soil_Type_9                           581012 non-null int64\n",
      "Soil_Type_10                          581012 non-null int64\n",
      "Soil_Type_11                          581012 non-null int64\n",
      "Soil_Type_12                          581012 non-null int64\n",
      "Soil_Type_13                          581012 non-null int64\n",
      "Soil_Type_14                          581012 non-null int64\n",
      "Soil_Type_15                          581012 non-null int64\n",
      "Soil_Type_16                          581012 non-null int64\n",
      "Soil_Type_17                          581012 non-null int64\n",
      "Soil_Type_18                          581012 non-null int64\n",
      "Soil_Type_19                          581012 non-null int64\n",
      "Soil_Type_20                          581012 non-null int64\n",
      "Soil_Type_21                          581012 non-null int64\n",
      "Soil_Type_22                          581012 non-null int64\n",
      "Soil_Type_23                          581012 non-null int64\n",
      "Soil_Type_24                          581012 non-null int64\n",
      "Soil_Type_25                          581012 non-null int64\n",
      "Soil_Type_26                          581012 non-null int64\n",
      "Soil_Type_27                          581012 non-null int64\n",
      "Soil_Type_28                          581012 non-null int64\n",
      "Soil_Type_29                          581012 non-null int64\n",
      "Soil_Type_30                          581012 non-null int64\n",
      "Soil_Type_31                          581012 non-null int64\n",
      "Soil_Type_32                          581012 non-null int64\n",
      "Soil_Type_33                          581012 non-null int64\n",
      "Soil_Type_34                          581012 non-null int64\n",
      "Soil_Type_35                          581012 non-null int64\n",
      "Soil_Type_36                          581012 non-null int64\n",
      "Soil_Type_37                          581012 non-null int64\n",
      "Soil_Type_38                          581012 non-null int64\n",
      "Soil_Type_39                          581012 non-null int64\n",
      "Soil_Type_40                          581012 non-null int64\n",
      "Cover_Type                            581012 non-null int64\n",
      "dtypes: int64(55)\n",
      "memory usage: 243.8 MB\n"
     ]
    }
   ],
   "source": [
    "data.info()"
   ]
  },
  {
   "cell_type": "code",
   "execution_count": 11,
   "metadata": {},
   "outputs": [
    {
     "data": {
      "text/html": [
       "<div>\n",
       "<style scoped>\n",
       "    .dataframe tbody tr th:only-of-type {\n",
       "        vertical-align: middle;\n",
       "    }\n",
       "\n",
       "    .dataframe tbody tr th {\n",
       "        vertical-align: top;\n",
       "    }\n",
       "\n",
       "    .dataframe thead th {\n",
       "        text-align: right;\n",
       "    }\n",
       "</style>\n",
       "<table border=\"1\" class=\"dataframe\">\n",
       "  <thead>\n",
       "    <tr style=\"text-align: right;\">\n",
       "      <th></th>\n",
       "      <th>Elevation</th>\n",
       "      <th>Aspect</th>\n",
       "      <th>Slope</th>\n",
       "      <th>Horizontal_Distance_To_Hydrology</th>\n",
       "      <th>Vertical_Distance_To_Hydrology</th>\n",
       "      <th>Horizontal_Distance_To_Roadways</th>\n",
       "      <th>Hillshade_9am</th>\n",
       "      <th>Hillshade_Noon</th>\n",
       "      <th>Hillshade_3pm</th>\n",
       "      <th>Horizontal_Distance_To_Fire_Points</th>\n",
       "      <th>...</th>\n",
       "      <th>Soil_Type_32</th>\n",
       "      <th>Soil_Type_33</th>\n",
       "      <th>Soil_Type_34</th>\n",
       "      <th>Soil_Type_35</th>\n",
       "      <th>Soil_Type_36</th>\n",
       "      <th>Soil_Type_37</th>\n",
       "      <th>Soil_Type_38</th>\n",
       "      <th>Soil_Type_39</th>\n",
       "      <th>Soil_Type_40</th>\n",
       "      <th>Cover_Type</th>\n",
       "    </tr>\n",
       "  </thead>\n",
       "  <tbody>\n",
       "    <tr>\n",
       "      <th>0</th>\n",
       "      <td>2596</td>\n",
       "      <td>51</td>\n",
       "      <td>3</td>\n",
       "      <td>258</td>\n",
       "      <td>0</td>\n",
       "      <td>510</td>\n",
       "      <td>221</td>\n",
       "      <td>232</td>\n",
       "      <td>148</td>\n",
       "      <td>6279</td>\n",
       "      <td>...</td>\n",
       "      <td>0</td>\n",
       "      <td>0</td>\n",
       "      <td>0</td>\n",
       "      <td>0</td>\n",
       "      <td>0</td>\n",
       "      <td>0</td>\n",
       "      <td>0</td>\n",
       "      <td>0</td>\n",
       "      <td>0</td>\n",
       "      <td>5</td>\n",
       "    </tr>\n",
       "    <tr>\n",
       "      <th>1</th>\n",
       "      <td>2590</td>\n",
       "      <td>56</td>\n",
       "      <td>2</td>\n",
       "      <td>212</td>\n",
       "      <td>-6</td>\n",
       "      <td>390</td>\n",
       "      <td>220</td>\n",
       "      <td>235</td>\n",
       "      <td>151</td>\n",
       "      <td>6225</td>\n",
       "      <td>...</td>\n",
       "      <td>0</td>\n",
       "      <td>0</td>\n",
       "      <td>0</td>\n",
       "      <td>0</td>\n",
       "      <td>0</td>\n",
       "      <td>0</td>\n",
       "      <td>0</td>\n",
       "      <td>0</td>\n",
       "      <td>0</td>\n",
       "      <td>5</td>\n",
       "    </tr>\n",
       "    <tr>\n",
       "      <th>2</th>\n",
       "      <td>2804</td>\n",
       "      <td>139</td>\n",
       "      <td>9</td>\n",
       "      <td>268</td>\n",
       "      <td>65</td>\n",
       "      <td>3180</td>\n",
       "      <td>234</td>\n",
       "      <td>238</td>\n",
       "      <td>135</td>\n",
       "      <td>6121</td>\n",
       "      <td>...</td>\n",
       "      <td>0</td>\n",
       "      <td>0</td>\n",
       "      <td>0</td>\n",
       "      <td>0</td>\n",
       "      <td>0</td>\n",
       "      <td>0</td>\n",
       "      <td>0</td>\n",
       "      <td>0</td>\n",
       "      <td>0</td>\n",
       "      <td>2</td>\n",
       "    </tr>\n",
       "    <tr>\n",
       "      <th>3</th>\n",
       "      <td>2785</td>\n",
       "      <td>155</td>\n",
       "      <td>18</td>\n",
       "      <td>242</td>\n",
       "      <td>118</td>\n",
       "      <td>3090</td>\n",
       "      <td>238</td>\n",
       "      <td>238</td>\n",
       "      <td>122</td>\n",
       "      <td>6211</td>\n",
       "      <td>...</td>\n",
       "      <td>0</td>\n",
       "      <td>0</td>\n",
       "      <td>0</td>\n",
       "      <td>0</td>\n",
       "      <td>0</td>\n",
       "      <td>0</td>\n",
       "      <td>0</td>\n",
       "      <td>0</td>\n",
       "      <td>0</td>\n",
       "      <td>2</td>\n",
       "    </tr>\n",
       "    <tr>\n",
       "      <th>4</th>\n",
       "      <td>2595</td>\n",
       "      <td>45</td>\n",
       "      <td>2</td>\n",
       "      <td>153</td>\n",
       "      <td>-1</td>\n",
       "      <td>391</td>\n",
       "      <td>220</td>\n",
       "      <td>234</td>\n",
       "      <td>150</td>\n",
       "      <td>6172</td>\n",
       "      <td>...</td>\n",
       "      <td>0</td>\n",
       "      <td>0</td>\n",
       "      <td>0</td>\n",
       "      <td>0</td>\n",
       "      <td>0</td>\n",
       "      <td>0</td>\n",
       "      <td>0</td>\n",
       "      <td>0</td>\n",
       "      <td>0</td>\n",
       "      <td>5</td>\n",
       "    </tr>\n",
       "  </tbody>\n",
       "</table>\n",
       "<p>5 rows × 55 columns</p>\n",
       "</div>"
      ],
      "text/plain": [
       "   Elevation  Aspect  Slope  Horizontal_Distance_To_Hydrology  \\\n",
       "0       2596      51      3                               258   \n",
       "1       2590      56      2                               212   \n",
       "2       2804     139      9                               268   \n",
       "3       2785     155     18                               242   \n",
       "4       2595      45      2                               153   \n",
       "\n",
       "   Vertical_Distance_To_Hydrology  Horizontal_Distance_To_Roadways  \\\n",
       "0                               0                              510   \n",
       "1                              -6                              390   \n",
       "2                              65                             3180   \n",
       "3                             118                             3090   \n",
       "4                              -1                              391   \n",
       "\n",
       "   Hillshade_9am  Hillshade_Noon  Hillshade_3pm  \\\n",
       "0            221             232            148   \n",
       "1            220             235            151   \n",
       "2            234             238            135   \n",
       "3            238             238            122   \n",
       "4            220             234            150   \n",
       "\n",
       "   Horizontal_Distance_To_Fire_Points     ...      Soil_Type_32  Soil_Type_33  \\\n",
       "0                                6279     ...                 0             0   \n",
       "1                                6225     ...                 0             0   \n",
       "2                                6121     ...                 0             0   \n",
       "3                                6211     ...                 0             0   \n",
       "4                                6172     ...                 0             0   \n",
       "\n",
       "   Soil_Type_34  Soil_Type_35  Soil_Type_36  Soil_Type_37  Soil_Type_38  \\\n",
       "0             0             0             0             0             0   \n",
       "1             0             0             0             0             0   \n",
       "2             0             0             0             0             0   \n",
       "3             0             0             0             0             0   \n",
       "4             0             0             0             0             0   \n",
       "\n",
       "   Soil_Type_39  Soil_Type_40  Cover_Type  \n",
       "0             0             0           5  \n",
       "1             0             0           5  \n",
       "2             0             0           2  \n",
       "3             0             0           2  \n",
       "4             0             0           5  \n",
       "\n",
       "[5 rows x 55 columns]"
      ]
     },
     "execution_count": 11,
     "metadata": {},
     "output_type": "execute_result"
    }
   ],
   "source": [
    "data.head()"
   ]
  },
  {
   "cell_type": "code",
   "execution_count": 12,
   "metadata": {},
   "outputs": [
    {
     "data": {
      "text/plain": [
       "2    283301\n",
       "1    211840\n",
       "3     35754\n",
       "7     20510\n",
       "6     17367\n",
       "5      9493\n",
       "4      2747\n",
       "Name: Cover_Type, dtype: int64"
      ]
     },
     "execution_count": 12,
     "metadata": {},
     "output_type": "execute_result"
    }
   ],
   "source": [
    "data['Cover_Type'].value_counts()"
   ]
  },
  {
   "cell_type": "code",
   "execution_count": 13,
   "metadata": {
    "collapsed": true
   },
   "outputs": [],
   "source": [
    "from sklearn.model_selection import train_test_split"
   ]
  },
  {
   "cell_type": "code",
   "execution_count": 14,
   "metadata": {
    "collapsed": true
   },
   "outputs": [],
   "source": [
    "train,test=train_test_split(data,test_size=0.3,random_state=0,stratify=data.Cover_Type)"
   ]
  },
  {
   "cell_type": "code",
   "execution_count": 15,
   "metadata": {},
   "outputs": [
    {
     "data": {
      "text/plain": [
       "(406708, 55)"
      ]
     },
     "execution_count": 15,
     "metadata": {},
     "output_type": "execute_result"
    }
   ],
   "source": [
    "train.shape"
   ]
  },
  {
   "cell_type": "code",
   "execution_count": 16,
   "metadata": {},
   "outputs": [
    {
     "data": {
      "text/plain": [
       "(174304, 55)"
      ]
     },
     "execution_count": 16,
     "metadata": {},
     "output_type": "execute_result"
    }
   ],
   "source": [
    "test.shape"
   ]
  },
  {
   "cell_type": "code",
   "execution_count": 17,
   "metadata": {},
   "outputs": [
    {
     "data": {
      "text/plain": [
       "<matplotlib.axes._subplots.AxesSubplot at 0x7f42ec676860>"
      ]
     },
     "execution_count": 17,
     "metadata": {},
     "output_type": "execute_result"
    },
    {
     "data": {
      "image/png": "[encoded data removed]",
      "text/plain": [
       "<matplotlib.figure.Figure at 0x7f42ec676780>"
      ]
     },
     "metadata": {},
     "output_type": "display_data"
    }
   ],
   "source": [
    "import matplotlib.style as style\n",
    "style.use('fivethirtyeight')\n",
    "colormap = plt.cm.viridis\n",
    "plt.figure(figsize=(14,12))\n",
    "plt.title('Pearson Correlation of Features', y=1.0, size=15)\n",
    "sns.heatmap(train.astype(float).corr(),linewidths=0.05,vmax=1.0, square=True, cmap=colormap, linecolor='black', annot=False)"
   ]
  },
  {
   "cell_type": "code",
   "execution_count": 18,
   "metadata": {},
   "outputs": [
    {
     "name": "stdout",
     "output_type": "stream",
     "text": [
      "Feature:- Soil_Type_1 has 2 unique categories\n",
      "Feature:- Soil_Type_2 has 2 unique categories\n",
      "Feature:- Soil_Type_3 has 2 unique categories\n",
      "Feature:- Soil_Type_4 has 2 unique categories\n",
      "Feature:- Soil_Type_5 has 2 unique categories\n",
      "Feature:- Soil_Type_6 has 2 unique categories\n",
      "Feature:- Soil_Type_7 has 2 unique categories\n",
      "Feature:- Soil_Type_8 has 2 unique categories\n",
      "Feature:- Soil_Type_9 has 2 unique categories\n",
      "Feature:- Soil_Type_10 has 2 unique categories\n",
      "Feature:- Soil_Type_11 has 2 unique categories\n",
      "Feature:- Soil_Type_12 has 2 unique categories\n",
      "Feature:- Soil_Type_13 has 2 unique categories\n",
      "Feature:- Soil_Type_14 has 2 unique categories\n",
      "Feature:- Soil_Type_15 has 2 unique categories\n",
      "Feature:- Soil_Type_16 has 2 unique categories\n",
      "Feature:- Soil_Type_17 has 2 unique categories\n",
      "Feature:- Soil_Type_18 has 2 unique categories\n",
      "Feature:- Soil_Type_19 has 2 unique categories\n",
      "Feature:- Soil_Type_20 has 2 unique categories\n",
      "Feature:- Soil_Type_21 has 2 unique categories\n",
      "Feature:- Soil_Type_22 has 2 unique categories\n",
      "Feature:- Soil_Type_23 has 2 unique categories\n",
      "Feature:- Soil_Type_24 has 2 unique categories\n",
      "Feature:- Soil_Type_25 has 2 unique categories\n",
      "Feature:- Soil_Type_26 has 2 unique categories\n",
      "Feature:- Soil_Type_27 has 2 unique categories\n",
      "Feature:- Soil_Type_28 has 2 unique categories\n",
      "Feature:- Soil_Type_29 has 2 unique categories\n",
      "Feature:- Soil_Type_30 has 2 unique categories\n",
      "Feature:- Soil_Type_31 has 2 unique categories\n",
      "Feature:- Soil_Type_32 has 2 unique categories\n",
      "Feature:- Soil_Type_33 has 2 unique categories\n",
      "Feature:- Soil_Type_34 has 2 unique categories\n",
      "Feature:- Soil_Type_35 has 2 unique categories\n",
      "Feature:- Soil_Type_36 has 2 unique categories\n",
      "Feature:- Soil_Type_37 has 2 unique categories\n",
      "Feature:- Soil_Type_38 has 2 unique categories\n",
      "Feature:- Soil_Type_39 has 2 unique categories\n",
      "Feature:- Soil_Type_40 has 2 unique categories\n",
      "Feature:- Cover_Type has 7 unique categories\n"
     ]
    }
   ],
   "source": [
    "for col_name in soiltypes:\n",
    "    if train[col_name].dtype=='int64':\n",
    "        unique_cat=len(train[col_name].unique())\n",
    "        print(\"Feature:- {col_name} has {unique_cat} unique categories\".format(col_name=col_name,unique_cat=unique_cat))"
   ]
  },
  {
   "cell_type": "code",
   "execution_count": 19,
   "metadata": {
    "collapsed": true
   },
   "outputs": [],
   "source": [
    "#Remove Constant columns\n",
    "train_cons = []\n",
    "test_cons=[]\n",
    "for col in train.columns:\n",
    "    if train[col].std() == 0:\n",
    "        train_cons.append(col)\n",
    "        test_cons.append(col)\n",
    "\n",
    "train=train.drop(train_cons,axis=1)\n",
    "test=test.drop(test_cons,axis=1)"
   ]
  },
  {
   "cell_type": "code",
   "execution_count": 20,
   "metadata": {
    "collapsed": true
   },
   "outputs": [],
   "source": [
    "def feature_engineering(data2,train_cons):\n",
    "    \n",
    "    \n",
    "    data = data2\n",
    "    \n",
    "    data['Ele_minus_VDtHyd'] = data.Elevation-data.Vertical_Distance_To_Hydrology\n",
    "         \n",
    "    data['Ele_plus_VDtHyd'] = data.Elevation+data.Vertical_Distance_To_Hydrology\n",
    "     \n",
    "    data['Distanse_to_Hydrology'] = (data['Horizontal_Distance_To_Hydrology']**2+data['Vertical_Distance_To_Hydrology']**2)**0.5\n",
    "     \n",
    "    data['Hydro_plus_Fire'] = data['Horizontal_Distance_To_Hydrology']+data['Horizontal_Distance_To_Fire_Points']\n",
    "     \n",
    "    data['Hydro_minus_Fire'] = data['Horizontal_Distance_To_Hydrology']-data['Horizontal_Distance_To_Fire_Points']\n",
    "     \n",
    "    data['Hydro_plus_Road'] = data['Horizontal_Distance_To_Hydrology']+data['Horizontal_Distance_To_Roadways']\n",
    "     \n",
    "    data['Hydro_minus_Road'] = data['Horizontal_Distance_To_Hydrology']-data['Horizontal_Distance_To_Roadways']\n",
    "     \n",
    "    data['Fire_plus_Road'] = data['Horizontal_Distance_To_Fire_Points']+data['Horizontal_Distance_To_Roadways']\n",
    "     \n",
    "    data['Fire_minus_Road'] = data['Horizontal_Distance_To_Fire_Points']-data['Horizontal_Distance_To_Roadways']\n",
    "    \n",
    "    #data['Soil']=0\n",
    "    #for i in range(1,41):\n",
    "    #    if ('Soil_Type_'+str(i)) not in train_cons:\n",
    "    #        data['Soil']=data['Soil']+i*data['Soil_Type_'+str(i)]\n",
    "      \n",
    "     \n",
    "    #data['Wilderness_Area']=0\n",
    "    #for i in range(1,5):\n",
    "    #    data['Wilderness_Area']=data['Wilderness_Area']+i*data['Wilderness_Area_'+str(i)]\n",
    "      \n",
    "    return data"
   ]
  },
  {
   "cell_type": "code",
   "execution_count": 21,
   "metadata": {
    "collapsed": true
   },
   "outputs": [],
   "source": [
    "train_df = feature_engineering(train,train_cons)\n",
    "test_df = feature_engineering(test,train_cons)"
   ]
  },
  {
   "cell_type": "code",
   "execution_count": 22,
   "metadata": {
    "collapsed": true
   },
   "outputs": [],
   "source": [
    "def get_features():\n",
    "    return ['Elevation','Aspect','Slope','Horizontal_Distance_To_Hydrology','Vertical_Distance_To_Hydrology',\n",
    "    'Horizontal_Distance_To_Roadways','Hillshade_9am','Hillshade_Noon','Hillshade_3pm','Horizontal_Distance_To_Fire_Points',\n",
    "    'Ele_minus_VDtHyd','Ele_plus_VDtHyd','Distanse_to_Hydrology','Hydro_plus_Fire','Hydro_minus_Fire','Hydro_plus_Road',\n",
    "    'Hydro_minus_Road','Fire_plus_Road','Fire_minus_Road']"
   ]
  },
  {
   "cell_type": "code",
   "execution_count": 23,
   "metadata": {
    "collapsed": true
   },
   "outputs": [],
   "source": [
    "features_imp=get_features()\n",
    "for i in range(1,41):\n",
    "    features_imp.append('Soil_Type_'+str(i))\n",
    "for j in range(1,5):\n",
    "    features_imp.append('Wilderness_Area_'+str(j))"
   ]
  },
  {
   "cell_type": "code",
   "execution_count": 24,
   "metadata": {
    "collapsed": true
   },
   "outputs": [],
   "source": [
    "X_train=train_df[features_imp]\n",
    "X_test=test_df[features_imp]"
   ]
  },
  {
   "cell_type": "code",
   "execution_count": 25,
   "metadata": {
    "collapsed": true
   },
   "outputs": [],
   "source": [
    "Y_train=train_df[['Cover_Type']]\n",
    "Y_test=test_df[['Cover_Type']]"
   ]
  },
  {
   "cell_type": "code",
   "execution_count": 26,
   "metadata": {},
   "outputs": [
    {
     "data": {
      "text/html": [
       "<div>\n",
       "<style scoped>\n",
       "    .dataframe tbody tr th:only-of-type {\n",
       "        vertical-align: middle;\n",
       "    }\n",
       "\n",
       "    .dataframe tbody tr th {\n",
       "        vertical-align: top;\n",
       "    }\n",
       "\n",
       "    .dataframe thead th {\n",
       "        text-align: right;\n",
       "    }\n",
       "</style>\n",
       "<table border=\"1\" class=\"dataframe\">\n",
       "  <thead>\n",
       "    <tr style=\"text-align: right;\">\n",
       "      <th></th>\n",
       "      <th>Elevation</th>\n",
       "      <th>Aspect</th>\n",
       "      <th>Slope</th>\n",
       "      <th>Horizontal_Distance_To_Hydrology</th>\n",
       "      <th>Vertical_Distance_To_Hydrology</th>\n",
       "      <th>Horizontal_Distance_To_Roadways</th>\n",
       "      <th>Hillshade_9am</th>\n",
       "      <th>Hillshade_Noon</th>\n",
       "      <th>Hillshade_3pm</th>\n",
       "      <th>Horizontal_Distance_To_Fire_Points</th>\n",
       "      <th>...</th>\n",
       "      <th>Soil_Type_35</th>\n",
       "      <th>Soil_Type_36</th>\n",
       "      <th>Soil_Type_37</th>\n",
       "      <th>Soil_Type_38</th>\n",
       "      <th>Soil_Type_39</th>\n",
       "      <th>Soil_Type_40</th>\n",
       "      <th>Wilderness_Area_1</th>\n",
       "      <th>Wilderness_Area_2</th>\n",
       "      <th>Wilderness_Area_3</th>\n",
       "      <th>Wilderness_Area_4</th>\n",
       "    </tr>\n",
       "  </thead>\n",
       "  <tbody>\n",
       "    <tr>\n",
       "      <th>15190</th>\n",
       "      <td>2736</td>\n",
       "      <td>4</td>\n",
       "      <td>15</td>\n",
       "      <td>60</td>\n",
       "      <td>17</td>\n",
       "      <td>3064</td>\n",
       "      <td>200</td>\n",
       "      <td>211</td>\n",
       "      <td>147</td>\n",
       "      <td>6249</td>\n",
       "      <td>...</td>\n",
       "      <td>0</td>\n",
       "      <td>0</td>\n",
       "      <td>0</td>\n",
       "      <td>0</td>\n",
       "      <td>0</td>\n",
       "      <td>0</td>\n",
       "      <td>1</td>\n",
       "      <td>0</td>\n",
       "      <td>0</td>\n",
       "      <td>0</td>\n",
       "    </tr>\n",
       "    <tr>\n",
       "      <th>560331</th>\n",
       "      <td>2600</td>\n",
       "      <td>195</td>\n",
       "      <td>33</td>\n",
       "      <td>256</td>\n",
       "      <td>115</td>\n",
       "      <td>1074</td>\n",
       "      <td>195</td>\n",
       "      <td>245</td>\n",
       "      <td>161</td>\n",
       "      <td>1050</td>\n",
       "      <td>...</td>\n",
       "      <td>0</td>\n",
       "      <td>0</td>\n",
       "      <td>0</td>\n",
       "      <td>0</td>\n",
       "      <td>0</td>\n",
       "      <td>0</td>\n",
       "      <td>0</td>\n",
       "      <td>0</td>\n",
       "      <td>1</td>\n",
       "      <td>0</td>\n",
       "    </tr>\n",
       "    <tr>\n",
       "      <th>323159</th>\n",
       "      <td>2922</td>\n",
       "      <td>123</td>\n",
       "      <td>13</td>\n",
       "      <td>192</td>\n",
       "      <td>48</td>\n",
       "      <td>1530</td>\n",
       "      <td>241</td>\n",
       "      <td>230</td>\n",
       "      <td>115</td>\n",
       "      <td>2078</td>\n",
       "      <td>...</td>\n",
       "      <td>0</td>\n",
       "      <td>0</td>\n",
       "      <td>0</td>\n",
       "      <td>0</td>\n",
       "      <td>0</td>\n",
       "      <td>0</td>\n",
       "      <td>0</td>\n",
       "      <td>0</td>\n",
       "      <td>1</td>\n",
       "      <td>0</td>\n",
       "    </tr>\n",
       "    <tr>\n",
       "      <th>349637</th>\n",
       "      <td>3111</td>\n",
       "      <td>291</td>\n",
       "      <td>8</td>\n",
       "      <td>446</td>\n",
       "      <td>45</td>\n",
       "      <td>2355</td>\n",
       "      <td>197</td>\n",
       "      <td>239</td>\n",
       "      <td>181</td>\n",
       "      <td>2491</td>\n",
       "      <td>...</td>\n",
       "      <td>0</td>\n",
       "      <td>0</td>\n",
       "      <td>0</td>\n",
       "      <td>0</td>\n",
       "      <td>0</td>\n",
       "      <td>0</td>\n",
       "      <td>0</td>\n",
       "      <td>0</td>\n",
       "      <td>1</td>\n",
       "      <td>0</td>\n",
       "    </tr>\n",
       "    <tr>\n",
       "      <th>137117</th>\n",
       "      <td>2760</td>\n",
       "      <td>18</td>\n",
       "      <td>5</td>\n",
       "      <td>330</td>\n",
       "      <td>9</td>\n",
       "      <td>1806</td>\n",
       "      <td>216</td>\n",
       "      <td>229</td>\n",
       "      <td>150</td>\n",
       "      <td>698</td>\n",
       "      <td>...</td>\n",
       "      <td>0</td>\n",
       "      <td>0</td>\n",
       "      <td>0</td>\n",
       "      <td>0</td>\n",
       "      <td>0</td>\n",
       "      <td>0</td>\n",
       "      <td>1</td>\n",
       "      <td>0</td>\n",
       "      <td>0</td>\n",
       "      <td>0</td>\n",
       "    </tr>\n",
       "  </tbody>\n",
       "</table>\n",
       "<p>5 rows × 63 columns</p>\n",
       "</div>"
      ],
      "text/plain": [
       "        Elevation  Aspect  Slope  Horizontal_Distance_To_Hydrology  \\\n",
       "15190        2736       4     15                                60   \n",
       "560331       2600     195     33                               256   \n",
       "323159       2922     123     13                               192   \n",
       "349637       3111     291      8                               446   \n",
       "137117       2760      18      5                               330   \n",
       "\n",
       "        Vertical_Distance_To_Hydrology  Horizontal_Distance_To_Roadways  \\\n",
       "15190                               17                             3064   \n",
       "560331                             115                             1074   \n",
       "323159                              48                             1530   \n",
       "349637                              45                             2355   \n",
       "137117                               9                             1806   \n",
       "\n",
       "        Hillshade_9am  Hillshade_Noon  Hillshade_3pm  \\\n",
       "15190             200             211            147   \n",
       "560331            195             245            161   \n",
       "323159            241             230            115   \n",
       "349637            197             239            181   \n",
       "137117            216             229            150   \n",
       "\n",
       "        Horizontal_Distance_To_Fire_Points        ...          Soil_Type_35  \\\n",
       "15190                                 6249        ...                     0   \n",
       "560331                                1050        ...                     0   \n",
       "323159                                2078        ...                     0   \n",
       "349637                                2491        ...                     0   \n",
       "137117                                 698        ...                     0   \n",
       "\n",
       "        Soil_Type_36  Soil_Type_37  Soil_Type_38  Soil_Type_39  Soil_Type_40  \\\n",
       "15190              0             0             0             0             0   \n",
       "560331             0             0             0             0             0   \n",
       "323159             0             0             0             0             0   \n",
       "349637             0             0             0             0             0   \n",
       "137117             0             0             0             0             0   \n",
       "\n",
       "        Wilderness_Area_1  Wilderness_Area_2  Wilderness_Area_3  \\\n",
       "15190                   1                  0                  0   \n",
       "560331                  0                  0                  1   \n",
       "323159                  0                  0                  1   \n",
       "349637                  0                  0                  1   \n",
       "137117                  1                  0                  0   \n",
       "\n",
       "        Wilderness_Area_4  \n",
       "15190                   0  \n",
       "560331                  0  \n",
       "323159                  0  \n",
       "349637                  0  \n",
       "137117                  0  \n",
       "\n",
       "[5 rows x 63 columns]"
      ]
     },
     "execution_count": 26,
     "metadata": {},
     "output_type": "execute_result"
    }
   ],
   "source": [
    "X_train.head()"
   ]
  },
  {
   "cell_type": "code",
   "execution_count": 27,
   "metadata": {
    "collapsed": true
   },
   "outputs": [],
   "source": [
    "Y_train=Y_train-1\n",
    "Y_test=Y_test-1"
   ]
  },
  {
   "cell_type": "code",
   "execution_count": 28,
   "metadata": {
    "collapsed": true
   },
   "outputs": [],
   "source": [
    "from sklearn.preprocessing import StandardScaler"
   ]
  },
  {
   "cell_type": "code",
   "execution_count": 29,
   "metadata": {
    "collapsed": true
   },
   "outputs": [],
   "source": [
    "features_num=get_features()"
   ]
  },
  {
   "cell_type": "code",
   "execution_count": 30,
   "metadata": {
    "collapsed": true
   },
   "outputs": [],
   "source": [
    "X_train_num_Scld=StandardScaler().fit_transform(X_train[features_num])"
   ]
  },
  {
   "cell_type": "code",
   "execution_count": 31,
   "metadata": {},
   "outputs": [
    {
     "data": {
      "text/plain": [
       "19"
      ]
     },
     "execution_count": 31,
     "metadata": {},
     "output_type": "execute_result"
    }
   ],
   "source": [
    "len(features_num)"
   ]
  },
  {
   "cell_type": "code",
   "execution_count": 32,
   "metadata": {},
   "outputs": [
    {
     "name": "stderr",
     "output_type": "stream",
     "text": [
      "/home/namanda/anaconda3.6/lib/python3.6/site-packages/pandas/core/indexing.py:537: SettingWithCopyWarning: \n",
      "A value is trying to be set on a copy of a slice from a DataFrame.\n",
      "Try using .loc[row_indexer,col_indexer] = value instead\n",
      "\n",
      "See the caveats in the documentation: http://pandas.pydata.org/pandas-docs/stable/indexing.html#indexing-view-versus-copy\n",
      "  self.obj[item] = s\n"
     ]
    }
   ],
   "source": [
    "X_train.loc[:,:len(features_num)]=X_train_num_Scld"
   ]
  },
  {
   "cell_type": "code",
   "execution_count": 33,
   "metadata": {},
   "outputs": [
    {
     "name": "stdout",
     "output_type": "stream",
     "text": [
      "<class 'pandas.core.frame.DataFrame'>\n",
      "Int64Index: 406708 entries, 15190 to 269194\n",
      "Data columns (total 63 columns):\n",
      "Elevation                             406708 non-null float64\n",
      "Aspect                                406708 non-null float64\n",
      "Slope                                 406708 non-null float64\n",
      "Horizontal_Distance_To_Hydrology      406708 non-null float64\n",
      "Vertical_Distance_To_Hydrology        406708 non-null float64\n",
      "Horizontal_Distance_To_Roadways       406708 non-null float64\n",
      "Hillshade_9am                         406708 non-null float64\n",
      "Hillshade_Noon                        406708 non-null float64\n",
      "Hillshade_3pm                         406708 non-null float64\n",
      "Horizontal_Distance_To_Fire_Points    406708 non-null float64\n",
      "Ele_minus_VDtHyd                      406708 non-null float64\n",
      "Ele_plus_VDtHyd                       406708 non-null float64\n",
      "Distanse_to_Hydrology                 406708 non-null float64\n",
      "Hydro_plus_Fire                       406708 non-null float64\n",
      "Hydro_minus_Fire                      406708 non-null float64\n",
      "Hydro_plus_Road                       406708 non-null float64\n",
      "Hydro_minus_Road                      406708 non-null float64\n",
      "Fire_plus_Road                        406708 non-null float64\n",
      "Fire_minus_Road                       406708 non-null float64\n",
      "Soil_Type_1                           406708 non-null int64\n",
      "Soil_Type_2                           406708 non-null int64\n",
      "Soil_Type_3                           406708 non-null int64\n",
      "Soil_Type_4                           406708 non-null int64\n",
      "Soil_Type_5                           406708 non-null int64\n",
      "Soil_Type_6                           406708 non-null int64\n",
      "Soil_Type_7                           406708 non-null int64\n",
      "Soil_Type_8                           406708 non-null int64\n",
      "Soil_Type_9                           406708 non-null int64\n",
      "Soil_Type_10                          406708 non-null int64\n",
      "Soil_Type_11                          406708 non-null int64\n",
      "Soil_Type_12                          406708 non-null int64\n",
      "Soil_Type_13                          406708 non-null int64\n",
      "Soil_Type_14                          406708 non-null int64\n",
      "Soil_Type_15                          406708 non-null int64\n",
      "Soil_Type_16                          406708 non-null int64\n",
      "Soil_Type_17                          406708 non-null int64\n",
      "Soil_Type_18                          406708 non-null int64\n",
      "Soil_Type_19                          406708 non-null int64\n",
      "Soil_Type_20                          406708 non-null int64\n",
      "Soil_Type_21                          406708 non-null int64\n",
      "Soil_Type_22                          406708 non-null int64\n",
      "Soil_Type_23                          406708 non-null int64\n",
      "Soil_Type_24                          406708 non-null int64\n",
      "Soil_Type_25                          406708 non-null int64\n",
      "Soil_Type_26                          406708 non-null int64\n",
      "Soil_Type_27                          406708 non-null int64\n",
      "Soil_Type_28                          406708 non-null int64\n",
      "Soil_Type_29                          406708 non-null int64\n",
      "Soil_Type_30                          406708 non-null int64\n",
      "Soil_Type_31                          406708 non-null int64\n",
      "Soil_Type_32                          406708 non-null int64\n",
      "Soil_Type_33                          406708 non-null int64\n",
      "Soil_Type_34                          406708 non-null int64\n",
      "Soil_Type_35                          406708 non-null int64\n",
      "Soil_Type_36                          406708 non-null int64\n",
      "Soil_Type_37                          406708 non-null int64\n",
      "Soil_Type_38                          406708 non-null int64\n",
      "Soil_Type_39                          406708 non-null int64\n",
      "Soil_Type_40                          406708 non-null int64\n",
      "Wilderness_Area_1                     406708 non-null int64\n",
      "Wilderness_Area_2                     406708 non-null int64\n",
      "Wilderness_Area_3                     406708 non-null int64\n",
      "Wilderness_Area_4                     406708 non-null int64\n",
      "dtypes: float64(19), int64(44)\n",
      "memory usage: 198.6 MB\n"
     ]
    }
   ],
   "source": [
    "X_train.info()"
   ]
  },
  {
   "cell_type": "code",
   "execution_count": null,
   "metadata": {
    "collapsed": true
   },
   "outputs": [],
   "source": []
  },
  {
   "cell_type": "code",
   "execution_count": 34,
   "metadata": {
    "collapsed": true
   },
   "outputs": [],
   "source": [
    "X_test_num_Scld=StandardScaler().fit_transform(X_test[features_num])"
   ]
  },
  {
   "cell_type": "code",
   "execution_count": 35,
   "metadata": {},
   "outputs": [
    {
     "data": {
      "text/plain": [
       "19"
      ]
     },
     "execution_count": 35,
     "metadata": {},
     "output_type": "execute_result"
    }
   ],
   "source": [
    "len(features_num)"
   ]
  },
  {
   "cell_type": "code",
   "execution_count": 36,
   "metadata": {},
   "outputs": [
    {
     "name": "stderr",
     "output_type": "stream",
     "text": [
      "/home/namanda/anaconda3.6/lib/python3.6/site-packages/pandas/core/indexing.py:537: SettingWithCopyWarning: \n",
      "A value is trying to be set on a copy of a slice from a DataFrame.\n",
      "Try using .loc[row_indexer,col_indexer] = value instead\n",
      "\n",
      "See the caveats in the documentation: http://pandas.pydata.org/pandas-docs/stable/indexing.html#indexing-view-versus-copy\n",
      "  self.obj[item] = s\n"
     ]
    }
   ],
   "source": [
    "X_test.loc[:,:len(features_num)]=X_test_num_Scld"
   ]
  },
  {
   "cell_type": "code",
   "execution_count": 37,
   "metadata": {},
   "outputs": [
    {
     "name": "stdout",
     "output_type": "stream",
     "text": [
      "<class 'pandas.core.frame.DataFrame'>\n",
      "Int64Index: 174304 entries, 3990 to 469778\n",
      "Data columns (total 63 columns):\n",
      "Elevation                             174304 non-null float64\n",
      "Aspect                                174304 non-null float64\n",
      "Slope                                 174304 non-null float64\n",
      "Horizontal_Distance_To_Hydrology      174304 non-null float64\n",
      "Vertical_Distance_To_Hydrology        174304 non-null float64\n",
      "Horizontal_Distance_To_Roadways       174304 non-null float64\n",
      "Hillshade_9am                         174304 non-null float64\n",
      "Hillshade_Noon                        174304 non-null float64\n",
      "Hillshade_3pm                         174304 non-null float64\n",
      "Horizontal_Distance_To_Fire_Points    174304 non-null float64\n",
      "Ele_minus_VDtHyd                      174304 non-null float64\n",
      "Ele_plus_VDtHyd                       174304 non-null float64\n",
      "Distanse_to_Hydrology                 174304 non-null float64\n",
      "Hydro_plus_Fire                       174304 non-null float64\n",
      "Hydro_minus_Fire                      174304 non-null float64\n",
      "Hydro_plus_Road                       174304 non-null float64\n",
      "Hydro_minus_Road                      174304 non-null float64\n",
      "Fire_plus_Road                        174304 non-null float64\n",
      "Fire_minus_Road                       174304 non-null float64\n",
      "Soil_Type_1                           174304 non-null int64\n",
      "Soil_Type_2                           174304 non-null int64\n",
      "Soil_Type_3                           174304 non-null int64\n",
      "Soil_Type_4                           174304 non-null int64\n",
      "Soil_Type_5                           174304 non-null int64\n",
      "Soil_Type_6                           174304 non-null int64\n",
      "Soil_Type_7                           174304 non-null int64\n",
      "Soil_Type_8                           174304 non-null int64\n",
      "Soil_Type_9                           174304 non-null int64\n",
      "Soil_Type_10                          174304 non-null int64\n",
      "Soil_Type_11                          174304 non-null int64\n",
      "Soil_Type_12                          174304 non-null int64\n",
      "Soil_Type_13                          174304 non-null int64\n",
      "Soil_Type_14                          174304 non-null int64\n",
      "Soil_Type_15                          174304 non-null int64\n",
      "Soil_Type_16                          174304 non-null int64\n",
      "Soil_Type_17                          174304 non-null int64\n",
      "Soil_Type_18                          174304 non-null int64\n",
      "Soil_Type_19                          174304 non-null int64\n",
      "Soil_Type_20                          174304 non-null int64\n",
      "Soil_Type_21                          174304 non-null int64\n",
      "Soil_Type_22                          174304 non-null int64\n",
      "Soil_Type_23                          174304 non-null int64\n",
      "Soil_Type_24                          174304 non-null int64\n",
      "Soil_Type_25                          174304 non-null int64\n",
      "Soil_Type_26                          174304 non-null int64\n",
      "Soil_Type_27                          174304 non-null int64\n",
      "Soil_Type_28                          174304 non-null int64\n",
      "Soil_Type_29                          174304 non-null int64\n",
      "Soil_Type_30                          174304 non-null int64\n",
      "Soil_Type_31                          174304 non-null int64\n",
      "Soil_Type_32                          174304 non-null int64\n",
      "Soil_Type_33                          174304 non-null int64\n",
      "Soil_Type_34                          174304 non-null int64\n",
      "Soil_Type_35                          174304 non-null int64\n",
      "Soil_Type_36                          174304 non-null int64\n",
      "Soil_Type_37                          174304 non-null int64\n",
      "Soil_Type_38                          174304 non-null int64\n",
      "Soil_Type_39                          174304 non-null int64\n",
      "Soil_Type_40                          174304 non-null int64\n",
      "Wilderness_Area_1                     174304 non-null int64\n",
      "Wilderness_Area_2                     174304 non-null int64\n",
      "Wilderness_Area_3                     174304 non-null int64\n",
      "Wilderness_Area_4                     174304 non-null int64\n",
      "dtypes: float64(19), int64(44)\n",
      "memory usage: 85.1 MB\n"
     ]
    }
   ],
   "source": [
    "X_test.info()"
   ]
  },
  {
   "cell_type": "code",
   "execution_count": 38,
   "metadata": {},
   "outputs": [
    {
     "name": "stderr",
     "output_type": "stream",
     "text": [
      "/home/namanda/anaconda3.6/lib/python3.6/site-packages/seaborn/categorical.py:1428: FutureWarning: remove_na is deprecated and is a private function. Do not use.\n",
      "  stat_data = remove_na(group_data)\n"
     ]
    },
    {
     "data": {
      "text/plain": [
       "<matplotlib.text.Text at 0x7f432cde2160>"
      ]
     },
     "execution_count": 38,
     "metadata": {},
     "output_type": "execute_result"
    },
    {
     "data": {
      "image/png": "[encoded data removed]",
      "text/plain": [
       "<matplotlib.figure.Figure at 0x7f432cd8b9b0>"
      ]
     },
     "metadata": {},
     "output_type": "display_data"
    }
   ],
   "source": [
    "ax=sns.countplot(x='Cover_Type', data=train_df);\n",
    "total=float(len(data))\n",
    "plt.title('Frequency of the target class in the train Data Set')\n",
    "plt.ylabel('Frequency of the Target')\n",
    "plt.xlabel('Target Class')"
   ]
  },
  {
   "cell_type": "code",
   "execution_count": 39,
   "metadata": {},
   "outputs": [
    {
     "name": "stderr",
     "output_type": "stream",
     "text": [
      "/home/namanda/anaconda3.6/lib/python3.6/site-packages/seaborn/categorical.py:1428: FutureWarning: remove_na is deprecated and is a private function. Do not use.\n",
      "  stat_data = remove_na(group_data)\n"
     ]
    },
    {
     "data": {
      "text/plain": [
       "<matplotlib.text.Text at 0x7f42eb718f28>"
      ]
     },
     "execution_count": 39,
     "metadata": {},
     "output_type": "execute_result"
    },
    {
     "data": {
      "image/png": "[encoded data removed]",
      "text/plain": [
       "<matplotlib.figure.Figure at 0x7f43508596a0>"
      ]
     },
     "metadata": {},
     "output_type": "display_data"
    }
   ],
   "source": [
    "ax=sns.countplot(x='Cover_Type', data=test_df);\n",
    "total=float(len(data))\n",
    "plt.title('Frequency of the target class in the test Data Set')\n",
    "plt.ylabel('Frequency of the Target')\n",
    "plt.xlabel('Target Class')"
   ]
  },
  {
   "cell_type": "markdown",
   "metadata": {},
   "source": [
    "# Without Noise"
   ]
  },
  {
   "cell_type": "code",
   "execution_count": 40,
   "metadata": {},
   "outputs": [
    {
     "name": "stderr",
     "output_type": "stream",
     "text": [
      "/home/namanda/anaconda3.6/lib/python3.6/site-packages/h5py/__init__.py:34: FutureWarning: Conversion of the second argument of issubdtype from `float` to `np.floating` is deprecated. In future, it will be treated as `np.float64 == np.dtype(float).type`.\n",
      "  from ._conv import register_converters as _register_converters\n",
      "Using TensorFlow backend.\n"
     ]
    }
   ],
   "source": [
    "import numpy as np\n",
    "import keras\n",
    "from keras.models import Sequential\n",
    "from keras.layers import Dense, Dropout, Activation\n",
    "\n",
    "import tensorflow as tf\n",
    "from keras.layers import Dense, Dropout, Flatten,BatchNormalization\n",
    "from keras.optimizers import SGD,Adam\n",
    "import keras.backend as K\n",
    "import keras.callbacks\n",
    "from keras import regularizers"
   ]
  },
  {
   "cell_type": "code",
   "execution_count": 41,
   "metadata": {
    "collapsed": true
   },
   "outputs": [],
   "source": [
    "import tensorflow as tf\n",
    "#config = tf.ConfigProto()\n",
    "#config.gpu_options.allow_growth = True\n",
    "#sess = tf.Session(config=config)\n",
    "sess = tf.InteractiveSession()\n",
    "K.set_session(sess)"
   ]
  },
  {
   "cell_type": "code",
   "execution_count": 42,
   "metadata": {},
   "outputs": [
    {
     "data": {
      "text/plain": [
       "'1.6.0-rc1'"
      ]
     },
     "execution_count": 42,
     "metadata": {},
     "output_type": "execute_result"
    }
   ],
   "source": [
    "tf.__version__"
   ]
  },
  {
   "cell_type": "code",
   "execution_count": 43,
   "metadata": {
    "collapsed": true
   },
   "outputs": [],
   "source": [
    "from sklearn.metrics import roc_auc_score, precision_score, recall_score, accuracy_score\n",
    "## Utility functions for model evaluation.\n",
    "def eval_preds(y_true, y_probs, y_preds):\n",
    "    return {'precision': precision_score(y_true, y_preds),\n",
    "            'accuracy': accuracy_score(y_true, y_preds),\n",
    "            'recall': recall_score(y_true, y_preds),\n",
    "            'auc': roc_auc_score(y_true, y_probs)}\n",
    "\n",
    "def get_model_eval(true_train, train_predictions, true_test=None, test_predictions=None):\n",
    "    train_eval = eval_preds(true_train, *train_predictions)\n",
    "    if true_test is None:\n",
    "        return pd.Series(train_eval)\n",
    "    else:\n",
    "        test_eval = eval_preds(true_test, *test_predictions)\n",
    "        return pd.DataFrame([train_eval, test_eval], index=['Train', 'Test'])\n",
    "\n",
    "def probas_to_classes(probas):\n",
    "    return (probas >= 0.5).astype(float)"
   ]
  },
  {
   "cell_type": "code",
   "execution_count": 44,
   "metadata": {
    "collapsed": true
   },
   "outputs": [],
   "source": [
    "X_train_r,X_valid,Y_train_r,Y_valid=train_test_split(X_train,Y_train,test_size=0.1,random_state=0,stratify=Y_train.Cover_Type)"
   ]
  },
  {
   "cell_type": "code",
   "execution_count": 45,
   "metadata": {
    "collapsed": true
   },
   "outputs": [],
   "source": [
    "sample_weights = np.ones(X_train_r.shape[0])\n",
    "\n",
    "## callback to compute the gradients\n",
    "class WeightsGradientsCallback(keras.callbacks.Callback):\n",
    "    def __init__(self):\n",
    "        self.gradients = []\n",
    "        self.train_auc = []\n",
    "        self.test_auc = []\n",
    "        self.weights = []\n",
    "    \n",
    "    def on_epoch_end(self, epoch, logs={}):\n",
    "        input_values = [X_train_r, sample_weights, Y_train_r.values.reshape(-1, 1), 0]\n",
    "        gradient_values = compute_gradients(input_values)\n",
    "        self.gradients.append(gradient_values)\n",
    "        \n",
    "        #self.train_auc.append(roc_auc_score(y_train.values.flatten(), \n",
    "        #                                    self.model.predict(X_train_norm)))\n",
    "        #self.test_auc.append(roc_auc_score(y_test.values.flatten(), \n",
    "        #                                   self.model.predict(X_test_norm)))\n",
    "        \n",
    "        #auc_line.x = np.arange(0, epoch + 1)\n",
    "        #auc_line.y = [self.train_auc, self.test_auc]\n",
    "        \n",
    "        weights = list(range(len(self.model.layers)))\n",
    "        for i, l in enumerate(self.model.layers):\n",
    "            weights[i] = l.get_weights()\n",
    "        self.weights.append(weights)\n",
    "        \n",
    "class LayerEvalsCallsback(keras.callbacks.Callback):\n",
    "    def __init__(self):\n",
    "        self.train_activs = []\n",
    "        self.test_activs = []\n",
    "        \n",
    "    def on_epoch_end(self, epoch, logs={}):\n",
    "        train_activs = layer_evaluator([X_train_r, 1.])\n",
    "        test_activs = layer_evaluator([X_test, 1.])\n",
    "        \n",
    "        self.train_activs.append(train_activs)\n",
    "        self.test_activs.append(test_activs)\n",
    "\n",
    "weights_callback = WeightsGradientsCallback()\n",
    "activs_callback = LayerEvalsCallsback()"
   ]
  },
  {
   "cell_type": "code",
   "execution_count": 46,
   "metadata": {},
   "outputs": [
    {
     "data": {
      "text/plain": [
       "(406708, 1)"
      ]
     },
     "execution_count": 46,
     "metadata": {},
     "output_type": "execute_result"
    }
   ],
   "source": [
    "Y_train.shape"
   ]
  },
  {
   "cell_type": "code",
   "execution_count": 47,
   "metadata": {
    "collapsed": true
   },
   "outputs": [],
   "source": [
    "nb_classes=7\n",
    "l1_num_neuron=50\n",
    "l2_num_neuron=30\n",
    "l3_num_neuron=20\n",
    "l4_num_neuron=10\n",
    "#l5_num_neuron=100\n",
    "output_neuron=nb_classes"
   ]
  },
  {
   "cell_type": "code",
   "execution_count": 48,
   "metadata": {
    "collapsed": true
   },
   "outputs": [],
   "source": [
    "layer_1 = Dense(l1_num_neuron, activation='relu',kernel_regularizer=regularizers.l2(0.01), input_dim=X_train.shape[1])\n",
    "layer_2 = Dense(l2_num_neuron, activation='relu',kernel_regularizer=regularizers.l2(0.01))\n",
    "layer_3 = Dense(l3_num_neuron, activation='relu',kernel_regularizer=regularizers.l2(0.01))\n",
    "layer_4 = Dense(l4_num_neuron, activation='relu',kernel_regularizer=regularizers.l2(0.01))\n",
    "layer_out = Dense(output_neuron, activation='softmax',kernel_regularizer=regularizers.l2(0.01))"
   ]
  },
  {
   "cell_type": "code",
   "execution_count": 49,
   "metadata": {
    "collapsed": true
   },
   "outputs": [],
   "source": [
    "mlp=Sequential()\n",
    "mlp.add(layer_1)\n",
    "mlp.add(Dropout(0.1))\n",
    "mlp.add(BatchNormalization(axis=-1, momentum=0.99, epsilon=0.01))\n",
    "mlp.add(layer_2)\n",
    "mlp.add(Dropout(0.3))\n",
    "mlp.add(BatchNormalization(axis=-1, momentum=0.99, epsilon=0.01))\n",
    "mlp.add(layer_3)\n",
    "mlp.add(Dropout(0.2))\n",
    "mlp.add(BatchNormalization(axis=-1, momentum=0.99, epsilon=0.01))\n",
    "mlp.add(layer_4)\n",
    "mlp.add(Dropout(0.2))\n",
    "mlp.add(BatchNormalization(axis=-1, momentum=0.99, epsilon=0.01))\n",
    "#mlp.add(layer_5)\n",
    "mlp.add(layer_out)"
   ]
  },
  {
   "cell_type": "code",
   "execution_count": 50,
   "metadata": {
    "collapsed": true
   },
   "outputs": [],
   "source": [
    "#optim=Adam(lr=0.01, beta_1=0.9, beta_2=0.999, epsilon=None, decay=0.0005)\n",
    "sgd = SGD(lr=0.01, momentum=0.8, decay=0.1/200, nesterov=True)\n",
    "mlp.compile(optimizer=sgd,loss='sparse_categorical_crossentropy',metrics=['accuracy'])"
   ]
  },
  {
   "cell_type": "code",
   "execution_count": 51,
   "metadata": {
    "scrolled": false
   },
   "outputs": [
    {
     "name": "stdout",
     "output_type": "stream",
     "text": [
      "_________________________________________________________________\n",
      "Layer (type)                 Output Shape              Param #   \n",
      "=================================================================\n",
      "dense_1 (Dense)              (None, 50)                3200      \n",
      "_________________________________________________________________\n",
      "dropout_1 (Dropout)          (None, 50)                0         \n",
      "_________________________________________________________________\n",
      "batch_normalization_1 (Batch (None, 50)                200       \n",
      "_________________________________________________________________\n",
      "dense_2 (Dense)              (None, 30)                1530      \n",
      "_________________________________________________________________\n",
      "dropout_2 (Dropout)          (None, 30)                0         \n",
      "_________________________________________________________________\n",
      "batch_normalization_2 (Batch (None, 30)                120       \n",
      "_________________________________________________________________\n",
      "dense_3 (Dense)              (None, 20)                620       \n",
      "_________________________________________________________________\n",
      "dropout_3 (Dropout)          (None, 20)                0         \n",
      "_________________________________________________________________\n",
      "batch_normalization_3 (Batch (None, 20)                80        \n",
      "_________________________________________________________________\n",
      "dense_4 (Dense)              (None, 10)                210       \n",
      "_________________________________________________________________\n",
      "dropout_4 (Dropout)          (None, 10)                0         \n",
      "_________________________________________________________________\n",
      "batch_normalization_4 (Batch (None, 10)                40        \n",
      "_________________________________________________________________\n",
      "dense_5 (Dense)              (None, 7)                 77        \n",
      "=================================================================\n",
      "Total params: 6,077\n",
      "Trainable params: 5,857\n",
      "Non-trainable params: 220\n",
      "_________________________________________________________________\n"
     ]
    }
   ],
   "source": [
    "mlp.summary()"
   ]
  },
  {
   "cell_type": "code",
   "execution_count": 52,
   "metadata": {
    "collapsed": true
   },
   "outputs": [],
   "source": [
    "## variables for WeightsGradientsCallback:\n",
    "gradients = mlp.optimizer.get_gradients(mlp.model.total_loss, \n",
    "                                          mlp.trainable_weights)\n",
    "input_tensors = [mlp.model.inputs[0], mlp.model.sample_weights[0], \n",
    "                 mlp.model.targets[0], K.learning_phase()]\n",
    "compute_gradients = K.function(inputs=input_tensors, outputs=gradients)   "
   ]
  },
  {
   "cell_type": "code",
   "execution_count": 53,
   "metadata": {
    "collapsed": true
   },
   "outputs": [],
   "source": [
    "## variables for LayerEvalsCallback\n",
    "inp = mlp.input                                          \n",
    "outputs = [layer.output for layer in mlp.layers]         \n",
    "layer_evaluator = K.function([inp]+ [K.learning_phase()], outputs) \n"
   ]
  },
  {
   "cell_type": "code",
   "execution_count": 54,
   "metadata": {},
   "outputs": [
    {
     "data": {
      "text/plain": [
       "(366037, 1)"
      ]
     },
     "execution_count": 54,
     "metadata": {},
     "output_type": "execute_result"
    }
   ],
   "source": [
    "Y_train_r.shape"
   ]
  },
  {
   "cell_type": "code",
   "execution_count": 55,
   "metadata": {},
   "outputs": [
    {
     "name": "stdout",
     "output_type": "stream",
     "text": [
      "WARNING:tensorflow:Variable *= will be deprecated. Use variable.assign_mul if you want assignment to the variable value or 'x = x * y' if you want a new python Tensor object.\n",
      "Train on 366037 samples, validate on 40671 samples\n",
      "Epoch 1/50\n",
      "366037/366037 [==============================] - 17s 46us/step - loss: 1.4702 - acc: 0.6525 - val_loss: 0.9377 - val_acc: 0.7239\n",
      "Epoch 2/50\n",
      "366037/366037 [==============================] - 16s 44us/step - loss: 0.8609 - acc: 0.7216 - val_loss: 0.7369 - val_acc: 0.7523\n",
      "Epoch 3/50\n",
      "366037/366037 [==============================] - 16s 44us/step - loss: 0.7610 - acc: 0.7369 - val_loss: 0.6722 - val_acc: 0.7680\n",
      "Epoch 4/50\n",
      "366037/366037 [==============================] - 16s 44us/step - loss: 0.7247 - acc: 0.7470 - val_loss: 0.6431 - val_acc: 0.7725\n",
      "Epoch 5/50\n",
      "366037/366037 [==============================] - 16s 44us/step - loss: 0.7095 - acc: 0.7514 - val_loss: 0.6272 - val_acc: 0.7813\n",
      "Epoch 6/50\n",
      "366037/366037 [==============================] - 16s 44us/step - loss: 0.7005 - acc: 0.7547 - val_loss: 0.6263 - val_acc: 0.7783\n",
      "Epoch 7/50\n",
      "366037/366037 [==============================] - 16s 44us/step - loss: 0.6932 - acc: 0.7567 - val_loss: 0.6108 - val_acc: 0.7884\n",
      "Epoch 8/50\n",
      "366037/366037 [==============================] - 16s 44us/step - loss: 0.6873 - acc: 0.7589 - val_loss: 0.6092 - val_acc: 0.7887\n",
      "Epoch 9/50\n",
      "366037/366037 [==============================] - 16s 44us/step - loss: 0.6826 - acc: 0.7602 - val_loss: 0.5964 - val_acc: 0.7915\n",
      "Epoch 10/50\n",
      "366037/366037 [==============================] - 16s 44us/step - loss: 0.6788 - acc: 0.7618 - val_loss: 0.5869 - val_acc: 0.7960\n",
      "Epoch 11/50\n",
      "366037/366037 [==============================] - 16s 44us/step - loss: 0.6756 - acc: 0.7622 - val_loss: 0.5870 - val_acc: 0.7943\n",
      "Epoch 12/50\n",
      "366037/366037 [==============================] - 16s 44us/step - loss: 0.6746 - acc: 0.7629 - val_loss: 0.5859 - val_acc: 0.7960\n",
      "Epoch 13/50\n",
      "366037/366037 [==============================] - 16s 44us/step - loss: 0.6699 - acc: 0.7643 - val_loss: 0.5816 - val_acc: 0.7960\n",
      "Epoch 14/50\n",
      "366037/366037 [==============================] - 16s 45us/step - loss: 0.6672 - acc: 0.7657 - val_loss: 0.5810 - val_acc: 0.7957\n",
      "Epoch 15/50\n",
      "366037/366037 [==============================] - 16s 44us/step - loss: 0.6666 - acc: 0.7650 - val_loss: 0.5802 - val_acc: 0.7995\n",
      "Epoch 16/50\n",
      "366037/366037 [==============================] - 16s 44us/step - loss: 0.6640 - acc: 0.7664 - val_loss: 0.5728 - val_acc: 0.8011\n",
      "Epoch 17/50\n",
      "366037/366037 [==============================] - 16s 45us/step - loss: 0.6624 - acc: 0.7670 - val_loss: 0.5808 - val_acc: 0.7951\n",
      "Epoch 18/50\n",
      "366037/366037 [==============================] - 16s 45us/step - loss: 0.6599 - acc: 0.7675 - val_loss: 0.5747 - val_acc: 0.8003\n",
      "Epoch 19/50\n",
      "366037/366037 [==============================] - 16s 44us/step - loss: 0.6597 - acc: 0.7680 - val_loss: 0.5687 - val_acc: 0.8011\n",
      "Epoch 20/50\n",
      "366037/366037 [==============================] - 16s 44us/step - loss: 0.6589 - acc: 0.7678 - val_loss: 0.5671 - val_acc: 0.8000\n",
      "Epoch 21/50\n",
      "366037/366037 [==============================] - 16s 44us/step - loss: 0.6562 - acc: 0.7689 - val_loss: 0.5709 - val_acc: 0.8021\n",
      "Epoch 22/50\n",
      "366037/366037 [==============================] - 16s 44us/step - loss: 0.6562 - acc: 0.7684 - val_loss: 0.5662 - val_acc: 0.8014\n",
      "Epoch 23/50\n",
      "366037/366037 [==============================] - 16s 44us/step - loss: 0.6536 - acc: 0.7687 - val_loss: 0.5666 - val_acc: 0.8006\n",
      "Epoch 24/50\n",
      "366037/366037 [==============================] - 16s 44us/step - loss: 0.6518 - acc: 0.7702 - val_loss: 0.5601 - val_acc: 0.8049\n",
      "Epoch 25/50\n",
      "366037/366037 [==============================] - 16s 44us/step - loss: 0.6517 - acc: 0.7697 - val_loss: 0.5628 - val_acc: 0.8033\n",
      "Epoch 26/50\n",
      "366037/366037 [==============================] - 16s 44us/step - loss: 0.6507 - acc: 0.7710 - val_loss: 0.5623 - val_acc: 0.8022\n",
      "Epoch 27/50\n",
      "366037/366037 [==============================] - 16s 44us/step - loss: 0.6508 - acc: 0.7709 - val_loss: 0.5557 - val_acc: 0.8049\n",
      "Epoch 28/50\n",
      "366037/366037 [==============================] - 16s 44us/step - loss: 0.6509 - acc: 0.7705 - val_loss: 0.5616 - val_acc: 0.8022\n",
      "Epoch 29/50\n",
      "366037/366037 [==============================] - 16s 44us/step - loss: 0.6489 - acc: 0.7709 - val_loss: 0.5565 - val_acc: 0.8029\n",
      "Epoch 30/50\n",
      "366037/366037 [==============================] - 16s 44us/step - loss: 0.6462 - acc: 0.7715 - val_loss: 0.5577 - val_acc: 0.8054\n",
      "Epoch 31/50\n",
      "366037/366037 [==============================] - 16s 44us/step - loss: 0.6490 - acc: 0.7711 - val_loss: 0.5567 - val_acc: 0.8054\n",
      "Epoch 00031: early stopping\n"
     ]
    }
   ],
   "source": [
    "from keras.callbacks import EarlyStopping\n",
    "train_res = mlp.fit(X_train_r.values,\n",
    "                      Y_train_r.values.ravel(),\n",
    "                      batch_size=300,\n",
    "                      epochs=50,# sample running 20 epochs\n",
    "                      verbose=True,\n",
    "                      validation_data=(X_valid.values,\n",
    "                                       Y_valid.values.ravel()),\n",
    "                      callbacks=\n",
    "                      [EarlyStopping(patience=4,mode='min',\n",
    "                                     verbose=True),weights_callback, activs_callback]\n",
    "                      )"
   ]
  },
  {
   "cell_type": "code",
   "execution_count": 56,
   "metadata": {},
   "outputs": [
    {
     "name": "stdout",
     "output_type": "stream",
     "text": [
      "174304/174304 [==============================] - 9s 50us/step\n"
     ]
    }
   ],
   "source": [
    "predictions=mlp.predict_classes(X_test.values,verbose=True)"
   ]
  },
  {
   "cell_type": "code",
   "execution_count": 62,
   "metadata": {
    "collapsed": true
   },
   "outputs": [],
   "source": [
    "#predictions"
   ]
  },
  {
   "cell_type": "code",
   "execution_count": 57,
   "metadata": {
    "collapsed": true
   },
   "outputs": [],
   "source": [
    "def get_activations_hist(epoch, layer, node, data='Train'):\n",
    "    if data == 'Train':\n",
    "        activs_array = activs_callback.train_activs\n",
    "    else:\n",
    "        activs_array = activs_callback.test_activs\n",
    "    \n",
    "    if layer >= 1:\n",
    "        layer = layer + 1\n",
    "    layer_activs = activs_array[epoch - 1][layer].T[node]\n",
    "    return layer_activs"
   ]
  },
  {
   "cell_type": "code",
   "execution_count": 58,
   "metadata": {
    "collapsed": true
   },
   "outputs": [],
   "source": [
    "def get_cleaned_weights(weights_mat):\n",
    "    weights_ret = []\n",
    "    for w in weights_mat:\n",
    "        if np.shape(w)[0] == 0:\n",
    "            # this is a dropout layer or a reg layer which does no have weights\n",
    "            pass\n",
    "        else:\n",
    "            weights_ret.append(w)\n",
    "    return weights_ret\n",
    "\n",
    "def get_weights_for_node_at_layer(weights, epoch_num, layer_num, node_num):\n",
    "    # max_layers = len(weights)\n",
    "    layer_params = weights[epoch_num][layer_num]\n",
    "    \n",
    "    layer_weights = layer_params[0]\n",
    "    layer_bias = layer_params[1]\n",
    "    \n",
    "    node_weights = layer_weights[:, node_num]\n",
    "    node_bias = layer_bias[node_num]\n",
    "    \n",
    "    return (node_bias, node_weights)\n",
    "\n",
    "def get_gradients_for_node_at_layer(gradients, epoch_num, layer_num, node_num):\n",
    "    layer_gradients = gradients[epoch_num][2 * layer_num]\n",
    "    layer_bias_gradients = gradients[epoch_num][2 * layer_num + 1]\n",
    "    \n",
    "    node_gradients = layer_gradients[:, node_num]\n",
    "    node_bias_gradiens = layer_bias_gradients[node_num]\n",
    "    \n",
    "    return(node_bias_gradiens, node_gradients)\n",
    "\n",
    "cleaned_weights = []\n",
    "\n",
    "for w in weights_callback.weights:\n",
    "    cleaned_weights.append(get_cleaned_weights(w))"
   ]
  },
  {
   "cell_type": "code",
   "execution_count": 59,
   "metadata": {
    "collapsed": true
   },
   "outputs": [],
   "source": [
    "from neural_net import NeuralNet"
   ]
  },
  {
   "cell_type": "code",
   "execution_count": 65,
   "metadata": {
    "scrolled": true
   },
   "outputs": [
    {
     "name": "stderr",
     "output_type": "stream",
     "text": [
      "/home/namanda/anaconda3.6/lib/python3.6/site-packages/bqplot/pyplot.py:603: FutureWarning: Conversion of the second argument of issubdtype from `str` to `str` is deprecated. In future, it will be treated as `np.str_ == np.dtype(str).type`.\n",
      "  issubdtype(dtype, Scale.scale_types[key].dtype)\n"
     ]
    }
   ],
   "source": [
    "nn = NeuralNet(num_inputs=X_train_r.shape[1], num_hidden_layers=[50,30,20, 10], num_outputs=7)\n",
    "\n",
    "epoch_slider = IntSlider(description='Epoch:', min=1, max=31, value=1)\n",
    "mode_dd = Dropdown(description='View', options=['Weights', 'Gradients', 'Activations'], value='Weights')\n",
    "update_btn = Button(description='Update')\n",
    "\n",
    "bar_figure = plt1.figure()\n",
    "bar_plot = plt1.bar([], [], scales={'x': OrdinalScale()})\n",
    "\n",
    "hist_figure = plt1.figure(title='Hist')\n",
    "hist_plot = plt1.hist([], bins=20)\n",
    "\n",
    "controls = HBox([epoch_slider, mode_dd, update_btn])\n",
    "nn.graph.tooltip = bar_figure"
   ]
  },
  {
   "cell_type": "code",
   "execution_count": 66,
   "metadata": {
    "scrolled": true
   },
   "outputs": [
    {
     "data": {
      "application/vnd.jupyter.widget-view+json": {
       "model_id": "08ef898396df434e8932c91a446de8a1",
       "version_major": 2,
       "version_minor": 0
      },
      "text/html": [
       "<p>Failed to display Jupyter Widget of type <code>VBox</code>.</p>\n",
       "<p>\n",
       "  If you're reading this message in the Jupyter Notebook or JupyterLab Notebook, it may mean\n",
       "  that the widgets JavaScript is still loading. If this message persists, it\n",
       "  likely means that the widgets JavaScript library is either not installed or\n",
       "  not enabled. See the <a href=\"https://ipywidgets.readthedocs.io/en/stable/user_install.html\">Jupyter\n",
       "  Widgets Documentation</a> for setup instructions.\n",
       "</p>\n",
       "<p>\n",
       "  If you're reading this message in another frontend (for example, a static\n",
       "  rendering on GitHub or <a href=\"https://nbviewer.jupyter.org/\">NBViewer</a>),\n",
       "  it may mean that your frontend doesn't currently support widgets.\n",
       "</p>\n"
      ],
      "text/plain": [
       "VBox(children=(HBox(children=(IntSlider(value=1, description='Epoch:', max=31, min=1), Dropdown(description='View', options=('Weights', 'Gradients', 'Activations'), value='Weights'), Button(description='Update', style=ButtonStyle()))), NeuralNet(fig_margin={'top': 60, 'bottom': 60, 'left': 60, 'right': 60}, layout=Layout(height='800px', min_width='125px', width='900px'), marks=[Graph(colors=['Orange', 'Orange', 'Orange', 'Orange', 'Orange', 'Orange', 'Orange', 'Orange', 'Orange', 'Orange', 'Orange', 'Orange', 'Orange', 'Orange', 'Orange', 'Orange', 'Orange', 'Orange', 'Orange', 'Orange', 'Orange', 'Orange', 'Orange', 'Orange', 'Orange', 'Orange', 'Orange', 'Orange', 'Orange', 'Orange', 'Orange', 'Orange', 'Orange', 'Orange', 'Orange', 'Orange', 'Orange', 'Orange', 'Orange', 'Orange', 'Orange', 'Orange', 'Orange', 'Orange', 'Orange', 'Orange', 'Orange', 'Orange', 'Orange', 'Orange', 'Orange', 'Orange', 'Orange', 'Orange', 'Orange', 'Orange', 'Orange', 'Orange', 'Orange', 'Orange', 'Orange', 'Orange', 'Orange', 'Orange', 'Orange', 'Orange', 'Orange', 'Orange', 'Orange', 'Orange', 'Orange', 'Orange', 'Orange', 'Orange', 'Orange', 'Orange', 'Orange', 'Orange', 'Orange', 'Orange', 'Orange', 'Orange', 'Orange', 'Orange', 'Orange', 'Orange', 'Orange', 'Orange', 'Orange', 'Orange', 'Orange', 'Orange', 'Orange', 'Orange', 'Orange', 'Orange', 'Orange', 'Orange', 'Orange', 'Orange', 'Orange', 'Orange', 'Orange', 'Orange', 'Orange', 'Orange', 'Orange', 'Orange', 'Orange', 'Orange', 'Orange', 'Orange', 'Orange', 'Orange', 'Orange', 'Orange', 'Orange', 'Orange', 'Orange', 'Orange', 'Orange', 'Orange', 'Orange', 'Orange', 'Orange', 'Orange', 'Orange', 'Orange', 'Orange', 'Orange', 'Orange', 'Orange', 'Orange', 'Orange', 'Orange', 'Orange', 'Orange', 'Orange', 'Orange', 'Orange', 'Orange', 'Orange', 'Orange', 'Orange', 'Orange', 'Orange', 'Orange', 'Orange', 'Orange', 'Orange', 'Orange', 'Orange', 'Orange', 'Orange', 'Orange', 'Orange', 'Orange', 'Orange', 'Orange', 'Orange', 'Orange', 'Orange', 'Orange', 'Orange', 'Orange', 'Orange', 'Orange', 'Orange', 'Orange', 'Orange', 'Orange', 'Orange', 'Orange', 'Orange', 'Orange', 'Orange', 'Orange', 'Orange', 'Orange', 'Orange'], directed=False, hovered_style={'stroke': '1.5'}, interactions={'hover': 'tooltip', 'click': 'select'}, link_matrix=array([[nan, nan, nan, ..., nan, nan, nan],\n",
       "       [nan, nan, nan, ..., nan, nan, nan],\n",
       "       [nan, nan, nan, ..., nan, nan, nan],\n",
       "       ...,\n",
       "       [nan, nan, nan, ..., nan, nan, nan],\n",
       "       [nan, nan, nan, ..., nan, nan, nan],\n",
       "       [nan, nan, nan, ..., nan, nan, nan]]), link_type='line', node_data=[{'label': 'x1', 'label_display': 'none'}, {'label': 'x2', 'label_display': 'none'}, {'label': 'x3', 'label_display': 'none'}, {'label': 'x4', 'label_display': 'none'}, {'label': 'x5', 'label_display': 'none'}, {'label': 'x6', 'label_display': 'none'}, {'label': 'x7', 'label_display': 'none'}, {'label': 'x8', 'label_display': 'none'}, {'label': 'x9', 'label_display': 'none'}, {'label': 'x10', 'label_display': 'none'}, {'label': 'x11', 'label_display': 'none'}, {'label': 'x12', 'label_display': 'none'}, {'label': 'x13', 'label_display': 'none'}, {'label': 'x14', 'label_display': 'none'}, {'label': 'x15', 'label_display': 'none'}, {'label': 'x16', 'label_display': 'none'}, {'label': 'x17', 'label_display': 'none'}, {'label': 'x18', 'label_display': 'none'}, {'label': 'x19', 'label_display': 'none'}, {'label': 'x20', 'label_display': 'none'}, {'label': 'x21', 'label_display': 'none'}, {'label': 'x22', 'label_display': 'none'}, {'label': 'x23', 'label_display': 'none'}, {'label': 'x24', 'label_display': 'none'}, {'label': 'x25', 'label_display': 'none'}, {'label': 'x26', 'label_display': 'none'}, {'label': 'x27', 'label_display': 'none'}, {'label': 'x28', 'label_display': 'none'}, {'label': 'x29', 'label_display': 'none'}, {'label': 'x30', 'label_display': 'none'}, {'label': 'x31', 'label_display': 'none'}, {'label': 'x32', 'label_display': 'none'}, {'label': 'x33', 'label_display': 'none'}, {'label': 'x34', 'label_display': 'none'}, {'label': 'x35', 'label_display': 'none'}, {'label': 'x36', 'label_display': 'none'}, {'label': 'x37', 'label_display': 'none'}, {'label': 'x38', 'label_display': 'none'}, {'label': 'x39', 'label_display': 'none'}, {'label': 'x40', 'label_display': 'none'}, {'label': 'x41', 'label_display': 'none'}, {'label': 'x42', 'label_display': 'none'}, {'label': 'x43', 'label_display': 'none'}, {'label': 'x44', 'label_display': 'none'}, {'label': 'x45', 'label_display': 'none'}, {'label': 'x46', 'label_display': 'none'}, {'label': 'x47', 'label_display': 'none'}, {'label': 'x48', 'label_display': 'none'}, {'label': 'x49', 'label_display': 'none'}, {'label': 'x50', 'label_display': 'none'}, {'label': 'x51', 'label_display': 'none'}, {'label': 'x52', 'label_display': 'none'}, {'label': 'x53', 'label_display': 'none'}, {'label': 'x54', 'label_display': 'none'}, {'label': 'x55', 'label_display': 'none'}, {'label': 'x56', 'label_display': 'none'}, {'label': 'x57', 'label_display': 'none'}, {'label': 'x58', 'label_display': 'none'}, {'label': 'x59', 'label_display': 'none'}, {'label': 'x60', 'label_display': 'none'}, {'label': 'x61', 'label_display': 'none'}, {'label': 'x62', 'label_display': 'none'}, {'label': 'x63', 'label_display': 'none'}, {'label': 'h1,1', 'label_display': 'none'}, {'label': 'h1,2', 'label_display': 'none'}, {'label': 'h1,3', 'label_display': 'none'}, {'label': 'h1,4', 'label_display': 'none'}, {'label': 'h1,5', 'label_display': 'none'}, {'label': 'h1,6', 'label_display': 'none'}, {'label': 'h1,7', 'label_display': 'none'}, {'label': 'h1,8', 'label_display': 'none'}, {'label': 'h1,9', 'label_display': 'none'}, {'label': 'h1,10', 'label_display': 'none'}, {'label': 'h1,11', 'label_display': 'none'}, {'label': 'h1,12', 'label_display': 'none'}, {'label': 'h1,13', 'label_display': 'none'}, {'label': 'h1,14', 'label_display': 'none'}, {'label': 'h1,15', 'label_display': 'none'}, {'label': 'h1,16', 'label_display': 'none'}, {'label': 'h1,17', 'label_display': 'none'}, {'label': 'h1,18', 'label_display': 'none'}, {'label': 'h1,19', 'label_display': 'none'}, {'label': 'h1,20', 'label_display': 'none'}, {'label': 'h1,21', 'label_display': 'none'}, {'label': 'h1,22', 'label_display': 'none'}, {'label': 'h1,23', 'label_display': 'none'}, {'label': 'h1,24', 'label_display': 'none'}, {'label': 'h1,25', 'label_display': 'none'}, {'label': 'h1,26', 'label_display': 'none'}, {'label': 'h1,27', 'label_display': 'none'}, {'label': 'h1,28', 'label_display': 'none'}, {'label': 'h1,29', 'label_display': 'none'}, {'label': 'h1,30', 'label_display': 'none'}, {'label': 'h1,31', 'label_display': 'none'}, {'label': 'h1,32', 'label_display': 'none'}, {'label': 'h1,33', 'label_display': 'none'}, {'label': 'h1,34', 'label_display': 'none'}, {'label': 'h1,35', 'label_display': 'none'}, {'label': 'h1,36', 'label_display': 'none'}, {'label': 'h1,37', 'label_display': 'none'}, {'label': 'h1,38', 'label_display': 'none'}, {'label': 'h1,39', 'label_display': 'none'}, {'label': 'h1,40', 'label_display': 'none'}, {'label': 'h1,41', 'label_display': 'none'}, {'label': 'h1,42', 'label_display': 'none'}, {'label': 'h1,43', 'label_display': 'none'}, {'label': 'h1,44', 'label_display': 'none'}, {'label': 'h1,45', 'label_display': 'none'}, {'label': 'h1,46', 'label_display': 'none'}, {'label': 'h1,47', 'label_display': 'none'}, {'label': 'h1,48', 'label_display': 'none'}, {'label': 'h1,49', 'label_display': 'none'}, {'label': 'h1,50', 'label_display': 'none'}, {'label': 'h2,1', 'label_display': 'none'}, {'label': 'h2,2', 'label_display': 'none'}, {'label': 'h2,3', 'label_display': 'none'}, {'label': 'h2,4', 'label_display': 'none'}, {'label': 'h2,5', 'label_display': 'none'}, {'label': 'h2,6', 'label_display': 'none'}, {'label': 'h2,7', 'label_display': 'none'}, {'label': 'h2,8', 'label_display': 'none'}, {'label': 'h2,9', 'label_display': 'none'}, {'label': 'h2,10', 'label_display': 'none'}, {'label': 'h2,11', 'label_display': 'none'}, {'label': 'h2,12', 'label_display': 'none'}, {'label': 'h2,13', 'label_display': 'none'}, {'label': 'h2,14', 'label_display': 'none'}, {'label': 'h2,15', 'label_display': 'none'}, {'label': 'h2,16', 'label_display': 'none'}, {'label': 'h2,17', 'label_display': 'none'}, {'label': 'h2,18', 'label_display': 'none'}, {'label': 'h2,19', 'label_display': 'none'}, {'label': 'h2,20', 'label_display': 'none'}, {'label': 'h2,21', 'label_display': 'none'}, {'label': 'h2,22', 'label_display': 'none'}, {'label': 'h2,23', 'label_display': 'none'}, {'label': 'h2,24', 'label_display': 'none'}, {'label': 'h2,25', 'label_display': 'none'}, {'label': 'h2,26', 'label_display': 'none'}, {'label': 'h2,27', 'label_display': 'none'}, {'label': 'h2,28', 'label_display': 'none'}, {'label': 'h2,29', 'label_display': 'none'}, {'label': 'h2,30', 'label_display': 'none'}, {'label': 'h3,1', 'label_display': 'none'}, {'label': 'h3,2', 'label_display': 'none'}, {'label': 'h3,3', 'label_display': 'none'}, {'label': 'h3,4', 'label_display': 'none'}, {'label': 'h3,5', 'label_display': 'none'}, {'label': 'h3,6', 'label_display': 'none'}, {'label': 'h3,7', 'label_display': 'none'}, {'label': 'h3,8', 'label_display': 'none'}, {'label': 'h3,9', 'label_display': 'none'}, {'label': 'h3,10', 'label_display': 'none'}, {'label': 'h3,11', 'label_display': 'none'}, {'label': 'h3,12', 'label_display': 'none'}, {'label': 'h3,13', 'label_display': 'none'}, {'label': 'h3,14', 'label_display': 'none'}, {'label': 'h3,15', 'label_display': 'none'}, {'label': 'h3,16', 'label_display': 'none'}, {'label': 'h3,17', 'label_display': 'none'}, {'label': 'h3,18', 'label_display': 'none'}, {'label': 'h3,19', 'label_display': 'none'}, {'label': 'h3,20', 'label_display': 'none'}, {'label': 'h4,1', 'label_display': 'none'}, {'label': 'h4,2', 'label_display': 'none'}, {'label': 'h4,3', 'label_display': 'none'}, {'label': 'h4,4', 'label_display': 'none'}, {'label': 'h4,5', 'label_display': 'none'}, {'label': 'h4,6', 'label_display': 'none'}, {'label': 'h4,7', 'label_display': 'none'}, {'label': 'h4,8', 'label_display': 'none'}, {'label': 'h4,9', 'label_display': 'none'}, {'label': 'h4,10', 'label_display': 'none'}, {'label': 'y1', 'label_display': 'none'}, {'label': 'y2', 'label_display': 'none'}, {'label': 'y3', 'label_display': 'none'}, {'label': 'y4', 'label_display': 'none'}, {'label': 'y5', 'label_display': 'none'}, {'label': 'y6', 'label_display': 'none'}, {'label': 'y7', 'label_display': 'none'}], scales={'x': LinearScale(max=100.0, min=0.0), 'y': LinearScale(max=100.0, min=0.0)}, scales_metadata={'x': {'orientation': 'horizontal', 'dimension': 'x'}, 'y': {'orientation': 'vertical', 'dimension': 'y'}, 'color': {'dimension': 'color'}, 'link_color': {'dimension': 'link_color'}}, selected_style={'opacity': '1', 'stroke': 'red', 'stroke-width': '2.5'}, tooltip=Figure(axes=[Axis(scale=OrdinalScale(), side='bottom'), Axis(orientation='vertical', scale=LinearScale(), side='left')], fig_margin={'top': 60, 'bottom': 60, 'left': 60, 'right': 60}, layout=Layout(min_width='125px'), marks=[Bars(colors=['steelblue'], interactions={'hover': 'tooltip'}, scales={'x': OrdinalScale(), 'y': LinearScale()}, scales_metadata={'x': {'orientation': 'horizontal', 'dimension': 'x'}, 'y': {'orientation': 'vertical', 'dimension': 'y'}, 'color': {'dimension': 'color'}}, tooltip_style={'opacity': 0.9})], scale_x=LinearScale(allow_padding=False, max=1.0, min=0.0), scale_y=LinearScale(allow_padding=False, max=1.0, min=0.0)), tooltip_style={'opacity': 0.9}, unhovered_style={'opacity': '0.1'}, x=array([14.28571429, 14.28571429, 14.28571429, 14.28571429, 14.28571429,\n",
       "       14.28571429, 14.28571429, 14.28571429, 14.28571429, 14.28571429,\n",
       "       14.28571429, 14.28571429, 14.28571429, 14.28571429, 14.28571429,\n",
       "       14.28571429, 14.28571429, 14.28571429, 14.28571429, 14.28571429,\n",
       "       14.28571429, 14.28571429, 14.28571429, 14.28571429, 14.28571429,\n",
       "       14.28571429, 14.28571429, 14.28571429, 14.28571429, 14.28571429,\n",
       "       14.28571429, 14.28571429, 14.28571429, 14.28571429, 14.28571429,\n",
       "       14.28571429, 14.28571429, 14.28571429, 14.28571429, 14.28571429,\n",
       "       14.28571429, 14.28571429, 14.28571429, 14.28571429, 14.28571429,\n",
       "       14.28571429, 14.28571429, 14.28571429, 14.28571429, 14.28571429,\n",
       "       14.28571429, 14.28571429, 14.28571429, 14.28571429, 14.28571429,\n",
       "       14.28571429, 14.28571429, 14.28571429, 14.28571429, 14.28571429,\n",
       "       14.28571429, 14.28571429, 14.28571429, 28.57142857, 28.57142857,\n",
       "       28.57142857, 28.57142857, 28.57142857, 28.57142857, 28.57142857,\n",
       "       28.57142857, 28.57142857, 28.57142857, 28.57142857, 28.57142857,\n",
       "       28.57142857, 28.57142857, 28.57142857, 28.57142857, 28.57142857,\n",
       "       28.57142857, 28.57142857, 28.57142857, 28.57142857, 28.57142857,\n",
       "       28.57142857, 28.57142857, 28.57142857, 28.57142857, 28.57142857,\n",
       "       28.57142857, 28.57142857, 28.57142857, 28.57142857, 28.57142857,\n",
       "       28.57142857, 28.57142857, 28.57142857, 28.57142857, 28.57142857,\n",
       "       28.57142857, 28.57142857, 28.57142857, 28.57142857, 28.57142857,\n",
       "       28.57142857, 28.57142857, 28.57142857, 28.57142857, 28.57142857,\n",
       "       28.57142857, 28.57142857, 28.57142857, 42.85714286, 42.85714286,\n",
       "       42.85714286, 42.85714286, 42.85714286, 42.85714286, 42.85714286,\n",
       "       42.85714286, 42.85714286, 42.85714286, 42.85714286, 42.85714286,\n",
       "       42.85714286, 42.85714286, 42.85714286, 42.85714286, 42.85714286,\n",
       "       42.85714286, 42.85714286, 42.85714286, 42.85714286, 42.85714286,\n",
       "       42.85714286, 42.85714286, 42.85714286, 42.85714286, 42.85714286,\n",
       "       42.85714286, 42.85714286, 42.85714286, 57.14285714, 57.14285714,\n",
       "       57.14285714, 57.14285714, 57.14285714, 57.14285714, 57.14285714,\n",
       "       57.14285714, 57.14285714, 57.14285714, 57.14285714, 57.14285714,\n",
       "       57.14285714, 57.14285714, 57.14285714, 57.14285714, 57.14285714,\n",
       "       57.14285714, 57.14285714, 57.14285714, 71.42857143, 71.42857143,\n",
       "       71.42857143, 71.42857143, 71.42857143, 71.42857143, 71.42857143,\n",
       "       71.42857143, 71.42857143, 71.42857143, 85.71428571, 85.71428571,\n",
       "       85.71428571, 85.71428571, 85.71428571, 85.71428571, 85.71428571]), y=array([98.4375    , 96.875     , 95.3125    , 93.75      , 92.1875    ,\n",
       "       90.625     , 89.0625    , 87.5       , 85.9375    , 84.375     ,\n",
       "       82.8125    , 81.25      , 79.6875    , 78.125     , 76.5625    ,\n",
       "       75.        , 73.4375    , 71.875     , 70.3125    , 68.75      ,\n",
       "       67.1875    , 65.625     , 64.0625    , 62.5       , 60.9375    ,\n",
       "       59.375     , 57.8125    , 56.25      , 54.6875    , 53.125     ,\n",
       "       51.5625    , 50.        , 48.4375    , 46.875     , 45.3125    ,\n",
       "       43.75      , 42.1875    , 40.625     , 39.0625    , 37.5       ,\n",
       "       35.9375    , 34.375     , 32.8125    , 31.25      , 29.6875    ,\n",
       "       28.125     , 26.5625    , 25.        , 23.4375    , 21.875     ,\n",
       "       20.3125    , 18.75      , 17.1875    , 15.625     , 14.0625    ,\n",
       "       12.5       , 10.9375    ,  9.375     ,  7.8125    ,  6.25      ,\n",
       "        4.6875    ,  3.125     ,  1.5625    , 98.03921569, 96.07843137,\n",
       "       94.11764706, 92.15686275, 90.19607843, 88.23529412, 86.2745098 ,\n",
       "       84.31372549, 82.35294118, 80.39215686, 78.43137255, 76.47058824,\n",
       "       74.50980392, 72.54901961, 70.58823529, 68.62745098, 66.66666667,\n",
       "       64.70588235, 62.74509804, 60.78431373, 58.82352941, 56.8627451 ,\n",
       "       54.90196078, 52.94117647, 50.98039216, 49.01960784, 47.05882353,\n",
       "       45.09803922, 43.1372549 , 41.17647059, 39.21568627, 37.25490196,\n",
       "       35.29411765, 33.33333333, 31.37254902, 29.41176471, 27.45098039,\n",
       "       25.49019608, 23.52941176, 21.56862745, 19.60784314, 17.64705882,\n",
       "       15.68627451, 13.7254902 , 11.76470588,  9.80392157,  7.84313725,\n",
       "        5.88235294,  3.92156863,  1.96078431, 96.77419355, 93.5483871 ,\n",
       "       90.32258065, 87.09677419, 83.87096774, 80.64516129, 77.41935484,\n",
       "       74.19354839, 70.96774194, 67.74193548, 64.51612903, 61.29032258,\n",
       "       58.06451613, 54.83870968, 51.61290323, 48.38709677, 45.16129032,\n",
       "       41.93548387, 38.70967742, 35.48387097, 32.25806452, 29.03225806,\n",
       "       25.80645161, 22.58064516, 19.35483871, 16.12903226, 12.90322581,\n",
       "        9.67741935,  6.4516129 ,  3.22580645, 95.23809524, 90.47619048,\n",
       "       85.71428571, 80.95238095, 76.19047619, 71.42857143, 66.66666667,\n",
       "       61.9047619 , 57.14285714, 52.38095238, 47.61904762, 42.85714286,\n",
       "       38.0952381 , 33.33333333, 28.57142857, 23.80952381, 19.04761905,\n",
       "       14.28571429,  9.52380952,  4.76190476, 90.90909091, 81.81818182,\n",
       "       72.72727273, 63.63636364, 54.54545455, 45.45454545, 36.36363636,\n",
       "       27.27272727, 18.18181818,  9.09090909, 87.5       , 75.        ,\n",
       "       62.5       , 50.        , 37.5       , 25.        , 12.5       ]))], scale_x=LinearScale(allow_padding=False, max=1.0, min=0.0), scale_y=LinearScale(allow_padding=False, max=1.0, min=0.0), title='Analyzing the Trained Neural Network')), layout=Layout(min_height='1500px'))"
      ]
     },
     "metadata": {},
     "output_type": "display_data"
    },
    {
     "ename": "IndexError",
     "evalue": "too many indices for array",
     "output_type": "error",
     "traceback": [
      "\u001b[0;31m---------------------------------------------------------------------------\u001b[0m",
      "\u001b[0;31mIndexError\u001b[0m                                Traceback (most recent call last)",
      "\u001b[0;32m/home/namanda/anaconda3.6/lib/python3.6/site-packages/ipywidgets/widgets/widget.py\u001b[0m in \u001b[0;36m_handle_msg\u001b[0;34m(self, msg)\u001b[0m\n\u001b[1;32m    665\u001b[0m                 \u001b[0;32mif\u001b[0m \u001b[0;34m'buffer_paths'\u001b[0m \u001b[0;32min\u001b[0m \u001b[0mdata\u001b[0m\u001b[0;34m:\u001b[0m\u001b[0;34m\u001b[0m\u001b[0m\n\u001b[1;32m    666\u001b[0m                     \u001b[0m_put_buffers\u001b[0m\u001b[0;34m(\u001b[0m\u001b[0mstate\u001b[0m\u001b[0;34m,\u001b[0m \u001b[0mdata\u001b[0m\u001b[0;34m[\u001b[0m\u001b[0;34m'buffer_paths'\u001b[0m\u001b[0;34m]\u001b[0m\u001b[0;34m,\u001b[0m \u001b[0mmsg\u001b[0m\u001b[0;34m[\u001b[0m\u001b[0;34m'buffers'\u001b[0m\u001b[0;34m]\u001b[0m\u001b[0;34m)\u001b[0m\u001b[0;34m\u001b[0m\u001b[0m\n\u001b[0;32m--> 667\u001b[0;31m                 \u001b[0mself\u001b[0m\u001b[0;34m.\u001b[0m\u001b[0mset_state\u001b[0m\u001b[0;34m(\u001b[0m\u001b[0mstate\u001b[0m\u001b[0;34m)\u001b[0m\u001b[0;34m\u001b[0m\u001b[0m\n\u001b[0m\u001b[1;32m    668\u001b[0m \u001b[0;34m\u001b[0m\u001b[0m\n\u001b[1;32m    669\u001b[0m         \u001b[0;31m# Handle a state request.\u001b[0m\u001b[0;34m\u001b[0m\u001b[0;34m\u001b[0m\u001b[0m\n",
      "\u001b[0;32m/home/namanda/anaconda3.6/lib/python3.6/site-packages/ipywidgets/widgets/widget.py\u001b[0m in \u001b[0;36mset_state\u001b[0;34m(self, sync_data)\u001b[0m\n\u001b[1;32m    535\u001b[0m                     from_json = self.trait_metadata(name, 'from_json',\n\u001b[1;32m    536\u001b[0m                                                     self._trait_from_json)\n\u001b[0;32m--> 537\u001b[0;31m                     \u001b[0mself\u001b[0m\u001b[0;34m.\u001b[0m\u001b[0mset_trait\u001b[0m\u001b[0;34m(\u001b[0m\u001b[0mname\u001b[0m\u001b[0;34m,\u001b[0m \u001b[0mfrom_json\u001b[0m\u001b[0;34m(\u001b[0m\u001b[0msync_data\u001b[0m\u001b[0;34m[\u001b[0m\u001b[0mname\u001b[0m\u001b[0;34m]\u001b[0m\u001b[0;34m,\u001b[0m \u001b[0mself\u001b[0m\u001b[0;34m)\u001b[0m\u001b[0;34m)\u001b[0m\u001b[0;34m\u001b[0m\u001b[0m\n\u001b[0m\u001b[1;32m    538\u001b[0m \u001b[0;34m\u001b[0m\u001b[0m\n\u001b[1;32m    539\u001b[0m     \u001b[0;32mdef\u001b[0m \u001b[0msend\u001b[0m\u001b[0;34m(\u001b[0m\u001b[0mself\u001b[0m\u001b[0;34m,\u001b[0m \u001b[0mcontent\u001b[0m\u001b[0;34m,\u001b[0m \u001b[0mbuffers\u001b[0m\u001b[0;34m=\u001b[0m\u001b[0;32mNone\u001b[0m\u001b[0;34m)\u001b[0m\u001b[0;34m:\u001b[0m\u001b[0;34m\u001b[0m\u001b[0m\n",
      "\u001b[0;32m/home/namanda/anaconda3.6/lib/python3.6/contextlib.py\u001b[0m in \u001b[0;36m__exit__\u001b[0;34m(self, type, value, traceback)\u001b[0m\n\u001b[1;32m     87\u001b[0m         \u001b[0;32mif\u001b[0m \u001b[0mtype\u001b[0m \u001b[0;32mis\u001b[0m \u001b[0;32mNone\u001b[0m\u001b[0;34m:\u001b[0m\u001b[0;34m\u001b[0m\u001b[0m\n\u001b[1;32m     88\u001b[0m             \u001b[0;32mtry\u001b[0m\u001b[0;34m:\u001b[0m\u001b[0;34m\u001b[0m\u001b[0m\n\u001b[0;32m---> 89\u001b[0;31m                 \u001b[0mnext\u001b[0m\u001b[0;34m(\u001b[0m\u001b[0mself\u001b[0m\u001b[0;34m.\u001b[0m\u001b[0mgen\u001b[0m\u001b[0;34m)\u001b[0m\u001b[0;34m\u001b[0m\u001b[0m\n\u001b[0m\u001b[1;32m     90\u001b[0m             \u001b[0;32mexcept\u001b[0m \u001b[0mStopIteration\u001b[0m\u001b[0;34m:\u001b[0m\u001b[0;34m\u001b[0m\u001b[0m\n\u001b[1;32m     91\u001b[0m                 \u001b[0;32mreturn\u001b[0m\u001b[0;34m\u001b[0m\u001b[0m\n",
      "\u001b[0;32m/home/namanda/anaconda3.6/lib/python3.6/site-packages/traitlets/traitlets.py\u001b[0m in \u001b[0;36mhold_trait_notifications\u001b[0;34m(self)\u001b[0m\n\u001b[1;32m   1129\u001b[0m                 \u001b[0;32mfor\u001b[0m \u001b[0mchanges\u001b[0m \u001b[0;32min\u001b[0m \u001b[0mcache\u001b[0m\u001b[0;34m.\u001b[0m\u001b[0mvalues\u001b[0m\u001b[0;34m(\u001b[0m\u001b[0;34m)\u001b[0m\u001b[0;34m:\u001b[0m\u001b[0;34m\u001b[0m\u001b[0m\n\u001b[1;32m   1130\u001b[0m                     \u001b[0;32mfor\u001b[0m \u001b[0mchange\u001b[0m \u001b[0;32min\u001b[0m \u001b[0mchanges\u001b[0m\u001b[0;34m:\u001b[0m\u001b[0;34m\u001b[0m\u001b[0m\n\u001b[0;32m-> 1131\u001b[0;31m                         \u001b[0mself\u001b[0m\u001b[0;34m.\u001b[0m\u001b[0mnotify_change\u001b[0m\u001b[0;34m(\u001b[0m\u001b[0mchange\u001b[0m\u001b[0;34m)\u001b[0m\u001b[0;34m\u001b[0m\u001b[0m\n\u001b[0m\u001b[1;32m   1132\u001b[0m \u001b[0;34m\u001b[0m\u001b[0m\n\u001b[1;32m   1133\u001b[0m     \u001b[0;32mdef\u001b[0m \u001b[0m_notify_trait\u001b[0m\u001b[0;34m(\u001b[0m\u001b[0mself\u001b[0m\u001b[0;34m,\u001b[0m \u001b[0mname\u001b[0m\u001b[0;34m,\u001b[0m \u001b[0mold_value\u001b[0m\u001b[0;34m,\u001b[0m \u001b[0mnew_value\u001b[0m\u001b[0;34m)\u001b[0m\u001b[0;34m:\u001b[0m\u001b[0;34m\u001b[0m\u001b[0m\n",
      "\u001b[0;32m/home/namanda/anaconda3.6/lib/python3.6/site-packages/ipywidgets/widgets/widget.py\u001b[0m in \u001b[0;36mnotify_change\u001b[0;34m(self, change)\u001b[0m\n\u001b[1;32m    596\u001b[0m                 \u001b[0;31m# Send new state to front-end\u001b[0m\u001b[0;34m\u001b[0m\u001b[0;34m\u001b[0m\u001b[0m\n\u001b[1;32m    597\u001b[0m                 \u001b[0mself\u001b[0m\u001b[0;34m.\u001b[0m\u001b[0msend_state\u001b[0m\u001b[0;34m(\u001b[0m\u001b[0mkey\u001b[0m\u001b[0;34m=\u001b[0m\u001b[0mname\u001b[0m\u001b[0;34m)\u001b[0m\u001b[0;34m\u001b[0m\u001b[0m\n\u001b[0;32m--> 598\u001b[0;31m         \u001b[0msuper\u001b[0m\u001b[0;34m(\u001b[0m\u001b[0mWidget\u001b[0m\u001b[0;34m,\u001b[0m \u001b[0mself\u001b[0m\u001b[0;34m)\u001b[0m\u001b[0;34m.\u001b[0m\u001b[0mnotify_change\u001b[0m\u001b[0;34m(\u001b[0m\u001b[0mchange\u001b[0m\u001b[0;34m)\u001b[0m\u001b[0;34m\u001b[0m\u001b[0m\n\u001b[0m\u001b[1;32m    599\u001b[0m \u001b[0;34m\u001b[0m\u001b[0m\n\u001b[1;32m    600\u001b[0m     \u001b[0;32mdef\u001b[0m \u001b[0m__repr__\u001b[0m\u001b[0;34m(\u001b[0m\u001b[0mself\u001b[0m\u001b[0;34m)\u001b[0m\u001b[0;34m:\u001b[0m\u001b[0;34m\u001b[0m\u001b[0m\n",
      "\u001b[0;32m/home/namanda/anaconda3.6/lib/python3.6/site-packages/traitlets/traitlets.py\u001b[0m in \u001b[0;36mnotify_change\u001b[0;34m(self, change)\u001b[0m\n\u001b[1;32m   1174\u001b[0m                 \u001b[0mc\u001b[0m \u001b[0;34m=\u001b[0m \u001b[0mgetattr\u001b[0m\u001b[0;34m(\u001b[0m\u001b[0mself\u001b[0m\u001b[0;34m,\u001b[0m \u001b[0mc\u001b[0m\u001b[0;34m.\u001b[0m\u001b[0mname\u001b[0m\u001b[0;34m)\u001b[0m\u001b[0;34m\u001b[0m\u001b[0m\n\u001b[1;32m   1175\u001b[0m \u001b[0;34m\u001b[0m\u001b[0m\n\u001b[0;32m-> 1176\u001b[0;31m             \u001b[0mc\u001b[0m\u001b[0;34m(\u001b[0m\u001b[0mchange\u001b[0m\u001b[0;34m)\u001b[0m\u001b[0;34m\u001b[0m\u001b[0m\n\u001b[0m\u001b[1;32m   1177\u001b[0m \u001b[0;34m\u001b[0m\u001b[0m\n\u001b[1;32m   1178\u001b[0m     \u001b[0;32mdef\u001b[0m \u001b[0m_add_notifiers\u001b[0m\u001b[0;34m(\u001b[0m\u001b[0mself\u001b[0m\u001b[0;34m,\u001b[0m \u001b[0mhandler\u001b[0m\u001b[0;34m,\u001b[0m \u001b[0mname\u001b[0m\u001b[0;34m,\u001b[0m \u001b[0mtype\u001b[0m\u001b[0;34m)\u001b[0m\u001b[0;34m:\u001b[0m\u001b[0;34m\u001b[0m\u001b[0m\n",
      "\u001b[0;32m<ipython-input-66-508bd9da7e6d>\u001b[0m in \u001b[0;36mhovered_change\u001b[0;34m(change)\u001b[0m\n\u001b[1;32m     33\u001b[0m                 \u001b[0mpoint_index\u001b[0m \u001b[0;34m=\u001b[0m \u001b[0mpoint_index\u001b[0m \u001b[0;34m-\u001b[0m \u001b[0mn\u001b[0m\u001b[0;34m\u001b[0m\u001b[0m\n\u001b[1;32m     34\u001b[0m         \u001b[0;32mif\u001b[0m \u001b[0mi\u001b[0m \u001b[0;34m>\u001b[0m \u001b[0;36m0\u001b[0m\u001b[0;34m:\u001b[0m\u001b[0;34m\u001b[0m\u001b[0m\n\u001b[0;32m---> 35\u001b[0;31m             \u001b[0mupdate_bar_chart\u001b[0m\u001b[0;34m(\u001b[0m\u001b[0mi\u001b[0m\u001b[0;34m,\u001b[0m \u001b[0mpoint_index\u001b[0m\u001b[0;34m)\u001b[0m\u001b[0;34m\u001b[0m\u001b[0m\n\u001b[0m\u001b[1;32m     36\u001b[0m \u001b[0;34m\u001b[0m\u001b[0m\n\u001b[1;32m     37\u001b[0m \u001b[0mnn\u001b[0m\u001b[0;34m.\u001b[0m\u001b[0mgraph\u001b[0m\u001b[0;34m.\u001b[0m\u001b[0mobserve\u001b[0m\u001b[0;34m(\u001b[0m\u001b[0mhovered_change\u001b[0m\u001b[0;34m,\u001b[0m \u001b[0;34m'hovered_point'\u001b[0m\u001b[0;34m)\u001b[0m\u001b[0;34m\u001b[0m\u001b[0m\n",
      "\u001b[0;32m<ipython-input-66-508bd9da7e6d>\u001b[0m in \u001b[0;36mupdate_bar_chart\u001b[0;34m(layer, node)\u001b[0m\n\u001b[1;32m     10\u001b[0m \u001b[0;34m\u001b[0m\u001b[0m\n\u001b[1;32m     11\u001b[0m     \u001b[0;32mif\u001b[0m \u001b[0mmode_dd\u001b[0m\u001b[0;34m.\u001b[0m\u001b[0mvalue\u001b[0m \u001b[0;34m==\u001b[0m \u001b[0;34m'Weights'\u001b[0m\u001b[0;34m:\u001b[0m\u001b[0;34m\u001b[0m\u001b[0m\n\u001b[0;32m---> 12\u001b[0;31m         \u001b[0mdisplay_vals\u001b[0m \u001b[0;34m=\u001b[0m \u001b[0mget_weights_for_node_at_layer\u001b[0m\u001b[0;34m(\u001b[0m\u001b[0mcleaned_weights\u001b[0m\u001b[0;34m,\u001b[0m \u001b[0mepoch\u001b[0m\u001b[0;34m,\u001b[0m \u001b[0mlayer\u001b[0m\u001b[0;34m-\u001b[0m\u001b[0;36m1\u001b[0m\u001b[0;34m,\u001b[0m \u001b[0mnode\u001b[0m\u001b[0;34m)\u001b[0m\u001b[0;34m\u001b[0m\u001b[0m\n\u001b[0m\u001b[1;32m     13\u001b[0m     \u001b[0;32melif\u001b[0m \u001b[0mmode_dd\u001b[0m\u001b[0;34m.\u001b[0m\u001b[0mvalue\u001b[0m \u001b[0;34m==\u001b[0m \u001b[0;34m'Gradients'\u001b[0m\u001b[0;34m:\u001b[0m\u001b[0;34m\u001b[0m\u001b[0m\n\u001b[1;32m     14\u001b[0m         \u001b[0mdisplay_vals\u001b[0m \u001b[0;34m=\u001b[0m \u001b[0mget_gradients_for_node_at_layer\u001b[0m\u001b[0;34m(\u001b[0m\u001b[0mweights_callback\u001b[0m\u001b[0;34m.\u001b[0m\u001b[0mgradients\u001b[0m\u001b[0;34m,\u001b[0m \u001b[0mepoch\u001b[0m\u001b[0;34m,\u001b[0m \u001b[0mlayer\u001b[0m\u001b[0;34m-\u001b[0m\u001b[0;36m1\u001b[0m\u001b[0;34m,\u001b[0m \u001b[0mnode\u001b[0m\u001b[0;34m)\u001b[0m\u001b[0;34m\u001b[0m\u001b[0m\n",
      "\u001b[0;32m<ipython-input-58-1a24279058f2>\u001b[0m in \u001b[0;36mget_weights_for_node_at_layer\u001b[0;34m(weights, epoch_num, layer_num, node_num)\u001b[0m\n\u001b[1;32m     16\u001b[0m     \u001b[0mlayer_bias\u001b[0m \u001b[0;34m=\u001b[0m \u001b[0mlayer_params\u001b[0m\u001b[0;34m[\u001b[0m\u001b[0;36m1\u001b[0m\u001b[0;34m]\u001b[0m\u001b[0;34m\u001b[0m\u001b[0m\n\u001b[1;32m     17\u001b[0m \u001b[0;34m\u001b[0m\u001b[0m\n\u001b[0;32m---> 18\u001b[0;31m     \u001b[0mnode_weights\u001b[0m \u001b[0;34m=\u001b[0m \u001b[0mlayer_weights\u001b[0m\u001b[0;34m[\u001b[0m\u001b[0;34m:\u001b[0m\u001b[0;34m,\u001b[0m \u001b[0mnode_num\u001b[0m\u001b[0;34m]\u001b[0m\u001b[0;34m\u001b[0m\u001b[0m\n\u001b[0m\u001b[1;32m     19\u001b[0m     \u001b[0mnode_bias\u001b[0m \u001b[0;34m=\u001b[0m \u001b[0mlayer_bias\u001b[0m\u001b[0;34m[\u001b[0m\u001b[0mnode_num\u001b[0m\u001b[0;34m]\u001b[0m\u001b[0;34m\u001b[0m\u001b[0m\n\u001b[1;32m     20\u001b[0m \u001b[0;34m\u001b[0m\u001b[0m\n",
      "\u001b[0;31mIndexError\u001b[0m: too many indices for array"
     ]
    },
    {
     "ename": "IndexError",
     "evalue": "too many indices for array",
     "output_type": "error",
     "traceback": [
      "\u001b[0;31m---------------------------------------------------------------------------\u001b[0m",
      "\u001b[0;31mIndexError\u001b[0m                                Traceback (most recent call last)",
      "\u001b[0;32m/home/namanda/anaconda3.6/lib/python3.6/site-packages/ipywidgets/widgets/widget.py\u001b[0m in \u001b[0;36m_handle_msg\u001b[0;34m(self, msg)\u001b[0m\n\u001b[1;32m    665\u001b[0m                 \u001b[0;32mif\u001b[0m \u001b[0;34m'buffer_paths'\u001b[0m \u001b[0;32min\u001b[0m \u001b[0mdata\u001b[0m\u001b[0;34m:\u001b[0m\u001b[0;34m\u001b[0m\u001b[0m\n\u001b[1;32m    666\u001b[0m                     \u001b[0m_put_buffers\u001b[0m\u001b[0;34m(\u001b[0m\u001b[0mstate\u001b[0m\u001b[0;34m,\u001b[0m \u001b[0mdata\u001b[0m\u001b[0;34m[\u001b[0m\u001b[0;34m'buffer_paths'\u001b[0m\u001b[0;34m]\u001b[0m\u001b[0;34m,\u001b[0m \u001b[0mmsg\u001b[0m\u001b[0;34m[\u001b[0m\u001b[0;34m'buffers'\u001b[0m\u001b[0;34m]\u001b[0m\u001b[0;34m)\u001b[0m\u001b[0;34m\u001b[0m\u001b[0m\n\u001b[0;32m--> 667\u001b[0;31m                 \u001b[0mself\u001b[0m\u001b[0;34m.\u001b[0m\u001b[0mset_state\u001b[0m\u001b[0;34m(\u001b[0m\u001b[0mstate\u001b[0m\u001b[0;34m)\u001b[0m\u001b[0;34m\u001b[0m\u001b[0m\n\u001b[0m\u001b[1;32m    668\u001b[0m \u001b[0;34m\u001b[0m\u001b[0m\n\u001b[1;32m    669\u001b[0m         \u001b[0;31m# Handle a state request.\u001b[0m\u001b[0;34m\u001b[0m\u001b[0;34m\u001b[0m\u001b[0m\n",
      "\u001b[0;32m/home/namanda/anaconda3.6/lib/python3.6/site-packages/ipywidgets/widgets/widget.py\u001b[0m in \u001b[0;36mset_state\u001b[0;34m(self, sync_data)\u001b[0m\n\u001b[1;32m    535\u001b[0m                     from_json = self.trait_metadata(name, 'from_json',\n\u001b[1;32m    536\u001b[0m                                                     self._trait_from_json)\n\u001b[0;32m--> 537\u001b[0;31m                     \u001b[0mself\u001b[0m\u001b[0;34m.\u001b[0m\u001b[0mset_trait\u001b[0m\u001b[0;34m(\u001b[0m\u001b[0mname\u001b[0m\u001b[0;34m,\u001b[0m \u001b[0mfrom_json\u001b[0m\u001b[0;34m(\u001b[0m\u001b[0msync_data\u001b[0m\u001b[0;34m[\u001b[0m\u001b[0mname\u001b[0m\u001b[0;34m]\u001b[0m\u001b[0;34m,\u001b[0m \u001b[0mself\u001b[0m\u001b[0;34m)\u001b[0m\u001b[0;34m)\u001b[0m\u001b[0;34m\u001b[0m\u001b[0m\n\u001b[0m\u001b[1;32m    538\u001b[0m \u001b[0;34m\u001b[0m\u001b[0m\n\u001b[1;32m    539\u001b[0m     \u001b[0;32mdef\u001b[0m \u001b[0msend\u001b[0m\u001b[0;34m(\u001b[0m\u001b[0mself\u001b[0m\u001b[0;34m,\u001b[0m \u001b[0mcontent\u001b[0m\u001b[0;34m,\u001b[0m \u001b[0mbuffers\u001b[0m\u001b[0;34m=\u001b[0m\u001b[0;32mNone\u001b[0m\u001b[0;34m)\u001b[0m\u001b[0;34m:\u001b[0m\u001b[0;34m\u001b[0m\u001b[0m\n",
      "\u001b[0;32m/home/namanda/anaconda3.6/lib/python3.6/contextlib.py\u001b[0m in \u001b[0;36m__exit__\u001b[0;34m(self, type, value, traceback)\u001b[0m\n\u001b[1;32m     87\u001b[0m         \u001b[0;32mif\u001b[0m \u001b[0mtype\u001b[0m \u001b[0;32mis\u001b[0m \u001b[0;32mNone\u001b[0m\u001b[0;34m:\u001b[0m\u001b[0;34m\u001b[0m\u001b[0m\n\u001b[1;32m     88\u001b[0m             \u001b[0;32mtry\u001b[0m\u001b[0;34m:\u001b[0m\u001b[0;34m\u001b[0m\u001b[0m\n\u001b[0;32m---> 89\u001b[0;31m                 \u001b[0mnext\u001b[0m\u001b[0;34m(\u001b[0m\u001b[0mself\u001b[0m\u001b[0;34m.\u001b[0m\u001b[0mgen\u001b[0m\u001b[0;34m)\u001b[0m\u001b[0;34m\u001b[0m\u001b[0m\n\u001b[0m\u001b[1;32m     90\u001b[0m             \u001b[0;32mexcept\u001b[0m \u001b[0mStopIteration\u001b[0m\u001b[0;34m:\u001b[0m\u001b[0;34m\u001b[0m\u001b[0m\n\u001b[1;32m     91\u001b[0m                 \u001b[0;32mreturn\u001b[0m\u001b[0;34m\u001b[0m\u001b[0m\n",
      "\u001b[0;32m/home/namanda/anaconda3.6/lib/python3.6/site-packages/traitlets/traitlets.py\u001b[0m in \u001b[0;36mhold_trait_notifications\u001b[0;34m(self)\u001b[0m\n\u001b[1;32m   1129\u001b[0m                 \u001b[0;32mfor\u001b[0m \u001b[0mchanges\u001b[0m \u001b[0;32min\u001b[0m \u001b[0mcache\u001b[0m\u001b[0;34m.\u001b[0m\u001b[0mvalues\u001b[0m\u001b[0;34m(\u001b[0m\u001b[0;34m)\u001b[0m\u001b[0;34m:\u001b[0m\u001b[0;34m\u001b[0m\u001b[0m\n\u001b[1;32m   1130\u001b[0m                     \u001b[0;32mfor\u001b[0m \u001b[0mchange\u001b[0m \u001b[0;32min\u001b[0m \u001b[0mchanges\u001b[0m\u001b[0;34m:\u001b[0m\u001b[0;34m\u001b[0m\u001b[0m\n\u001b[0;32m-> 1131\u001b[0;31m                         \u001b[0mself\u001b[0m\u001b[0;34m.\u001b[0m\u001b[0mnotify_change\u001b[0m\u001b[0;34m(\u001b[0m\u001b[0mchange\u001b[0m\u001b[0;34m)\u001b[0m\u001b[0;34m\u001b[0m\u001b[0m\n\u001b[0m\u001b[1;32m   1132\u001b[0m \u001b[0;34m\u001b[0m\u001b[0m\n\u001b[1;32m   1133\u001b[0m     \u001b[0;32mdef\u001b[0m \u001b[0m_notify_trait\u001b[0m\u001b[0;34m(\u001b[0m\u001b[0mself\u001b[0m\u001b[0;34m,\u001b[0m \u001b[0mname\u001b[0m\u001b[0;34m,\u001b[0m \u001b[0mold_value\u001b[0m\u001b[0;34m,\u001b[0m \u001b[0mnew_value\u001b[0m\u001b[0;34m)\u001b[0m\u001b[0;34m:\u001b[0m\u001b[0;34m\u001b[0m\u001b[0m\n",
      "\u001b[0;32m/home/namanda/anaconda3.6/lib/python3.6/site-packages/ipywidgets/widgets/widget.py\u001b[0m in \u001b[0;36mnotify_change\u001b[0;34m(self, change)\u001b[0m\n\u001b[1;32m    596\u001b[0m                 \u001b[0;31m# Send new state to front-end\u001b[0m\u001b[0;34m\u001b[0m\u001b[0;34m\u001b[0m\u001b[0m\n\u001b[1;32m    597\u001b[0m                 \u001b[0mself\u001b[0m\u001b[0;34m.\u001b[0m\u001b[0msend_state\u001b[0m\u001b[0;34m(\u001b[0m\u001b[0mkey\u001b[0m\u001b[0;34m=\u001b[0m\u001b[0mname\u001b[0m\u001b[0;34m)\u001b[0m\u001b[0;34m\u001b[0m\u001b[0m\n\u001b[0;32m--> 598\u001b[0;31m         \u001b[0msuper\u001b[0m\u001b[0;34m(\u001b[0m\u001b[0mWidget\u001b[0m\u001b[0;34m,\u001b[0m \u001b[0mself\u001b[0m\u001b[0;34m)\u001b[0m\u001b[0;34m.\u001b[0m\u001b[0mnotify_change\u001b[0m\u001b[0;34m(\u001b[0m\u001b[0mchange\u001b[0m\u001b[0;34m)\u001b[0m\u001b[0;34m\u001b[0m\u001b[0m\n\u001b[0m\u001b[1;32m    599\u001b[0m \u001b[0;34m\u001b[0m\u001b[0m\n\u001b[1;32m    600\u001b[0m     \u001b[0;32mdef\u001b[0m \u001b[0m__repr__\u001b[0m\u001b[0;34m(\u001b[0m\u001b[0mself\u001b[0m\u001b[0;34m)\u001b[0m\u001b[0;34m:\u001b[0m\u001b[0;34m\u001b[0m\u001b[0m\n",
      "\u001b[0;32m/home/namanda/anaconda3.6/lib/python3.6/site-packages/traitlets/traitlets.py\u001b[0m in \u001b[0;36mnotify_change\u001b[0;34m(self, change)\u001b[0m\n\u001b[1;32m   1174\u001b[0m                 \u001b[0mc\u001b[0m \u001b[0;34m=\u001b[0m \u001b[0mgetattr\u001b[0m\u001b[0;34m(\u001b[0m\u001b[0mself\u001b[0m\u001b[0;34m,\u001b[0m \u001b[0mc\u001b[0m\u001b[0;34m.\u001b[0m\u001b[0mname\u001b[0m\u001b[0;34m)\u001b[0m\u001b[0;34m\u001b[0m\u001b[0m\n\u001b[1;32m   1175\u001b[0m \u001b[0;34m\u001b[0m\u001b[0m\n\u001b[0;32m-> 1176\u001b[0;31m             \u001b[0mc\u001b[0m\u001b[0;34m(\u001b[0m\u001b[0mchange\u001b[0m\u001b[0;34m)\u001b[0m\u001b[0;34m\u001b[0m\u001b[0m\n\u001b[0m\u001b[1;32m   1177\u001b[0m \u001b[0;34m\u001b[0m\u001b[0m\n\u001b[1;32m   1178\u001b[0m     \u001b[0;32mdef\u001b[0m \u001b[0m_add_notifiers\u001b[0m\u001b[0;34m(\u001b[0m\u001b[0mself\u001b[0m\u001b[0;34m,\u001b[0m \u001b[0mhandler\u001b[0m\u001b[0;34m,\u001b[0m \u001b[0mname\u001b[0m\u001b[0;34m,\u001b[0m \u001b[0mtype\u001b[0m\u001b[0;34m)\u001b[0m\u001b[0;34m:\u001b[0m\u001b[0;34m\u001b[0m\u001b[0m\n",
      "\u001b[0;32m<ipython-input-66-508bd9da7e6d>\u001b[0m in \u001b[0;36mhovered_change\u001b[0;34m(change)\u001b[0m\n\u001b[1;32m     33\u001b[0m                 \u001b[0mpoint_index\u001b[0m \u001b[0;34m=\u001b[0m \u001b[0mpoint_index\u001b[0m \u001b[0;34m-\u001b[0m \u001b[0mn\u001b[0m\u001b[0;34m\u001b[0m\u001b[0m\n\u001b[1;32m     34\u001b[0m         \u001b[0;32mif\u001b[0m \u001b[0mi\u001b[0m \u001b[0;34m>\u001b[0m \u001b[0;36m0\u001b[0m\u001b[0;34m:\u001b[0m\u001b[0;34m\u001b[0m\u001b[0m\n\u001b[0;32m---> 35\u001b[0;31m             \u001b[0mupdate_bar_chart\u001b[0m\u001b[0;34m(\u001b[0m\u001b[0mi\u001b[0m\u001b[0;34m,\u001b[0m \u001b[0mpoint_index\u001b[0m\u001b[0;34m)\u001b[0m\u001b[0;34m\u001b[0m\u001b[0m\n\u001b[0m\u001b[1;32m     36\u001b[0m \u001b[0;34m\u001b[0m\u001b[0m\n\u001b[1;32m     37\u001b[0m \u001b[0mnn\u001b[0m\u001b[0;34m.\u001b[0m\u001b[0mgraph\u001b[0m\u001b[0;34m.\u001b[0m\u001b[0mobserve\u001b[0m\u001b[0;34m(\u001b[0m\u001b[0mhovered_change\u001b[0m\u001b[0;34m,\u001b[0m \u001b[0;34m'hovered_point'\u001b[0m\u001b[0;34m)\u001b[0m\u001b[0;34m\u001b[0m\u001b[0m\n",
      "\u001b[0;32m<ipython-input-66-508bd9da7e6d>\u001b[0m in \u001b[0;36mupdate_bar_chart\u001b[0;34m(layer, node)\u001b[0m\n\u001b[1;32m     10\u001b[0m \u001b[0;34m\u001b[0m\u001b[0m\n\u001b[1;32m     11\u001b[0m     \u001b[0;32mif\u001b[0m \u001b[0mmode_dd\u001b[0m\u001b[0;34m.\u001b[0m\u001b[0mvalue\u001b[0m \u001b[0;34m==\u001b[0m \u001b[0;34m'Weights'\u001b[0m\u001b[0;34m:\u001b[0m\u001b[0;34m\u001b[0m\u001b[0m\n\u001b[0;32m---> 12\u001b[0;31m         \u001b[0mdisplay_vals\u001b[0m \u001b[0;34m=\u001b[0m \u001b[0mget_weights_for_node_at_layer\u001b[0m\u001b[0;34m(\u001b[0m\u001b[0mcleaned_weights\u001b[0m\u001b[0;34m,\u001b[0m \u001b[0mepoch\u001b[0m\u001b[0;34m,\u001b[0m \u001b[0mlayer\u001b[0m\u001b[0;34m-\u001b[0m\u001b[0;36m1\u001b[0m\u001b[0;34m,\u001b[0m \u001b[0mnode\u001b[0m\u001b[0;34m)\u001b[0m\u001b[0;34m\u001b[0m\u001b[0m\n\u001b[0m\u001b[1;32m     13\u001b[0m     \u001b[0;32melif\u001b[0m \u001b[0mmode_dd\u001b[0m\u001b[0;34m.\u001b[0m\u001b[0mvalue\u001b[0m \u001b[0;34m==\u001b[0m \u001b[0;34m'Gradients'\u001b[0m\u001b[0;34m:\u001b[0m\u001b[0;34m\u001b[0m\u001b[0m\n\u001b[1;32m     14\u001b[0m         \u001b[0mdisplay_vals\u001b[0m \u001b[0;34m=\u001b[0m \u001b[0mget_gradients_for_node_at_layer\u001b[0m\u001b[0;34m(\u001b[0m\u001b[0mweights_callback\u001b[0m\u001b[0;34m.\u001b[0m\u001b[0mgradients\u001b[0m\u001b[0;34m,\u001b[0m \u001b[0mepoch\u001b[0m\u001b[0;34m,\u001b[0m \u001b[0mlayer\u001b[0m\u001b[0;34m-\u001b[0m\u001b[0;36m1\u001b[0m\u001b[0;34m,\u001b[0m \u001b[0mnode\u001b[0m\u001b[0;34m)\u001b[0m\u001b[0;34m\u001b[0m\u001b[0m\n",
      "\u001b[0;32m<ipython-input-58-1a24279058f2>\u001b[0m in \u001b[0;36mget_weights_for_node_at_layer\u001b[0;34m(weights, epoch_num, layer_num, node_num)\u001b[0m\n\u001b[1;32m     16\u001b[0m     \u001b[0mlayer_bias\u001b[0m \u001b[0;34m=\u001b[0m \u001b[0mlayer_params\u001b[0m\u001b[0;34m[\u001b[0m\u001b[0;36m1\u001b[0m\u001b[0;34m]\u001b[0m\u001b[0;34m\u001b[0m\u001b[0m\n\u001b[1;32m     17\u001b[0m \u001b[0;34m\u001b[0m\u001b[0m\n\u001b[0;32m---> 18\u001b[0;31m     \u001b[0mnode_weights\u001b[0m \u001b[0;34m=\u001b[0m \u001b[0mlayer_weights\u001b[0m\u001b[0;34m[\u001b[0m\u001b[0;34m:\u001b[0m\u001b[0;34m,\u001b[0m \u001b[0mnode_num\u001b[0m\u001b[0;34m]\u001b[0m\u001b[0;34m\u001b[0m\u001b[0m\n\u001b[0m\u001b[1;32m     19\u001b[0m     \u001b[0mnode_bias\u001b[0m \u001b[0;34m=\u001b[0m \u001b[0mlayer_bias\u001b[0m\u001b[0;34m[\u001b[0m\u001b[0mnode_num\u001b[0m\u001b[0;34m]\u001b[0m\u001b[0;34m\u001b[0m\u001b[0m\n\u001b[1;32m     20\u001b[0m \u001b[0;34m\u001b[0m\u001b[0m\n",
      "\u001b[0;31mIndexError\u001b[0m: too many indices for array"
     ]
    },
    {
     "ename": "IndexError",
     "evalue": "too many indices for array",
     "output_type": "error",
     "traceback": [
      "\u001b[0;31m---------------------------------------------------------------------------\u001b[0m",
      "\u001b[0;31mIndexError\u001b[0m                                Traceback (most recent call last)",
      "\u001b[0;32m/home/namanda/anaconda3.6/lib/python3.6/site-packages/ipywidgets/widgets/widget.py\u001b[0m in \u001b[0;36m_handle_msg\u001b[0;34m(self, msg)\u001b[0m\n\u001b[1;32m    665\u001b[0m                 \u001b[0;32mif\u001b[0m \u001b[0;34m'buffer_paths'\u001b[0m \u001b[0;32min\u001b[0m \u001b[0mdata\u001b[0m\u001b[0;34m:\u001b[0m\u001b[0;34m\u001b[0m\u001b[0m\n\u001b[1;32m    666\u001b[0m                     \u001b[0m_put_buffers\u001b[0m\u001b[0;34m(\u001b[0m\u001b[0mstate\u001b[0m\u001b[0;34m,\u001b[0m \u001b[0mdata\u001b[0m\u001b[0;34m[\u001b[0m\u001b[0;34m'buffer_paths'\u001b[0m\u001b[0;34m]\u001b[0m\u001b[0;34m,\u001b[0m \u001b[0mmsg\u001b[0m\u001b[0;34m[\u001b[0m\u001b[0;34m'buffers'\u001b[0m\u001b[0;34m]\u001b[0m\u001b[0;34m)\u001b[0m\u001b[0;34m\u001b[0m\u001b[0m\n\u001b[0;32m--> 667\u001b[0;31m                 \u001b[0mself\u001b[0m\u001b[0;34m.\u001b[0m\u001b[0mset_state\u001b[0m\u001b[0;34m(\u001b[0m\u001b[0mstate\u001b[0m\u001b[0;34m)\u001b[0m\u001b[0;34m\u001b[0m\u001b[0m\n\u001b[0m\u001b[1;32m    668\u001b[0m \u001b[0;34m\u001b[0m\u001b[0m\n\u001b[1;32m    669\u001b[0m         \u001b[0;31m# Handle a state request.\u001b[0m\u001b[0;34m\u001b[0m\u001b[0;34m\u001b[0m\u001b[0m\n",
      "\u001b[0;32m/home/namanda/anaconda3.6/lib/python3.6/site-packages/ipywidgets/widgets/widget.py\u001b[0m in \u001b[0;36mset_state\u001b[0;34m(self, sync_data)\u001b[0m\n\u001b[1;32m    535\u001b[0m                     from_json = self.trait_metadata(name, 'from_json',\n\u001b[1;32m    536\u001b[0m                                                     self._trait_from_json)\n\u001b[0;32m--> 537\u001b[0;31m                     \u001b[0mself\u001b[0m\u001b[0;34m.\u001b[0m\u001b[0mset_trait\u001b[0m\u001b[0;34m(\u001b[0m\u001b[0mname\u001b[0m\u001b[0;34m,\u001b[0m \u001b[0mfrom_json\u001b[0m\u001b[0;34m(\u001b[0m\u001b[0msync_data\u001b[0m\u001b[0;34m[\u001b[0m\u001b[0mname\u001b[0m\u001b[0;34m]\u001b[0m\u001b[0;34m,\u001b[0m \u001b[0mself\u001b[0m\u001b[0;34m)\u001b[0m\u001b[0;34m)\u001b[0m\u001b[0;34m\u001b[0m\u001b[0m\n\u001b[0m\u001b[1;32m    538\u001b[0m \u001b[0;34m\u001b[0m\u001b[0m\n\u001b[1;32m    539\u001b[0m     \u001b[0;32mdef\u001b[0m \u001b[0msend\u001b[0m\u001b[0;34m(\u001b[0m\u001b[0mself\u001b[0m\u001b[0;34m,\u001b[0m \u001b[0mcontent\u001b[0m\u001b[0;34m,\u001b[0m \u001b[0mbuffers\u001b[0m\u001b[0;34m=\u001b[0m\u001b[0;32mNone\u001b[0m\u001b[0;34m)\u001b[0m\u001b[0;34m:\u001b[0m\u001b[0;34m\u001b[0m\u001b[0m\n",
      "\u001b[0;32m/home/namanda/anaconda3.6/lib/python3.6/contextlib.py\u001b[0m in \u001b[0;36m__exit__\u001b[0;34m(self, type, value, traceback)\u001b[0m\n\u001b[1;32m     87\u001b[0m         \u001b[0;32mif\u001b[0m \u001b[0mtype\u001b[0m \u001b[0;32mis\u001b[0m \u001b[0;32mNone\u001b[0m\u001b[0;34m:\u001b[0m\u001b[0;34m\u001b[0m\u001b[0m\n\u001b[1;32m     88\u001b[0m             \u001b[0;32mtry\u001b[0m\u001b[0;34m:\u001b[0m\u001b[0;34m\u001b[0m\u001b[0m\n\u001b[0;32m---> 89\u001b[0;31m                 \u001b[0mnext\u001b[0m\u001b[0;34m(\u001b[0m\u001b[0mself\u001b[0m\u001b[0;34m.\u001b[0m\u001b[0mgen\u001b[0m\u001b[0;34m)\u001b[0m\u001b[0;34m\u001b[0m\u001b[0m\n\u001b[0m\u001b[1;32m     90\u001b[0m             \u001b[0;32mexcept\u001b[0m \u001b[0mStopIteration\u001b[0m\u001b[0;34m:\u001b[0m\u001b[0;34m\u001b[0m\u001b[0m\n\u001b[1;32m     91\u001b[0m                 \u001b[0;32mreturn\u001b[0m\u001b[0;34m\u001b[0m\u001b[0m\n",
      "\u001b[0;32m/home/namanda/anaconda3.6/lib/python3.6/site-packages/traitlets/traitlets.py\u001b[0m in \u001b[0;36mhold_trait_notifications\u001b[0;34m(self)\u001b[0m\n\u001b[1;32m   1129\u001b[0m                 \u001b[0;32mfor\u001b[0m \u001b[0mchanges\u001b[0m \u001b[0;32min\u001b[0m \u001b[0mcache\u001b[0m\u001b[0;34m.\u001b[0m\u001b[0mvalues\u001b[0m\u001b[0;34m(\u001b[0m\u001b[0;34m)\u001b[0m\u001b[0;34m:\u001b[0m\u001b[0;34m\u001b[0m\u001b[0m\n\u001b[1;32m   1130\u001b[0m                     \u001b[0;32mfor\u001b[0m \u001b[0mchange\u001b[0m \u001b[0;32min\u001b[0m \u001b[0mchanges\u001b[0m\u001b[0;34m:\u001b[0m\u001b[0;34m\u001b[0m\u001b[0m\n\u001b[0;32m-> 1131\u001b[0;31m                         \u001b[0mself\u001b[0m\u001b[0;34m.\u001b[0m\u001b[0mnotify_change\u001b[0m\u001b[0;34m(\u001b[0m\u001b[0mchange\u001b[0m\u001b[0;34m)\u001b[0m\u001b[0;34m\u001b[0m\u001b[0m\n\u001b[0m\u001b[1;32m   1132\u001b[0m \u001b[0;34m\u001b[0m\u001b[0m\n\u001b[1;32m   1133\u001b[0m     \u001b[0;32mdef\u001b[0m \u001b[0m_notify_trait\u001b[0m\u001b[0;34m(\u001b[0m\u001b[0mself\u001b[0m\u001b[0;34m,\u001b[0m \u001b[0mname\u001b[0m\u001b[0;34m,\u001b[0m \u001b[0mold_value\u001b[0m\u001b[0;34m,\u001b[0m \u001b[0mnew_value\u001b[0m\u001b[0;34m)\u001b[0m\u001b[0;34m:\u001b[0m\u001b[0;34m\u001b[0m\u001b[0m\n",
      "\u001b[0;32m/home/namanda/anaconda3.6/lib/python3.6/site-packages/ipywidgets/widgets/widget.py\u001b[0m in \u001b[0;36mnotify_change\u001b[0;34m(self, change)\u001b[0m\n\u001b[1;32m    596\u001b[0m                 \u001b[0;31m# Send new state to front-end\u001b[0m\u001b[0;34m\u001b[0m\u001b[0;34m\u001b[0m\u001b[0m\n\u001b[1;32m    597\u001b[0m                 \u001b[0mself\u001b[0m\u001b[0;34m.\u001b[0m\u001b[0msend_state\u001b[0m\u001b[0;34m(\u001b[0m\u001b[0mkey\u001b[0m\u001b[0;34m=\u001b[0m\u001b[0mname\u001b[0m\u001b[0;34m)\u001b[0m\u001b[0;34m\u001b[0m\u001b[0m\n\u001b[0;32m--> 598\u001b[0;31m         \u001b[0msuper\u001b[0m\u001b[0;34m(\u001b[0m\u001b[0mWidget\u001b[0m\u001b[0;34m,\u001b[0m \u001b[0mself\u001b[0m\u001b[0;34m)\u001b[0m\u001b[0;34m.\u001b[0m\u001b[0mnotify_change\u001b[0m\u001b[0;34m(\u001b[0m\u001b[0mchange\u001b[0m\u001b[0;34m)\u001b[0m\u001b[0;34m\u001b[0m\u001b[0m\n\u001b[0m\u001b[1;32m    599\u001b[0m \u001b[0;34m\u001b[0m\u001b[0m\n\u001b[1;32m    600\u001b[0m     \u001b[0;32mdef\u001b[0m \u001b[0m__repr__\u001b[0m\u001b[0;34m(\u001b[0m\u001b[0mself\u001b[0m\u001b[0;34m)\u001b[0m\u001b[0;34m:\u001b[0m\u001b[0;34m\u001b[0m\u001b[0m\n",
      "\u001b[0;32m/home/namanda/anaconda3.6/lib/python3.6/site-packages/traitlets/traitlets.py\u001b[0m in \u001b[0;36mnotify_change\u001b[0;34m(self, change)\u001b[0m\n\u001b[1;32m   1174\u001b[0m                 \u001b[0mc\u001b[0m \u001b[0;34m=\u001b[0m \u001b[0mgetattr\u001b[0m\u001b[0;34m(\u001b[0m\u001b[0mself\u001b[0m\u001b[0;34m,\u001b[0m \u001b[0mc\u001b[0m\u001b[0;34m.\u001b[0m\u001b[0mname\u001b[0m\u001b[0;34m)\u001b[0m\u001b[0;34m\u001b[0m\u001b[0m\n\u001b[1;32m   1175\u001b[0m \u001b[0;34m\u001b[0m\u001b[0m\n\u001b[0;32m-> 1176\u001b[0;31m             \u001b[0mc\u001b[0m\u001b[0;34m(\u001b[0m\u001b[0mchange\u001b[0m\u001b[0;34m)\u001b[0m\u001b[0;34m\u001b[0m\u001b[0m\n\u001b[0m\u001b[1;32m   1177\u001b[0m \u001b[0;34m\u001b[0m\u001b[0m\n\u001b[1;32m   1178\u001b[0m     \u001b[0;32mdef\u001b[0m \u001b[0m_add_notifiers\u001b[0m\u001b[0;34m(\u001b[0m\u001b[0mself\u001b[0m\u001b[0;34m,\u001b[0m \u001b[0mhandler\u001b[0m\u001b[0;34m,\u001b[0m \u001b[0mname\u001b[0m\u001b[0;34m,\u001b[0m \u001b[0mtype\u001b[0m\u001b[0;34m)\u001b[0m\u001b[0;34m:\u001b[0m\u001b[0;34m\u001b[0m\u001b[0m\n",
      "\u001b[0;32m<ipython-input-66-508bd9da7e6d>\u001b[0m in \u001b[0;36mhovered_change\u001b[0;34m(change)\u001b[0m\n\u001b[1;32m     33\u001b[0m                 \u001b[0mpoint_index\u001b[0m \u001b[0;34m=\u001b[0m \u001b[0mpoint_index\u001b[0m \u001b[0;34m-\u001b[0m \u001b[0mn\u001b[0m\u001b[0;34m\u001b[0m\u001b[0m\n\u001b[1;32m     34\u001b[0m         \u001b[0;32mif\u001b[0m \u001b[0mi\u001b[0m \u001b[0;34m>\u001b[0m \u001b[0;36m0\u001b[0m\u001b[0;34m:\u001b[0m\u001b[0;34m\u001b[0m\u001b[0m\n\u001b[0;32m---> 35\u001b[0;31m             \u001b[0mupdate_bar_chart\u001b[0m\u001b[0;34m(\u001b[0m\u001b[0mi\u001b[0m\u001b[0;34m,\u001b[0m \u001b[0mpoint_index\u001b[0m\u001b[0;34m)\u001b[0m\u001b[0;34m\u001b[0m\u001b[0m\n\u001b[0m\u001b[1;32m     36\u001b[0m \u001b[0;34m\u001b[0m\u001b[0m\n\u001b[1;32m     37\u001b[0m \u001b[0mnn\u001b[0m\u001b[0;34m.\u001b[0m\u001b[0mgraph\u001b[0m\u001b[0;34m.\u001b[0m\u001b[0mobserve\u001b[0m\u001b[0;34m(\u001b[0m\u001b[0mhovered_change\u001b[0m\u001b[0;34m,\u001b[0m \u001b[0;34m'hovered_point'\u001b[0m\u001b[0;34m)\u001b[0m\u001b[0;34m\u001b[0m\u001b[0m\n",
      "\u001b[0;32m<ipython-input-66-508bd9da7e6d>\u001b[0m in \u001b[0;36mupdate_bar_chart\u001b[0;34m(layer, node)\u001b[0m\n\u001b[1;32m     12\u001b[0m         \u001b[0mdisplay_vals\u001b[0m \u001b[0;34m=\u001b[0m \u001b[0mget_weights_for_node_at_layer\u001b[0m\u001b[0;34m(\u001b[0m\u001b[0mcleaned_weights\u001b[0m\u001b[0;34m,\u001b[0m \u001b[0mepoch\u001b[0m\u001b[0;34m,\u001b[0m \u001b[0mlayer\u001b[0m\u001b[0;34m-\u001b[0m\u001b[0;36m1\u001b[0m\u001b[0;34m,\u001b[0m \u001b[0mnode\u001b[0m\u001b[0;34m)\u001b[0m\u001b[0;34m\u001b[0m\u001b[0m\n\u001b[1;32m     13\u001b[0m     \u001b[0;32melif\u001b[0m \u001b[0mmode_dd\u001b[0m\u001b[0;34m.\u001b[0m\u001b[0mvalue\u001b[0m \u001b[0;34m==\u001b[0m \u001b[0;34m'Gradients'\u001b[0m\u001b[0;34m:\u001b[0m\u001b[0;34m\u001b[0m\u001b[0m\n\u001b[0;32m---> 14\u001b[0;31m         \u001b[0mdisplay_vals\u001b[0m \u001b[0;34m=\u001b[0m \u001b[0mget_gradients_for_node_at_layer\u001b[0m\u001b[0;34m(\u001b[0m\u001b[0mweights_callback\u001b[0m\u001b[0;34m.\u001b[0m\u001b[0mgradients\u001b[0m\u001b[0;34m,\u001b[0m \u001b[0mepoch\u001b[0m\u001b[0;34m,\u001b[0m \u001b[0mlayer\u001b[0m\u001b[0;34m-\u001b[0m\u001b[0;36m1\u001b[0m\u001b[0;34m,\u001b[0m \u001b[0mnode\u001b[0m\u001b[0;34m)\u001b[0m\u001b[0;34m\u001b[0m\u001b[0m\n\u001b[0m\u001b[1;32m     15\u001b[0m \u001b[0;34m\u001b[0m\u001b[0m\n\u001b[1;32m     16\u001b[0m     \u001b[0mreturn_vals\u001b[0m \u001b[0;34m=\u001b[0m \u001b[0mnp\u001b[0m\u001b[0;34m.\u001b[0m\u001b[0mappend\u001b[0m\u001b[0;34m(\u001b[0m\u001b[0;34m[\u001b[0m\u001b[0mdisplay_vals\u001b[0m\u001b[0;34m[\u001b[0m\u001b[0;36m0\u001b[0m\u001b[0;34m]\u001b[0m\u001b[0;34m]\u001b[0m\u001b[0;34m,\u001b[0m \u001b[0mdisplay_vals\u001b[0m\u001b[0;34m[\u001b[0m\u001b[0;36m1\u001b[0m\u001b[0;34m]\u001b[0m\u001b[0;34m)\u001b[0m\u001b[0;34m\u001b[0m\u001b[0m\n",
      "\u001b[0;32m<ipython-input-58-1a24279058f2>\u001b[0m in \u001b[0;36mget_gradients_for_node_at_layer\u001b[0;34m(gradients, epoch_num, layer_num, node_num)\u001b[0m\n\u001b[1;32m     25\u001b[0m     \u001b[0mlayer_bias_gradients\u001b[0m \u001b[0;34m=\u001b[0m \u001b[0mgradients\u001b[0m\u001b[0;34m[\u001b[0m\u001b[0mepoch_num\u001b[0m\u001b[0;34m]\u001b[0m\u001b[0;34m[\u001b[0m\u001b[0;36m2\u001b[0m \u001b[0;34m*\u001b[0m \u001b[0mlayer_num\u001b[0m \u001b[0;34m+\u001b[0m \u001b[0;36m1\u001b[0m\u001b[0;34m]\u001b[0m\u001b[0;34m\u001b[0m\u001b[0m\n\u001b[1;32m     26\u001b[0m \u001b[0;34m\u001b[0m\u001b[0m\n\u001b[0;32m---> 27\u001b[0;31m     \u001b[0mnode_gradients\u001b[0m \u001b[0;34m=\u001b[0m \u001b[0mlayer_gradients\u001b[0m\u001b[0;34m[\u001b[0m\u001b[0;34m:\u001b[0m\u001b[0;34m,\u001b[0m \u001b[0mnode_num\u001b[0m\u001b[0;34m]\u001b[0m\u001b[0;34m\u001b[0m\u001b[0m\n\u001b[0m\u001b[1;32m     28\u001b[0m     \u001b[0mnode_bias_gradiens\u001b[0m \u001b[0;34m=\u001b[0m \u001b[0mlayer_bias_gradients\u001b[0m\u001b[0;34m[\u001b[0m\u001b[0mnode_num\u001b[0m\u001b[0;34m]\u001b[0m\u001b[0;34m\u001b[0m\u001b[0m\n\u001b[1;32m     29\u001b[0m \u001b[0;34m\u001b[0m\u001b[0m\n",
      "\u001b[0;31mIndexError\u001b[0m: too many indices for array"
     ]
    },
    {
     "ename": "IndexError",
     "evalue": "too many indices for array",
     "output_type": "error",
     "traceback": [
      "\u001b[0;31m---------------------------------------------------------------------------\u001b[0m",
      "\u001b[0;31mIndexError\u001b[0m                                Traceback (most recent call last)",
      "\u001b[0;32m/home/namanda/anaconda3.6/lib/python3.6/site-packages/ipywidgets/widgets/widget.py\u001b[0m in \u001b[0;36m_handle_msg\u001b[0;34m(self, msg)\u001b[0m\n\u001b[1;32m    665\u001b[0m                 \u001b[0;32mif\u001b[0m \u001b[0;34m'buffer_paths'\u001b[0m \u001b[0;32min\u001b[0m \u001b[0mdata\u001b[0m\u001b[0;34m:\u001b[0m\u001b[0;34m\u001b[0m\u001b[0m\n\u001b[1;32m    666\u001b[0m                     \u001b[0m_put_buffers\u001b[0m\u001b[0;34m(\u001b[0m\u001b[0mstate\u001b[0m\u001b[0;34m,\u001b[0m \u001b[0mdata\u001b[0m\u001b[0;34m[\u001b[0m\u001b[0;34m'buffer_paths'\u001b[0m\u001b[0;34m]\u001b[0m\u001b[0;34m,\u001b[0m \u001b[0mmsg\u001b[0m\u001b[0;34m[\u001b[0m\u001b[0;34m'buffers'\u001b[0m\u001b[0;34m]\u001b[0m\u001b[0;34m)\u001b[0m\u001b[0;34m\u001b[0m\u001b[0m\n\u001b[0;32m--> 667\u001b[0;31m                 \u001b[0mself\u001b[0m\u001b[0;34m.\u001b[0m\u001b[0mset_state\u001b[0m\u001b[0;34m(\u001b[0m\u001b[0mstate\u001b[0m\u001b[0;34m)\u001b[0m\u001b[0;34m\u001b[0m\u001b[0m\n\u001b[0m\u001b[1;32m    668\u001b[0m \u001b[0;34m\u001b[0m\u001b[0m\n\u001b[1;32m    669\u001b[0m         \u001b[0;31m# Handle a state request.\u001b[0m\u001b[0;34m\u001b[0m\u001b[0;34m\u001b[0m\u001b[0m\n",
      "\u001b[0;32m/home/namanda/anaconda3.6/lib/python3.6/site-packages/ipywidgets/widgets/widget.py\u001b[0m in \u001b[0;36mset_state\u001b[0;34m(self, sync_data)\u001b[0m\n\u001b[1;32m    535\u001b[0m                     from_json = self.trait_metadata(name, 'from_json',\n\u001b[1;32m    536\u001b[0m                                                     self._trait_from_json)\n\u001b[0;32m--> 537\u001b[0;31m                     \u001b[0mself\u001b[0m\u001b[0;34m.\u001b[0m\u001b[0mset_trait\u001b[0m\u001b[0;34m(\u001b[0m\u001b[0mname\u001b[0m\u001b[0;34m,\u001b[0m \u001b[0mfrom_json\u001b[0m\u001b[0;34m(\u001b[0m\u001b[0msync_data\u001b[0m\u001b[0;34m[\u001b[0m\u001b[0mname\u001b[0m\u001b[0;34m]\u001b[0m\u001b[0;34m,\u001b[0m \u001b[0mself\u001b[0m\u001b[0;34m)\u001b[0m\u001b[0;34m)\u001b[0m\u001b[0;34m\u001b[0m\u001b[0m\n\u001b[0m\u001b[1;32m    538\u001b[0m \u001b[0;34m\u001b[0m\u001b[0m\n\u001b[1;32m    539\u001b[0m     \u001b[0;32mdef\u001b[0m \u001b[0msend\u001b[0m\u001b[0;34m(\u001b[0m\u001b[0mself\u001b[0m\u001b[0;34m,\u001b[0m \u001b[0mcontent\u001b[0m\u001b[0;34m,\u001b[0m \u001b[0mbuffers\u001b[0m\u001b[0;34m=\u001b[0m\u001b[0;32mNone\u001b[0m\u001b[0;34m)\u001b[0m\u001b[0;34m:\u001b[0m\u001b[0;34m\u001b[0m\u001b[0m\n",
      "\u001b[0;32m/home/namanda/anaconda3.6/lib/python3.6/contextlib.py\u001b[0m in \u001b[0;36m__exit__\u001b[0;34m(self, type, value, traceback)\u001b[0m\n\u001b[1;32m     87\u001b[0m         \u001b[0;32mif\u001b[0m \u001b[0mtype\u001b[0m \u001b[0;32mis\u001b[0m \u001b[0;32mNone\u001b[0m\u001b[0;34m:\u001b[0m\u001b[0;34m\u001b[0m\u001b[0m\n\u001b[1;32m     88\u001b[0m             \u001b[0;32mtry\u001b[0m\u001b[0;34m:\u001b[0m\u001b[0;34m\u001b[0m\u001b[0m\n\u001b[0;32m---> 89\u001b[0;31m                 \u001b[0mnext\u001b[0m\u001b[0;34m(\u001b[0m\u001b[0mself\u001b[0m\u001b[0;34m.\u001b[0m\u001b[0mgen\u001b[0m\u001b[0;34m)\u001b[0m\u001b[0;34m\u001b[0m\u001b[0m\n\u001b[0m\u001b[1;32m     90\u001b[0m             \u001b[0;32mexcept\u001b[0m \u001b[0mStopIteration\u001b[0m\u001b[0;34m:\u001b[0m\u001b[0;34m\u001b[0m\u001b[0m\n\u001b[1;32m     91\u001b[0m                 \u001b[0;32mreturn\u001b[0m\u001b[0;34m\u001b[0m\u001b[0m\n",
      "\u001b[0;32m/home/namanda/anaconda3.6/lib/python3.6/site-packages/traitlets/traitlets.py\u001b[0m in \u001b[0;36mhold_trait_notifications\u001b[0;34m(self)\u001b[0m\n\u001b[1;32m   1129\u001b[0m                 \u001b[0;32mfor\u001b[0m \u001b[0mchanges\u001b[0m \u001b[0;32min\u001b[0m \u001b[0mcache\u001b[0m\u001b[0;34m.\u001b[0m\u001b[0mvalues\u001b[0m\u001b[0;34m(\u001b[0m\u001b[0;34m)\u001b[0m\u001b[0;34m:\u001b[0m\u001b[0;34m\u001b[0m\u001b[0m\n\u001b[1;32m   1130\u001b[0m                     \u001b[0;32mfor\u001b[0m \u001b[0mchange\u001b[0m \u001b[0;32min\u001b[0m \u001b[0mchanges\u001b[0m\u001b[0;34m:\u001b[0m\u001b[0;34m\u001b[0m\u001b[0m\n\u001b[0;32m-> 1131\u001b[0;31m                         \u001b[0mself\u001b[0m\u001b[0;34m.\u001b[0m\u001b[0mnotify_change\u001b[0m\u001b[0;34m(\u001b[0m\u001b[0mchange\u001b[0m\u001b[0;34m)\u001b[0m\u001b[0;34m\u001b[0m\u001b[0m\n\u001b[0m\u001b[1;32m   1132\u001b[0m \u001b[0;34m\u001b[0m\u001b[0m\n\u001b[1;32m   1133\u001b[0m     \u001b[0;32mdef\u001b[0m \u001b[0m_notify_trait\u001b[0m\u001b[0;34m(\u001b[0m\u001b[0mself\u001b[0m\u001b[0;34m,\u001b[0m \u001b[0mname\u001b[0m\u001b[0;34m,\u001b[0m \u001b[0mold_value\u001b[0m\u001b[0;34m,\u001b[0m \u001b[0mnew_value\u001b[0m\u001b[0;34m)\u001b[0m\u001b[0;34m:\u001b[0m\u001b[0;34m\u001b[0m\u001b[0m\n",
      "\u001b[0;32m/home/namanda/anaconda3.6/lib/python3.6/site-packages/ipywidgets/widgets/widget.py\u001b[0m in \u001b[0;36mnotify_change\u001b[0;34m(self, change)\u001b[0m\n\u001b[1;32m    596\u001b[0m                 \u001b[0;31m# Send new state to front-end\u001b[0m\u001b[0;34m\u001b[0m\u001b[0;34m\u001b[0m\u001b[0m\n\u001b[1;32m    597\u001b[0m                 \u001b[0mself\u001b[0m\u001b[0;34m.\u001b[0m\u001b[0msend_state\u001b[0m\u001b[0;34m(\u001b[0m\u001b[0mkey\u001b[0m\u001b[0;34m=\u001b[0m\u001b[0mname\u001b[0m\u001b[0;34m)\u001b[0m\u001b[0;34m\u001b[0m\u001b[0m\n\u001b[0;32m--> 598\u001b[0;31m         \u001b[0msuper\u001b[0m\u001b[0;34m(\u001b[0m\u001b[0mWidget\u001b[0m\u001b[0;34m,\u001b[0m \u001b[0mself\u001b[0m\u001b[0;34m)\u001b[0m\u001b[0;34m.\u001b[0m\u001b[0mnotify_change\u001b[0m\u001b[0;34m(\u001b[0m\u001b[0mchange\u001b[0m\u001b[0;34m)\u001b[0m\u001b[0;34m\u001b[0m\u001b[0m\n\u001b[0m\u001b[1;32m    599\u001b[0m \u001b[0;34m\u001b[0m\u001b[0m\n\u001b[1;32m    600\u001b[0m     \u001b[0;32mdef\u001b[0m \u001b[0m__repr__\u001b[0m\u001b[0;34m(\u001b[0m\u001b[0mself\u001b[0m\u001b[0;34m)\u001b[0m\u001b[0;34m:\u001b[0m\u001b[0;34m\u001b[0m\u001b[0m\n",
      "\u001b[0;32m/home/namanda/anaconda3.6/lib/python3.6/site-packages/traitlets/traitlets.py\u001b[0m in \u001b[0;36mnotify_change\u001b[0;34m(self, change)\u001b[0m\n\u001b[1;32m   1174\u001b[0m                 \u001b[0mc\u001b[0m \u001b[0;34m=\u001b[0m \u001b[0mgetattr\u001b[0m\u001b[0;34m(\u001b[0m\u001b[0mself\u001b[0m\u001b[0;34m,\u001b[0m \u001b[0mc\u001b[0m\u001b[0;34m.\u001b[0m\u001b[0mname\u001b[0m\u001b[0;34m)\u001b[0m\u001b[0;34m\u001b[0m\u001b[0m\n\u001b[1;32m   1175\u001b[0m \u001b[0;34m\u001b[0m\u001b[0m\n\u001b[0;32m-> 1176\u001b[0;31m             \u001b[0mc\u001b[0m\u001b[0;34m(\u001b[0m\u001b[0mchange\u001b[0m\u001b[0;34m)\u001b[0m\u001b[0;34m\u001b[0m\u001b[0m\n\u001b[0m\u001b[1;32m   1177\u001b[0m \u001b[0;34m\u001b[0m\u001b[0m\n\u001b[1;32m   1178\u001b[0m     \u001b[0;32mdef\u001b[0m \u001b[0m_add_notifiers\u001b[0m\u001b[0;34m(\u001b[0m\u001b[0mself\u001b[0m\u001b[0;34m,\u001b[0m \u001b[0mhandler\u001b[0m\u001b[0;34m,\u001b[0m \u001b[0mname\u001b[0m\u001b[0;34m,\u001b[0m \u001b[0mtype\u001b[0m\u001b[0;34m)\u001b[0m\u001b[0;34m:\u001b[0m\u001b[0;34m\u001b[0m\u001b[0m\n",
      "\u001b[0;32m<ipython-input-66-508bd9da7e6d>\u001b[0m in \u001b[0;36mhovered_change\u001b[0;34m(change)\u001b[0m\n\u001b[1;32m     33\u001b[0m                 \u001b[0mpoint_index\u001b[0m \u001b[0;34m=\u001b[0m \u001b[0mpoint_index\u001b[0m \u001b[0;34m-\u001b[0m \u001b[0mn\u001b[0m\u001b[0;34m\u001b[0m\u001b[0m\n\u001b[1;32m     34\u001b[0m         \u001b[0;32mif\u001b[0m \u001b[0mi\u001b[0m \u001b[0;34m>\u001b[0m \u001b[0;36m0\u001b[0m\u001b[0;34m:\u001b[0m\u001b[0;34m\u001b[0m\u001b[0m\n\u001b[0;32m---> 35\u001b[0;31m             \u001b[0mupdate_bar_chart\u001b[0m\u001b[0;34m(\u001b[0m\u001b[0mi\u001b[0m\u001b[0;34m,\u001b[0m \u001b[0mpoint_index\u001b[0m\u001b[0;34m)\u001b[0m\u001b[0;34m\u001b[0m\u001b[0m\n\u001b[0m\u001b[1;32m     36\u001b[0m \u001b[0;34m\u001b[0m\u001b[0m\n\u001b[1;32m     37\u001b[0m \u001b[0mnn\u001b[0m\u001b[0;34m.\u001b[0m\u001b[0mgraph\u001b[0m\u001b[0;34m.\u001b[0m\u001b[0mobserve\u001b[0m\u001b[0;34m(\u001b[0m\u001b[0mhovered_change\u001b[0m\u001b[0;34m,\u001b[0m \u001b[0;34m'hovered_point'\u001b[0m\u001b[0;34m)\u001b[0m\u001b[0;34m\u001b[0m\u001b[0m\n",
      "\u001b[0;32m<ipython-input-66-508bd9da7e6d>\u001b[0m in \u001b[0;36mupdate_bar_chart\u001b[0;34m(layer, node)\u001b[0m\n\u001b[1;32m     12\u001b[0m         \u001b[0mdisplay_vals\u001b[0m \u001b[0;34m=\u001b[0m \u001b[0mget_weights_for_node_at_layer\u001b[0m\u001b[0;34m(\u001b[0m\u001b[0mcleaned_weights\u001b[0m\u001b[0;34m,\u001b[0m \u001b[0mepoch\u001b[0m\u001b[0;34m,\u001b[0m \u001b[0mlayer\u001b[0m\u001b[0;34m-\u001b[0m\u001b[0;36m1\u001b[0m\u001b[0;34m,\u001b[0m \u001b[0mnode\u001b[0m\u001b[0;34m)\u001b[0m\u001b[0;34m\u001b[0m\u001b[0m\n\u001b[1;32m     13\u001b[0m     \u001b[0;32melif\u001b[0m \u001b[0mmode_dd\u001b[0m\u001b[0;34m.\u001b[0m\u001b[0mvalue\u001b[0m \u001b[0;34m==\u001b[0m \u001b[0;34m'Gradients'\u001b[0m\u001b[0;34m:\u001b[0m\u001b[0;34m\u001b[0m\u001b[0m\n\u001b[0;32m---> 14\u001b[0;31m         \u001b[0mdisplay_vals\u001b[0m \u001b[0;34m=\u001b[0m \u001b[0mget_gradients_for_node_at_layer\u001b[0m\u001b[0;34m(\u001b[0m\u001b[0mweights_callback\u001b[0m\u001b[0;34m.\u001b[0m\u001b[0mgradients\u001b[0m\u001b[0;34m,\u001b[0m \u001b[0mepoch\u001b[0m\u001b[0;34m,\u001b[0m \u001b[0mlayer\u001b[0m\u001b[0;34m-\u001b[0m\u001b[0;36m1\u001b[0m\u001b[0;34m,\u001b[0m \u001b[0mnode\u001b[0m\u001b[0;34m)\u001b[0m\u001b[0;34m\u001b[0m\u001b[0m\n\u001b[0m\u001b[1;32m     15\u001b[0m \u001b[0;34m\u001b[0m\u001b[0m\n\u001b[1;32m     16\u001b[0m     \u001b[0mreturn_vals\u001b[0m \u001b[0;34m=\u001b[0m \u001b[0mnp\u001b[0m\u001b[0;34m.\u001b[0m\u001b[0mappend\u001b[0m\u001b[0;34m(\u001b[0m\u001b[0;34m[\u001b[0m\u001b[0mdisplay_vals\u001b[0m\u001b[0;34m[\u001b[0m\u001b[0;36m0\u001b[0m\u001b[0;34m]\u001b[0m\u001b[0;34m]\u001b[0m\u001b[0;34m,\u001b[0m \u001b[0mdisplay_vals\u001b[0m\u001b[0;34m[\u001b[0m\u001b[0;36m1\u001b[0m\u001b[0;34m]\u001b[0m\u001b[0;34m)\u001b[0m\u001b[0;34m\u001b[0m\u001b[0m\n",
      "\u001b[0;32m<ipython-input-58-1a24279058f2>\u001b[0m in \u001b[0;36mget_gradients_for_node_at_layer\u001b[0;34m(gradients, epoch_num, layer_num, node_num)\u001b[0m\n\u001b[1;32m     25\u001b[0m     \u001b[0mlayer_bias_gradients\u001b[0m \u001b[0;34m=\u001b[0m \u001b[0mgradients\u001b[0m\u001b[0;34m[\u001b[0m\u001b[0mepoch_num\u001b[0m\u001b[0;34m]\u001b[0m\u001b[0;34m[\u001b[0m\u001b[0;36m2\u001b[0m \u001b[0;34m*\u001b[0m \u001b[0mlayer_num\u001b[0m \u001b[0;34m+\u001b[0m \u001b[0;36m1\u001b[0m\u001b[0;34m]\u001b[0m\u001b[0;34m\u001b[0m\u001b[0m\n\u001b[1;32m     26\u001b[0m \u001b[0;34m\u001b[0m\u001b[0m\n\u001b[0;32m---> 27\u001b[0;31m     \u001b[0mnode_gradients\u001b[0m \u001b[0;34m=\u001b[0m \u001b[0mlayer_gradients\u001b[0m\u001b[0;34m[\u001b[0m\u001b[0;34m:\u001b[0m\u001b[0;34m,\u001b[0m \u001b[0mnode_num\u001b[0m\u001b[0;34m]\u001b[0m\u001b[0;34m\u001b[0m\u001b[0m\n\u001b[0m\u001b[1;32m     28\u001b[0m     \u001b[0mnode_bias_gradiens\u001b[0m \u001b[0;34m=\u001b[0m \u001b[0mlayer_bias_gradients\u001b[0m\u001b[0;34m[\u001b[0m\u001b[0mnode_num\u001b[0m\u001b[0;34m]\u001b[0m\u001b[0;34m\u001b[0m\u001b[0m\n\u001b[1;32m     29\u001b[0m \u001b[0;34m\u001b[0m\u001b[0m\n",
      "\u001b[0;31mIndexError\u001b[0m: too many indices for array"
     ]
    },
    {
     "ename": "IndexError",
     "evalue": "too many indices for array",
     "output_type": "error",
     "traceback": [
      "\u001b[0;31m---------------------------------------------------------------------------\u001b[0m",
      "\u001b[0;31mIndexError\u001b[0m                                Traceback (most recent call last)",
      "\u001b[0;32m/home/namanda/anaconda3.6/lib/python3.6/site-packages/ipywidgets/widgets/widget.py\u001b[0m in \u001b[0;36m_handle_msg\u001b[0;34m(self, msg)\u001b[0m\n\u001b[1;32m    665\u001b[0m                 \u001b[0;32mif\u001b[0m \u001b[0;34m'buffer_paths'\u001b[0m \u001b[0;32min\u001b[0m \u001b[0mdata\u001b[0m\u001b[0;34m:\u001b[0m\u001b[0;34m\u001b[0m\u001b[0m\n\u001b[1;32m    666\u001b[0m                     \u001b[0m_put_buffers\u001b[0m\u001b[0;34m(\u001b[0m\u001b[0mstate\u001b[0m\u001b[0;34m,\u001b[0m \u001b[0mdata\u001b[0m\u001b[0;34m[\u001b[0m\u001b[0;34m'buffer_paths'\u001b[0m\u001b[0;34m]\u001b[0m\u001b[0;34m,\u001b[0m \u001b[0mmsg\u001b[0m\u001b[0;34m[\u001b[0m\u001b[0;34m'buffers'\u001b[0m\u001b[0;34m]\u001b[0m\u001b[0;34m)\u001b[0m\u001b[0;34m\u001b[0m\u001b[0m\n\u001b[0;32m--> 667\u001b[0;31m                 \u001b[0mself\u001b[0m\u001b[0;34m.\u001b[0m\u001b[0mset_state\u001b[0m\u001b[0;34m(\u001b[0m\u001b[0mstate\u001b[0m\u001b[0;34m)\u001b[0m\u001b[0;34m\u001b[0m\u001b[0m\n\u001b[0m\u001b[1;32m    668\u001b[0m \u001b[0;34m\u001b[0m\u001b[0m\n\u001b[1;32m    669\u001b[0m         \u001b[0;31m# Handle a state request.\u001b[0m\u001b[0;34m\u001b[0m\u001b[0;34m\u001b[0m\u001b[0m\n",
      "\u001b[0;32m/home/namanda/anaconda3.6/lib/python3.6/site-packages/ipywidgets/widgets/widget.py\u001b[0m in \u001b[0;36mset_state\u001b[0;34m(self, sync_data)\u001b[0m\n\u001b[1;32m    535\u001b[0m                     from_json = self.trait_metadata(name, 'from_json',\n\u001b[1;32m    536\u001b[0m                                                     self._trait_from_json)\n\u001b[0;32m--> 537\u001b[0;31m                     \u001b[0mself\u001b[0m\u001b[0;34m.\u001b[0m\u001b[0mset_trait\u001b[0m\u001b[0;34m(\u001b[0m\u001b[0mname\u001b[0m\u001b[0;34m,\u001b[0m \u001b[0mfrom_json\u001b[0m\u001b[0;34m(\u001b[0m\u001b[0msync_data\u001b[0m\u001b[0;34m[\u001b[0m\u001b[0mname\u001b[0m\u001b[0;34m]\u001b[0m\u001b[0;34m,\u001b[0m \u001b[0mself\u001b[0m\u001b[0;34m)\u001b[0m\u001b[0;34m)\u001b[0m\u001b[0;34m\u001b[0m\u001b[0m\n\u001b[0m\u001b[1;32m    538\u001b[0m \u001b[0;34m\u001b[0m\u001b[0m\n\u001b[1;32m    539\u001b[0m     \u001b[0;32mdef\u001b[0m \u001b[0msend\u001b[0m\u001b[0;34m(\u001b[0m\u001b[0mself\u001b[0m\u001b[0;34m,\u001b[0m \u001b[0mcontent\u001b[0m\u001b[0;34m,\u001b[0m \u001b[0mbuffers\u001b[0m\u001b[0;34m=\u001b[0m\u001b[0;32mNone\u001b[0m\u001b[0;34m)\u001b[0m\u001b[0;34m:\u001b[0m\u001b[0;34m\u001b[0m\u001b[0m\n",
      "\u001b[0;32m/home/namanda/anaconda3.6/lib/python3.6/contextlib.py\u001b[0m in \u001b[0;36m__exit__\u001b[0;34m(self, type, value, traceback)\u001b[0m\n\u001b[1;32m     87\u001b[0m         \u001b[0;32mif\u001b[0m \u001b[0mtype\u001b[0m \u001b[0;32mis\u001b[0m \u001b[0;32mNone\u001b[0m\u001b[0;34m:\u001b[0m\u001b[0;34m\u001b[0m\u001b[0m\n\u001b[1;32m     88\u001b[0m             \u001b[0;32mtry\u001b[0m\u001b[0;34m:\u001b[0m\u001b[0;34m\u001b[0m\u001b[0m\n\u001b[0;32m---> 89\u001b[0;31m                 \u001b[0mnext\u001b[0m\u001b[0;34m(\u001b[0m\u001b[0mself\u001b[0m\u001b[0;34m.\u001b[0m\u001b[0mgen\u001b[0m\u001b[0;34m)\u001b[0m\u001b[0;34m\u001b[0m\u001b[0m\n\u001b[0m\u001b[1;32m     90\u001b[0m             \u001b[0;32mexcept\u001b[0m \u001b[0mStopIteration\u001b[0m\u001b[0;34m:\u001b[0m\u001b[0;34m\u001b[0m\u001b[0m\n\u001b[1;32m     91\u001b[0m                 \u001b[0;32mreturn\u001b[0m\u001b[0;34m\u001b[0m\u001b[0m\n",
      "\u001b[0;32m/home/namanda/anaconda3.6/lib/python3.6/site-packages/traitlets/traitlets.py\u001b[0m in \u001b[0;36mhold_trait_notifications\u001b[0;34m(self)\u001b[0m\n\u001b[1;32m   1129\u001b[0m                 \u001b[0;32mfor\u001b[0m \u001b[0mchanges\u001b[0m \u001b[0;32min\u001b[0m \u001b[0mcache\u001b[0m\u001b[0;34m.\u001b[0m\u001b[0mvalues\u001b[0m\u001b[0;34m(\u001b[0m\u001b[0;34m)\u001b[0m\u001b[0;34m:\u001b[0m\u001b[0;34m\u001b[0m\u001b[0m\n\u001b[1;32m   1130\u001b[0m                     \u001b[0;32mfor\u001b[0m \u001b[0mchange\u001b[0m \u001b[0;32min\u001b[0m \u001b[0mchanges\u001b[0m\u001b[0;34m:\u001b[0m\u001b[0;34m\u001b[0m\u001b[0m\n\u001b[0;32m-> 1131\u001b[0;31m                         \u001b[0mself\u001b[0m\u001b[0;34m.\u001b[0m\u001b[0mnotify_change\u001b[0m\u001b[0;34m(\u001b[0m\u001b[0mchange\u001b[0m\u001b[0;34m)\u001b[0m\u001b[0;34m\u001b[0m\u001b[0m\n\u001b[0m\u001b[1;32m   1132\u001b[0m \u001b[0;34m\u001b[0m\u001b[0m\n\u001b[1;32m   1133\u001b[0m     \u001b[0;32mdef\u001b[0m \u001b[0m_notify_trait\u001b[0m\u001b[0;34m(\u001b[0m\u001b[0mself\u001b[0m\u001b[0;34m,\u001b[0m \u001b[0mname\u001b[0m\u001b[0;34m,\u001b[0m \u001b[0mold_value\u001b[0m\u001b[0;34m,\u001b[0m \u001b[0mnew_value\u001b[0m\u001b[0;34m)\u001b[0m\u001b[0;34m:\u001b[0m\u001b[0;34m\u001b[0m\u001b[0m\n",
      "\u001b[0;32m/home/namanda/anaconda3.6/lib/python3.6/site-packages/ipywidgets/widgets/widget.py\u001b[0m in \u001b[0;36mnotify_change\u001b[0;34m(self, change)\u001b[0m\n\u001b[1;32m    596\u001b[0m                 \u001b[0;31m# Send new state to front-end\u001b[0m\u001b[0;34m\u001b[0m\u001b[0;34m\u001b[0m\u001b[0m\n\u001b[1;32m    597\u001b[0m                 \u001b[0mself\u001b[0m\u001b[0;34m.\u001b[0m\u001b[0msend_state\u001b[0m\u001b[0;34m(\u001b[0m\u001b[0mkey\u001b[0m\u001b[0;34m=\u001b[0m\u001b[0mname\u001b[0m\u001b[0;34m)\u001b[0m\u001b[0;34m\u001b[0m\u001b[0m\n\u001b[0;32m--> 598\u001b[0;31m         \u001b[0msuper\u001b[0m\u001b[0;34m(\u001b[0m\u001b[0mWidget\u001b[0m\u001b[0;34m,\u001b[0m \u001b[0mself\u001b[0m\u001b[0;34m)\u001b[0m\u001b[0;34m.\u001b[0m\u001b[0mnotify_change\u001b[0m\u001b[0;34m(\u001b[0m\u001b[0mchange\u001b[0m\u001b[0;34m)\u001b[0m\u001b[0;34m\u001b[0m\u001b[0m\n\u001b[0m\u001b[1;32m    599\u001b[0m \u001b[0;34m\u001b[0m\u001b[0m\n\u001b[1;32m    600\u001b[0m     \u001b[0;32mdef\u001b[0m \u001b[0m__repr__\u001b[0m\u001b[0;34m(\u001b[0m\u001b[0mself\u001b[0m\u001b[0;34m)\u001b[0m\u001b[0;34m:\u001b[0m\u001b[0;34m\u001b[0m\u001b[0m\n",
      "\u001b[0;32m/home/namanda/anaconda3.6/lib/python3.6/site-packages/traitlets/traitlets.py\u001b[0m in \u001b[0;36mnotify_change\u001b[0;34m(self, change)\u001b[0m\n\u001b[1;32m   1174\u001b[0m                 \u001b[0mc\u001b[0m \u001b[0;34m=\u001b[0m \u001b[0mgetattr\u001b[0m\u001b[0;34m(\u001b[0m\u001b[0mself\u001b[0m\u001b[0;34m,\u001b[0m \u001b[0mc\u001b[0m\u001b[0;34m.\u001b[0m\u001b[0mname\u001b[0m\u001b[0;34m)\u001b[0m\u001b[0;34m\u001b[0m\u001b[0m\n\u001b[1;32m   1175\u001b[0m \u001b[0;34m\u001b[0m\u001b[0m\n\u001b[0;32m-> 1176\u001b[0;31m             \u001b[0mc\u001b[0m\u001b[0;34m(\u001b[0m\u001b[0mchange\u001b[0m\u001b[0;34m)\u001b[0m\u001b[0;34m\u001b[0m\u001b[0m\n\u001b[0m\u001b[1;32m   1177\u001b[0m \u001b[0;34m\u001b[0m\u001b[0m\n\u001b[1;32m   1178\u001b[0m     \u001b[0;32mdef\u001b[0m \u001b[0m_add_notifiers\u001b[0m\u001b[0;34m(\u001b[0m\u001b[0mself\u001b[0m\u001b[0;34m,\u001b[0m \u001b[0mhandler\u001b[0m\u001b[0;34m,\u001b[0m \u001b[0mname\u001b[0m\u001b[0;34m,\u001b[0m \u001b[0mtype\u001b[0m\u001b[0;34m)\u001b[0m\u001b[0;34m:\u001b[0m\u001b[0;34m\u001b[0m\u001b[0m\n",
      "\u001b[0;32m<ipython-input-66-508bd9da7e6d>\u001b[0m in \u001b[0;36mhovered_change\u001b[0;34m(change)\u001b[0m\n\u001b[1;32m     33\u001b[0m                 \u001b[0mpoint_index\u001b[0m \u001b[0;34m=\u001b[0m \u001b[0mpoint_index\u001b[0m \u001b[0;34m-\u001b[0m \u001b[0mn\u001b[0m\u001b[0;34m\u001b[0m\u001b[0m\n\u001b[1;32m     34\u001b[0m         \u001b[0;32mif\u001b[0m \u001b[0mi\u001b[0m \u001b[0;34m>\u001b[0m \u001b[0;36m0\u001b[0m\u001b[0;34m:\u001b[0m\u001b[0;34m\u001b[0m\u001b[0m\n\u001b[0;32m---> 35\u001b[0;31m             \u001b[0mupdate_bar_chart\u001b[0m\u001b[0;34m(\u001b[0m\u001b[0mi\u001b[0m\u001b[0;34m,\u001b[0m \u001b[0mpoint_index\u001b[0m\u001b[0;34m)\u001b[0m\u001b[0;34m\u001b[0m\u001b[0m\n\u001b[0m\u001b[1;32m     36\u001b[0m \u001b[0;34m\u001b[0m\u001b[0m\n\u001b[1;32m     37\u001b[0m \u001b[0mnn\u001b[0m\u001b[0;34m.\u001b[0m\u001b[0mgraph\u001b[0m\u001b[0;34m.\u001b[0m\u001b[0mobserve\u001b[0m\u001b[0;34m(\u001b[0m\u001b[0mhovered_change\u001b[0m\u001b[0;34m,\u001b[0m \u001b[0;34m'hovered_point'\u001b[0m\u001b[0;34m)\u001b[0m\u001b[0;34m\u001b[0m\u001b[0m\n",
      "\u001b[0;32m<ipython-input-66-508bd9da7e6d>\u001b[0m in \u001b[0;36mupdate_bar_chart\u001b[0;34m(layer, node)\u001b[0m\n\u001b[1;32m     12\u001b[0m         \u001b[0mdisplay_vals\u001b[0m \u001b[0;34m=\u001b[0m \u001b[0mget_weights_for_node_at_layer\u001b[0m\u001b[0;34m(\u001b[0m\u001b[0mcleaned_weights\u001b[0m\u001b[0;34m,\u001b[0m \u001b[0mepoch\u001b[0m\u001b[0;34m,\u001b[0m \u001b[0mlayer\u001b[0m\u001b[0;34m-\u001b[0m\u001b[0;36m1\u001b[0m\u001b[0;34m,\u001b[0m \u001b[0mnode\u001b[0m\u001b[0;34m)\u001b[0m\u001b[0;34m\u001b[0m\u001b[0m\n\u001b[1;32m     13\u001b[0m     \u001b[0;32melif\u001b[0m \u001b[0mmode_dd\u001b[0m\u001b[0;34m.\u001b[0m\u001b[0mvalue\u001b[0m \u001b[0;34m==\u001b[0m \u001b[0;34m'Gradients'\u001b[0m\u001b[0;34m:\u001b[0m\u001b[0;34m\u001b[0m\u001b[0m\n\u001b[0;32m---> 14\u001b[0;31m         \u001b[0mdisplay_vals\u001b[0m \u001b[0;34m=\u001b[0m \u001b[0mget_gradients_for_node_at_layer\u001b[0m\u001b[0;34m(\u001b[0m\u001b[0mweights_callback\u001b[0m\u001b[0;34m.\u001b[0m\u001b[0mgradients\u001b[0m\u001b[0;34m,\u001b[0m \u001b[0mepoch\u001b[0m\u001b[0;34m,\u001b[0m \u001b[0mlayer\u001b[0m\u001b[0;34m-\u001b[0m\u001b[0;36m1\u001b[0m\u001b[0;34m,\u001b[0m \u001b[0mnode\u001b[0m\u001b[0;34m)\u001b[0m\u001b[0;34m\u001b[0m\u001b[0m\n\u001b[0m\u001b[1;32m     15\u001b[0m \u001b[0;34m\u001b[0m\u001b[0m\n\u001b[1;32m     16\u001b[0m     \u001b[0mreturn_vals\u001b[0m \u001b[0;34m=\u001b[0m \u001b[0mnp\u001b[0m\u001b[0;34m.\u001b[0m\u001b[0mappend\u001b[0m\u001b[0;34m(\u001b[0m\u001b[0;34m[\u001b[0m\u001b[0mdisplay_vals\u001b[0m\u001b[0;34m[\u001b[0m\u001b[0;36m0\u001b[0m\u001b[0;34m]\u001b[0m\u001b[0;34m]\u001b[0m\u001b[0;34m,\u001b[0m \u001b[0mdisplay_vals\u001b[0m\u001b[0;34m[\u001b[0m\u001b[0;36m1\u001b[0m\u001b[0;34m]\u001b[0m\u001b[0;34m)\u001b[0m\u001b[0;34m\u001b[0m\u001b[0m\n",
      "\u001b[0;32m<ipython-input-58-1a24279058f2>\u001b[0m in \u001b[0;36mget_gradients_for_node_at_layer\u001b[0;34m(gradients, epoch_num, layer_num, node_num)\u001b[0m\n\u001b[1;32m     25\u001b[0m     \u001b[0mlayer_bias_gradients\u001b[0m \u001b[0;34m=\u001b[0m \u001b[0mgradients\u001b[0m\u001b[0;34m[\u001b[0m\u001b[0mepoch_num\u001b[0m\u001b[0;34m]\u001b[0m\u001b[0;34m[\u001b[0m\u001b[0;36m2\u001b[0m \u001b[0;34m*\u001b[0m \u001b[0mlayer_num\u001b[0m \u001b[0;34m+\u001b[0m \u001b[0;36m1\u001b[0m\u001b[0;34m]\u001b[0m\u001b[0;34m\u001b[0m\u001b[0m\n\u001b[1;32m     26\u001b[0m \u001b[0;34m\u001b[0m\u001b[0m\n\u001b[0;32m---> 27\u001b[0;31m     \u001b[0mnode_gradients\u001b[0m \u001b[0;34m=\u001b[0m \u001b[0mlayer_gradients\u001b[0m\u001b[0;34m[\u001b[0m\u001b[0;34m:\u001b[0m\u001b[0;34m,\u001b[0m \u001b[0mnode_num\u001b[0m\u001b[0;34m]\u001b[0m\u001b[0;34m\u001b[0m\u001b[0m\n\u001b[0m\u001b[1;32m     28\u001b[0m     \u001b[0mnode_bias_gradiens\u001b[0m \u001b[0;34m=\u001b[0m \u001b[0mlayer_bias_gradients\u001b[0m\u001b[0;34m[\u001b[0m\u001b[0mnode_num\u001b[0m\u001b[0;34m]\u001b[0m\u001b[0;34m\u001b[0m\u001b[0m\n\u001b[1;32m     29\u001b[0m \u001b[0;34m\u001b[0m\u001b[0m\n",
      "\u001b[0;31mIndexError\u001b[0m: too many indices for array"
     ]
    },
    {
     "ename": "IndexError",
     "evalue": "too many indices for array",
     "output_type": "error",
     "traceback": [
      "\u001b[0;31m---------------------------------------------------------------------------\u001b[0m",
      "\u001b[0;31mIndexError\u001b[0m                                Traceback (most recent call last)",
      "\u001b[0;32m/home/namanda/anaconda3.6/lib/python3.6/site-packages/ipywidgets/widgets/widget.py\u001b[0m in \u001b[0;36m_handle_msg\u001b[0;34m(self, msg)\u001b[0m\n\u001b[1;32m    665\u001b[0m                 \u001b[0;32mif\u001b[0m \u001b[0;34m'buffer_paths'\u001b[0m \u001b[0;32min\u001b[0m \u001b[0mdata\u001b[0m\u001b[0;34m:\u001b[0m\u001b[0;34m\u001b[0m\u001b[0m\n\u001b[1;32m    666\u001b[0m                     \u001b[0m_put_buffers\u001b[0m\u001b[0;34m(\u001b[0m\u001b[0mstate\u001b[0m\u001b[0;34m,\u001b[0m \u001b[0mdata\u001b[0m\u001b[0;34m[\u001b[0m\u001b[0;34m'buffer_paths'\u001b[0m\u001b[0;34m]\u001b[0m\u001b[0;34m,\u001b[0m \u001b[0mmsg\u001b[0m\u001b[0;34m[\u001b[0m\u001b[0;34m'buffers'\u001b[0m\u001b[0;34m]\u001b[0m\u001b[0;34m)\u001b[0m\u001b[0;34m\u001b[0m\u001b[0m\n\u001b[0;32m--> 667\u001b[0;31m                 \u001b[0mself\u001b[0m\u001b[0;34m.\u001b[0m\u001b[0mset_state\u001b[0m\u001b[0;34m(\u001b[0m\u001b[0mstate\u001b[0m\u001b[0;34m)\u001b[0m\u001b[0;34m\u001b[0m\u001b[0m\n\u001b[0m\u001b[1;32m    668\u001b[0m \u001b[0;34m\u001b[0m\u001b[0m\n\u001b[1;32m    669\u001b[0m         \u001b[0;31m# Handle a state request.\u001b[0m\u001b[0;34m\u001b[0m\u001b[0;34m\u001b[0m\u001b[0m\n",
      "\u001b[0;32m/home/namanda/anaconda3.6/lib/python3.6/site-packages/ipywidgets/widgets/widget.py\u001b[0m in \u001b[0;36mset_state\u001b[0;34m(self, sync_data)\u001b[0m\n\u001b[1;32m    535\u001b[0m                     from_json = self.trait_metadata(name, 'from_json',\n\u001b[1;32m    536\u001b[0m                                                     self._trait_from_json)\n\u001b[0;32m--> 537\u001b[0;31m                     \u001b[0mself\u001b[0m\u001b[0;34m.\u001b[0m\u001b[0mset_trait\u001b[0m\u001b[0;34m(\u001b[0m\u001b[0mname\u001b[0m\u001b[0;34m,\u001b[0m \u001b[0mfrom_json\u001b[0m\u001b[0;34m(\u001b[0m\u001b[0msync_data\u001b[0m\u001b[0;34m[\u001b[0m\u001b[0mname\u001b[0m\u001b[0;34m]\u001b[0m\u001b[0;34m,\u001b[0m \u001b[0mself\u001b[0m\u001b[0;34m)\u001b[0m\u001b[0;34m)\u001b[0m\u001b[0;34m\u001b[0m\u001b[0m\n\u001b[0m\u001b[1;32m    538\u001b[0m \u001b[0;34m\u001b[0m\u001b[0m\n\u001b[1;32m    539\u001b[0m     \u001b[0;32mdef\u001b[0m \u001b[0msend\u001b[0m\u001b[0;34m(\u001b[0m\u001b[0mself\u001b[0m\u001b[0;34m,\u001b[0m \u001b[0mcontent\u001b[0m\u001b[0;34m,\u001b[0m \u001b[0mbuffers\u001b[0m\u001b[0;34m=\u001b[0m\u001b[0;32mNone\u001b[0m\u001b[0;34m)\u001b[0m\u001b[0;34m:\u001b[0m\u001b[0;34m\u001b[0m\u001b[0m\n",
      "\u001b[0;32m/home/namanda/anaconda3.6/lib/python3.6/contextlib.py\u001b[0m in \u001b[0;36m__exit__\u001b[0;34m(self, type, value, traceback)\u001b[0m\n\u001b[1;32m     87\u001b[0m         \u001b[0;32mif\u001b[0m \u001b[0mtype\u001b[0m \u001b[0;32mis\u001b[0m \u001b[0;32mNone\u001b[0m\u001b[0;34m:\u001b[0m\u001b[0;34m\u001b[0m\u001b[0m\n\u001b[1;32m     88\u001b[0m             \u001b[0;32mtry\u001b[0m\u001b[0;34m:\u001b[0m\u001b[0;34m\u001b[0m\u001b[0m\n\u001b[0;32m---> 89\u001b[0;31m                 \u001b[0mnext\u001b[0m\u001b[0;34m(\u001b[0m\u001b[0mself\u001b[0m\u001b[0;34m.\u001b[0m\u001b[0mgen\u001b[0m\u001b[0;34m)\u001b[0m\u001b[0;34m\u001b[0m\u001b[0m\n\u001b[0m\u001b[1;32m     90\u001b[0m             \u001b[0;32mexcept\u001b[0m \u001b[0mStopIteration\u001b[0m\u001b[0;34m:\u001b[0m\u001b[0;34m\u001b[0m\u001b[0m\n\u001b[1;32m     91\u001b[0m                 \u001b[0;32mreturn\u001b[0m\u001b[0;34m\u001b[0m\u001b[0m\n",
      "\u001b[0;32m/home/namanda/anaconda3.6/lib/python3.6/site-packages/traitlets/traitlets.py\u001b[0m in \u001b[0;36mhold_trait_notifications\u001b[0;34m(self)\u001b[0m\n\u001b[1;32m   1129\u001b[0m                 \u001b[0;32mfor\u001b[0m \u001b[0mchanges\u001b[0m \u001b[0;32min\u001b[0m \u001b[0mcache\u001b[0m\u001b[0;34m.\u001b[0m\u001b[0mvalues\u001b[0m\u001b[0;34m(\u001b[0m\u001b[0;34m)\u001b[0m\u001b[0;34m:\u001b[0m\u001b[0;34m\u001b[0m\u001b[0m\n\u001b[1;32m   1130\u001b[0m                     \u001b[0;32mfor\u001b[0m \u001b[0mchange\u001b[0m \u001b[0;32min\u001b[0m \u001b[0mchanges\u001b[0m\u001b[0;34m:\u001b[0m\u001b[0;34m\u001b[0m\u001b[0m\n\u001b[0;32m-> 1131\u001b[0;31m                         \u001b[0mself\u001b[0m\u001b[0;34m.\u001b[0m\u001b[0mnotify_change\u001b[0m\u001b[0;34m(\u001b[0m\u001b[0mchange\u001b[0m\u001b[0;34m)\u001b[0m\u001b[0;34m\u001b[0m\u001b[0m\n\u001b[0m\u001b[1;32m   1132\u001b[0m \u001b[0;34m\u001b[0m\u001b[0m\n\u001b[1;32m   1133\u001b[0m     \u001b[0;32mdef\u001b[0m \u001b[0m_notify_trait\u001b[0m\u001b[0;34m(\u001b[0m\u001b[0mself\u001b[0m\u001b[0;34m,\u001b[0m \u001b[0mname\u001b[0m\u001b[0;34m,\u001b[0m \u001b[0mold_value\u001b[0m\u001b[0;34m,\u001b[0m \u001b[0mnew_value\u001b[0m\u001b[0;34m)\u001b[0m\u001b[0;34m:\u001b[0m\u001b[0;34m\u001b[0m\u001b[0m\n",
      "\u001b[0;32m/home/namanda/anaconda3.6/lib/python3.6/site-packages/ipywidgets/widgets/widget.py\u001b[0m in \u001b[0;36mnotify_change\u001b[0;34m(self, change)\u001b[0m\n\u001b[1;32m    596\u001b[0m                 \u001b[0;31m# Send new state to front-end\u001b[0m\u001b[0;34m\u001b[0m\u001b[0;34m\u001b[0m\u001b[0m\n\u001b[1;32m    597\u001b[0m                 \u001b[0mself\u001b[0m\u001b[0;34m.\u001b[0m\u001b[0msend_state\u001b[0m\u001b[0;34m(\u001b[0m\u001b[0mkey\u001b[0m\u001b[0;34m=\u001b[0m\u001b[0mname\u001b[0m\u001b[0;34m)\u001b[0m\u001b[0;34m\u001b[0m\u001b[0m\n\u001b[0;32m--> 598\u001b[0;31m         \u001b[0msuper\u001b[0m\u001b[0;34m(\u001b[0m\u001b[0mWidget\u001b[0m\u001b[0;34m,\u001b[0m \u001b[0mself\u001b[0m\u001b[0;34m)\u001b[0m\u001b[0;34m.\u001b[0m\u001b[0mnotify_change\u001b[0m\u001b[0;34m(\u001b[0m\u001b[0mchange\u001b[0m\u001b[0;34m)\u001b[0m\u001b[0;34m\u001b[0m\u001b[0m\n\u001b[0m\u001b[1;32m    599\u001b[0m \u001b[0;34m\u001b[0m\u001b[0m\n\u001b[1;32m    600\u001b[0m     \u001b[0;32mdef\u001b[0m \u001b[0m__repr__\u001b[0m\u001b[0;34m(\u001b[0m\u001b[0mself\u001b[0m\u001b[0;34m)\u001b[0m\u001b[0;34m:\u001b[0m\u001b[0;34m\u001b[0m\u001b[0m\n",
      "\u001b[0;32m/home/namanda/anaconda3.6/lib/python3.6/site-packages/traitlets/traitlets.py\u001b[0m in \u001b[0;36mnotify_change\u001b[0;34m(self, change)\u001b[0m\n\u001b[1;32m   1174\u001b[0m                 \u001b[0mc\u001b[0m \u001b[0;34m=\u001b[0m \u001b[0mgetattr\u001b[0m\u001b[0;34m(\u001b[0m\u001b[0mself\u001b[0m\u001b[0;34m,\u001b[0m \u001b[0mc\u001b[0m\u001b[0;34m.\u001b[0m\u001b[0mname\u001b[0m\u001b[0;34m)\u001b[0m\u001b[0;34m\u001b[0m\u001b[0m\n\u001b[1;32m   1175\u001b[0m \u001b[0;34m\u001b[0m\u001b[0m\n\u001b[0;32m-> 1176\u001b[0;31m             \u001b[0mc\u001b[0m\u001b[0;34m(\u001b[0m\u001b[0mchange\u001b[0m\u001b[0;34m)\u001b[0m\u001b[0;34m\u001b[0m\u001b[0m\n\u001b[0m\u001b[1;32m   1177\u001b[0m \u001b[0;34m\u001b[0m\u001b[0m\n\u001b[1;32m   1178\u001b[0m     \u001b[0;32mdef\u001b[0m \u001b[0m_add_notifiers\u001b[0m\u001b[0;34m(\u001b[0m\u001b[0mself\u001b[0m\u001b[0;34m,\u001b[0m \u001b[0mhandler\u001b[0m\u001b[0;34m,\u001b[0m \u001b[0mname\u001b[0m\u001b[0;34m,\u001b[0m \u001b[0mtype\u001b[0m\u001b[0;34m)\u001b[0m\u001b[0;34m:\u001b[0m\u001b[0;34m\u001b[0m\u001b[0m\n",
      "\u001b[0;32m<ipython-input-66-508bd9da7e6d>\u001b[0m in \u001b[0;36mhovered_change\u001b[0;34m(change)\u001b[0m\n\u001b[1;32m     33\u001b[0m                 \u001b[0mpoint_index\u001b[0m \u001b[0;34m=\u001b[0m \u001b[0mpoint_index\u001b[0m \u001b[0;34m-\u001b[0m \u001b[0mn\u001b[0m\u001b[0;34m\u001b[0m\u001b[0m\n\u001b[1;32m     34\u001b[0m         \u001b[0;32mif\u001b[0m \u001b[0mi\u001b[0m \u001b[0;34m>\u001b[0m \u001b[0;36m0\u001b[0m\u001b[0;34m:\u001b[0m\u001b[0;34m\u001b[0m\u001b[0m\n\u001b[0;32m---> 35\u001b[0;31m             \u001b[0mupdate_bar_chart\u001b[0m\u001b[0;34m(\u001b[0m\u001b[0mi\u001b[0m\u001b[0;34m,\u001b[0m \u001b[0mpoint_index\u001b[0m\u001b[0;34m)\u001b[0m\u001b[0;34m\u001b[0m\u001b[0m\n\u001b[0m\u001b[1;32m     36\u001b[0m \u001b[0;34m\u001b[0m\u001b[0m\n\u001b[1;32m     37\u001b[0m \u001b[0mnn\u001b[0m\u001b[0;34m.\u001b[0m\u001b[0mgraph\u001b[0m\u001b[0;34m.\u001b[0m\u001b[0mobserve\u001b[0m\u001b[0;34m(\u001b[0m\u001b[0mhovered_change\u001b[0m\u001b[0;34m,\u001b[0m \u001b[0;34m'hovered_point'\u001b[0m\u001b[0;34m)\u001b[0m\u001b[0;34m\u001b[0m\u001b[0m\n",
      "\u001b[0;32m<ipython-input-66-508bd9da7e6d>\u001b[0m in \u001b[0;36mupdate_bar_chart\u001b[0;34m(layer, node)\u001b[0m\n\u001b[1;32m     12\u001b[0m         \u001b[0mdisplay_vals\u001b[0m \u001b[0;34m=\u001b[0m \u001b[0mget_weights_for_node_at_layer\u001b[0m\u001b[0;34m(\u001b[0m\u001b[0mcleaned_weights\u001b[0m\u001b[0;34m,\u001b[0m \u001b[0mepoch\u001b[0m\u001b[0;34m,\u001b[0m \u001b[0mlayer\u001b[0m\u001b[0;34m-\u001b[0m\u001b[0;36m1\u001b[0m\u001b[0;34m,\u001b[0m \u001b[0mnode\u001b[0m\u001b[0;34m)\u001b[0m\u001b[0;34m\u001b[0m\u001b[0m\n\u001b[1;32m     13\u001b[0m     \u001b[0;32melif\u001b[0m \u001b[0mmode_dd\u001b[0m\u001b[0;34m.\u001b[0m\u001b[0mvalue\u001b[0m \u001b[0;34m==\u001b[0m \u001b[0;34m'Gradients'\u001b[0m\u001b[0;34m:\u001b[0m\u001b[0;34m\u001b[0m\u001b[0m\n\u001b[0;32m---> 14\u001b[0;31m         \u001b[0mdisplay_vals\u001b[0m \u001b[0;34m=\u001b[0m \u001b[0mget_gradients_for_node_at_layer\u001b[0m\u001b[0;34m(\u001b[0m\u001b[0mweights_callback\u001b[0m\u001b[0;34m.\u001b[0m\u001b[0mgradients\u001b[0m\u001b[0;34m,\u001b[0m \u001b[0mepoch\u001b[0m\u001b[0;34m,\u001b[0m \u001b[0mlayer\u001b[0m\u001b[0;34m-\u001b[0m\u001b[0;36m1\u001b[0m\u001b[0;34m,\u001b[0m \u001b[0mnode\u001b[0m\u001b[0;34m)\u001b[0m\u001b[0;34m\u001b[0m\u001b[0m\n\u001b[0m\u001b[1;32m     15\u001b[0m \u001b[0;34m\u001b[0m\u001b[0m\n\u001b[1;32m     16\u001b[0m     \u001b[0mreturn_vals\u001b[0m \u001b[0;34m=\u001b[0m \u001b[0mnp\u001b[0m\u001b[0;34m.\u001b[0m\u001b[0mappend\u001b[0m\u001b[0;34m(\u001b[0m\u001b[0;34m[\u001b[0m\u001b[0mdisplay_vals\u001b[0m\u001b[0;34m[\u001b[0m\u001b[0;36m0\u001b[0m\u001b[0;34m]\u001b[0m\u001b[0;34m]\u001b[0m\u001b[0;34m,\u001b[0m \u001b[0mdisplay_vals\u001b[0m\u001b[0;34m[\u001b[0m\u001b[0;36m1\u001b[0m\u001b[0;34m]\u001b[0m\u001b[0;34m)\u001b[0m\u001b[0;34m\u001b[0m\u001b[0m\n",
      "\u001b[0;32m<ipython-input-58-1a24279058f2>\u001b[0m in \u001b[0;36mget_gradients_for_node_at_layer\u001b[0;34m(gradients, epoch_num, layer_num, node_num)\u001b[0m\n\u001b[1;32m     25\u001b[0m     \u001b[0mlayer_bias_gradients\u001b[0m \u001b[0;34m=\u001b[0m \u001b[0mgradients\u001b[0m\u001b[0;34m[\u001b[0m\u001b[0mepoch_num\u001b[0m\u001b[0;34m]\u001b[0m\u001b[0;34m[\u001b[0m\u001b[0;36m2\u001b[0m \u001b[0;34m*\u001b[0m \u001b[0mlayer_num\u001b[0m \u001b[0;34m+\u001b[0m \u001b[0;36m1\u001b[0m\u001b[0;34m]\u001b[0m\u001b[0;34m\u001b[0m\u001b[0m\n\u001b[1;32m     26\u001b[0m \u001b[0;34m\u001b[0m\u001b[0m\n\u001b[0;32m---> 27\u001b[0;31m     \u001b[0mnode_gradients\u001b[0m \u001b[0;34m=\u001b[0m \u001b[0mlayer_gradients\u001b[0m\u001b[0;34m[\u001b[0m\u001b[0;34m:\u001b[0m\u001b[0;34m,\u001b[0m \u001b[0mnode_num\u001b[0m\u001b[0;34m]\u001b[0m\u001b[0;34m\u001b[0m\u001b[0m\n\u001b[0m\u001b[1;32m     28\u001b[0m     \u001b[0mnode_bias_gradiens\u001b[0m \u001b[0;34m=\u001b[0m \u001b[0mlayer_bias_gradients\u001b[0m\u001b[0;34m[\u001b[0m\u001b[0mnode_num\u001b[0m\u001b[0;34m]\u001b[0m\u001b[0;34m\u001b[0m\u001b[0m\n\u001b[1;32m     29\u001b[0m \u001b[0;34m\u001b[0m\u001b[0m\n",
      "\u001b[0;31mIndexError\u001b[0m: too many indices for array"
     ]
    },
    {
     "ename": "IndexError",
     "evalue": "too many indices for array",
     "output_type": "error",
     "traceback": [
      "\u001b[0;31m---------------------------------------------------------------------------\u001b[0m",
      "\u001b[0;31mIndexError\u001b[0m                                Traceback (most recent call last)",
      "\u001b[0;32m/home/namanda/anaconda3.6/lib/python3.6/site-packages/ipywidgets/widgets/widget.py\u001b[0m in \u001b[0;36m_handle_msg\u001b[0;34m(self, msg)\u001b[0m\n\u001b[1;32m    665\u001b[0m                 \u001b[0;32mif\u001b[0m \u001b[0;34m'buffer_paths'\u001b[0m \u001b[0;32min\u001b[0m \u001b[0mdata\u001b[0m\u001b[0;34m:\u001b[0m\u001b[0;34m\u001b[0m\u001b[0m\n\u001b[1;32m    666\u001b[0m                     \u001b[0m_put_buffers\u001b[0m\u001b[0;34m(\u001b[0m\u001b[0mstate\u001b[0m\u001b[0;34m,\u001b[0m \u001b[0mdata\u001b[0m\u001b[0;34m[\u001b[0m\u001b[0;34m'buffer_paths'\u001b[0m\u001b[0;34m]\u001b[0m\u001b[0;34m,\u001b[0m \u001b[0mmsg\u001b[0m\u001b[0;34m[\u001b[0m\u001b[0;34m'buffers'\u001b[0m\u001b[0;34m]\u001b[0m\u001b[0;34m)\u001b[0m\u001b[0;34m\u001b[0m\u001b[0m\n\u001b[0;32m--> 667\u001b[0;31m                 \u001b[0mself\u001b[0m\u001b[0;34m.\u001b[0m\u001b[0mset_state\u001b[0m\u001b[0;34m(\u001b[0m\u001b[0mstate\u001b[0m\u001b[0;34m)\u001b[0m\u001b[0;34m\u001b[0m\u001b[0m\n\u001b[0m\u001b[1;32m    668\u001b[0m \u001b[0;34m\u001b[0m\u001b[0m\n\u001b[1;32m    669\u001b[0m         \u001b[0;31m# Handle a state request.\u001b[0m\u001b[0;34m\u001b[0m\u001b[0;34m\u001b[0m\u001b[0m\n",
      "\u001b[0;32m/home/namanda/anaconda3.6/lib/python3.6/site-packages/ipywidgets/widgets/widget.py\u001b[0m in \u001b[0;36mset_state\u001b[0;34m(self, sync_data)\u001b[0m\n\u001b[1;32m    535\u001b[0m                     from_json = self.trait_metadata(name, 'from_json',\n\u001b[1;32m    536\u001b[0m                                                     self._trait_from_json)\n\u001b[0;32m--> 537\u001b[0;31m                     \u001b[0mself\u001b[0m\u001b[0;34m.\u001b[0m\u001b[0mset_trait\u001b[0m\u001b[0;34m(\u001b[0m\u001b[0mname\u001b[0m\u001b[0;34m,\u001b[0m \u001b[0mfrom_json\u001b[0m\u001b[0;34m(\u001b[0m\u001b[0msync_data\u001b[0m\u001b[0;34m[\u001b[0m\u001b[0mname\u001b[0m\u001b[0;34m]\u001b[0m\u001b[0;34m,\u001b[0m \u001b[0mself\u001b[0m\u001b[0;34m)\u001b[0m\u001b[0;34m)\u001b[0m\u001b[0;34m\u001b[0m\u001b[0m\n\u001b[0m\u001b[1;32m    538\u001b[0m \u001b[0;34m\u001b[0m\u001b[0m\n\u001b[1;32m    539\u001b[0m     \u001b[0;32mdef\u001b[0m \u001b[0msend\u001b[0m\u001b[0;34m(\u001b[0m\u001b[0mself\u001b[0m\u001b[0;34m,\u001b[0m \u001b[0mcontent\u001b[0m\u001b[0;34m,\u001b[0m \u001b[0mbuffers\u001b[0m\u001b[0;34m=\u001b[0m\u001b[0;32mNone\u001b[0m\u001b[0;34m)\u001b[0m\u001b[0;34m:\u001b[0m\u001b[0;34m\u001b[0m\u001b[0m\n",
      "\u001b[0;32m/home/namanda/anaconda3.6/lib/python3.6/contextlib.py\u001b[0m in \u001b[0;36m__exit__\u001b[0;34m(self, type, value, traceback)\u001b[0m\n\u001b[1;32m     87\u001b[0m         \u001b[0;32mif\u001b[0m \u001b[0mtype\u001b[0m \u001b[0;32mis\u001b[0m \u001b[0;32mNone\u001b[0m\u001b[0;34m:\u001b[0m\u001b[0;34m\u001b[0m\u001b[0m\n\u001b[1;32m     88\u001b[0m             \u001b[0;32mtry\u001b[0m\u001b[0;34m:\u001b[0m\u001b[0;34m\u001b[0m\u001b[0m\n\u001b[0;32m---> 89\u001b[0;31m                 \u001b[0mnext\u001b[0m\u001b[0;34m(\u001b[0m\u001b[0mself\u001b[0m\u001b[0;34m.\u001b[0m\u001b[0mgen\u001b[0m\u001b[0;34m)\u001b[0m\u001b[0;34m\u001b[0m\u001b[0m\n\u001b[0m\u001b[1;32m     90\u001b[0m             \u001b[0;32mexcept\u001b[0m \u001b[0mStopIteration\u001b[0m\u001b[0;34m:\u001b[0m\u001b[0;34m\u001b[0m\u001b[0m\n\u001b[1;32m     91\u001b[0m                 \u001b[0;32mreturn\u001b[0m\u001b[0;34m\u001b[0m\u001b[0m\n",
      "\u001b[0;32m/home/namanda/anaconda3.6/lib/python3.6/site-packages/traitlets/traitlets.py\u001b[0m in \u001b[0;36mhold_trait_notifications\u001b[0;34m(self)\u001b[0m\n\u001b[1;32m   1129\u001b[0m                 \u001b[0;32mfor\u001b[0m \u001b[0mchanges\u001b[0m \u001b[0;32min\u001b[0m \u001b[0mcache\u001b[0m\u001b[0;34m.\u001b[0m\u001b[0mvalues\u001b[0m\u001b[0;34m(\u001b[0m\u001b[0;34m)\u001b[0m\u001b[0;34m:\u001b[0m\u001b[0;34m\u001b[0m\u001b[0m\n\u001b[1;32m   1130\u001b[0m                     \u001b[0;32mfor\u001b[0m \u001b[0mchange\u001b[0m \u001b[0;32min\u001b[0m \u001b[0mchanges\u001b[0m\u001b[0;34m:\u001b[0m\u001b[0;34m\u001b[0m\u001b[0m\n\u001b[0;32m-> 1131\u001b[0;31m                         \u001b[0mself\u001b[0m\u001b[0;34m.\u001b[0m\u001b[0mnotify_change\u001b[0m\u001b[0;34m(\u001b[0m\u001b[0mchange\u001b[0m\u001b[0;34m)\u001b[0m\u001b[0;34m\u001b[0m\u001b[0m\n\u001b[0m\u001b[1;32m   1132\u001b[0m \u001b[0;34m\u001b[0m\u001b[0m\n\u001b[1;32m   1133\u001b[0m     \u001b[0;32mdef\u001b[0m \u001b[0m_notify_trait\u001b[0m\u001b[0;34m(\u001b[0m\u001b[0mself\u001b[0m\u001b[0;34m,\u001b[0m \u001b[0mname\u001b[0m\u001b[0;34m,\u001b[0m \u001b[0mold_value\u001b[0m\u001b[0;34m,\u001b[0m \u001b[0mnew_value\u001b[0m\u001b[0;34m)\u001b[0m\u001b[0;34m:\u001b[0m\u001b[0;34m\u001b[0m\u001b[0m\n",
      "\u001b[0;32m/home/namanda/anaconda3.6/lib/python3.6/site-packages/ipywidgets/widgets/widget.py\u001b[0m in \u001b[0;36mnotify_change\u001b[0;34m(self, change)\u001b[0m\n\u001b[1;32m    596\u001b[0m                 \u001b[0;31m# Send new state to front-end\u001b[0m\u001b[0;34m\u001b[0m\u001b[0;34m\u001b[0m\u001b[0m\n\u001b[1;32m    597\u001b[0m                 \u001b[0mself\u001b[0m\u001b[0;34m.\u001b[0m\u001b[0msend_state\u001b[0m\u001b[0;34m(\u001b[0m\u001b[0mkey\u001b[0m\u001b[0;34m=\u001b[0m\u001b[0mname\u001b[0m\u001b[0;34m)\u001b[0m\u001b[0;34m\u001b[0m\u001b[0m\n\u001b[0;32m--> 598\u001b[0;31m         \u001b[0msuper\u001b[0m\u001b[0;34m(\u001b[0m\u001b[0mWidget\u001b[0m\u001b[0;34m,\u001b[0m \u001b[0mself\u001b[0m\u001b[0;34m)\u001b[0m\u001b[0;34m.\u001b[0m\u001b[0mnotify_change\u001b[0m\u001b[0;34m(\u001b[0m\u001b[0mchange\u001b[0m\u001b[0;34m)\u001b[0m\u001b[0;34m\u001b[0m\u001b[0m\n\u001b[0m\u001b[1;32m    599\u001b[0m \u001b[0;34m\u001b[0m\u001b[0m\n\u001b[1;32m    600\u001b[0m     \u001b[0;32mdef\u001b[0m \u001b[0m__repr__\u001b[0m\u001b[0;34m(\u001b[0m\u001b[0mself\u001b[0m\u001b[0;34m)\u001b[0m\u001b[0;34m:\u001b[0m\u001b[0;34m\u001b[0m\u001b[0m\n",
      "\u001b[0;32m/home/namanda/anaconda3.6/lib/python3.6/site-packages/traitlets/traitlets.py\u001b[0m in \u001b[0;36mnotify_change\u001b[0;34m(self, change)\u001b[0m\n\u001b[1;32m   1174\u001b[0m                 \u001b[0mc\u001b[0m \u001b[0;34m=\u001b[0m \u001b[0mgetattr\u001b[0m\u001b[0;34m(\u001b[0m\u001b[0mself\u001b[0m\u001b[0;34m,\u001b[0m \u001b[0mc\u001b[0m\u001b[0;34m.\u001b[0m\u001b[0mname\u001b[0m\u001b[0;34m)\u001b[0m\u001b[0;34m\u001b[0m\u001b[0m\n\u001b[1;32m   1175\u001b[0m \u001b[0;34m\u001b[0m\u001b[0m\n\u001b[0;32m-> 1176\u001b[0;31m             \u001b[0mc\u001b[0m\u001b[0;34m(\u001b[0m\u001b[0mchange\u001b[0m\u001b[0;34m)\u001b[0m\u001b[0;34m\u001b[0m\u001b[0m\n\u001b[0m\u001b[1;32m   1177\u001b[0m \u001b[0;34m\u001b[0m\u001b[0m\n\u001b[1;32m   1178\u001b[0m     \u001b[0;32mdef\u001b[0m \u001b[0m_add_notifiers\u001b[0m\u001b[0;34m(\u001b[0m\u001b[0mself\u001b[0m\u001b[0;34m,\u001b[0m \u001b[0mhandler\u001b[0m\u001b[0;34m,\u001b[0m \u001b[0mname\u001b[0m\u001b[0;34m,\u001b[0m \u001b[0mtype\u001b[0m\u001b[0;34m)\u001b[0m\u001b[0;34m:\u001b[0m\u001b[0;34m\u001b[0m\u001b[0m\n",
      "\u001b[0;32m<ipython-input-66-508bd9da7e6d>\u001b[0m in \u001b[0;36mhovered_change\u001b[0;34m(change)\u001b[0m\n\u001b[1;32m     33\u001b[0m                 \u001b[0mpoint_index\u001b[0m \u001b[0;34m=\u001b[0m \u001b[0mpoint_index\u001b[0m \u001b[0;34m-\u001b[0m \u001b[0mn\u001b[0m\u001b[0;34m\u001b[0m\u001b[0m\n\u001b[1;32m     34\u001b[0m         \u001b[0;32mif\u001b[0m \u001b[0mi\u001b[0m \u001b[0;34m>\u001b[0m \u001b[0;36m0\u001b[0m\u001b[0;34m:\u001b[0m\u001b[0;34m\u001b[0m\u001b[0m\n\u001b[0;32m---> 35\u001b[0;31m             \u001b[0mupdate_bar_chart\u001b[0m\u001b[0;34m(\u001b[0m\u001b[0mi\u001b[0m\u001b[0;34m,\u001b[0m \u001b[0mpoint_index\u001b[0m\u001b[0;34m)\u001b[0m\u001b[0;34m\u001b[0m\u001b[0m\n\u001b[0m\u001b[1;32m     36\u001b[0m \u001b[0;34m\u001b[0m\u001b[0m\n\u001b[1;32m     37\u001b[0m \u001b[0mnn\u001b[0m\u001b[0;34m.\u001b[0m\u001b[0mgraph\u001b[0m\u001b[0;34m.\u001b[0m\u001b[0mobserve\u001b[0m\u001b[0;34m(\u001b[0m\u001b[0mhovered_change\u001b[0m\u001b[0;34m,\u001b[0m \u001b[0;34m'hovered_point'\u001b[0m\u001b[0;34m)\u001b[0m\u001b[0;34m\u001b[0m\u001b[0m\n",
      "\u001b[0;32m<ipython-input-66-508bd9da7e6d>\u001b[0m in \u001b[0;36mupdate_bar_chart\u001b[0;34m(layer, node)\u001b[0m\n\u001b[1;32m     12\u001b[0m         \u001b[0mdisplay_vals\u001b[0m \u001b[0;34m=\u001b[0m \u001b[0mget_weights_for_node_at_layer\u001b[0m\u001b[0;34m(\u001b[0m\u001b[0mcleaned_weights\u001b[0m\u001b[0;34m,\u001b[0m \u001b[0mepoch\u001b[0m\u001b[0;34m,\u001b[0m \u001b[0mlayer\u001b[0m\u001b[0;34m-\u001b[0m\u001b[0;36m1\u001b[0m\u001b[0;34m,\u001b[0m \u001b[0mnode\u001b[0m\u001b[0;34m)\u001b[0m\u001b[0;34m\u001b[0m\u001b[0m\n\u001b[1;32m     13\u001b[0m     \u001b[0;32melif\u001b[0m \u001b[0mmode_dd\u001b[0m\u001b[0;34m.\u001b[0m\u001b[0mvalue\u001b[0m \u001b[0;34m==\u001b[0m \u001b[0;34m'Gradients'\u001b[0m\u001b[0;34m:\u001b[0m\u001b[0;34m\u001b[0m\u001b[0m\n\u001b[0;32m---> 14\u001b[0;31m         \u001b[0mdisplay_vals\u001b[0m \u001b[0;34m=\u001b[0m \u001b[0mget_gradients_for_node_at_layer\u001b[0m\u001b[0;34m(\u001b[0m\u001b[0mweights_callback\u001b[0m\u001b[0;34m.\u001b[0m\u001b[0mgradients\u001b[0m\u001b[0;34m,\u001b[0m \u001b[0mepoch\u001b[0m\u001b[0;34m,\u001b[0m \u001b[0mlayer\u001b[0m\u001b[0;34m-\u001b[0m\u001b[0;36m1\u001b[0m\u001b[0;34m,\u001b[0m \u001b[0mnode\u001b[0m\u001b[0;34m)\u001b[0m\u001b[0;34m\u001b[0m\u001b[0m\n\u001b[0m\u001b[1;32m     15\u001b[0m \u001b[0;34m\u001b[0m\u001b[0m\n\u001b[1;32m     16\u001b[0m     \u001b[0mreturn_vals\u001b[0m \u001b[0;34m=\u001b[0m \u001b[0mnp\u001b[0m\u001b[0;34m.\u001b[0m\u001b[0mappend\u001b[0m\u001b[0;34m(\u001b[0m\u001b[0;34m[\u001b[0m\u001b[0mdisplay_vals\u001b[0m\u001b[0;34m[\u001b[0m\u001b[0;36m0\u001b[0m\u001b[0;34m]\u001b[0m\u001b[0;34m]\u001b[0m\u001b[0;34m,\u001b[0m \u001b[0mdisplay_vals\u001b[0m\u001b[0;34m[\u001b[0m\u001b[0;36m1\u001b[0m\u001b[0;34m]\u001b[0m\u001b[0;34m)\u001b[0m\u001b[0;34m\u001b[0m\u001b[0m\n",
      "\u001b[0;32m<ipython-input-58-1a24279058f2>\u001b[0m in \u001b[0;36mget_gradients_for_node_at_layer\u001b[0;34m(gradients, epoch_num, layer_num, node_num)\u001b[0m\n\u001b[1;32m     25\u001b[0m     \u001b[0mlayer_bias_gradients\u001b[0m \u001b[0;34m=\u001b[0m \u001b[0mgradients\u001b[0m\u001b[0;34m[\u001b[0m\u001b[0mepoch_num\u001b[0m\u001b[0;34m]\u001b[0m\u001b[0;34m[\u001b[0m\u001b[0;36m2\u001b[0m \u001b[0;34m*\u001b[0m \u001b[0mlayer_num\u001b[0m \u001b[0;34m+\u001b[0m \u001b[0;36m1\u001b[0m\u001b[0;34m]\u001b[0m\u001b[0;34m\u001b[0m\u001b[0m\n\u001b[1;32m     26\u001b[0m \u001b[0;34m\u001b[0m\u001b[0m\n\u001b[0;32m---> 27\u001b[0;31m     \u001b[0mnode_gradients\u001b[0m \u001b[0;34m=\u001b[0m \u001b[0mlayer_gradients\u001b[0m\u001b[0;34m[\u001b[0m\u001b[0;34m:\u001b[0m\u001b[0;34m,\u001b[0m \u001b[0mnode_num\u001b[0m\u001b[0;34m]\u001b[0m\u001b[0;34m\u001b[0m\u001b[0m\n\u001b[0m\u001b[1;32m     28\u001b[0m     \u001b[0mnode_bias_gradiens\u001b[0m \u001b[0;34m=\u001b[0m \u001b[0mlayer_bias_gradients\u001b[0m\u001b[0;34m[\u001b[0m\u001b[0mnode_num\u001b[0m\u001b[0;34m]\u001b[0m\u001b[0;34m\u001b[0m\u001b[0m\n\u001b[1;32m     29\u001b[0m \u001b[0;34m\u001b[0m\u001b[0m\n",
      "\u001b[0;31mIndexError\u001b[0m: too many indices for array"
     ]
    },
    {
     "ename": "IndexError",
     "evalue": "too many indices for array",
     "output_type": "error",
     "traceback": [
      "\u001b[0;31m---------------------------------------------------------------------------\u001b[0m",
      "\u001b[0;31mIndexError\u001b[0m                                Traceback (most recent call last)",
      "\u001b[0;32m/home/namanda/anaconda3.6/lib/python3.6/site-packages/ipywidgets/widgets/widget.py\u001b[0m in \u001b[0;36m_handle_msg\u001b[0;34m(self, msg)\u001b[0m\n\u001b[1;32m    665\u001b[0m                 \u001b[0;32mif\u001b[0m \u001b[0;34m'buffer_paths'\u001b[0m \u001b[0;32min\u001b[0m \u001b[0mdata\u001b[0m\u001b[0;34m:\u001b[0m\u001b[0;34m\u001b[0m\u001b[0m\n\u001b[1;32m    666\u001b[0m                     \u001b[0m_put_buffers\u001b[0m\u001b[0;34m(\u001b[0m\u001b[0mstate\u001b[0m\u001b[0;34m,\u001b[0m \u001b[0mdata\u001b[0m\u001b[0;34m[\u001b[0m\u001b[0;34m'buffer_paths'\u001b[0m\u001b[0;34m]\u001b[0m\u001b[0;34m,\u001b[0m \u001b[0mmsg\u001b[0m\u001b[0;34m[\u001b[0m\u001b[0;34m'buffers'\u001b[0m\u001b[0;34m]\u001b[0m\u001b[0;34m)\u001b[0m\u001b[0;34m\u001b[0m\u001b[0m\n\u001b[0;32m--> 667\u001b[0;31m                 \u001b[0mself\u001b[0m\u001b[0;34m.\u001b[0m\u001b[0mset_state\u001b[0m\u001b[0;34m(\u001b[0m\u001b[0mstate\u001b[0m\u001b[0;34m)\u001b[0m\u001b[0;34m\u001b[0m\u001b[0m\n\u001b[0m\u001b[1;32m    668\u001b[0m \u001b[0;34m\u001b[0m\u001b[0m\n\u001b[1;32m    669\u001b[0m         \u001b[0;31m# Handle a state request.\u001b[0m\u001b[0;34m\u001b[0m\u001b[0;34m\u001b[0m\u001b[0m\n",
      "\u001b[0;32m/home/namanda/anaconda3.6/lib/python3.6/site-packages/ipywidgets/widgets/widget.py\u001b[0m in \u001b[0;36mset_state\u001b[0;34m(self, sync_data)\u001b[0m\n\u001b[1;32m    535\u001b[0m                     from_json = self.trait_metadata(name, 'from_json',\n\u001b[1;32m    536\u001b[0m                                                     self._trait_from_json)\n\u001b[0;32m--> 537\u001b[0;31m                     \u001b[0mself\u001b[0m\u001b[0;34m.\u001b[0m\u001b[0mset_trait\u001b[0m\u001b[0;34m(\u001b[0m\u001b[0mname\u001b[0m\u001b[0;34m,\u001b[0m \u001b[0mfrom_json\u001b[0m\u001b[0;34m(\u001b[0m\u001b[0msync_data\u001b[0m\u001b[0;34m[\u001b[0m\u001b[0mname\u001b[0m\u001b[0;34m]\u001b[0m\u001b[0;34m,\u001b[0m \u001b[0mself\u001b[0m\u001b[0;34m)\u001b[0m\u001b[0;34m)\u001b[0m\u001b[0;34m\u001b[0m\u001b[0m\n\u001b[0m\u001b[1;32m    538\u001b[0m \u001b[0;34m\u001b[0m\u001b[0m\n\u001b[1;32m    539\u001b[0m     \u001b[0;32mdef\u001b[0m \u001b[0msend\u001b[0m\u001b[0;34m(\u001b[0m\u001b[0mself\u001b[0m\u001b[0;34m,\u001b[0m \u001b[0mcontent\u001b[0m\u001b[0;34m,\u001b[0m \u001b[0mbuffers\u001b[0m\u001b[0;34m=\u001b[0m\u001b[0;32mNone\u001b[0m\u001b[0;34m)\u001b[0m\u001b[0;34m:\u001b[0m\u001b[0;34m\u001b[0m\u001b[0m\n",
      "\u001b[0;32m/home/namanda/anaconda3.6/lib/python3.6/contextlib.py\u001b[0m in \u001b[0;36m__exit__\u001b[0;34m(self, type, value, traceback)\u001b[0m\n\u001b[1;32m     87\u001b[0m         \u001b[0;32mif\u001b[0m \u001b[0mtype\u001b[0m \u001b[0;32mis\u001b[0m \u001b[0;32mNone\u001b[0m\u001b[0;34m:\u001b[0m\u001b[0;34m\u001b[0m\u001b[0m\n\u001b[1;32m     88\u001b[0m             \u001b[0;32mtry\u001b[0m\u001b[0;34m:\u001b[0m\u001b[0;34m\u001b[0m\u001b[0m\n\u001b[0;32m---> 89\u001b[0;31m                 \u001b[0mnext\u001b[0m\u001b[0;34m(\u001b[0m\u001b[0mself\u001b[0m\u001b[0;34m.\u001b[0m\u001b[0mgen\u001b[0m\u001b[0;34m)\u001b[0m\u001b[0;34m\u001b[0m\u001b[0m\n\u001b[0m\u001b[1;32m     90\u001b[0m             \u001b[0;32mexcept\u001b[0m \u001b[0mStopIteration\u001b[0m\u001b[0;34m:\u001b[0m\u001b[0;34m\u001b[0m\u001b[0m\n\u001b[1;32m     91\u001b[0m                 \u001b[0;32mreturn\u001b[0m\u001b[0;34m\u001b[0m\u001b[0m\n",
      "\u001b[0;32m/home/namanda/anaconda3.6/lib/python3.6/site-packages/traitlets/traitlets.py\u001b[0m in \u001b[0;36mhold_trait_notifications\u001b[0;34m(self)\u001b[0m\n\u001b[1;32m   1129\u001b[0m                 \u001b[0;32mfor\u001b[0m \u001b[0mchanges\u001b[0m \u001b[0;32min\u001b[0m \u001b[0mcache\u001b[0m\u001b[0;34m.\u001b[0m\u001b[0mvalues\u001b[0m\u001b[0;34m(\u001b[0m\u001b[0;34m)\u001b[0m\u001b[0;34m:\u001b[0m\u001b[0;34m\u001b[0m\u001b[0m\n\u001b[1;32m   1130\u001b[0m                     \u001b[0;32mfor\u001b[0m \u001b[0mchange\u001b[0m \u001b[0;32min\u001b[0m \u001b[0mchanges\u001b[0m\u001b[0;34m:\u001b[0m\u001b[0;34m\u001b[0m\u001b[0m\n\u001b[0;32m-> 1131\u001b[0;31m                         \u001b[0mself\u001b[0m\u001b[0;34m.\u001b[0m\u001b[0mnotify_change\u001b[0m\u001b[0;34m(\u001b[0m\u001b[0mchange\u001b[0m\u001b[0;34m)\u001b[0m\u001b[0;34m\u001b[0m\u001b[0m\n\u001b[0m\u001b[1;32m   1132\u001b[0m \u001b[0;34m\u001b[0m\u001b[0m\n\u001b[1;32m   1133\u001b[0m     \u001b[0;32mdef\u001b[0m \u001b[0m_notify_trait\u001b[0m\u001b[0;34m(\u001b[0m\u001b[0mself\u001b[0m\u001b[0;34m,\u001b[0m \u001b[0mname\u001b[0m\u001b[0;34m,\u001b[0m \u001b[0mold_value\u001b[0m\u001b[0;34m,\u001b[0m \u001b[0mnew_value\u001b[0m\u001b[0;34m)\u001b[0m\u001b[0;34m:\u001b[0m\u001b[0;34m\u001b[0m\u001b[0m\n",
      "\u001b[0;32m/home/namanda/anaconda3.6/lib/python3.6/site-packages/ipywidgets/widgets/widget.py\u001b[0m in \u001b[0;36mnotify_change\u001b[0;34m(self, change)\u001b[0m\n\u001b[1;32m    596\u001b[0m                 \u001b[0;31m# Send new state to front-end\u001b[0m\u001b[0;34m\u001b[0m\u001b[0;34m\u001b[0m\u001b[0m\n\u001b[1;32m    597\u001b[0m                 \u001b[0mself\u001b[0m\u001b[0;34m.\u001b[0m\u001b[0msend_state\u001b[0m\u001b[0;34m(\u001b[0m\u001b[0mkey\u001b[0m\u001b[0;34m=\u001b[0m\u001b[0mname\u001b[0m\u001b[0;34m)\u001b[0m\u001b[0;34m\u001b[0m\u001b[0m\n\u001b[0;32m--> 598\u001b[0;31m         \u001b[0msuper\u001b[0m\u001b[0;34m(\u001b[0m\u001b[0mWidget\u001b[0m\u001b[0;34m,\u001b[0m \u001b[0mself\u001b[0m\u001b[0;34m)\u001b[0m\u001b[0;34m.\u001b[0m\u001b[0mnotify_change\u001b[0m\u001b[0;34m(\u001b[0m\u001b[0mchange\u001b[0m\u001b[0;34m)\u001b[0m\u001b[0;34m\u001b[0m\u001b[0m\n\u001b[0m\u001b[1;32m    599\u001b[0m \u001b[0;34m\u001b[0m\u001b[0m\n\u001b[1;32m    600\u001b[0m     \u001b[0;32mdef\u001b[0m \u001b[0m__repr__\u001b[0m\u001b[0;34m(\u001b[0m\u001b[0mself\u001b[0m\u001b[0;34m)\u001b[0m\u001b[0;34m:\u001b[0m\u001b[0;34m\u001b[0m\u001b[0m\n",
      "\u001b[0;32m/home/namanda/anaconda3.6/lib/python3.6/site-packages/traitlets/traitlets.py\u001b[0m in \u001b[0;36mnotify_change\u001b[0;34m(self, change)\u001b[0m\n\u001b[1;32m   1174\u001b[0m                 \u001b[0mc\u001b[0m \u001b[0;34m=\u001b[0m \u001b[0mgetattr\u001b[0m\u001b[0;34m(\u001b[0m\u001b[0mself\u001b[0m\u001b[0;34m,\u001b[0m \u001b[0mc\u001b[0m\u001b[0;34m.\u001b[0m\u001b[0mname\u001b[0m\u001b[0;34m)\u001b[0m\u001b[0;34m\u001b[0m\u001b[0m\n\u001b[1;32m   1175\u001b[0m \u001b[0;34m\u001b[0m\u001b[0m\n\u001b[0;32m-> 1176\u001b[0;31m             \u001b[0mc\u001b[0m\u001b[0;34m(\u001b[0m\u001b[0mchange\u001b[0m\u001b[0;34m)\u001b[0m\u001b[0;34m\u001b[0m\u001b[0m\n\u001b[0m\u001b[1;32m   1177\u001b[0m \u001b[0;34m\u001b[0m\u001b[0m\n\u001b[1;32m   1178\u001b[0m     \u001b[0;32mdef\u001b[0m \u001b[0m_add_notifiers\u001b[0m\u001b[0;34m(\u001b[0m\u001b[0mself\u001b[0m\u001b[0;34m,\u001b[0m \u001b[0mhandler\u001b[0m\u001b[0;34m,\u001b[0m \u001b[0mname\u001b[0m\u001b[0;34m,\u001b[0m \u001b[0mtype\u001b[0m\u001b[0;34m)\u001b[0m\u001b[0;34m:\u001b[0m\u001b[0;34m\u001b[0m\u001b[0m\n",
      "\u001b[0;32m<ipython-input-66-508bd9da7e6d>\u001b[0m in \u001b[0;36mhovered_change\u001b[0;34m(change)\u001b[0m\n\u001b[1;32m     33\u001b[0m                 \u001b[0mpoint_index\u001b[0m \u001b[0;34m=\u001b[0m \u001b[0mpoint_index\u001b[0m \u001b[0;34m-\u001b[0m \u001b[0mn\u001b[0m\u001b[0;34m\u001b[0m\u001b[0m\n\u001b[1;32m     34\u001b[0m         \u001b[0;32mif\u001b[0m \u001b[0mi\u001b[0m \u001b[0;34m>\u001b[0m \u001b[0;36m0\u001b[0m\u001b[0;34m:\u001b[0m\u001b[0;34m\u001b[0m\u001b[0m\n\u001b[0;32m---> 35\u001b[0;31m             \u001b[0mupdate_bar_chart\u001b[0m\u001b[0;34m(\u001b[0m\u001b[0mi\u001b[0m\u001b[0;34m,\u001b[0m \u001b[0mpoint_index\u001b[0m\u001b[0;34m)\u001b[0m\u001b[0;34m\u001b[0m\u001b[0m\n\u001b[0m\u001b[1;32m     36\u001b[0m \u001b[0;34m\u001b[0m\u001b[0m\n\u001b[1;32m     37\u001b[0m \u001b[0mnn\u001b[0m\u001b[0;34m.\u001b[0m\u001b[0mgraph\u001b[0m\u001b[0;34m.\u001b[0m\u001b[0mobserve\u001b[0m\u001b[0;34m(\u001b[0m\u001b[0mhovered_change\u001b[0m\u001b[0;34m,\u001b[0m \u001b[0;34m'hovered_point'\u001b[0m\u001b[0;34m)\u001b[0m\u001b[0;34m\u001b[0m\u001b[0m\n",
      "\u001b[0;32m<ipython-input-66-508bd9da7e6d>\u001b[0m in \u001b[0;36mupdate_bar_chart\u001b[0;34m(layer, node)\u001b[0m\n\u001b[1;32m     12\u001b[0m         \u001b[0mdisplay_vals\u001b[0m \u001b[0;34m=\u001b[0m \u001b[0mget_weights_for_node_at_layer\u001b[0m\u001b[0;34m(\u001b[0m\u001b[0mcleaned_weights\u001b[0m\u001b[0;34m,\u001b[0m \u001b[0mepoch\u001b[0m\u001b[0;34m,\u001b[0m \u001b[0mlayer\u001b[0m\u001b[0;34m-\u001b[0m\u001b[0;36m1\u001b[0m\u001b[0;34m,\u001b[0m \u001b[0mnode\u001b[0m\u001b[0;34m)\u001b[0m\u001b[0;34m\u001b[0m\u001b[0m\n\u001b[1;32m     13\u001b[0m     \u001b[0;32melif\u001b[0m \u001b[0mmode_dd\u001b[0m\u001b[0;34m.\u001b[0m\u001b[0mvalue\u001b[0m \u001b[0;34m==\u001b[0m \u001b[0;34m'Gradients'\u001b[0m\u001b[0;34m:\u001b[0m\u001b[0;34m\u001b[0m\u001b[0m\n\u001b[0;32m---> 14\u001b[0;31m         \u001b[0mdisplay_vals\u001b[0m \u001b[0;34m=\u001b[0m \u001b[0mget_gradients_for_node_at_layer\u001b[0m\u001b[0;34m(\u001b[0m\u001b[0mweights_callback\u001b[0m\u001b[0;34m.\u001b[0m\u001b[0mgradients\u001b[0m\u001b[0;34m,\u001b[0m \u001b[0mepoch\u001b[0m\u001b[0;34m,\u001b[0m \u001b[0mlayer\u001b[0m\u001b[0;34m-\u001b[0m\u001b[0;36m1\u001b[0m\u001b[0;34m,\u001b[0m \u001b[0mnode\u001b[0m\u001b[0;34m)\u001b[0m\u001b[0;34m\u001b[0m\u001b[0m\n\u001b[0m\u001b[1;32m     15\u001b[0m \u001b[0;34m\u001b[0m\u001b[0m\n\u001b[1;32m     16\u001b[0m     \u001b[0mreturn_vals\u001b[0m \u001b[0;34m=\u001b[0m \u001b[0mnp\u001b[0m\u001b[0;34m.\u001b[0m\u001b[0mappend\u001b[0m\u001b[0;34m(\u001b[0m\u001b[0;34m[\u001b[0m\u001b[0mdisplay_vals\u001b[0m\u001b[0;34m[\u001b[0m\u001b[0;36m0\u001b[0m\u001b[0;34m]\u001b[0m\u001b[0;34m]\u001b[0m\u001b[0;34m,\u001b[0m \u001b[0mdisplay_vals\u001b[0m\u001b[0;34m[\u001b[0m\u001b[0;36m1\u001b[0m\u001b[0;34m]\u001b[0m\u001b[0;34m)\u001b[0m\u001b[0;34m\u001b[0m\u001b[0m\n",
      "\u001b[0;32m<ipython-input-58-1a24279058f2>\u001b[0m in \u001b[0;36mget_gradients_for_node_at_layer\u001b[0;34m(gradients, epoch_num, layer_num, node_num)\u001b[0m\n\u001b[1;32m     25\u001b[0m     \u001b[0mlayer_bias_gradients\u001b[0m \u001b[0;34m=\u001b[0m \u001b[0mgradients\u001b[0m\u001b[0;34m[\u001b[0m\u001b[0mepoch_num\u001b[0m\u001b[0;34m]\u001b[0m\u001b[0;34m[\u001b[0m\u001b[0;36m2\u001b[0m \u001b[0;34m*\u001b[0m \u001b[0mlayer_num\u001b[0m \u001b[0;34m+\u001b[0m \u001b[0;36m1\u001b[0m\u001b[0;34m]\u001b[0m\u001b[0;34m\u001b[0m\u001b[0m\n\u001b[1;32m     26\u001b[0m \u001b[0;34m\u001b[0m\u001b[0m\n\u001b[0;32m---> 27\u001b[0;31m     \u001b[0mnode_gradients\u001b[0m \u001b[0;34m=\u001b[0m \u001b[0mlayer_gradients\u001b[0m\u001b[0;34m[\u001b[0m\u001b[0;34m:\u001b[0m\u001b[0;34m,\u001b[0m \u001b[0mnode_num\u001b[0m\u001b[0;34m]\u001b[0m\u001b[0;34m\u001b[0m\u001b[0m\n\u001b[0m\u001b[1;32m     28\u001b[0m     \u001b[0mnode_bias_gradiens\u001b[0m \u001b[0;34m=\u001b[0m \u001b[0mlayer_bias_gradients\u001b[0m\u001b[0;34m[\u001b[0m\u001b[0mnode_num\u001b[0m\u001b[0;34m]\u001b[0m\u001b[0;34m\u001b[0m\u001b[0m\n\u001b[1;32m     29\u001b[0m \u001b[0;34m\u001b[0m\u001b[0m\n",
      "\u001b[0;31mIndexError\u001b[0m: too many indices for array"
     ]
    }
   ],
   "source": [
    "def update_bar_chart(layer, node):\n",
    "    epoch = epoch_slider.value\n",
    "    \n",
    "    if mode_dd.value == 'Activations':\n",
    "        display_vals = get_activations_hist(epoch, layer-1, node)\n",
    "        hist_plot.sample = display_vals\n",
    "        nn.graph.tooltip = hist_figure\n",
    "        hist_figure.title = mode_dd.value + ' for layer:' + str(layer) + ' node: ' + str(node) + ' at epoch: ' + str(epoch)\n",
    "        return\n",
    "\n",
    "    if mode_dd.value == 'Weights':\n",
    "        display_vals = get_weights_for_node_at_layer(cleaned_weights, epoch, layer-1, node)\n",
    "    elif mode_dd.value == 'Gradients':\n",
    "        display_vals = get_gradients_for_node_at_layer(weights_callback.gradients, epoch, layer-1, node)\n",
    "        \n",
    "    return_vals = np.append([display_vals[0]], display_vals[1])\n",
    "    \n",
    "    bar_figure.title = mode_dd.value + ' for layer:' + str(layer) + ' node: ' + str(node) + ' at epoch: ' + str(epoch)\n",
    "    bar_plot.x = np.arange(len(return_vals))\n",
    "    bar_plot.y = return_vals\n",
    "    \n",
    "node_counts = [nn.num_inputs] + nn.num_hidden_layers + [nn.nodes_output_layer]\n",
    "\n",
    "def hovered_change(change):\n",
    "    point_index = change['new']\n",
    "    if point_index is None:\n",
    "        return\n",
    "    else:\n",
    "        for i, n in enumerate(node_counts):\n",
    "            if point_index < n:\n",
    "                break\n",
    "            else:\n",
    "                point_index = point_index - n\n",
    "        if i > 0:\n",
    "            update_bar_chart(i, point_index)\n",
    "    \n",
    "nn.graph.observe(hovered_change, 'hovered_point')\n",
    "\n",
    "VBox([controls, nn], layout=Layout(min_height='1500px'))    "
   ]
  },
  {
   "cell_type": "code",
   "execution_count": null,
   "metadata": {
    "collapsed": true
   },
   "outputs": [],
   "source": []
  },
  {
   "cell_type": "code",
   "execution_count": 50,
   "metadata": {},
   "outputs": [
    {
     "data": {
      "text/plain": [
       "0.93290458050302916"
      ]
     },
     "execution_count": 50,
     "metadata": {},
     "output_type": "execute_result"
    }
   ],
   "source": [
    "from sklearn.metrics import accuracy_score\n",
    "accuracy_score(Y_test.values.ravel(),predictions)"
   ]
  },
  {
   "cell_type": "code",
   "execution_count": null,
   "metadata": {
    "collapsed": true
   },
   "outputs": [],
   "source": [
    "from sklearn.metrics import confusion_matrix,precision_recall_curve,auc,roc_auc_score,roc_curve,recall_score,classification_report\n",
    "import itertools\n",
    "\n",
    "def plot_confusion_matrix(cm, classes,\n",
    "                          normalize=False,\n",
    "                          title='Confusion matrix',\n",
    "                          cmap=plt.cm.Blues):\n",
    "    \"\"\"\n",
    "    This function prints and plots the confusion matrix.\n",
    "    Normalization can be applied by setting `normalize=True`.\n",
    "    \"\"\"\n",
    "    plt.imshow(cm, interpolation='nearest', cmap=cmap)\n",
    "    plt.title(title)\n",
    "    plt.colorbar()\n",
    "    tick_marks = np.arange(len(classes))\n",
    "    plt.xticks(tick_marks, classes, rotation=0)\n",
    "    plt.yticks(tick_marks, classes)\n",
    "\n",
    "    if normalize:\n",
    "        cm = cm.astype('float') / cm.sum(axis=1)[:, np.newaxis]\n",
    "        #print(\"Normalized confusion matrix\")\n",
    "    else:\n",
    "        1#print('Confusion matrix, without normalization')\n",
    "\n",
    "    #print(cm)\n",
    "\n",
    "    thresh = cm.max() / 2.\n",
    "    for i, j in itertools.product(range(cm.shape[0]), range(cm.shape[1])):\n",
    "        plt.text(j, i, cm[i, j],\n",
    "                 horizontalalignment=\"center\",\n",
    "                 color=\"white\" if cm[i, j] > thresh else \"black\")\n",
    "\n",
    "    #plt.tight_layout()\n",
    "    plt.ylabel('True label')\n",
    "    plt.xlabel('Predicted label')"
   ]
  },
  {
   "cell_type": "code",
   "execution_count": 135,
   "metadata": {},
   "outputs": [
    {
     "data": {
      "image/png": "[encoded data removed]",
      "text/plain": [
       "<matplotlib.figure.Figure at 0x7ff6cafe5048>"
      ]
     },
     "metadata": {},
     "output_type": "display_data"
    }
   ],
   "source": [
    "cnf_matrix = confusion_matrix(Y_test,predictions)\n",
    "np.set_printoptions(precision=2)\n",
    "\n",
    "#print(\"Recall metric in the testing dataset: \", cnf_matrix[1,1]/(cnf_matrix[1,0]+cnf_matrix[1,1]))\n",
    "\n",
    "# Plot non-normalized confusion matrix\n",
    "class_names = [0,1,2,3,4,5,6]\n",
    "plt.figure(figsize=(15, 10))\n",
    "plot_confusion_matrix(cnf_matrix\n",
    "                      , classes=class_names\n",
    "                      , title='Confusion matrix')\n",
    "plt.grid('off')\n",
    "plt.show()"
   ]
  },
  {
   "cell_type": "markdown",
   "metadata": {},
   "source": [
    "# Noise conisderation"
   ]
  },
  {
   "cell_type": "code",
   "execution_count": 51,
   "metadata": {
    "collapsed": true
   },
   "outputs": [],
   "source": [
    "import numpy as np\n",
    "import keras\n",
    "from keras.models import Sequential\n",
    "from keras.layers import Dense, Dropout, Activation\n",
    "\n",
    "import tensorflow as tf\n",
    "from keras.layers import Dense, Dropout, Flatten,BatchNormalization\n",
    "from keras.optimizers import SGD,Adam\n",
    "import keras.backend as K\n",
    "import keras.callbacks\n",
    "from keras import regularizers"
   ]
  },
  {
   "cell_type": "code",
   "execution_count": 52,
   "metadata": {
    "collapsed": true
   },
   "outputs": [],
   "source": [
    "plt.style.use('ggplot')"
   ]
  },
  {
   "cell_type": "code",
   "execution_count": 53,
   "metadata": {
    "collapsed": true
   },
   "outputs": [],
   "source": [
    "NOISE_LEVEL=0.3  # what part of training labels are permuted\n",
    "#perm = np.array([6, 0, 4, 2, 1, 3, 5])  # noise permutation (from Reed)"
   ]
  },
  {
   "cell_type": "code",
   "execution_count": 54,
   "metadata": {
    "collapsed": true
   },
   "outputs": [],
   "source": [
    "Y_train=train_df['Cover_Type']-1"
   ]
  },
  {
   "cell_type": "code",
   "execution_count": 55,
   "metadata": {
    "collapsed": true
   },
   "outputs": [],
   "source": [
    "Y_test=test_df['Cover_Type']-1"
   ]
  },
  {
   "cell_type": "code",
   "execution_count": 56,
   "metadata": {
    "collapsed": true
   },
   "outputs": [],
   "source": [
    "#noise = perm[Y_train]"
   ]
  },
  {
   "cell_type": "code",
   "execution_count": 57,
   "metadata": {
    "collapsed": true
   },
   "outputs": [],
   "source": [
    "seed=0\n",
    "nb_classes = 7"
   ]
  },
  {
   "cell_type": "code",
   "execution_count": 58,
   "metadata": {
    "collapsed": true
   },
   "outputs": [],
   "source": [
    "#X_train=X_train_red_rf_features"
   ]
  },
  {
   "cell_type": "code",
   "execution_count": 59,
   "metadata": {
    "collapsed": true
   },
   "outputs": [],
   "source": [
    "n_train_data,dim=X_train.shape\n",
    "n_test_data,dim_test=X_test.shape\n",
    "Y_train=Y_train.values.reshape(n_train_data,1)\n",
    "Y_test=Y_test.values.reshape(n_test_data,1)"
   ]
  },
  {
   "cell_type": "code",
   "execution_count": 60,
   "metadata": {
    "collapsed": true
   },
   "outputs": [],
   "source": [
    "nhiddens = [500,300,200,100]\n",
    "DROPOUT=0.3\n",
    "#opt='adam'\n",
    "batch_size = 300\n",
    "patience = 4  # Early stopping patience\n",
    "epochs = 400  # number of epochs to train on"
   ]
  },
  {
   "cell_type": "code",
   "execution_count": 61,
   "metadata": {
    "collapsed": true
   },
   "outputs": [],
   "source": [
    "def castLabel(y, t):\n",
    "    if -1 in y:\n",
    "        if t == -1:\n",
    "            y_new = y\n",
    "        elif t == 0:\n",
    "            y_new = np.divide((y + 1) ,2)\n",
    "        elif t == 2:\n",
    "            y_new = np.divide((y + 3),2)\n",
    "    elif 0 in y:\n",
    "        if (t == -1):\n",
    "            y_new = (y * 2) - 1\n",
    "        elif (t == 0):\n",
    "            y_new = y\n",
    "        elif (t == 2):\n",
    "            y_new = y + 1\n",
    "    elif 2 in y:\n",
    "        if (t == -1):\n",
    "            y_new = (y * 2) - 3\n",
    "        elif (t == 0):\n",
    "            y_new = y - 1\n",
    "        elif (t == 2):\n",
    "            y_new = y\n",
    "    return y_new"
   ]
  },
  {
   "cell_type": "code",
   "execution_count": 62,
   "metadata": {
    "collapsed": true
   },
   "outputs": [],
   "source": [
    "def injectLabelNoise(y,flipRate):\n",
    "    fd  =  -np.ones((y.shape))\n",
    "    yz  =  castLabel(y,-1)\n",
    "    y   =  castLabel(y,2)\n",
    "    # sampling some numbers\n",
    "    for i in range(0,2):\n",
    "        prob    = np.random.rand(y.shape[0],1)\n",
    "        idx     = np.where((y==i+1) & (prob <= flipRate[i]))\n",
    "        #print(idx)\n",
    "        yz[idx[0]] = -yz[idx[0]]\n",
    "        fd[idx[0]] = -fd[idx[0]]\n",
    "    yz = castLabel(yz,2)\n",
    "    return yz, fd"
   ]
  },
  {
   "cell_type": "code",
   "execution_count": 63,
   "metadata": {
    "collapsed": true
   },
   "outputs": [],
   "source": [
    "yz, fd=injectLabelNoise(Y_train, [0.2,0.2,0.2,0.3,0.2,0.05,0.05])\n",
    "yz=castLabel(yz,0)"
   ]
  },
  {
   "cell_type": "code",
   "execution_count": 64,
   "metadata": {
    "collapsed": true
   },
   "outputs": [],
   "source": [
    "NOISE= round(1. - np.mean(yz == Y_train),2)"
   ]
  },
  {
   "cell_type": "code",
   "execution_count": 65,
   "metadata": {},
   "outputs": [
    {
     "data": {
      "text/plain": [
       "0.17000000000000001"
      ]
     },
     "execution_count": 65,
     "metadata": {},
     "output_type": "execute_result"
    }
   ],
   "source": [
    "NOISE"
   ]
  },
  {
   "cell_type": "code",
   "execution_count": 66,
   "metadata": {
    "collapsed": true
   },
   "outputs": [],
   "source": [
    "Y_train_noise=yz"
   ]
  },
  {
   "cell_type": "code",
   "execution_count": 67,
   "metadata": {
    "collapsed": true
   },
   "outputs": [],
   "source": [
    "Y_train_noise=Y_train_noise.flatten()"
   ]
  },
  {
   "cell_type": "code",
   "execution_count": 68,
   "metadata": {},
   "outputs": [
    {
     "name": "stderr",
     "output_type": "stream",
     "text": [
      "/home/namanda/anaconda3.6/lib/python3.6/site-packages/seaborn/categorical.py:1428: FutureWarning: remove_na is deprecated and is a private function. Do not use.\n",
      "  stat_data = remove_na(group_data)\n"
     ]
    },
    {
     "data": {
      "text/plain": [
       "<matplotlib.text.Text at 0x7ff6d01a1860>"
      ]
     },
     "execution_count": 68,
     "metadata": {},
     "output_type": "execute_result"
    },
    {
     "data": {
      "image/png": "[encoded data removed]",
      "text/plain": [
       "<matplotlib.figure.Figure at 0x7ff6d06831d0>"
      ]
     },
     "metadata": {},
     "output_type": "display_data"
    }
   ],
   "source": [
    "Y_train_df=pd.DataFrame(Y_train,columns=['Cover_Type'])\n",
    "ax=sns.countplot(x='Cover_Type', data=Y_train_df);\n",
    "total=float(len(data))\n",
    "plt.title('Frequency of the target class in the train Data Set')\n",
    "plt.ylabel('Frequency of the Target')\n",
    "plt.xlabel('Target Class')"
   ]
  },
  {
   "cell_type": "code",
   "execution_count": 69,
   "metadata": {},
   "outputs": [
    {
     "name": "stderr",
     "output_type": "stream",
     "text": [
      "/home/namanda/anaconda3.6/lib/python3.6/site-packages/seaborn/categorical.py:1428: FutureWarning: remove_na is deprecated and is a private function. Do not use.\n",
      "  stat_data = remove_na(group_data)\n"
     ]
    },
    {
     "data": {
      "text/plain": [
       "<matplotlib.text.Text at 0x7ff6d016b6d8>"
      ]
     },
     "execution_count": 69,
     "metadata": {},
     "output_type": "execute_result"
    },
    {
     "data": {
      "image/png": "[encoded data removed]",
      "text/plain": [
       "<matplotlib.figure.Figure at 0x7ff6d00f7ac8>"
      ]
     },
     "metadata": {},
     "output_type": "display_data"
    }
   ],
   "source": [
    "Y_train_df_noise=pd.DataFrame(Y_train_noise,columns=['Cover_Type'])\n",
    "ax=sns.countplot(x='Cover_Type', data=Y_train_df_noise);\n",
    "total=float(len(data))\n",
    "plt.title('Frequency of the target class in the train Data Set after noise')\n",
    "plt.ylabel('Frequency of the Target')\n",
    "plt.xlabel('Target Class')"
   ]
  },
  {
   "cell_type": "code",
   "execution_count": 70,
   "metadata": {
    "collapsed": true
   },
   "outputs": [],
   "source": [
    "from sklearn.model_selection import StratifiedShuffleSplit\n",
    "#_, noise_idx = next(iter(StratifiedShuffleSplit(n_splits=1,\n",
    "#                                                test_size=NOISE_LEVEL,\n",
    "#                                                random_state=seed).split(X_train,Y_train.ravel())))\n",
    "#Y_train_noise = Y_train.copy()\n",
    "#noise=noise.reshape(n_train_data,1)\n",
    "#Y_train_noise[noise_idx] = noise[noise_idx]"
   ]
  },
  {
   "cell_type": "code",
   "execution_count": 71,
   "metadata": {
    "collapsed": true
   },
   "outputs": [],
   "source": [
    "#1. - np.mean(Y_train_noise == Y_train)"
   ]
  },
  {
   "cell_type": "code",
   "execution_count": 73,
   "metadata": {
    "collapsed": true
   },
   "outputs": [],
   "source": [
    "# break the training set to 10% validation which we will use for early stopping.\n",
    "train_idx, val_idx = next(iter(\n",
    "        StratifiedShuffleSplit(n_splits=1, test_size=0.1,\n",
    "                               random_state=0).split(X_train, Y_train_noise))) #.values\n",
    "X_train=X_train.values\n",
    "X_train_train = X_train[train_idx]\n",
    "Y_train_train = Y_train_noise[train_idx]\n",
    "X_train_val = X_train[val_idx]\n",
    "Y_train_val = Y_train_noise[val_idx]"
   ]
  },
  {
   "cell_type": "code",
   "execution_count": null,
   "metadata": {
    "collapsed": true
   },
   "outputs": [],
   "source": []
  },
  {
   "cell_type": "code",
   "execution_count": 74,
   "metadata": {
    "collapsed": true
   },
   "outputs": [],
   "source": [
    "from keras import regularizers\n",
    "from keras.models import Sequential\n",
    "hidden_layers = Sequential(name='hidden')"
   ]
  },
  {
   "cell_type": "code",
   "execution_count": 75,
   "metadata": {
    "collapsed": true
   },
   "outputs": [],
   "source": [
    "from keras.layers import Dense, Dropout, Activation\n",
    "for i, nhidden in enumerate(nhiddens):\n",
    "    hidden_layers.add(Dense(nhidden,kernel_regularizer=regularizers.l2(0.01),\n",
    "                            input_shape=(X_train.shape[1],) if i == 0 else []))\n",
    "    hidden_layers.add(Activation('relu'))\n",
    "    hidden_layers.add(BatchNormalization(axis=-1, momentum=0.99, epsilon=0.01))\n",
    "    hidden_layers.add(Dropout(DROPOUT))"
   ]
  },
  {
   "cell_type": "code",
   "execution_count": 76,
   "metadata": {
    "collapsed": true
   },
   "outputs": [],
   "source": [
    "from keras.layers import Input\n",
    "train_inputs = Input(shape=(X_train.shape[1],))"
   ]
  },
  {
   "cell_type": "code",
   "execution_count": 77,
   "metadata": {
    "collapsed": true
   },
   "outputs": [],
   "source": [
    "last_hidden = hidden_layers(train_inputs)\n",
    "baseline_output = Dense(nb_classes, activation='softmax', name='baseline',kernel_regularizer=regularizers.l2(0.01))(last_hidden)"
   ]
  },
  {
   "cell_type": "code",
   "execution_count": 78,
   "metadata": {
    "collapsed": true
   },
   "outputs": [],
   "source": [
    "from keras.models import Model\n",
    "sgd = SGD(lr=0.01, momentum=0.8, decay=0.1/200, nesterov=True)\n",
    "model = Model(inputs=train_inputs, outputs=baseline_output)\n",
    "model.compile(loss='sparse_categorical_crossentropy',\n",
    "              optimizer=sgd,\n",
    "              metrics=['accuracy'])"
   ]
  },
  {
   "cell_type": "code",
   "execution_count": 79,
   "metadata": {},
   "outputs": [
    {
     "name": "stdout",
     "output_type": "stream",
     "text": [
      "_________________________________________________________________\n",
      "Layer (type)                 Output Shape              Param #   \n",
      "=================================================================\n",
      "input_1 (InputLayer)         (None, 63)                0         \n",
      "_________________________________________________________________\n",
      "hidden (Sequential)          (None, 100)               267000    \n",
      "_________________________________________________________________\n",
      "baseline (Dense)             (None, 7)                 707       \n",
      "=================================================================\n",
      "Total params: 267,707\n",
      "Trainable params: 265,507\n",
      "Non-trainable params: 2,200\n",
      "_________________________________________________________________\n"
     ]
    }
   ],
   "source": [
    "model.summary()"
   ]
  },
  {
   "cell_type": "code",
   "execution_count": 80,
   "metadata": {
    "collapsed": true
   },
   "outputs": [],
   "source": [
    "def eval(model,y_test=Y_test):\n",
    "    return dict(zip(model.metrics_names,model.evaluate(X_test.values,y_test, verbose=False)))"
   ]
  },
  {
   "cell_type": "code",
   "execution_count": 81,
   "metadata": {},
   "outputs": [
    {
     "data": {
      "text/plain": [
       "{'acc': 0.11092114925647145, 'loss': 10.626812775550423}"
      ]
     },
     "execution_count": 81,
     "metadata": {},
     "output_type": "execute_result"
    }
   ],
   "source": [
    "eval(model)"
   ]
  },
  {
   "cell_type": "code",
   "execution_count": 82,
   "metadata": {},
   "outputs": [
    {
     "name": "stdout",
     "output_type": "stream",
     "text": [
      "Train on 366037 samples, validate on 40671 samples\n",
      "Epoch 1/400\n",
      "366037/366037 [==============================] - 20s 55us/step - loss: 4.5075 - acc: 0.6085 - val_loss: 2.0609 - val_acc: 0.6461\n",
      "Epoch 2/400\n",
      "366037/366037 [==============================] - 14s 39us/step - loss: 1.4802 - acc: 0.6463 - val_loss: 1.0968 - val_acc: 0.6661\n",
      "Epoch 3/400\n",
      "366037/366037 [==============================] - 15s 40us/step - loss: 0.9844 - acc: 0.6575 - val_loss: 0.8598 - val_acc: 0.6789\n",
      "Epoch 4/400\n",
      "366037/366037 [==============================] - 14s 37us/step - loss: 0.8429 - acc: 0.6683 - val_loss: 0.7773 - val_acc: 0.6893\n",
      "Epoch 5/400\n",
      "366037/366037 [==============================] - 14s 37us/step - loss: 0.7890 - acc: 0.6759 - val_loss: 0.7391 - val_acc: 0.6966\n",
      "Epoch 6/400\n",
      "366037/366037 [==============================] - 14s 38us/step - loss: 0.7610 - acc: 0.6832 - val_loss: 0.7156 - val_acc: 0.7051\n",
      "Epoch 7/400\n",
      "366037/366037 [==============================] - 13s 37us/step - loss: 0.7451 - acc: 0.6878 - val_loss: 0.7057 - val_acc: 0.7084\n",
      "Epoch 8/400\n",
      "366037/366037 [==============================] - 13s 36us/step - loss: 0.7352 - acc: 0.6916 - val_loss: 0.6973 - val_acc: 0.7101\n",
      "Epoch 9/400\n",
      "366037/366037 [==============================] - 14s 38us/step - loss: 0.7272 - acc: 0.6945 - val_loss: 0.6922 - val_acc: 0.7160\n",
      "Epoch 10/400\n",
      "366037/366037 [==============================] - 14s 39us/step - loss: 0.7214 - acc: 0.6976 - val_loss: 0.6787 - val_acc: 0.7202\n",
      "Epoch 11/400\n",
      "366037/366037 [==============================] - 13s 37us/step - loss: 0.7171 - acc: 0.7000 - val_loss: 0.6824 - val_acc: 0.7207\n",
      "Epoch 12/400\n",
      "366037/366037 [==============================] - 13s 37us/step - loss: 0.7133 - acc: 0.7026 - val_loss: 0.6762 - val_acc: 0.7219\n",
      "Epoch 13/400\n",
      "366037/366037 [==============================] - 13s 36us/step - loss: 0.7095 - acc: 0.7051 - val_loss: 0.6682 - val_acc: 0.7274\n",
      "Epoch 14/400\n",
      "366037/366037 [==============================] - 13s 36us/step - loss: 0.7063 - acc: 0.7063 - val_loss: 0.6743 - val_acc: 0.7250\n",
      "Epoch 15/400\n",
      "366037/366037 [==============================] - 13s 36us/step - loss: 0.7043 - acc: 0.7077 - val_loss: 0.6698 - val_acc: 0.7293\n",
      "Epoch 16/400\n",
      "366037/366037 [==============================] - 13s 35us/step - loss: 0.7009 - acc: 0.7105 - val_loss: 0.6681 - val_acc: 0.7302\n",
      "Epoch 17/400\n",
      "366037/366037 [==============================] - 13s 35us/step - loss: 0.6982 - acc: 0.7112 - val_loss: 0.6608 - val_acc: 0.7329\n",
      "Epoch 18/400\n",
      "366037/366037 [==============================] - 14s 37us/step - loss: 0.6968 - acc: 0.7124 - val_loss: 0.6565 - val_acc: 0.7359\n",
      "Epoch 19/400\n",
      "366037/366037 [==============================] - 13s 36us/step - loss: 0.6943 - acc: 0.7132 - val_loss: 0.6568 - val_acc: 0.7352\n",
      "Epoch 20/400\n",
      "366037/366037 [==============================] - 13s 36us/step - loss: 0.6930 - acc: 0.7150 - val_loss: 0.6525 - val_acc: 0.7374\n",
      "Epoch 21/400\n",
      "366037/366037 [==============================] - 14s 37us/step - loss: 0.6913 - acc: 0.7156 - val_loss: 0.6520 - val_acc: 0.7382\n",
      "Epoch 22/400\n",
      "366037/366037 [==============================] - 13s 36us/step - loss: 0.6899 - acc: 0.7163 - val_loss: 0.6485 - val_acc: 0.7402\n",
      "Epoch 23/400\n",
      "366037/366037 [==============================] - 13s 36us/step - loss: 0.6892 - acc: 0.7165 - val_loss: 0.6492 - val_acc: 0.7398\n",
      "Epoch 24/400\n",
      "366037/366037 [==============================] - 13s 36us/step - loss: 0.6879 - acc: 0.7179 - val_loss: 0.6521 - val_acc: 0.7387\n",
      "Epoch 25/400\n",
      "366037/366037 [==============================] - 13s 36us/step - loss: 0.6871 - acc: 0.7187 - val_loss: 0.6471 - val_acc: 0.7407\n",
      "Epoch 26/400\n",
      "366037/366037 [==============================] - 13s 35us/step - loss: 0.6853 - acc: 0.7194 - val_loss: 0.6450 - val_acc: 0.7427\n",
      "Epoch 27/400\n",
      "366037/366037 [==============================] - 13s 36us/step - loss: 0.6843 - acc: 0.7194 - val_loss: 0.6449 - val_acc: 0.7425\n",
      "Epoch 28/400\n",
      "366037/366037 [==============================] - 14s 39us/step - loss: 0.6831 - acc: 0.7205 - val_loss: 0.6452 - val_acc: 0.7412\n",
      "Epoch 29/400\n",
      "366037/366037 [==============================] - 13s 36us/step - loss: 0.6819 - acc: 0.7214 - val_loss: 0.6441 - val_acc: 0.7429\n",
      "Epoch 30/400\n",
      "366037/366037 [==============================] - 13s 37us/step - loss: 0.6804 - acc: 0.7222 - val_loss: 0.6424 - val_acc: 0.7436\n",
      "Epoch 31/400\n",
      "366037/366037 [==============================] - 13s 37us/step - loss: 0.6801 - acc: 0.7229 - val_loss: 0.6400 - val_acc: 0.7445\n",
      "Epoch 32/400\n",
      "366037/366037 [==============================] - 13s 36us/step - loss: 0.6791 - acc: 0.7226 - val_loss: 0.6393 - val_acc: 0.7450\n",
      "Epoch 33/400\n",
      "366037/366037 [==============================] - 13s 35us/step - loss: 0.6785 - acc: 0.7237 - val_loss: 0.6381 - val_acc: 0.7477\n",
      "Epoch 34/400\n",
      "366037/366037 [==============================] - 13s 35us/step - loss: 0.6774 - acc: 0.7241 - val_loss: 0.6382 - val_acc: 0.7471\n",
      "Epoch 35/400\n",
      "366037/366037 [==============================] - 13s 35us/step - loss: 0.6769 - acc: 0.7240 - val_loss: 0.6376 - val_acc: 0.7468\n",
      "Epoch 36/400\n",
      "366037/366037 [==============================] - 13s 35us/step - loss: 0.6758 - acc: 0.7247 - val_loss: 0.6366 - val_acc: 0.7472\n",
      "Epoch 37/400\n",
      "366037/366037 [==============================] - 13s 35us/step - loss: 0.6750 - acc: 0.7258 - val_loss: 0.6369 - val_acc: 0.7470\n",
      "Epoch 38/400\n",
      "366037/366037 [==============================] - 13s 35us/step - loss: 0.6746 - acc: 0.7256 - val_loss: 0.6350 - val_acc: 0.7472\n",
      "Epoch 39/400\n",
      "366037/366037 [==============================] - 13s 35us/step - loss: 0.6741 - acc: 0.7257 - val_loss: 0.6365 - val_acc: 0.7461\n",
      "Epoch 40/400\n",
      "366037/366037 [==============================] - 13s 37us/step - loss: 0.6739 - acc: 0.7266 - val_loss: 0.6351 - val_acc: 0.7490\n",
      "Epoch 41/400\n",
      "366037/366037 [==============================] - 14s 37us/step - loss: 0.6733 - acc: 0.7266 - val_loss: 0.6363 - val_acc: 0.7479\n",
      "Epoch 42/400\n",
      "366037/366037 [==============================] - 13s 37us/step - loss: 0.6723 - acc: 0.7270 - val_loss: 0.6337 - val_acc: 0.7494\n",
      "Epoch 43/400\n",
      "366037/366037 [==============================] - 16s 42us/step - loss: 0.6718 - acc: 0.7275 - val_loss: 0.6327 - val_acc: 0.7492\n",
      "Epoch 44/400\n",
      "366037/366037 [==============================] - 15s 41us/step - loss: 0.6707 - acc: 0.7272 - val_loss: 0.6336 - val_acc: 0.7486\n",
      "Epoch 45/400\n",
      "366037/366037 [==============================] - 17s 46us/step - loss: 0.6707 - acc: 0.7285 - val_loss: 0.6329 - val_acc: 0.7491\n",
      "Epoch 46/400\n",
      "366037/366037 [==============================] - 14s 38us/step - loss: 0.6704 - acc: 0.7284 - val_loss: 0.6319 - val_acc: 0.7493\n",
      "Epoch 47/400\n",
      "366037/366037 [==============================] - 13s 36us/step - loss: 0.6704 - acc: 0.7283 - val_loss: 0.6307 - val_acc: 0.7519\n",
      "Epoch 48/400\n",
      "366037/366037 [==============================] - 13s 35us/step - loss: 0.6700 - acc: 0.7287 - val_loss: 0.6302 - val_acc: 0.7504\n",
      "Epoch 49/400\n",
      "366037/366037 [==============================] - 13s 37us/step - loss: 0.6690 - acc: 0.7296 - val_loss: 0.6306 - val_acc: 0.7501\n",
      "Epoch 50/400\n",
      "366037/366037 [==============================] - 14s 37us/step - loss: 0.6687 - acc: 0.7297 - val_loss: 0.6297 - val_acc: 0.7507\n",
      "Epoch 51/400\n",
      "366037/366037 [==============================] - 13s 35us/step - loss: 0.6677 - acc: 0.7302 - val_loss: 0.6283 - val_acc: 0.7507\n",
      "Epoch 52/400\n",
      "366037/366037 [==============================] - 13s 35us/step - loss: 0.6688 - acc: 0.7292 - val_loss: 0.6299 - val_acc: 0.7510\n",
      "Epoch 53/400\n",
      "366037/366037 [==============================] - 13s 35us/step - loss: 0.6675 - acc: 0.7300 - val_loss: 0.6301 - val_acc: 0.7499\n",
      "Epoch 54/400\n",
      "366037/366037 [==============================] - 14s 37us/step - loss: 0.6670 - acc: 0.7301 - val_loss: 0.6282 - val_acc: 0.7518\n",
      "Epoch 55/400\n",
      "366037/366037 [==============================] - 13s 35us/step - loss: 0.6669 - acc: 0.7307 - val_loss: 0.6277 - val_acc: 0.7530\n",
      "Epoch 56/400\n",
      "366037/366037 [==============================] - 13s 35us/step - loss: 0.6667 - acc: 0.7309 - val_loss: 0.6274 - val_acc: 0.7525\n",
      "Epoch 57/400\n",
      "366037/366037 [==============================] - 13s 36us/step - loss: 0.6659 - acc: 0.7309 - val_loss: 0.6270 - val_acc: 0.7528\n",
      "Epoch 58/400\n",
      "366037/366037 [==============================] - 14s 38us/step - loss: 0.6657 - acc: 0.7314 - val_loss: 0.6260 - val_acc: 0.7512\n",
      "Epoch 59/400\n",
      "366037/366037 [==============================] - 14s 37us/step - loss: 0.6654 - acc: 0.7311 - val_loss: 0.6255 - val_acc: 0.7543\n",
      "Epoch 60/400\n",
      "366037/366037 [==============================] - 13s 36us/step - loss: 0.6652 - acc: 0.7316 - val_loss: 0.6258 - val_acc: 0.7519\n",
      "Epoch 61/400\n",
      "366037/366037 [==============================] - 13s 36us/step - loss: 0.6643 - acc: 0.7321 - val_loss: 0.6269 - val_acc: 0.7517\n",
      "Epoch 62/400\n",
      "366037/366037 [==============================] - 13s 35us/step - loss: 0.6641 - acc: 0.7326 - val_loss: 0.6251 - val_acc: 0.7534\n",
      "Epoch 63/400\n",
      "366037/366037 [==============================] - 13s 35us/step - loss: 0.6640 - acc: 0.7323 - val_loss: 0.6258 - val_acc: 0.7533\n",
      "Epoch 64/400\n",
      "366037/366037 [==============================] - 14s 38us/step - loss: 0.6638 - acc: 0.7322 - val_loss: 0.6249 - val_acc: 0.7532\n",
      "Epoch 65/400\n",
      "366037/366037 [==============================] - 14s 37us/step - loss: 0.6634 - acc: 0.7322 - val_loss: 0.6248 - val_acc: 0.7532\n",
      "Epoch 66/400\n",
      "366037/366037 [==============================] - 13s 36us/step - loss: 0.6631 - acc: 0.7323 - val_loss: 0.6264 - val_acc: 0.7541\n",
      "Epoch 67/400\n",
      "366037/366037 [==============================] - 13s 36us/step - loss: 0.6627 - acc: 0.7325 - val_loss: 0.6254 - val_acc: 0.7543\n",
      "Epoch 68/400\n",
      "366037/366037 [==============================] - 14s 38us/step - loss: 0.6630 - acc: 0.7331 - val_loss: 0.6244 - val_acc: 0.7543\n",
      "Epoch 69/400\n",
      "366037/366037 [==============================] - 14s 37us/step - loss: 0.6619 - acc: 0.7331 - val_loss: 0.6224 - val_acc: 0.7544\n",
      "Epoch 70/400\n",
      "366037/366037 [==============================] - 13s 36us/step - loss: 0.6617 - acc: 0.7337 - val_loss: 0.6232 - val_acc: 0.7552\n",
      "Epoch 71/400\n",
      "366037/366037 [==============================] - 13s 36us/step - loss: 0.6621 - acc: 0.7329 - val_loss: 0.6239 - val_acc: 0.7542\n",
      "Epoch 72/400\n",
      "366037/366037 [==============================] - 13s 35us/step - loss: 0.6608 - acc: 0.7338 - val_loss: 0.6222 - val_acc: 0.7559\n",
      "Epoch 73/400\n",
      "366037/366037 [==============================] - 13s 35us/step - loss: 0.6612 - acc: 0.7340 - val_loss: 0.6232 - val_acc: 0.7544\n",
      "Epoch 74/400\n",
      "366037/366037 [==============================] - 13s 35us/step - loss: 0.6611 - acc: 0.7333 - val_loss: 0.6232 - val_acc: 0.7561\n",
      "Epoch 75/400\n",
      "366037/366037 [==============================] - 13s 35us/step - loss: 0.6608 - acc: 0.7341 - val_loss: 0.6217 - val_acc: 0.7556\n",
      "Epoch 76/400\n",
      "366037/366037 [==============================] - 13s 36us/step - loss: 0.6605 - acc: 0.7342 - val_loss: 0.6226 - val_acc: 0.7544\n",
      "Epoch 77/400\n",
      "366037/366037 [==============================] - 13s 35us/step - loss: 0.6606 - acc: 0.7342 - val_loss: 0.6224 - val_acc: 0.7548\n",
      "Epoch 78/400\n",
      "366037/366037 [==============================] - 15s 40us/step - loss: 0.6602 - acc: 0.7344 - val_loss: 0.6204 - val_acc: 0.7558\n",
      "Epoch 79/400\n",
      "366037/366037 [==============================] - 13s 37us/step - loss: 0.6605 - acc: 0.7343 - val_loss: 0.6220 - val_acc: 0.7553\n",
      "Epoch 80/400\n",
      "366037/366037 [==============================] - 14s 37us/step - loss: 0.6600 - acc: 0.7343 - val_loss: 0.6220 - val_acc: 0.7552\n",
      "Epoch 81/400\n",
      "366037/366037 [==============================] - 13s 36us/step - loss: 0.6594 - acc: 0.7349 - val_loss: 0.6222 - val_acc: 0.7550\n",
      "Epoch 82/400\n",
      "366037/366037 [==============================] - 13s 36us/step - loss: 0.6592 - acc: 0.7352 - val_loss: 0.6203 - val_acc: 0.7566\n",
      "Epoch 83/400\n",
      "366037/366037 [==============================] - 13s 36us/step - loss: 0.6591 - acc: 0.7355 - val_loss: 0.6207 - val_acc: 0.7558\n",
      "Epoch 84/400\n",
      "366037/366037 [==============================] - 14s 38us/step - loss: 0.6586 - acc: 0.7358 - val_loss: 0.6208 - val_acc: 0.7561\n",
      "Epoch 85/400\n",
      "366037/366037 [==============================] - 13s 37us/step - loss: 0.6587 - acc: 0.7362 - val_loss: 0.6198 - val_acc: 0.7568\n",
      "Epoch 86/400\n",
      "366037/366037 [==============================] - 13s 36us/step - loss: 0.6588 - acc: 0.7357 - val_loss: 0.6212 - val_acc: 0.7558\n",
      "Epoch 87/400\n",
      "366037/366037 [==============================] - 13s 35us/step - loss: 0.6574 - acc: 0.7366 - val_loss: 0.6191 - val_acc: 0.7574\n",
      "Epoch 88/400\n",
      "366037/366037 [==============================] - 13s 35us/step - loss: 0.6573 - acc: 0.7360 - val_loss: 0.6205 - val_acc: 0.7566\n",
      "Epoch 89/400\n",
      "366037/366037 [==============================] - 13s 35us/step - loss: 0.6580 - acc: 0.7359 - val_loss: 0.6198 - val_acc: 0.7569\n",
      "Epoch 90/400\n",
      "366037/366037 [==============================] - 13s 35us/step - loss: 0.6577 - acc: 0.7363 - val_loss: 0.6201 - val_acc: 0.7554\n",
      "Epoch 91/400\n",
      "366037/366037 [==============================] - 13s 35us/step - loss: 0.6572 - acc: 0.7360 - val_loss: 0.6190 - val_acc: 0.7569\n",
      "Epoch 92/400\n",
      "366037/366037 [==============================] - 13s 35us/step - loss: 0.6574 - acc: 0.7362 - val_loss: 0.6198 - val_acc: 0.7570\n",
      "Epoch 93/400\n",
      "366037/366037 [==============================] - 13s 35us/step - loss: 0.6570 - acc: 0.7368 - val_loss: 0.6200 - val_acc: 0.7581\n",
      "Epoch 94/400\n",
      "366037/366037 [==============================] - 13s 35us/step - loss: 0.6572 - acc: 0.7367 - val_loss: 0.6190 - val_acc: 0.7575\n",
      "Epoch 95/400\n",
      "366037/366037 [==============================] - 13s 35us/step - loss: 0.6569 - acc: 0.7360 - val_loss: 0.6198 - val_acc: 0.7565\n",
      "Epoch 96/400\n",
      "366037/366037 [==============================] - 13s 35us/step - loss: 0.6563 - acc: 0.7372 - val_loss: 0.6185 - val_acc: 0.7581\n",
      "Epoch 97/400\n",
      "366037/366037 [==============================] - 13s 37us/step - loss: 0.6565 - acc: 0.7368 - val_loss: 0.6188 - val_acc: 0.7583\n",
      "Epoch 98/400\n",
      "366037/366037 [==============================] - 14s 38us/step - loss: 0.6563 - acc: 0.7369 - val_loss: 0.6187 - val_acc: 0.7561\n",
      "Epoch 99/400\n",
      "366037/366037 [==============================] - 13s 35us/step - loss: 0.6556 - acc: 0.7373 - val_loss: 0.6198 - val_acc: 0.7579\n",
      "Epoch 100/400\n",
      "366037/366037 [==============================] - 13s 35us/step - loss: 0.6558 - acc: 0.7374 - val_loss: 0.6181 - val_acc: 0.7588\n",
      "Epoch 101/400\n",
      "366037/366037 [==============================] - 13s 35us/step - loss: 0.6563 - acc: 0.7368 - val_loss: 0.6175 - val_acc: 0.7587\n",
      "Epoch 102/400\n",
      "366037/366037 [==============================] - 13s 36us/step - loss: 0.6557 - acc: 0.7370 - val_loss: 0.6178 - val_acc: 0.7585\n",
      "Epoch 103/400\n",
      "366037/366037 [==============================] - 13s 36us/step - loss: 0.6557 - acc: 0.7371 - val_loss: 0.6169 - val_acc: 0.7596\n",
      "Epoch 104/400\n",
      "366037/366037 [==============================] - 14s 39us/step - loss: 0.6547 - acc: 0.7384 - val_loss: 0.6175 - val_acc: 0.7581\n",
      "Epoch 105/400\n",
      "366037/366037 [==============================] - 14s 37us/step - loss: 0.6553 - acc: 0.7375 - val_loss: 0.6166 - val_acc: 0.7589\n",
      "Epoch 106/400\n",
      "366037/366037 [==============================] - 13s 35us/step - loss: 0.6551 - acc: 0.7377 - val_loss: 0.6174 - val_acc: 0.7591\n",
      "Epoch 107/400\n",
      "366037/366037 [==============================] - 13s 35us/step - loss: 0.6543 - acc: 0.7385 - val_loss: 0.6170 - val_acc: 0.7589\n",
      "Epoch 108/400\n",
      "366037/366037 [==============================] - 13s 35us/step - loss: 0.6544 - acc: 0.7387 - val_loss: 0.6170 - val_acc: 0.7592\n",
      "Epoch 109/400\n",
      "366037/366037 [==============================] - 13s 35us/step - loss: 0.6546 - acc: 0.7378 - val_loss: 0.6168 - val_acc: 0.7589\n",
      "Epoch 00109: early stopping\n"
     ]
    }
   ],
   "source": [
    "from keras.callbacks import EarlyStopping\n",
    "train_res = model.fit(X_train_train,\n",
    "                      Y_train_train,\n",
    "                      batch_size=batch_size,\n",
    "                      epochs=epochs,\n",
    "                      verbose=True,\n",
    "                      validation_data=(X_train_val,\n",
    "                                       Y_train_val),\n",
    "                      callbacks=\n",
    "                      [EarlyStopping(patience=patience,mode='min',\n",
    "                                     verbose=True)]\n",
    "                      )"
   ]
  },
  {
   "cell_type": "code",
   "execution_count": 83,
   "metadata": {},
   "outputs": [
    {
     "data": {
      "text/plain": [
       "{'acc': 0.89070818799339091, 'loss': 0.46638670916598457}"
      ]
     },
     "execution_count": 83,
     "metadata": {},
     "output_type": "execute_result"
    }
   ],
   "source": [
    "eval(model)"
   ]
  },
  {
   "cell_type": "code",
   "execution_count": 84,
   "metadata": {
    "collapsed": true
   },
   "outputs": [],
   "source": [
    "ybaseline_predict = model.predict(X_train,batch_size=batch_size)"
   ]
  },
  {
   "cell_type": "code",
   "execution_count": 85,
   "metadata": {
    "collapsed": true
   },
   "outputs": [],
   "source": [
    "ybaseline_predict = np.argmax(ybaseline_predict, axis=-1)"
   ]
  },
  {
   "cell_type": "code",
   "execution_count": 86,
   "metadata": {
    "collapsed": true
   },
   "outputs": [],
   "source": [
    "ybaseline_predict=ybaseline_predict.reshape(ybaseline_predict.shape[0],1)"
   ]
  },
  {
   "cell_type": "code",
   "execution_count": 133,
   "metadata": {},
   "outputs": [
    {
     "data": {
      "text/plain": [
       "(406708, 1)"
      ]
     },
     "execution_count": 133,
     "metadata": {},
     "output_type": "execute_result"
    }
   ],
   "source": [
    "ybaseline_predict.shape"
   ]
  },
  {
   "cell_type": "code",
   "execution_count": 87,
   "metadata": {
    "collapsed": true
   },
   "outputs": [],
   "source": [
    "Y_train_noise=Y_train_noise.flatten()"
   ]
  },
  {
   "cell_type": "code",
   "execution_count": 88,
   "metadata": {
    "collapsed": true
   },
   "outputs": [],
   "source": [
    "Y_train_noise=pd.DataFrame(Y_train_noise,columns=['Cover_Type'])"
   ]
  },
  {
   "cell_type": "code",
   "execution_count": 89,
   "metadata": {
    "collapsed": true
   },
   "outputs": [],
   "source": [
    "Y_train_noise=Y_train_noise.astype('int')"
   ]
  },
  {
   "cell_type": "code",
   "execution_count": 90,
   "metadata": {},
   "outputs": [
    {
     "data": {
      "text/html": [
       "<div>\n",
       "<style scoped>\n",
       "    .dataframe tbody tr th:only-of-type {\n",
       "        vertical-align: middle;\n",
       "    }\n",
       "\n",
       "    .dataframe tbody tr th {\n",
       "        vertical-align: top;\n",
       "    }\n",
       "\n",
       "    .dataframe thead th {\n",
       "        text-align: right;\n",
       "    }\n",
       "</style>\n",
       "<table border=\"1\" class=\"dataframe\">\n",
       "  <thead>\n",
       "    <tr style=\"text-align: right;\">\n",
       "      <th></th>\n",
       "      <th>Cover_Type</th>\n",
       "    </tr>\n",
       "  </thead>\n",
       "  <tbody>\n",
       "    <tr>\n",
       "      <th>0</th>\n",
       "      <td>0</td>\n",
       "    </tr>\n",
       "    <tr>\n",
       "      <th>1</th>\n",
       "      <td>1</td>\n",
       "    </tr>\n",
       "    <tr>\n",
       "      <th>2</th>\n",
       "      <td>1</td>\n",
       "    </tr>\n",
       "    <tr>\n",
       "      <th>3</th>\n",
       "      <td>1</td>\n",
       "    </tr>\n",
       "    <tr>\n",
       "      <th>4</th>\n",
       "      <td>1</td>\n",
       "    </tr>\n",
       "  </tbody>\n",
       "</table>\n",
       "</div>"
      ],
      "text/plain": [
       "   Cover_Type\n",
       "0           0\n",
       "1           1\n",
       "2           1\n",
       "3           1\n",
       "4           1"
      ]
     },
     "execution_count": 90,
     "metadata": {},
     "output_type": "execute_result"
    }
   ],
   "source": [
    "Y_train_noise.head()"
   ]
  },
  {
   "cell_type": "code",
   "execution_count": 91,
   "metadata": {
    "collapsed": true
   },
   "outputs": [],
   "source": [
    "baseline_confusion = np.zeros((nb_classes, nb_classes))\n",
    "for n, p in zip(Y_train_noise.values.ravel(), ybaseline_predict):\n",
    "    baseline_confusion[p, n] += 1."
   ]
  },
  {
   "cell_type": "code",
   "execution_count": 92,
   "metadata": {},
   "outputs": [
    {
     "data": {
      "image/png": "[encoded data removed]",
      "text/plain": [
       "<matplotlib.figure.Figure at 0x7ff6b02d12b0>"
      ]
     },
     "metadata": {},
     "output_type": "display_data"
    }
   ],
   "source": [
    "import matplotlib.pyplot as plt\n",
    "%matplotlib inline\n",
    "# perm_bias_weights.astype(int)\n",
    "plt.pcolor(baseline_confusion)\n",
    "plt.ylabel('true labels')\n",
    "plt.xlabel('baseline labels')\n",
    "plt.title('baseline confusion matrix');"
   ]
  },
  {
   "cell_type": "code",
   "execution_count": 93,
   "metadata": {
    "collapsed": true
   },
   "outputs": [],
   "source": [
    "BETA = 0"
   ]
  },
  {
   "cell_type": "code",
   "execution_count": 94,
   "metadata": {
    "collapsed": true
   },
   "outputs": [],
   "source": [
    "#baseline_confusion"
   ]
  },
  {
   "cell_type": "code",
   "execution_count": 95,
   "metadata": {
    "collapsed": true
   },
   "outputs": [],
   "source": [
    "channel_weights = baseline_confusion.copy()\n",
    "#channel_weights=channel_weights + 1e-8\n",
    "channel_weights /= channel_weights.sum(axis=1, keepdims=True)\n",
    "# perm_bias_weights[prediction,noisy_label] = log(P(noisy_label|prediction))\n",
    "channel_weights = np.log(channel_weights+1e-8)"
   ]
  },
  {
   "cell_type": "code",
   "execution_count": 96,
   "metadata": {
    "collapsed": true
   },
   "outputs": [],
   "source": [
    "from channel import Channel\n",
    "channeled_output = Channel(name='channel',weights=[channel_weights],kernel_regularizer=regularizers.l2(0.01))(baseline_output)"
   ]
  },
  {
   "cell_type": "code",
   "execution_count": 97,
   "metadata": {
    "collapsed": true
   },
   "outputs": [],
   "source": [
    "if BETA ==1:\n",
    "    simple_model = Model(inputs=train_inputs, outputs=[baseline_output])\n",
    "    simple_model.compile(loss='sparse_categorical_crossentropy',optimizer=sgd,metrics=['accuracy'])\n",
    "else:\n",
    "    simple_model = Model(inputs=train_inputs, outputs=[channeled_output, baseline_output])\n",
    "    simple_model.compile(loss='sparse_categorical_crossentropy',loss_weights=[1.-BETA, BETA],optimizer=sgd,metrics=['accuracy'])"
   ]
  },
  {
   "cell_type": "code",
   "execution_count": 98,
   "metadata": {},
   "outputs": [
    {
     "name": "stdout",
     "output_type": "stream",
     "text": [
      "_________________________________________________________________\n",
      "Layer (type)                 Output Shape              Param #   \n",
      "=================================================================\n",
      "input_1 (InputLayer)         (None, 63)                0         \n",
      "_________________________________________________________________\n",
      "hidden (Sequential)          (None, 100)               267000    \n",
      "_________________________________________________________________\n",
      "baseline (Dense)             (None, 7)                 707       \n",
      "_________________________________________________________________\n",
      "channel (Channel)            (None, 7)                 49        \n",
      "=================================================================\n",
      "Total params: 267,756\n",
      "Trainable params: 265,556\n",
      "Non-trainable params: 2,200\n",
      "_________________________________________________________________\n"
     ]
    }
   ],
   "source": [
    "simple_model.summary()"
   ]
  },
  {
   "cell_type": "code",
   "execution_count": 99,
   "metadata": {},
   "outputs": [
    {
     "name": "stdout",
     "output_type": "stream",
     "text": [
      "Train on 366037 samples, validate on 40671 samples\n",
      "Epoch 1/100\n",
      "366037/366037 [==============================] - 24s 66us/step - loss: 54.6446 - channel_loss: 0.6143 - baseline_loss: 0.6045 - channel_acc: 0.7340 - baseline_acc: 0.7341 - val_loss: 53.6455 - val_channel_loss: 0.5786 - val_baseline_loss: 0.5823 - val_channel_acc: 0.7554 - val_baseline_acc: 0.7553\n",
      "Epoch 2/100\n",
      "366037/366037 [==============================] - 20s 53us/step - loss: 52.7408 - channel_loss: 0.6073 - baseline_loss: 0.6353 - channel_acc: 0.7353 - baseline_acc: 0.7353 - val_loss: 51.7889 - val_channel_loss: 0.5766 - val_baseline_loss: 0.6059 - val_channel_acc: 0.7544 - val_baseline_acc: 0.7541\n",
      "Epoch 3/100\n",
      "366037/366037 [==============================] - 16s 45us/step - loss: 50.9251 - channel_loss: 0.6055 - baseline_loss: 0.6547 - channel_acc: 0.7359 - baseline_acc: 0.7360 - val_loss: 50.0116 - val_channel_loss: 0.5747 - val_baseline_loss: 0.6219 - val_channel_acc: 0.7571 - val_baseline_acc: 0.7571\n",
      "Epoch 4/100\n",
      "366037/366037 [==============================] - 14s 39us/step - loss: 49.1897 - channel_loss: 0.6055 - baseline_loss: 0.6699 - channel_acc: 0.7365 - baseline_acc: 0.7365 - val_loss: 48.3152 - val_channel_loss: 0.5753 - val_baseline_loss: 0.6346 - val_channel_acc: 0.7563 - val_baseline_acc: 0.7561\n",
      "Epoch 5/100\n",
      "366037/366037 [==============================] - 14s 38us/step - loss: 47.5277 - channel_loss: 0.6056 - baseline_loss: 0.6796 - channel_acc: 0.7366 - baseline_acc: 0.7366 - val_loss: 46.6901 - val_channel_loss: 0.5750 - val_baseline_loss: 0.6435 - val_channel_acc: 0.7571 - val_baseline_acc: 0.7578\n",
      "Epoch 6/100\n",
      "366037/366037 [==============================] - 14s 37us/step - loss: 45.9368 - channel_loss: 0.6053 - baseline_loss: 0.6865 - channel_acc: 0.7369 - baseline_acc: 0.7370 - val_loss: 45.1314 - val_channel_loss: 0.5746 - val_baseline_loss: 0.6459 - val_channel_acc: 0.7580 - val_baseline_acc: 0.7580\n",
      "Epoch 7/100\n",
      "366037/366037 [==============================] - 13s 37us/step - loss: 44.4149 - channel_loss: 0.6067 - baseline_loss: 0.6937 - channel_acc: 0.7372 - baseline_acc: 0.7373 - val_loss: 43.6424 - val_channel_loss: 0.5757 - val_baseline_loss: 0.6550 - val_channel_acc: 0.7587 - val_baseline_acc: 0.7585\n",
      "Epoch 8/100\n",
      "366037/366037 [==============================] - 13s 36us/step - loss: 42.9544 - channel_loss: 0.6070 - baseline_loss: 0.6982 - channel_acc: 0.7374 - baseline_acc: 0.7374 - val_loss: 42.2148 - val_channel_loss: 0.5772 - val_baseline_loss: 0.6603 - val_channel_acc: 0.7574 - val_baseline_acc: 0.7574\n",
      "Epoch 9/100\n",
      "366037/366037 [==============================] - 13s 36us/step - loss: 41.5568 - channel_loss: 0.6082 - baseline_loss: 0.7037 - channel_acc: 0.7376 - baseline_acc: 0.7377 - val_loss: 40.8461 - val_channel_loss: 0.5787 - val_baseline_loss: 0.6668 - val_channel_acc: 0.7577 - val_baseline_acc: 0.7575\n",
      "Epoch 10/100\n",
      "366037/366037 [==============================] - 13s 36us/step - loss: 40.2157 - channel_loss: 0.6091 - baseline_loss: 0.7074 - channel_acc: 0.7375 - baseline_acc: 0.7374 - val_loss: 39.5318 - val_channel_loss: 0.5786 - val_baseline_loss: 0.6627 - val_channel_acc: 0.7581 - val_baseline_acc: 0.7588\n",
      "Epoch 11/100\n",
      "366037/366037 [==============================] - 13s 36us/step - loss: 38.9290 - channel_loss: 0.6096 - baseline_loss: 0.7068 - channel_acc: 0.7379 - baseline_acc: 0.7380 - val_loss: 38.2723 - val_channel_loss: 0.5796 - val_baseline_loss: 0.6668 - val_channel_acc: 0.7590 - val_baseline_acc: 0.7590\n",
      "Epoch 12/100\n",
      "366037/366037 [==============================] - 13s 37us/step - loss: 37.6956 - channel_loss: 0.6112 - baseline_loss: 0.7116 - channel_acc: 0.7381 - baseline_acc: 0.7381 - val_loss: 37.0640 - val_channel_loss: 0.5811 - val_baseline_loss: 0.6677 - val_channel_acc: 0.7589 - val_baseline_acc: 0.7586\n",
      "Epoch 13/100\n",
      "366037/366037 [==============================] - 13s 36us/step - loss: 36.5110 - channel_loss: 0.6122 - baseline_loss: 0.7138 - channel_acc: 0.7379 - baseline_acc: 0.7379 - val_loss: 35.9046 - val_channel_loss: 0.5833 - val_baseline_loss: 0.6711 - val_channel_acc: 0.7578 - val_baseline_acc: 0.7571\n",
      "Epoch 14/100\n",
      "366037/366037 [==============================] - 13s 36us/step - loss: 35.3744 - channel_loss: 0.6139 - baseline_loss: 0.7143 - channel_acc: 0.7380 - baseline_acc: 0.7380 - val_loss: 34.7903 - val_channel_loss: 0.5843 - val_baseline_loss: 0.6715 - val_channel_acc: 0.7590 - val_baseline_acc: 0.7592\n",
      "Epoch 15/100\n",
      "366037/366037 [==============================] - 13s 37us/step - loss: 34.2828 - channel_loss: 0.6155 - baseline_loss: 0.7171 - channel_acc: 0.7376 - baseline_acc: 0.7376 - val_loss: 33.7199 - val_channel_loss: 0.5854 - val_baseline_loss: 0.6725 - val_channel_acc: 0.7594 - val_baseline_acc: 0.7599\n",
      "Epoch 16/100\n",
      "366037/366037 [==============================] - 13s 36us/step - loss: 33.2332 - channel_loss: 0.6163 - baseline_loss: 0.7182 - channel_acc: 0.7384 - baseline_acc: 0.7385 - val_loss: 32.6919 - val_channel_loss: 0.5872 - val_baseline_loss: 0.6760 - val_channel_acc: 0.7592 - val_baseline_acc: 0.7593\n",
      "Epoch 17/100\n",
      "366037/366037 [==============================] - 13s 36us/step - loss: 32.2251 - channel_loss: 0.6178 - baseline_loss: 0.7187 - channel_acc: 0.7379 - baseline_acc: 0.7380 - val_loss: 31.7043 - val_channel_loss: 0.5892 - val_baseline_loss: 0.6780 - val_channel_acc: 0.7592 - val_baseline_acc: 0.7589\n",
      "Epoch 18/100\n",
      "366037/366037 [==============================] - 13s 36us/step - loss: 31.2555 - channel_loss: 0.6187 - baseline_loss: 0.7209 - channel_acc: 0.7391 - baseline_acc: 0.7393 - val_loss: 30.7534 - val_channel_loss: 0.5902 - val_baseline_loss: 0.6788 - val_channel_acc: 0.7595 - val_baseline_acc: 0.7586\n",
      "Epoch 19/100\n",
      "366037/366037 [==============================] - 13s 36us/step - loss: 30.3243 - channel_loss: 0.6208 - baseline_loss: 0.7218 - channel_acc: 0.7385 - baseline_acc: 0.7384 - val_loss: 29.8394 - val_channel_loss: 0.5916 - val_baseline_loss: 0.6814 - val_channel_acc: 0.7598 - val_baseline_acc: 0.7599\n",
      "Epoch 20/100\n",
      "366037/366037 [==============================] - 13s 37us/step - loss: 29.4281 - channel_loss: 0.6224 - baseline_loss: 0.7241 - channel_acc: 0.7388 - baseline_acc: 0.7388 - val_loss: 28.9607 - val_channel_loss: 0.5931 - val_baseline_loss: 0.6817 - val_channel_acc: 0.7590 - val_baseline_acc: 0.7589\n",
      "Epoch 21/100\n",
      "366037/366037 [==============================] - 14s 38us/step - loss: 28.5658 - channel_loss: 0.6241 - baseline_loss: 0.7251 - channel_acc: 0.7383 - baseline_acc: 0.7385 - val_loss: 28.1155 - val_channel_loss: 0.5952 - val_baseline_loss: 0.6862 - val_channel_acc: 0.7591 - val_baseline_acc: 0.7592\n",
      "Epoch 22/100\n",
      "366037/366037 [==============================] - 13s 36us/step - loss: 27.7351 - channel_loss: 0.6250 - baseline_loss: 0.7242 - channel_acc: 0.7390 - baseline_acc: 0.7391 - val_loss: 27.3014 - val_channel_loss: 0.5970 - val_baseline_loss: 0.6803 - val_channel_acc: 0.7596 - val_baseline_acc: 0.7589\n",
      "Epoch 23/100\n",
      "366037/366037 [==============================] - 13s 36us/step - loss: 26.9368 - channel_loss: 0.6272 - baseline_loss: 0.7253 - channel_acc: 0.7388 - baseline_acc: 0.7388 - val_loss: 26.5170 - val_channel_loss: 0.5986 - val_baseline_loss: 0.6850 - val_channel_acc: 0.7590 - val_baseline_acc: 0.7591\n",
      "Epoch 24/100\n",
      "366037/366037 [==============================] - 13s 36us/step - loss: 26.1671 - channel_loss: 0.6285 - baseline_loss: 0.7274 - channel_acc: 0.7391 - baseline_acc: 0.7393 - val_loss: 25.7627 - val_channel_loss: 0.6006 - val_baseline_loss: 0.6857 - val_channel_acc: 0.7591 - val_baseline_acc: 0.7592\n",
      "Epoch 25/100\n",
      "366037/366037 [==============================] - 13s 36us/step - loss: 25.4266 - channel_loss: 0.6309 - baseline_loss: 0.7280 - channel_acc: 0.7384 - baseline_acc: 0.7383 - val_loss: 25.0351 - val_channel_loss: 0.6019 - val_baseline_loss: 0.6854 - val_channel_acc: 0.7600 - val_baseline_acc: 0.7597\n",
      "Epoch 26/100\n",
      "366037/366037 [==============================] - 13s 36us/step - loss: 24.7120 - channel_loss: 0.6320 - baseline_loss: 0.7260 - channel_acc: 0.7388 - baseline_acc: 0.7388 - val_loss: 24.3341 - val_channel_loss: 0.6039 - val_baseline_loss: 0.6852 - val_channel_acc: 0.7600 - val_baseline_acc: 0.7597\n",
      "Epoch 27/100\n",
      "366037/366037 [==============================] - 13s 36us/step - loss: 24.0240 - channel_loss: 0.6337 - baseline_loss: 0.7279 - channel_acc: 0.7400 - baseline_acc: 0.7402 - val_loss: 23.6594 - val_channel_loss: 0.6063 - val_baseline_loss: 0.6904 - val_channel_acc: 0.7590 - val_baseline_acc: 0.7594\n",
      "Epoch 28/100\n",
      "366037/366037 [==============================] - 15s 40us/step - loss: 23.3606 - channel_loss: 0.6357 - baseline_loss: 0.7276 - channel_acc: 0.7389 - baseline_acc: 0.7388 - val_loss: 23.0080 - val_channel_loss: 0.6078 - val_baseline_loss: 0.6836 - val_channel_acc: 0.7601 - val_baseline_acc: 0.7602\n",
      "Epoch 29/100\n",
      "366037/366037 [==============================] - 14s 39us/step - loss: 22.7214 - channel_loss: 0.6378 - baseline_loss: 0.7281 - channel_acc: 0.7388 - baseline_acc: 0.7391 - val_loss: 22.3791 - val_channel_loss: 0.6094 - val_baseline_loss: 0.6843 - val_channel_acc: 0.7594 - val_baseline_acc: 0.7595\n",
      "Epoch 30/100\n",
      "366037/366037 [==============================] - 14s 38us/step - loss: 22.1040 - channel_loss: 0.6390 - baseline_loss: 0.7280 - channel_acc: 0.7393 - baseline_acc: 0.7392 - val_loss: 21.7737 - val_channel_loss: 0.6112 - val_baseline_loss: 0.6849 - val_channel_acc: 0.7597 - val_baseline_acc: 0.7596\n",
      "Epoch 31/100\n",
      "366037/366037 [==============================] - 14s 37us/step - loss: 21.5087 - channel_loss: 0.6410 - baseline_loss: 0.7287 - channel_acc: 0.7392 - baseline_acc: 0.7390 - val_loss: 21.1893 - val_channel_loss: 0.6132 - val_baseline_loss: 0.6900 - val_channel_acc: 0.7591 - val_baseline_acc: 0.7591\n",
      "Epoch 32/100\n",
      "366037/366037 [==============================] - 14s 37us/step - loss: 20.9349 - channel_loss: 0.6430 - baseline_loss: 0.7295 - channel_acc: 0.7386 - baseline_acc: 0.7388 - val_loss: 20.6243 - val_channel_loss: 0.6144 - val_baseline_loss: 0.6842 - val_channel_acc: 0.7609 - val_baseline_acc: 0.7608\n",
      "Epoch 33/100\n",
      "366037/366037 [==============================] - 16s 44us/step - loss: 20.3797 - channel_loss: 0.6443 - baseline_loss: 0.7300 - channel_acc: 0.7395 - baseline_acc: 0.7396 - val_loss: 20.0806 - val_channel_loss: 0.6170 - val_baseline_loss: 0.6871 - val_channel_acc: 0.7598 - val_baseline_acc: 0.7598\n",
      "Epoch 34/100\n",
      "366037/366037 [==============================] - 14s 39us/step - loss: 19.8448 - channel_loss: 0.6462 - baseline_loss: 0.7293 - channel_acc: 0.7394 - baseline_acc: 0.7393 - val_loss: 19.5543 - val_channel_loss: 0.6189 - val_baseline_loss: 0.6859 - val_channel_acc: 0.7596 - val_baseline_acc: 0.7597\n",
      "Epoch 35/100\n",
      "366037/366037 [==============================] - 14s 38us/step - loss: 19.3281 - channel_loss: 0.6484 - baseline_loss: 0.7311 - channel_acc: 0.7386 - baseline_acc: 0.7388 - val_loss: 19.0469 - val_channel_loss: 0.6207 - val_baseline_loss: 0.6862 - val_channel_acc: 0.7606 - val_baseline_acc: 0.7600\n",
      "Epoch 36/100\n",
      "366037/366037 [==============================] - 13s 37us/step - loss: 18.8280 - channel_loss: 0.6493 - baseline_loss: 0.7272 - channel_acc: 0.7391 - baseline_acc: 0.7391 - val_loss: 18.5557 - val_channel_loss: 0.6226 - val_baseline_loss: 0.6882 - val_channel_acc: 0.7595 - val_baseline_acc: 0.7594\n",
      "Epoch 37/100\n",
      "366037/366037 [==============================] - 13s 36us/step - loss: 18.3459 - channel_loss: 0.6514 - baseline_loss: 0.7287 - channel_acc: 0.7386 - baseline_acc: 0.7389 - val_loss: 18.0823 - val_channel_loss: 0.6245 - val_baseline_loss: 0.6879 - val_channel_acc: 0.7608 - val_baseline_acc: 0.7604\n",
      "Epoch 38/100\n",
      "366037/366037 [==============================] - 13s 36us/step - loss: 17.8798 - channel_loss: 0.6532 - baseline_loss: 0.7293 - channel_acc: 0.7389 - baseline_acc: 0.7389 - val_loss: 17.6237 - val_channel_loss: 0.6266 - val_baseline_loss: 0.6868 - val_channel_acc: 0.7599 - val_baseline_acc: 0.7598\n",
      "Epoch 39/100\n",
      "366037/366037 [==============================] - 13s 36us/step - loss: 17.4290 - channel_loss: 0.6550 - baseline_loss: 0.7280 - channel_acc: 0.7390 - baseline_acc: 0.7392 - val_loss: 17.1809 - val_channel_loss: 0.6282 - val_baseline_loss: 0.6903 - val_channel_acc: 0.7584 - val_baseline_acc: 0.7582\n",
      "Epoch 40/100\n",
      "366037/366037 [==============================] - 13s 36us/step - loss: 16.9938 - channel_loss: 0.6569 - baseline_loss: 0.7282 - channel_acc: 0.7389 - baseline_acc: 0.7393 - val_loss: 16.7520 - val_channel_loss: 0.6297 - val_baseline_loss: 0.6831 - val_channel_acc: 0.7602 - val_baseline_acc: 0.7604\n",
      "Epoch 41/100\n",
      "366037/366037 [==============================] - 13s 36us/step - loss: 16.5717 - channel_loss: 0.6584 - baseline_loss: 0.7287 - channel_acc: 0.7397 - baseline_acc: 0.7400 - val_loss: 16.3384 - val_channel_loss: 0.6318 - val_baseline_loss: 0.6828 - val_channel_acc: 0.7602 - val_baseline_acc: 0.7597\n",
      "Epoch 42/100\n",
      "366037/366037 [==============================] - 13s 36us/step - loss: 16.1646 - channel_loss: 0.6599 - baseline_loss: 0.7268 - channel_acc: 0.7397 - baseline_acc: 0.7398 - val_loss: 15.9375 - val_channel_loss: 0.6334 - val_baseline_loss: 0.6883 - val_channel_acc: 0.7594 - val_baseline_acc: 0.7598\n",
      "Epoch 43/100\n",
      "366037/366037 [==============================] - 14s 38us/step - loss: 15.7703 - channel_loss: 0.6622 - baseline_loss: 0.7284 - channel_acc: 0.7391 - baseline_acc: 0.7394 - val_loss: 15.5487 - val_channel_loss: 0.6346 - val_baseline_loss: 0.6883 - val_channel_acc: 0.7608 - val_baseline_acc: 0.7604\n",
      "Epoch 44/100\n",
      "366037/366037 [==============================] - 14s 39us/step - loss: 15.3893 - channel_loss: 0.6639 - baseline_loss: 0.7261 - channel_acc: 0.7389 - baseline_acc: 0.7390 - val_loss: 15.1748 - val_channel_loss: 0.6371 - val_baseline_loss: 0.6851 - val_channel_acc: 0.7603 - val_baseline_acc: 0.7592\n",
      "Epoch 45/100\n",
      "366037/366037 [==============================] - 14s 38us/step - loss: 15.0193 - channel_loss: 0.6651 - baseline_loss: 0.7255 - channel_acc: 0.7396 - baseline_acc: 0.7396 - val_loss: 14.8103 - val_channel_loss: 0.6383 - val_baseline_loss: 0.6842 - val_channel_acc: 0.7600 - val_baseline_acc: 0.7607\n",
      "Epoch 46/100\n",
      "366037/366037 [==============================] - 13s 37us/step - loss: 14.6617 - channel_loss: 0.6668 - baseline_loss: 0.7264 - channel_acc: 0.7391 - baseline_acc: 0.7392 - val_loss: 14.4595 - val_channel_loss: 0.6403 - val_baseline_loss: 0.6838 - val_channel_acc: 0.7612 - val_baseline_acc: 0.7607\n",
      "Epoch 47/100\n",
      "366037/366037 [==============================] - 13s 36us/step - loss: 14.3159 - channel_loss: 0.6684 - baseline_loss: 0.7267 - channel_acc: 0.7397 - baseline_acc: 0.7397 - val_loss: 14.1193 - val_channel_loss: 0.6423 - val_baseline_loss: 0.6869 - val_channel_acc: 0.7595 - val_baseline_acc: 0.7593\n",
      "Epoch 48/100\n",
      "366037/366037 [==============================] - 13s 36us/step - loss: 13.9807 - channel_loss: 0.6706 - baseline_loss: 0.7279 - channel_acc: 0.7391 - baseline_acc: 0.7393 - val_loss: 13.7891 - val_channel_loss: 0.6442 - val_baseline_loss: 0.6838 - val_channel_acc: 0.7589 - val_baseline_acc: 0.7581\n",
      "Epoch 49/100\n",
      "366037/366037 [==============================] - 14s 38us/step - loss: 13.6560 - channel_loss: 0.6719 - baseline_loss: 0.7263 - channel_acc: 0.7398 - baseline_acc: 0.7403 - val_loss: 13.4701 - val_channel_loss: 0.6457 - val_baseline_loss: 0.6839 - val_channel_acc: 0.7587 - val_baseline_acc: 0.7587\n",
      "Epoch 50/100\n",
      "366037/366037 [==============================] - 14s 38us/step - loss: 13.3412 - channel_loss: 0.6731 - baseline_loss: 0.7249 - channel_acc: 0.7393 - baseline_acc: 0.7395 - val_loss: 13.1595 - val_channel_loss: 0.6468 - val_baseline_loss: 0.6836 - val_channel_acc: 0.7609 - val_baseline_acc: 0.7613\n",
      "Epoch 51/100\n",
      "366037/366037 [==============================] - 14s 38us/step - loss: 13.0363 - channel_loss: 0.6754 - baseline_loss: 0.7272 - channel_acc: 0.7391 - baseline_acc: 0.7392 - val_loss: 12.8593 - val_channel_loss: 0.6485 - val_baseline_loss: 0.6851 - val_channel_acc: 0.7610 - val_baseline_acc: 0.7606\n",
      "Epoch 52/100\n",
      "366037/366037 [==============================] - 14s 38us/step - loss: 12.7417 - channel_loss: 0.6772 - baseline_loss: 0.7261 - channel_acc: 0.7391 - baseline_acc: 0.7392 - val_loss: 12.5693 - val_channel_loss: 0.6504 - val_baseline_loss: 0.6853 - val_channel_acc: 0.7596 - val_baseline_acc: 0.7597\n",
      "Epoch 53/100\n"
     ]
    },
    {
     "name": "stdout",
     "output_type": "stream",
     "text": [
      "366037/366037 [==============================] - 13s 36us/step - loss: 12.4550 - channel_loss: 0.6786 - baseline_loss: 0.7233 - channel_acc: 0.7389 - baseline_acc: 0.7393 - val_loss: 12.2867 - val_channel_loss: 0.6520 - val_baseline_loss: 0.6817 - val_channel_acc: 0.7593 - val_baseline_acc: 0.7599\n",
      "Epoch 54/100\n",
      "366037/366037 [==============================] - 14s 38us/step - loss: 12.1764 - channel_loss: 0.6800 - baseline_loss: 0.7238 - channel_acc: 0.7397 - baseline_acc: 0.7397 - val_loss: 12.0130 - val_channel_loss: 0.6534 - val_baseline_loss: 0.6783 - val_channel_acc: 0.7598 - val_baseline_acc: 0.7600\n",
      "Epoch 55/100\n",
      "366037/366037 [==============================] - 14s 39us/step - loss: 11.9075 - channel_loss: 0.6814 - baseline_loss: 0.7250 - channel_acc: 0.7399 - baseline_acc: 0.7402 - val_loss: 11.7492 - val_channel_loss: 0.6557 - val_baseline_loss: 0.6840 - val_channel_acc: 0.7590 - val_baseline_acc: 0.7582\n",
      "Epoch 56/100\n",
      "366037/366037 [==============================] - 15s 40us/step - loss: 11.6465 - channel_loss: 0.6831 - baseline_loss: 0.7243 - channel_acc: 0.7387 - baseline_acc: 0.7392 - val_loss: 11.4913 - val_channel_loss: 0.6570 - val_baseline_loss: 0.6804 - val_channel_acc: 0.7596 - val_baseline_acc: 0.7588\n",
      "Epoch 57/100\n",
      "366037/366037 [==============================] - 14s 37us/step - loss: 11.3928 - channel_loss: 0.6849 - baseline_loss: 0.7238 - channel_acc: 0.7391 - baseline_acc: 0.7392 - val_loss: 11.2407 - val_channel_loss: 0.6581 - val_baseline_loss: 0.6802 - val_channel_acc: 0.7606 - val_baseline_acc: 0.7613\n",
      "Epoch 58/100\n",
      "366037/366037 [==============================] - 13s 37us/step - loss: 11.1464 - channel_loss: 0.6862 - baseline_loss: 0.7227 - channel_acc: 0.7392 - baseline_acc: 0.7396 - val_loss: 10.9988 - val_channel_loss: 0.6599 - val_baseline_loss: 0.6792 - val_channel_acc: 0.7603 - val_baseline_acc: 0.7602\n",
      "Epoch 59/100\n",
      "366037/366037 [==============================] - 14s 38us/step - loss: 10.9077 - channel_loss: 0.6874 - baseline_loss: 0.7221 - channel_acc: 0.7393 - baseline_acc: 0.7397 - val_loss: 10.7637 - val_channel_loss: 0.6614 - val_baseline_loss: 0.6762 - val_channel_acc: 0.7601 - val_baseline_acc: 0.7604\n",
      "Epoch 60/100\n",
      "366037/366037 [==============================] - 14s 38us/step - loss: 10.6757 - channel_loss: 0.6887 - baseline_loss: 0.7206 - channel_acc: 0.7394 - baseline_acc: 0.7395 - val_loss: 10.5355 - val_channel_loss: 0.6628 - val_baseline_loss: 0.6784 - val_channel_acc: 0.7606 - val_baseline_acc: 0.7603\n",
      "Epoch 61/100\n",
      "366037/366037 [==============================] - 14s 39us/step - loss: 10.4518 - channel_loss: 0.6910 - baseline_loss: 0.7231 - channel_acc: 0.7392 - baseline_acc: 0.7396 - val_loss: 10.3139 - val_channel_loss: 0.6645 - val_baseline_loss: 0.6826 - val_channel_acc: 0.7597 - val_baseline_acc: 0.7601\n",
      "Epoch 62/100\n",
      "366037/366037 [==============================] - 14s 38us/step - loss: 10.2325 - channel_loss: 0.6917 - baseline_loss: 0.7213 - channel_acc: 0.7394 - baseline_acc: 0.7398 - val_loss: 10.0985 - val_channel_loss: 0.6655 - val_baseline_loss: 0.6775 - val_channel_acc: 0.7612 - val_baseline_acc: 0.7608\n",
      "Epoch 63/100\n",
      "366037/366037 [==============================] - 14s 38us/step - loss: 10.0209 - channel_loss: 0.6935 - baseline_loss: 0.7215 - channel_acc: 0.7393 - baseline_acc: 0.7395 - val_loss: 9.8896 - val_channel_loss: 0.6673 - val_baseline_loss: 0.6777 - val_channel_acc: 0.7602 - val_baseline_acc: 0.7603\n",
      "Epoch 64/100\n",
      "366037/366037 [==============================] - 14s 38us/step - loss: 9.8149 - channel_loss: 0.6950 - baseline_loss: 0.7211 - channel_acc: 0.7395 - baseline_acc: 0.7399 - val_loss: 9.6866 - val_channel_loss: 0.6685 - val_baseline_loss: 0.6788 - val_channel_acc: 0.7597 - val_baseline_acc: 0.7601\n",
      "Epoch 65/100\n",
      "366037/366037 [==============================] - 14s 37us/step - loss: 9.6148 - channel_loss: 0.6963 - baseline_loss: 0.7193 - channel_acc: 0.7389 - baseline_acc: 0.7393 - val_loss: 9.4899 - val_channel_loss: 0.6706 - val_baseline_loss: 0.6729 - val_channel_acc: 0.7595 - val_baseline_acc: 0.7584\n",
      "Epoch 66/100\n",
      "366037/366037 [==============================] - 14s 38us/step - loss: 9.4198 - channel_loss: 0.6973 - baseline_loss: 0.7171 - channel_acc: 0.7394 - baseline_acc: 0.7398 - val_loss: 9.2987 - val_channel_loss: 0.6722 - val_baseline_loss: 0.6788 - val_channel_acc: 0.7582 - val_baseline_acc: 0.7588\n",
      "Epoch 67/100\n",
      "366037/366037 [==============================] - 15s 40us/step - loss: 9.2310 - channel_loss: 0.6986 - baseline_loss: 0.7171 - channel_acc: 0.7393 - baseline_acc: 0.7398 - val_loss: 9.1119 - val_channel_loss: 0.6732 - val_baseline_loss: 0.6737 - val_channel_acc: 0.7595 - val_baseline_acc: 0.7598\n",
      "Epoch 68/100\n",
      "366037/366037 [==============================] - 15s 40us/step - loss: 9.0473 - channel_loss: 0.7000 - baseline_loss: 0.7164 - channel_acc: 0.7393 - baseline_acc: 0.7396 - val_loss: 8.9305 - val_channel_loss: 0.6740 - val_baseline_loss: 0.6747 - val_channel_acc: 0.7608 - val_baseline_acc: 0.7614\n",
      "Epoch 69/100\n",
      "366037/366037 [==============================] - 15s 42us/step - loss: 8.8687 - channel_loss: 0.7012 - baseline_loss: 0.7163 - channel_acc: 0.7396 - baseline_acc: 0.7401 - val_loss: 8.7556 - val_channel_loss: 0.6765 - val_baseline_loss: 0.6814 - val_channel_acc: 0.7582 - val_baseline_acc: 0.7585\n",
      "Epoch 70/100\n",
      "366037/366037 [==============================] - 15s 41us/step - loss: 8.6952 - channel_loss: 0.7028 - baseline_loss: 0.7167 - channel_acc: 0.7390 - baseline_acc: 0.7395 - val_loss: 8.5835 - val_channel_loss: 0.6768 - val_baseline_loss: 0.6730 - val_channel_acc: 0.7610 - val_baseline_acc: 0.7610\n",
      "Epoch 71/100\n",
      "366037/366037 [==============================] - 16s 43us/step - loss: 8.5270 - channel_loss: 0.7044 - baseline_loss: 0.7164 - channel_acc: 0.7391 - baseline_acc: 0.7395 - val_loss: 8.4167 - val_channel_loss: 0.6778 - val_baseline_loss: 0.6731 - val_channel_acc: 0.7602 - val_baseline_acc: 0.7597\n",
      "Epoch 72/100\n",
      "366037/366037 [==============================] - 15s 42us/step - loss: 8.3620 - channel_loss: 0.7050 - baseline_loss: 0.7159 - channel_acc: 0.7395 - baseline_acc: 0.7402 - val_loss: 8.2546 - val_channel_loss: 0.6790 - val_baseline_loss: 0.6716 - val_channel_acc: 0.7614 - val_baseline_acc: 0.7607\n",
      "Epoch 73/100\n",
      "366037/366037 [==============================] - 14s 38us/step - loss: 8.2024 - channel_loss: 0.7062 - baseline_loss: 0.7151 - channel_acc: 0.7391 - baseline_acc: 0.7400 - val_loss: 8.0984 - val_channel_loss: 0.6813 - val_baseline_loss: 0.6691 - val_channel_acc: 0.7600 - val_baseline_acc: 0.7602\n",
      "Epoch 74/100\n",
      "366037/366037 [==============================] - 14s 38us/step - loss: 8.0471 - channel_loss: 0.7076 - baseline_loss: 0.7140 - channel_acc: 0.7394 - baseline_acc: 0.7396 - val_loss: 7.9443 - val_channel_loss: 0.6820 - val_baseline_loss: 0.6754 - val_channel_acc: 0.7589 - val_baseline_acc: 0.7593\n",
      "Epoch 75/100\n",
      "366037/366037 [==============================] - 15s 42us/step - loss: 7.8958 - channel_loss: 0.7087 - baseline_loss: 0.7141 - channel_acc: 0.7393 - baseline_acc: 0.7403 - val_loss: 7.7951 - val_channel_loss: 0.6829 - val_baseline_loss: 0.6659 - val_channel_acc: 0.7618 - val_baseline_acc: 0.7614\n",
      "Epoch 76/100\n",
      "366037/366037 [==============================] - 14s 39us/step - loss: 7.7495 - channel_loss: 0.7106 - baseline_loss: 0.7144 - channel_acc: 0.7395 - baseline_acc: 0.7399 - val_loss: 7.6503 - val_channel_loss: 0.6844 - val_baseline_loss: 0.6680 - val_channel_acc: 0.7608 - val_baseline_acc: 0.7609\n",
      "Epoch 77/100\n",
      "366037/366037 [==============================] - 13s 36us/step - loss: 7.6055 - channel_loss: 0.7111 - baseline_loss: 0.7132 - channel_acc: 0.7396 - baseline_acc: 0.7401 - val_loss: 7.5089 - val_channel_loss: 0.6856 - val_baseline_loss: 0.6697 - val_channel_acc: 0.7601 - val_baseline_acc: 0.7605\n",
      "Epoch 78/100\n",
      "366037/366037 [==============================] - 13s 36us/step - loss: 7.4662 - channel_loss: 0.7123 - baseline_loss: 0.7120 - channel_acc: 0.7391 - baseline_acc: 0.7396 - val_loss: 7.3722 - val_channel_loss: 0.6873 - val_baseline_loss: 0.6693 - val_channel_acc: 0.7599 - val_baseline_acc: 0.7599\n",
      "Epoch 79/100\n",
      "366037/366037 [==============================] - 13s 35us/step - loss: 7.3303 - channel_loss: 0.7132 - baseline_loss: 0.7115 - channel_acc: 0.7394 - baseline_acc: 0.7400 - val_loss: 7.2380 - val_channel_loss: 0.6883 - val_baseline_loss: 0.6659 - val_channel_acc: 0.7598 - val_baseline_acc: 0.7594\n",
      "Epoch 80/100\n",
      "366037/366037 [==============================] - 14s 38us/step - loss: 7.1984 - channel_loss: 0.7147 - baseline_loss: 0.7102 - channel_acc: 0.7394 - baseline_acc: 0.7402 - val_loss: 7.1075 - val_channel_loss: 0.6893 - val_baseline_loss: 0.6692 - val_channel_acc: 0.7594 - val_baseline_acc: 0.7604\n",
      "Epoch 81/100\n",
      "366037/366037 [==============================] - 15s 42us/step - loss: 7.0703 - channel_loss: 0.7162 - baseline_loss: 0.7105 - channel_acc: 0.7391 - baseline_acc: 0.7400 - val_loss: 6.9809 - val_channel_loss: 0.6905 - val_baseline_loss: 0.6671 - val_channel_acc: 0.7599 - val_baseline_acc: 0.7598\n",
      "Epoch 82/100\n",
      "366037/366037 [==============================] - 14s 39us/step - loss: 6.9440 - channel_loss: 0.7163 - baseline_loss: 0.7077 - channel_acc: 0.7395 - baseline_acc: 0.7402 - val_loss: 6.8564 - val_channel_loss: 0.6911 - val_baseline_loss: 0.6649 - val_channel_acc: 0.7604 - val_baseline_acc: 0.7608\n",
      "Epoch 83/100\n",
      "366037/366037 [==============================] - 14s 38us/step - loss: 6.8219 - channel_loss: 0.7175 - baseline_loss: 0.7071 - channel_acc: 0.7395 - baseline_acc: 0.7403 - val_loss: 6.7364 - val_channel_loss: 0.6926 - val_baseline_loss: 0.6647 - val_channel_acc: 0.7597 - val_baseline_acc: 0.7602\n",
      "Epoch 84/100\n",
      "366037/366037 [==============================] - 17s 47us/step - loss: 6.7032 - channel_loss: 0.7186 - baseline_loss: 0.7073 - channel_acc: 0.7389 - baseline_acc: 0.7395 - val_loss: 6.6192 - val_channel_loss: 0.6936 - val_baseline_loss: 0.6693 - val_channel_acc: 0.7591 - val_baseline_acc: 0.7598\n",
      "Epoch 85/100\n",
      "366037/366037 [==============================] - 18s 48us/step - loss: 6.5875 - channel_loss: 0.7199 - baseline_loss: 0.7070 - channel_acc: 0.7394 - baseline_acc: 0.7404 - val_loss: 6.5048 - val_channel_loss: 0.6948 - val_baseline_loss: 0.6655 - val_channel_acc: 0.7600 - val_baseline_acc: 0.7604\n",
      "Epoch 86/100\n",
      "366037/366037 [==============================] - 17s 46us/step - loss: 6.4744 - channel_loss: 0.7210 - baseline_loss: 0.7072 - channel_acc: 0.7397 - baseline_acc: 0.7403 - val_loss: 6.3931 - val_channel_loss: 0.6957 - val_baseline_loss: 0.6638 - val_channel_acc: 0.7600 - val_baseline_acc: 0.7603\n",
      "Epoch 87/100\n",
      "366037/366037 [==============================] - 17s 45us/step - loss: 6.3644 - channel_loss: 0.7219 - baseline_loss: 0.7053 - channel_acc: 0.7388 - baseline_acc: 0.7396 - val_loss: 6.2842 - val_channel_loss: 0.6963 - val_baseline_loss: 0.6649 - val_channel_acc: 0.7608 - val_baseline_acc: 0.7607\n",
      "Epoch 88/100\n",
      "366037/366037 [==============================] - 15s 42us/step - loss: 6.2572 - channel_loss: 0.7229 - baseline_loss: 0.7050 - channel_acc: 0.7389 - baseline_acc: 0.7398 - val_loss: 6.1788 - val_channel_loss: 0.6978 - val_baseline_loss: 0.6670 - val_channel_acc: 0.7598 - val_baseline_acc: 0.7602\n",
      "Epoch 89/100\n",
      "366037/366037 [==============================] - 15s 40us/step - loss: 6.1519 - channel_loss: 0.7233 - baseline_loss: 0.7045 - channel_acc: 0.7399 - baseline_acc: 0.7406 - val_loss: 6.0752 - val_channel_loss: 0.6987 - val_baseline_loss: 0.6642 - val_channel_acc: 0.7594 - val_baseline_acc: 0.7600\n",
      "Epoch 90/100\n",
      "366037/366037 [==============================] - 14s 39us/step - loss: 6.0503 - channel_loss: 0.7246 - baseline_loss: 0.7045 - channel_acc: 0.7397 - baseline_acc: 0.7405 - val_loss: 5.9747 - val_channel_loss: 0.6996 - val_baseline_loss: 0.6617 - val_channel_acc: 0.7601 - val_baseline_acc: 0.7598\n",
      "Epoch 91/100\n",
      "366037/366037 [==============================] - 13s 36us/step - loss: 5.9508 - channel_loss: 0.7253 - baseline_loss: 0.7036 - channel_acc: 0.7395 - baseline_acc: 0.7407 - val_loss: 5.8761 - val_channel_loss: 0.7002 - val_baseline_loss: 0.6610 - val_channel_acc: 0.7611 - val_baseline_acc: 0.7611\n",
      "Epoch 92/100\n",
      "366037/366037 [==============================] - 13s 36us/step - loss: 5.8537 - channel_loss: 0.7263 - baseline_loss: 0.7033 - channel_acc: 0.7394 - baseline_acc: 0.7402 - val_loss: 5.7809 - val_channel_loss: 0.7019 - val_baseline_loss: 0.6612 - val_channel_acc: 0.7594 - val_baseline_acc: 0.7607\n",
      "Epoch 93/100\n",
      "366037/366037 [==============================] - 13s 36us/step - loss: 5.7586 - channel_loss: 0.7269 - baseline_loss: 0.7017 - channel_acc: 0.7400 - baseline_acc: 0.7411 - val_loss: 5.6870 - val_channel_loss: 0.7021 - val_baseline_loss: 0.6608 - val_channel_acc: 0.7600 - val_baseline_acc: 0.7611\n",
      "Epoch 94/100\n",
      "366037/366037 [==============================] - 13s 36us/step - loss: 5.6671 - channel_loss: 0.7283 - baseline_loss: 0.7025 - channel_acc: 0.7395 - baseline_acc: 0.7401 - val_loss: 5.5961 - val_channel_loss: 0.7031 - val_baseline_loss: 0.6609 - val_channel_acc: 0.7602 - val_baseline_acc: 0.7604\n",
      "Epoch 95/100\n",
      "366037/366037 [==============================] - 14s 37us/step - loss: 5.5767 - channel_loss: 0.7288 - baseline_loss: 0.7007 - channel_acc: 0.7401 - baseline_acc: 0.7409 - val_loss: 5.5076 - val_channel_loss: 0.7044 - val_baseline_loss: 0.6612 - val_channel_acc: 0.7592 - val_baseline_acc: 0.7606\n",
      "Epoch 96/100\n",
      "366037/366037 [==============================] - 14s 38us/step - loss: 5.4891 - channel_loss: 0.7301 - baseline_loss: 0.7022 - channel_acc: 0.7395 - baseline_acc: 0.7401 - val_loss: 5.4204 - val_channel_loss: 0.7051 - val_baseline_loss: 0.6599 - val_channel_acc: 0.7604 - val_baseline_acc: 0.7598\n",
      "Epoch 97/100\n",
      "366037/366037 [==============================] - 14s 38us/step - loss: 5.4034 - channel_loss: 0.7309 - baseline_loss: 0.7008 - channel_acc: 0.7392 - baseline_acc: 0.7407 - val_loss: 5.3359 - val_channel_loss: 0.7059 - val_baseline_loss: 0.6593 - val_channel_acc: 0.7615 - val_baseline_acc: 0.7612\n",
      "Epoch 98/100\n",
      "366037/366037 [==============================] - 13s 36us/step - loss: 5.3200 - channel_loss: 0.7319 - baseline_loss: 0.7010 - channel_acc: 0.7391 - baseline_acc: 0.7403 - val_loss: 5.2533 - val_channel_loss: 0.7068 - val_baseline_loss: 0.6582 - val_channel_acc: 0.7590 - val_baseline_acc: 0.7603\n",
      "Epoch 99/100\n",
      "366037/366037 [==============================] - 13s 36us/step - loss: 5.2387 - channel_loss: 0.7330 - baseline_loss: 0.6995 - channel_acc: 0.7390 - baseline_acc: 0.7402 - val_loss: 5.1726 - val_channel_loss: 0.7076 - val_baseline_loss: 0.6591 - val_channel_acc: 0.7604 - val_baseline_acc: 0.7606\n",
      "Epoch 100/100\n",
      "366037/366037 [==============================] - 13s 36us/step - loss: 5.1587 - channel_loss: 0.7337 - baseline_loss: 0.7003 - channel_acc: 0.7392 - baseline_acc: 0.7404 - val_loss: 5.0937 - val_channel_loss: 0.7085 - val_baseline_loss: 0.6551 - val_channel_acc: 0.7600 - val_baseline_acc: 0.7603\n"
     ]
    }
   ],
   "source": [
    "train_res = simple_model.fit(X_train_train,\n",
    "                      [Y_train_train,Y_train_train],\n",
    "                      batch_size=batch_size,\n",
    "                      epochs=100,\n",
    "                      verbose=True,\n",
    "                      validation_data=(X_train_val,\n",
    "                                       [Y_train_val,Y_train_val]),\n",
    "                      callbacks=\n",
    "                      [EarlyStopping(patience=3,mode='min',verbose=True)]\n",
    "                      )"
   ]
  },
  {
   "cell_type": "code",
   "execution_count": null,
   "metadata": {
    "collapsed": true
   },
   "outputs": [],
   "source": []
  },
  {
   "cell_type": "code",
   "execution_count": 100,
   "metadata": {},
   "outputs": [
    {
     "data": {
      "text/plain": [
       "{'baseline_acc': 0.89584863227464662,\n",
       " 'baseline_loss': 0.2889751662133111,\n",
       " 'channel_acc': 0.89616991004222513,\n",
       " 'channel_loss': 0.55929852339003272,\n",
       " 'loss': 4.9444659412377732}"
      ]
     },
     "execution_count": 100,
     "metadata": {},
     "output_type": "execute_result"
    }
   ],
   "source": [
    "eval(simple_model,y_test=[Y_test,Y_test])"
   ]
  },
  {
   "cell_type": "code",
   "execution_count": 101,
   "metadata": {},
   "outputs": [
    {
     "data": {
      "text/html": [
       "<div>\n",
       "<style scoped>\n",
       "    .dataframe tbody tr th:only-of-type {\n",
       "        vertical-align: middle;\n",
       "    }\n",
       "\n",
       "    .dataframe tbody tr th {\n",
       "        vertical-align: top;\n",
       "    }\n",
       "\n",
       "    .dataframe thead th {\n",
       "        text-align: right;\n",
       "    }\n",
       "</style>\n",
       "<table border=\"1\" class=\"dataframe\">\n",
       "  <thead>\n",
       "    <tr style=\"text-align: right;\">\n",
       "      <th></th>\n",
       "      <th>Elevation</th>\n",
       "      <th>Aspect</th>\n",
       "      <th>Slope</th>\n",
       "      <th>Horizontal_Distance_To_Hydrology</th>\n",
       "      <th>Vertical_Distance_To_Hydrology</th>\n",
       "      <th>Horizontal_Distance_To_Roadways</th>\n",
       "      <th>Hillshade_9am</th>\n",
       "      <th>Hillshade_Noon</th>\n",
       "      <th>Hillshade_3pm</th>\n",
       "      <th>Horizontal_Distance_To_Fire_Points</th>\n",
       "      <th>...</th>\n",
       "      <th>Soil_Type_35</th>\n",
       "      <th>Soil_Type_36</th>\n",
       "      <th>Soil_Type_37</th>\n",
       "      <th>Soil_Type_38</th>\n",
       "      <th>Soil_Type_39</th>\n",
       "      <th>Soil_Type_40</th>\n",
       "      <th>Wilderness_Area_1</th>\n",
       "      <th>Wilderness_Area_2</th>\n",
       "      <th>Wilderness_Area_3</th>\n",
       "      <th>Wilderness_Area_4</th>\n",
       "    </tr>\n",
       "  </thead>\n",
       "  <tbody>\n",
       "    <tr>\n",
       "      <th>3990</th>\n",
       "      <td>-2.940916</td>\n",
       "      <td>-1.176484</td>\n",
       "      <td>0.920171</td>\n",
       "      <td>-1.127079</td>\n",
       "      <td>-0.676873</td>\n",
       "      <td>-0.787048</td>\n",
       "      <td>-0.342117</td>\n",
       "      <td>-1.737584</td>\n",
       "      <td>-0.717244</td>\n",
       "      <td>-0.383433</td>\n",
       "      <td>...</td>\n",
       "      <td>0</td>\n",
       "      <td>0</td>\n",
       "      <td>0</td>\n",
       "      <td>0</td>\n",
       "      <td>0</td>\n",
       "      <td>0</td>\n",
       "      <td>0</td>\n",
       "      <td>0</td>\n",
       "      <td>0</td>\n",
       "      <td>1</td>\n",
       "    </tr>\n",
       "    <tr>\n",
       "      <th>269758</th>\n",
       "      <td>-2.905167</td>\n",
       "      <td>-0.675744</td>\n",
       "      <td>0.652874</td>\n",
       "      <td>-0.561127</td>\n",
       "      <td>0.594638</td>\n",
       "      <td>-1.302943</td>\n",
       "      <td>1.075192</td>\n",
       "      <td>-1.079161</td>\n",
       "      <td>-1.526362</td>\n",
       "      <td>-1.054360</td>\n",
       "      <td>...</td>\n",
       "      <td>0</td>\n",
       "      <td>0</td>\n",
       "      <td>0</td>\n",
       "      <td>0</td>\n",
       "      <td>0</td>\n",
       "      <td>0</td>\n",
       "      <td>0</td>\n",
       "      <td>0</td>\n",
       "      <td>0</td>\n",
       "      <td>1</td>\n",
       "    </tr>\n",
       "    <tr>\n",
       "      <th>418575</th>\n",
       "      <td>-0.556407</td>\n",
       "      <td>1.577588</td>\n",
       "      <td>0.118281</td>\n",
       "      <td>-0.443220</td>\n",
       "      <td>-0.401952</td>\n",
       "      <td>-0.043006</td>\n",
       "      <td>-1.050771</td>\n",
       "      <td>-0.167499</td>\n",
       "      <td>0.848791</td>\n",
       "      <td>-0.728719</td>\n",
       "      <td>...</td>\n",
       "      <td>0</td>\n",
       "      <td>0</td>\n",
       "      <td>0</td>\n",
       "      <td>0</td>\n",
       "      <td>0</td>\n",
       "      <td>0</td>\n",
       "      <td>0</td>\n",
       "      <td>0</td>\n",
       "      <td>1</td>\n",
       "      <td>0</td>\n",
       "    </tr>\n",
       "    <tr>\n",
       "      <th>227405</th>\n",
       "      <td>-1.014004</td>\n",
       "      <td>1.121557</td>\n",
       "      <td>3.192193</td>\n",
       "      <td>1.240486</td>\n",
       "      <td>2.897103</td>\n",
       "      <td>-1.001737</td>\n",
       "      <td>-4.407555</td>\n",
       "      <td>-0.522034</td>\n",
       "      <td>2.649731</td>\n",
       "      <td>-0.094058</td>\n",
       "      <td>...</td>\n",
       "      <td>0</td>\n",
       "      <td>0</td>\n",
       "      <td>0</td>\n",
       "      <td>0</td>\n",
       "      <td>0</td>\n",
       "      <td>0</td>\n",
       "      <td>0</td>\n",
       "      <td>0</td>\n",
       "      <td>1</td>\n",
       "      <td>0</td>\n",
       "    </tr>\n",
       "    <tr>\n",
       "      <th>540541</th>\n",
       "      <td>1.517079</td>\n",
       "      <td>1.362985</td>\n",
       "      <td>1.722061</td>\n",
       "      <td>-0.363044</td>\n",
       "      <td>0.422812</td>\n",
       "      <td>-0.656312</td>\n",
       "      <td>-2.766461</td>\n",
       "      <td>-0.522034</td>\n",
       "      <td>1.762311</td>\n",
       "      <td>-0.247434</td>\n",
       "      <td>...</td>\n",
       "      <td>0</td>\n",
       "      <td>0</td>\n",
       "      <td>0</td>\n",
       "      <td>0</td>\n",
       "      <td>1</td>\n",
       "      <td>0</td>\n",
       "      <td>0</td>\n",
       "      <td>1</td>\n",
       "      <td>0</td>\n",
       "      <td>0</td>\n",
       "    </tr>\n",
       "  </tbody>\n",
       "</table>\n",
       "<p>5 rows × 63 columns</p>\n",
       "</div>"
      ],
      "text/plain": [
       "        Elevation    Aspect     Slope  Horizontal_Distance_To_Hydrology  \\\n",
       "3990    -2.940916 -1.176484  0.920171                         -1.127079   \n",
       "269758  -2.905167 -0.675744  0.652874                         -0.561127   \n",
       "418575  -0.556407  1.577588  0.118281                         -0.443220   \n",
       "227405  -1.014004  1.121557  3.192193                          1.240486   \n",
       "540541   1.517079  1.362985  1.722061                         -0.363044   \n",
       "\n",
       "        Vertical_Distance_To_Hydrology  Horizontal_Distance_To_Roadways  \\\n",
       "3990                         -0.676873                        -0.787048   \n",
       "269758                        0.594638                        -1.302943   \n",
       "418575                       -0.401952                        -0.043006   \n",
       "227405                        2.897103                        -1.001737   \n",
       "540541                        0.422812                        -0.656312   \n",
       "\n",
       "        Hillshade_9am  Hillshade_Noon  Hillshade_3pm  \\\n",
       "3990        -0.342117       -1.737584      -0.717244   \n",
       "269758       1.075192       -1.079161      -1.526362   \n",
       "418575      -1.050771       -0.167499       0.848791   \n",
       "227405      -4.407555       -0.522034       2.649731   \n",
       "540541      -2.766461       -0.522034       1.762311   \n",
       "\n",
       "        Horizontal_Distance_To_Fire_Points        ...          Soil_Type_35  \\\n",
       "3990                             -0.383433        ...                     0   \n",
       "269758                           -1.054360        ...                     0   \n",
       "418575                           -0.728719        ...                     0   \n",
       "227405                           -0.094058        ...                     0   \n",
       "540541                           -0.247434        ...                     0   \n",
       "\n",
       "        Soil_Type_36  Soil_Type_37  Soil_Type_38  Soil_Type_39  Soil_Type_40  \\\n",
       "3990               0             0             0             0             0   \n",
       "269758             0             0             0             0             0   \n",
       "418575             0             0             0             0             0   \n",
       "227405             0             0             0             0             0   \n",
       "540541             0             0             0             1             0   \n",
       "\n",
       "        Wilderness_Area_1  Wilderness_Area_2  Wilderness_Area_3  \\\n",
       "3990                    0                  0                  0   \n",
       "269758                  0                  0                  0   \n",
       "418575                  0                  0                  1   \n",
       "227405                  0                  0                  1   \n",
       "540541                  0                  1                  0   \n",
       "\n",
       "        Wilderness_Area_4  \n",
       "3990                    1  \n",
       "269758                  1  \n",
       "418575                  0  \n",
       "227405                  0  \n",
       "540541                  0  \n",
       "\n",
       "[5 rows x 63 columns]"
      ]
     },
     "execution_count": 101,
     "metadata": {},
     "output_type": "execute_result"
    }
   ],
   "source": [
    "X_test.head()"
   ]
  },
  {
   "cell_type": "code",
   "execution_count": 102,
   "metadata": {
    "collapsed": true
   },
   "outputs": [],
   "source": [
    "preds=simple_model.predict(X_test.values)"
   ]
  },
  {
   "cell_type": "code",
   "execution_count": 103,
   "metadata": {
    "collapsed": true
   },
   "outputs": [],
   "source": [
    "preds_max=np.argmax(preds[0],axis=-1)"
   ]
  },
  {
   "cell_type": "code",
   "execution_count": 104,
   "metadata": {},
   "outputs": [
    {
     "data": {
      "text/plain": [
       "(174304,)"
      ]
     },
     "execution_count": 104,
     "metadata": {},
     "output_type": "execute_result"
    }
   ],
   "source": [
    "preds_max.shape"
   ]
  },
  {
   "cell_type": "code",
   "execution_count": 105,
   "metadata": {
    "collapsed": true
   },
   "outputs": [],
   "source": [
    "import itertools\n",
    "\n",
    "def plot_confusion_matrix(cm, classes,\n",
    "                          normalize=False,\n",
    "                          title='Confusion matrix',\n",
    "                          cmap=plt.cm.Blues):\n",
    "    \"\"\"\n",
    "    This function prints and plots the confusion matrix.\n",
    "    Normalization can be applied by setting `normalize=True`.\n",
    "    \"\"\"\n",
    "    plt.imshow(cm, interpolation='nearest', cmap=cmap)\n",
    "    plt.title(title)\n",
    "    plt.colorbar()\n",
    "    tick_marks = np.arange(len(classes))\n",
    "    plt.xticks(tick_marks, classes, rotation=0)\n",
    "    plt.yticks(tick_marks, classes)\n",
    "\n",
    "    if normalize:\n",
    "        cm = cm.astype('float') / cm.sum(axis=1)[:, np.newaxis]\n",
    "        #print(\"Normalized confusion matrix\")\n",
    "    else:\n",
    "        1#print('Confusion matrix, without normalization')\n",
    "\n",
    "    #print(cm)\n",
    "\n",
    "    thresh = cm.max() / 2.\n",
    "    for i, j in itertools.product(range(cm.shape[0]), range(cm.shape[1])):\n",
    "        plt.text(j, i, cm[i, j],\n",
    "                 horizontalalignment=\"center\",\n",
    "                 color=\"white\" if cm[i, j] > thresh else \"black\")\n",
    "\n",
    "    #plt.tight_layout()\n",
    "    plt.ylabel('True label')\n",
    "    plt.xlabel('Predicted label')"
   ]
  },
  {
   "cell_type": "code",
   "execution_count": 106,
   "metadata": {
    "collapsed": true
   },
   "outputs": [],
   "source": [
    "from sklearn.metrics import confusion_matrix,precision_recall_curve,auc,roc_auc_score,roc_curve,recall_score,classification_report"
   ]
  },
  {
   "cell_type": "code",
   "execution_count": 107,
   "metadata": {
    "collapsed": true
   },
   "outputs": [],
   "source": [
    "Y_test_df=pd.DataFrame(Y_test,columns=['Cover_Type'])"
   ]
  },
  {
   "cell_type": "code",
   "execution_count": 108,
   "metadata": {},
   "outputs": [
    {
     "data": {
      "text/plain": [
       "1    84991\n",
       "0    63552\n",
       "2    10726\n",
       "6     6153\n",
       "5     5210\n",
       "4     2848\n",
       "3      824\n",
       "Name: Cover_Type, dtype: int64"
      ]
     },
     "execution_count": 108,
     "metadata": {},
     "output_type": "execute_result"
    }
   ],
   "source": [
    "Y_test_df['Cover_Type'].value_counts()"
   ]
  },
  {
   "cell_type": "code",
   "execution_count": 128,
   "metadata": {},
   "outputs": [
    {
     "data": {
      "image/png": "[encoded data removed]",
      "text/plain": [
       "<matplotlib.figure.Figure at 0x7ff6cafe53c8>"
      ]
     },
     "metadata": {},
     "output_type": "display_data"
    }
   ],
   "source": [
    "cnf_matrix = confusion_matrix(Y_test,preds_max)\n",
    "np.set_printoptions(precision=2)\n",
    "\n",
    "#print(\"Recall metric in the testing dataset: \", cnf_matrix[1,1]/(cnf_matrix[1,0]+cnf_matrix[1,1]))\n",
    "\n",
    "# Plot non-normalized confusion matrix\n",
    "class_names = [0,1,2,3,4,5,6]\n",
    "plt.figure(figsize=(15, 10))\n",
    "plot_confusion_matrix(cnf_matrix\n",
    "                      , classes=class_names\n",
    "                      , title='Confusion matrix')\n",
    "plt.grid('off')\n",
    "plt.show()"
   ]
  },
  {
   "cell_type": "code",
   "execution_count": 110,
   "metadata": {
    "collapsed": true
   },
   "outputs": [],
   "source": [
    "from sklearn.metrics import accuracy_score"
   ]
  },
  {
   "cell_type": "code",
   "execution_count": 111,
   "metadata": {},
   "outputs": [
    {
     "data": {
      "text/plain": [
       "0.89616991004222513"
      ]
     },
     "execution_count": 111,
     "metadata": {},
     "output_type": "execute_result"
    }
   ],
   "source": [
    "accuracy_score(Y_test,preds_max.ravel())"
   ]
  },
  {
   "cell_type": "code",
   "execution_count": 117,
   "metadata": {
    "collapsed": true
   },
   "outputs": [],
   "source": [
    "from keras.layers import merge\n",
    "from keras.layers import concatenate\n",
    "from keras.layers import Dot\n",
    "from keras.layers import Reshape"
   ]
  },
  {
   "cell_type": "code",
   "execution_count": 119,
   "metadata": {},
   "outputs": [
    {
     "name": "stderr",
     "output_type": "stream",
     "text": [
      "/home/namanda/anaconda3.6/lib/python3.6/site-packages/ipykernel_launcher.py:4: UserWarning: The `merge` function is deprecated and will be removed after 08/2017. Use instead layers from `keras.layers.merge`, e.g. `add`, `concatenate`, etc.\n",
      "  after removing the cwd from sys.path.\n",
      "/home/namanda/anaconda3.6/lib/python3.6/site-packages/keras/legacy/layers.py:464: UserWarning: The `Merge` layer is deprecated and will be removed after 08/2017. Use instead layers from `keras.layers.merge`, e.g. `add`, `concatenate`, etc.\n",
      "  name=name)\n"
     ]
    }
   ],
   "source": [
    "channel_matrix = [Dense(nb_classes,activation='softmax',kernel_regularizer=regularizers.l2(0.01),name='dense_class%d'%i,weights=[0.05*(np.random.random((nhidden,nb_classes)) - 0.5),channel_weights[i]])(last_hidden)for i in range(nb_classes)]\n",
    "channel_matrix = concatenate(channel_matrix)\n",
    "channel_matrix = Reshape((nb_classes,nb_classes))(channel_matrix)\n",
    "channeled_output = merge([channel_matrix, baseline_output], mode='dot', dot_axes=(1,1), name='channel')"
   ]
  },
  {
   "cell_type": "code",
   "execution_count": 122,
   "metadata": {
    "collapsed": true
   },
   "outputs": [],
   "source": [
    "if BETA ==1:\n",
    "    complex_model = Model(inputs=train_inputs, outputs=[baseline_output])\n",
    "    complex_model.compile(loss='sparse_categorical_crossentropy',optimizer=sgd,metrics=['accuracy'])\n",
    "else:\n",
    "    complex_model = Model(inputs=train_inputs, outputs=[channeled_output, baseline_output])\n",
    "    complex_model.compile(loss='sparse_categorical_crossentropy',loss_weights=[1.-BETA, BETA],optimizer=sgd,metrics=['accuracy'])"
   ]
  },
  {
   "cell_type": "code",
   "execution_count": 123,
   "metadata": {},
   "outputs": [
    {
     "name": "stdout",
     "output_type": "stream",
     "text": [
      "__________________________________________________________________________________________________\n",
      "Layer (type)                    Output Shape         Param #     Connected to                     \n",
      "==================================================================================================\n",
      "input_1 (InputLayer)            (None, 63)           0                                            \n",
      "__________________________________________________________________________________________________\n",
      "hidden (Sequential)             (None, 100)          267000      input_1[0][0]                    \n",
      "__________________________________________________________________________________________________\n",
      "dense_class0 (Dense)            (None, 7)            707         hidden[1][0]                     \n",
      "__________________________________________________________________________________________________\n",
      "dense_class1 (Dense)            (None, 7)            707         hidden[1][0]                     \n",
      "__________________________________________________________________________________________________\n",
      "dense_class2 (Dense)            (None, 7)            707         hidden[1][0]                     \n",
      "__________________________________________________________________________________________________\n",
      "dense_class3 (Dense)            (None, 7)            707         hidden[1][0]                     \n",
      "__________________________________________________________________________________________________\n",
      "dense_class4 (Dense)            (None, 7)            707         hidden[1][0]                     \n",
      "__________________________________________________________________________________________________\n",
      "dense_class5 (Dense)            (None, 7)            707         hidden[1][0]                     \n",
      "__________________________________________________________________________________________________\n",
      "dense_class6 (Dense)            (None, 7)            707         hidden[1][0]                     \n",
      "__________________________________________________________________________________________________\n",
      "concatenate_4 (Concatenate)     (None, 49)           0           dense_class0[0][0]               \n",
      "                                                                 dense_class1[0][0]               \n",
      "                                                                 dense_class2[0][0]               \n",
      "                                                                 dense_class3[0][0]               \n",
      "                                                                 dense_class4[0][0]               \n",
      "                                                                 dense_class5[0][0]               \n",
      "                                                                 dense_class6[0][0]               \n",
      "__________________________________________________________________________________________________\n",
      "reshape_3 (Reshape)             (None, 7, 7)         0           concatenate_4[0][0]              \n",
      "__________________________________________________________________________________________________\n",
      "baseline (Dense)                (None, 7)            707         hidden[1][0]                     \n",
      "__________________________________________________________________________________________________\n",
      "channel (Merge)                 (None, 7)            0           reshape_3[0][0]                  \n",
      "                                                                 baseline[0][0]                   \n",
      "==================================================================================================\n",
      "Total params: 272,656\n",
      "Trainable params: 270,456\n",
      "Non-trainable params: 2,200\n",
      "__________________________________________________________________________________________________\n"
     ]
    }
   ],
   "source": [
    "complex_model.summary()"
   ]
  },
  {
   "cell_type": "code",
   "execution_count": 124,
   "metadata": {},
   "outputs": [
    {
     "name": "stdout",
     "output_type": "stream",
     "text": [
      "Train on 366037 samples, validate on 40671 samples\n",
      "Epoch 1/200000\n",
      "366037/366037 [==============================] - 26s 70us/step - loss: 0.6746 - channel_loss: 0.5940 - baseline_loss: 0.6993 - channel_acc: 0.7410 - baseline_acc: 0.7409 - val_loss: 0.6388 - val_channel_loss: 0.5582 - val_baseline_loss: 0.6525 - val_channel_acc: 0.7622 - val_baseline_acc: 0.7625\n",
      "Epoch 2/200000\n",
      "366037/366037 [==============================] - 22s 60us/step - loss: 0.6712 - channel_loss: 0.5908 - baseline_loss: 0.6917 - channel_acc: 0.7415 - baseline_acc: 0.7415 - val_loss: 0.6369 - val_channel_loss: 0.5565 - val_baseline_loss: 0.6475 - val_channel_acc: 0.7615 - val_baseline_acc: 0.7611\n",
      "Epoch 3/200000\n",
      "366037/366037 [==============================] - 18s 48us/step - loss: 0.6691 - channel_loss: 0.5889 - baseline_loss: 0.6859 - channel_acc: 0.7418 - baseline_acc: 0.7418 - val_loss: 0.6346 - val_channel_loss: 0.5545 - val_baseline_loss: 0.6413 - val_channel_acc: 0.7628 - val_baseline_acc: 0.7628\n",
      "Epoch 4/200000\n",
      "366037/366037 [==============================] - 17s 47us/step - loss: 0.6676 - channel_loss: 0.5876 - baseline_loss: 0.6807 - channel_acc: 0.7412 - baseline_acc: 0.7409 - val_loss: 0.6331 - val_channel_loss: 0.5532 - val_baseline_loss: 0.6357 - val_channel_acc: 0.7617 - val_baseline_acc: 0.7617\n",
      "Epoch 5/200000\n",
      "366037/366037 [==============================] - 15s 41us/step - loss: 0.6667 - channel_loss: 0.5869 - baseline_loss: 0.6770 - channel_acc: 0.7417 - baseline_acc: 0.7416 - val_loss: 0.6315 - val_channel_loss: 0.5517 - val_baseline_loss: 0.6342 - val_channel_acc: 0.7630 - val_baseline_acc: 0.7628\n",
      "Epoch 6/200000\n",
      "366037/366037 [==============================] - 14s 39us/step - loss: 0.6663 - channel_loss: 0.5866 - baseline_loss: 0.6763 - channel_acc: 0.7414 - baseline_acc: 0.7415 - val_loss: 0.6312 - val_channel_loss: 0.5516 - val_baseline_loss: 0.6337 - val_channel_acc: 0.7619 - val_baseline_acc: 0.7620\n",
      "Epoch 7/200000\n",
      "366037/366037 [==============================] - 14s 39us/step - loss: 0.6647 - channel_loss: 0.5852 - baseline_loss: 0.6724 - channel_acc: 0.7422 - baseline_acc: 0.7422 - val_loss: 0.6302 - val_channel_loss: 0.5508 - val_baseline_loss: 0.6325 - val_channel_acc: 0.7632 - val_baseline_acc: 0.7636\n",
      "Epoch 8/200000\n",
      "366037/366037 [==============================] - 14s 39us/step - loss: 0.6646 - channel_loss: 0.5852 - baseline_loss: 0.6701 - channel_acc: 0.7411 - baseline_acc: 0.7408 - val_loss: 0.6300 - val_channel_loss: 0.5506 - val_baseline_loss: 0.6295 - val_channel_acc: 0.7619 - val_baseline_acc: 0.7617\n",
      "Epoch 9/200000\n",
      "366037/366037 [==============================] - 14s 38us/step - loss: 0.6639 - channel_loss: 0.5847 - baseline_loss: 0.6681 - channel_acc: 0.7416 - baseline_acc: 0.7417 - val_loss: 0.6290 - val_channel_loss: 0.5499 - val_baseline_loss: 0.6267 - val_channel_acc: 0.7618 - val_baseline_acc: 0.7621\n",
      "Epoch 10/200000\n",
      "366037/366037 [==============================] - 14s 38us/step - loss: 0.6634 - channel_loss: 0.5843 - baseline_loss: 0.6661 - channel_acc: 0.7419 - baseline_acc: 0.7419 - val_loss: 0.6276 - val_channel_loss: 0.5485 - val_baseline_loss: 0.6243 - val_channel_acc: 0.7630 - val_baseline_acc: 0.7633\n",
      "Epoch 11/200000\n",
      "366037/366037 [==============================] - 14s 38us/step - loss: 0.6632 - channel_loss: 0.5842 - baseline_loss: 0.6662 - channel_acc: 0.7420 - baseline_acc: 0.7418 - val_loss: 0.6275 - val_channel_loss: 0.5485 - val_baseline_loss: 0.6247 - val_channel_acc: 0.7623 - val_baseline_acc: 0.7627\n",
      "Epoch 12/200000\n",
      "366037/366037 [==============================] - 14s 38us/step - loss: 0.6617 - channel_loss: 0.5828 - baseline_loss: 0.6644 - channel_acc: 0.7418 - baseline_acc: 0.7419 - val_loss: 0.6273 - val_channel_loss: 0.5485 - val_baseline_loss: 0.6200 - val_channel_acc: 0.7623 - val_baseline_acc: 0.7619\n",
      "Epoch 13/200000\n",
      "366037/366037 [==============================] - 14s 38us/step - loss: 0.6619 - channel_loss: 0.5831 - baseline_loss: 0.6638 - channel_acc: 0.7416 - baseline_acc: 0.7417 - val_loss: 0.6266 - val_channel_loss: 0.5478 - val_baseline_loss: 0.6195 - val_channel_acc: 0.7636 - val_baseline_acc: 0.7637\n",
      "Epoch 14/200000\n",
      "366037/366037 [==============================] - 14s 39us/step - loss: 0.6610 - channel_loss: 0.5823 - baseline_loss: 0.6621 - channel_acc: 0.7418 - baseline_acc: 0.7418 - val_loss: 0.6263 - val_channel_loss: 0.5477 - val_baseline_loss: 0.6192 - val_channel_acc: 0.7631 - val_baseline_acc: 0.7634\n",
      "Epoch 15/200000\n",
      "366037/366037 [==============================] - 14s 38us/step - loss: 0.6610 - channel_loss: 0.5824 - baseline_loss: 0.6617 - channel_acc: 0.7420 - baseline_acc: 0.7421 - val_loss: 0.6256 - val_channel_loss: 0.5471 - val_baseline_loss: 0.6205 - val_channel_acc: 0.7636 - val_baseline_acc: 0.7636\n",
      "Epoch 16/200000\n",
      "366037/366037 [==============================] - 14s 38us/step - loss: 0.6608 - channel_loss: 0.5823 - baseline_loss: 0.6603 - channel_acc: 0.7419 - baseline_acc: 0.7417 - val_loss: 0.6252 - val_channel_loss: 0.5468 - val_baseline_loss: 0.6154 - val_channel_acc: 0.7622 - val_baseline_acc: 0.7621\n",
      "Epoch 17/200000\n",
      "366037/366037 [==============================] - 14s 39us/step - loss: 0.6596 - channel_loss: 0.5812 - baseline_loss: 0.6587 - channel_acc: 0.7426 - baseline_acc: 0.7428 - val_loss: 0.6249 - val_channel_loss: 0.5465 - val_baseline_loss: 0.6181 - val_channel_acc: 0.7631 - val_baseline_acc: 0.7633\n",
      "Epoch 18/200000\n",
      "366037/366037 [==============================] - 14s 38us/step - loss: 0.6597 - channel_loss: 0.5814 - baseline_loss: 0.6573 - channel_acc: 0.7421 - baseline_acc: 0.7421 - val_loss: 0.6249 - val_channel_loss: 0.5466 - val_baseline_loss: 0.6186 - val_channel_acc: 0.7615 - val_baseline_acc: 0.7613\n",
      "Epoch 19/200000\n",
      "366037/366037 [==============================] - 14s 38us/step - loss: 0.6595 - channel_loss: 0.5812 - baseline_loss: 0.6570 - channel_acc: 0.7422 - baseline_acc: 0.7421 - val_loss: 0.6246 - val_channel_loss: 0.5464 - val_baseline_loss: 0.6159 - val_channel_acc: 0.7625 - val_baseline_acc: 0.7624\n",
      "Epoch 20/200000\n",
      "366037/366037 [==============================] - 14s 38us/step - loss: 0.6593 - channel_loss: 0.5811 - baseline_loss: 0.6556 - channel_acc: 0.7416 - baseline_acc: 0.7416 - val_loss: 0.6238 - val_channel_loss: 0.5457 - val_baseline_loss: 0.6146 - val_channel_acc: 0.7630 - val_baseline_acc: 0.7631\n",
      "Epoch 21/200000\n",
      "366037/366037 [==============================] - 14s 38us/step - loss: 0.6587 - channel_loss: 0.5806 - baseline_loss: 0.6542 - channel_acc: 0.7428 - baseline_acc: 0.7429 - val_loss: 0.6243 - val_channel_loss: 0.5462 - val_baseline_loss: 0.6165 - val_channel_acc: 0.7622 - val_baseline_acc: 0.7622\n",
      "Epoch 22/200000\n",
      "366037/366037 [==============================] - 14s 38us/step - loss: 0.6590 - channel_loss: 0.5809 - baseline_loss: 0.6553 - channel_acc: 0.7421 - baseline_acc: 0.7419 - val_loss: 0.6237 - val_channel_loss: 0.5457 - val_baseline_loss: 0.6167 - val_channel_acc: 0.7624 - val_baseline_acc: 0.7619\n",
      "Epoch 23/200000\n",
      "366037/366037 [==============================] - 14s 39us/step - loss: 0.6583 - channel_loss: 0.5804 - baseline_loss: 0.6550 - channel_acc: 0.7426 - baseline_acc: 0.7427 - val_loss: 0.6233 - val_channel_loss: 0.5454 - val_baseline_loss: 0.6119 - val_channel_acc: 0.7631 - val_baseline_acc: 0.7630\n",
      "Epoch 24/200000\n",
      "366037/366037 [==============================] - 14s 38us/step - loss: 0.6583 - channel_loss: 0.5804 - baseline_loss: 0.6536 - channel_acc: 0.7421 - baseline_acc: 0.7422 - val_loss: 0.6230 - val_channel_loss: 0.5452 - val_baseline_loss: 0.6131 - val_channel_acc: 0.7627 - val_baseline_acc: 0.7626\n",
      "Epoch 25/200000\n",
      "366037/366037 [==============================] - 14s 38us/step - loss: 0.6573 - channel_loss: 0.5795 - baseline_loss: 0.6531 - channel_acc: 0.7431 - baseline_acc: 0.7431 - val_loss: 0.6229 - val_channel_loss: 0.5451 - val_baseline_loss: 0.6153 - val_channel_acc: 0.7631 - val_baseline_acc: 0.7628\n",
      "Epoch 26/200000\n",
      "366037/366037 [==============================] - 14s 38us/step - loss: 0.6571 - channel_loss: 0.5794 - baseline_loss: 0.6529 - channel_acc: 0.7424 - baseline_acc: 0.7423 - val_loss: 0.6226 - val_channel_loss: 0.5448 - val_baseline_loss: 0.6131 - val_channel_acc: 0.7623 - val_baseline_acc: 0.7622\n",
      "Epoch 27/200000\n"
     ]
    },
    {
     "name": "stdout",
     "output_type": "stream",
     "text": [
      "366037/366037 [==============================] - 14s 37us/step - loss: 0.6572 - channel_loss: 0.5795 - baseline_loss: 0.6528 - channel_acc: 0.7428 - baseline_acc: 0.7427 - val_loss: 0.6223 - val_channel_loss: 0.5447 - val_baseline_loss: 0.6107 - val_channel_acc: 0.7634 - val_baseline_acc: 0.7635\n",
      "Epoch 28/200000\n",
      "366037/366037 [==============================] - 14s 37us/step - loss: 0.6570 - channel_loss: 0.5793 - baseline_loss: 0.6524 - channel_acc: 0.7428 - baseline_acc: 0.7427 - val_loss: 0.6222 - val_channel_loss: 0.5445 - val_baseline_loss: 0.6088 - val_channel_acc: 0.7630 - val_baseline_acc: 0.7634\n",
      "Epoch 29/200000\n",
      "366037/366037 [==============================] - 14s 37us/step - loss: 0.6571 - channel_loss: 0.5795 - baseline_loss: 0.6512 - channel_acc: 0.7427 - baseline_acc: 0.7424 - val_loss: 0.6219 - val_channel_loss: 0.5443 - val_baseline_loss: 0.6106 - val_channel_acc: 0.7639 - val_baseline_acc: 0.7631\n",
      "Epoch 30/200000\n",
      "366037/366037 [==============================] - 16s 45us/step - loss: 0.6563 - channel_loss: 0.5787 - baseline_loss: 0.6515 - channel_acc: 0.7430 - baseline_acc: 0.7429 - val_loss: 0.6216 - val_channel_loss: 0.5441 - val_baseline_loss: 0.6093 - val_channel_acc: 0.7638 - val_baseline_acc: 0.7636\n",
      "Epoch 31/200000\n",
      "366037/366037 [==============================] - 15s 41us/step - loss: 0.6565 - channel_loss: 0.5791 - baseline_loss: 0.6508 - channel_acc: 0.7429 - baseline_acc: 0.7426 - val_loss: 0.6216 - val_channel_loss: 0.5441 - val_baseline_loss: 0.6074 - val_channel_acc: 0.7633 - val_baseline_acc: 0.7632\n",
      "Epoch 32/200000\n",
      "366037/366037 [==============================] - 15s 40us/step - loss: 0.6564 - channel_loss: 0.5789 - baseline_loss: 0.6502 - channel_acc: 0.7426 - baseline_acc: 0.7423 - val_loss: 0.6218 - val_channel_loss: 0.5444 - val_baseline_loss: 0.6105 - val_channel_acc: 0.7633 - val_baseline_acc: 0.7631\n",
      "Epoch 33/200000\n",
      "366037/366037 [==============================] - 15s 41us/step - loss: 0.6552 - channel_loss: 0.5779 - baseline_loss: 0.6494 - channel_acc: 0.7429 - baseline_acc: 0.7428 - val_loss: 0.6212 - val_channel_loss: 0.5438 - val_baseline_loss: 0.6081 - val_channel_acc: 0.7634 - val_baseline_acc: 0.7637\n",
      "Epoch 34/200000\n",
      "366037/366037 [==============================] - 16s 43us/step - loss: 0.6555 - channel_loss: 0.5782 - baseline_loss: 0.6499 - channel_acc: 0.7433 - baseline_acc: 0.7432 - val_loss: 0.6209 - val_channel_loss: 0.5436 - val_baseline_loss: 0.6071 - val_channel_acc: 0.7632 - val_baseline_acc: 0.7635\n",
      "Epoch 35/200000\n",
      "366037/366037 [==============================] - 15s 42us/step - loss: 0.6555 - channel_loss: 0.5782 - baseline_loss: 0.6495 - channel_acc: 0.7431 - baseline_acc: 0.7432 - val_loss: 0.6203 - val_channel_loss: 0.5430 - val_baseline_loss: 0.6078 - val_channel_acc: 0.7634 - val_baseline_acc: 0.7633\n",
      "Epoch 36/200000\n",
      "366037/366037 [==============================] - 15s 42us/step - loss: 0.6548 - channel_loss: 0.5776 - baseline_loss: 0.6482 - channel_acc: 0.7435 - baseline_acc: 0.7435 - val_loss: 0.6203 - val_channel_loss: 0.5431 - val_baseline_loss: 0.6074 - val_channel_acc: 0.7639 - val_baseline_acc: 0.7638\n",
      "Epoch 37/200000\n",
      "366037/366037 [==============================] - 16s 43us/step - loss: 0.6551 - channel_loss: 0.5779 - baseline_loss: 0.6484 - channel_acc: 0.7429 - baseline_acc: 0.7430 - val_loss: 0.6205 - val_channel_loss: 0.5434 - val_baseline_loss: 0.6067 - val_channel_acc: 0.7633 - val_baseline_acc: 0.7636\n",
      "Epoch 38/200000\n",
      "366037/366037 [==============================] - 16s 42us/step - loss: 0.6552 - channel_loss: 0.5781 - baseline_loss: 0.6484 - channel_acc: 0.7428 - baseline_acc: 0.7425 - val_loss: 0.6197 - val_channel_loss: 0.5426 - val_baseline_loss: 0.6046 - val_channel_acc: 0.7630 - val_baseline_acc: 0.7632\n",
      "Epoch 39/200000\n",
      "366037/366037 [==============================] - 16s 45us/step - loss: 0.6540 - channel_loss: 0.5770 - baseline_loss: 0.6463 - channel_acc: 0.7442 - baseline_acc: 0.7441 - val_loss: 0.6198 - val_channel_loss: 0.5427 - val_baseline_loss: 0.6037 - val_channel_acc: 0.7641 - val_baseline_acc: 0.7640\n",
      "Epoch 40/200000\n",
      "366037/366037 [==============================] - 15s 42us/step - loss: 0.6550 - channel_loss: 0.5780 - baseline_loss: 0.6471 - channel_acc: 0.7430 - baseline_acc: 0.7430 - val_loss: 0.6196 - val_channel_loss: 0.5426 - val_baseline_loss: 0.6060 - val_channel_acc: 0.7638 - val_baseline_acc: 0.7642\n",
      "Epoch 41/200000\n",
      "366037/366037 [==============================] - 14s 39us/step - loss: 0.6549 - channel_loss: 0.5779 - baseline_loss: 0.6475 - channel_acc: 0.7427 - baseline_acc: 0.7426 - val_loss: 0.6195 - val_channel_loss: 0.5425 - val_baseline_loss: 0.6060 - val_channel_acc: 0.7630 - val_baseline_acc: 0.7635\n",
      "Epoch 42/200000\n",
      "366037/366037 [==============================] - 14s 38us/step - loss: 0.6547 - channel_loss: 0.5777 - baseline_loss: 0.6459 - channel_acc: 0.7435 - baseline_acc: 0.7435 - val_loss: 0.6193 - val_channel_loss: 0.5424 - val_baseline_loss: 0.6071 - val_channel_acc: 0.7637 - val_baseline_acc: 0.7641\n",
      "Epoch 43/200000\n",
      "366037/366037 [==============================] - 14s 39us/step - loss: 0.6539 - channel_loss: 0.5770 - baseline_loss: 0.6463 - channel_acc: 0.7436 - baseline_acc: 0.7433 - val_loss: 0.6198 - val_channel_loss: 0.5429 - val_baseline_loss: 0.6078 - val_channel_acc: 0.7627 - val_baseline_acc: 0.7634\n",
      "Epoch 44/200000\n",
      "366037/366037 [==============================] - 14s 38us/step - loss: 0.6548 - channel_loss: 0.5779 - baseline_loss: 0.6473 - channel_acc: 0.7430 - baseline_acc: 0.7431 - val_loss: 0.6187 - val_channel_loss: 0.5418 - val_baseline_loss: 0.6045 - val_channel_acc: 0.7639 - val_baseline_acc: 0.7632\n",
      "Epoch 45/200000\n",
      "366037/366037 [==============================] - 14s 37us/step - loss: 0.6540 - channel_loss: 0.5772 - baseline_loss: 0.6459 - channel_acc: 0.7443 - baseline_acc: 0.7440 - val_loss: 0.6197 - val_channel_loss: 0.5428 - val_baseline_loss: 0.6081 - val_channel_acc: 0.7632 - val_baseline_acc: 0.7629\n",
      "Epoch 46/200000\n",
      "366037/366037 [==============================] - 14s 37us/step - loss: 0.6544 - channel_loss: 0.5776 - baseline_loss: 0.6463 - channel_acc: 0.7426 - baseline_acc: 0.7424 - val_loss: 0.6182 - val_channel_loss: 0.5414 - val_baseline_loss: 0.6065 - val_channel_acc: 0.7640 - val_baseline_acc: 0.7642\n",
      "Epoch 47/200000\n",
      "366037/366037 [==============================] - 14s 38us/step - loss: 0.6542 - channel_loss: 0.5774 - baseline_loss: 0.6462 - channel_acc: 0.7428 - baseline_acc: 0.7427 - val_loss: 0.6187 - val_channel_loss: 0.5420 - val_baseline_loss: 0.6038 - val_channel_acc: 0.7635 - val_baseline_acc: 0.7629\n",
      "Epoch 48/200000\n",
      "366037/366037 [==============================] - 14s 37us/step - loss: 0.6542 - channel_loss: 0.5774 - baseline_loss: 0.6454 - channel_acc: 0.7430 - baseline_acc: 0.7430 - val_loss: 0.6182 - val_channel_loss: 0.5415 - val_baseline_loss: 0.6047 - val_channel_acc: 0.7637 - val_baseline_acc: 0.7638\n",
      "Epoch 49/200000\n",
      "366037/366037 [==============================] - 14s 37us/step - loss: 0.6538 - channel_loss: 0.5771 - baseline_loss: 0.6449 - channel_acc: 0.7431 - baseline_acc: 0.7431 - val_loss: 0.6179 - val_channel_loss: 0.5412 - val_baseline_loss: 0.6037 - val_channel_acc: 0.7639 - val_baseline_acc: 0.7644\n",
      "Epoch 50/200000\n",
      "366037/366037 [==============================] - 14s 37us/step - loss: 0.6539 - channel_loss: 0.5772 - baseline_loss: 0.6445 - channel_acc: 0.7429 - baseline_acc: 0.7428 - val_loss: 0.6184 - val_channel_loss: 0.5417 - val_baseline_loss: 0.6023 - val_channel_acc: 0.7643 - val_baseline_acc: 0.7646\n",
      "Epoch 51/200000\n",
      "366037/366037 [==============================] - 14s 37us/step - loss: 0.6539 - channel_loss: 0.5773 - baseline_loss: 0.6453 - channel_acc: 0.7433 - baseline_acc: 0.7431 - val_loss: 0.6185 - val_channel_loss: 0.5419 - val_baseline_loss: 0.6055 - val_channel_acc: 0.7639 - val_baseline_acc: 0.7635\n",
      "Epoch 52/200000\n",
      "366037/366037 [==============================] - 14s 37us/step - loss: 0.6522 - channel_loss: 0.5756 - baseline_loss: 0.6438 - channel_acc: 0.7439 - baseline_acc: 0.7439 - val_loss: 0.6183 - val_channel_loss: 0.5417 - val_baseline_loss: 0.6055 - val_channel_acc: 0.7632 - val_baseline_acc: 0.7639\n",
      "Epoch 53/200000\n",
      "366037/366037 [==============================] - 14s 37us/step - loss: 0.6526 - channel_loss: 0.5761 - baseline_loss: 0.6436 - channel_acc: 0.7433 - baseline_acc: 0.7432 - val_loss: 0.6178 - val_channel_loss: 0.5412 - val_baseline_loss: 0.6017 - val_channel_acc: 0.7640 - val_baseline_acc: 0.7636\n",
      "Epoch 54/200000\n",
      "366037/366037 [==============================] - 14s 37us/step - loss: 0.6533 - channel_loss: 0.5768 - baseline_loss: 0.6436 - channel_acc: 0.7429 - baseline_acc: 0.7430 - val_loss: 0.6174 - val_channel_loss: 0.5409 - val_baseline_loss: 0.6028 - val_channel_acc: 0.7646 - val_baseline_acc: 0.7646\n",
      "Epoch 55/200000\n",
      "366037/366037 [==============================] - 14s 38us/step - loss: 0.6522 - channel_loss: 0.5757 - baseline_loss: 0.6420 - channel_acc: 0.7445 - baseline_acc: 0.7441 - val_loss: 0.6174 - val_channel_loss: 0.5409 - val_baseline_loss: 0.6012 - val_channel_acc: 0.7637 - val_baseline_acc: 0.7645\n",
      "Epoch 56/200000\n",
      "366037/366037 [==============================] - 14s 38us/step - loss: 0.6526 - channel_loss: 0.5761 - baseline_loss: 0.6427 - channel_acc: 0.7433 - baseline_acc: 0.7434 - val_loss: 0.6179 - val_channel_loss: 0.5414 - val_baseline_loss: 0.6003 - val_channel_acc: 0.7637 - val_baseline_acc: 0.7636\n",
      "Epoch 57/200000\n",
      "366037/366037 [==============================] - 14s 39us/step - loss: 0.6522 - channel_loss: 0.5758 - baseline_loss: 0.6420 - channel_acc: 0.7434 - baseline_acc: 0.7433 - val_loss: 0.6176 - val_channel_loss: 0.5412 - val_baseline_loss: 0.6006 - val_channel_acc: 0.7639 - val_baseline_acc: 0.7637\n",
      "Epoch 58/200000\n",
      "366037/366037 [==============================] - 14s 39us/step - loss: 0.6525 - channel_loss: 0.5761 - baseline_loss: 0.6429 - channel_acc: 0.7431 - baseline_acc: 0.7430 - val_loss: 0.6171 - val_channel_loss: 0.5407 - val_baseline_loss: 0.5982 - val_channel_acc: 0.7645 - val_baseline_acc: 0.7645\n",
      "Epoch 59/200000\n",
      "366037/366037 [==============================] - 14s 39us/step - loss: 0.6520 - channel_loss: 0.5756 - baseline_loss: 0.6418 - channel_acc: 0.7433 - baseline_acc: 0.7431 - val_loss: 0.6170 - val_channel_loss: 0.5406 - val_baseline_loss: 0.6009 - val_channel_acc: 0.7646 - val_baseline_acc: 0.7643\n",
      "Epoch 60/200000\n",
      "366037/366037 [==============================] - 15s 40us/step - loss: 0.6527 - channel_loss: 0.5763 - baseline_loss: 0.6426 - channel_acc: 0.7433 - baseline_acc: 0.7433 - val_loss: 0.6169 - val_channel_loss: 0.5406 - val_baseline_loss: 0.6013 - val_channel_acc: 0.7649 - val_baseline_acc: 0.7645\n",
      "Epoch 61/200000\n",
      "366037/366037 [==============================] - 14s 39us/step - loss: 0.6521 - channel_loss: 0.5758 - baseline_loss: 0.6410 - channel_acc: 0.7438 - baseline_acc: 0.7437 - val_loss: 0.6169 - val_channel_loss: 0.5406 - val_baseline_loss: 0.6005 - val_channel_acc: 0.7637 - val_baseline_acc: 0.7638\n",
      "Epoch 62/200000\n",
      "366037/366037 [==============================] - 14s 38us/step - loss: 0.6511 - channel_loss: 0.5748 - baseline_loss: 0.6399 - channel_acc: 0.7441 - baseline_acc: 0.7437 - val_loss: 0.6164 - val_channel_loss: 0.5401 - val_baseline_loss: 0.6001 - val_channel_acc: 0.7654 - val_baseline_acc: 0.7654\n",
      "Epoch 63/200000\n",
      "366037/366037 [==============================] - 14s 38us/step - loss: 0.6524 - channel_loss: 0.5761 - baseline_loss: 0.6413 - channel_acc: 0.7433 - baseline_acc: 0.7432 - val_loss: 0.6163 - val_channel_loss: 0.5401 - val_baseline_loss: 0.5972 - val_channel_acc: 0.7643 - val_baseline_acc: 0.7647\n",
      "Epoch 64/200000\n",
      "366037/366037 [==============================] - 14s 38us/step - loss: 0.6517 - channel_loss: 0.5755 - baseline_loss: 0.6393 - channel_acc: 0.7439 - baseline_acc: 0.7438 - val_loss: 0.6170 - val_channel_loss: 0.5408 - val_baseline_loss: 0.6004 - val_channel_acc: 0.7640 - val_baseline_acc: 0.7640\n",
      "Epoch 65/200000\n",
      "366037/366037 [==============================] - 14s 37us/step - loss: 0.6519 - channel_loss: 0.5756 - baseline_loss: 0.6405 - channel_acc: 0.7441 - baseline_acc: 0.7438 - val_loss: 0.6168 - val_channel_loss: 0.5406 - val_baseline_loss: 0.6003 - val_channel_acc: 0.7638 - val_baseline_acc: 0.7641\n",
      "Epoch 66/200000\n",
      "366037/366037 [==============================] - 14s 38us/step - loss: 0.6510 - channel_loss: 0.5748 - baseline_loss: 0.6389 - channel_acc: 0.7441 - baseline_acc: 0.7440 - val_loss: 0.6168 - val_channel_loss: 0.5406 - val_baseline_loss: 0.5978 - val_channel_acc: 0.7645 - val_baseline_acc: 0.7646\n",
      "Epoch 67/200000\n",
      "366037/366037 [==============================] - 14s 38us/step - loss: 0.6508 - channel_loss: 0.5746 - baseline_loss: 0.6387 - channel_acc: 0.7443 - baseline_acc: 0.7442 - val_loss: 0.6166 - val_channel_loss: 0.5404 - val_baseline_loss: 0.6000 - val_channel_acc: 0.7639 - val_baseline_acc: 0.7643\n",
      "Epoch 00067: early stopping\n"
     ]
    }
   ],
   "source": [
    "train_res_complex = complex_model.fit(X_train_train,\n",
    "                      [Y_train_train,Y_train_train],\n",
    "                      batch_size=batch_size,\n",
    "                      epochs=200000,\n",
    "                      verbose=True,\n",
    "                      validation_data=(X_train_val,\n",
    "                                       [Y_train_val,Y_train_val]),\n",
    "                      callbacks=\n",
    "                      [EarlyStopping(patience=4,mode='min',verbose=True)]\n",
    "                      )"
   ]
  },
  {
   "cell_type": "code",
   "execution_count": 125,
   "metadata": {},
   "outputs": [
    {
     "data": {
      "text/plain": [
       "{'baseline_acc': 0.90085712318707545,\n",
       " 'baseline_loss': 0.28756390722362146,\n",
       " 'channel_acc': 0.90097186524692496,\n",
       " 'channel_loss': 0.3803366002154302,\n",
       " 'loss': 0.45653821197216155}"
      ]
     },
     "execution_count": 125,
     "metadata": {},
     "output_type": "execute_result"
    }
   ],
   "source": [
    "eval(complex_model,y_test=[Y_test,Y_test])"
   ]
  },
  {
   "cell_type": "code",
   "execution_count": 129,
   "metadata": {
    "collapsed": true
   },
   "outputs": [],
   "source": [
    "preds_complex=complex_model.predict(X_test.values)"
   ]
  },
  {
   "cell_type": "code",
   "execution_count": 130,
   "metadata": {
    "collapsed": true
   },
   "outputs": [],
   "source": [
    "preds_max_complex=np.argmax(preds_complex[0],axis=-1)"
   ]
  },
  {
   "cell_type": "code",
   "execution_count": 131,
   "metadata": {},
   "outputs": [
    {
     "data": {
      "text/plain": [
       "(174304,)"
      ]
     },
     "execution_count": 131,
     "metadata": {},
     "output_type": "execute_result"
    }
   ],
   "source": [
    "preds_max_complex.shape"
   ]
  },
  {
   "cell_type": "code",
   "execution_count": 132,
   "metadata": {},
   "outputs": [
    {
     "data": {
      "image/png": "[encoded data removed]",
      "text/plain": [
       "<matplotlib.figure.Figure at 0x7ff6cb4b4c88>"
      ]
     },
     "metadata": {},
     "output_type": "display_data"
    }
   ],
   "source": [
    "cnf_matrix = confusion_matrix(Y_test,preds_max_complex)\n",
    "np.set_printoptions(precision=2)\n",
    "\n",
    "#print(\"Recall metric in the testing dataset: \", cnf_matrix[1,1]/(cnf_matrix[1,0]+cnf_matrix[1,1]))\n",
    "\n",
    "# Plot non-normalized confusion matrix\n",
    "class_names = [0,1,2,3,4,5,6]\n",
    "plt.figure(figsize=(15, 10))\n",
    "plot_confusion_matrix(cnf_matrix\n",
    "                      , classes=class_names\n",
    "                      , title='Confusion matrix')\n",
    "plt.grid('off')\n",
    "plt.show()"
   ]
  }
 ],
 "metadata": {
  "kernelspec": {
   "display_name": "Python 3",
   "language": "python",
   "name": "python3"
  },
  "language_info": {
   "codemirror_mode": {
    "name": "ipython",
    "version": 3
   },
   "file_extension": ".py",
   "mimetype": "text/x-python",
   "name": "python",
   "nbconvert_exporter": "python",
   "pygments_lexer": "ipython3",
   "version": "3.6.1"
  }
 },
 "nbformat": 4,
 "nbformat_minor": 2
}
