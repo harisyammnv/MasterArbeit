{
 "cells": [
  {
   "cell_type": "code",
   "execution_count": 1,
   "metadata": {
    "collapsed": true
   },
   "outputs": [],
   "source": [
    "import pandas as pd\n",
    "import numpy as np\n",
    "import matplotlib.pyplot as plt\n",
    "import seaborn as sns\n",
    "%matplotlib inline"
   ]
  },
  {
   "cell_type": "code",
   "execution_count": 2,
   "metadata": {
    "collapsed": true
   },
   "outputs": [],
   "source": [
    "data=pd.read_csv('covtype.CSV',header=-1)"
   ]
  },
  {
   "cell_type": "code",
   "execution_count": 3,
   "metadata": {},
   "outputs": [
    {
     "data": {
      "text/html": [
       "<div>\n",
       "<style>\n",
       "    .dataframe thead tr:only-child th {\n",
       "        text-align: right;\n",
       "    }\n",
       "\n",
       "    .dataframe thead th {\n",
       "        text-align: left;\n",
       "    }\n",
       "\n",
       "    .dataframe tbody tr th {\n",
       "        vertical-align: top;\n",
       "    }\n",
       "</style>\n",
       "<table border=\"1\" class=\"dataframe\">\n",
       "  <thead>\n",
       "    <tr style=\"text-align: right;\">\n",
       "      <th></th>\n",
       "      <th>0</th>\n",
       "      <th>1</th>\n",
       "      <th>2</th>\n",
       "      <th>3</th>\n",
       "      <th>4</th>\n",
       "      <th>5</th>\n",
       "      <th>6</th>\n",
       "      <th>7</th>\n",
       "      <th>8</th>\n",
       "      <th>9</th>\n",
       "      <th>...</th>\n",
       "      <th>45</th>\n",
       "      <th>46</th>\n",
       "      <th>47</th>\n",
       "      <th>48</th>\n",
       "      <th>49</th>\n",
       "      <th>50</th>\n",
       "      <th>51</th>\n",
       "      <th>52</th>\n",
       "      <th>53</th>\n",
       "      <th>54</th>\n",
       "    </tr>\n",
       "  </thead>\n",
       "  <tbody>\n",
       "    <tr>\n",
       "      <th>0</th>\n",
       "      <td>2596</td>\n",
       "      <td>51</td>\n",
       "      <td>3</td>\n",
       "      <td>258</td>\n",
       "      <td>0</td>\n",
       "      <td>510</td>\n",
       "      <td>221</td>\n",
       "      <td>232</td>\n",
       "      <td>148</td>\n",
       "      <td>6279</td>\n",
       "      <td>...</td>\n",
       "      <td>0</td>\n",
       "      <td>0</td>\n",
       "      <td>0</td>\n",
       "      <td>0</td>\n",
       "      <td>0</td>\n",
       "      <td>0</td>\n",
       "      <td>0</td>\n",
       "      <td>0</td>\n",
       "      <td>0</td>\n",
       "      <td>5</td>\n",
       "    </tr>\n",
       "    <tr>\n",
       "      <th>1</th>\n",
       "      <td>2590</td>\n",
       "      <td>56</td>\n",
       "      <td>2</td>\n",
       "      <td>212</td>\n",
       "      <td>-6</td>\n",
       "      <td>390</td>\n",
       "      <td>220</td>\n",
       "      <td>235</td>\n",
       "      <td>151</td>\n",
       "      <td>6225</td>\n",
       "      <td>...</td>\n",
       "      <td>0</td>\n",
       "      <td>0</td>\n",
       "      <td>0</td>\n",
       "      <td>0</td>\n",
       "      <td>0</td>\n",
       "      <td>0</td>\n",
       "      <td>0</td>\n",
       "      <td>0</td>\n",
       "      <td>0</td>\n",
       "      <td>5</td>\n",
       "    </tr>\n",
       "    <tr>\n",
       "      <th>2</th>\n",
       "      <td>2804</td>\n",
       "      <td>139</td>\n",
       "      <td>9</td>\n",
       "      <td>268</td>\n",
       "      <td>65</td>\n",
       "      <td>3180</td>\n",
       "      <td>234</td>\n",
       "      <td>238</td>\n",
       "      <td>135</td>\n",
       "      <td>6121</td>\n",
       "      <td>...</td>\n",
       "      <td>0</td>\n",
       "      <td>0</td>\n",
       "      <td>0</td>\n",
       "      <td>0</td>\n",
       "      <td>0</td>\n",
       "      <td>0</td>\n",
       "      <td>0</td>\n",
       "      <td>0</td>\n",
       "      <td>0</td>\n",
       "      <td>2</td>\n",
       "    </tr>\n",
       "    <tr>\n",
       "      <th>3</th>\n",
       "      <td>2785</td>\n",
       "      <td>155</td>\n",
       "      <td>18</td>\n",
       "      <td>242</td>\n",
       "      <td>118</td>\n",
       "      <td>3090</td>\n",
       "      <td>238</td>\n",
       "      <td>238</td>\n",
       "      <td>122</td>\n",
       "      <td>6211</td>\n",
       "      <td>...</td>\n",
       "      <td>0</td>\n",
       "      <td>0</td>\n",
       "      <td>0</td>\n",
       "      <td>0</td>\n",
       "      <td>0</td>\n",
       "      <td>0</td>\n",
       "      <td>0</td>\n",
       "      <td>0</td>\n",
       "      <td>0</td>\n",
       "      <td>2</td>\n",
       "    </tr>\n",
       "    <tr>\n",
       "      <th>4</th>\n",
       "      <td>2595</td>\n",
       "      <td>45</td>\n",
       "      <td>2</td>\n",
       "      <td>153</td>\n",
       "      <td>-1</td>\n",
       "      <td>391</td>\n",
       "      <td>220</td>\n",
       "      <td>234</td>\n",
       "      <td>150</td>\n",
       "      <td>6172</td>\n",
       "      <td>...</td>\n",
       "      <td>0</td>\n",
       "      <td>0</td>\n",
       "      <td>0</td>\n",
       "      <td>0</td>\n",
       "      <td>0</td>\n",
       "      <td>0</td>\n",
       "      <td>0</td>\n",
       "      <td>0</td>\n",
       "      <td>0</td>\n",
       "      <td>5</td>\n",
       "    </tr>\n",
       "  </tbody>\n",
       "</table>\n",
       "<p>5 rows × 55 columns</p>\n",
       "</div>"
      ],
      "text/plain": [
       "     0    1   2    3    4     5    6    7    8     9  ...  45  46  47  48  49  \\\n",
       "0  2596   51   3  258    0   510  221  232  148  6279 ...   0   0   0   0   0   \n",
       "1  2590   56   2  212   -6   390  220  235  151  6225 ...   0   0   0   0   0   \n",
       "2  2804  139   9  268   65  3180  234  238  135  6121 ...   0   0   0   0   0   \n",
       "3  2785  155  18  242  118  3090  238  238  122  6211 ...   0   0   0   0   0   \n",
       "4  2595   45   2  153   -1   391  220  234  150  6172 ...   0   0   0   0   0   \n",
       "\n",
       "   50  51  52  53  54  \n",
       "0   0   0   0   0   5  \n",
       "1   0   0   0   0   5  \n",
       "2   0   0   0   0   2  \n",
       "3   0   0   0   0   2  \n",
       "4   0   0   0   0   5  \n",
       "\n",
       "[5 rows x 55 columns]"
      ]
     },
     "execution_count": 3,
     "metadata": {},
     "output_type": "execute_result"
    }
   ],
   "source": [
    "data.head()"
   ]
  },
  {
   "cell_type": "code",
   "execution_count": 4,
   "metadata": {
    "collapsed": true
   },
   "outputs": [],
   "source": [
    "headers=['Elevation','Aspect','Slope','Horizontal_Distance_To_Hydrology','Vertical_Distance_To_Hydrology','Horizontal_Distance_To_Roadways'         \n",
    ",'Hillshade_9am','Hillshade_Noon','Hillshade_3pm','Horizontal_Distance_To_Fire_Points','Wilderness_Area_1','Wilderness_Area_2','Wilderness_Area_3','Wilderness_Area_4']"
   ]
  },
  {
   "cell_type": "code",
   "execution_count": 5,
   "metadata": {
    "collapsed": true
   },
   "outputs": [],
   "source": [
    "headers_init=['Elevation','Aspect','Slope','Horizontal_Distance_To_Hydrology','Vertical_Distance_To_Hydrology','Horizontal_Distance_To_Roadways'         \n",
    ",'Hillshade_9am','Hillshade_Noon','Hillshade_3pm','Horizontal_Distance_To_Fire_Points','Cover_Type']"
   ]
  },
  {
   "cell_type": "code",
   "execution_count": 6,
   "metadata": {
    "collapsed": true
   },
   "outputs": [],
   "source": [
    "soiltypes=[]\n",
    "for i in range(1,41):\n",
    "    soiltypes.append('Soil_Type_'+str(i))\n",
    "\n",
    "soiltypes.append('Cover_Type')"
   ]
  },
  {
   "cell_type": "code",
   "execution_count": 7,
   "metadata": {
    "collapsed": true
   },
   "outputs": [],
   "source": [
    "for i in range(len(soiltypes)):\n",
    "    headers.append(soiltypes[i])"
   ]
  },
  {
   "cell_type": "code",
   "execution_count": 8,
   "metadata": {
    "collapsed": true
   },
   "outputs": [],
   "source": [
    "data.columns=headers"
   ]
  },
  {
   "cell_type": "code",
   "execution_count": 9,
   "metadata": {},
   "outputs": [
    {
     "name": "stdout",
     "output_type": "stream",
     "text": [
      "<class 'pandas.core.frame.DataFrame'>\n",
      "RangeIndex: 581012 entries, 0 to 581011\n",
      "Data columns (total 55 columns):\n",
      "Elevation                             581012 non-null int64\n",
      "Aspect                                581012 non-null int64\n",
      "Slope                                 581012 non-null int64\n",
      "Horizontal_Distance_To_Hydrology      581012 non-null int64\n",
      "Vertical_Distance_To_Hydrology        581012 non-null int64\n",
      "Horizontal_Distance_To_Roadways       581012 non-null int64\n",
      "Hillshade_9am                         581012 non-null int64\n",
      "Hillshade_Noon                        581012 non-null int64\n",
      "Hillshade_3pm                         581012 non-null int64\n",
      "Horizontal_Distance_To_Fire_Points    581012 non-null int64\n",
      "Wilderness_Area_1                     581012 non-null int64\n",
      "Wilderness_Area_2                     581012 non-null int64\n",
      "Wilderness_Area_3                     581012 non-null int64\n",
      "Wilderness_Area_4                     581012 non-null int64\n",
      "Soil_Type_1                           581012 non-null int64\n",
      "Soil_Type_2                           581012 non-null int64\n",
      "Soil_Type_3                           581012 non-null int64\n",
      "Soil_Type_4                           581012 non-null int64\n",
      "Soil_Type_5                           581012 non-null int64\n",
      "Soil_Type_6                           581012 non-null int64\n",
      "Soil_Type_7                           581012 non-null int64\n",
      "Soil_Type_8                           581012 non-null int64\n",
      "Soil_Type_9                           581012 non-null int64\n",
      "Soil_Type_10                          581012 non-null int64\n",
      "Soil_Type_11                          581012 non-null int64\n",
      "Soil_Type_12                          581012 non-null int64\n",
      "Soil_Type_13                          581012 non-null int64\n",
      "Soil_Type_14                          581012 non-null int64\n",
      "Soil_Type_15                          581012 non-null int64\n",
      "Soil_Type_16                          581012 non-null int64\n",
      "Soil_Type_17                          581012 non-null int64\n",
      "Soil_Type_18                          581012 non-null int64\n",
      "Soil_Type_19                          581012 non-null int64\n",
      "Soil_Type_20                          581012 non-null int64\n",
      "Soil_Type_21                          581012 non-null int64\n",
      "Soil_Type_22                          581012 non-null int64\n",
      "Soil_Type_23                          581012 non-null int64\n",
      "Soil_Type_24                          581012 non-null int64\n",
      "Soil_Type_25                          581012 non-null int64\n",
      "Soil_Type_26                          581012 non-null int64\n",
      "Soil_Type_27                          581012 non-null int64\n",
      "Soil_Type_28                          581012 non-null int64\n",
      "Soil_Type_29                          581012 non-null int64\n",
      "Soil_Type_30                          581012 non-null int64\n",
      "Soil_Type_31                          581012 non-null int64\n",
      "Soil_Type_32                          581012 non-null int64\n",
      "Soil_Type_33                          581012 non-null int64\n",
      "Soil_Type_34                          581012 non-null int64\n",
      "Soil_Type_35                          581012 non-null int64\n",
      "Soil_Type_36                          581012 non-null int64\n",
      "Soil_Type_37                          581012 non-null int64\n",
      "Soil_Type_38                          581012 non-null int64\n",
      "Soil_Type_39                          581012 non-null int64\n",
      "Soil_Type_40                          581012 non-null int64\n",
      "Cover_Type                            581012 non-null int64\n",
      "dtypes: int64(55)\n",
      "memory usage: 243.8 MB\n"
     ]
    }
   ],
   "source": [
    "data.info()"
   ]
  },
  {
   "cell_type": "code",
   "execution_count": 10,
   "metadata": {},
   "outputs": [
    {
     "data": {
      "text/html": [
       "<div>\n",
       "<style>\n",
       "    .dataframe thead tr:only-child th {\n",
       "        text-align: right;\n",
       "    }\n",
       "\n",
       "    .dataframe thead th {\n",
       "        text-align: left;\n",
       "    }\n",
       "\n",
       "    .dataframe tbody tr th {\n",
       "        vertical-align: top;\n",
       "    }\n",
       "</style>\n",
       "<table border=\"1\" class=\"dataframe\">\n",
       "  <thead>\n",
       "    <tr style=\"text-align: right;\">\n",
       "      <th></th>\n",
       "      <th>Elevation</th>\n",
       "      <th>Aspect</th>\n",
       "      <th>Slope</th>\n",
       "      <th>Horizontal_Distance_To_Hydrology</th>\n",
       "      <th>Vertical_Distance_To_Hydrology</th>\n",
       "      <th>Horizontal_Distance_To_Roadways</th>\n",
       "      <th>Hillshade_9am</th>\n",
       "      <th>Hillshade_Noon</th>\n",
       "      <th>Hillshade_3pm</th>\n",
       "      <th>Horizontal_Distance_To_Fire_Points</th>\n",
       "      <th>...</th>\n",
       "      <th>Soil_Type_32</th>\n",
       "      <th>Soil_Type_33</th>\n",
       "      <th>Soil_Type_34</th>\n",
       "      <th>Soil_Type_35</th>\n",
       "      <th>Soil_Type_36</th>\n",
       "      <th>Soil_Type_37</th>\n",
       "      <th>Soil_Type_38</th>\n",
       "      <th>Soil_Type_39</th>\n",
       "      <th>Soil_Type_40</th>\n",
       "      <th>Cover_Type</th>\n",
       "    </tr>\n",
       "  </thead>\n",
       "  <tbody>\n",
       "    <tr>\n",
       "      <th>0</th>\n",
       "      <td>2596</td>\n",
       "      <td>51</td>\n",
       "      <td>3</td>\n",
       "      <td>258</td>\n",
       "      <td>0</td>\n",
       "      <td>510</td>\n",
       "      <td>221</td>\n",
       "      <td>232</td>\n",
       "      <td>148</td>\n",
       "      <td>6279</td>\n",
       "      <td>...</td>\n",
       "      <td>0</td>\n",
       "      <td>0</td>\n",
       "      <td>0</td>\n",
       "      <td>0</td>\n",
       "      <td>0</td>\n",
       "      <td>0</td>\n",
       "      <td>0</td>\n",
       "      <td>0</td>\n",
       "      <td>0</td>\n",
       "      <td>5</td>\n",
       "    </tr>\n",
       "    <tr>\n",
       "      <th>1</th>\n",
       "      <td>2590</td>\n",
       "      <td>56</td>\n",
       "      <td>2</td>\n",
       "      <td>212</td>\n",
       "      <td>-6</td>\n",
       "      <td>390</td>\n",
       "      <td>220</td>\n",
       "      <td>235</td>\n",
       "      <td>151</td>\n",
       "      <td>6225</td>\n",
       "      <td>...</td>\n",
       "      <td>0</td>\n",
       "      <td>0</td>\n",
       "      <td>0</td>\n",
       "      <td>0</td>\n",
       "      <td>0</td>\n",
       "      <td>0</td>\n",
       "      <td>0</td>\n",
       "      <td>0</td>\n",
       "      <td>0</td>\n",
       "      <td>5</td>\n",
       "    </tr>\n",
       "    <tr>\n",
       "      <th>2</th>\n",
       "      <td>2804</td>\n",
       "      <td>139</td>\n",
       "      <td>9</td>\n",
       "      <td>268</td>\n",
       "      <td>65</td>\n",
       "      <td>3180</td>\n",
       "      <td>234</td>\n",
       "      <td>238</td>\n",
       "      <td>135</td>\n",
       "      <td>6121</td>\n",
       "      <td>...</td>\n",
       "      <td>0</td>\n",
       "      <td>0</td>\n",
       "      <td>0</td>\n",
       "      <td>0</td>\n",
       "      <td>0</td>\n",
       "      <td>0</td>\n",
       "      <td>0</td>\n",
       "      <td>0</td>\n",
       "      <td>0</td>\n",
       "      <td>2</td>\n",
       "    </tr>\n",
       "    <tr>\n",
       "      <th>3</th>\n",
       "      <td>2785</td>\n",
       "      <td>155</td>\n",
       "      <td>18</td>\n",
       "      <td>242</td>\n",
       "      <td>118</td>\n",
       "      <td>3090</td>\n",
       "      <td>238</td>\n",
       "      <td>238</td>\n",
       "      <td>122</td>\n",
       "      <td>6211</td>\n",
       "      <td>...</td>\n",
       "      <td>0</td>\n",
       "      <td>0</td>\n",
       "      <td>0</td>\n",
       "      <td>0</td>\n",
       "      <td>0</td>\n",
       "      <td>0</td>\n",
       "      <td>0</td>\n",
       "      <td>0</td>\n",
       "      <td>0</td>\n",
       "      <td>2</td>\n",
       "    </tr>\n",
       "    <tr>\n",
       "      <th>4</th>\n",
       "      <td>2595</td>\n",
       "      <td>45</td>\n",
       "      <td>2</td>\n",
       "      <td>153</td>\n",
       "      <td>-1</td>\n",
       "      <td>391</td>\n",
       "      <td>220</td>\n",
       "      <td>234</td>\n",
       "      <td>150</td>\n",
       "      <td>6172</td>\n",
       "      <td>...</td>\n",
       "      <td>0</td>\n",
       "      <td>0</td>\n",
       "      <td>0</td>\n",
       "      <td>0</td>\n",
       "      <td>0</td>\n",
       "      <td>0</td>\n",
       "      <td>0</td>\n",
       "      <td>0</td>\n",
       "      <td>0</td>\n",
       "      <td>5</td>\n",
       "    </tr>\n",
       "  </tbody>\n",
       "</table>\n",
       "<p>5 rows × 55 columns</p>\n",
       "</div>"
      ],
      "text/plain": [
       "   Elevation  Aspect  Slope  Horizontal_Distance_To_Hydrology  \\\n",
       "0       2596      51      3                               258   \n",
       "1       2590      56      2                               212   \n",
       "2       2804     139      9                               268   \n",
       "3       2785     155     18                               242   \n",
       "4       2595      45      2                               153   \n",
       "\n",
       "   Vertical_Distance_To_Hydrology  Horizontal_Distance_To_Roadways  \\\n",
       "0                               0                              510   \n",
       "1                              -6                              390   \n",
       "2                              65                             3180   \n",
       "3                             118                             3090   \n",
       "4                              -1                              391   \n",
       "\n",
       "   Hillshade_9am  Hillshade_Noon  Hillshade_3pm  \\\n",
       "0            221             232            148   \n",
       "1            220             235            151   \n",
       "2            234             238            135   \n",
       "3            238             238            122   \n",
       "4            220             234            150   \n",
       "\n",
       "   Horizontal_Distance_To_Fire_Points     ...      Soil_Type_32  Soil_Type_33  \\\n",
       "0                                6279     ...                 0             0   \n",
       "1                                6225     ...                 0             0   \n",
       "2                                6121     ...                 0             0   \n",
       "3                                6211     ...                 0             0   \n",
       "4                                6172     ...                 0             0   \n",
       "\n",
       "   Soil_Type_34  Soil_Type_35  Soil_Type_36  Soil_Type_37  Soil_Type_38  \\\n",
       "0             0             0             0             0             0   \n",
       "1             0             0             0             0             0   \n",
       "2             0             0             0             0             0   \n",
       "3             0             0             0             0             0   \n",
       "4             0             0             0             0             0   \n",
       "\n",
       "   Soil_Type_39  Soil_Type_40  Cover_Type  \n",
       "0             0             0           5  \n",
       "1             0             0           5  \n",
       "2             0             0           2  \n",
       "3             0             0           2  \n",
       "4             0             0           5  \n",
       "\n",
       "[5 rows x 55 columns]"
      ]
     },
     "execution_count": 10,
     "metadata": {},
     "output_type": "execute_result"
    }
   ],
   "source": [
    "data.head()"
   ]
  },
  {
   "cell_type": "code",
   "execution_count": 11,
   "metadata": {},
   "outputs": [
    {
     "data": {
      "text/plain": [
       "2    283301\n",
       "1    211840\n",
       "3     35754\n",
       "7     20510\n",
       "6     17367\n",
       "5      9493\n",
       "4      2747\n",
       "Name: Cover_Type, dtype: int64"
      ]
     },
     "execution_count": 11,
     "metadata": {},
     "output_type": "execute_result"
    }
   ],
   "source": [
    "data['Cover_Type'].value_counts()"
   ]
  },
  {
   "cell_type": "code",
   "execution_count": 12,
   "metadata": {
    "collapsed": true
   },
   "outputs": [],
   "source": [
    "from sklearn.model_selection import train_test_split"
   ]
  },
  {
   "cell_type": "code",
   "execution_count": 13,
   "metadata": {
    "collapsed": true
   },
   "outputs": [],
   "source": [
    "train,test=train_test_split(data,test_size=0.3,random_state=0,stratify=data.Cover_Type)"
   ]
  },
  {
   "cell_type": "code",
   "execution_count": 14,
   "metadata": {},
   "outputs": [
    {
     "data": {
      "text/plain": [
       "(406708, 55)"
      ]
     },
     "execution_count": 14,
     "metadata": {},
     "output_type": "execute_result"
    }
   ],
   "source": [
    "train.shape"
   ]
  },
  {
   "cell_type": "code",
   "execution_count": 15,
   "metadata": {},
   "outputs": [
    {
     "data": {
      "text/plain": [
       "(174304, 55)"
      ]
     },
     "execution_count": 15,
     "metadata": {},
     "output_type": "execute_result"
    }
   ],
   "source": [
    "test.shape"
   ]
  },
  {
   "cell_type": "code",
   "execution_count": 16,
   "metadata": {},
   "outputs": [
    {
     "data": {
      "text/plain": [
       "<matplotlib.axes._subplots.AxesSubplot at 0x7f0b19547dd8>"
      ]
     },
     "execution_count": 16,
     "metadata": {},
     "output_type": "execute_result"
    },
    {
     "data": {
      "image/png": "[encoded data removed]",
      "text/plain": [
       "<matplotlib.figure.Figure at 0x7f0b19547cc0>"
      ]
     },
     "metadata": {},
     "output_type": "display_data"
    }
   ],
   "source": [
    "import matplotlib.style as style\n",
    "style.use('fivethirtyeight')\n",
    "colormap = plt.cm.viridis\n",
    "plt.figure(figsize=(14,12))\n",
    "plt.title('Pearson Correlation of Features', y=1.0, size=15)\n",
    "sns.heatmap(train.astype(float).corr(),linewidths=0.05,vmax=1.0, square=True, cmap=colormap, linecolor='black', annot=False)"
   ]
  },
  {
   "cell_type": "code",
   "execution_count": 17,
   "metadata": {},
   "outputs": [
    {
     "name": "stdout",
     "output_type": "stream",
     "text": [
      "Feature:- Soil_Type_1 has 2 unique categories\n",
      "Feature:- Soil_Type_2 has 2 unique categories\n",
      "Feature:- Soil_Type_3 has 2 unique categories\n",
      "Feature:- Soil_Type_4 has 2 unique categories\n",
      "Feature:- Soil_Type_5 has 2 unique categories\n",
      "Feature:- Soil_Type_6 has 2 unique categories\n",
      "Feature:- Soil_Type_7 has 2 unique categories\n",
      "Feature:- Soil_Type_8 has 2 unique categories\n",
      "Feature:- Soil_Type_9 has 2 unique categories\n",
      "Feature:- Soil_Type_10 has 2 unique categories\n",
      "Feature:- Soil_Type_11 has 2 unique categories\n",
      "Feature:- Soil_Type_12 has 2 unique categories\n",
      "Feature:- Soil_Type_13 has 2 unique categories\n",
      "Feature:- Soil_Type_14 has 2 unique categories\n",
      "Feature:- Soil_Type_15 has 2 unique categories\n",
      "Feature:- Soil_Type_16 has 2 unique categories\n",
      "Feature:- Soil_Type_17 has 2 unique categories\n",
      "Feature:- Soil_Type_18 has 2 unique categories\n",
      "Feature:- Soil_Type_19 has 2 unique categories\n",
      "Feature:- Soil_Type_20 has 2 unique categories\n",
      "Feature:- Soil_Type_21 has 2 unique categories\n",
      "Feature:- Soil_Type_22 has 2 unique categories\n",
      "Feature:- Soil_Type_23 has 2 unique categories\n",
      "Feature:- Soil_Type_24 has 2 unique categories\n",
      "Feature:- Soil_Type_25 has 2 unique categories\n",
      "Feature:- Soil_Type_26 has 2 unique categories\n",
      "Feature:- Soil_Type_27 has 2 unique categories\n",
      "Feature:- Soil_Type_28 has 2 unique categories\n",
      "Feature:- Soil_Type_29 has 2 unique categories\n",
      "Feature:- Soil_Type_30 has 2 unique categories\n",
      "Feature:- Soil_Type_31 has 2 unique categories\n",
      "Feature:- Soil_Type_32 has 2 unique categories\n",
      "Feature:- Soil_Type_33 has 2 unique categories\n",
      "Feature:- Soil_Type_34 has 2 unique categories\n",
      "Feature:- Soil_Type_35 has 2 unique categories\n",
      "Feature:- Soil_Type_36 has 2 unique categories\n",
      "Feature:- Soil_Type_37 has 2 unique categories\n",
      "Feature:- Soil_Type_38 has 2 unique categories\n",
      "Feature:- Soil_Type_39 has 2 unique categories\n",
      "Feature:- Soil_Type_40 has 2 unique categories\n",
      "Feature:- Cover_Type has 7 unique categories\n"
     ]
    }
   ],
   "source": [
    "for col_name in soiltypes:\n",
    "    if train[col_name].dtype=='int64':\n",
    "        unique_cat=len(train[col_name].unique())\n",
    "        print(\"Feature:- {col_name} has {unique_cat} unique categories\".format(col_name=col_name,unique_cat=unique_cat))"
   ]
  },
  {
   "cell_type": "code",
   "execution_count": 18,
   "metadata": {
    "collapsed": true
   },
   "outputs": [],
   "source": [
    "#Remove Constant columns\n",
    "train_cons = []\n",
    "test_cons=[]\n",
    "for col in train.columns:\n",
    "    if train[col].std() == 0:\n",
    "        train_cons.append(col)\n",
    "        test_cons.append(col)\n",
    "\n",
    "train=train.drop(train_cons,axis=1)\n",
    "test=test.drop(test_cons,axis=1)"
   ]
  },
  {
   "cell_type": "code",
   "execution_count": 19,
   "metadata": {
    "collapsed": true
   },
   "outputs": [],
   "source": [
    "def feature_engineering(data2,train_cons):\n",
    "    \n",
    "    \n",
    "    data = data2\n",
    "    \n",
    "    data['Ele_minus_VDtHyd'] = data.Elevation-data.Vertical_Distance_To_Hydrology\n",
    "         \n",
    "    data['Ele_plus_VDtHyd'] = data.Elevation+data.Vertical_Distance_To_Hydrology\n",
    "     \n",
    "    data['Distanse_to_Hydrology'] = (data['Horizontal_Distance_To_Hydrology']**2+data['Vertical_Distance_To_Hydrology']**2)**0.5\n",
    "     \n",
    "    data['Hydro_plus_Fire'] = data['Horizontal_Distance_To_Hydrology']+data['Horizontal_Distance_To_Fire_Points']\n",
    "     \n",
    "    data['Hydro_minus_Fire'] = data['Horizontal_Distance_To_Hydrology']-data['Horizontal_Distance_To_Fire_Points']\n",
    "     \n",
    "    data['Hydro_plus_Road'] = data['Horizontal_Distance_To_Hydrology']+data['Horizontal_Distance_To_Roadways']\n",
    "     \n",
    "    data['Hydro_minus_Road'] = data['Horizontal_Distance_To_Hydrology']-data['Horizontal_Distance_To_Roadways']\n",
    "     \n",
    "    data['Fire_plus_Road'] = data['Horizontal_Distance_To_Fire_Points']+data['Horizontal_Distance_To_Roadways']\n",
    "     \n",
    "    data['Fire_minus_Road'] = data['Horizontal_Distance_To_Fire_Points']-data['Horizontal_Distance_To_Roadways']\n",
    "    \n",
    "    #data['Soil']=0\n",
    "    #for i in range(1,41):\n",
    "    #    if ('Soil_Type_'+str(i)) not in train_cons:\n",
    "    #        data['Soil']=data['Soil']+i*data['Soil_Type_'+str(i)]\n",
    "      \n",
    "     \n",
    "    #data['Wilderness_Area']=0\n",
    "    #for i in range(1,5):\n",
    "    #    data['Wilderness_Area']=data['Wilderness_Area']+i*data['Wilderness_Area_'+str(i)]\n",
    "      \n",
    "    return data"
   ]
  },
  {
   "cell_type": "code",
   "execution_count": 20,
   "metadata": {
    "collapsed": true
   },
   "outputs": [],
   "source": [
    "train_df = feature_engineering(train,train_cons)\n",
    "test_df = feature_engineering(test,train_cons)"
   ]
  },
  {
   "cell_type": "code",
   "execution_count": 21,
   "metadata": {
    "collapsed": true
   },
   "outputs": [],
   "source": [
    "def get_features():\n",
    "    return ['Elevation','Aspect','Slope','Horizontal_Distance_To_Hydrology','Vertical_Distance_To_Hydrology',\n",
    "    'Horizontal_Distance_To_Roadways','Hillshade_9am','Hillshade_Noon','Hillshade_3pm','Horizontal_Distance_To_Fire_Points',\n",
    "    'Ele_minus_VDtHyd','Ele_plus_VDtHyd','Distanse_to_Hydrology','Hydro_plus_Fire','Hydro_minus_Fire','Hydro_plus_Road',\n",
    "    'Hydro_minus_Road','Fire_plus_Road','Fire_minus_Road']"
   ]
  },
  {
   "cell_type": "code",
   "execution_count": 22,
   "metadata": {
    "collapsed": true
   },
   "outputs": [],
   "source": [
    "features_imp=get_features()\n",
    "for i in range(1,41):\n",
    "    features_imp.append('Soil_Type_'+str(i))\n",
    "for j in range(1,5):\n",
    "    features_imp.append('Wilderness_Area_'+str(j))"
   ]
  },
  {
   "cell_type": "code",
   "execution_count": 23,
   "metadata": {
    "collapsed": true
   },
   "outputs": [],
   "source": [
    "X_train=train_df[features_imp]\n",
    "X_test=test_df[features_imp]"
   ]
  },
  {
   "cell_type": "code",
   "execution_count": 24,
   "metadata": {
    "collapsed": true
   },
   "outputs": [],
   "source": [
    "Y_train=train_df[['Cover_Type']]\n",
    "Y_test=test_df[['Cover_Type']]"
   ]
  },
  {
   "cell_type": "code",
   "execution_count": 25,
   "metadata": {},
   "outputs": [
    {
     "data": {
      "text/html": [
       "<div>\n",
       "<style>\n",
       "    .dataframe thead tr:only-child th {\n",
       "        text-align: right;\n",
       "    }\n",
       "\n",
       "    .dataframe thead th {\n",
       "        text-align: left;\n",
       "    }\n",
       "\n",
       "    .dataframe tbody tr th {\n",
       "        vertical-align: top;\n",
       "    }\n",
       "</style>\n",
       "<table border=\"1\" class=\"dataframe\">\n",
       "  <thead>\n",
       "    <tr style=\"text-align: right;\">\n",
       "      <th></th>\n",
       "      <th>Elevation</th>\n",
       "      <th>Aspect</th>\n",
       "      <th>Slope</th>\n",
       "      <th>Horizontal_Distance_To_Hydrology</th>\n",
       "      <th>Vertical_Distance_To_Hydrology</th>\n",
       "      <th>Horizontal_Distance_To_Roadways</th>\n",
       "      <th>Hillshade_9am</th>\n",
       "      <th>Hillshade_Noon</th>\n",
       "      <th>Hillshade_3pm</th>\n",
       "      <th>Horizontal_Distance_To_Fire_Points</th>\n",
       "      <th>...</th>\n",
       "      <th>Soil_Type_35</th>\n",
       "      <th>Soil_Type_36</th>\n",
       "      <th>Soil_Type_37</th>\n",
       "      <th>Soil_Type_38</th>\n",
       "      <th>Soil_Type_39</th>\n",
       "      <th>Soil_Type_40</th>\n",
       "      <th>Wilderness_Area_1</th>\n",
       "      <th>Wilderness_Area_2</th>\n",
       "      <th>Wilderness_Area_3</th>\n",
       "      <th>Wilderness_Area_4</th>\n",
       "    </tr>\n",
       "  </thead>\n",
       "  <tbody>\n",
       "    <tr>\n",
       "      <th>15190</th>\n",
       "      <td>2736</td>\n",
       "      <td>4</td>\n",
       "      <td>15</td>\n",
       "      <td>60</td>\n",
       "      <td>17</td>\n",
       "      <td>3064</td>\n",
       "      <td>200</td>\n",
       "      <td>211</td>\n",
       "      <td>147</td>\n",
       "      <td>6249</td>\n",
       "      <td>...</td>\n",
       "      <td>0</td>\n",
       "      <td>0</td>\n",
       "      <td>0</td>\n",
       "      <td>0</td>\n",
       "      <td>0</td>\n",
       "      <td>0</td>\n",
       "      <td>1</td>\n",
       "      <td>0</td>\n",
       "      <td>0</td>\n",
       "      <td>0</td>\n",
       "    </tr>\n",
       "    <tr>\n",
       "      <th>560331</th>\n",
       "      <td>2600</td>\n",
       "      <td>195</td>\n",
       "      <td>33</td>\n",
       "      <td>256</td>\n",
       "      <td>115</td>\n",
       "      <td>1074</td>\n",
       "      <td>195</td>\n",
       "      <td>245</td>\n",
       "      <td>161</td>\n",
       "      <td>1050</td>\n",
       "      <td>...</td>\n",
       "      <td>0</td>\n",
       "      <td>0</td>\n",
       "      <td>0</td>\n",
       "      <td>0</td>\n",
       "      <td>0</td>\n",
       "      <td>0</td>\n",
       "      <td>0</td>\n",
       "      <td>0</td>\n",
       "      <td>1</td>\n",
       "      <td>0</td>\n",
       "    </tr>\n",
       "    <tr>\n",
       "      <th>323159</th>\n",
       "      <td>2922</td>\n",
       "      <td>123</td>\n",
       "      <td>13</td>\n",
       "      <td>192</td>\n",
       "      <td>48</td>\n",
       "      <td>1530</td>\n",
       "      <td>241</td>\n",
       "      <td>230</td>\n",
       "      <td>115</td>\n",
       "      <td>2078</td>\n",
       "      <td>...</td>\n",
       "      <td>0</td>\n",
       "      <td>0</td>\n",
       "      <td>0</td>\n",
       "      <td>0</td>\n",
       "      <td>0</td>\n",
       "      <td>0</td>\n",
       "      <td>0</td>\n",
       "      <td>0</td>\n",
       "      <td>1</td>\n",
       "      <td>0</td>\n",
       "    </tr>\n",
       "    <tr>\n",
       "      <th>349637</th>\n",
       "      <td>3111</td>\n",
       "      <td>291</td>\n",
       "      <td>8</td>\n",
       "      <td>446</td>\n",
       "      <td>45</td>\n",
       "      <td>2355</td>\n",
       "      <td>197</td>\n",
       "      <td>239</td>\n",
       "      <td>181</td>\n",
       "      <td>2491</td>\n",
       "      <td>...</td>\n",
       "      <td>0</td>\n",
       "      <td>0</td>\n",
       "      <td>0</td>\n",
       "      <td>0</td>\n",
       "      <td>0</td>\n",
       "      <td>0</td>\n",
       "      <td>0</td>\n",
       "      <td>0</td>\n",
       "      <td>1</td>\n",
       "      <td>0</td>\n",
       "    </tr>\n",
       "    <tr>\n",
       "      <th>137117</th>\n",
       "      <td>2760</td>\n",
       "      <td>18</td>\n",
       "      <td>5</td>\n",
       "      <td>330</td>\n",
       "      <td>9</td>\n",
       "      <td>1806</td>\n",
       "      <td>216</td>\n",
       "      <td>229</td>\n",
       "      <td>150</td>\n",
       "      <td>698</td>\n",
       "      <td>...</td>\n",
       "      <td>0</td>\n",
       "      <td>0</td>\n",
       "      <td>0</td>\n",
       "      <td>0</td>\n",
       "      <td>0</td>\n",
       "      <td>0</td>\n",
       "      <td>1</td>\n",
       "      <td>0</td>\n",
       "      <td>0</td>\n",
       "      <td>0</td>\n",
       "    </tr>\n",
       "  </tbody>\n",
       "</table>\n",
       "<p>5 rows × 63 columns</p>\n",
       "</div>"
      ],
      "text/plain": [
       "        Elevation  Aspect  Slope  Horizontal_Distance_To_Hydrology  \\\n",
       "15190        2736       4     15                                60   \n",
       "560331       2600     195     33                               256   \n",
       "323159       2922     123     13                               192   \n",
       "349637       3111     291      8                               446   \n",
       "137117       2760      18      5                               330   \n",
       "\n",
       "        Vertical_Distance_To_Hydrology  Horizontal_Distance_To_Roadways  \\\n",
       "15190                               17                             3064   \n",
       "560331                             115                             1074   \n",
       "323159                              48                             1530   \n",
       "349637                              45                             2355   \n",
       "137117                               9                             1806   \n",
       "\n",
       "        Hillshade_9am  Hillshade_Noon  Hillshade_3pm  \\\n",
       "15190             200             211            147   \n",
       "560331            195             245            161   \n",
       "323159            241             230            115   \n",
       "349637            197             239            181   \n",
       "137117            216             229            150   \n",
       "\n",
       "        Horizontal_Distance_To_Fire_Points        ...          Soil_Type_35  \\\n",
       "15190                                 6249        ...                     0   \n",
       "560331                                1050        ...                     0   \n",
       "323159                                2078        ...                     0   \n",
       "349637                                2491        ...                     0   \n",
       "137117                                 698        ...                     0   \n",
       "\n",
       "        Soil_Type_36  Soil_Type_37  Soil_Type_38  Soil_Type_39  Soil_Type_40  \\\n",
       "15190              0             0             0             0             0   \n",
       "560331             0             0             0             0             0   \n",
       "323159             0             0             0             0             0   \n",
       "349637             0             0             0             0             0   \n",
       "137117             0             0             0             0             0   \n",
       "\n",
       "        Wilderness_Area_1  Wilderness_Area_2  Wilderness_Area_3  \\\n",
       "15190                   1                  0                  0   \n",
       "560331                  0                  0                  1   \n",
       "323159                  0                  0                  1   \n",
       "349637                  0                  0                  1   \n",
       "137117                  1                  0                  0   \n",
       "\n",
       "        Wilderness_Area_4  \n",
       "15190                   0  \n",
       "560331                  0  \n",
       "323159                  0  \n",
       "349637                  0  \n",
       "137117                  0  \n",
       "\n",
       "[5 rows x 63 columns]"
      ]
     },
     "execution_count": 25,
     "metadata": {},
     "output_type": "execute_result"
    }
   ],
   "source": [
    "X_train.head()"
   ]
  },
  {
   "cell_type": "code",
   "execution_count": 26,
   "metadata": {
    "collapsed": true
   },
   "outputs": [],
   "source": [
    "Y_train=Y_train-1\n",
    "Y_test=Y_test-1"
   ]
  },
  {
   "cell_type": "code",
   "execution_count": 27,
   "metadata": {
    "collapsed": true
   },
   "outputs": [],
   "source": [
    "from sklearn.preprocessing import StandardScaler"
   ]
  },
  {
   "cell_type": "code",
   "execution_count": 28,
   "metadata": {
    "collapsed": true
   },
   "outputs": [],
   "source": [
    "features_num=get_features()"
   ]
  },
  {
   "cell_type": "code",
   "execution_count": 29,
   "metadata": {
    "collapsed": true
   },
   "outputs": [],
   "source": [
    "X_train_num_Scld=StandardScaler().fit_transform(X_train[features_num])"
   ]
  },
  {
   "cell_type": "code",
   "execution_count": 30,
   "metadata": {},
   "outputs": [
    {
     "data": {
      "text/plain": [
       "19"
      ]
     },
     "execution_count": 30,
     "metadata": {},
     "output_type": "execute_result"
    }
   ],
   "source": [
    "len(features_num)"
   ]
  },
  {
   "cell_type": "code",
   "execution_count": 31,
   "metadata": {},
   "outputs": [
    {
     "name": "stderr",
     "output_type": "stream",
     "text": [
      "/usr/local/anaconda3/5.0.1/lib/python3.6/site-packages/pandas/core/indexing.py:517: SettingWithCopyWarning: \n",
      "A value is trying to be set on a copy of a slice from a DataFrame.\n",
      "Try using .loc[row_indexer,col_indexer] = value instead\n",
      "\n",
      "See the caveats in the documentation: http://pandas.pydata.org/pandas-docs/stable/indexing.html#indexing-view-versus-copy\n",
      "  self.obj[item] = s\n"
     ]
    }
   ],
   "source": [
    "X_train.loc[:,:len(features_num)]=X_train_num_Scld"
   ]
  },
  {
   "cell_type": "code",
   "execution_count": 32,
   "metadata": {},
   "outputs": [
    {
     "name": "stdout",
     "output_type": "stream",
     "text": [
      "<class 'pandas.core.frame.DataFrame'>\n",
      "Int64Index: 406708 entries, 15190 to 269194\n",
      "Data columns (total 63 columns):\n",
      "Elevation                             406708 non-null float64\n",
      "Aspect                                406708 non-null float64\n",
      "Slope                                 406708 non-null float64\n",
      "Horizontal_Distance_To_Hydrology      406708 non-null float64\n",
      "Vertical_Distance_To_Hydrology        406708 non-null float64\n",
      "Horizontal_Distance_To_Roadways       406708 non-null float64\n",
      "Hillshade_9am                         406708 non-null float64\n",
      "Hillshade_Noon                        406708 non-null float64\n",
      "Hillshade_3pm                         406708 non-null float64\n",
      "Horizontal_Distance_To_Fire_Points    406708 non-null float64\n",
      "Ele_minus_VDtHyd                      406708 non-null float64\n",
      "Ele_plus_VDtHyd                       406708 non-null float64\n",
      "Distanse_to_Hydrology                 406708 non-null float64\n",
      "Hydro_plus_Fire                       406708 non-null float64\n",
      "Hydro_minus_Fire                      406708 non-null float64\n",
      "Hydro_plus_Road                       406708 non-null float64\n",
      "Hydro_minus_Road                      406708 non-null float64\n",
      "Fire_plus_Road                        406708 non-null float64\n",
      "Fire_minus_Road                       406708 non-null float64\n",
      "Soil_Type_1                           406708 non-null int64\n",
      "Soil_Type_2                           406708 non-null int64\n",
      "Soil_Type_3                           406708 non-null int64\n",
      "Soil_Type_4                           406708 non-null int64\n",
      "Soil_Type_5                           406708 non-null int64\n",
      "Soil_Type_6                           406708 non-null int64\n",
      "Soil_Type_7                           406708 non-null int64\n",
      "Soil_Type_8                           406708 non-null int64\n",
      "Soil_Type_9                           406708 non-null int64\n",
      "Soil_Type_10                          406708 non-null int64\n",
      "Soil_Type_11                          406708 non-null int64\n",
      "Soil_Type_12                          406708 non-null int64\n",
      "Soil_Type_13                          406708 non-null int64\n",
      "Soil_Type_14                          406708 non-null int64\n",
      "Soil_Type_15                          406708 non-null int64\n",
      "Soil_Type_16                          406708 non-null int64\n",
      "Soil_Type_17                          406708 non-null int64\n",
      "Soil_Type_18                          406708 non-null int64\n",
      "Soil_Type_19                          406708 non-null int64\n",
      "Soil_Type_20                          406708 non-null int64\n",
      "Soil_Type_21                          406708 non-null int64\n",
      "Soil_Type_22                          406708 non-null int64\n",
      "Soil_Type_23                          406708 non-null int64\n",
      "Soil_Type_24                          406708 non-null int64\n",
      "Soil_Type_25                          406708 non-null int64\n",
      "Soil_Type_26                          406708 non-null int64\n",
      "Soil_Type_27                          406708 non-null int64\n",
      "Soil_Type_28                          406708 non-null int64\n",
      "Soil_Type_29                          406708 non-null int64\n",
      "Soil_Type_30                          406708 non-null int64\n",
      "Soil_Type_31                          406708 non-null int64\n",
      "Soil_Type_32                          406708 non-null int64\n",
      "Soil_Type_33                          406708 non-null int64\n",
      "Soil_Type_34                          406708 non-null int64\n",
      "Soil_Type_35                          406708 non-null int64\n",
      "Soil_Type_36                          406708 non-null int64\n",
      "Soil_Type_37                          406708 non-null int64\n",
      "Soil_Type_38                          406708 non-null int64\n",
      "Soil_Type_39                          406708 non-null int64\n",
      "Soil_Type_40                          406708 non-null int64\n",
      "Wilderness_Area_1                     406708 non-null int64\n",
      "Wilderness_Area_2                     406708 non-null int64\n",
      "Wilderness_Area_3                     406708 non-null int64\n",
      "Wilderness_Area_4                     406708 non-null int64\n",
      "dtypes: float64(19), int64(44)\n",
      "memory usage: 198.6 MB\n"
     ]
    }
   ],
   "source": [
    "X_train.info()"
   ]
  },
  {
   "cell_type": "code",
   "execution_count": null,
   "metadata": {
    "collapsed": true
   },
   "outputs": [],
   "source": []
  },
  {
   "cell_type": "code",
   "execution_count": 33,
   "metadata": {
    "collapsed": true
   },
   "outputs": [],
   "source": [
    "X_test_num_Scld=StandardScaler().fit_transform(X_test[features_num])"
   ]
  },
  {
   "cell_type": "code",
   "execution_count": 34,
   "metadata": {},
   "outputs": [
    {
     "data": {
      "text/plain": [
       "19"
      ]
     },
     "execution_count": 34,
     "metadata": {},
     "output_type": "execute_result"
    }
   ],
   "source": [
    "len(features_num)"
   ]
  },
  {
   "cell_type": "code",
   "execution_count": 35,
   "metadata": {},
   "outputs": [
    {
     "name": "stderr",
     "output_type": "stream",
     "text": [
      "/usr/local/anaconda3/5.0.1/lib/python3.6/site-packages/pandas/core/indexing.py:517: SettingWithCopyWarning: \n",
      "A value is trying to be set on a copy of a slice from a DataFrame.\n",
      "Try using .loc[row_indexer,col_indexer] = value instead\n",
      "\n",
      "See the caveats in the documentation: http://pandas.pydata.org/pandas-docs/stable/indexing.html#indexing-view-versus-copy\n",
      "  self.obj[item] = s\n"
     ]
    }
   ],
   "source": [
    "X_test.loc[:,:len(features_num)]=X_test_num_Scld"
   ]
  },
  {
   "cell_type": "code",
   "execution_count": 36,
   "metadata": {},
   "outputs": [
    {
     "name": "stdout",
     "output_type": "stream",
     "text": [
      "<class 'pandas.core.frame.DataFrame'>\n",
      "Int64Index: 174304 entries, 3990 to 469778\n",
      "Data columns (total 63 columns):\n",
      "Elevation                             174304 non-null float64\n",
      "Aspect                                174304 non-null float64\n",
      "Slope                                 174304 non-null float64\n",
      "Horizontal_Distance_To_Hydrology      174304 non-null float64\n",
      "Vertical_Distance_To_Hydrology        174304 non-null float64\n",
      "Horizontal_Distance_To_Roadways       174304 non-null float64\n",
      "Hillshade_9am                         174304 non-null float64\n",
      "Hillshade_Noon                        174304 non-null float64\n",
      "Hillshade_3pm                         174304 non-null float64\n",
      "Horizontal_Distance_To_Fire_Points    174304 non-null float64\n",
      "Ele_minus_VDtHyd                      174304 non-null float64\n",
      "Ele_plus_VDtHyd                       174304 non-null float64\n",
      "Distanse_to_Hydrology                 174304 non-null float64\n",
      "Hydro_plus_Fire                       174304 non-null float64\n",
      "Hydro_minus_Fire                      174304 non-null float64\n",
      "Hydro_plus_Road                       174304 non-null float64\n",
      "Hydro_minus_Road                      174304 non-null float64\n",
      "Fire_plus_Road                        174304 non-null float64\n",
      "Fire_minus_Road                       174304 non-null float64\n",
      "Soil_Type_1                           174304 non-null int64\n",
      "Soil_Type_2                           174304 non-null int64\n",
      "Soil_Type_3                           174304 non-null int64\n",
      "Soil_Type_4                           174304 non-null int64\n",
      "Soil_Type_5                           174304 non-null int64\n",
      "Soil_Type_6                           174304 non-null int64\n",
      "Soil_Type_7                           174304 non-null int64\n",
      "Soil_Type_8                           174304 non-null int64\n",
      "Soil_Type_9                           174304 non-null int64\n",
      "Soil_Type_10                          174304 non-null int64\n",
      "Soil_Type_11                          174304 non-null int64\n",
      "Soil_Type_12                          174304 non-null int64\n",
      "Soil_Type_13                          174304 non-null int64\n",
      "Soil_Type_14                          174304 non-null int64\n",
      "Soil_Type_15                          174304 non-null int64\n",
      "Soil_Type_16                          174304 non-null int64\n",
      "Soil_Type_17                          174304 non-null int64\n",
      "Soil_Type_18                          174304 non-null int64\n",
      "Soil_Type_19                          174304 non-null int64\n",
      "Soil_Type_20                          174304 non-null int64\n",
      "Soil_Type_21                          174304 non-null int64\n",
      "Soil_Type_22                          174304 non-null int64\n",
      "Soil_Type_23                          174304 non-null int64\n",
      "Soil_Type_24                          174304 non-null int64\n",
      "Soil_Type_25                          174304 non-null int64\n",
      "Soil_Type_26                          174304 non-null int64\n",
      "Soil_Type_27                          174304 non-null int64\n",
      "Soil_Type_28                          174304 non-null int64\n",
      "Soil_Type_29                          174304 non-null int64\n",
      "Soil_Type_30                          174304 non-null int64\n",
      "Soil_Type_31                          174304 non-null int64\n",
      "Soil_Type_32                          174304 non-null int64\n",
      "Soil_Type_33                          174304 non-null int64\n",
      "Soil_Type_34                          174304 non-null int64\n",
      "Soil_Type_35                          174304 non-null int64\n",
      "Soil_Type_36                          174304 non-null int64\n",
      "Soil_Type_37                          174304 non-null int64\n",
      "Soil_Type_38                          174304 non-null int64\n",
      "Soil_Type_39                          174304 non-null int64\n",
      "Soil_Type_40                          174304 non-null int64\n",
      "Wilderness_Area_1                     174304 non-null int64\n",
      "Wilderness_Area_2                     174304 non-null int64\n",
      "Wilderness_Area_3                     174304 non-null int64\n",
      "Wilderness_Area_4                     174304 non-null int64\n",
      "dtypes: float64(19), int64(44)\n",
      "memory usage: 85.1 MB\n"
     ]
    }
   ],
   "source": [
    "X_test.info()"
   ]
  },
  {
   "cell_type": "code",
   "execution_count": 37,
   "metadata": {},
   "outputs": [
    {
     "data": {
      "text/plain": [
       "Text(0.5,0,'Target Class')"
      ]
     },
     "execution_count": 37,
     "metadata": {},
     "output_type": "execute_result"
    },
    {
     "data": {
      "image/png": "[encoded data removed]",
      "text/plain": [
       "<matplotlib.figure.Figure at 0x7f0b0f0e5ac8>"
      ]
     },
     "metadata": {},
     "output_type": "display_data"
    }
   ],
   "source": [
    "ax=sns.countplot(x='Cover_Type', data=train_df);\n",
    "total=float(len(data))\n",
    "plt.title('Frequency of the target class in the train Data Set')\n",
    "plt.ylabel('Frequency of the Target')\n",
    "plt.xlabel('Target Class')"
   ]
  },
  {
   "cell_type": "code",
   "execution_count": 38,
   "metadata": {},
   "outputs": [
    {
     "data": {
      "text/plain": [
       "Text(0.5,0,'Target Class')"
      ]
     },
     "execution_count": 38,
     "metadata": {},
     "output_type": "execute_result"
    },
    {
     "data": {
      "image/png": "[encoded data removed]",
      "text/plain": [
       "<matplotlib.figure.Figure at 0x7f0b487b69b0>"
      ]
     },
     "metadata": {},
     "output_type": "display_data"
    }
   ],
   "source": [
    "ax=sns.countplot(x='Cover_Type', data=test_df);\n",
    "total=float(len(data))\n",
    "plt.title('Frequency of the target class in the test Data Set')\n",
    "plt.ylabel('Frequency of the Target')\n",
    "plt.xlabel('Target Class')"
   ]
  },
  {
   "cell_type": "markdown",
   "metadata": {},
   "source": [
    "# Without Noise"
   ]
  },
  {
   "cell_type": "code",
   "execution_count": 39,
   "metadata": {},
   "outputs": [
    {
     "name": "stderr",
     "output_type": "stream",
     "text": [
      "Using TensorFlow backend.\n",
      "/usr/local/anaconda3/5.0.1/lib/python3.6/importlib/_bootstrap.py:219: RuntimeWarning: compiletime version 3.5 of module 'tensorflow.python.framework.fast_tensor_util' does not match runtime version 3.6\n",
      "  return f(*args, **kwds)\n"
     ]
    }
   ],
   "source": [
    "import numpy as np\n",
    "import keras\n",
    "from keras.models import Sequential\n",
    "from keras.layers import Dense, Dropout, Activation\n",
    "\n",
    "import tensorflow as tf\n",
    "from keras.layers import Dense, Dropout, Flatten,BatchNormalization\n",
    "from keras.optimizers import SGD,Adam\n",
    "import keras.backend as K\n",
    "import keras.callbacks\n",
    "from keras import regularizers"
   ]
  },
  {
   "cell_type": "code",
   "execution_count": 40,
   "metadata": {},
   "outputs": [
    {
     "data": {
      "text/plain": [
       "(406708, 1)"
      ]
     },
     "execution_count": 40,
     "metadata": {},
     "output_type": "execute_result"
    }
   ],
   "source": [
    "Y_train.shape"
   ]
  },
  {
   "cell_type": "code",
   "execution_count": 41,
   "metadata": {
    "collapsed": true
   },
   "outputs": [],
   "source": [
    "X_train_r,X_valid,Y_train_r,Y_valid=train_test_split(X_train,Y_train,test_size=0.1,random_state=0,stratify=Y_train.Cover_Type)"
   ]
  },
  {
   "cell_type": "code",
   "execution_count": 61,
   "metadata": {
    "collapsed": true
   },
   "outputs": [],
   "source": [
    "nb_classes=7\n",
    "l1_num_neuron=500\n",
    "l2_num_neuron=300\n",
    "l3_num_neuron=200\n",
    "l4_num_neuron=100\n",
    "#l5_num_neuron=100\n",
    "output_neuron=nb_classes"
   ]
  },
  {
   "cell_type": "code",
   "execution_count": 72,
   "metadata": {
    "collapsed": true
   },
   "outputs": [],
   "source": [
    "layer_1 = Dense(l1_num_neuron, activation='relu',kernel_initializer='RandomUniform',kernel_regularizer=regularizers.l2(0.01), input_dim=X_train.shape[1])\n",
    "layer_2 = Dense(l2_num_neuron, activation='relu',kernel_initializer='RandomUniform',kernel_regularizer=regularizers.l2(0.01))\n",
    "layer_3 = Dense(l3_num_neuron, activation='relu',kernel_initializer='RandomUniform',kernel_regularizer=regularizers.l2(0.01))\n",
    "layer_4 = Dense(l4_num_neuron, activation='relu',kernel_initializer='RandomUniform',kernel_regularizer=regularizers.l2(0.01))\n",
    "layer_out = Dense(output_neuron, activation='softmax',kernel_regularizer=regularizers.l2(0.01))"
   ]
  },
  {
   "cell_type": "code",
   "execution_count": 73,
   "metadata": {
    "collapsed": true
   },
   "outputs": [],
   "source": [
    "mlp=Sequential()\n",
    "mlp.add(layer_1)\n",
    "mlp.add(Dropout(0.1))\n",
    "mlp.add(BatchNormalization(axis=-1, momentum=0.99, epsilon=0.01))\n",
    "mlp.add(layer_2)\n",
    "mlp.add(Dropout(0.3))\n",
    "mlp.add(BatchNormalization(axis=-1, momentum=0.99, epsilon=0.01))\n",
    "mlp.add(layer_3)\n",
    "mlp.add(Dropout(0.2))\n",
    "mlp.add(BatchNormalization(axis=-1, momentum=0.99, epsilon=0.01))\n",
    "mlp.add(layer_4)\n",
    "mlp.add(Dropout(0.2))\n",
    "mlp.add(BatchNormalization(axis=-1, momentum=0.99, epsilon=0.01))\n",
    "#mlp.add(layer_5)\n",
    "mlp.add(layer_out)"
   ]
  },
  {
   "cell_type": "code",
   "execution_count": 74,
   "metadata": {
    "collapsed": true
   },
   "outputs": [],
   "source": [
    "#optim=Adam(lr=0.01, beta_1=0.9, beta_2=0.999, epsilon=None, decay=0.0005)\n",
    "sgd = SGD(lr=0.01, momentum=0.8, decay=0.1/200, nesterov=True)\n",
    "mlp.compile(optimizer=sgd,loss='sparse_categorical_crossentropy',metrics=['accuracy'])"
   ]
  },
  {
   "cell_type": "code",
   "execution_count": 75,
   "metadata": {},
   "outputs": [
    {
     "name": "stdout",
     "output_type": "stream",
     "text": [
      "_________________________________________________________________\n",
      "Layer (type)                 Output Shape              Param #   \n",
      "=================================================================\n",
      "dense_11 (Dense)             (None, 500)               32000     \n",
      "_________________________________________________________________\n",
      "dropout_9 (Dropout)          (None, 500)               0         \n",
      "_________________________________________________________________\n",
      "batch_normalization_9 (Batch (None, 500)               2000      \n",
      "_________________________________________________________________\n",
      "dense_12 (Dense)             (None, 300)               150300    \n",
      "_________________________________________________________________\n",
      "dropout_10 (Dropout)         (None, 300)               0         \n",
      "_________________________________________________________________\n",
      "batch_normalization_10 (Batc (None, 300)               1200      \n",
      "_________________________________________________________________\n",
      "dense_13 (Dense)             (None, 200)               60200     \n",
      "_________________________________________________________________\n",
      "dropout_11 (Dropout)         (None, 200)               0         \n",
      "_________________________________________________________________\n",
      "batch_normalization_11 (Batc (None, 200)               800       \n",
      "_________________________________________________________________\n",
      "dense_14 (Dense)             (None, 100)               20100     \n",
      "_________________________________________________________________\n",
      "dropout_12 (Dropout)         (None, 100)               0         \n",
      "_________________________________________________________________\n",
      "batch_normalization_12 (Batc (None, 100)               400       \n",
      "_________________________________________________________________\n",
      "dense_15 (Dense)             (None, 7)                 707       \n",
      "=================================================================\n",
      "Total params: 267,707\n",
      "Trainable params: 265,507\n",
      "Non-trainable params: 2,200\n",
      "_________________________________________________________________\n"
     ]
    }
   ],
   "source": [
    "mlp.summary()"
   ]
  },
  {
   "cell_type": "code",
   "execution_count": 76,
   "metadata": {},
   "outputs": [
    {
     "data": {
      "text/plain": [
       "(366037, 1)"
      ]
     },
     "execution_count": 76,
     "metadata": {},
     "output_type": "execute_result"
    }
   ],
   "source": [
    "Y_train_r.shape"
   ]
  },
  {
   "cell_type": "code",
   "execution_count": 77,
   "metadata": {},
   "outputs": [
    {
     "name": "stdout",
     "output_type": "stream",
     "text": [
      "Train on 366037 samples, validate on 40671 samples\n",
      "Epoch 1/200\n",
      "366037/366037 [==============================] - 12s 32us/step - loss: 1.9757 - acc: 0.7364 - val_loss: 1.2781 - val_acc: 0.7447\n",
      "Epoch 2/200\n",
      "366037/366037 [==============================] - 11s 31us/step - loss: 0.9878 - acc: 0.7845 - val_loss: 0.8367 - val_acc: 0.7854\n",
      "Epoch 3/200\n",
      "366037/366037 [==============================] - 11s 31us/step - loss: 0.7150 - acc: 0.8080 - val_loss: 0.6156 - val_acc: 0.8292\n",
      "Epoch 4/200\n",
      "366037/366037 [==============================] - 11s 31us/step - loss: 0.6043 - acc: 0.8259 - val_loss: 0.5509 - val_acc: 0.8430\n",
      "Epoch 5/200\n",
      "366037/366037 [==============================] - 11s 31us/step - loss: 0.5509 - acc: 0.8362 - val_loss: 0.5254 - val_acc: 0.8446\n",
      "Epoch 6/200\n",
      "366037/366037 [==============================] - 11s 31us/step - loss: 0.5193 - acc: 0.8455 - val_loss: 0.4768 - val_acc: 0.8605\n",
      "Epoch 7/200\n",
      "366037/366037 [==============================] - 11s 31us/step - loss: 0.4998 - acc: 0.8504 - val_loss: 0.4722 - val_acc: 0.8626\n",
      "Epoch 8/200\n",
      "366037/366037 [==============================] - 11s 30us/step - loss: 0.4824 - acc: 0.8562 - val_loss: 0.4531 - val_acc: 0.8675\n",
      "Epoch 9/200\n",
      "366037/366037 [==============================] - 11s 31us/step - loss: 0.4724 - acc: 0.8600 - val_loss: 0.4643 - val_acc: 0.8632\n",
      "Epoch 10/200\n",
      "366037/366037 [==============================] - 11s 31us/step - loss: 0.4631 - acc: 0.8638 - val_loss: 0.4182 - val_acc: 0.8828\n",
      "Epoch 11/200\n",
      "366037/366037 [==============================] - 11s 31us/step - loss: 0.4539 - acc: 0.8673 - val_loss: 0.4422 - val_acc: 0.8719\n",
      "Epoch 12/200\n",
      "366037/366037 [==============================] - 11s 31us/step - loss: 0.4479 - acc: 0.8700 - val_loss: 0.4128 - val_acc: 0.8848\n",
      "Epoch 13/200\n",
      "366037/366037 [==============================] - 11s 31us/step - loss: 0.4422 - acc: 0.8720 - val_loss: 0.3882 - val_acc: 0.8955\n",
      "Epoch 14/200\n",
      "366037/366037 [==============================] - 11s 31us/step - loss: 0.4360 - acc: 0.8750 - val_loss: 0.4081 - val_acc: 0.8869\n",
      "Epoch 15/200\n",
      "366037/366037 [==============================] - 11s 31us/step - loss: 0.4325 - acc: 0.8762 - val_loss: 0.4088 - val_acc: 0.8848\n",
      "Epoch 16/200\n",
      "366037/366037 [==============================] - 11s 31us/step - loss: 0.4274 - acc: 0.8784 - val_loss: 0.3935 - val_acc: 0.8906\n",
      "Epoch 17/200\n",
      "366037/366037 [==============================] - 11s 31us/step - loss: 0.4246 - acc: 0.8794 - val_loss: 0.3772 - val_acc: 0.8979\n",
      "Epoch 18/200\n",
      "366037/366037 [==============================] - 11s 31us/step - loss: 0.4199 - acc: 0.8817 - val_loss: 0.3739 - val_acc: 0.9011\n",
      "Epoch 19/200\n",
      "366037/366037 [==============================] - 11s 31us/step - loss: 0.4181 - acc: 0.8820 - val_loss: 0.3716 - val_acc: 0.9001\n",
      "Epoch 20/200\n",
      "366037/366037 [==============================] - 11s 31us/step - loss: 0.4147 - acc: 0.8838 - val_loss: 0.3609 - val_acc: 0.9056\n",
      "Epoch 21/200\n",
      "366037/366037 [==============================] - 11s 31us/step - loss: 0.4125 - acc: 0.8845 - val_loss: 0.3623 - val_acc: 0.9055\n",
      "Epoch 22/200\n",
      "366037/366037 [==============================] - 11s 31us/step - loss: 0.4088 - acc: 0.8858 - val_loss: 0.3636 - val_acc: 0.9054\n",
      "Epoch 23/200\n",
      "366037/366037 [==============================] - 11s 31us/step - loss: 0.4069 - acc: 0.8865 - val_loss: 0.3618 - val_acc: 0.9063\n",
      "Epoch 24/200\n",
      "366037/366037 [==============================] - 11s 31us/step - loss: 0.4049 - acc: 0.8873 - val_loss: 0.3557 - val_acc: 0.9087\n",
      "Epoch 25/200\n",
      "366037/366037 [==============================] - 11s 31us/step - loss: 0.4010 - acc: 0.8897 - val_loss: 0.3582 - val_acc: 0.9075\n",
      "Epoch 26/200\n",
      "366037/366037 [==============================] - 11s 31us/step - loss: 0.4005 - acc: 0.8898 - val_loss: 0.3539 - val_acc: 0.9090\n",
      "Epoch 27/200\n",
      "366037/366037 [==============================] - 11s 31us/step - loss: 0.3968 - acc: 0.8913 - val_loss: 0.3525 - val_acc: 0.9086\n",
      "Epoch 28/200\n",
      "366037/366037 [==============================] - 11s 31us/step - loss: 0.3961 - acc: 0.8913 - val_loss: 0.3479 - val_acc: 0.9119\n",
      "Epoch 29/200\n",
      "366037/366037 [==============================] - 11s 31us/step - loss: 0.3940 - acc: 0.8925 - val_loss: 0.3482 - val_acc: 0.9109\n",
      "Epoch 30/200\n",
      "366037/366037 [==============================] - 12s 31us/step - loss: 0.3918 - acc: 0.8935 - val_loss: 0.3435 - val_acc: 0.9127\n",
      "Epoch 31/200\n",
      "366037/366037 [==============================] - 11s 31us/step - loss: 0.3898 - acc: 0.8944 - val_loss: 0.3397 - val_acc: 0.9159\n",
      "Epoch 32/200\n",
      "366037/366037 [==============================] - 11s 31us/step - loss: 0.3885 - acc: 0.8945 - val_loss: 0.3428 - val_acc: 0.9143\n",
      "Epoch 33/200\n",
      "366037/366037 [==============================] - 11s 31us/step - loss: 0.3864 - acc: 0.8951 - val_loss: 0.3386 - val_acc: 0.9153\n",
      "Epoch 34/200\n",
      "366037/366037 [==============================] - 11s 31us/step - loss: 0.3869 - acc: 0.8955 - val_loss: 0.3422 - val_acc: 0.9146\n",
      "Epoch 35/200\n",
      "366037/366037 [==============================] - 11s 31us/step - loss: 0.3863 - acc: 0.8951 - val_loss: 0.3461 - val_acc: 0.9111\n",
      "Epoch 36/200\n",
      "366037/366037 [==============================] - 11s 31us/step - loss: 0.3846 - acc: 0.8960 - val_loss: 0.3345 - val_acc: 0.9166\n",
      "Epoch 37/200\n",
      "366037/366037 [==============================] - 11s 31us/step - loss: 0.3829 - acc: 0.8968 - val_loss: 0.3321 - val_acc: 0.9176\n",
      "Epoch 38/200\n",
      "366037/366037 [==============================] - 12s 32us/step - loss: 0.3802 - acc: 0.8975 - val_loss: 0.3352 - val_acc: 0.9180\n",
      "Epoch 39/200\n",
      "366037/366037 [==============================] - 11s 30us/step - loss: 0.3801 - acc: 0.8975 - val_loss: 0.3298 - val_acc: 0.9199\n",
      "Epoch 40/200\n",
      "366037/366037 [==============================] - 11s 31us/step - loss: 0.3788 - acc: 0.8988 - val_loss: 0.3353 - val_acc: 0.9169\n",
      "Epoch 41/200\n",
      "366037/366037 [==============================] - 11s 31us/step - loss: 0.3794 - acc: 0.8983 - val_loss: 0.3307 - val_acc: 0.9189\n",
      "Epoch 42/200\n",
      "366037/366037 [==============================] - 11s 30us/step - loss: 0.3768 - acc: 0.8993 - val_loss: 0.3279 - val_acc: 0.9188\n",
      "Epoch 43/200\n",
      "366037/366037 [==============================] - 11s 31us/step - loss: 0.3754 - acc: 0.9001 - val_loss: 0.3293 - val_acc: 0.9191\n",
      "Epoch 44/200\n",
      "366037/366037 [==============================] - 11s 31us/step - loss: 0.3754 - acc: 0.8995 - val_loss: 0.3243 - val_acc: 0.9216\n",
      "Epoch 45/200\n",
      "366037/366037 [==============================] - 11s 31us/step - loss: 0.3743 - acc: 0.9006 - val_loss: 0.3242 - val_acc: 0.9219\n",
      "Epoch 46/200\n",
      "366037/366037 [==============================] - 11s 31us/step - loss: 0.3718 - acc: 0.9013 - val_loss: 0.3224 - val_acc: 0.9222\n",
      "Epoch 47/200\n",
      "366037/366037 [==============================] - 12s 32us/step - loss: 0.3710 - acc: 0.9012 - val_loss: 0.3232 - val_acc: 0.9224\n",
      "Epoch 48/200\n",
      "366037/366037 [==============================] - 11s 31us/step - loss: 0.3717 - acc: 0.9015 - val_loss: 0.3287 - val_acc: 0.9179\n",
      "Epoch 49/200\n",
      "366037/366037 [==============================] - 11s 31us/step - loss: 0.3700 - acc: 0.9025 - val_loss: 0.3223 - val_acc: 0.9196\n",
      "Epoch 50/200\n",
      "366037/366037 [==============================] - 11s 31us/step - loss: 0.3695 - acc: 0.9021 - val_loss: 0.3190 - val_acc: 0.9231\n",
      "Epoch 51/200\n",
      "366037/366037 [==============================] - 11s 31us/step - loss: 0.3697 - acc: 0.9017 - val_loss: 0.3235 - val_acc: 0.9211\n",
      "Epoch 52/200\n",
      "366037/366037 [==============================] - 11s 31us/step - loss: 0.3684 - acc: 0.9021 - val_loss: 0.3189 - val_acc: 0.9240\n",
      "Epoch 53/200\n",
      "366037/366037 [==============================] - 11s 31us/step - loss: 0.3674 - acc: 0.9031 - val_loss: 0.3181 - val_acc: 0.9237\n",
      "Epoch 54/200\n",
      "366037/366037 [==============================] - 11s 31us/step - loss: 0.3663 - acc: 0.9033 - val_loss: 0.3168 - val_acc: 0.9240\n",
      "Epoch 55/200\n",
      "366037/366037 [==============================] - 11s 31us/step - loss: 0.3658 - acc: 0.9037 - val_loss: 0.3176 - val_acc: 0.9237\n",
      "Epoch 56/200\n",
      "366037/366037 [==============================] - 12s 32us/step - loss: 0.3659 - acc: 0.9035 - val_loss: 0.3145 - val_acc: 0.9237\n",
      "Epoch 57/200\n",
      "366037/366037 [==============================] - 11s 31us/step - loss: 0.3637 - acc: 0.9051 - val_loss: 0.3147 - val_acc: 0.9232\n",
      "Epoch 58/200\n"
     ]
    },
    {
     "name": "stdout",
     "output_type": "stream",
     "text": [
      "366037/366037 [==============================] - 11s 31us/step - loss: 0.3635 - acc: 0.9047 - val_loss: 0.3122 - val_acc: 0.9265\n",
      "Epoch 59/200\n",
      "366037/366037 [==============================] - 11s 31us/step - loss: 0.3635 - acc: 0.9041 - val_loss: 0.3141 - val_acc: 0.9253\n",
      "Epoch 60/200\n",
      "366037/366037 [==============================] - 11s 31us/step - loss: 0.3618 - acc: 0.9050 - val_loss: 0.3129 - val_acc: 0.9261\n",
      "Epoch 61/200\n",
      "366037/366037 [==============================] - 11s 31us/step - loss: 0.3619 - acc: 0.9050 - val_loss: 0.3109 - val_acc: 0.9263\n",
      "Epoch 62/200\n",
      "366037/366037 [==============================] - 11s 31us/step - loss: 0.3616 - acc: 0.9054 - val_loss: 0.3139 - val_acc: 0.9250\n",
      "Epoch 63/200\n",
      "366037/366037 [==============================] - 11s 30us/step - loss: 0.3607 - acc: 0.9059 - val_loss: 0.3119 - val_acc: 0.9262\n",
      "Epoch 64/200\n",
      "366037/366037 [==============================] - 11s 31us/step - loss: 0.3603 - acc: 0.9059 - val_loss: 0.3097 - val_acc: 0.9262\n",
      "Epoch 65/200\n",
      "366037/366037 [==============================] - 11s 31us/step - loss: 0.3596 - acc: 0.9062 - val_loss: 0.3148 - val_acc: 0.9249\n",
      "Epoch 66/200\n",
      "366037/366037 [==============================] - 11s 31us/step - loss: 0.3591 - acc: 0.9065 - val_loss: 0.3076 - val_acc: 0.9271\n",
      "Epoch 67/200\n",
      "366037/366037 [==============================] - 11s 31us/step - loss: 0.3593 - acc: 0.9062 - val_loss: 0.3121 - val_acc: 0.9268\n",
      "Epoch 68/200\n",
      "366037/366037 [==============================] - 11s 31us/step - loss: 0.3584 - acc: 0.9061 - val_loss: 0.3095 - val_acc: 0.9273\n",
      "Epoch 69/200\n",
      "366037/366037 [==============================] - 11s 31us/step - loss: 0.3570 - acc: 0.9075 - val_loss: 0.3064 - val_acc: 0.9294\n",
      "Epoch 70/200\n",
      "366037/366037 [==============================] - 11s 31us/step - loss: 0.3566 - acc: 0.9069 - val_loss: 0.3092 - val_acc: 0.9272\n",
      "Epoch 71/200\n",
      "366037/366037 [==============================] - 11s 31us/step - loss: 0.3578 - acc: 0.9067 - val_loss: 0.3069 - val_acc: 0.9280\n",
      "Epoch 72/200\n",
      "366037/366037 [==============================] - 11s 31us/step - loss: 0.3565 - acc: 0.9071 - val_loss: 0.3068 - val_acc: 0.9268\n",
      "Epoch 73/200\n",
      "366037/366037 [==============================] - 11s 31us/step - loss: 0.3554 - acc: 0.9081 - val_loss: 0.3093 - val_acc: 0.9265\n",
      "Epoch 00073: early stopping\n"
     ]
    }
   ],
   "source": [
    "from keras.callbacks import EarlyStopping\n",
    "train_res = mlp.fit(X_train_r.values,\n",
    "                      Y_train_r.values.ravel(),\n",
    "                      batch_size=500,\n",
    "                      epochs=200,\n",
    "                      verbose=True,\n",
    "                      validation_data=(X_valid.values,\n",
    "                                       Y_valid.values.ravel()),\n",
    "                      callbacks=\n",
    "                      [EarlyStopping(patience=4,mode='min',\n",
    "                                     verbose=True)]\n",
    "                      )"
   ]
  },
  {
   "cell_type": "code",
   "execution_count": 78,
   "metadata": {},
   "outputs": [
    {
     "name": "stdout",
     "output_type": "stream",
     "text": [
      "174304/174304 [==============================] - 9s 52us/step\n"
     ]
    }
   ],
   "source": [
    "predictions=mlp.predict_classes(X_test.values,verbose=True)"
   ]
  },
  {
   "cell_type": "code",
   "execution_count": 79,
   "metadata": {},
   "outputs": [
    {
     "data": {
      "text/plain": [
       "0.9266626124472187"
      ]
     },
     "execution_count": 79,
     "metadata": {},
     "output_type": "execute_result"
    }
   ],
   "source": [
    "from sklearn.metrics import accuracy_score\n",
    "accuracy_score(Y_test.values.ravel(),predictions)"
   ]
  },
  {
   "cell_type": "code",
   "execution_count": 80,
   "metadata": {
    "collapsed": true
   },
   "outputs": [],
   "source": [
    "import itertools\n",
    "\n",
    "def plot_confusion_matrix(axd,cm, classes,\n",
    "                          normalize=False,\n",
    "                          title='Confusion matrix',\n",
    "                          cmap=None):\n",
    "    \"\"\"\n",
    "    This function prints and plots the confusion matrix.\n",
    "    Normalization can be applied by setting `normalize=True`.\n",
    "    \"\"\"\n",
    "    #plt.sca(axd)\n",
    "    plt.figure(figsize=(15,10))\n",
    "    plt.imshow(cm, interpolation='nearest', cmap=plt.cm.Blues)\n",
    "    plt.title(title)\n",
    "    plt.colorbar()\n",
    "    tick_marks = np.arange(len(classes))\n",
    "    plt.xticks(tick_marks, classes)\n",
    "    plt.yticks(tick_marks, classes)\n",
    "    if normalize:\n",
    "        cm = cm.astype('float') / cm.sum(axis=1)[:, np.newaxis]\n",
    "    else:\n",
    "        1#print('Confusion matrix, without normalization')\n",
    "    thresh = cm.max() / 2.\n",
    "    for i, j in itertools.product(range(cm.shape[0]), range(cm.shape[1])):\n",
    "        plt.text(j, i, cm[i, j],\n",
    "                 horizontalalignment=\"center\",\n",
    "                 color=\"white\" if cm[i, j] > thresh else \"black\",size=16)\n",
    "    #plt.tight_layout()\n",
    "    plt.ylabel('True label')\n",
    "    plt.xlabel('Predicted label')\n",
    "    plt.grid('off')"
   ]
  },
  {
   "cell_type": "code",
   "execution_count": 81,
   "metadata": {
    "collapsed": true
   },
   "outputs": [],
   "source": [
    "from sklearn.metrics import confusion_matrix,precision_recall_curve,auc,roc_auc_score,roc_curve,recall_score,classification_report"
   ]
  },
  {
   "cell_type": "code",
   "execution_count": 82,
   "metadata": {},
   "outputs": [
    {
     "data": {
      "text/plain": [
       "<matplotlib.figure.Figure at 0x7f09f9205ba8>"
      ]
     },
     "metadata": {},
     "output_type": "display_data"
    },
    {
     "data": {
      "image/png": "[encoded data removed]",
      "text/plain": [
       "<matplotlib.figure.Figure at 0x7f09f9205be0>"
      ]
     },
     "metadata": {},
     "output_type": "display_data"
    }
   ],
   "source": [
    "cnf_matrix = confusion_matrix(Y_test,predictions)\n",
    "np.set_printoptions(precision=2)\n",
    "\n",
    "#print(\"Recall metric in the testing dataset: \", cnf_matrix[1,1]/(cnf_matrix[1,0]+cnf_matrix[1,1]))\n",
    "\n",
    "# Plot non-normalized confusion matrix\n",
    "class_names = [0,1,2,3,4,5,6]\n",
    "plt.figure(figsize=(15, 10))\n",
    "plot_confusion_matrix(0,cnf_matrix\n",
    "                      , classes=class_names\n",
    "                      , title='Confusion matrix')\n",
    "plt.grid('off')\n",
    "plt.show()"
   ]
  },
  {
   "cell_type": "code",
   "execution_count": 60,
   "metadata": {},
   "outputs": [],
   "source": [
    "#np.random.get_state()"
   ]
  },
  {
   "cell_type": "code",
   "execution_count": 71,
   "metadata": {},
   "outputs": [
    {
     "name": "stdout",
     "output_type": "stream",
     "text": [
      "             precision    recall  f1-score   support\n",
      "\n",
      "          0       0.93      0.93      0.93     63552\n",
      "          1       0.94      0.95      0.94     84991\n",
      "          2       0.91      0.92      0.91     10726\n",
      "          3       0.91      0.70      0.79       824\n",
      "          4       0.84      0.72      0.78      2848\n",
      "          5       0.84      0.84      0.84      5210\n",
      "          6       0.94      0.94      0.94      6153\n",
      "\n",
      "avg / total       0.93      0.93      0.93    174304\n",
      "\n"
     ]
    }
   ],
   "source": [
    "print(classification_report(Y_test.values,predictions))"
   ]
  },
  {
   "cell_type": "markdown",
   "metadata": {},
   "source": [
    "# Noise conisderation"
   ]
  },
  {
   "cell_type": "code",
   "execution_count": 83,
   "metadata": {
    "collapsed": true
   },
   "outputs": [],
   "source": [
    "import numpy as np\n",
    "import keras\n",
    "from keras.models import Sequential\n",
    "from keras.layers import Dense, Dropout, Activation\n",
    "\n",
    "import tensorflow as tf\n",
    "from keras.layers import Dense, Dropout, Flatten,BatchNormalization\n",
    "from keras.optimizers import SGD,Adam\n",
    "import keras.backend as K\n",
    "import keras.callbacks\n",
    "from keras import regularizers"
   ]
  },
  {
   "cell_type": "code",
   "execution_count": 84,
   "metadata": {
    "collapsed": true
   },
   "outputs": [],
   "source": [
    "plt.style.use('ggplot')"
   ]
  },
  {
   "cell_type": "code",
   "execution_count": 85,
   "metadata": {
    "collapsed": true
   },
   "outputs": [],
   "source": [
    "NOISE_LEVEL=0.3  # what part of training labels are permuted\n",
    "#perm = np.array([6, 0, 4, 2, 1, 3, 5])  # noise permutation (from Reed)"
   ]
  },
  {
   "cell_type": "code",
   "execution_count": 86,
   "metadata": {
    "collapsed": true
   },
   "outputs": [],
   "source": [
    "Y_train=train_df['Cover_Type']-1"
   ]
  },
  {
   "cell_type": "code",
   "execution_count": 87,
   "metadata": {
    "collapsed": true
   },
   "outputs": [],
   "source": [
    "Y_test=test_df['Cover_Type']-1"
   ]
  },
  {
   "cell_type": "code",
   "execution_count": 88,
   "metadata": {
    "collapsed": true
   },
   "outputs": [],
   "source": [
    "#noise = perm[Y_train]"
   ]
  },
  {
   "cell_type": "code",
   "execution_count": 89,
   "metadata": {
    "collapsed": true
   },
   "outputs": [],
   "source": [
    "seed=0\n",
    "nb_classes = 7"
   ]
  },
  {
   "cell_type": "code",
   "execution_count": 90,
   "metadata": {
    "collapsed": true
   },
   "outputs": [],
   "source": [
    "#X_train=X_train_red_rf_features"
   ]
  },
  {
   "cell_type": "code",
   "execution_count": 91,
   "metadata": {
    "collapsed": true
   },
   "outputs": [],
   "source": [
    "n_train_data,dim=X_train.shape\n",
    "n_test_data,dim_test=X_test.shape\n",
    "Y_train=Y_train.values.reshape(n_train_data,1)\n",
    "Y_test=Y_test.values.reshape(n_test_data,1)"
   ]
  },
  {
   "cell_type": "code",
   "execution_count": 92,
   "metadata": {
    "collapsed": true
   },
   "outputs": [],
   "source": [
    "nhiddens = [500,300,200,100]\n",
    "DROPOUT=0.3\n",
    "#opt='adam'\n",
    "batch_size = 300\n",
    "patience = 4  # Early stopping patience\n",
    "epochs = 400  # number of epochs to train on"
   ]
  },
  {
   "cell_type": "code",
   "execution_count": 240,
   "metadata": {
    "collapsed": true
   },
   "outputs": [],
   "source": [
    "def castLabel(y, t):\n",
    "    if -1 in y:\n",
    "        if t == -1:\n",
    "            y_new = y\n",
    "        elif t == 0:\n",
    "            y_new = np.divide((y + 1) ,2)\n",
    "        elif t == 2:\n",
    "            y_new = np.divide((y + 3),2)\n",
    "    elif 0 in y:\n",
    "        if (t == -1):\n",
    "            y_new = (y * 2) - 1\n",
    "        elif (t == 0):\n",
    "            y_new = y\n",
    "        elif (t == 2):\n",
    "            y_new = y + 1\n",
    "    elif 2 in y:\n",
    "        if (t == -1):\n",
    "            y_new = (y * 2) - 3\n",
    "        elif (t == 0):\n",
    "            y_new = y - 1\n",
    "        elif (t == 2):\n",
    "            y_new = y\n",
    "    return y_new"
   ]
  },
  {
   "cell_type": "code",
   "execution_count": 422,
   "metadata": {
    "collapsed": true
   },
   "outputs": [],
   "source": [
    "def injectLabelNoise(y,flipRate):\n",
    "    fd  =  -np.ones((y.shape))\n",
    "    yz  =  castLabel(y,-1)\n",
    "    y   =  castLabel(y,2)\n",
    "\n",
    "    # sampling some numbers\n",
    "    for i in range(0,2):\n",
    "        prob    = np.random.rand(y.shape[0],1)\n",
    "        idx     = np.where((y==i+1) & (prob <= flipRate[i]))\n",
    "        #print(idx)\n",
    "        yz[idx[0]] = -yz[idx[0]]\n",
    "        fd[idx[0]] = -fd[idx[0]]\n",
    "    yz = castLabel(yz,2)\n",
    "    return yz, fd"
   ]
  },
  {
   "cell_type": "code",
   "execution_count": 499,
   "metadata": {},
   "outputs": [],
   "source": [
    "Y_train_df=pd.DataFrame(Y_train,columns=['Cover_Type'])\n",
    "Y_train_df=pd.get_dummies(Y_train_df,columns=['Cover_Type'])"
   ]
  },
  {
   "cell_type": "code",
   "execution_count": 500,
   "metadata": {},
   "outputs": [
    {
     "data": {
      "text/plain": [
       "array([[0],\n",
       "       [0],\n",
       "       [0],\n",
       "       ..., \n",
       "       [0],\n",
       "       [1],\n",
       "       [0]])"
      ]
     },
     "execution_count": 500,
     "metadata": {},
     "output_type": "execute_result"
    }
   ],
   "source": [
    "Y_train_df[['Cover_Type_0']].values.astype(np.int64)"
   ]
  },
  {
   "cell_type": "code",
   "execution_count": 501,
   "metadata": {},
   "outputs": [],
   "source": [
    "yz_noise=pd.DataFrame()\n",
    "for i in range(0,7):\n",
    "    cols_str='Cover_Type_'+str(i)\n",
    "    yz, fd=injectLabelNoise(Y_train_df[[cols_str]].values.astype(np.int64), [0.05,0.05,0.02,0.02,0.02,0.02,0.02])\n",
    "    yz=(castLabel(yz,0))\n",
    "    yz_noise[str(i)]=yz.flatten()"
   ]
  },
  {
   "cell_type": "code",
   "execution_count": 502,
   "metadata": {
    "collapsed": true
   },
   "outputs": [],
   "source": [
    "yz=yz_noise.values\n",
    "yz=np.argmax(yz,axis=1)"
   ]
  },
  {
   "cell_type": "code",
   "execution_count": 503,
   "metadata": {},
   "outputs": [],
   "source": [
    "yz=yz.reshape(len(yz),1)"
   ]
  },
  {
   "cell_type": "code",
   "execution_count": 504,
   "metadata": {},
   "outputs": [],
   "source": [
    "NOISE= round(1. - np.mean(yz == Y_train),2)"
   ]
  },
  {
   "cell_type": "code",
   "execution_count": 505,
   "metadata": {},
   "outputs": [
    {
     "data": {
      "text/plain": [
       "0.080000000000000002"
      ]
     },
     "execution_count": 505,
     "metadata": {},
     "output_type": "execute_result"
    }
   ],
   "source": [
    "NOISE"
   ]
  },
  {
   "cell_type": "code",
   "execution_count": 506,
   "metadata": {
    "collapsed": true
   },
   "outputs": [],
   "source": [
    "Y_train_noise=yz"
   ]
  },
  {
   "cell_type": "code",
   "execution_count": 507,
   "metadata": {
    "collapsed": true
   },
   "outputs": [],
   "source": [
    "Y_train_noise=Y_train_noise.flatten()"
   ]
  },
  {
   "cell_type": "code",
   "execution_count": 508,
   "metadata": {
    "collapsed": true
   },
   "outputs": [],
   "source": [
    "#import matplotlib\n",
    "#font = {'family' : 'normal',\n",
    "#        'weight' : 'bold',\n",
    "#        'size'   : 14}\n",
    "#matplotlib.rc('font', **font)"
   ]
  },
  {
   "cell_type": "code",
   "execution_count": 509,
   "metadata": {},
   "outputs": [
    {
     "name": "stderr",
     "output_type": "stream",
     "text": [
      "/usr/local/anaconda3/5.0.1/lib/python3.6/site-packages/matplotlib/font_manager.py:1316: UserWarning: findfont: Font family ['normal'] not found. Falling back to DejaVu Sans\n",
      "  (prop.get_family(), self.defaultFamily[fontext]))\n"
     ]
    },
    {
     "data": {
      "image/png": "[encoded data removed]",
      "text/plain": [
       "<matplotlib.figure.Figure at 0x7f09f8ad7240>"
      ]
     },
     "metadata": {},
     "output_type": "display_data"
    }
   ],
   "source": [
    "Y_train_df=pd.DataFrame(Y_train,columns=['Cover_Type'])\n",
    "import matplotlib.ticker as ticker\n",
    "plt.figure(figsize=(12,5))\n",
    "ax=sns.countplot(x='Cover_Type', data=Y_train_df);\n",
    "plt.style.use('ggplot')\n",
    "total=float(len(Y_train_df))\n",
    "plt.title('Frequency of the target class in the Train Set before noise');\n",
    "plt.ylabel('Observation Count of Target Class');\n",
    "plt.xlabel('Cover Type - Target Class');\n",
    "ax2=ax.twinx()\n",
    "\n",
    "# Switch so count axis is on right, frequency on left\n",
    "ax2.yaxis.tick_left()\n",
    "ax.yaxis.tick_right()\n",
    "\n",
    "# Also switch the labels over\n",
    "ax.yaxis.set_label_position('right')\n",
    "ax2.yaxis.set_label_position('left')\n",
    "\n",
    "ax2.set_ylabel('Frequency [%]')\n",
    "\n",
    "for p in ax.patches:\n",
    "    x=p.get_bbox().get_points()[:,0]\n",
    "    y=p.get_bbox().get_points()[1,1]\n",
    "    ax.annotate('{:.3f}%'.format(100.*y/total), (x.mean(), y), \n",
    "            ha='center', va='bottom') # set the alignment of the text\n",
    "\n",
    "# Use a LinearLocator to ensure the correct number of ticks\n",
    "ax.yaxis.set_major_locator(ticker.LinearLocator(11))\n",
    "\n",
    "# Fix the frequency range to 0-100\n",
    "ax2.set_ylim(0,100)\n",
    "ax.set_ylim(0,total)\n",
    "\n",
    "# And use a MultipleLocator to ensure a tick spacing of 10\n",
    "ax2.yaxis.set_major_locator(ticker.MultipleLocator(10))\n",
    "\n",
    "# Need to turn the grid on ax2 off, otherwise the gridlines end up on top of the bars\n",
    "ax2.grid(None)"
   ]
  },
  {
   "cell_type": "code",
   "execution_count": 510,
   "metadata": {},
   "outputs": [
    {
     "name": "stderr",
     "output_type": "stream",
     "text": [
      "/usr/local/anaconda3/5.0.1/lib/python3.6/site-packages/matplotlib/font_manager.py:1316: UserWarning: findfont: Font family ['normal'] not found. Falling back to DejaVu Sans\n",
      "  (prop.get_family(), self.defaultFamily[fontext]))\n"
     ]
    },
    {
     "data": {
      "image/png": "[encoded data removed]",
      "text/plain": [
       "<matplotlib.figure.Figure at 0x7f0adebd4278>"
      ]
     },
     "metadata": {},
     "output_type": "display_data"
    }
   ],
   "source": [
    "Y_train_df_noise=pd.DataFrame(Y_train_noise,columns=['Cover_Type'])\n",
    "import matplotlib.ticker as ticker\n",
    "plt.figure(figsize=(12,5))\n",
    "ax=sns.countplot(x='Cover_Type', data=Y_train_df_noise);\n",
    "plt.style.use('ggplot')\n",
    "total=float(len(Y_train_df_noise))\n",
    "plt.title('Frequency of the target class in the Train Set after noise');\n",
    "plt.ylabel('Observation Count of Target Class');\n",
    "plt.xlabel('Cover Type - Target Class');\n",
    "ax2=ax.twinx()\n",
    "\n",
    "# Switch so count axis is on right, frequency on left\n",
    "ax2.yaxis.tick_left()\n",
    "ax.yaxis.tick_right()\n",
    "\n",
    "# Also switch the labels over\n",
    "ax.yaxis.set_label_position('right')\n",
    "ax2.yaxis.set_label_position('left')\n",
    "\n",
    "ax2.set_ylabel('Frequency [%]')\n",
    "\n",
    "for p in ax.patches:\n",
    "    x=p.get_bbox().get_points()[:,0]\n",
    "    y=p.get_bbox().get_points()[1,1]\n",
    "    ax.annotate('{:.3f}%'.format(100.*y/total), (x.mean(), y), \n",
    "            ha='center', va='bottom') # set the alignment of the text\n",
    "\n",
    "# Use a LinearLocator to ensure the correct number of ticks\n",
    "ax.yaxis.set_major_locator(ticker.LinearLocator(11))\n",
    "\n",
    "# Fix the frequency range to 0-100\n",
    "ax2.set_ylim(0,100)\n",
    "ax.set_ylim(0,total)\n",
    "\n",
    "# And use a MultipleLocator to ensure a tick spacing of 10\n",
    "ax2.yaxis.set_major_locator(ticker.MultipleLocator(10))\n",
    "\n",
    "# Need to turn the grid on ax2 off, otherwise the gridlines end up on top of the bars\n",
    "ax2.grid(None)"
   ]
  },
  {
   "cell_type": "code",
   "execution_count": 511,
   "metadata": {
    "collapsed": true
   },
   "outputs": [],
   "source": [
    "from sklearn.model_selection import StratifiedShuffleSplit\n",
    "#_, noise_idx = next(iter(StratifiedShuffleSplit(n_splits=1,\n",
    "#                                                test_size=NOISE_LEVEL,\n",
    "#                                                random_state=seed).split(X_train,Y_train.ravel())))\n",
    "#Y_train_noise = Y_train.copy()\n",
    "#noise=noise.reshape(n_train_data,1)\n",
    "#Y_train_noise[noise_idx] = noise[noise_idx]"
   ]
  },
  {
   "cell_type": "code",
   "execution_count": 512,
   "metadata": {
    "collapsed": true
   },
   "outputs": [],
   "source": [
    "#1. - np.mean(Y_train_noise == Y_train)"
   ]
  },
  {
   "cell_type": "code",
   "execution_count": 513,
   "metadata": {},
   "outputs": [],
   "source": [
    "# break the training set to 10% validation which we will use for early stopping.\n",
    "train_idx, val_idx = next(iter(\n",
    "        StratifiedShuffleSplit(n_splits=1, test_size=0.1,\n",
    "                               random_state=0).split(X_train, Y_train_noise))) #.values\n",
    "X_train=X_train\n",
    "X_train_train = X_train[train_idx]\n",
    "Y_train_train = Y_train_noise[train_idx]\n",
    "X_train_val = X_train[val_idx]\n",
    "Y_train_val = Y_train_noise[val_idx]"
   ]
  },
  {
   "cell_type": "code",
   "execution_count": null,
   "metadata": {
    "collapsed": true
   },
   "outputs": [],
   "source": []
  },
  {
   "cell_type": "code",
   "execution_count": 514,
   "metadata": {
    "collapsed": true
   },
   "outputs": [],
   "source": [
    "from keras import regularizers\n",
    "from keras.models import Sequential\n",
    "hidden_layers = Sequential(name='hidden')"
   ]
  },
  {
   "cell_type": "code",
   "execution_count": 515,
   "metadata": {
    "collapsed": true
   },
   "outputs": [],
   "source": [
    "from keras.layers import Dense, Dropout, Activation\n",
    "for i, nhidden in enumerate(nhiddens):\n",
    "    hidden_layers.add(Dense(nhidden,kernel_regularizer=regularizers.l2(0.01),\n",
    "                            input_shape=(X_train.shape[1],) if i == 0 else []))\n",
    "    hidden_layers.add(Activation('relu'))\n",
    "    hidden_layers.add(BatchNormalization(axis=-1, momentum=0.99, epsilon=0.01))\n",
    "    hidden_layers.add(Dropout(DROPOUT))"
   ]
  },
  {
   "cell_type": "code",
   "execution_count": 516,
   "metadata": {
    "collapsed": true
   },
   "outputs": [],
   "source": [
    "from keras.layers import Input\n",
    "train_inputs = Input(shape=(X_train.shape[1],))"
   ]
  },
  {
   "cell_type": "code",
   "execution_count": 517,
   "metadata": {
    "collapsed": true
   },
   "outputs": [],
   "source": [
    "last_hidden = hidden_layers(train_inputs)\n",
    "baseline_output = Dense(nb_classes, activation='softmax', name='baseline',kernel_regularizer=regularizers.l2(0.01))(last_hidden)"
   ]
  },
  {
   "cell_type": "code",
   "execution_count": 518,
   "metadata": {
    "collapsed": true
   },
   "outputs": [],
   "source": [
    "from keras.models import Model\n",
    "sgd = SGD(lr=0.01, momentum=0.8, decay=0.1/200, nesterov=True)\n",
    "model = Model(inputs=train_inputs, outputs=baseline_output)\n",
    "model.compile(loss='sparse_categorical_crossentropy',\n",
    "              optimizer=sgd,\n",
    "              metrics=['accuracy'])"
   ]
  },
  {
   "cell_type": "code",
   "execution_count": 519,
   "metadata": {},
   "outputs": [
    {
     "name": "stdout",
     "output_type": "stream",
     "text": [
      "_________________________________________________________________\n",
      "Layer (type)                 Output Shape              Param #   \n",
      "=================================================================\n",
      "input_3 (InputLayer)         (None, 63)                0         \n",
      "_________________________________________________________________\n",
      "hidden (Sequential)          (None, 100)               267000    \n",
      "_________________________________________________________________\n",
      "baseline (Dense)             (None, 7)                 707       \n",
      "=================================================================\n",
      "Total params: 267,707\n",
      "Trainable params: 265,507\n",
      "Non-trainable params: 2,200\n",
      "_________________________________________________________________\n"
     ]
    }
   ],
   "source": [
    "model.summary()"
   ]
  },
  {
   "cell_type": "code",
   "execution_count": 520,
   "metadata": {
    "collapsed": true
   },
   "outputs": [],
   "source": [
    "def eval(model,y_test=Y_test):\n",
    "    return dict(zip(model.metrics_names,model.evaluate(X_test.values,y_test, verbose=False)))"
   ]
  },
  {
   "cell_type": "code",
   "execution_count": 521,
   "metadata": {},
   "outputs": [
    {
     "data": {
      "text/plain": [
       "{'acc': 0.11153501927666605, 'loss': 10.695745457284534}"
      ]
     },
     "execution_count": 521,
     "metadata": {},
     "output_type": "execute_result"
    }
   ],
   "source": [
    "eval(model)"
   ]
  },
  {
   "cell_type": "code",
   "execution_count": 522,
   "metadata": {},
   "outputs": [
    {
     "name": "stdout",
     "output_type": "stream",
     "text": [
      "Train on 366037 samples, validate on 40671 samples\n",
      "Epoch 1/400\n",
      "366037/366037 [==============================] - 15s 41us/step - loss: 4.5423 - acc: 0.6642 - val_loss: 2.0778 - val_acc: 0.7002\n",
      "Epoch 2/400\n",
      "366037/366037 [==============================] - 14s 38us/step - loss: 1.4940 - acc: 0.7025 - val_loss: 1.0921 - val_acc: 0.7279\n",
      "Epoch 3/400\n",
      "366037/366037 [==============================] - 14s 38us/step - loss: 0.9866 - acc: 0.7208 - val_loss: 0.8473 - val_acc: 0.7478\n",
      "Epoch 4/400\n",
      "366037/366037 [==============================] - 14s 38us/step - loss: 0.8393 - acc: 0.7351 - val_loss: 0.7644 - val_acc: 0.7588\n",
      "Epoch 5/400\n",
      "366037/366037 [==============================] - 14s 38us/step - loss: 0.7792 - acc: 0.7461 - val_loss: 0.7277 - val_acc: 0.7661\n",
      "Epoch 6/400\n",
      "366037/366037 [==============================] - 14s 38us/step - loss: 0.7506 - acc: 0.7524 - val_loss: 0.7035 - val_acc: 0.7726\n",
      "Epoch 7/400\n",
      "366037/366037 [==============================] - 14s 38us/step - loss: 0.7323 - acc: 0.7586 - val_loss: 0.6861 - val_acc: 0.7824\n",
      "Epoch 8/400\n",
      "366037/366037 [==============================] - 14s 38us/step - loss: 0.7206 - acc: 0.7636 - val_loss: 0.6773 - val_acc: 0.7858\n",
      "Epoch 9/400\n",
      "366037/366037 [==============================] - 14s 38us/step - loss: 0.7119 - acc: 0.7665 - val_loss: 0.6754 - val_acc: 0.7859\n",
      "Epoch 10/400\n",
      "366037/366037 [==============================] - 14s 38us/step - loss: 0.7054 - acc: 0.7705 - val_loss: 0.6597 - val_acc: 0.7929\n",
      "Epoch 11/400\n",
      "366037/366037 [==============================] - 14s 38us/step - loss: 0.6990 - acc: 0.7737 - val_loss: 0.6531 - val_acc: 0.7979\n",
      "Epoch 12/400\n",
      "366037/366037 [==============================] - 14s 38us/step - loss: 0.6954 - acc: 0.7756 - val_loss: 0.6596 - val_acc: 0.7919\n",
      "Epoch 13/400\n",
      "366037/366037 [==============================] - 14s 38us/step - loss: 0.6915 - acc: 0.7769 - val_loss: 0.6500 - val_acc: 0.7993\n",
      "Epoch 14/400\n",
      "366037/366037 [==============================] - 14s 38us/step - loss: 0.6878 - acc: 0.7796 - val_loss: 0.6433 - val_acc: 0.8012\n",
      "Epoch 15/400\n",
      "366037/366037 [==============================] - 14s 38us/step - loss: 0.6833 - acc: 0.7819 - val_loss: 0.6437 - val_acc: 0.8026\n",
      "Epoch 16/400\n",
      "366037/366037 [==============================] - 14s 38us/step - loss: 0.6816 - acc: 0.7824 - val_loss: 0.6401 - val_acc: 0.8051\n",
      "Epoch 17/400\n",
      "366037/366037 [==============================] - 14s 38us/step - loss: 0.6786 - acc: 0.7838 - val_loss: 0.6342 - val_acc: 0.8091\n",
      "Epoch 18/400\n",
      "366037/366037 [==============================] - 14s 38us/step - loss: 0.6770 - acc: 0.7856 - val_loss: 0.6331 - val_acc: 0.8077\n",
      "Epoch 19/400\n",
      "366037/366037 [==============================] - 14s 38us/step - loss: 0.6749 - acc: 0.7862 - val_loss: 0.6319 - val_acc: 0.8095\n",
      "Epoch 20/400\n",
      "366037/366037 [==============================] - 14s 38us/step - loss: 0.6731 - acc: 0.7871 - val_loss: 0.6296 - val_acc: 0.8089\n",
      "Epoch 21/400\n",
      "366037/366037 [==============================] - 14s 38us/step - loss: 0.6704 - acc: 0.7889 - val_loss: 0.6284 - val_acc: 0.8120\n",
      "Epoch 22/400\n",
      "366037/366037 [==============================] - 14s 38us/step - loss: 0.6687 - acc: 0.7896 - val_loss: 0.6286 - val_acc: 0.8123\n",
      "Epoch 23/400\n",
      "366037/366037 [==============================] - 14s 38us/step - loss: 0.6681 - acc: 0.7903 - val_loss: 0.6224 - val_acc: 0.8144\n",
      "Epoch 24/400\n",
      "366037/366037 [==============================] - 14s 39us/step - loss: 0.6651 - acc: 0.7914 - val_loss: 0.6209 - val_acc: 0.8151\n",
      "Epoch 25/400\n",
      "366037/366037 [==============================] - 14s 39us/step - loss: 0.6633 - acc: 0.7923 - val_loss: 0.6218 - val_acc: 0.8159\n",
      "Epoch 26/400\n",
      "366037/366037 [==============================] - 14s 39us/step - loss: 0.6624 - acc: 0.7934 - val_loss: 0.6173 - val_acc: 0.8191\n",
      "Epoch 27/400\n",
      "366037/366037 [==============================] - 14s 38us/step - loss: 0.6617 - acc: 0.7932 - val_loss: 0.6156 - val_acc: 0.8189\n",
      "Epoch 28/400\n",
      "366037/366037 [==============================] - 14s 38us/step - loss: 0.6590 - acc: 0.7947 - val_loss: 0.6168 - val_acc: 0.8184\n",
      "Epoch 29/400\n",
      "366037/366037 [==============================] - 14s 38us/step - loss: 0.6590 - acc: 0.7954 - val_loss: 0.6148 - val_acc: 0.8181\n",
      "Epoch 30/400\n",
      "366037/366037 [==============================] - 14s 38us/step - loss: 0.6580 - acc: 0.7960 - val_loss: 0.6132 - val_acc: 0.8185\n",
      "Epoch 31/400\n",
      "366037/366037 [==============================] - 14s 38us/step - loss: 0.6566 - acc: 0.7960 - val_loss: 0.6110 - val_acc: 0.8198\n",
      "Epoch 32/400\n",
      "366037/366037 [==============================] - 14s 38us/step - loss: 0.6554 - acc: 0.7968 - val_loss: 0.6101 - val_acc: 0.8207\n",
      "Epoch 33/400\n",
      "366037/366037 [==============================] - 14s 39us/step - loss: 0.6546 - acc: 0.7973 - val_loss: 0.6101 - val_acc: 0.8211\n",
      "Epoch 34/400\n",
      "366037/366037 [==============================] - 14s 39us/step - loss: 0.6533 - acc: 0.7977 - val_loss: 0.6085 - val_acc: 0.8223\n",
      "Epoch 35/400\n",
      "366037/366037 [==============================] - 14s 38us/step - loss: 0.6521 - acc: 0.7989 - val_loss: 0.6090 - val_acc: 0.8220\n",
      "Epoch 36/400\n",
      "366037/366037 [==============================] - 14s 38us/step - loss: 0.6511 - acc: 0.7996 - val_loss: 0.6079 - val_acc: 0.8232\n",
      "Epoch 37/400\n",
      "366037/366037 [==============================] - 14s 38us/step - loss: 0.6515 - acc: 0.7995 - val_loss: 0.6054 - val_acc: 0.8242\n",
      "Epoch 38/400\n",
      "366037/366037 [==============================] - 14s 38us/step - loss: 0.6503 - acc: 0.7999 - val_loss: 0.6076 - val_acc: 0.8220\n",
      "Epoch 39/400\n",
      "366037/366037 [==============================] - 14s 38us/step - loss: 0.6498 - acc: 0.8000 - val_loss: 0.6053 - val_acc: 0.8243\n",
      "Epoch 40/400\n",
      "366037/366037 [==============================] - 14s 38us/step - loss: 0.6489 - acc: 0.8007 - val_loss: 0.6034 - val_acc: 0.8252\n",
      "Epoch 41/400\n",
      "366037/366037 [==============================] - 14s 38us/step - loss: 0.6465 - acc: 0.8022 - val_loss: 0.6063 - val_acc: 0.8230\n",
      "Epoch 42/400\n",
      "366037/366037 [==============================] - 14s 38us/step - loss: 0.6474 - acc: 0.8019 - val_loss: 0.6022 - val_acc: 0.8254\n",
      "Epoch 43/400\n",
      "366037/366037 [==============================] - 14s 38us/step - loss: 0.6467 - acc: 0.8016 - val_loss: 0.6014 - val_acc: 0.8271\n",
      "Epoch 44/400\n",
      "366037/366037 [==============================] - 14s 38us/step - loss: 0.6462 - acc: 0.8020 - val_loss: 0.6004 - val_acc: 0.8253\n",
      "Epoch 45/400\n",
      "366037/366037 [==============================] - 14s 38us/step - loss: 0.6451 - acc: 0.8027 - val_loss: 0.6003 - val_acc: 0.8262\n",
      "Epoch 46/400\n",
      "366037/366037 [==============================] - 14s 38us/step - loss: 0.6450 - acc: 0.8024 - val_loss: 0.6019 - val_acc: 0.8252\n",
      "Epoch 47/400\n",
      "366037/366037 [==============================] - 14s 38us/step - loss: 0.6432 - acc: 0.8032 - val_loss: 0.5999 - val_acc: 0.8274\n",
      "Epoch 48/400\n",
      "366037/366037 [==============================] - 14s 38us/step - loss: 0.6431 - acc: 0.8035 - val_loss: 0.5981 - val_acc: 0.8274\n",
      "Epoch 49/400\n",
      "366037/366037 [==============================] - 14s 38us/step - loss: 0.6438 - acc: 0.8039 - val_loss: 0.5980 - val_acc: 0.8270\n",
      "Epoch 50/400\n",
      "366037/366037 [==============================] - 14s 38us/step - loss: 0.6431 - acc: 0.8034 - val_loss: 0.5978 - val_acc: 0.8268\n",
      "Epoch 51/400\n",
      "366037/366037 [==============================] - 14s 38us/step - loss: 0.6412 - acc: 0.8044 - val_loss: 0.5955 - val_acc: 0.8277\n",
      "Epoch 52/400\n",
      "366037/366037 [==============================] - 14s 38us/step - loss: 0.6411 - acc: 0.8052 - val_loss: 0.5973 - val_acc: 0.8263\n",
      "Epoch 53/400\n",
      "366037/366037 [==============================] - 14s 38us/step - loss: 0.6405 - acc: 0.8053 - val_loss: 0.5963 - val_acc: 0.8294\n",
      "Epoch 54/400\n",
      "366037/366037 [==============================] - 14s 38us/step - loss: 0.6400 - acc: 0.8055 - val_loss: 0.5963 - val_acc: 0.8303\n",
      "Epoch 55/400\n",
      "366037/366037 [==============================] - 14s 38us/step - loss: 0.6402 - acc: 0.8055 - val_loss: 0.5956 - val_acc: 0.8284\n",
      "Epoch 00055: early stopping\n"
     ]
    }
   ],
   "source": [
    "from keras.callbacks import EarlyStopping\n",
    "train_res = model.fit(X_train_train,\n",
    "                      Y_train_train,\n",
    "                      batch_size=batch_size,\n",
    "                      epochs=epochs,\n",
    "                      verbose=True,\n",
    "                      validation_data=(X_train_val,\n",
    "                                       Y_train_val),\n",
    "                      callbacks=\n",
    "                      [EarlyStopping(patience=patience,mode='min',\n",
    "                                     verbose=True)]\n",
    "                      )"
   ]
  },
  {
   "cell_type": "code",
   "execution_count": 523,
   "metadata": {},
   "outputs": [
    {
     "data": {
      "text/plain": [
       "{'acc': 0.89497085551679822, 'loss': 0.40655190009457576}"
      ]
     },
     "execution_count": 523,
     "metadata": {},
     "output_type": "execute_result"
    }
   ],
   "source": [
    "eval(model)"
   ]
  },
  {
   "cell_type": "code",
   "execution_count": 524,
   "metadata": {
    "collapsed": true
   },
   "outputs": [],
   "source": [
    "ybaseline_predict = model.predict(X_train,batch_size=batch_size)"
   ]
  },
  {
   "cell_type": "code",
   "execution_count": 525,
   "metadata": {
    "collapsed": true
   },
   "outputs": [],
   "source": [
    "ybaseline_predict = np.argmax(ybaseline_predict, axis=-1)"
   ]
  },
  {
   "cell_type": "code",
   "execution_count": 526,
   "metadata": {
    "collapsed": true
   },
   "outputs": [],
   "source": [
    "ybaseline_predict=ybaseline_predict.reshape(ybaseline_predict.shape[0],1)"
   ]
  },
  {
   "cell_type": "code",
   "execution_count": 527,
   "metadata": {},
   "outputs": [
    {
     "data": {
      "text/plain": [
       "(406708, 1)"
      ]
     },
     "execution_count": 527,
     "metadata": {},
     "output_type": "execute_result"
    }
   ],
   "source": [
    "ybaseline_predict.shape"
   ]
  },
  {
   "cell_type": "code",
   "execution_count": 528,
   "metadata": {
    "collapsed": true
   },
   "outputs": [],
   "source": [
    "Y_train_noise=Y_train_noise.flatten()"
   ]
  },
  {
   "cell_type": "code",
   "execution_count": 529,
   "metadata": {
    "collapsed": true
   },
   "outputs": [],
   "source": [
    "Y_train_noise=pd.DataFrame(Y_train_noise,columns=['Cover_Type'])"
   ]
  },
  {
   "cell_type": "code",
   "execution_count": 530,
   "metadata": {
    "collapsed": true
   },
   "outputs": [],
   "source": [
    "Y_train_noise=Y_train_noise.astype('int')"
   ]
  },
  {
   "cell_type": "code",
   "execution_count": 531,
   "metadata": {},
   "outputs": [
    {
     "data": {
      "text/html": [
       "<div>\n",
       "<style>\n",
       "    .dataframe thead tr:only-child th {\n",
       "        text-align: right;\n",
       "    }\n",
       "\n",
       "    .dataframe thead th {\n",
       "        text-align: left;\n",
       "    }\n",
       "\n",
       "    .dataframe tbody tr th {\n",
       "        vertical-align: top;\n",
       "    }\n",
       "</style>\n",
       "<table border=\"1\" class=\"dataframe\">\n",
       "  <thead>\n",
       "    <tr style=\"text-align: right;\">\n",
       "      <th></th>\n",
       "      <th>Cover_Type</th>\n",
       "    </tr>\n",
       "  </thead>\n",
       "  <tbody>\n",
       "    <tr>\n",
       "      <th>0</th>\n",
       "      <td>1</td>\n",
       "    </tr>\n",
       "    <tr>\n",
       "      <th>1</th>\n",
       "      <td>1</td>\n",
       "    </tr>\n",
       "    <tr>\n",
       "      <th>2</th>\n",
       "      <td>1</td>\n",
       "    </tr>\n",
       "    <tr>\n",
       "      <th>3</th>\n",
       "      <td>1</td>\n",
       "    </tr>\n",
       "    <tr>\n",
       "      <th>4</th>\n",
       "      <td>1</td>\n",
       "    </tr>\n",
       "  </tbody>\n",
       "</table>\n",
       "</div>"
      ],
      "text/plain": [
       "   Cover_Type\n",
       "0           1\n",
       "1           1\n",
       "2           1\n",
       "3           1\n",
       "4           1"
      ]
     },
     "execution_count": 531,
     "metadata": {},
     "output_type": "execute_result"
    }
   ],
   "source": [
    "Y_train_noise.head()"
   ]
  },
  {
   "cell_type": "code",
   "execution_count": 532,
   "metadata": {
    "collapsed": true
   },
   "outputs": [],
   "source": [
    "baseline_confusion = np.zeros((nb_classes, nb_classes))\n",
    "for n, p in zip(Y_train_noise.values.ravel(), ybaseline_predict):\n",
    "    baseline_confusion[p, n] += 1."
   ]
  },
  {
   "cell_type": "code",
   "execution_count": 533,
   "metadata": {},
   "outputs": [
    {
     "name": "stderr",
     "output_type": "stream",
     "text": [
      "/usr/local/anaconda3/5.0.1/lib/python3.6/site-packages/matplotlib/font_manager.py:1316: UserWarning: findfont: Font family ['normal'] not found. Falling back to DejaVu Sans\n",
      "  (prop.get_family(), self.defaultFamily[fontext]))\n"
     ]
    },
    {
     "data": {
      "image/png": "[encoded data removed]",
      "text/plain": [
       "<matplotlib.figure.Figure at 0x7f0adc442eb8>"
      ]
     },
     "metadata": {},
     "output_type": "display_data"
    }
   ],
   "source": [
    "import matplotlib.pyplot as plt\n",
    "%matplotlib inline\n",
    "# perm_bias_weights.astype(int)\n",
    "plt.pcolor(baseline_confusion)\n",
    "plt.ylabel('true labels')\n",
    "plt.xlabel('baseline labels')\n",
    "plt.title('baseline confusion matrix');"
   ]
  },
  {
   "cell_type": "code",
   "execution_count": 534,
   "metadata": {
    "collapsed": true
   },
   "outputs": [],
   "source": [
    "BETA = 0"
   ]
  },
  {
   "cell_type": "code",
   "execution_count": 535,
   "metadata": {
    "collapsed": true
   },
   "outputs": [],
   "source": [
    "#baseline_confusion"
   ]
  },
  {
   "cell_type": "code",
   "execution_count": 536,
   "metadata": {
    "collapsed": true
   },
   "outputs": [],
   "source": [
    "channel_weights = baseline_confusion.copy()\n",
    "#channel_weights=channel_weights + 1e-8\n",
    "channel_weights /= channel_weights.sum(axis=1, keepdims=True)\n",
    "# perm_bias_weights[prediction,noisy_label] = log(P(noisy_label|prediction))\n",
    "channel_weights = np.log(channel_weights+1e-8)"
   ]
  },
  {
   "cell_type": "code",
   "execution_count": 537,
   "metadata": {
    "collapsed": true
   },
   "outputs": [],
   "source": [
    "from channel import Channel\n",
    "channeled_output = Channel(name='channel',weights=[channel_weights],kernel_regularizer=regularizers.l2(0.01))(baseline_output)"
   ]
  },
  {
   "cell_type": "code",
   "execution_count": 538,
   "metadata": {
    "collapsed": true
   },
   "outputs": [],
   "source": [
    "if BETA ==1:\n",
    "    simple_model = Model(inputs=train_inputs, outputs=[baseline_output])\n",
    "    simple_model.compile(loss='sparse_categorical_crossentropy',optimizer=sgd,metrics=['accuracy'])\n",
    "else:\n",
    "    simple_model = Model(inputs=train_inputs, outputs=[channeled_output, baseline_output])\n",
    "    simple_model.compile(loss='sparse_categorical_crossentropy',loss_weights=[1.-BETA, BETA],optimizer=sgd,metrics=['accuracy'])"
   ]
  },
  {
   "cell_type": "code",
   "execution_count": 539,
   "metadata": {},
   "outputs": [
    {
     "name": "stdout",
     "output_type": "stream",
     "text": [
      "_________________________________________________________________\n",
      "Layer (type)                 Output Shape              Param #   \n",
      "=================================================================\n",
      "input_3 (InputLayer)         (None, 63)                0         \n",
      "_________________________________________________________________\n",
      "hidden (Sequential)          (None, 100)               267000    \n",
      "_________________________________________________________________\n",
      "baseline (Dense)             (None, 7)                 707       \n",
      "_________________________________________________________________\n",
      "channel (Channel)            (None, 7)                 49        \n",
      "=================================================================\n",
      "Total params: 267,756\n",
      "Trainable params: 265,556\n",
      "Non-trainable params: 2,200\n",
      "_________________________________________________________________\n"
     ]
    }
   ],
   "source": [
    "simple_model.summary()"
   ]
  },
  {
   "cell_type": "code",
   "execution_count": 540,
   "metadata": {},
   "outputs": [
    {
     "name": "stdout",
     "output_type": "stream",
     "text": [
      "Train on 366037 samples, validate on 40671 samples\n",
      "Epoch 1/100\n",
      "366037/366037 [==============================] - 15s 42us/step - loss: 7.8393 - channel_loss: 0.6028 - baseline_loss: 0.5891 - channel_acc: 0.8023 - baseline_acc: 0.8037 - val_loss: 7.5569 - val_channel_loss: 0.5634 - val_baseline_loss: 0.5603 - val_channel_acc: 0.8260 - val_baseline_acc: 0.8267\n",
      "Epoch 2/100\n",
      "366037/366037 [==============================] - 14s 39us/step - loss: 7.3624 - channel_loss: 0.5977 - baseline_loss: 0.6061 - channel_acc: 0.8049 - baseline_acc: 0.8055 - val_loss: 7.1015 - val_channel_loss: 0.5601 - val_baseline_loss: 0.5668 - val_channel_acc: 0.8295 - val_baseline_acc: 0.8302\n",
      "Epoch 3/100\n",
      "366037/366037 [==============================] - 14s 39us/step - loss: 6.9294 - channel_loss: 0.5982 - baseline_loss: 0.6160 - channel_acc: 0.8055 - baseline_acc: 0.8061 - val_loss: 6.6882 - val_channel_loss: 0.5620 - val_baseline_loss: 0.5786 - val_channel_acc: 0.8288 - val_baseline_acc: 0.8285\n",
      "Epoch 4/100\n",
      "366037/366037 [==============================] - 14s 39us/step - loss: 6.5322 - channel_loss: 0.5993 - baseline_loss: 0.6234 - channel_acc: 0.8067 - baseline_acc: 0.8074 - val_loss: 6.3091 - val_channel_loss: 0.5647 - val_baseline_loss: 0.5802 - val_channel_acc: 0.8288 - val_baseline_acc: 0.8293\n",
      "Epoch 5/100\n",
      "366037/366037 [==============================] - 14s 39us/step - loss: 6.1690 - channel_loss: 0.6023 - baseline_loss: 0.6289 - channel_acc: 0.8060 - baseline_acc: 0.8070 - val_loss: 5.9604 - val_channel_loss: 0.5671 - val_baseline_loss: 0.5939 - val_channel_acc: 0.8305 - val_baseline_acc: 0.8297\n",
      "Epoch 6/100\n",
      "366037/366037 [==============================] - 14s 39us/step - loss: 5.8332 - channel_loss: 0.6036 - baseline_loss: 0.6309 - channel_acc: 0.8071 - baseline_acc: 0.8078 - val_loss: 5.6394 - val_channel_loss: 0.5697 - val_baseline_loss: 0.5931 - val_channel_acc: 0.8305 - val_baseline_acc: 0.8308\n",
      "Epoch 7/100\n",
      "366037/366037 [==============================] - 14s 39us/step - loss: 5.5269 - channel_loss: 0.6082 - baseline_loss: 0.6361 - channel_acc: 0.8063 - baseline_acc: 0.8070 - val_loss: 5.3439 - val_channel_loss: 0.5727 - val_baseline_loss: 0.5945 - val_channel_acc: 0.8308 - val_baseline_acc: 0.8301\n",
      "Epoch 8/100\n",
      "366037/366037 [==============================] - 14s 39us/step - loss: 5.2421 - channel_loss: 0.6103 - baseline_loss: 0.6394 - channel_acc: 0.8075 - baseline_acc: 0.8085 - val_loss: 5.0725 - val_channel_loss: 0.5770 - val_baseline_loss: 0.6014 - val_channel_acc: 0.8291 - val_baseline_acc: 0.8309\n",
      "Epoch 9/100\n",
      "366037/366037 [==============================] - 14s 39us/step - loss: 4.9807 - channel_loss: 0.6140 - baseline_loss: 0.6421 - channel_acc: 0.8070 - baseline_acc: 0.8080 - val_loss: 4.8203 - val_channel_loss: 0.5795 - val_baseline_loss: 0.6078 - val_channel_acc: 0.8298 - val_baseline_acc: 0.8300\n",
      "Epoch 10/100\n",
      "366037/366037 [==============================] - 14s 39us/step - loss: 4.7385 - channel_loss: 0.6170 - baseline_loss: 0.6425 - channel_acc: 0.8075 - baseline_acc: 0.8086 - val_loss: 4.5884 - val_channel_loss: 0.5835 - val_baseline_loss: 0.6032 - val_channel_acc: 0.8308 - val_baseline_acc: 0.8319\n",
      "Epoch 11/100\n",
      "366037/366037 [==============================] - 14s 39us/step - loss: 4.5148 - channel_loss: 0.6204 - baseline_loss: 0.6453 - channel_acc: 0.8072 - baseline_acc: 0.8081 - val_loss: 4.3739 - val_channel_loss: 0.5875 - val_baseline_loss: 0.6048 - val_channel_acc: 0.8294 - val_baseline_acc: 0.8303\n",
      "Epoch 12/100\n",
      "366037/366037 [==============================] - 14s 39us/step - loss: 4.3080 - channel_loss: 0.6240 - baseline_loss: 0.6485 - channel_acc: 0.8071 - baseline_acc: 0.8082 - val_loss: 4.1734 - val_channel_loss: 0.5897 - val_baseline_loss: 0.6083 - val_channel_acc: 0.8302 - val_baseline_acc: 0.8313\n",
      "Epoch 13/100\n",
      "366037/366037 [==============================] - 14s 39us/step - loss: 4.1153 - channel_loss: 0.6267 - baseline_loss: 0.6470 - channel_acc: 0.8077 - baseline_acc: 0.8090 - val_loss: 3.9884 - val_channel_loss: 0.5929 - val_baseline_loss: 0.6100 - val_channel_acc: 0.8306 - val_baseline_acc: 0.8319\n",
      "Epoch 14/100\n",
      "366037/366037 [==============================] - 14s 39us/step - loss: 3.9371 - channel_loss: 0.6300 - baseline_loss: 0.6499 - channel_acc: 0.8076 - baseline_acc: 0.8092 - val_loss: 3.8173 - val_channel_loss: 0.5968 - val_baseline_loss: 0.6081 - val_channel_acc: 0.8306 - val_baseline_acc: 0.8310\n",
      "Epoch 15/100\n",
      "366037/366037 [==============================] - 14s 39us/step - loss: 3.7707 - channel_loss: 0.6324 - baseline_loss: 0.6495 - channel_acc: 0.8080 - baseline_acc: 0.8096 - val_loss: 3.6566 - val_channel_loss: 0.5989 - val_baseline_loss: 0.6128 - val_channel_acc: 0.8300 - val_baseline_acc: 0.8319\n",
      "Epoch 16/100\n",
      "366037/366037 [==============================] - 14s 39us/step - loss: 3.6172 - channel_loss: 0.6361 - baseline_loss: 0.6526 - channel_acc: 0.8080 - baseline_acc: 0.8097 - val_loss: 3.5077 - val_channel_loss: 0.6016 - val_baseline_loss: 0.6109 - val_channel_acc: 0.8314 - val_baseline_acc: 0.8314\n",
      "Epoch 17/100\n",
      "366037/366037 [==============================] - 14s 39us/step - loss: 3.4734 - channel_loss: 0.6387 - baseline_loss: 0.6513 - channel_acc: 0.8081 - baseline_acc: 0.8095 - val_loss: 3.3696 - val_channel_loss: 0.6049 - val_baseline_loss: 0.6097 - val_channel_acc: 0.8310 - val_baseline_acc: 0.8328\n",
      "Epoch 18/100\n",
      "366037/366037 [==============================] - 14s 39us/step - loss: 3.3397 - channel_loss: 0.6416 - baseline_loss: 0.6526 - channel_acc: 0.8084 - baseline_acc: 0.8099 - val_loss: 3.2408 - val_channel_loss: 0.6080 - val_baseline_loss: 0.6093 - val_channel_acc: 0.8307 - val_baseline_acc: 0.8315\n",
      "Epoch 19/100\n",
      "366037/366037 [==============================] - 14s 39us/step - loss: 3.2152 - channel_loss: 0.6447 - baseline_loss: 0.6517 - channel_acc: 0.8080 - baseline_acc: 0.8097 - val_loss: 3.1203 - val_channel_loss: 0.6108 - val_baseline_loss: 0.6108 - val_channel_acc: 0.8305 - val_baseline_acc: 0.8317\n",
      "Epoch 20/100\n",
      "366037/366037 [==============================] - 14s 39us/step - loss: 3.0988 - channel_loss: 0.6475 - baseline_loss: 0.6542 - channel_acc: 0.8081 - baseline_acc: 0.8098 - val_loss: 3.0064 - val_channel_loss: 0.6122 - val_baseline_loss: 0.6127 - val_channel_acc: 0.8305 - val_baseline_acc: 0.8328\n",
      "Epoch 21/100\n",
      "366037/366037 [==============================] - 14s 39us/step - loss: 2.9888 - channel_loss: 0.6490 - baseline_loss: 0.6535 - channel_acc: 0.8090 - baseline_acc: 0.8110 - val_loss: 2.9016 - val_channel_loss: 0.6152 - val_baseline_loss: 0.6128 - val_channel_acc: 0.8324 - val_baseline_acc: 0.8334\n",
      "Epoch 22/100\n",
      "366037/366037 [==============================] - 14s 39us/step - loss: 2.8873 - channel_loss: 0.6519 - baseline_loss: 0.6540 - channel_acc: 0.8085 - baseline_acc: 0.8105 - val_loss: 2.8035 - val_channel_loss: 0.6182 - val_baseline_loss: 0.6114 - val_channel_acc: 0.8311 - val_baseline_acc: 0.8327\n",
      "Epoch 23/100\n",
      "366037/366037 [==============================] - 14s 39us/step - loss: 2.7919 - channel_loss: 0.6543 - baseline_loss: 0.6538 - channel_acc: 0.8083 - baseline_acc: 0.8107 - val_loss: 2.7118 - val_channel_loss: 0.6211 - val_baseline_loss: 0.6113 - val_channel_acc: 0.8311 - val_baseline_acc: 0.8316\n",
      "Epoch 24/100\n",
      "366037/366037 [==============================] - 14s 39us/step - loss: 2.7023 - channel_loss: 0.6563 - baseline_loss: 0.6545 - channel_acc: 0.8079 - baseline_acc: 0.8102 - val_loss: 2.6250 - val_channel_loss: 0.6231 - val_baseline_loss: 0.6137 - val_channel_acc: 0.8320 - val_baseline_acc: 0.8338\n",
      "Epoch 25/100\n",
      "366037/366037 [==============================] - 15s 40us/step - loss: 2.6188 - channel_loss: 0.6589 - baseline_loss: 0.6553 - channel_acc: 0.8078 - baseline_acc: 0.8104 - val_loss: 2.5442 - val_channel_loss: 0.6257 - val_baseline_loss: 0.6223 - val_channel_acc: 0.8295 - val_baseline_acc: 0.8312\n",
      "Epoch 26/100\n",
      "366037/366037 [==============================] - 14s 39us/step - loss: 2.5397 - channel_loss: 0.6607 - baseline_loss: 0.6552 - channel_acc: 0.8082 - baseline_acc: 0.8108 - val_loss: 2.4657 - val_channel_loss: 0.6256 - val_baseline_loss: 0.6127 - val_channel_acc: 0.8313 - val_baseline_acc: 0.8335\n",
      "Epoch 27/100\n"
     ]
    },
    {
     "name": "stdout",
     "output_type": "stream",
     "text": [
      "366037/366037 [==============================] - 14s 39us/step - loss: 2.4657 - channel_loss: 0.6627 - baseline_loss: 0.6555 - channel_acc: 0.8080 - baseline_acc: 0.8109 - val_loss: 2.3944 - val_channel_loss: 0.6280 - val_baseline_loss: 0.6177 - val_channel_acc: 0.8310 - val_baseline_acc: 0.8335\n",
      "Epoch 28/100\n",
      "366037/366037 [==============================] - 14s 39us/step - loss: 2.3962 - channel_loss: 0.6647 - baseline_loss: 0.6550 - channel_acc: 0.8079 - baseline_acc: 0.8105 - val_loss: 2.3277 - val_channel_loss: 0.6307 - val_baseline_loss: 0.6149 - val_channel_acc: 0.8303 - val_baseline_acc: 0.8333\n",
      "Epoch 29/100\n",
      "366037/366037 [==============================] - 14s 39us/step - loss: 2.3302 - channel_loss: 0.6662 - baseline_loss: 0.6544 - channel_acc: 0.8081 - baseline_acc: 0.8110 - val_loss: 2.2643 - val_channel_loss: 0.6326 - val_baseline_loss: 0.6157 - val_channel_acc: 0.8302 - val_baseline_acc: 0.8328\n",
      "Epoch 30/100\n",
      "366037/366037 [==============================] - 14s 39us/step - loss: 2.2689 - channel_loss: 0.6683 - baseline_loss: 0.6543 - channel_acc: 0.8079 - baseline_acc: 0.8109 - val_loss: 2.2035 - val_channel_loss: 0.6334 - val_baseline_loss: 0.6169 - val_channel_acc: 0.8321 - val_baseline_acc: 0.8340\n",
      "Epoch 31/100\n",
      "366037/366037 [==============================] - 14s 39us/step - loss: 2.2111 - channel_loss: 0.6703 - baseline_loss: 0.6549 - channel_acc: 0.8075 - baseline_acc: 0.8104 - val_loss: 2.1473 - val_channel_loss: 0.6353 - val_baseline_loss: 0.6158 - val_channel_acc: 0.8303 - val_baseline_acc: 0.8337\n",
      "Epoch 32/100\n",
      "366037/366037 [==============================] - 14s 39us/step - loss: 2.1560 - channel_loss: 0.6716 - baseline_loss: 0.6545 - channel_acc: 0.8074 - baseline_acc: 0.8103 - val_loss: 2.0941 - val_channel_loss: 0.6370 - val_baseline_loss: 0.6121 - val_channel_acc: 0.8303 - val_baseline_acc: 0.8331\n",
      "Epoch 33/100\n",
      "366037/366037 [==============================] - 14s 39us/step - loss: 2.1039 - channel_loss: 0.6728 - baseline_loss: 0.6553 - channel_acc: 0.8082 - baseline_acc: 0.8113 - val_loss: 2.0442 - val_channel_loss: 0.6389 - val_baseline_loss: 0.6171 - val_channel_acc: 0.8301 - val_baseline_acc: 0.8337\n",
      "Epoch 34/100\n",
      "366037/366037 [==============================] - 14s 39us/step - loss: 2.0543 - channel_loss: 0.6736 - baseline_loss: 0.6540 - channel_acc: 0.8082 - baseline_acc: 0.8117 - val_loss: 1.9960 - val_channel_loss: 0.6396 - val_baseline_loss: 0.6146 - val_channel_acc: 0.8300 - val_baseline_acc: 0.8325\n",
      "Epoch 35/100\n",
      "366037/366037 [==============================] - 14s 39us/step - loss: 2.0080 - channel_loss: 0.6749 - baseline_loss: 0.6531 - channel_acc: 0.8082 - baseline_acc: 0.8115 - val_loss: 1.9515 - val_channel_loss: 0.6414 - val_baseline_loss: 0.6170 - val_channel_acc: 0.8312 - val_baseline_acc: 0.8335\n",
      "Epoch 36/100\n",
      "366037/366037 [==============================] - 14s 39us/step - loss: 1.9650 - channel_loss: 0.6769 - baseline_loss: 0.6529 - channel_acc: 0.8077 - baseline_acc: 0.8113 - val_loss: 1.9109 - val_channel_loss: 0.6445 - val_baseline_loss: 0.6166 - val_channel_acc: 0.8289 - val_baseline_acc: 0.8325\n",
      "Epoch 37/100\n",
      "366037/366037 [==============================] - 14s 39us/step - loss: 1.9231 - channel_loss: 0.6777 - baseline_loss: 0.6526 - channel_acc: 0.8080 - baseline_acc: 0.8116 - val_loss: 1.8691 - val_channel_loss: 0.6443 - val_baseline_loss: 0.6173 - val_channel_acc: 0.8303 - val_baseline_acc: 0.8328\n",
      "Epoch 38/100\n",
      "366037/366037 [==============================] - 14s 39us/step - loss: 1.8843 - channel_loss: 0.6792 - baseline_loss: 0.6539 - channel_acc: 0.8073 - baseline_acc: 0.8109 - val_loss: 1.8299 - val_channel_loss: 0.6443 - val_baseline_loss: 0.6134 - val_channel_acc: 0.8311 - val_baseline_acc: 0.8342\n",
      "Epoch 39/100\n",
      "366037/366037 [==============================] - 14s 39us/step - loss: 1.8470 - channel_loss: 0.6802 - baseline_loss: 0.6537 - channel_acc: 0.8075 - baseline_acc: 0.8112 - val_loss: 1.7932 - val_channel_loss: 0.6449 - val_baseline_loss: 0.6165 - val_channel_acc: 0.8302 - val_baseline_acc: 0.8345\n",
      "Epoch 40/100\n",
      "366037/366037 [==============================] - 14s 39us/step - loss: 1.8110 - channel_loss: 0.6804 - baseline_loss: 0.6522 - channel_acc: 0.8082 - baseline_acc: 0.8126 - val_loss: 1.7604 - val_channel_loss: 0.6474 - val_baseline_loss: 0.6121 - val_channel_acc: 0.8314 - val_baseline_acc: 0.8342\n",
      "Epoch 41/100\n",
      "366037/366037 [==============================] - 14s 39us/step - loss: 1.7779 - channel_loss: 0.6818 - baseline_loss: 0.6523 - channel_acc: 0.8082 - baseline_acc: 0.8118 - val_loss: 1.7282 - val_channel_loss: 0.6487 - val_baseline_loss: 0.6162 - val_channel_acc: 0.8304 - val_baseline_acc: 0.8331\n",
      "Epoch 42/100\n",
      "366037/366037 [==============================] - 14s 39us/step - loss: 1.7463 - channel_loss: 0.6829 - baseline_loss: 0.6527 - channel_acc: 0.8075 - baseline_acc: 0.8117 - val_loss: 1.6963 - val_channel_loss: 0.6487 - val_baseline_loss: 0.6150 - val_channel_acc: 0.8298 - val_baseline_acc: 0.8340\n",
      "Epoch 43/100\n",
      "366037/366037 [==============================] - 14s 39us/step - loss: 1.7165 - channel_loss: 0.6841 - baseline_loss: 0.6520 - channel_acc: 0.8078 - baseline_acc: 0.8119 - val_loss: 1.6678 - val_channel_loss: 0.6503 - val_baseline_loss: 0.6171 - val_channel_acc: 0.8283 - val_baseline_acc: 0.8328\n",
      "Epoch 44/100\n",
      "366037/366037 [==============================] - 14s 39us/step - loss: 1.6874 - channel_loss: 0.6844 - baseline_loss: 0.6512 - channel_acc: 0.8079 - baseline_acc: 0.8122 - val_loss: 1.6389 - val_channel_loss: 0.6502 - val_baseline_loss: 0.6125 - val_channel_acc: 0.8306 - val_baseline_acc: 0.8345\n",
      "Epoch 45/100\n",
      "366037/366037 [==============================] - 14s 39us/step - loss: 1.6599 - channel_loss: 0.6850 - baseline_loss: 0.6517 - channel_acc: 0.8078 - baseline_acc: 0.8124 - val_loss: 1.6136 - val_channel_loss: 0.6523 - val_baseline_loss: 0.6145 - val_channel_acc: 0.8296 - val_baseline_acc: 0.8341\n",
      "Epoch 46/100\n",
      "366037/366037 [==============================] - 14s 39us/step - loss: 1.6341 - channel_loss: 0.6859 - baseline_loss: 0.6526 - channel_acc: 0.8081 - baseline_acc: 0.8123 - val_loss: 1.5877 - val_channel_loss: 0.6526 - val_baseline_loss: 0.6150 - val_channel_acc: 0.8300 - val_baseline_acc: 0.8338\n",
      "Epoch 47/100\n",
      "366037/366037 [==============================] - 14s 39us/step - loss: 1.6104 - channel_loss: 0.6877 - baseline_loss: 0.6527 - channel_acc: 0.8071 - baseline_acc: 0.8118 - val_loss: 1.5640 - val_channel_loss: 0.6536 - val_baseline_loss: 0.6151 - val_channel_acc: 0.8288 - val_baseline_acc: 0.8335\n",
      "Epoch 48/100\n",
      "366037/366037 [==============================] - 14s 39us/step - loss: 1.5870 - channel_loss: 0.6885 - baseline_loss: 0.6529 - channel_acc: 0.8072 - baseline_acc: 0.8119 - val_loss: 1.5412 - val_channel_loss: 0.6544 - val_baseline_loss: 0.6090 - val_channel_acc: 0.8292 - val_baseline_acc: 0.8338\n",
      "Epoch 49/100\n",
      "366037/366037 [==============================] - 14s 39us/step - loss: 1.5635 - channel_loss: 0.6881 - baseline_loss: 0.6502 - channel_acc: 0.8075 - baseline_acc: 0.8125 - val_loss: 1.5186 - val_channel_loss: 0.6543 - val_baseline_loss: 0.6160 - val_channel_acc: 0.8308 - val_baseline_acc: 0.8349\n",
      "Epoch 50/100\n",
      "366037/366037 [==============================] - 14s 39us/step - loss: 1.5436 - channel_loss: 0.6902 - baseline_loss: 0.6524 - channel_acc: 0.8070 - baseline_acc: 0.8118 - val_loss: 1.4991 - val_channel_loss: 0.6564 - val_baseline_loss: 0.6117 - val_channel_acc: 0.8288 - val_baseline_acc: 0.8339\n",
      "Epoch 51/100\n",
      "366037/366037 [==============================] - 14s 39us/step - loss: 1.5227 - channel_loss: 0.6902 - baseline_loss: 0.6513 - channel_acc: 0.8069 - baseline_acc: 0.8117 - val_loss: 1.4780 - val_channel_loss: 0.6557 - val_baseline_loss: 0.6107 - val_channel_acc: 0.8317 - val_baseline_acc: 0.8359\n",
      "Epoch 52/100\n",
      "366037/366037 [==============================] - 14s 39us/step - loss: 1.5027 - channel_loss: 0.6902 - baseline_loss: 0.6502 - channel_acc: 0.8074 - baseline_acc: 0.8123 - val_loss: 1.4589 - val_channel_loss: 0.6561 - val_baseline_loss: 0.6103 - val_channel_acc: 0.8303 - val_baseline_acc: 0.8338\n",
      "Epoch 53/100\n"
     ]
    },
    {
     "name": "stdout",
     "output_type": "stream",
     "text": [
      "366037/366037 [==============================] - 14s 39us/step - loss: 1.4844 - channel_loss: 0.6910 - baseline_loss: 0.6488 - channel_acc: 0.8071 - baseline_acc: 0.8122 - val_loss: 1.4429 - val_channel_loss: 0.6588 - val_baseline_loss: 0.6164 - val_channel_acc: 0.8279 - val_baseline_acc: 0.8335\n",
      "Epoch 54/100\n",
      "366037/366037 [==============================] - 14s 39us/step - loss: 1.4667 - channel_loss: 0.6916 - baseline_loss: 0.6498 - channel_acc: 0.8071 - baseline_acc: 0.8121 - val_loss: 1.4236 - val_channel_loss: 0.6572 - val_baseline_loss: 0.6116 - val_channel_acc: 0.8312 - val_baseline_acc: 0.8357\n",
      "Epoch 55/100\n",
      "366037/366037 [==============================] - 14s 39us/step - loss: 1.4496 - channel_loss: 0.6919 - baseline_loss: 0.6489 - channel_acc: 0.8078 - baseline_acc: 0.8129 - val_loss: 1.4083 - val_channel_loss: 0.6590 - val_baseline_loss: 0.6110 - val_channel_acc: 0.8288 - val_baseline_acc: 0.8334\n",
      "Epoch 56/100\n",
      "366037/366037 [==============================] - 14s 39us/step - loss: 1.4340 - channel_loss: 0.6929 - baseline_loss: 0.6501 - channel_acc: 0.8071 - baseline_acc: 0.8123 - val_loss: 1.3930 - val_channel_loss: 0.6600 - val_baseline_loss: 0.6136 - val_channel_acc: 0.8281 - val_baseline_acc: 0.8332\n",
      "Epoch 57/100\n",
      "366037/366037 [==============================] - 14s 39us/step - loss: 1.4175 - channel_loss: 0.6924 - baseline_loss: 0.6494 - channel_acc: 0.8078 - baseline_acc: 0.8130 - val_loss: 1.3763 - val_channel_loss: 0.6589 - val_baseline_loss: 0.6089 - val_channel_acc: 0.8293 - val_baseline_acc: 0.8347\n",
      "Epoch 58/100\n",
      "366037/366037 [==============================] - 14s 39us/step - loss: 1.4038 - channel_loss: 0.6939 - baseline_loss: 0.6502 - channel_acc: 0.8069 - baseline_acc: 0.8122 - val_loss: 1.3632 - val_channel_loss: 0.6607 - val_baseline_loss: 0.6098 - val_channel_acc: 0.8284 - val_baseline_acc: 0.8342\n",
      "Epoch 59/100\n",
      "366037/366037 [==============================] - 14s 39us/step - loss: 1.3901 - channel_loss: 0.6948 - baseline_loss: 0.6518 - channel_acc: 0.8070 - baseline_acc: 0.8124 - val_loss: 1.3493 - val_channel_loss: 0.6611 - val_baseline_loss: 0.6118 - val_channel_acc: 0.8292 - val_baseline_acc: 0.8339\n",
      "Epoch 60/100\n",
      "366037/366037 [==============================] - 14s 39us/step - loss: 1.3761 - channel_loss: 0.6948 - baseline_loss: 0.6513 - channel_acc: 0.8069 - baseline_acc: 0.8127 - val_loss: 1.3356 - val_channel_loss: 0.6611 - val_baseline_loss: 0.6154 - val_channel_acc: 0.8288 - val_baseline_acc: 0.8332\n",
      "Epoch 61/100\n",
      "366037/366037 [==============================] - 14s 39us/step - loss: 1.3632 - channel_loss: 0.6953 - baseline_loss: 0.6509 - channel_acc: 0.8069 - baseline_acc: 0.8125 - val_loss: 1.3224 - val_channel_loss: 0.6611 - val_baseline_loss: 0.6129 - val_channel_acc: 0.8302 - val_baseline_acc: 0.8347\n",
      "Epoch 62/100\n",
      "366037/366037 [==============================] - 14s 39us/step - loss: 1.3504 - channel_loss: 0.6953 - baseline_loss: 0.6510 - channel_acc: 0.8073 - baseline_acc: 0.8125 - val_loss: 1.3112 - val_channel_loss: 0.6624 - val_baseline_loss: 0.6136 - val_channel_acc: 0.8286 - val_baseline_acc: 0.8339\n",
      "Epoch 63/100\n",
      "366037/366037 [==============================] - 14s 39us/step - loss: 1.3385 - channel_loss: 0.6958 - baseline_loss: 0.6491 - channel_acc: 0.8072 - baseline_acc: 0.8129 - val_loss: 1.2999 - val_channel_loss: 0.6632 - val_baseline_loss: 0.6105 - val_channel_acc: 0.8280 - val_baseline_acc: 0.8340\n",
      "Epoch 64/100\n",
      "366037/366037 [==============================] - 14s 39us/step - loss: 1.3268 - channel_loss: 0.6959 - baseline_loss: 0.6489 - channel_acc: 0.8068 - baseline_acc: 0.8129 - val_loss: 1.2876 - val_channel_loss: 0.6624 - val_baseline_loss: 0.6126 - val_channel_acc: 0.8288 - val_baseline_acc: 0.8335\n",
      "Epoch 65/100\n",
      "366037/366037 [==============================] - 15s 40us/step - loss: 1.3159 - channel_loss: 0.6963 - baseline_loss: 0.6493 - channel_acc: 0.8072 - baseline_acc: 0.8130 - val_loss: 1.2777 - val_channel_loss: 0.6636 - val_baseline_loss: 0.6197 - val_channel_acc: 0.8271 - val_baseline_acc: 0.8326\n",
      "Epoch 66/100\n",
      "366037/366037 [==============================] - 14s 39us/step - loss: 1.3056 - channel_loss: 0.6968 - baseline_loss: 0.6493 - channel_acc: 0.8068 - baseline_acc: 0.8128 - val_loss: 1.2671 - val_channel_loss: 0.6637 - val_baseline_loss: 0.6126 - val_channel_acc: 0.8271 - val_baseline_acc: 0.8329\n",
      "Epoch 67/100\n",
      "366037/366037 [==============================] - 14s 39us/step - loss: 1.2962 - channel_loss: 0.6979 - baseline_loss: 0.6502 - channel_acc: 0.8063 - baseline_acc: 0.8120 - val_loss: 1.2574 - val_channel_loss: 0.6642 - val_baseline_loss: 0.6123 - val_channel_acc: 0.8271 - val_baseline_acc: 0.8331\n",
      "Epoch 68/100\n",
      "366037/366037 [==============================] - 14s 39us/step - loss: 1.2849 - channel_loss: 0.6966 - baseline_loss: 0.6494 - channel_acc: 0.8076 - baseline_acc: 0.8132 - val_loss: 1.2489 - val_channel_loss: 0.6655 - val_baseline_loss: 0.6167 - val_channel_acc: 0.8274 - val_baseline_acc: 0.8341\n",
      "Epoch 69/100\n",
      "366037/366037 [==============================] - 14s 39us/step - loss: 1.2762 - channel_loss: 0.6975 - baseline_loss: 0.6491 - channel_acc: 0.8072 - baseline_acc: 0.8129 - val_loss: 1.2375 - val_channel_loss: 0.6635 - val_baseline_loss: 0.6155 - val_channel_acc: 0.8270 - val_baseline_acc: 0.8336\n",
      "Epoch 70/100\n",
      "366037/366037 [==============================] - 14s 39us/step - loss: 1.2680 - channel_loss: 0.6985 - baseline_loss: 0.6501 - channel_acc: 0.8064 - baseline_acc: 0.8131 - val_loss: 1.2300 - val_channel_loss: 0.6651 - val_baseline_loss: 0.6133 - val_channel_acc: 0.8280 - val_baseline_acc: 0.8341\n",
      "Epoch 71/100\n",
      "366037/366037 [==============================] - 14s 39us/step - loss: 1.2590 - channel_loss: 0.6985 - baseline_loss: 0.6500 - channel_acc: 0.8065 - baseline_acc: 0.8127 - val_loss: 1.2214 - val_channel_loss: 0.6651 - val_baseline_loss: 0.6106 - val_channel_acc: 0.8288 - val_baseline_acc: 0.8338\n",
      "Epoch 72/100\n",
      "366037/366037 [==============================] - 14s 39us/step - loss: 1.2509 - channel_loss: 0.6989 - baseline_loss: 0.6496 - channel_acc: 0.8067 - baseline_acc: 0.8128 - val_loss: 1.2133 - val_channel_loss: 0.6654 - val_baseline_loss: 0.6099 - val_channel_acc: 0.8273 - val_baseline_acc: 0.8334\n",
      "Epoch 73/100\n",
      "366037/366037 [==============================] - 14s 39us/step - loss: 1.2427 - channel_loss: 0.6989 - baseline_loss: 0.6507 - channel_acc: 0.8071 - baseline_acc: 0.8129 - val_loss: 1.2052 - val_channel_loss: 0.6655 - val_baseline_loss: 0.6107 - val_channel_acc: 0.8274 - val_baseline_acc: 0.8344\n",
      "Epoch 74/100\n",
      "366037/366037 [==============================] - 14s 39us/step - loss: 1.2354 - channel_loss: 0.6995 - baseline_loss: 0.6499 - channel_acc: 0.8064 - baseline_acc: 0.8126 - val_loss: 1.1982 - val_channel_loss: 0.6662 - val_baseline_loss: 0.6115 - val_channel_acc: 0.8286 - val_baseline_acc: 0.8343\n",
      "Epoch 75/100\n",
      "366037/366037 [==============================] - 14s 39us/step - loss: 1.2278 - channel_loss: 0.6995 - baseline_loss: 0.6495 - channel_acc: 0.8066 - baseline_acc: 0.8127 - val_loss: 1.1912 - val_channel_loss: 0.6667 - val_baseline_loss: 0.6135 - val_channel_acc: 0.8273 - val_baseline_acc: 0.8341\n",
      "Epoch 76/100\n",
      "366037/366037 [==============================] - 14s 39us/step - loss: 1.2209 - channel_loss: 0.7000 - baseline_loss: 0.6495 - channel_acc: 0.8063 - baseline_acc: 0.8128 - val_loss: 1.1827 - val_channel_loss: 0.6654 - val_baseline_loss: 0.6065 - val_channel_acc: 0.8290 - val_baseline_acc: 0.8355\n",
      "Epoch 77/100\n",
      "366037/366037 [==============================] - 14s 39us/step - loss: 1.2141 - channel_loss: 0.7003 - baseline_loss: 0.6494 - channel_acc: 0.8061 - baseline_acc: 0.8126 - val_loss: 1.1767 - val_channel_loss: 0.6664 - val_baseline_loss: 0.6108 - val_channel_acc: 0.8285 - val_baseline_acc: 0.8348\n",
      "Epoch 78/100\n",
      "366037/366037 [==============================] - 14s 39us/step - loss: 1.2072 - channel_loss: 0.7002 - baseline_loss: 0.6496 - channel_acc: 0.8067 - baseline_acc: 0.8127 - val_loss: 1.1703 - val_channel_loss: 0.6666 - val_baseline_loss: 0.6139 - val_channel_acc: 0.8273 - val_baseline_acc: 0.8338\n",
      "Epoch 79/100\n"
     ]
    },
    {
     "name": "stdout",
     "output_type": "stream",
     "text": [
      "366037/366037 [==============================] - 14s 39us/step - loss: 1.2014 - channel_loss: 0.7010 - baseline_loss: 0.6517 - channel_acc: 0.8070 - baseline_acc: 0.8131 - val_loss: 1.1639 - val_channel_loss: 0.6667 - val_baseline_loss: 0.6169 - val_channel_acc: 0.8281 - val_baseline_acc: 0.8348\n",
      "Epoch 80/100\n",
      "366037/366037 [==============================] - 14s 39us/step - loss: 1.1948 - channel_loss: 0.7007 - baseline_loss: 0.6504 - channel_acc: 0.8064 - baseline_acc: 0.8128 - val_loss: 1.1581 - val_channel_loss: 0.6671 - val_baseline_loss: 0.6107 - val_channel_acc: 0.8290 - val_baseline_acc: 0.8348\n",
      "Epoch 81/100\n",
      "366037/366037 [==============================] - 14s 39us/step - loss: 1.1886 - channel_loss: 0.7007 - baseline_loss: 0.6487 - channel_acc: 0.8071 - baseline_acc: 0.8132 - val_loss: 1.1532 - val_channel_loss: 0.6682 - val_baseline_loss: 0.6138 - val_channel_acc: 0.8289 - val_baseline_acc: 0.8343\n",
      "Epoch 82/100\n",
      "366037/366037 [==============================] - 14s 39us/step - loss: 1.1834 - channel_loss: 0.7013 - baseline_loss: 0.6507 - channel_acc: 0.8066 - baseline_acc: 0.8128 - val_loss: 1.1481 - val_channel_loss: 0.6689 - val_baseline_loss: 0.6191 - val_channel_acc: 0.8264 - val_baseline_acc: 0.8329\n",
      "Epoch 83/100\n",
      "366037/366037 [==============================] - 14s 39us/step - loss: 1.1779 - channel_loss: 0.7015 - baseline_loss: 0.6516 - channel_acc: 0.8065 - baseline_acc: 0.8132 - val_loss: 1.1421 - val_channel_loss: 0.6685 - val_baseline_loss: 0.6114 - val_channel_acc: 0.8282 - val_baseline_acc: 0.8341\n",
      "Epoch 84/100\n",
      "366037/366037 [==============================] - 14s 39us/step - loss: 1.1723 - channel_loss: 0.7014 - baseline_loss: 0.6513 - channel_acc: 0.8066 - baseline_acc: 0.8132 - val_loss: 1.1357 - val_channel_loss: 0.6675 - val_baseline_loss: 0.6121 - val_channel_acc: 0.8291 - val_baseline_acc: 0.8352\n",
      "Epoch 85/100\n",
      "366037/366037 [==============================] - 14s 39us/step - loss: 1.1670 - channel_loss: 0.7014 - baseline_loss: 0.6505 - channel_acc: 0.8071 - baseline_acc: 0.8138 - val_loss: 1.1326 - val_channel_loss: 0.6696 - val_baseline_loss: 0.6162 - val_channel_acc: 0.8271 - val_baseline_acc: 0.8331\n",
      "Epoch 86/100\n",
      "366037/366037 [==============================] - 14s 39us/step - loss: 1.1623 - channel_loss: 0.7018 - baseline_loss: 0.6509 - channel_acc: 0.8065 - baseline_acc: 0.8128 - val_loss: 1.1274 - val_channel_loss: 0.6694 - val_baseline_loss: 0.6174 - val_channel_acc: 0.8284 - val_baseline_acc: 0.8328\n",
      "Epoch 87/100\n",
      "366037/366037 [==============================] - 14s 39us/step - loss: 1.1575 - channel_loss: 0.7019 - baseline_loss: 0.6505 - channel_acc: 0.8066 - baseline_acc: 0.8132 - val_loss: 1.1221 - val_channel_loss: 0.6690 - val_baseline_loss: 0.6126 - val_channel_acc: 0.8280 - val_baseline_acc: 0.8345\n",
      "Epoch 88/100\n",
      "366037/366037 [==============================] - 14s 39us/step - loss: 1.1529 - channel_loss: 0.7022 - baseline_loss: 0.6520 - channel_acc: 0.8068 - baseline_acc: 0.8134 - val_loss: 1.1166 - val_channel_loss: 0.6681 - val_baseline_loss: 0.6153 - val_channel_acc: 0.8292 - val_baseline_acc: 0.8354\n",
      "Epoch 89/100\n",
      "366037/366037 [==============================] - 14s 39us/step - loss: 1.1482 - channel_loss: 0.7021 - baseline_loss: 0.6514 - channel_acc: 0.8066 - baseline_acc: 0.8134 - val_loss: 1.1139 - val_channel_loss: 0.6700 - val_baseline_loss: 0.6242 - val_channel_acc: 0.8258 - val_baseline_acc: 0.8328\n",
      "Epoch 90/100\n",
      "366037/366037 [==============================] - 14s 39us/step - loss: 1.1440 - channel_loss: 0.7024 - baseline_loss: 0.6516 - channel_acc: 0.8067 - baseline_acc: 0.8130 - val_loss: 1.1092 - val_channel_loss: 0.6697 - val_baseline_loss: 0.6208 - val_channel_acc: 0.8268 - val_baseline_acc: 0.8337\n",
      "Epoch 91/100\n",
      "366037/366037 [==============================] - 14s 39us/step - loss: 1.1396 - channel_loss: 0.7023 - baseline_loss: 0.6521 - channel_acc: 0.8068 - baseline_acc: 0.8135 - val_loss: 1.1042 - val_channel_loss: 0.6690 - val_baseline_loss: 0.6190 - val_channel_acc: 0.8283 - val_baseline_acc: 0.8349\n",
      "Epoch 92/100\n",
      "366037/366037 [==============================] - 14s 39us/step - loss: 1.1355 - channel_loss: 0.7023 - baseline_loss: 0.6507 - channel_acc: 0.8071 - baseline_acc: 0.8136 - val_loss: 1.1010 - val_channel_loss: 0.6698 - val_baseline_loss: 0.6164 - val_channel_acc: 0.8267 - val_baseline_acc: 0.8342\n",
      "Epoch 93/100\n",
      "366037/366037 [==============================] - 14s 39us/step - loss: 1.1314 - channel_loss: 0.7023 - baseline_loss: 0.6521 - channel_acc: 0.8067 - baseline_acc: 0.8135 - val_loss: 1.0969 - val_channel_loss: 0.6697 - val_baseline_loss: 0.6165 - val_channel_acc: 0.8272 - val_baseline_acc: 0.8347\n",
      "Epoch 94/100\n",
      "366037/366037 [==============================] - 14s 39us/step - loss: 1.1282 - channel_loss: 0.7030 - baseline_loss: 0.6528 - channel_acc: 0.8064 - baseline_acc: 0.8131 - val_loss: 1.0929 - val_channel_loss: 0.6696 - val_baseline_loss: 0.6171 - val_channel_acc: 0.8283 - val_baseline_acc: 0.8343\n",
      "Epoch 95/100\n",
      "366037/366037 [==============================] - 14s 39us/step - loss: 1.1245 - channel_loss: 0.7030 - baseline_loss: 0.6519 - channel_acc: 0.8071 - baseline_acc: 0.8138 - val_loss: 1.0909 - val_channel_loss: 0.6713 - val_baseline_loss: 0.6203 - val_channel_acc: 0.8264 - val_baseline_acc: 0.8327\n",
      "Epoch 96/100\n",
      "366037/366037 [==============================] - 14s 39us/step - loss: 1.1207 - channel_loss: 0.7029 - baseline_loss: 0.6528 - channel_acc: 0.8067 - baseline_acc: 0.8139 - val_loss: 1.0854 - val_channel_loss: 0.6694 - val_baseline_loss: 0.6191 - val_channel_acc: 0.8272 - val_baseline_acc: 0.8355\n",
      "Epoch 97/100\n",
      "366037/366037 [==============================] - 14s 39us/step - loss: 1.1170 - channel_loss: 0.7028 - baseline_loss: 0.6528 - channel_acc: 0.8069 - baseline_acc: 0.8137 - val_loss: 1.0824 - val_channel_loss: 0.6699 - val_baseline_loss: 0.6163 - val_channel_acc: 0.8284 - val_baseline_acc: 0.8355\n",
      "Epoch 98/100\n",
      "366037/366037 [==============================] - 14s 39us/step - loss: 1.1136 - channel_loss: 0.7028 - baseline_loss: 0.6532 - channel_acc: 0.8071 - baseline_acc: 0.8139 - val_loss: 1.0786 - val_channel_loss: 0.6695 - val_baseline_loss: 0.6163 - val_channel_acc: 0.8281 - val_baseline_acc: 0.8349\n",
      "Epoch 99/100\n",
      "366037/366037 [==============================] - 14s 39us/step - loss: 1.1112 - channel_loss: 0.7037 - baseline_loss: 0.6546 - channel_acc: 0.8068 - baseline_acc: 0.8137 - val_loss: 1.0771 - val_channel_loss: 0.6712 - val_baseline_loss: 0.6122 - val_channel_acc: 0.8271 - val_baseline_acc: 0.8348\n",
      "Epoch 100/100\n",
      "366037/366037 [==============================] - 14s 39us/step - loss: 1.1077 - channel_loss: 0.7034 - baseline_loss: 0.6536 - channel_acc: 0.8071 - baseline_acc: 0.8144 - val_loss: 1.0737 - val_channel_loss: 0.6710 - val_baseline_loss: 0.6208 - val_channel_acc: 0.8270 - val_baseline_acc: 0.8341\n"
     ]
    }
   ],
   "source": [
    "train_res = simple_model.fit(X_train_train,\n",
    "                      [Y_train_train,Y_train_train],\n",
    "                      batch_size=batch_size,\n",
    "                      epochs=100,\n",
    "                      verbose=True,\n",
    "                      validation_data=(X_train_val,\n",
    "                                       [Y_train_val,Y_train_val]),\n",
    "                      callbacks=\n",
    "                      [EarlyStopping(patience=3,mode='min',verbose=True)]\n",
    "                      )"
   ]
  },
  {
   "cell_type": "code",
   "execution_count": null,
   "metadata": {
    "collapsed": true
   },
   "outputs": [],
   "source": []
  },
  {
   "cell_type": "code",
   "execution_count": 541,
   "metadata": {},
   "outputs": [
    {
     "data": {
      "text/plain": [
       "{'baseline_acc': 0.9010062878648798,\n",
       " 'baseline_loss': 0.27930392991879327,\n",
       " 'channel_acc': 0.88894116027170922,\n",
       " 'channel_loss': 0.54936475111012595,\n",
       " 'loss': 0.9520515146792996}"
      ]
     },
     "execution_count": 541,
     "metadata": {},
     "output_type": "execute_result"
    }
   ],
   "source": [
    "eval(simple_model,y_test=[Y_test,Y_test])"
   ]
  },
  {
   "cell_type": "code",
   "execution_count": 542,
   "metadata": {},
   "outputs": [
    {
     "data": {
      "text/html": [
       "<div>\n",
       "<style>\n",
       "    .dataframe thead tr:only-child th {\n",
       "        text-align: right;\n",
       "    }\n",
       "\n",
       "    .dataframe thead th {\n",
       "        text-align: left;\n",
       "    }\n",
       "\n",
       "    .dataframe tbody tr th {\n",
       "        vertical-align: top;\n",
       "    }\n",
       "</style>\n",
       "<table border=\"1\" class=\"dataframe\">\n",
       "  <thead>\n",
       "    <tr style=\"text-align: right;\">\n",
       "      <th></th>\n",
       "      <th>Elevation</th>\n",
       "      <th>Aspect</th>\n",
       "      <th>Slope</th>\n",
       "      <th>Horizontal_Distance_To_Hydrology</th>\n",
       "      <th>Vertical_Distance_To_Hydrology</th>\n",
       "      <th>Horizontal_Distance_To_Roadways</th>\n",
       "      <th>Hillshade_9am</th>\n",
       "      <th>Hillshade_Noon</th>\n",
       "      <th>Hillshade_3pm</th>\n",
       "      <th>Horizontal_Distance_To_Fire_Points</th>\n",
       "      <th>...</th>\n",
       "      <th>Soil_Type_35</th>\n",
       "      <th>Soil_Type_36</th>\n",
       "      <th>Soil_Type_37</th>\n",
       "      <th>Soil_Type_38</th>\n",
       "      <th>Soil_Type_39</th>\n",
       "      <th>Soil_Type_40</th>\n",
       "      <th>Wilderness_Area_1</th>\n",
       "      <th>Wilderness_Area_2</th>\n",
       "      <th>Wilderness_Area_3</th>\n",
       "      <th>Wilderness_Area_4</th>\n",
       "    </tr>\n",
       "  </thead>\n",
       "  <tbody>\n",
       "    <tr>\n",
       "      <th>3990</th>\n",
       "      <td>-2.940916</td>\n",
       "      <td>-1.176484</td>\n",
       "      <td>0.920171</td>\n",
       "      <td>-1.127079</td>\n",
       "      <td>-0.676873</td>\n",
       "      <td>-0.787048</td>\n",
       "      <td>-0.342117</td>\n",
       "      <td>-1.737584</td>\n",
       "      <td>-0.717244</td>\n",
       "      <td>-0.383433</td>\n",
       "      <td>...</td>\n",
       "      <td>0</td>\n",
       "      <td>0</td>\n",
       "      <td>0</td>\n",
       "      <td>0</td>\n",
       "      <td>0</td>\n",
       "      <td>0</td>\n",
       "      <td>0</td>\n",
       "      <td>0</td>\n",
       "      <td>0</td>\n",
       "      <td>1</td>\n",
       "    </tr>\n",
       "    <tr>\n",
       "      <th>269758</th>\n",
       "      <td>-2.905167</td>\n",
       "      <td>-0.675744</td>\n",
       "      <td>0.652874</td>\n",
       "      <td>-0.561127</td>\n",
       "      <td>0.594638</td>\n",
       "      <td>-1.302943</td>\n",
       "      <td>1.075192</td>\n",
       "      <td>-1.079161</td>\n",
       "      <td>-1.526362</td>\n",
       "      <td>-1.054360</td>\n",
       "      <td>...</td>\n",
       "      <td>0</td>\n",
       "      <td>0</td>\n",
       "      <td>0</td>\n",
       "      <td>0</td>\n",
       "      <td>0</td>\n",
       "      <td>0</td>\n",
       "      <td>0</td>\n",
       "      <td>0</td>\n",
       "      <td>0</td>\n",
       "      <td>1</td>\n",
       "    </tr>\n",
       "    <tr>\n",
       "      <th>418575</th>\n",
       "      <td>-0.556407</td>\n",
       "      <td>1.577588</td>\n",
       "      <td>0.118281</td>\n",
       "      <td>-0.443220</td>\n",
       "      <td>-0.401952</td>\n",
       "      <td>-0.043006</td>\n",
       "      <td>-1.050771</td>\n",
       "      <td>-0.167499</td>\n",
       "      <td>0.848791</td>\n",
       "      <td>-0.728719</td>\n",
       "      <td>...</td>\n",
       "      <td>0</td>\n",
       "      <td>0</td>\n",
       "      <td>0</td>\n",
       "      <td>0</td>\n",
       "      <td>0</td>\n",
       "      <td>0</td>\n",
       "      <td>0</td>\n",
       "      <td>0</td>\n",
       "      <td>1</td>\n",
       "      <td>0</td>\n",
       "    </tr>\n",
       "    <tr>\n",
       "      <th>227405</th>\n",
       "      <td>-1.014004</td>\n",
       "      <td>1.121557</td>\n",
       "      <td>3.192193</td>\n",
       "      <td>1.240486</td>\n",
       "      <td>2.897103</td>\n",
       "      <td>-1.001737</td>\n",
       "      <td>-4.407555</td>\n",
       "      <td>-0.522034</td>\n",
       "      <td>2.649731</td>\n",
       "      <td>-0.094058</td>\n",
       "      <td>...</td>\n",
       "      <td>0</td>\n",
       "      <td>0</td>\n",
       "      <td>0</td>\n",
       "      <td>0</td>\n",
       "      <td>0</td>\n",
       "      <td>0</td>\n",
       "      <td>0</td>\n",
       "      <td>0</td>\n",
       "      <td>1</td>\n",
       "      <td>0</td>\n",
       "    </tr>\n",
       "    <tr>\n",
       "      <th>540541</th>\n",
       "      <td>1.517079</td>\n",
       "      <td>1.362985</td>\n",
       "      <td>1.722061</td>\n",
       "      <td>-0.363044</td>\n",
       "      <td>0.422812</td>\n",
       "      <td>-0.656312</td>\n",
       "      <td>-2.766461</td>\n",
       "      <td>-0.522034</td>\n",
       "      <td>1.762311</td>\n",
       "      <td>-0.247434</td>\n",
       "      <td>...</td>\n",
       "      <td>0</td>\n",
       "      <td>0</td>\n",
       "      <td>0</td>\n",
       "      <td>0</td>\n",
       "      <td>1</td>\n",
       "      <td>0</td>\n",
       "      <td>0</td>\n",
       "      <td>1</td>\n",
       "      <td>0</td>\n",
       "      <td>0</td>\n",
       "    </tr>\n",
       "  </tbody>\n",
       "</table>\n",
       "<p>5 rows × 63 columns</p>\n",
       "</div>"
      ],
      "text/plain": [
       "        Elevation    Aspect     Slope  Horizontal_Distance_To_Hydrology  \\\n",
       "3990    -2.940916 -1.176484  0.920171                         -1.127079   \n",
       "269758  -2.905167 -0.675744  0.652874                         -0.561127   \n",
       "418575  -0.556407  1.577588  0.118281                         -0.443220   \n",
       "227405  -1.014004  1.121557  3.192193                          1.240486   \n",
       "540541   1.517079  1.362985  1.722061                         -0.363044   \n",
       "\n",
       "        Vertical_Distance_To_Hydrology  Horizontal_Distance_To_Roadways  \\\n",
       "3990                         -0.676873                        -0.787048   \n",
       "269758                        0.594638                        -1.302943   \n",
       "418575                       -0.401952                        -0.043006   \n",
       "227405                        2.897103                        -1.001737   \n",
       "540541                        0.422812                        -0.656312   \n",
       "\n",
       "        Hillshade_9am  Hillshade_Noon  Hillshade_3pm  \\\n",
       "3990        -0.342117       -1.737584      -0.717244   \n",
       "269758       1.075192       -1.079161      -1.526362   \n",
       "418575      -1.050771       -0.167499       0.848791   \n",
       "227405      -4.407555       -0.522034       2.649731   \n",
       "540541      -2.766461       -0.522034       1.762311   \n",
       "\n",
       "        Horizontal_Distance_To_Fire_Points        ...          Soil_Type_35  \\\n",
       "3990                             -0.383433        ...                     0   \n",
       "269758                           -1.054360        ...                     0   \n",
       "418575                           -0.728719        ...                     0   \n",
       "227405                           -0.094058        ...                     0   \n",
       "540541                           -0.247434        ...                     0   \n",
       "\n",
       "        Soil_Type_36  Soil_Type_37  Soil_Type_38  Soil_Type_39  Soil_Type_40  \\\n",
       "3990               0             0             0             0             0   \n",
       "269758             0             0             0             0             0   \n",
       "418575             0             0             0             0             0   \n",
       "227405             0             0             0             0             0   \n",
       "540541             0             0             0             1             0   \n",
       "\n",
       "        Wilderness_Area_1  Wilderness_Area_2  Wilderness_Area_3  \\\n",
       "3990                    0                  0                  0   \n",
       "269758                  0                  0                  0   \n",
       "418575                  0                  0                  1   \n",
       "227405                  0                  0                  1   \n",
       "540541                  0                  1                  0   \n",
       "\n",
       "        Wilderness_Area_4  \n",
       "3990                    1  \n",
       "269758                  1  \n",
       "418575                  0  \n",
       "227405                  0  \n",
       "540541                  0  \n",
       "\n",
       "[5 rows x 63 columns]"
      ]
     },
     "execution_count": 542,
     "metadata": {},
     "output_type": "execute_result"
    }
   ],
   "source": [
    "X_test.head()"
   ]
  },
  {
   "cell_type": "code",
   "execution_count": 543,
   "metadata": {
    "collapsed": true
   },
   "outputs": [],
   "source": [
    "preds=simple_model.predict(X_test.values)"
   ]
  },
  {
   "cell_type": "code",
   "execution_count": 544,
   "metadata": {
    "collapsed": true
   },
   "outputs": [],
   "source": [
    "preds_max=np.argmax(preds[0],axis=-1)"
   ]
  },
  {
   "cell_type": "code",
   "execution_count": 545,
   "metadata": {},
   "outputs": [
    {
     "data": {
      "text/plain": [
       "(174304,)"
      ]
     },
     "execution_count": 545,
     "metadata": {},
     "output_type": "execute_result"
    }
   ],
   "source": [
    "preds_max.shape"
   ]
  },
  {
   "cell_type": "code",
   "execution_count": 546,
   "metadata": {
    "collapsed": true
   },
   "outputs": [],
   "source": [
    "import itertools\n",
    "\n",
    "def plot_confusion_matrix(cm, classes,\n",
    "                          normalize=False,\n",
    "                          title='Confusion matrix',\n",
    "                          cmap=plt.cm.Blues):\n",
    "    \"\"\"\n",
    "    This function prints and plots the confusion matrix.\n",
    "    Normalization can be applied by setting `normalize=True`.\n",
    "    \"\"\"\n",
    "    plt.imshow(cm, interpolation='nearest', cmap=cmap)\n",
    "    plt.title(title)\n",
    "    plt.colorbar()\n",
    "    tick_marks = np.arange(len(classes))\n",
    "    plt.xticks(tick_marks, classes, rotation=0)\n",
    "    plt.yticks(tick_marks, classes)\n",
    "\n",
    "    if normalize:\n",
    "        cm = cm.astype('float') / cm.sum(axis=1)[:, np.newaxis]\n",
    "        #print(\"Normalized confusion matrix\")\n",
    "    else:\n",
    "        1#print('Confusion matrix, without normalization')\n",
    "\n",
    "    #print(cm)\n",
    "\n",
    "    thresh = cm.max() / 2.\n",
    "    for i, j in itertools.product(range(cm.shape[0]), range(cm.shape[1])):\n",
    "        plt.text(j, i, cm[i, j],\n",
    "                 horizontalalignment=\"center\",\n",
    "                 color=\"white\" if cm[i, j] > thresh else \"black\")\n",
    "\n",
    "    #plt.tight_layout()\n",
    "    plt.ylabel('True label')\n",
    "    plt.xlabel('Predicted label')"
   ]
  },
  {
   "cell_type": "code",
   "execution_count": 547,
   "metadata": {
    "collapsed": true
   },
   "outputs": [],
   "source": [
    "from sklearn.metrics import confusion_matrix,precision_recall_curve,auc,roc_auc_score,roc_curve,recall_score,classification_report"
   ]
  },
  {
   "cell_type": "code",
   "execution_count": 548,
   "metadata": {
    "collapsed": true
   },
   "outputs": [],
   "source": [
    "Y_test_df=pd.DataFrame(Y_test,columns=['Cover_Type'])"
   ]
  },
  {
   "cell_type": "code",
   "execution_count": 549,
   "metadata": {},
   "outputs": [
    {
     "data": {
      "text/plain": [
       "1    84991\n",
       "0    63552\n",
       "2    10726\n",
       "6     6153\n",
       "5     5210\n",
       "4     2848\n",
       "3      824\n",
       "Name: Cover_Type, dtype: int64"
      ]
     },
     "execution_count": 549,
     "metadata": {},
     "output_type": "execute_result"
    }
   ],
   "source": [
    "Y_test_df['Cover_Type'].value_counts()"
   ]
  },
  {
   "cell_type": "code",
   "execution_count": 550,
   "metadata": {
    "collapsed": true
   },
   "outputs": [],
   "source": [
    "import matplotlib\n",
    "font = {'family' : 'normal',\n",
    "        'weight' : 'bold',\n",
    "        'size'   : 14}\n",
    "matplotlib.rc('font', **font)"
   ]
  },
  {
   "cell_type": "code",
   "execution_count": 551,
   "metadata": {},
   "outputs": [
    {
     "name": "stderr",
     "output_type": "stream",
     "text": [
      "/usr/local/anaconda3/5.0.1/lib/python3.6/site-packages/matplotlib/font_manager.py:1316: UserWarning: findfont: Font family ['normal'] not found. Falling back to DejaVu Sans\n",
      "  (prop.get_family(), self.defaultFamily[fontext]))\n"
     ]
    },
    {
     "data": {
      "image/png": "[encoded data removed]",
      "text/plain": [
       "<matplotlib.figure.Figure at 0x7f0adeb95ba8>"
      ]
     },
     "metadata": {},
     "output_type": "display_data"
    }
   ],
   "source": [
    "cnf_matrix = confusion_matrix(Y_test,preds_max)\n",
    "np.set_printoptions(precision=2)\n",
    "\n",
    "#print(\"Recall metric in the testing dataset: \", cnf_matrix[1,1]/(cnf_matrix[1,0]+cnf_matrix[1,1]))\n",
    "\n",
    "# Plot non-normalized confusion matrix\n",
    "class_names = class_names = ['C type-1','C type-2','C type-3','C type-4','C type-5','C type-6','C type-7']\n",
    "plt.figure(figsize=(15, 10))\n",
    "plot_confusion_matrix(cnf_matrix\n",
    "                      , classes=class_names\n",
    "                      , title='Confusion matrix')\n",
    "plt.grid('off')\n",
    "plt.show()"
   ]
  },
  {
   "cell_type": "code",
   "execution_count": 552,
   "metadata": {
    "collapsed": true
   },
   "outputs": [],
   "source": [
    "from sklearn.metrics import accuracy_score"
   ]
  },
  {
   "cell_type": "code",
   "execution_count": 553,
   "metadata": {},
   "outputs": [
    {
     "data": {
      "text/plain": [
       "0.88894116027170922"
      ]
     },
     "execution_count": 553,
     "metadata": {},
     "output_type": "execute_result"
    }
   ],
   "source": [
    "accuracy_score(Y_test,preds_max.ravel())"
   ]
  },
  {
   "cell_type": "code",
   "execution_count": 554,
   "metadata": {},
   "outputs": [
    {
     "name": "stdout",
     "output_type": "stream",
     "text": [
      "------------------------Classification Report-------------------------------\n",
      "             precision    recall  f1-score   support\n",
      "\n",
      "          0       0.91      0.91      0.91     63552\n",
      "          1       0.90      0.95      0.92     84991\n",
      "          2       0.70      0.94      0.80     10726\n",
      "          3       0.00      0.00      0.00       824\n",
      "          4       0.94      0.28      0.43      2848\n",
      "          5       0.92      0.22      0.35      5210\n",
      "          6       0.97      0.75      0.85      6153\n",
      "\n",
      "avg / total       0.89      0.89      0.88    174304\n",
      "\n"
     ]
    },
    {
     "name": "stderr",
     "output_type": "stream",
     "text": [
      "/usr/local/anaconda3/5.0.1/lib/python3.6/site-packages/sklearn/metrics/classification.py:1135: UndefinedMetricWarning: Precision and F-score are ill-defined and being set to 0.0 in labels with no predicted samples.\n",
      "  'precision', 'predicted', average, warn_for)\n"
     ]
    }
   ],
   "source": [
    "print('------------------------Classification Report-------------------------------')\n",
    "print(classification_report(Y_test,preds_max.ravel()))"
   ]
  },
  {
   "cell_type": "code",
   "execution_count": 117,
   "metadata": {
    "collapsed": true
   },
   "outputs": [],
   "source": [
    "from keras.layers import merge\n",
    "from keras.layers import concatenate\n",
    "from keras.layers import Dot\n",
    "from keras.layers import Reshape"
   ]
  },
  {
   "cell_type": "code",
   "execution_count": 119,
   "metadata": {},
   "outputs": [
    {
     "name": "stderr",
     "output_type": "stream",
     "text": [
      "/home/namanda/anaconda3.6/lib/python3.6/site-packages/ipykernel_launcher.py:4: UserWarning: The `merge` function is deprecated and will be removed after 08/2017. Use instead layers from `keras.layers.merge`, e.g. `add`, `concatenate`, etc.\n",
      "  after removing the cwd from sys.path.\n",
      "/home/namanda/anaconda3.6/lib/python3.6/site-packages/keras/legacy/layers.py:464: UserWarning: The `Merge` layer is deprecated and will be removed after 08/2017. Use instead layers from `keras.layers.merge`, e.g. `add`, `concatenate`, etc.\n",
      "  name=name)\n"
     ]
    }
   ],
   "source": [
    "channel_matrix = [Dense(nb_classes,activation='softmax',kernel_regularizer=regularizers.l2(0.01),name='dense_class%d'%i,weights=[0.05*(np.random.random((nhidden,nb_classes)) - 0.5),channel_weights[i]])(last_hidden)for i in range(nb_classes)]\n",
    "channel_matrix = concatenate(channel_matrix)\n",
    "channel_matrix = Reshape((nb_classes,nb_classes))(channel_matrix)\n",
    "channeled_output = merge([channel_matrix, baseline_output], mode='dot', dot_axes=(1,1), name='channel')"
   ]
  },
  {
   "cell_type": "code",
   "execution_count": 122,
   "metadata": {
    "collapsed": true
   },
   "outputs": [],
   "source": [
    "if BETA ==1:\n",
    "    complex_model = Model(inputs=train_inputs, outputs=[baseline_output])\n",
    "    complex_model.compile(loss='sparse_categorical_crossentropy',optimizer=sgd,metrics=['accuracy'])\n",
    "else:\n",
    "    complex_model = Model(inputs=train_inputs, outputs=[channeled_output, baseline_output])\n",
    "    complex_model.compile(loss='sparse_categorical_crossentropy',loss_weights=[1.-BETA, BETA],optimizer=sgd,metrics=['accuracy'])"
   ]
  },
  {
   "cell_type": "code",
   "execution_count": 123,
   "metadata": {},
   "outputs": [
    {
     "name": "stdout",
     "output_type": "stream",
     "text": [
      "__________________________________________________________________________________________________\n",
      "Layer (type)                    Output Shape         Param #     Connected to                     \n",
      "==================================================================================================\n",
      "input_1 (InputLayer)            (None, 63)           0                                            \n",
      "__________________________________________________________________________________________________\n",
      "hidden (Sequential)             (None, 100)          267000      input_1[0][0]                    \n",
      "__________________________________________________________________________________________________\n",
      "dense_class0 (Dense)            (None, 7)            707         hidden[1][0]                     \n",
      "__________________________________________________________________________________________________\n",
      "dense_class1 (Dense)            (None, 7)            707         hidden[1][0]                     \n",
      "__________________________________________________________________________________________________\n",
      "dense_class2 (Dense)            (None, 7)            707         hidden[1][0]                     \n",
      "__________________________________________________________________________________________________\n",
      "dense_class3 (Dense)            (None, 7)            707         hidden[1][0]                     \n",
      "__________________________________________________________________________________________________\n",
      "dense_class4 (Dense)            (None, 7)            707         hidden[1][0]                     \n",
      "__________________________________________________________________________________________________\n",
      "dense_class5 (Dense)            (None, 7)            707         hidden[1][0]                     \n",
      "__________________________________________________________________________________________________\n",
      "dense_class6 (Dense)            (None, 7)            707         hidden[1][0]                     \n",
      "__________________________________________________________________________________________________\n",
      "concatenate_4 (Concatenate)     (None, 49)           0           dense_class0[0][0]               \n",
      "                                                                 dense_class1[0][0]               \n",
      "                                                                 dense_class2[0][0]               \n",
      "                                                                 dense_class3[0][0]               \n",
      "                                                                 dense_class4[0][0]               \n",
      "                                                                 dense_class5[0][0]               \n",
      "                                                                 dense_class6[0][0]               \n",
      "__________________________________________________________________________________________________\n",
      "reshape_3 (Reshape)             (None, 7, 7)         0           concatenate_4[0][0]              \n",
      "__________________________________________________________________________________________________\n",
      "baseline (Dense)                (None, 7)            707         hidden[1][0]                     \n",
      "__________________________________________________________________________________________________\n",
      "channel (Merge)                 (None, 7)            0           reshape_3[0][0]                  \n",
      "                                                                 baseline[0][0]                   \n",
      "==================================================================================================\n",
      "Total params: 272,656\n",
      "Trainable params: 270,456\n",
      "Non-trainable params: 2,200\n",
      "__________________________________________________________________________________________________\n"
     ]
    }
   ],
   "source": [
    "complex_model.summary()"
   ]
  },
  {
   "cell_type": "code",
   "execution_count": 124,
   "metadata": {},
   "outputs": [
    {
     "name": "stdout",
     "output_type": "stream",
     "text": [
      "Train on 366037 samples, validate on 40671 samples\n",
      "Epoch 1/200000\n",
      "366037/366037 [==============================] - 26s 70us/step - loss: 0.6746 - channel_loss: 0.5940 - baseline_loss: 0.6993 - channel_acc: 0.7410 - baseline_acc: 0.7409 - val_loss: 0.6388 - val_channel_loss: 0.5582 - val_baseline_loss: 0.6525 - val_channel_acc: 0.7622 - val_baseline_acc: 0.7625\n",
      "Epoch 2/200000\n",
      "366037/366037 [==============================] - 22s 60us/step - loss: 0.6712 - channel_loss: 0.5908 - baseline_loss: 0.6917 - channel_acc: 0.7415 - baseline_acc: 0.7415 - val_loss: 0.6369 - val_channel_loss: 0.5565 - val_baseline_loss: 0.6475 - val_channel_acc: 0.7615 - val_baseline_acc: 0.7611\n",
      "Epoch 3/200000\n",
      "366037/366037 [==============================] - 18s 48us/step - loss: 0.6691 - channel_loss: 0.5889 - baseline_loss: 0.6859 - channel_acc: 0.7418 - baseline_acc: 0.7418 - val_loss: 0.6346 - val_channel_loss: 0.5545 - val_baseline_loss: 0.6413 - val_channel_acc: 0.7628 - val_baseline_acc: 0.7628\n",
      "Epoch 4/200000\n",
      "366037/366037 [==============================] - 17s 47us/step - loss: 0.6676 - channel_loss: 0.5876 - baseline_loss: 0.6807 - channel_acc: 0.7412 - baseline_acc: 0.7409 - val_loss: 0.6331 - val_channel_loss: 0.5532 - val_baseline_loss: 0.6357 - val_channel_acc: 0.7617 - val_baseline_acc: 0.7617\n",
      "Epoch 5/200000\n",
      "366037/366037 [==============================] - 15s 41us/step - loss: 0.6667 - channel_loss: 0.5869 - baseline_loss: 0.6770 - channel_acc: 0.7417 - baseline_acc: 0.7416 - val_loss: 0.6315 - val_channel_loss: 0.5517 - val_baseline_loss: 0.6342 - val_channel_acc: 0.7630 - val_baseline_acc: 0.7628\n",
      "Epoch 6/200000\n",
      "366037/366037 [==============================] - 14s 39us/step - loss: 0.6663 - channel_loss: 0.5866 - baseline_loss: 0.6763 - channel_acc: 0.7414 - baseline_acc: 0.7415 - val_loss: 0.6312 - val_channel_loss: 0.5516 - val_baseline_loss: 0.6337 - val_channel_acc: 0.7619 - val_baseline_acc: 0.7620\n",
      "Epoch 7/200000\n",
      "366037/366037 [==============================] - 14s 39us/step - loss: 0.6647 - channel_loss: 0.5852 - baseline_loss: 0.6724 - channel_acc: 0.7422 - baseline_acc: 0.7422 - val_loss: 0.6302 - val_channel_loss: 0.5508 - val_baseline_loss: 0.6325 - val_channel_acc: 0.7632 - val_baseline_acc: 0.7636\n",
      "Epoch 8/200000\n",
      "366037/366037 [==============================] - 14s 39us/step - loss: 0.6646 - channel_loss: 0.5852 - baseline_loss: 0.6701 - channel_acc: 0.7411 - baseline_acc: 0.7408 - val_loss: 0.6300 - val_channel_loss: 0.5506 - val_baseline_loss: 0.6295 - val_channel_acc: 0.7619 - val_baseline_acc: 0.7617\n",
      "Epoch 9/200000\n",
      "366037/366037 [==============================] - 14s 38us/step - loss: 0.6639 - channel_loss: 0.5847 - baseline_loss: 0.6681 - channel_acc: 0.7416 - baseline_acc: 0.7417 - val_loss: 0.6290 - val_channel_loss: 0.5499 - val_baseline_loss: 0.6267 - val_channel_acc: 0.7618 - val_baseline_acc: 0.7621\n",
      "Epoch 10/200000\n",
      "366037/366037 [==============================] - 14s 38us/step - loss: 0.6634 - channel_loss: 0.5843 - baseline_loss: 0.6661 - channel_acc: 0.7419 - baseline_acc: 0.7419 - val_loss: 0.6276 - val_channel_loss: 0.5485 - val_baseline_loss: 0.6243 - val_channel_acc: 0.7630 - val_baseline_acc: 0.7633\n",
      "Epoch 11/200000\n",
      "366037/366037 [==============================] - 14s 38us/step - loss: 0.6632 - channel_loss: 0.5842 - baseline_loss: 0.6662 - channel_acc: 0.7420 - baseline_acc: 0.7418 - val_loss: 0.6275 - val_channel_loss: 0.5485 - val_baseline_loss: 0.6247 - val_channel_acc: 0.7623 - val_baseline_acc: 0.7627\n",
      "Epoch 12/200000\n",
      "366037/366037 [==============================] - 14s 38us/step - loss: 0.6617 - channel_loss: 0.5828 - baseline_loss: 0.6644 - channel_acc: 0.7418 - baseline_acc: 0.7419 - val_loss: 0.6273 - val_channel_loss: 0.5485 - val_baseline_loss: 0.6200 - val_channel_acc: 0.7623 - val_baseline_acc: 0.7619\n",
      "Epoch 13/200000\n",
      "366037/366037 [==============================] - 14s 38us/step - loss: 0.6619 - channel_loss: 0.5831 - baseline_loss: 0.6638 - channel_acc: 0.7416 - baseline_acc: 0.7417 - val_loss: 0.6266 - val_channel_loss: 0.5478 - val_baseline_loss: 0.6195 - val_channel_acc: 0.7636 - val_baseline_acc: 0.7637\n",
      "Epoch 14/200000\n",
      "366037/366037 [==============================] - 14s 39us/step - loss: 0.6610 - channel_loss: 0.5823 - baseline_loss: 0.6621 - channel_acc: 0.7418 - baseline_acc: 0.7418 - val_loss: 0.6263 - val_channel_loss: 0.5477 - val_baseline_loss: 0.6192 - val_channel_acc: 0.7631 - val_baseline_acc: 0.7634\n",
      "Epoch 15/200000\n",
      "366037/366037 [==============================] - 14s 38us/step - loss: 0.6610 - channel_loss: 0.5824 - baseline_loss: 0.6617 - channel_acc: 0.7420 - baseline_acc: 0.7421 - val_loss: 0.6256 - val_channel_loss: 0.5471 - val_baseline_loss: 0.6205 - val_channel_acc: 0.7636 - val_baseline_acc: 0.7636\n",
      "Epoch 16/200000\n",
      "366037/366037 [==============================] - 14s 38us/step - loss: 0.6608 - channel_loss: 0.5823 - baseline_loss: 0.6603 - channel_acc: 0.7419 - baseline_acc: 0.7417 - val_loss: 0.6252 - val_channel_loss: 0.5468 - val_baseline_loss: 0.6154 - val_channel_acc: 0.7622 - val_baseline_acc: 0.7621\n",
      "Epoch 17/200000\n",
      "366037/366037 [==============================] - 14s 39us/step - loss: 0.6596 - channel_loss: 0.5812 - baseline_loss: 0.6587 - channel_acc: 0.7426 - baseline_acc: 0.7428 - val_loss: 0.6249 - val_channel_loss: 0.5465 - val_baseline_loss: 0.6181 - val_channel_acc: 0.7631 - val_baseline_acc: 0.7633\n",
      "Epoch 18/200000\n",
      "366037/366037 [==============================] - 14s 38us/step - loss: 0.6597 - channel_loss: 0.5814 - baseline_loss: 0.6573 - channel_acc: 0.7421 - baseline_acc: 0.7421 - val_loss: 0.6249 - val_channel_loss: 0.5466 - val_baseline_loss: 0.6186 - val_channel_acc: 0.7615 - val_baseline_acc: 0.7613\n",
      "Epoch 19/200000\n",
      "366037/366037 [==============================] - 14s 38us/step - loss: 0.6595 - channel_loss: 0.5812 - baseline_loss: 0.6570 - channel_acc: 0.7422 - baseline_acc: 0.7421 - val_loss: 0.6246 - val_channel_loss: 0.5464 - val_baseline_loss: 0.6159 - val_channel_acc: 0.7625 - val_baseline_acc: 0.7624\n",
      "Epoch 20/200000\n",
      "366037/366037 [==============================] - 14s 38us/step - loss: 0.6593 - channel_loss: 0.5811 - baseline_loss: 0.6556 - channel_acc: 0.7416 - baseline_acc: 0.7416 - val_loss: 0.6238 - val_channel_loss: 0.5457 - val_baseline_loss: 0.6146 - val_channel_acc: 0.7630 - val_baseline_acc: 0.7631\n",
      "Epoch 21/200000\n",
      "366037/366037 [==============================] - 14s 38us/step - loss: 0.6587 - channel_loss: 0.5806 - baseline_loss: 0.6542 - channel_acc: 0.7428 - baseline_acc: 0.7429 - val_loss: 0.6243 - val_channel_loss: 0.5462 - val_baseline_loss: 0.6165 - val_channel_acc: 0.7622 - val_baseline_acc: 0.7622\n",
      "Epoch 22/200000\n",
      "366037/366037 [==============================] - 14s 38us/step - loss: 0.6590 - channel_loss: 0.5809 - baseline_loss: 0.6553 - channel_acc: 0.7421 - baseline_acc: 0.7419 - val_loss: 0.6237 - val_channel_loss: 0.5457 - val_baseline_loss: 0.6167 - val_channel_acc: 0.7624 - val_baseline_acc: 0.7619\n",
      "Epoch 23/200000\n",
      "366037/366037 [==============================] - 14s 39us/step - loss: 0.6583 - channel_loss: 0.5804 - baseline_loss: 0.6550 - channel_acc: 0.7426 - baseline_acc: 0.7427 - val_loss: 0.6233 - val_channel_loss: 0.5454 - val_baseline_loss: 0.6119 - val_channel_acc: 0.7631 - val_baseline_acc: 0.7630\n",
      "Epoch 24/200000\n",
      "366037/366037 [==============================] - 14s 38us/step - loss: 0.6583 - channel_loss: 0.5804 - baseline_loss: 0.6536 - channel_acc: 0.7421 - baseline_acc: 0.7422 - val_loss: 0.6230 - val_channel_loss: 0.5452 - val_baseline_loss: 0.6131 - val_channel_acc: 0.7627 - val_baseline_acc: 0.7626\n",
      "Epoch 25/200000\n",
      "366037/366037 [==============================] - 14s 38us/step - loss: 0.6573 - channel_loss: 0.5795 - baseline_loss: 0.6531 - channel_acc: 0.7431 - baseline_acc: 0.7431 - val_loss: 0.6229 - val_channel_loss: 0.5451 - val_baseline_loss: 0.6153 - val_channel_acc: 0.7631 - val_baseline_acc: 0.7628\n",
      "Epoch 26/200000\n",
      "366037/366037 [==============================] - 14s 38us/step - loss: 0.6571 - channel_loss: 0.5794 - baseline_loss: 0.6529 - channel_acc: 0.7424 - baseline_acc: 0.7423 - val_loss: 0.6226 - val_channel_loss: 0.5448 - val_baseline_loss: 0.6131 - val_channel_acc: 0.7623 - val_baseline_acc: 0.7622\n",
      "Epoch 27/200000\n"
     ]
    },
    {
     "name": "stdout",
     "output_type": "stream",
     "text": [
      "366037/366037 [==============================] - 14s 37us/step - loss: 0.6572 - channel_loss: 0.5795 - baseline_loss: 0.6528 - channel_acc: 0.7428 - baseline_acc: 0.7427 - val_loss: 0.6223 - val_channel_loss: 0.5447 - val_baseline_loss: 0.6107 - val_channel_acc: 0.7634 - val_baseline_acc: 0.7635\n",
      "Epoch 28/200000\n",
      "366037/366037 [==============================] - 14s 37us/step - loss: 0.6570 - channel_loss: 0.5793 - baseline_loss: 0.6524 - channel_acc: 0.7428 - baseline_acc: 0.7427 - val_loss: 0.6222 - val_channel_loss: 0.5445 - val_baseline_loss: 0.6088 - val_channel_acc: 0.7630 - val_baseline_acc: 0.7634\n",
      "Epoch 29/200000\n",
      "366037/366037 [==============================] - 14s 37us/step - loss: 0.6571 - channel_loss: 0.5795 - baseline_loss: 0.6512 - channel_acc: 0.7427 - baseline_acc: 0.7424 - val_loss: 0.6219 - val_channel_loss: 0.5443 - val_baseline_loss: 0.6106 - val_channel_acc: 0.7639 - val_baseline_acc: 0.7631\n",
      "Epoch 30/200000\n",
      "366037/366037 [==============================] - 16s 45us/step - loss: 0.6563 - channel_loss: 0.5787 - baseline_loss: 0.6515 - channel_acc: 0.7430 - baseline_acc: 0.7429 - val_loss: 0.6216 - val_channel_loss: 0.5441 - val_baseline_loss: 0.6093 - val_channel_acc: 0.7638 - val_baseline_acc: 0.7636\n",
      "Epoch 31/200000\n",
      "366037/366037 [==============================] - 15s 41us/step - loss: 0.6565 - channel_loss: 0.5791 - baseline_loss: 0.6508 - channel_acc: 0.7429 - baseline_acc: 0.7426 - val_loss: 0.6216 - val_channel_loss: 0.5441 - val_baseline_loss: 0.6074 - val_channel_acc: 0.7633 - val_baseline_acc: 0.7632\n",
      "Epoch 32/200000\n",
      "366037/366037 [==============================] - 15s 40us/step - loss: 0.6564 - channel_loss: 0.5789 - baseline_loss: 0.6502 - channel_acc: 0.7426 - baseline_acc: 0.7423 - val_loss: 0.6218 - val_channel_loss: 0.5444 - val_baseline_loss: 0.6105 - val_channel_acc: 0.7633 - val_baseline_acc: 0.7631\n",
      "Epoch 33/200000\n",
      "366037/366037 [==============================] - 15s 41us/step - loss: 0.6552 - channel_loss: 0.5779 - baseline_loss: 0.6494 - channel_acc: 0.7429 - baseline_acc: 0.7428 - val_loss: 0.6212 - val_channel_loss: 0.5438 - val_baseline_loss: 0.6081 - val_channel_acc: 0.7634 - val_baseline_acc: 0.7637\n",
      "Epoch 34/200000\n",
      "366037/366037 [==============================] - 16s 43us/step - loss: 0.6555 - channel_loss: 0.5782 - baseline_loss: 0.6499 - channel_acc: 0.7433 - baseline_acc: 0.7432 - val_loss: 0.6209 - val_channel_loss: 0.5436 - val_baseline_loss: 0.6071 - val_channel_acc: 0.7632 - val_baseline_acc: 0.7635\n",
      "Epoch 35/200000\n",
      "366037/366037 [==============================] - 15s 42us/step - loss: 0.6555 - channel_loss: 0.5782 - baseline_loss: 0.6495 - channel_acc: 0.7431 - baseline_acc: 0.7432 - val_loss: 0.6203 - val_channel_loss: 0.5430 - val_baseline_loss: 0.6078 - val_channel_acc: 0.7634 - val_baseline_acc: 0.7633\n",
      "Epoch 36/200000\n",
      "366037/366037 [==============================] - 15s 42us/step - loss: 0.6548 - channel_loss: 0.5776 - baseline_loss: 0.6482 - channel_acc: 0.7435 - baseline_acc: 0.7435 - val_loss: 0.6203 - val_channel_loss: 0.5431 - val_baseline_loss: 0.6074 - val_channel_acc: 0.7639 - val_baseline_acc: 0.7638\n",
      "Epoch 37/200000\n",
      "366037/366037 [==============================] - 16s 43us/step - loss: 0.6551 - channel_loss: 0.5779 - baseline_loss: 0.6484 - channel_acc: 0.7429 - baseline_acc: 0.7430 - val_loss: 0.6205 - val_channel_loss: 0.5434 - val_baseline_loss: 0.6067 - val_channel_acc: 0.7633 - val_baseline_acc: 0.7636\n",
      "Epoch 38/200000\n",
      "366037/366037 [==============================] - 16s 42us/step - loss: 0.6552 - channel_loss: 0.5781 - baseline_loss: 0.6484 - channel_acc: 0.7428 - baseline_acc: 0.7425 - val_loss: 0.6197 - val_channel_loss: 0.5426 - val_baseline_loss: 0.6046 - val_channel_acc: 0.7630 - val_baseline_acc: 0.7632\n",
      "Epoch 39/200000\n",
      "366037/366037 [==============================] - 16s 45us/step - loss: 0.6540 - channel_loss: 0.5770 - baseline_loss: 0.6463 - channel_acc: 0.7442 - baseline_acc: 0.7441 - val_loss: 0.6198 - val_channel_loss: 0.5427 - val_baseline_loss: 0.6037 - val_channel_acc: 0.7641 - val_baseline_acc: 0.7640\n",
      "Epoch 40/200000\n",
      "366037/366037 [==============================] - 15s 42us/step - loss: 0.6550 - channel_loss: 0.5780 - baseline_loss: 0.6471 - channel_acc: 0.7430 - baseline_acc: 0.7430 - val_loss: 0.6196 - val_channel_loss: 0.5426 - val_baseline_loss: 0.6060 - val_channel_acc: 0.7638 - val_baseline_acc: 0.7642\n",
      "Epoch 41/200000\n",
      "366037/366037 [==============================] - 14s 39us/step - loss: 0.6549 - channel_loss: 0.5779 - baseline_loss: 0.6475 - channel_acc: 0.7427 - baseline_acc: 0.7426 - val_loss: 0.6195 - val_channel_loss: 0.5425 - val_baseline_loss: 0.6060 - val_channel_acc: 0.7630 - val_baseline_acc: 0.7635\n",
      "Epoch 42/200000\n",
      "366037/366037 [==============================] - 14s 38us/step - loss: 0.6547 - channel_loss: 0.5777 - baseline_loss: 0.6459 - channel_acc: 0.7435 - baseline_acc: 0.7435 - val_loss: 0.6193 - val_channel_loss: 0.5424 - val_baseline_loss: 0.6071 - val_channel_acc: 0.7637 - val_baseline_acc: 0.7641\n",
      "Epoch 43/200000\n",
      "366037/366037 [==============================] - 14s 39us/step - loss: 0.6539 - channel_loss: 0.5770 - baseline_loss: 0.6463 - channel_acc: 0.7436 - baseline_acc: 0.7433 - val_loss: 0.6198 - val_channel_loss: 0.5429 - val_baseline_loss: 0.6078 - val_channel_acc: 0.7627 - val_baseline_acc: 0.7634\n",
      "Epoch 44/200000\n",
      "366037/366037 [==============================] - 14s 38us/step - loss: 0.6548 - channel_loss: 0.5779 - baseline_loss: 0.6473 - channel_acc: 0.7430 - baseline_acc: 0.7431 - val_loss: 0.6187 - val_channel_loss: 0.5418 - val_baseline_loss: 0.6045 - val_channel_acc: 0.7639 - val_baseline_acc: 0.7632\n",
      "Epoch 45/200000\n",
      "366037/366037 [==============================] - 14s 37us/step - loss: 0.6540 - channel_loss: 0.5772 - baseline_loss: 0.6459 - channel_acc: 0.7443 - baseline_acc: 0.7440 - val_loss: 0.6197 - val_channel_loss: 0.5428 - val_baseline_loss: 0.6081 - val_channel_acc: 0.7632 - val_baseline_acc: 0.7629\n",
      "Epoch 46/200000\n",
      "366037/366037 [==============================] - 14s 37us/step - loss: 0.6544 - channel_loss: 0.5776 - baseline_loss: 0.6463 - channel_acc: 0.7426 - baseline_acc: 0.7424 - val_loss: 0.6182 - val_channel_loss: 0.5414 - val_baseline_loss: 0.6065 - val_channel_acc: 0.7640 - val_baseline_acc: 0.7642\n",
      "Epoch 47/200000\n",
      "366037/366037 [==============================] - 14s 38us/step - loss: 0.6542 - channel_loss: 0.5774 - baseline_loss: 0.6462 - channel_acc: 0.7428 - baseline_acc: 0.7427 - val_loss: 0.6187 - val_channel_loss: 0.5420 - val_baseline_loss: 0.6038 - val_channel_acc: 0.7635 - val_baseline_acc: 0.7629\n",
      "Epoch 48/200000\n",
      "366037/366037 [==============================] - 14s 37us/step - loss: 0.6542 - channel_loss: 0.5774 - baseline_loss: 0.6454 - channel_acc: 0.7430 - baseline_acc: 0.7430 - val_loss: 0.6182 - val_channel_loss: 0.5415 - val_baseline_loss: 0.6047 - val_channel_acc: 0.7637 - val_baseline_acc: 0.7638\n",
      "Epoch 49/200000\n",
      "366037/366037 [==============================] - 14s 37us/step - loss: 0.6538 - channel_loss: 0.5771 - baseline_loss: 0.6449 - channel_acc: 0.7431 - baseline_acc: 0.7431 - val_loss: 0.6179 - val_channel_loss: 0.5412 - val_baseline_loss: 0.6037 - val_channel_acc: 0.7639 - val_baseline_acc: 0.7644\n",
      "Epoch 50/200000\n",
      "366037/366037 [==============================] - 14s 37us/step - loss: 0.6539 - channel_loss: 0.5772 - baseline_loss: 0.6445 - channel_acc: 0.7429 - baseline_acc: 0.7428 - val_loss: 0.6184 - val_channel_loss: 0.5417 - val_baseline_loss: 0.6023 - val_channel_acc: 0.7643 - val_baseline_acc: 0.7646\n",
      "Epoch 51/200000\n",
      "366037/366037 [==============================] - 14s 37us/step - loss: 0.6539 - channel_loss: 0.5773 - baseline_loss: 0.6453 - channel_acc: 0.7433 - baseline_acc: 0.7431 - val_loss: 0.6185 - val_channel_loss: 0.5419 - val_baseline_loss: 0.6055 - val_channel_acc: 0.7639 - val_baseline_acc: 0.7635\n",
      "Epoch 52/200000\n",
      "366037/366037 [==============================] - 14s 37us/step - loss: 0.6522 - channel_loss: 0.5756 - baseline_loss: 0.6438 - channel_acc: 0.7439 - baseline_acc: 0.7439 - val_loss: 0.6183 - val_channel_loss: 0.5417 - val_baseline_loss: 0.6055 - val_channel_acc: 0.7632 - val_baseline_acc: 0.7639\n",
      "Epoch 53/200000\n",
      "366037/366037 [==============================] - 14s 37us/step - loss: 0.6526 - channel_loss: 0.5761 - baseline_loss: 0.6436 - channel_acc: 0.7433 - baseline_acc: 0.7432 - val_loss: 0.6178 - val_channel_loss: 0.5412 - val_baseline_loss: 0.6017 - val_channel_acc: 0.7640 - val_baseline_acc: 0.7636\n",
      "Epoch 54/200000\n",
      "366037/366037 [==============================] - 14s 37us/step - loss: 0.6533 - channel_loss: 0.5768 - baseline_loss: 0.6436 - channel_acc: 0.7429 - baseline_acc: 0.7430 - val_loss: 0.6174 - val_channel_loss: 0.5409 - val_baseline_loss: 0.6028 - val_channel_acc: 0.7646 - val_baseline_acc: 0.7646\n",
      "Epoch 55/200000\n",
      "366037/366037 [==============================] - 14s 38us/step - loss: 0.6522 - channel_loss: 0.5757 - baseline_loss: 0.6420 - channel_acc: 0.7445 - baseline_acc: 0.7441 - val_loss: 0.6174 - val_channel_loss: 0.5409 - val_baseline_loss: 0.6012 - val_channel_acc: 0.7637 - val_baseline_acc: 0.7645\n",
      "Epoch 56/200000\n",
      "366037/366037 [==============================] - 14s 38us/step - loss: 0.6526 - channel_loss: 0.5761 - baseline_loss: 0.6427 - channel_acc: 0.7433 - baseline_acc: 0.7434 - val_loss: 0.6179 - val_channel_loss: 0.5414 - val_baseline_loss: 0.6003 - val_channel_acc: 0.7637 - val_baseline_acc: 0.7636\n",
      "Epoch 57/200000\n",
      "366037/366037 [==============================] - 14s 39us/step - loss: 0.6522 - channel_loss: 0.5758 - baseline_loss: 0.6420 - channel_acc: 0.7434 - baseline_acc: 0.7433 - val_loss: 0.6176 - val_channel_loss: 0.5412 - val_baseline_loss: 0.6006 - val_channel_acc: 0.7639 - val_baseline_acc: 0.7637\n",
      "Epoch 58/200000\n",
      "366037/366037 [==============================] - 14s 39us/step - loss: 0.6525 - channel_loss: 0.5761 - baseline_loss: 0.6429 - channel_acc: 0.7431 - baseline_acc: 0.7430 - val_loss: 0.6171 - val_channel_loss: 0.5407 - val_baseline_loss: 0.5982 - val_channel_acc: 0.7645 - val_baseline_acc: 0.7645\n",
      "Epoch 59/200000\n",
      "366037/366037 [==============================] - 14s 39us/step - loss: 0.6520 - channel_loss: 0.5756 - baseline_loss: 0.6418 - channel_acc: 0.7433 - baseline_acc: 0.7431 - val_loss: 0.6170 - val_channel_loss: 0.5406 - val_baseline_loss: 0.6009 - val_channel_acc: 0.7646 - val_baseline_acc: 0.7643\n",
      "Epoch 60/200000\n",
      "366037/366037 [==============================] - 15s 40us/step - loss: 0.6527 - channel_loss: 0.5763 - baseline_loss: 0.6426 - channel_acc: 0.7433 - baseline_acc: 0.7433 - val_loss: 0.6169 - val_channel_loss: 0.5406 - val_baseline_loss: 0.6013 - val_channel_acc: 0.7649 - val_baseline_acc: 0.7645\n",
      "Epoch 61/200000\n",
      "366037/366037 [==============================] - 14s 39us/step - loss: 0.6521 - channel_loss: 0.5758 - baseline_loss: 0.6410 - channel_acc: 0.7438 - baseline_acc: 0.7437 - val_loss: 0.6169 - val_channel_loss: 0.5406 - val_baseline_loss: 0.6005 - val_channel_acc: 0.7637 - val_baseline_acc: 0.7638\n",
      "Epoch 62/200000\n",
      "366037/366037 [==============================] - 14s 38us/step - loss: 0.6511 - channel_loss: 0.5748 - baseline_loss: 0.6399 - channel_acc: 0.7441 - baseline_acc: 0.7437 - val_loss: 0.6164 - val_channel_loss: 0.5401 - val_baseline_loss: 0.6001 - val_channel_acc: 0.7654 - val_baseline_acc: 0.7654\n",
      "Epoch 63/200000\n",
      "366037/366037 [==============================] - 14s 38us/step - loss: 0.6524 - channel_loss: 0.5761 - baseline_loss: 0.6413 - channel_acc: 0.7433 - baseline_acc: 0.7432 - val_loss: 0.6163 - val_channel_loss: 0.5401 - val_baseline_loss: 0.5972 - val_channel_acc: 0.7643 - val_baseline_acc: 0.7647\n",
      "Epoch 64/200000\n",
      "366037/366037 [==============================] - 14s 38us/step - loss: 0.6517 - channel_loss: 0.5755 - baseline_loss: 0.6393 - channel_acc: 0.7439 - baseline_acc: 0.7438 - val_loss: 0.6170 - val_channel_loss: 0.5408 - val_baseline_loss: 0.6004 - val_channel_acc: 0.7640 - val_baseline_acc: 0.7640\n",
      "Epoch 65/200000\n",
      "366037/366037 [==============================] - 14s 37us/step - loss: 0.6519 - channel_loss: 0.5756 - baseline_loss: 0.6405 - channel_acc: 0.7441 - baseline_acc: 0.7438 - val_loss: 0.6168 - val_channel_loss: 0.5406 - val_baseline_loss: 0.6003 - val_channel_acc: 0.7638 - val_baseline_acc: 0.7641\n",
      "Epoch 66/200000\n",
      "366037/366037 [==============================] - 14s 38us/step - loss: 0.6510 - channel_loss: 0.5748 - baseline_loss: 0.6389 - channel_acc: 0.7441 - baseline_acc: 0.7440 - val_loss: 0.6168 - val_channel_loss: 0.5406 - val_baseline_loss: 0.5978 - val_channel_acc: 0.7645 - val_baseline_acc: 0.7646\n",
      "Epoch 67/200000\n",
      "366037/366037 [==============================] - 14s 38us/step - loss: 0.6508 - channel_loss: 0.5746 - baseline_loss: 0.6387 - channel_acc: 0.7443 - baseline_acc: 0.7442 - val_loss: 0.6166 - val_channel_loss: 0.5404 - val_baseline_loss: 0.6000 - val_channel_acc: 0.7639 - val_baseline_acc: 0.7643\n",
      "Epoch 00067: early stopping\n"
     ]
    }
   ],
   "source": [
    "train_res_complex = complex_model.fit(X_train_train,\n",
    "                      [Y_train_train,Y_train_train],\n",
    "                      batch_size=batch_size,\n",
    "                      epochs=200000,\n",
    "                      verbose=True,\n",
    "                      validation_data=(X_train_val,\n",
    "                                       [Y_train_val,Y_train_val]),\n",
    "                      callbacks=\n",
    "                      [EarlyStopping(patience=4,mode='min',verbose=True)]\n",
    "                      )"
   ]
  },
  {
   "cell_type": "code",
   "execution_count": 125,
   "metadata": {},
   "outputs": [
    {
     "data": {
      "text/plain": [
       "{'baseline_acc': 0.90085712318707545,\n",
       " 'baseline_loss': 0.28756390722362146,\n",
       " 'channel_acc': 0.90097186524692496,\n",
       " 'channel_loss': 0.3803366002154302,\n",
       " 'loss': 0.45653821197216155}"
      ]
     },
     "execution_count": 125,
     "metadata": {},
     "output_type": "execute_result"
    }
   ],
   "source": [
    "eval(complex_model,y_test=[Y_test,Y_test])"
   ]
  },
  {
   "cell_type": "code",
   "execution_count": 129,
   "metadata": {
    "collapsed": true
   },
   "outputs": [],
   "source": [
    "preds_complex=complex_model.predict(X_test.values)"
   ]
  },
  {
   "cell_type": "code",
   "execution_count": 130,
   "metadata": {
    "collapsed": true
   },
   "outputs": [],
   "source": [
    "preds_max_complex=np.argmax(preds_complex[0],axis=-1)"
   ]
  },
  {
   "cell_type": "code",
   "execution_count": 131,
   "metadata": {},
   "outputs": [
    {
     "data": {
      "text/plain": [
       "(174304,)"
      ]
     },
     "execution_count": 131,
     "metadata": {},
     "output_type": "execute_result"
    }
   ],
   "source": [
    "preds_max_complex.shape"
   ]
  },
  {
   "cell_type": "code",
   "execution_count": 132,
   "metadata": {},
   "outputs": [
    {
     "data": {
      "image/png": "[encoded data removed]",
      "text/plain": [
       "<matplotlib.figure.Figure at 0x7ff6cb4b4c88>"
      ]
     },
     "metadata": {},
     "output_type": "display_data"
    }
   ],
   "source": [
    "cnf_matrix = confusion_matrix(Y_test,preds_max_complex)\n",
    "np.set_printoptions(precision=2)\n",
    "\n",
    "#print(\"Recall metric in the testing dataset: \", cnf_matrix[1,1]/(cnf_matrix[1,0]+cnf_matrix[1,1]))\n",
    "\n",
    "# Plot non-normalized confusion matrix\n",
    "class_names = [0,1,2,3,4,5,6]\n",
    "plt.figure(figsize=(15, 10))\n",
    "plot_confusion_matrix(cnf_matrix\n",
    "                      , classes=class_names\n",
    "                      , title='Confusion matrix')\n",
    "plt.grid('off')\n",
    "plt.show()"
   ]
  },
  {
   "cell_type": "markdown",
   "metadata": {},
   "source": [
    "# Xgboost"
   ]
  },
  {
   "cell_type": "code",
   "execution_count": 37,
   "metadata": {
    "scrolled": true
   },
   "outputs": [
    {
     "name": "stderr",
     "output_type": "stream",
     "text": [
      "C:\\Users\\namanda\\AppData\\Local\\Continuum\\anaconda3\\lib\\site-packages\\sklearn\\cross_validation.py:41: DeprecationWarning: This module was deprecated in version 0.18 in favor of the model_selection module into which all the refactored classes and functions are moved. Also note that the interface of the new CV iterators are different from that of this module. This module will be removed in 0.20.\n",
      "  \"This module will be removed in 0.20.\", DeprecationWarning)\n"
     ]
    }
   ],
   "source": [
    "import xgboost as xgb"
   ]
  },
  {
   "cell_type": "code",
   "execution_count": 38,
   "metadata": {
    "collapsed": true
   },
   "outputs": [],
   "source": [
    "X_train_r, X_valid,Y_train_r,Y_valid = train_test_split(X_train,Y_train, test_size=0.1, random_state=0,stratify=Y_train.Cover_Type)"
   ]
  },
  {
   "cell_type": "code",
   "execution_count": 39,
   "metadata": {
    "collapsed": true
   },
   "outputs": [],
   "source": [
    "model=xgb.XGBClassifier(n_estimators=1500,learning_rate=0.02,max_depth=7,objective='multi:softprob',nthread=-1,scale_pos_weight=1)"
   ]
  },
  {
   "cell_type": "code",
   "execution_count": 40,
   "metadata": {},
   "outputs": [
    {
     "name": "stdout",
     "output_type": "stream",
     "text": [
      "[0]\tvalidation_0-mlogloss:1.90497\n",
      "Will train until validation_0-mlogloss hasn't improved in 550 rounds.\n",
      "[1]\tvalidation_0-mlogloss:1.8661\n",
      "[2]\tvalidation_0-mlogloss:1.82927\n",
      "[3]\tvalidation_0-mlogloss:1.79403\n",
      "[4]\tvalidation_0-mlogloss:1.76014\n",
      "[5]\tvalidation_0-mlogloss:1.72792\n",
      "[6]\tvalidation_0-mlogloss:1.69706\n",
      "[7]\tvalidation_0-mlogloss:1.66752\n",
      "[8]\tvalidation_0-mlogloss:1.63918\n",
      "[9]\tvalidation_0-mlogloss:1.61162\n",
      "[10]\tvalidation_0-mlogloss:1.58518\n",
      "[11]\tvalidation_0-mlogloss:1.55959\n",
      "[12]\tvalidation_0-mlogloss:1.53505\n",
      "[13]\tvalidation_0-mlogloss:1.51134\n",
      "[14]\tvalidation_0-mlogloss:1.48841\n",
      "[15]\tvalidation_0-mlogloss:1.46605\n",
      "[16]\tvalidation_0-mlogloss:1.44426\n",
      "[17]\tvalidation_0-mlogloss:1.42321\n",
      "[18]\tvalidation_0-mlogloss:1.40288\n",
      "[19]\tvalidation_0-mlogloss:1.38313\n",
      "[20]\tvalidation_0-mlogloss:1.36398\n",
      "[21]\tvalidation_0-mlogloss:1.34541\n",
      "[22]\tvalidation_0-mlogloss:1.32714\n",
      "[23]\tvalidation_0-mlogloss:1.30948\n",
      "[24]\tvalidation_0-mlogloss:1.29237\n",
      "[25]\tvalidation_0-mlogloss:1.27571\n",
      "[26]\tvalidation_0-mlogloss:1.25954\n",
      "[27]\tvalidation_0-mlogloss:1.24358\n",
      "[28]\tvalidation_0-mlogloss:1.22819\n",
      "[29]\tvalidation_0-mlogloss:1.21312\n",
      "[30]\tvalidation_0-mlogloss:1.19848\n",
      "[31]\tvalidation_0-mlogloss:1.18403\n",
      "[32]\tvalidation_0-mlogloss:1.17003\n",
      "[33]\tvalidation_0-mlogloss:1.15647\n",
      "[34]\tvalidation_0-mlogloss:1.14311\n",
      "[35]\tvalidation_0-mlogloss:1.13023\n",
      "[36]\tvalidation_0-mlogloss:1.11772\n",
      "[37]\tvalidation_0-mlogloss:1.10521\n",
      "[38]\tvalidation_0-mlogloss:1.09304\n",
      "[39]\tvalidation_0-mlogloss:1.0813\n",
      "[40]\tvalidation_0-mlogloss:1.0696\n",
      "[41]\tvalidation_0-mlogloss:1.05834\n",
      "[42]\tvalidation_0-mlogloss:1.0472\n",
      "[43]\tvalidation_0-mlogloss:1.03626\n",
      "[44]\tvalidation_0-mlogloss:1.02575\n",
      "[45]\tvalidation_0-mlogloss:1.01532\n",
      "[46]\tvalidation_0-mlogloss:1.00516\n",
      "[47]\tvalidation_0-mlogloss:0.995273\n",
      "[48]\tvalidation_0-mlogloss:0.985626\n",
      "[49]\tvalidation_0-mlogloss:0.976073\n",
      "[50]\tvalidation_0-mlogloss:0.966827\n",
      "[51]\tvalidation_0-mlogloss:0.957707\n",
      "[52]\tvalidation_0-mlogloss:0.948652\n",
      "[53]\tvalidation_0-mlogloss:0.939788\n",
      "[54]\tvalidation_0-mlogloss:0.931085\n",
      "[55]\tvalidation_0-mlogloss:0.922525\n",
      "[56]\tvalidation_0-mlogloss:0.914169\n",
      "[57]\tvalidation_0-mlogloss:0.905833\n",
      "[58]\tvalidation_0-mlogloss:0.897843\n",
      "[59]\tvalidation_0-mlogloss:0.889915\n",
      "[60]\tvalidation_0-mlogloss:0.882319\n",
      "[61]\tvalidation_0-mlogloss:0.874786\n",
      "[62]\tvalidation_0-mlogloss:0.867328\n",
      "[63]\tvalidation_0-mlogloss:0.860187\n",
      "[64]\tvalidation_0-mlogloss:0.853024\n",
      "[65]\tvalidation_0-mlogloss:0.845959\n",
      "[66]\tvalidation_0-mlogloss:0.839228\n",
      "[67]\tvalidation_0-mlogloss:0.832487\n",
      "[68]\tvalidation_0-mlogloss:0.825938\n",
      "[69]\tvalidation_0-mlogloss:0.81943\n",
      "[70]\tvalidation_0-mlogloss:0.813052\n",
      "[71]\tvalidation_0-mlogloss:0.806924\n",
      "[72]\tvalidation_0-mlogloss:0.800769\n",
      "[73]\tvalidation_0-mlogloss:0.794721\n",
      "[74]\tvalidation_0-mlogloss:0.788805\n",
      "[75]\tvalidation_0-mlogloss:0.783149\n",
      "[76]\tvalidation_0-mlogloss:0.777513\n",
      "[77]\tvalidation_0-mlogloss:0.772042\n",
      "[78]\tvalidation_0-mlogloss:0.766575\n",
      "[79]\tvalidation_0-mlogloss:0.761144\n",
      "[80]\tvalidation_0-mlogloss:0.755805\n",
      "[81]\tvalidation_0-mlogloss:0.750607\n",
      "[82]\tvalidation_0-mlogloss:0.745369\n",
      "[83]\tvalidation_0-mlogloss:0.740333\n",
      "[84]\tvalidation_0-mlogloss:0.735498\n",
      "[85]\tvalidation_0-mlogloss:0.730685\n",
      "[86]\tvalidation_0-mlogloss:0.725997\n",
      "[87]\tvalidation_0-mlogloss:0.721325\n",
      "[88]\tvalidation_0-mlogloss:0.716787\n",
      "[89]\tvalidation_0-mlogloss:0.712284\n",
      "[90]\tvalidation_0-mlogloss:0.707891\n",
      "[91]\tvalidation_0-mlogloss:0.703587\n",
      "[92]\tvalidation_0-mlogloss:0.699364\n",
      "[93]\tvalidation_0-mlogloss:0.695198\n",
      "[94]\tvalidation_0-mlogloss:0.691144\n",
      "[95]\tvalidation_0-mlogloss:0.687096\n",
      "[96]\tvalidation_0-mlogloss:0.683122\n",
      "[97]\tvalidation_0-mlogloss:0.679179\n",
      "[98]\tvalidation_0-mlogloss:0.675259\n",
      "[99]\tvalidation_0-mlogloss:0.671472\n",
      "[100]\tvalidation_0-mlogloss:0.667709\n",
      "[101]\tvalidation_0-mlogloss:0.663987\n",
      "[102]\tvalidation_0-mlogloss:0.66034\n",
      "[103]\tvalidation_0-mlogloss:0.656839\n",
      "[104]\tvalidation_0-mlogloss:0.653297\n",
      "[105]\tvalidation_0-mlogloss:0.649896\n",
      "[106]\tvalidation_0-mlogloss:0.646596\n",
      "[107]\tvalidation_0-mlogloss:0.643231\n",
      "[108]\tvalidation_0-mlogloss:0.640028\n",
      "[109]\tvalidation_0-mlogloss:0.636837\n",
      "[110]\tvalidation_0-mlogloss:0.633663\n",
      "[111]\tvalidation_0-mlogloss:0.630554\n",
      "[112]\tvalidation_0-mlogloss:0.627491\n",
      "[113]\tvalidation_0-mlogloss:0.624511\n",
      "[114]\tvalidation_0-mlogloss:0.621587\n",
      "[115]\tvalidation_0-mlogloss:0.618697\n",
      "[116]\tvalidation_0-mlogloss:0.615801\n",
      "[117]\tvalidation_0-mlogloss:0.612906\n",
      "[118]\tvalidation_0-mlogloss:0.610104\n",
      "[119]\tvalidation_0-mlogloss:0.607327\n",
      "[120]\tvalidation_0-mlogloss:0.604655\n",
      "[121]\tvalidation_0-mlogloss:0.60197\n",
      "[122]\tvalidation_0-mlogloss:0.599372\n",
      "[123]\tvalidation_0-mlogloss:0.596799\n",
      "[124]\tvalidation_0-mlogloss:0.594247\n",
      "[125]\tvalidation_0-mlogloss:0.591817\n",
      "[126]\tvalidation_0-mlogloss:0.589259\n",
      "[127]\tvalidation_0-mlogloss:0.58687\n",
      "[128]\tvalidation_0-mlogloss:0.584431\n",
      "[129]\tvalidation_0-mlogloss:0.58213\n",
      "[130]\tvalidation_0-mlogloss:0.579736\n",
      "[131]\tvalidation_0-mlogloss:0.57751\n",
      "[132]\tvalidation_0-mlogloss:0.575297\n",
      "[133]\tvalidation_0-mlogloss:0.573082\n",
      "[134]\tvalidation_0-mlogloss:0.570905\n",
      "[135]\tvalidation_0-mlogloss:0.568782\n",
      "[136]\tvalidation_0-mlogloss:0.566651\n",
      "[137]\tvalidation_0-mlogloss:0.564573\n",
      "[138]\tvalidation_0-mlogloss:0.562451\n",
      "[139]\tvalidation_0-mlogloss:0.560451\n",
      "[140]\tvalidation_0-mlogloss:0.558362\n",
      "[141]\tvalidation_0-mlogloss:0.556448\n",
      "[142]\tvalidation_0-mlogloss:0.554442\n",
      "[143]\tvalidation_0-mlogloss:0.552531\n",
      "[144]\tvalidation_0-mlogloss:0.550662\n",
      "[145]\tvalidation_0-mlogloss:0.548732\n",
      "[146]\tvalidation_0-mlogloss:0.546889\n",
      "[147]\tvalidation_0-mlogloss:0.545012\n",
      "[148]\tvalidation_0-mlogloss:0.543203\n",
      "[149]\tvalidation_0-mlogloss:0.541478\n",
      "[150]\tvalidation_0-mlogloss:0.539674\n",
      "[151]\tvalidation_0-mlogloss:0.537913\n",
      "[152]\tvalidation_0-mlogloss:0.536173\n",
      "[153]\tvalidation_0-mlogloss:0.534511\n",
      "[154]\tvalidation_0-mlogloss:0.532827\n",
      "[155]\tvalidation_0-mlogloss:0.5312\n",
      "[156]\tvalidation_0-mlogloss:0.529575\n",
      "[157]\tvalidation_0-mlogloss:0.52798\n",
      "[158]\tvalidation_0-mlogloss:0.526399\n",
      "[159]\tvalidation_0-mlogloss:0.524851\n",
      "[160]\tvalidation_0-mlogloss:0.523362\n",
      "[161]\tvalidation_0-mlogloss:0.521883\n",
      "[162]\tvalidation_0-mlogloss:0.520386\n",
      "[163]\tvalidation_0-mlogloss:0.518938\n",
      "[164]\tvalidation_0-mlogloss:0.517461\n",
      "[165]\tvalidation_0-mlogloss:0.515952\n",
      "[166]\tvalidation_0-mlogloss:0.514514\n",
      "[167]\tvalidation_0-mlogloss:0.513123\n",
      "[168]\tvalidation_0-mlogloss:0.511682\n",
      "[169]\tvalidation_0-mlogloss:0.510255\n",
      "[170]\tvalidation_0-mlogloss:0.508785\n",
      "[171]\tvalidation_0-mlogloss:0.507387\n",
      "[172]\tvalidation_0-mlogloss:0.506067\n",
      "[173]\tvalidation_0-mlogloss:0.504714\n",
      "[174]\tvalidation_0-mlogloss:0.503463\n",
      "[175]\tvalidation_0-mlogloss:0.502186\n",
      "[176]\tvalidation_0-mlogloss:0.500904\n",
      "[177]\tvalidation_0-mlogloss:0.499593\n",
      "[178]\tvalidation_0-mlogloss:0.498316\n",
      "[179]\tvalidation_0-mlogloss:0.49704\n",
      "[180]\tvalidation_0-mlogloss:0.495787\n",
      "[181]\tvalidation_0-mlogloss:0.494587\n",
      "[182]\tvalidation_0-mlogloss:0.493421\n",
      "[183]\tvalidation_0-mlogloss:0.492219\n",
      "[184]\tvalidation_0-mlogloss:0.491065\n",
      "[185]\tvalidation_0-mlogloss:0.489816\n",
      "[186]\tvalidation_0-mlogloss:0.488719\n",
      "[187]\tvalidation_0-mlogloss:0.487599\n",
      "[188]\tvalidation_0-mlogloss:0.486555\n",
      "[189]\tvalidation_0-mlogloss:0.485511\n",
      "[190]\tvalidation_0-mlogloss:0.484453\n",
      "[191]\tvalidation_0-mlogloss:0.483401\n",
      "[192]\tvalidation_0-mlogloss:0.482306\n",
      "[193]\tvalidation_0-mlogloss:0.481294\n",
      "[194]\tvalidation_0-mlogloss:0.480298\n",
      "[195]\tvalidation_0-mlogloss:0.47934\n",
      "[196]\tvalidation_0-mlogloss:0.47823\n",
      "[197]\tvalidation_0-mlogloss:0.477232\n",
      "[198]\tvalidation_0-mlogloss:0.47618\n",
      "[199]\tvalidation_0-mlogloss:0.475245\n",
      "[200]\tvalidation_0-mlogloss:0.474318\n",
      "[201]\tvalidation_0-mlogloss:0.473374\n",
      "[202]\tvalidation_0-mlogloss:0.472451\n",
      "[203]\tvalidation_0-mlogloss:0.47155\n",
      "[204]\tvalidation_0-mlogloss:0.470597\n",
      "[205]\tvalidation_0-mlogloss:0.469659\n",
      "[206]\tvalidation_0-mlogloss:0.468764\n",
      "[207]\tvalidation_0-mlogloss:0.467911\n",
      "[208]\tvalidation_0-mlogloss:0.467002\n",
      "[209]\tvalidation_0-mlogloss:0.466111\n",
      "[210]\tvalidation_0-mlogloss:0.46526\n",
      "[211]\tvalidation_0-mlogloss:0.464357\n",
      "[212]\tvalidation_0-mlogloss:0.463557\n",
      "[213]\tvalidation_0-mlogloss:0.462518\n",
      "[214]\tvalidation_0-mlogloss:0.461731\n",
      "[215]\tvalidation_0-mlogloss:0.460936\n",
      "[216]\tvalidation_0-mlogloss:0.460059\n",
      "[217]\tvalidation_0-mlogloss:0.459182\n",
      "[218]\tvalidation_0-mlogloss:0.458358\n",
      "[219]\tvalidation_0-mlogloss:0.457503\n",
      "[220]\tvalidation_0-mlogloss:0.456594\n",
      "[221]\tvalidation_0-mlogloss:0.455778\n",
      "[222]\tvalidation_0-mlogloss:0.454992\n",
      "[223]\tvalidation_0-mlogloss:0.454217\n",
      "[224]\tvalidation_0-mlogloss:0.453404\n"
     ]
    },
    {
     "name": "stdout",
     "output_type": "stream",
     "text": [
      "[225]\tvalidation_0-mlogloss:0.452674\n",
      "[226]\tvalidation_0-mlogloss:0.451838\n",
      "[227]\tvalidation_0-mlogloss:0.451011\n",
      "[228]\tvalidation_0-mlogloss:0.450276\n",
      "[229]\tvalidation_0-mlogloss:0.449505\n",
      "[230]\tvalidation_0-mlogloss:0.448825\n",
      "[231]\tvalidation_0-mlogloss:0.448011\n",
      "[232]\tvalidation_0-mlogloss:0.447222\n",
      "[233]\tvalidation_0-mlogloss:0.446491\n",
      "[234]\tvalidation_0-mlogloss:0.445745\n",
      "[235]\tvalidation_0-mlogloss:0.445023\n",
      "[236]\tvalidation_0-mlogloss:0.444384\n",
      "[237]\tvalidation_0-mlogloss:0.44359\n",
      "[238]\tvalidation_0-mlogloss:0.442812\n",
      "[239]\tvalidation_0-mlogloss:0.442149\n",
      "[240]\tvalidation_0-mlogloss:0.441462\n",
      "[241]\tvalidation_0-mlogloss:0.440785\n",
      "[242]\tvalidation_0-mlogloss:0.440054\n",
      "[243]\tvalidation_0-mlogloss:0.439116\n",
      "[244]\tvalidation_0-mlogloss:0.438516\n",
      "[245]\tvalidation_0-mlogloss:0.437899\n",
      "[246]\tvalidation_0-mlogloss:0.437071\n",
      "[247]\tvalidation_0-mlogloss:0.436451\n",
      "[248]\tvalidation_0-mlogloss:0.435677\n",
      "[249]\tvalidation_0-mlogloss:0.4351\n",
      "[250]\tvalidation_0-mlogloss:0.434301\n",
      "[251]\tvalidation_0-mlogloss:0.433511\n",
      "[252]\tvalidation_0-mlogloss:0.432957\n",
      "[253]\tvalidation_0-mlogloss:0.432241\n",
      "[254]\tvalidation_0-mlogloss:0.431654\n",
      "[255]\tvalidation_0-mlogloss:0.431074\n",
      "[256]\tvalidation_0-mlogloss:0.430376\n",
      "[257]\tvalidation_0-mlogloss:0.429629\n",
      "[258]\tvalidation_0-mlogloss:0.429127\n",
      "[259]\tvalidation_0-mlogloss:0.428359\n",
      "[260]\tvalidation_0-mlogloss:0.427764\n",
      "[261]\tvalidation_0-mlogloss:0.4271\n",
      "[262]\tvalidation_0-mlogloss:0.426431\n",
      "[263]\tvalidation_0-mlogloss:0.425864\n",
      "[264]\tvalidation_0-mlogloss:0.425207\n",
      "[265]\tvalidation_0-mlogloss:0.424715\n",
      "[266]\tvalidation_0-mlogloss:0.424197\n",
      "[267]\tvalidation_0-mlogloss:0.423637\n",
      "[268]\tvalidation_0-mlogloss:0.423036\n",
      "[269]\tvalidation_0-mlogloss:0.422554\n",
      "[270]\tvalidation_0-mlogloss:0.422114\n",
      "[271]\tvalidation_0-mlogloss:0.42161\n",
      "[272]\tvalidation_0-mlogloss:0.421028\n",
      "[273]\tvalidation_0-mlogloss:0.420498\n",
      "[274]\tvalidation_0-mlogloss:0.420064\n",
      "[275]\tvalidation_0-mlogloss:0.419405\n",
      "[276]\tvalidation_0-mlogloss:0.418877\n",
      "[277]\tvalidation_0-mlogloss:0.418431\n",
      "[278]\tvalidation_0-mlogloss:0.417968\n",
      "[279]\tvalidation_0-mlogloss:0.417507\n",
      "[280]\tvalidation_0-mlogloss:0.417063\n",
      "[281]\tvalidation_0-mlogloss:0.416638\n",
      "[282]\tvalidation_0-mlogloss:0.415997\n",
      "[283]\tvalidation_0-mlogloss:0.415609\n",
      "[284]\tvalidation_0-mlogloss:0.414931\n",
      "[285]\tvalidation_0-mlogloss:0.414422\n",
      "[286]\tvalidation_0-mlogloss:0.413976\n",
      "[287]\tvalidation_0-mlogloss:0.413313\n",
      "[288]\tvalidation_0-mlogloss:0.41281\n",
      "[289]\tvalidation_0-mlogloss:0.412333\n",
      "[290]\tvalidation_0-mlogloss:0.411931\n",
      "[291]\tvalidation_0-mlogloss:0.41148\n",
      "[292]\tvalidation_0-mlogloss:0.410965\n",
      "[293]\tvalidation_0-mlogloss:0.410267\n",
      "[294]\tvalidation_0-mlogloss:0.409862\n",
      "[295]\tvalidation_0-mlogloss:0.409342\n",
      "[296]\tvalidation_0-mlogloss:0.408862\n",
      "[297]\tvalidation_0-mlogloss:0.408459\n",
      "[298]\tvalidation_0-mlogloss:0.407925\n",
      "[299]\tvalidation_0-mlogloss:0.407424\n",
      "[300]\tvalidation_0-mlogloss:0.406914\n",
      "[301]\tvalidation_0-mlogloss:0.406489\n",
      "[302]\tvalidation_0-mlogloss:0.406134\n",
      "[303]\tvalidation_0-mlogloss:0.405651\n",
      "[304]\tvalidation_0-mlogloss:0.405199\n",
      "[305]\tvalidation_0-mlogloss:0.404664\n",
      "[306]\tvalidation_0-mlogloss:0.404203\n",
      "[307]\tvalidation_0-mlogloss:0.403593\n",
      "[308]\tvalidation_0-mlogloss:0.403268\n",
      "[309]\tvalidation_0-mlogloss:0.402896\n",
      "[310]\tvalidation_0-mlogloss:0.402457\n",
      "[311]\tvalidation_0-mlogloss:0.402013\n",
      "[312]\tvalidation_0-mlogloss:0.401522\n",
      "[313]\tvalidation_0-mlogloss:0.401042\n",
      "[314]\tvalidation_0-mlogloss:0.400671\n",
      "[315]\tvalidation_0-mlogloss:0.400287\n",
      "[316]\tvalidation_0-mlogloss:0.399804\n",
      "[317]\tvalidation_0-mlogloss:0.399342\n",
      "[318]\tvalidation_0-mlogloss:0.398966\n",
      "[319]\tvalidation_0-mlogloss:0.398494\n",
      "[320]\tvalidation_0-mlogloss:0.39812\n",
      "[321]\tvalidation_0-mlogloss:0.397784\n",
      "[322]\tvalidation_0-mlogloss:0.39733\n",
      "[323]\tvalidation_0-mlogloss:0.396949\n",
      "[324]\tvalidation_0-mlogloss:0.396619\n",
      "[325]\tvalidation_0-mlogloss:0.396253\n",
      "[326]\tvalidation_0-mlogloss:0.395943\n",
      "[327]\tvalidation_0-mlogloss:0.395578\n",
      "[328]\tvalidation_0-mlogloss:0.395204\n",
      "[329]\tvalidation_0-mlogloss:0.394769\n",
      "[330]\tvalidation_0-mlogloss:0.394355\n",
      "[331]\tvalidation_0-mlogloss:0.393856\n",
      "[332]\tvalidation_0-mlogloss:0.393565\n",
      "[333]\tvalidation_0-mlogloss:0.393217\n",
      "[334]\tvalidation_0-mlogloss:0.392865\n",
      "[335]\tvalidation_0-mlogloss:0.392536\n",
      "[336]\tvalidation_0-mlogloss:0.392224\n",
      "[337]\tvalidation_0-mlogloss:0.391834\n",
      "[338]\tvalidation_0-mlogloss:0.391514\n",
      "[339]\tvalidation_0-mlogloss:0.391132\n",
      "[340]\tvalidation_0-mlogloss:0.390773\n",
      "[341]\tvalidation_0-mlogloss:0.390479\n",
      "[342]\tvalidation_0-mlogloss:0.390102\n",
      "[343]\tvalidation_0-mlogloss:0.389801\n",
      "[344]\tvalidation_0-mlogloss:0.389518\n",
      "[345]\tvalidation_0-mlogloss:0.389093\n",
      "[346]\tvalidation_0-mlogloss:0.388794\n",
      "[347]\tvalidation_0-mlogloss:0.388478\n",
      "[348]\tvalidation_0-mlogloss:0.38811\n",
      "[349]\tvalidation_0-mlogloss:0.387819\n",
      "[350]\tvalidation_0-mlogloss:0.387459\n",
      "[351]\tvalidation_0-mlogloss:0.387168\n",
      "[352]\tvalidation_0-mlogloss:0.386802\n",
      "[353]\tvalidation_0-mlogloss:0.386356\n",
      "[354]\tvalidation_0-mlogloss:0.386\n",
      "[355]\tvalidation_0-mlogloss:0.385669\n",
      "[356]\tvalidation_0-mlogloss:0.38535\n",
      "[357]\tvalidation_0-mlogloss:0.385069\n",
      "[358]\tvalidation_0-mlogloss:0.384781\n",
      "[359]\tvalidation_0-mlogloss:0.384515\n",
      "[360]\tvalidation_0-mlogloss:0.384227\n",
      "[361]\tvalidation_0-mlogloss:0.383868\n",
      "[362]\tvalidation_0-mlogloss:0.383531\n",
      "[363]\tvalidation_0-mlogloss:0.38318\n",
      "[364]\tvalidation_0-mlogloss:0.382902\n",
      "[365]\tvalidation_0-mlogloss:0.382538\n",
      "[366]\tvalidation_0-mlogloss:0.382248\n",
      "[367]\tvalidation_0-mlogloss:0.381972\n",
      "[368]\tvalidation_0-mlogloss:0.381681\n",
      "[369]\tvalidation_0-mlogloss:0.381451\n",
      "[370]\tvalidation_0-mlogloss:0.381134\n",
      "[371]\tvalidation_0-mlogloss:0.380742\n",
      "[372]\tvalidation_0-mlogloss:0.380514\n",
      "[373]\tvalidation_0-mlogloss:0.380222\n",
      "[374]\tvalidation_0-mlogloss:0.379823\n",
      "[375]\tvalidation_0-mlogloss:0.379468\n",
      "[376]\tvalidation_0-mlogloss:0.379146\n",
      "[377]\tvalidation_0-mlogloss:0.378807\n",
      "[378]\tvalidation_0-mlogloss:0.37857\n",
      "[379]\tvalidation_0-mlogloss:0.378312\n",
      "[380]\tvalidation_0-mlogloss:0.378083\n",
      "[381]\tvalidation_0-mlogloss:0.377821\n",
      "[382]\tvalidation_0-mlogloss:0.377516\n",
      "[383]\tvalidation_0-mlogloss:0.377233\n",
      "[384]\tvalidation_0-mlogloss:0.376974\n",
      "[385]\tvalidation_0-mlogloss:0.376732\n",
      "[386]\tvalidation_0-mlogloss:0.376459\n",
      "[387]\tvalidation_0-mlogloss:0.376193\n",
      "[388]\tvalidation_0-mlogloss:0.375924\n",
      "[389]\tvalidation_0-mlogloss:0.375683\n",
      "[390]\tvalidation_0-mlogloss:0.375447\n",
      "[391]\tvalidation_0-mlogloss:0.375222\n",
      "[392]\tvalidation_0-mlogloss:0.374906\n",
      "[393]\tvalidation_0-mlogloss:0.374643\n",
      "[394]\tvalidation_0-mlogloss:0.37435\n",
      "[395]\tvalidation_0-mlogloss:0.374067\n",
      "[396]\tvalidation_0-mlogloss:0.37375\n",
      "[397]\tvalidation_0-mlogloss:0.373456\n",
      "[398]\tvalidation_0-mlogloss:0.373128\n",
      "[399]\tvalidation_0-mlogloss:0.37287\n",
      "[400]\tvalidation_0-mlogloss:0.372669\n",
      "[401]\tvalidation_0-mlogloss:0.372433\n",
      "[402]\tvalidation_0-mlogloss:0.372096\n",
      "[403]\tvalidation_0-mlogloss:0.371873\n",
      "[404]\tvalidation_0-mlogloss:0.371569\n",
      "[405]\tvalidation_0-mlogloss:0.37126\n",
      "[406]\tvalidation_0-mlogloss:0.370902\n",
      "[407]\tvalidation_0-mlogloss:0.370647\n",
      "[408]\tvalidation_0-mlogloss:0.370338\n",
      "[409]\tvalidation_0-mlogloss:0.370051\n",
      "[410]\tvalidation_0-mlogloss:0.369852\n",
      "[411]\tvalidation_0-mlogloss:0.369505\n",
      "[412]\tvalidation_0-mlogloss:0.369285\n",
      "[413]\tvalidation_0-mlogloss:0.368945\n",
      "[414]\tvalidation_0-mlogloss:0.368607\n",
      "[415]\tvalidation_0-mlogloss:0.368326\n",
      "[416]\tvalidation_0-mlogloss:0.367951\n",
      "[417]\tvalidation_0-mlogloss:0.367711\n",
      "[418]\tvalidation_0-mlogloss:0.367462\n",
      "[419]\tvalidation_0-mlogloss:0.367141\n",
      "[420]\tvalidation_0-mlogloss:0.366879\n",
      "[421]\tvalidation_0-mlogloss:0.366588\n",
      "[422]\tvalidation_0-mlogloss:0.366321\n",
      "[423]\tvalidation_0-mlogloss:0.366011\n",
      "[424]\tvalidation_0-mlogloss:0.365719\n",
      "[425]\tvalidation_0-mlogloss:0.365415\n",
      "[426]\tvalidation_0-mlogloss:0.365218\n",
      "[427]\tvalidation_0-mlogloss:0.36495\n",
      "[428]\tvalidation_0-mlogloss:0.364687\n",
      "[429]\tvalidation_0-mlogloss:0.364379\n",
      "[430]\tvalidation_0-mlogloss:0.364027\n",
      "[431]\tvalidation_0-mlogloss:0.363828\n",
      "[432]\tvalidation_0-mlogloss:0.363631\n",
      "[433]\tvalidation_0-mlogloss:0.363418\n",
      "[434]\tvalidation_0-mlogloss:0.36321\n",
      "[435]\tvalidation_0-mlogloss:0.362974\n",
      "[436]\tvalidation_0-mlogloss:0.362759\n",
      "[437]\tvalidation_0-mlogloss:0.362432\n",
      "[438]\tvalidation_0-mlogloss:0.362198\n",
      "[439]\tvalidation_0-mlogloss:0.361997\n",
      "[440]\tvalidation_0-mlogloss:0.361762\n",
      "[441]\tvalidation_0-mlogloss:0.361614\n",
      "[442]\tvalidation_0-mlogloss:0.361362\n",
      "[443]\tvalidation_0-mlogloss:0.361153\n",
      "[444]\tvalidation_0-mlogloss:0.360976\n",
      "[445]\tvalidation_0-mlogloss:0.360657\n",
      "[446]\tvalidation_0-mlogloss:0.360364\n",
      "[447]\tvalidation_0-mlogloss:0.360063\n"
     ]
    },
    {
     "name": "stdout",
     "output_type": "stream",
     "text": [
      "[448]\tvalidation_0-mlogloss:0.359874\n",
      "[449]\tvalidation_0-mlogloss:0.359688\n",
      "[450]\tvalidation_0-mlogloss:0.3595\n",
      "[451]\tvalidation_0-mlogloss:0.35927\n",
      "[452]\tvalidation_0-mlogloss:0.359101\n",
      "[453]\tvalidation_0-mlogloss:0.358886\n",
      "[454]\tvalidation_0-mlogloss:0.358714\n",
      "[455]\tvalidation_0-mlogloss:0.35836\n",
      "[456]\tvalidation_0-mlogloss:0.358138\n",
      "[457]\tvalidation_0-mlogloss:0.357929\n",
      "[458]\tvalidation_0-mlogloss:0.357767\n",
      "[459]\tvalidation_0-mlogloss:0.357494\n",
      "[460]\tvalidation_0-mlogloss:0.357242\n",
      "[461]\tvalidation_0-mlogloss:0.357003\n",
      "[462]\tvalidation_0-mlogloss:0.356786\n",
      "[463]\tvalidation_0-mlogloss:0.356621\n",
      "[464]\tvalidation_0-mlogloss:0.35643\n",
      "[465]\tvalidation_0-mlogloss:0.356081\n",
      "[466]\tvalidation_0-mlogloss:0.355846\n",
      "[467]\tvalidation_0-mlogloss:0.355677\n",
      "[468]\tvalidation_0-mlogloss:0.35523\n",
      "[469]\tvalidation_0-mlogloss:0.354837\n",
      "[470]\tvalidation_0-mlogloss:0.354632\n",
      "[471]\tvalidation_0-mlogloss:0.354333\n",
      "[472]\tvalidation_0-mlogloss:0.354112\n",
      "[473]\tvalidation_0-mlogloss:0.353851\n",
      "[474]\tvalidation_0-mlogloss:0.353721\n",
      "[475]\tvalidation_0-mlogloss:0.353525\n",
      "[476]\tvalidation_0-mlogloss:0.353158\n",
      "[477]\tvalidation_0-mlogloss:0.352839\n",
      "[478]\tvalidation_0-mlogloss:0.352677\n",
      "[479]\tvalidation_0-mlogloss:0.352561\n",
      "[480]\tvalidation_0-mlogloss:0.352155\n",
      "[481]\tvalidation_0-mlogloss:0.3519\n",
      "[482]\tvalidation_0-mlogloss:0.351753\n",
      "[483]\tvalidation_0-mlogloss:0.351558\n",
      "[484]\tvalidation_0-mlogloss:0.351335\n",
      "[485]\tvalidation_0-mlogloss:0.351093\n",
      "[486]\tvalidation_0-mlogloss:0.350888\n",
      "[487]\tvalidation_0-mlogloss:0.350706\n",
      "[488]\tvalidation_0-mlogloss:0.350525\n",
      "[489]\tvalidation_0-mlogloss:0.350329\n",
      "[490]\tvalidation_0-mlogloss:0.35014\n",
      "[491]\tvalidation_0-mlogloss:0.349902\n",
      "[492]\tvalidation_0-mlogloss:0.349661\n",
      "[493]\tvalidation_0-mlogloss:0.349447\n",
      "[494]\tvalidation_0-mlogloss:0.349177\n",
      "[495]\tvalidation_0-mlogloss:0.348987\n",
      "[496]\tvalidation_0-mlogloss:0.348857\n",
      "[497]\tvalidation_0-mlogloss:0.348544\n",
      "[498]\tvalidation_0-mlogloss:0.348325\n",
      "[499]\tvalidation_0-mlogloss:0.348102\n",
      "[500]\tvalidation_0-mlogloss:0.347903\n",
      "[501]\tvalidation_0-mlogloss:0.347742\n",
      "[502]\tvalidation_0-mlogloss:0.347578\n",
      "[503]\tvalidation_0-mlogloss:0.347305\n",
      "[504]\tvalidation_0-mlogloss:0.34699\n",
      "[505]\tvalidation_0-mlogloss:0.346848\n",
      "[506]\tvalidation_0-mlogloss:0.346602\n",
      "[507]\tvalidation_0-mlogloss:0.346367\n",
      "[508]\tvalidation_0-mlogloss:0.346172\n",
      "[509]\tvalidation_0-mlogloss:0.346036\n",
      "[510]\tvalidation_0-mlogloss:0.345791\n",
      "[511]\tvalidation_0-mlogloss:0.345669\n",
      "[512]\tvalidation_0-mlogloss:0.34552\n",
      "[513]\tvalidation_0-mlogloss:0.345192\n",
      "[514]\tvalidation_0-mlogloss:0.344924\n",
      "[515]\tvalidation_0-mlogloss:0.344561\n",
      "[516]\tvalidation_0-mlogloss:0.344395\n",
      "[517]\tvalidation_0-mlogloss:0.344227\n",
      "[518]\tvalidation_0-mlogloss:0.344013\n",
      "[519]\tvalidation_0-mlogloss:0.343831\n",
      "[520]\tvalidation_0-mlogloss:0.343557\n",
      "[521]\tvalidation_0-mlogloss:0.343339\n",
      "[522]\tvalidation_0-mlogloss:0.343121\n",
      "[523]\tvalidation_0-mlogloss:0.3429\n",
      "[524]\tvalidation_0-mlogloss:0.342738\n",
      "[525]\tvalidation_0-mlogloss:0.34258\n",
      "[526]\tvalidation_0-mlogloss:0.342294\n",
      "[527]\tvalidation_0-mlogloss:0.342077\n",
      "[528]\tvalidation_0-mlogloss:0.341844\n",
      "[529]\tvalidation_0-mlogloss:0.341517\n",
      "[530]\tvalidation_0-mlogloss:0.341271\n",
      "[531]\tvalidation_0-mlogloss:0.341134\n",
      "[532]\tvalidation_0-mlogloss:0.340914\n",
      "[533]\tvalidation_0-mlogloss:0.340739\n",
      "[534]\tvalidation_0-mlogloss:0.340433\n",
      "[535]\tvalidation_0-mlogloss:0.340293\n",
      "[536]\tvalidation_0-mlogloss:0.339994\n",
      "[537]\tvalidation_0-mlogloss:0.339817\n",
      "[538]\tvalidation_0-mlogloss:0.339577\n",
      "[539]\tvalidation_0-mlogloss:0.339413\n",
      "[540]\tvalidation_0-mlogloss:0.33918\n",
      "[541]\tvalidation_0-mlogloss:0.338948\n",
      "[542]\tvalidation_0-mlogloss:0.338685\n",
      "[543]\tvalidation_0-mlogloss:0.338561\n",
      "[544]\tvalidation_0-mlogloss:0.338382\n",
      "[545]\tvalidation_0-mlogloss:0.3382\n",
      "[546]\tvalidation_0-mlogloss:0.33801\n",
      "[547]\tvalidation_0-mlogloss:0.337857\n",
      "[548]\tvalidation_0-mlogloss:0.337661\n",
      "[549]\tvalidation_0-mlogloss:0.337418\n",
      "[550]\tvalidation_0-mlogloss:0.337293\n",
      "[551]\tvalidation_0-mlogloss:0.337036\n",
      "[552]\tvalidation_0-mlogloss:0.336866\n",
      "[553]\tvalidation_0-mlogloss:0.336699\n",
      "[554]\tvalidation_0-mlogloss:0.336535\n",
      "[555]\tvalidation_0-mlogloss:0.336287\n",
      "[556]\tvalidation_0-mlogloss:0.336072\n",
      "[557]\tvalidation_0-mlogloss:0.335839\n",
      "[558]\tvalidation_0-mlogloss:0.335678\n",
      "[559]\tvalidation_0-mlogloss:0.335456\n",
      "[560]\tvalidation_0-mlogloss:0.335229\n",
      "[561]\tvalidation_0-mlogloss:0.335004\n",
      "[562]\tvalidation_0-mlogloss:0.334859\n",
      "[563]\tvalidation_0-mlogloss:0.334665\n",
      "[564]\tvalidation_0-mlogloss:0.334437\n",
      "[565]\tvalidation_0-mlogloss:0.334122\n",
      "[566]\tvalidation_0-mlogloss:0.333911\n",
      "[567]\tvalidation_0-mlogloss:0.333721\n",
      "[568]\tvalidation_0-mlogloss:0.333616\n",
      "[569]\tvalidation_0-mlogloss:0.333481\n",
      "[570]\tvalidation_0-mlogloss:0.333224\n",
      "[571]\tvalidation_0-mlogloss:0.333075\n",
      "[572]\tvalidation_0-mlogloss:0.332903\n",
      "[573]\tvalidation_0-mlogloss:0.332713\n",
      "[574]\tvalidation_0-mlogloss:0.332557\n",
      "[575]\tvalidation_0-mlogloss:0.332215\n",
      "[576]\tvalidation_0-mlogloss:0.332037\n",
      "[577]\tvalidation_0-mlogloss:0.331704\n",
      "[578]\tvalidation_0-mlogloss:0.33147\n",
      "[579]\tvalidation_0-mlogloss:0.331279\n",
      "[580]\tvalidation_0-mlogloss:0.331045\n",
      "[581]\tvalidation_0-mlogloss:0.330831\n",
      "[582]\tvalidation_0-mlogloss:0.330533\n",
      "[583]\tvalidation_0-mlogloss:0.330298\n",
      "[584]\tvalidation_0-mlogloss:0.329958\n",
      "[585]\tvalidation_0-mlogloss:0.329745\n",
      "[586]\tvalidation_0-mlogloss:0.329452\n",
      "[587]\tvalidation_0-mlogloss:0.329139\n",
      "[588]\tvalidation_0-mlogloss:0.328804\n",
      "[589]\tvalidation_0-mlogloss:0.328638\n",
      "[590]\tvalidation_0-mlogloss:0.328509\n",
      "[591]\tvalidation_0-mlogloss:0.328327\n",
      "[592]\tvalidation_0-mlogloss:0.328047\n",
      "[593]\tvalidation_0-mlogloss:0.327802\n",
      "[594]\tvalidation_0-mlogloss:0.327604\n",
      "[595]\tvalidation_0-mlogloss:0.327414\n",
      "[596]\tvalidation_0-mlogloss:0.327144\n",
      "[597]\tvalidation_0-mlogloss:0.326963\n",
      "[598]\tvalidation_0-mlogloss:0.32673\n",
      "[599]\tvalidation_0-mlogloss:0.32654\n",
      "[600]\tvalidation_0-mlogloss:0.326402\n",
      "[601]\tvalidation_0-mlogloss:0.326206\n",
      "[602]\tvalidation_0-mlogloss:0.325987\n",
      "[603]\tvalidation_0-mlogloss:0.325783\n",
      "[604]\tvalidation_0-mlogloss:0.325577\n",
      "[605]\tvalidation_0-mlogloss:0.325385\n",
      "[606]\tvalidation_0-mlogloss:0.325215\n",
      "[607]\tvalidation_0-mlogloss:0.324979\n",
      "[608]\tvalidation_0-mlogloss:0.324789\n",
      "[609]\tvalidation_0-mlogloss:0.324529\n",
      "[610]\tvalidation_0-mlogloss:0.324326\n",
      "[611]\tvalidation_0-mlogloss:0.324025\n",
      "[612]\tvalidation_0-mlogloss:0.323888\n",
      "[613]\tvalidation_0-mlogloss:0.323645\n",
      "[614]\tvalidation_0-mlogloss:0.323439\n",
      "[615]\tvalidation_0-mlogloss:0.323316\n",
      "[616]\tvalidation_0-mlogloss:0.323196\n",
      "[617]\tvalidation_0-mlogloss:0.322959\n",
      "[618]\tvalidation_0-mlogloss:0.322812\n",
      "[619]\tvalidation_0-mlogloss:0.322627\n",
      "[620]\tvalidation_0-mlogloss:0.322519\n",
      "[621]\tvalidation_0-mlogloss:0.322219\n",
      "[622]\tvalidation_0-mlogloss:0.322077\n",
      "[623]\tvalidation_0-mlogloss:0.321901\n",
      "[624]\tvalidation_0-mlogloss:0.321741\n",
      "[625]\tvalidation_0-mlogloss:0.321494\n",
      "[626]\tvalidation_0-mlogloss:0.321321\n",
      "[627]\tvalidation_0-mlogloss:0.321118\n",
      "[628]\tvalidation_0-mlogloss:0.320956\n",
      "[629]\tvalidation_0-mlogloss:0.320809\n",
      "[630]\tvalidation_0-mlogloss:0.320663\n",
      "[631]\tvalidation_0-mlogloss:0.320428\n",
      "[632]\tvalidation_0-mlogloss:0.320257\n",
      "[633]\tvalidation_0-mlogloss:0.320038\n",
      "[634]\tvalidation_0-mlogloss:0.319894\n",
      "[635]\tvalidation_0-mlogloss:0.31975\n",
      "[636]\tvalidation_0-mlogloss:0.319561\n",
      "[637]\tvalidation_0-mlogloss:0.319379\n",
      "[638]\tvalidation_0-mlogloss:0.319205\n",
      "[639]\tvalidation_0-mlogloss:0.3191\n",
      "[640]\tvalidation_0-mlogloss:0.318951\n",
      "[641]\tvalidation_0-mlogloss:0.318784\n",
      "[642]\tvalidation_0-mlogloss:0.31858\n",
      "[643]\tvalidation_0-mlogloss:0.31838\n",
      "[644]\tvalidation_0-mlogloss:0.318149\n",
      "[645]\tvalidation_0-mlogloss:0.317938\n",
      "[646]\tvalidation_0-mlogloss:0.317773\n",
      "[647]\tvalidation_0-mlogloss:0.317521\n",
      "[648]\tvalidation_0-mlogloss:0.317354\n",
      "[649]\tvalidation_0-mlogloss:0.317146\n",
      "[650]\tvalidation_0-mlogloss:0.316967\n",
      "[651]\tvalidation_0-mlogloss:0.316864\n",
      "[652]\tvalidation_0-mlogloss:0.316721\n",
      "[653]\tvalidation_0-mlogloss:0.316495\n",
      "[654]\tvalidation_0-mlogloss:0.3163\n",
      "[655]\tvalidation_0-mlogloss:0.31618\n",
      "[656]\tvalidation_0-mlogloss:0.31593\n",
      "[657]\tvalidation_0-mlogloss:0.31581\n",
      "[658]\tvalidation_0-mlogloss:0.315613\n",
      "[659]\tvalidation_0-mlogloss:0.315487\n",
      "[660]\tvalidation_0-mlogloss:0.315244\n",
      "[661]\tvalidation_0-mlogloss:0.315002\n",
      "[662]\tvalidation_0-mlogloss:0.314867\n",
      "[663]\tvalidation_0-mlogloss:0.314621\n",
      "[664]\tvalidation_0-mlogloss:0.314473\n",
      "[665]\tvalidation_0-mlogloss:0.314255\n",
      "[666]\tvalidation_0-mlogloss:0.314013\n",
      "[667]\tvalidation_0-mlogloss:0.313709\n",
      "[668]\tvalidation_0-mlogloss:0.313548\n",
      "[669]\tvalidation_0-mlogloss:0.313318\n",
      "[670]\tvalidation_0-mlogloss:0.313145\n"
     ]
    },
    {
     "name": "stdout",
     "output_type": "stream",
     "text": [
      "[671]\tvalidation_0-mlogloss:0.312934\n",
      "[672]\tvalidation_0-mlogloss:0.312686\n",
      "[673]\tvalidation_0-mlogloss:0.312544\n",
      "[674]\tvalidation_0-mlogloss:0.312371\n",
      "[675]\tvalidation_0-mlogloss:0.312233\n",
      "[676]\tvalidation_0-mlogloss:0.312102\n",
      "[677]\tvalidation_0-mlogloss:0.311941\n",
      "[678]\tvalidation_0-mlogloss:0.311727\n",
      "[679]\tvalidation_0-mlogloss:0.311523\n",
      "[680]\tvalidation_0-mlogloss:0.311426\n",
      "[681]\tvalidation_0-mlogloss:0.31124\n",
      "[682]\tvalidation_0-mlogloss:0.311105\n",
      "[683]\tvalidation_0-mlogloss:0.310939\n",
      "[684]\tvalidation_0-mlogloss:0.310731\n",
      "[685]\tvalidation_0-mlogloss:0.310559\n",
      "[686]\tvalidation_0-mlogloss:0.310391\n",
      "[687]\tvalidation_0-mlogloss:0.310246\n",
      "[688]\tvalidation_0-mlogloss:0.310073\n",
      "[689]\tvalidation_0-mlogloss:0.309925\n",
      "[690]\tvalidation_0-mlogloss:0.309712\n",
      "[691]\tvalidation_0-mlogloss:0.309497\n",
      "[692]\tvalidation_0-mlogloss:0.309375\n",
      "[693]\tvalidation_0-mlogloss:0.309234\n",
      "[694]\tvalidation_0-mlogloss:0.30906\n",
      "[695]\tvalidation_0-mlogloss:0.308891\n",
      "[696]\tvalidation_0-mlogloss:0.308767\n",
      "[697]\tvalidation_0-mlogloss:0.30864\n",
      "[698]\tvalidation_0-mlogloss:0.30842\n",
      "[699]\tvalidation_0-mlogloss:0.308269\n",
      "[700]\tvalidation_0-mlogloss:0.308168\n",
      "[701]\tvalidation_0-mlogloss:0.307958\n",
      "[702]\tvalidation_0-mlogloss:0.307791\n",
      "[703]\tvalidation_0-mlogloss:0.307583\n",
      "[704]\tvalidation_0-mlogloss:0.307409\n",
      "[705]\tvalidation_0-mlogloss:0.307252\n",
      "[706]\tvalidation_0-mlogloss:0.30706\n",
      "[707]\tvalidation_0-mlogloss:0.3069\n",
      "[708]\tvalidation_0-mlogloss:0.306607\n",
      "[709]\tvalidation_0-mlogloss:0.306439\n",
      "[710]\tvalidation_0-mlogloss:0.306155\n",
      "[711]\tvalidation_0-mlogloss:0.305978\n",
      "[712]\tvalidation_0-mlogloss:0.305781\n",
      "[713]\tvalidation_0-mlogloss:0.305638\n",
      "[714]\tvalidation_0-mlogloss:0.305479\n",
      "[715]\tvalidation_0-mlogloss:0.305311\n",
      "[716]\tvalidation_0-mlogloss:0.305136\n",
      "[717]\tvalidation_0-mlogloss:0.305005\n",
      "[718]\tvalidation_0-mlogloss:0.304844\n",
      "[719]\tvalidation_0-mlogloss:0.304722\n",
      "[720]\tvalidation_0-mlogloss:0.304523\n",
      "[721]\tvalidation_0-mlogloss:0.304361\n",
      "[722]\tvalidation_0-mlogloss:0.304221\n",
      "[723]\tvalidation_0-mlogloss:0.304122\n",
      "[724]\tvalidation_0-mlogloss:0.303956\n",
      "[725]\tvalidation_0-mlogloss:0.303748\n",
      "[726]\tvalidation_0-mlogloss:0.303661\n",
      "[727]\tvalidation_0-mlogloss:0.303542\n",
      "[728]\tvalidation_0-mlogloss:0.303389\n",
      "[729]\tvalidation_0-mlogloss:0.303161\n",
      "[730]\tvalidation_0-mlogloss:0.303098\n",
      "[731]\tvalidation_0-mlogloss:0.302961\n",
      "[732]\tvalidation_0-mlogloss:0.302784\n",
      "[733]\tvalidation_0-mlogloss:0.302546\n",
      "[734]\tvalidation_0-mlogloss:0.302315\n",
      "[735]\tvalidation_0-mlogloss:0.302202\n",
      "[736]\tvalidation_0-mlogloss:0.302068\n",
      "[737]\tvalidation_0-mlogloss:0.301837\n",
      "[738]\tvalidation_0-mlogloss:0.301735\n",
      "[739]\tvalidation_0-mlogloss:0.301638\n",
      "[740]\tvalidation_0-mlogloss:0.301465\n",
      "[741]\tvalidation_0-mlogloss:0.301376\n",
      "[742]\tvalidation_0-mlogloss:0.301209\n",
      "[743]\tvalidation_0-mlogloss:0.300998\n",
      "[744]\tvalidation_0-mlogloss:0.300906\n",
      "[745]\tvalidation_0-mlogloss:0.300786\n",
      "[746]\tvalidation_0-mlogloss:0.30063\n",
      "[747]\tvalidation_0-mlogloss:0.300478\n",
      "[748]\tvalidation_0-mlogloss:0.300338\n",
      "[749]\tvalidation_0-mlogloss:0.300152\n",
      "[750]\tvalidation_0-mlogloss:0.300005\n",
      "[751]\tvalidation_0-mlogloss:0.299852\n",
      "[752]\tvalidation_0-mlogloss:0.2997\n",
      "[753]\tvalidation_0-mlogloss:0.299563\n",
      "[754]\tvalidation_0-mlogloss:0.299331\n",
      "[755]\tvalidation_0-mlogloss:0.299135\n",
      "[756]\tvalidation_0-mlogloss:0.298945\n",
      "[757]\tvalidation_0-mlogloss:0.298862\n",
      "[758]\tvalidation_0-mlogloss:0.298712\n",
      "[759]\tvalidation_0-mlogloss:0.298619\n",
      "[760]\tvalidation_0-mlogloss:0.298557\n",
      "[761]\tvalidation_0-mlogloss:0.298426\n",
      "[762]\tvalidation_0-mlogloss:0.298239\n",
      "[763]\tvalidation_0-mlogloss:0.298122\n",
      "[764]\tvalidation_0-mlogloss:0.298052\n",
      "[765]\tvalidation_0-mlogloss:0.297882\n",
      "[766]\tvalidation_0-mlogloss:0.297755\n",
      "[767]\tvalidation_0-mlogloss:0.297549\n",
      "[768]\tvalidation_0-mlogloss:0.297463\n",
      "[769]\tvalidation_0-mlogloss:0.297382\n",
      "[770]\tvalidation_0-mlogloss:0.297253\n",
      "[771]\tvalidation_0-mlogloss:0.297087\n",
      "[772]\tvalidation_0-mlogloss:0.296997\n",
      "[773]\tvalidation_0-mlogloss:0.296875\n",
      "[774]\tvalidation_0-mlogloss:0.296703\n",
      "[775]\tvalidation_0-mlogloss:0.296568\n",
      "[776]\tvalidation_0-mlogloss:0.296453\n",
      "[777]\tvalidation_0-mlogloss:0.296333\n",
      "[778]\tvalidation_0-mlogloss:0.29619\n",
      "[779]\tvalidation_0-mlogloss:0.296049\n",
      "[780]\tvalidation_0-mlogloss:0.295963\n",
      "[781]\tvalidation_0-mlogloss:0.295837\n",
      "[782]\tvalidation_0-mlogloss:0.295697\n",
      "[783]\tvalidation_0-mlogloss:0.295585\n",
      "[784]\tvalidation_0-mlogloss:0.295526\n",
      "[785]\tvalidation_0-mlogloss:0.295432\n",
      "[786]\tvalidation_0-mlogloss:0.295379\n",
      "[787]\tvalidation_0-mlogloss:0.295309\n",
      "[788]\tvalidation_0-mlogloss:0.295182\n",
      "[789]\tvalidation_0-mlogloss:0.295068\n",
      "[790]\tvalidation_0-mlogloss:0.29482\n",
      "[791]\tvalidation_0-mlogloss:0.294669\n",
      "[792]\tvalidation_0-mlogloss:0.2946\n",
      "[793]\tvalidation_0-mlogloss:0.294479\n",
      "[794]\tvalidation_0-mlogloss:0.294287\n",
      "[795]\tvalidation_0-mlogloss:0.294124\n",
      "[796]\tvalidation_0-mlogloss:0.293974\n",
      "[797]\tvalidation_0-mlogloss:0.293822\n",
      "[798]\tvalidation_0-mlogloss:0.293619\n",
      "[799]\tvalidation_0-mlogloss:0.293467\n",
      "[800]\tvalidation_0-mlogloss:0.293321\n",
      "[801]\tvalidation_0-mlogloss:0.293163\n",
      "[802]\tvalidation_0-mlogloss:0.293077\n",
      "[803]\tvalidation_0-mlogloss:0.292947\n",
      "[804]\tvalidation_0-mlogloss:0.292781\n",
      "[805]\tvalidation_0-mlogloss:0.292697\n",
      "[806]\tvalidation_0-mlogloss:0.292558\n",
      "[807]\tvalidation_0-mlogloss:0.292416\n",
      "[808]\tvalidation_0-mlogloss:0.292259\n",
      "[809]\tvalidation_0-mlogloss:0.292028\n",
      "[810]\tvalidation_0-mlogloss:0.291825\n",
      "[811]\tvalidation_0-mlogloss:0.291735\n",
      "[812]\tvalidation_0-mlogloss:0.291633\n",
      "[813]\tvalidation_0-mlogloss:0.291463\n",
      "[814]\tvalidation_0-mlogloss:0.291319\n",
      "[815]\tvalidation_0-mlogloss:0.291152\n",
      "[816]\tvalidation_0-mlogloss:0.29101\n",
      "[817]\tvalidation_0-mlogloss:0.290856\n",
      "[818]\tvalidation_0-mlogloss:0.290729\n",
      "[819]\tvalidation_0-mlogloss:0.290566\n",
      "[820]\tvalidation_0-mlogloss:0.290447\n",
      "[821]\tvalidation_0-mlogloss:0.290245\n",
      "[822]\tvalidation_0-mlogloss:0.290116\n",
      "[823]\tvalidation_0-mlogloss:0.289917\n",
      "[824]\tvalidation_0-mlogloss:0.289754\n",
      "[825]\tvalidation_0-mlogloss:0.289453\n",
      "[826]\tvalidation_0-mlogloss:0.289278\n",
      "[827]\tvalidation_0-mlogloss:0.289099\n",
      "[828]\tvalidation_0-mlogloss:0.288953\n",
      "[829]\tvalidation_0-mlogloss:0.288777\n",
      "[830]\tvalidation_0-mlogloss:0.288605\n",
      "[831]\tvalidation_0-mlogloss:0.288473\n",
      "[832]\tvalidation_0-mlogloss:0.288316\n",
      "[833]\tvalidation_0-mlogloss:0.288185\n",
      "[834]\tvalidation_0-mlogloss:0.287993\n",
      "[835]\tvalidation_0-mlogloss:0.28783\n",
      "[836]\tvalidation_0-mlogloss:0.287621\n",
      "[837]\tvalidation_0-mlogloss:0.287455\n",
      "[838]\tvalidation_0-mlogloss:0.28726\n",
      "[839]\tvalidation_0-mlogloss:0.287109\n",
      "[840]\tvalidation_0-mlogloss:0.286918\n",
      "[841]\tvalidation_0-mlogloss:0.286742\n",
      "[842]\tvalidation_0-mlogloss:0.286547\n",
      "[843]\tvalidation_0-mlogloss:0.286367\n",
      "[844]\tvalidation_0-mlogloss:0.286153\n",
      "[845]\tvalidation_0-mlogloss:0.285954\n",
      "[846]\tvalidation_0-mlogloss:0.285791\n",
      "[847]\tvalidation_0-mlogloss:0.285642\n",
      "[848]\tvalidation_0-mlogloss:0.285443\n",
      "[849]\tvalidation_0-mlogloss:0.285264\n",
      "[850]\tvalidation_0-mlogloss:0.285067\n",
      "[851]\tvalidation_0-mlogloss:0.28495\n",
      "[852]\tvalidation_0-mlogloss:0.284635\n",
      "[853]\tvalidation_0-mlogloss:0.284497\n",
      "[854]\tvalidation_0-mlogloss:0.284313\n",
      "[855]\tvalidation_0-mlogloss:0.284133\n",
      "[856]\tvalidation_0-mlogloss:0.28401\n",
      "[857]\tvalidation_0-mlogloss:0.283833\n",
      "[858]\tvalidation_0-mlogloss:0.283642\n",
      "[859]\tvalidation_0-mlogloss:0.283498\n",
      "[860]\tvalidation_0-mlogloss:0.283382\n",
      "[861]\tvalidation_0-mlogloss:0.28331\n",
      "[862]\tvalidation_0-mlogloss:0.283225\n",
      "[863]\tvalidation_0-mlogloss:0.283086\n",
      "[864]\tvalidation_0-mlogloss:0.283001\n",
      "[865]\tvalidation_0-mlogloss:0.282763\n",
      "[866]\tvalidation_0-mlogloss:0.282689\n",
      "[867]\tvalidation_0-mlogloss:0.282622\n",
      "[868]\tvalidation_0-mlogloss:0.282453\n",
      "[869]\tvalidation_0-mlogloss:0.282206\n",
      "[870]\tvalidation_0-mlogloss:0.28212\n",
      "[871]\tvalidation_0-mlogloss:0.281895\n",
      "[872]\tvalidation_0-mlogloss:0.281741\n",
      "[873]\tvalidation_0-mlogloss:0.281663\n",
      "[874]\tvalidation_0-mlogloss:0.281547\n",
      "[875]\tvalidation_0-mlogloss:0.281415\n",
      "[876]\tvalidation_0-mlogloss:0.281238\n",
      "[877]\tvalidation_0-mlogloss:0.281148\n",
      "[878]\tvalidation_0-mlogloss:0.281051\n",
      "[879]\tvalidation_0-mlogloss:0.280968\n",
      "[880]\tvalidation_0-mlogloss:0.280858\n",
      "[881]\tvalidation_0-mlogloss:0.280756\n",
      "[882]\tvalidation_0-mlogloss:0.280652\n",
      "[883]\tvalidation_0-mlogloss:0.280547\n",
      "[884]\tvalidation_0-mlogloss:0.28038\n",
      "[885]\tvalidation_0-mlogloss:0.280127\n",
      "[886]\tvalidation_0-mlogloss:0.279985\n",
      "[887]\tvalidation_0-mlogloss:0.27984\n",
      "[888]\tvalidation_0-mlogloss:0.279756\n",
      "[889]\tvalidation_0-mlogloss:0.279553\n",
      "[890]\tvalidation_0-mlogloss:0.279388\n",
      "[891]\tvalidation_0-mlogloss:0.27925\n",
      "[892]\tvalidation_0-mlogloss:0.279091\n",
      "[893]\tvalidation_0-mlogloss:0.278942\n"
     ]
    },
    {
     "name": "stdout",
     "output_type": "stream",
     "text": [
      "[894]\tvalidation_0-mlogloss:0.278719\n",
      "[895]\tvalidation_0-mlogloss:0.278601\n",
      "[896]\tvalidation_0-mlogloss:0.278412\n",
      "[897]\tvalidation_0-mlogloss:0.278254\n",
      "[898]\tvalidation_0-mlogloss:0.278117\n",
      "[899]\tvalidation_0-mlogloss:0.27799\n",
      "[900]\tvalidation_0-mlogloss:0.277842\n",
      "[901]\tvalidation_0-mlogloss:0.277762\n",
      "[902]\tvalidation_0-mlogloss:0.277513\n",
      "[903]\tvalidation_0-mlogloss:0.277351\n",
      "[904]\tvalidation_0-mlogloss:0.277073\n",
      "[905]\tvalidation_0-mlogloss:0.2769\n",
      "[906]\tvalidation_0-mlogloss:0.276548\n",
      "[907]\tvalidation_0-mlogloss:0.276379\n",
      "[908]\tvalidation_0-mlogloss:0.276141\n",
      "[909]\tvalidation_0-mlogloss:0.275899\n",
      "[910]\tvalidation_0-mlogloss:0.275772\n",
      "[911]\tvalidation_0-mlogloss:0.275488\n",
      "[912]\tvalidation_0-mlogloss:0.275328\n",
      "[913]\tvalidation_0-mlogloss:0.275184\n",
      "[914]\tvalidation_0-mlogloss:0.275003\n",
      "[915]\tvalidation_0-mlogloss:0.274719\n",
      "[916]\tvalidation_0-mlogloss:0.274584\n",
      "[917]\tvalidation_0-mlogloss:0.274375\n",
      "[918]\tvalidation_0-mlogloss:0.274199\n",
      "[919]\tvalidation_0-mlogloss:0.274052\n",
      "[920]\tvalidation_0-mlogloss:0.273925\n",
      "[921]\tvalidation_0-mlogloss:0.27381\n",
      "[922]\tvalidation_0-mlogloss:0.273651\n",
      "[923]\tvalidation_0-mlogloss:0.273503\n",
      "[924]\tvalidation_0-mlogloss:0.273264\n",
      "[925]\tvalidation_0-mlogloss:0.273052\n",
      "[926]\tvalidation_0-mlogloss:0.272884\n",
      "[927]\tvalidation_0-mlogloss:0.272519\n",
      "[928]\tvalidation_0-mlogloss:0.272347\n",
      "[929]\tvalidation_0-mlogloss:0.272177\n",
      "[930]\tvalidation_0-mlogloss:0.272003\n",
      "[931]\tvalidation_0-mlogloss:0.271891\n",
      "[932]\tvalidation_0-mlogloss:0.271804\n",
      "[933]\tvalidation_0-mlogloss:0.271669\n",
      "[934]\tvalidation_0-mlogloss:0.271519\n",
      "[935]\tvalidation_0-mlogloss:0.271423\n",
      "[936]\tvalidation_0-mlogloss:0.271309\n",
      "[937]\tvalidation_0-mlogloss:0.271053\n",
      "[938]\tvalidation_0-mlogloss:0.270926\n",
      "[939]\tvalidation_0-mlogloss:0.270753\n",
      "[940]\tvalidation_0-mlogloss:0.270645\n",
      "[941]\tvalidation_0-mlogloss:0.270502\n",
      "[942]\tvalidation_0-mlogloss:0.270344\n",
      "[943]\tvalidation_0-mlogloss:0.270182\n",
      "[944]\tvalidation_0-mlogloss:0.269893\n",
      "[945]\tvalidation_0-mlogloss:0.269803\n",
      "[946]\tvalidation_0-mlogloss:0.269534\n",
      "[947]\tvalidation_0-mlogloss:0.269408\n",
      "[948]\tvalidation_0-mlogloss:0.269191\n",
      "[949]\tvalidation_0-mlogloss:0.268939\n",
      "[950]\tvalidation_0-mlogloss:0.268851\n",
      "[951]\tvalidation_0-mlogloss:0.268672\n",
      "[952]\tvalidation_0-mlogloss:0.268533\n",
      "[953]\tvalidation_0-mlogloss:0.268351\n",
      "[954]\tvalidation_0-mlogloss:0.268177\n",
      "[955]\tvalidation_0-mlogloss:0.267984\n",
      "[956]\tvalidation_0-mlogloss:0.267765\n",
      "[957]\tvalidation_0-mlogloss:0.267664\n",
      "[958]\tvalidation_0-mlogloss:0.267508\n",
      "[959]\tvalidation_0-mlogloss:0.26741\n",
      "[960]\tvalidation_0-mlogloss:0.267298\n",
      "[961]\tvalidation_0-mlogloss:0.267126\n",
      "[962]\tvalidation_0-mlogloss:0.266915\n",
      "[963]\tvalidation_0-mlogloss:0.266741\n",
      "[964]\tvalidation_0-mlogloss:0.266564\n",
      "[965]\tvalidation_0-mlogloss:0.266373\n",
      "[966]\tvalidation_0-mlogloss:0.266241\n",
      "[967]\tvalidation_0-mlogloss:0.266069\n",
      "[968]\tvalidation_0-mlogloss:0.265918\n",
      "[969]\tvalidation_0-mlogloss:0.26578\n",
      "[970]\tvalidation_0-mlogloss:0.265635\n",
      "[971]\tvalidation_0-mlogloss:0.265556\n",
      "[972]\tvalidation_0-mlogloss:0.26543\n",
      "[973]\tvalidation_0-mlogloss:0.265212\n",
      "[974]\tvalidation_0-mlogloss:0.265024\n",
      "[975]\tvalidation_0-mlogloss:0.264888\n",
      "[976]\tvalidation_0-mlogloss:0.264784\n",
      "[977]\tvalidation_0-mlogloss:0.264612\n",
      "[978]\tvalidation_0-mlogloss:0.26442\n",
      "[979]\tvalidation_0-mlogloss:0.264252\n",
      "[980]\tvalidation_0-mlogloss:0.264146\n",
      "[981]\tvalidation_0-mlogloss:0.263928\n",
      "[982]\tvalidation_0-mlogloss:0.263746\n",
      "[983]\tvalidation_0-mlogloss:0.263514\n",
      "[984]\tvalidation_0-mlogloss:0.263325\n",
      "[985]\tvalidation_0-mlogloss:0.263103\n",
      "[986]\tvalidation_0-mlogloss:0.262936\n",
      "[987]\tvalidation_0-mlogloss:0.2628\n",
      "[988]\tvalidation_0-mlogloss:0.262616\n",
      "[989]\tvalidation_0-mlogloss:0.262489\n",
      "[990]\tvalidation_0-mlogloss:0.262315\n",
      "[991]\tvalidation_0-mlogloss:0.262127\n",
      "[992]\tvalidation_0-mlogloss:0.262052\n",
      "[993]\tvalidation_0-mlogloss:0.261973\n",
      "[994]\tvalidation_0-mlogloss:0.261823\n",
      "[995]\tvalidation_0-mlogloss:0.261708\n",
      "[996]\tvalidation_0-mlogloss:0.261614\n",
      "[997]\tvalidation_0-mlogloss:0.261535\n",
      "[998]\tvalidation_0-mlogloss:0.261432\n",
      "[999]\tvalidation_0-mlogloss:0.261287\n",
      "[1000]\tvalidation_0-mlogloss:0.261116\n",
      "[1001]\tvalidation_0-mlogloss:0.260979\n",
      "[1002]\tvalidation_0-mlogloss:0.260918\n",
      "[1003]\tvalidation_0-mlogloss:0.26079\n",
      "[1004]\tvalidation_0-mlogloss:0.260726\n",
      "[1005]\tvalidation_0-mlogloss:0.260596\n",
      "[1006]\tvalidation_0-mlogloss:0.260447\n",
      "[1007]\tvalidation_0-mlogloss:0.260306\n",
      "[1008]\tvalidation_0-mlogloss:0.260236\n",
      "[1009]\tvalidation_0-mlogloss:0.260117\n",
      "[1010]\tvalidation_0-mlogloss:0.260012\n",
      "[1011]\tvalidation_0-mlogloss:0.259819\n",
      "[1012]\tvalidation_0-mlogloss:0.259674\n",
      "[1013]\tvalidation_0-mlogloss:0.259582\n",
      "[1014]\tvalidation_0-mlogloss:0.259458\n",
      "[1015]\tvalidation_0-mlogloss:0.259309\n",
      "[1016]\tvalidation_0-mlogloss:0.259118\n",
      "[1017]\tvalidation_0-mlogloss:0.258968\n",
      "[1018]\tvalidation_0-mlogloss:0.258771\n",
      "[1019]\tvalidation_0-mlogloss:0.2586\n",
      "[1020]\tvalidation_0-mlogloss:0.258387\n",
      "[1021]\tvalidation_0-mlogloss:0.258229\n",
      "[1022]\tvalidation_0-mlogloss:0.258041\n",
      "[1023]\tvalidation_0-mlogloss:0.257923\n",
      "[1024]\tvalidation_0-mlogloss:0.257598\n",
      "[1025]\tvalidation_0-mlogloss:0.257443\n",
      "[1026]\tvalidation_0-mlogloss:0.257253\n",
      "[1027]\tvalidation_0-mlogloss:0.256895\n",
      "[1028]\tvalidation_0-mlogloss:0.256688\n",
      "[1029]\tvalidation_0-mlogloss:0.256518\n",
      "[1030]\tvalidation_0-mlogloss:0.256359\n",
      "[1031]\tvalidation_0-mlogloss:0.256259\n",
      "[1032]\tvalidation_0-mlogloss:0.256123\n",
      "[1033]\tvalidation_0-mlogloss:0.256027\n",
      "[1034]\tvalidation_0-mlogloss:0.25592\n",
      "[1035]\tvalidation_0-mlogloss:0.255704\n",
      "[1036]\tvalidation_0-mlogloss:0.255632\n",
      "[1037]\tvalidation_0-mlogloss:0.255546\n",
      "[1038]\tvalidation_0-mlogloss:0.255441\n",
      "[1039]\tvalidation_0-mlogloss:0.255332\n",
      "[1040]\tvalidation_0-mlogloss:0.255247\n",
      "[1041]\tvalidation_0-mlogloss:0.255049\n",
      "[1042]\tvalidation_0-mlogloss:0.254897\n",
      "[1043]\tvalidation_0-mlogloss:0.254789\n",
      "[1044]\tvalidation_0-mlogloss:0.254691\n",
      "[1045]\tvalidation_0-mlogloss:0.254576\n",
      "[1046]\tvalidation_0-mlogloss:0.254463\n",
      "[1047]\tvalidation_0-mlogloss:0.254318\n",
      "[1048]\tvalidation_0-mlogloss:0.254212\n",
      "[1049]\tvalidation_0-mlogloss:0.254118\n",
      "[1050]\tvalidation_0-mlogloss:0.254019\n",
      "[1051]\tvalidation_0-mlogloss:0.253882\n",
      "[1052]\tvalidation_0-mlogloss:0.253762\n",
      "[1053]\tvalidation_0-mlogloss:0.253625\n",
      "[1054]\tvalidation_0-mlogloss:0.253517\n",
      "[1055]\tvalidation_0-mlogloss:0.253363\n",
      "[1056]\tvalidation_0-mlogloss:0.253227\n",
      "[1057]\tvalidation_0-mlogloss:0.253092\n",
      "[1058]\tvalidation_0-mlogloss:0.253028\n",
      "[1059]\tvalidation_0-mlogloss:0.252871\n",
      "[1060]\tvalidation_0-mlogloss:0.252775\n",
      "[1061]\tvalidation_0-mlogloss:0.252655\n",
      "[1062]\tvalidation_0-mlogloss:0.252556\n",
      "[1063]\tvalidation_0-mlogloss:0.252427\n",
      "[1064]\tvalidation_0-mlogloss:0.252347\n",
      "[1065]\tvalidation_0-mlogloss:0.252267\n",
      "[1066]\tvalidation_0-mlogloss:0.252177\n",
      "[1067]\tvalidation_0-mlogloss:0.252043\n",
      "[1068]\tvalidation_0-mlogloss:0.251955\n",
      "[1069]\tvalidation_0-mlogloss:0.251826\n",
      "[1070]\tvalidation_0-mlogloss:0.251686\n",
      "[1071]\tvalidation_0-mlogloss:0.251566\n",
      "[1072]\tvalidation_0-mlogloss:0.251461\n",
      "[1073]\tvalidation_0-mlogloss:0.251309\n",
      "[1074]\tvalidation_0-mlogloss:0.251134\n",
      "[1075]\tvalidation_0-mlogloss:0.250932\n",
      "[1076]\tvalidation_0-mlogloss:0.250782\n",
      "[1077]\tvalidation_0-mlogloss:0.250663\n",
      "[1078]\tvalidation_0-mlogloss:0.250411\n",
      "[1079]\tvalidation_0-mlogloss:0.250258\n",
      "[1080]\tvalidation_0-mlogloss:0.25003\n",
      "[1081]\tvalidation_0-mlogloss:0.249904\n",
      "[1082]\tvalidation_0-mlogloss:0.249815\n",
      "[1083]\tvalidation_0-mlogloss:0.249708\n",
      "[1084]\tvalidation_0-mlogloss:0.249538\n",
      "[1085]\tvalidation_0-mlogloss:0.249437\n",
      "[1086]\tvalidation_0-mlogloss:0.249353\n",
      "[1087]\tvalidation_0-mlogloss:0.249225\n",
      "[1088]\tvalidation_0-mlogloss:0.249052\n",
      "[1089]\tvalidation_0-mlogloss:0.248963\n",
      "[1090]\tvalidation_0-mlogloss:0.248885\n",
      "[1091]\tvalidation_0-mlogloss:0.248784\n",
      "[1092]\tvalidation_0-mlogloss:0.248602\n",
      "[1093]\tvalidation_0-mlogloss:0.248412\n",
      "[1094]\tvalidation_0-mlogloss:0.24829\n",
      "[1095]\tvalidation_0-mlogloss:0.248179\n",
      "[1096]\tvalidation_0-mlogloss:0.24796\n",
      "[1097]\tvalidation_0-mlogloss:0.247825\n",
      "[1098]\tvalidation_0-mlogloss:0.24771\n",
      "[1099]\tvalidation_0-mlogloss:0.247548\n",
      "[1100]\tvalidation_0-mlogloss:0.247401\n",
      "[1101]\tvalidation_0-mlogloss:0.247277\n",
      "[1102]\tvalidation_0-mlogloss:0.247194\n",
      "[1103]\tvalidation_0-mlogloss:0.24704\n",
      "[1104]\tvalidation_0-mlogloss:0.246912\n",
      "[1105]\tvalidation_0-mlogloss:0.246792\n",
      "[1106]\tvalidation_0-mlogloss:0.246661\n",
      "[1107]\tvalidation_0-mlogloss:0.24657\n",
      "[1108]\tvalidation_0-mlogloss:0.246435\n",
      "[1109]\tvalidation_0-mlogloss:0.24635\n",
      "[1110]\tvalidation_0-mlogloss:0.246228\n",
      "[1111]\tvalidation_0-mlogloss:0.246105\n",
      "[1112]\tvalidation_0-mlogloss:0.245931\n"
     ]
    },
    {
     "name": "stdout",
     "output_type": "stream",
     "text": [
      "[1113]\tvalidation_0-mlogloss:0.245838\n",
      "[1114]\tvalidation_0-mlogloss:0.245743\n",
      "[1115]\tvalidation_0-mlogloss:0.245612\n",
      "[1116]\tvalidation_0-mlogloss:0.245465\n",
      "[1117]\tvalidation_0-mlogloss:0.245331\n",
      "[1118]\tvalidation_0-mlogloss:0.245188\n",
      "[1119]\tvalidation_0-mlogloss:0.24501\n",
      "[1120]\tvalidation_0-mlogloss:0.24482\n",
      "[1121]\tvalidation_0-mlogloss:0.244697\n",
      "[1122]\tvalidation_0-mlogloss:0.244629\n",
      "[1123]\tvalidation_0-mlogloss:0.244385\n",
      "[1124]\tvalidation_0-mlogloss:0.244247\n",
      "[1125]\tvalidation_0-mlogloss:0.244097\n",
      "[1126]\tvalidation_0-mlogloss:0.244026\n",
      "[1127]\tvalidation_0-mlogloss:0.243873\n",
      "[1128]\tvalidation_0-mlogloss:0.243735\n",
      "[1129]\tvalidation_0-mlogloss:0.24366\n",
      "[1130]\tvalidation_0-mlogloss:0.243583\n",
      "[1131]\tvalidation_0-mlogloss:0.243435\n",
      "[1132]\tvalidation_0-mlogloss:0.243309\n",
      "[1133]\tvalidation_0-mlogloss:0.243164\n",
      "[1134]\tvalidation_0-mlogloss:0.243014\n",
      "[1135]\tvalidation_0-mlogloss:0.242858\n",
      "[1136]\tvalidation_0-mlogloss:0.242768\n",
      "[1137]\tvalidation_0-mlogloss:0.242609\n",
      "[1138]\tvalidation_0-mlogloss:0.242498\n",
      "[1139]\tvalidation_0-mlogloss:0.242341\n",
      "[1140]\tvalidation_0-mlogloss:0.242208\n",
      "[1141]\tvalidation_0-mlogloss:0.242062\n",
      "[1142]\tvalidation_0-mlogloss:0.241972\n",
      "[1143]\tvalidation_0-mlogloss:0.241846\n",
      "[1144]\tvalidation_0-mlogloss:0.241742\n",
      "[1145]\tvalidation_0-mlogloss:0.241672\n",
      "[1146]\tvalidation_0-mlogloss:0.241532\n",
      "[1147]\tvalidation_0-mlogloss:0.241454\n",
      "[1148]\tvalidation_0-mlogloss:0.241269\n",
      "[1149]\tvalidation_0-mlogloss:0.241094\n",
      "[1150]\tvalidation_0-mlogloss:0.241001\n",
      "[1151]\tvalidation_0-mlogloss:0.240871\n",
      "[1152]\tvalidation_0-mlogloss:0.240757\n",
      "[1153]\tvalidation_0-mlogloss:0.240659\n",
      "[1154]\tvalidation_0-mlogloss:0.240525\n",
      "[1155]\tvalidation_0-mlogloss:0.240344\n",
      "[1156]\tvalidation_0-mlogloss:0.240183\n",
      "[1157]\tvalidation_0-mlogloss:0.240026\n",
      "[1158]\tvalidation_0-mlogloss:0.239867\n",
      "[1159]\tvalidation_0-mlogloss:0.239632\n",
      "[1160]\tvalidation_0-mlogloss:0.239463\n",
      "[1161]\tvalidation_0-mlogloss:0.239347\n",
      "[1162]\tvalidation_0-mlogloss:0.239181\n",
      "[1163]\tvalidation_0-mlogloss:0.238948\n",
      "[1164]\tvalidation_0-mlogloss:0.238854\n",
      "[1165]\tvalidation_0-mlogloss:0.23866\n",
      "[1166]\tvalidation_0-mlogloss:0.238476\n",
      "[1167]\tvalidation_0-mlogloss:0.238403\n",
      "[1168]\tvalidation_0-mlogloss:0.23829\n",
      "[1169]\tvalidation_0-mlogloss:0.238198\n",
      "[1170]\tvalidation_0-mlogloss:0.238034\n",
      "[1171]\tvalidation_0-mlogloss:0.237922\n",
      "[1172]\tvalidation_0-mlogloss:0.237823\n",
      "[1173]\tvalidation_0-mlogloss:0.23772\n",
      "[1174]\tvalidation_0-mlogloss:0.237563\n",
      "[1175]\tvalidation_0-mlogloss:0.237342\n",
      "[1176]\tvalidation_0-mlogloss:0.237148\n",
      "[1177]\tvalidation_0-mlogloss:0.236958\n",
      "[1178]\tvalidation_0-mlogloss:0.236792\n",
      "[1179]\tvalidation_0-mlogloss:0.236656\n",
      "[1180]\tvalidation_0-mlogloss:0.236402\n",
      "[1181]\tvalidation_0-mlogloss:0.236253\n",
      "[1182]\tvalidation_0-mlogloss:0.236133\n",
      "[1183]\tvalidation_0-mlogloss:0.235983\n",
      "[1184]\tvalidation_0-mlogloss:0.235863\n",
      "[1185]\tvalidation_0-mlogloss:0.235726\n",
      "[1186]\tvalidation_0-mlogloss:0.235598\n",
      "[1187]\tvalidation_0-mlogloss:0.23547\n",
      "[1188]\tvalidation_0-mlogloss:0.235327\n",
      "[1189]\tvalidation_0-mlogloss:0.235171\n",
      "[1190]\tvalidation_0-mlogloss:0.234916\n",
      "[1191]\tvalidation_0-mlogloss:0.234827\n",
      "[1192]\tvalidation_0-mlogloss:0.234747\n",
      "[1193]\tvalidation_0-mlogloss:0.234595\n",
      "[1194]\tvalidation_0-mlogloss:0.234512\n",
      "[1195]\tvalidation_0-mlogloss:0.234355\n",
      "[1196]\tvalidation_0-mlogloss:0.234207\n",
      "[1197]\tvalidation_0-mlogloss:0.234105\n",
      "[1198]\tvalidation_0-mlogloss:0.234015\n",
      "[1199]\tvalidation_0-mlogloss:0.233913\n",
      "[1200]\tvalidation_0-mlogloss:0.233832\n",
      "[1201]\tvalidation_0-mlogloss:0.233732\n",
      "[1202]\tvalidation_0-mlogloss:0.233673\n",
      "[1203]\tvalidation_0-mlogloss:0.233588\n",
      "[1204]\tvalidation_0-mlogloss:0.233515\n",
      "[1205]\tvalidation_0-mlogloss:0.23339\n",
      "[1206]\tvalidation_0-mlogloss:0.233248\n",
      "[1207]\tvalidation_0-mlogloss:0.233061\n",
      "[1208]\tvalidation_0-mlogloss:0.232943\n",
      "[1209]\tvalidation_0-mlogloss:0.232824\n",
      "[1210]\tvalidation_0-mlogloss:0.232687\n",
      "[1211]\tvalidation_0-mlogloss:0.232538\n",
      "[1212]\tvalidation_0-mlogloss:0.232439\n",
      "[1213]\tvalidation_0-mlogloss:0.232262\n",
      "[1214]\tvalidation_0-mlogloss:0.232071\n",
      "[1215]\tvalidation_0-mlogloss:0.231868\n",
      "[1216]\tvalidation_0-mlogloss:0.231702\n",
      "[1217]\tvalidation_0-mlogloss:0.231523\n",
      "[1218]\tvalidation_0-mlogloss:0.231288\n",
      "[1219]\tvalidation_0-mlogloss:0.231106\n",
      "[1220]\tvalidation_0-mlogloss:0.231021\n",
      "[1221]\tvalidation_0-mlogloss:0.230911\n",
      "[1222]\tvalidation_0-mlogloss:0.23072\n",
      "[1223]\tvalidation_0-mlogloss:0.230595\n",
      "[1224]\tvalidation_0-mlogloss:0.230393\n",
      "[1225]\tvalidation_0-mlogloss:0.230264\n",
      "[1226]\tvalidation_0-mlogloss:0.230157\n",
      "[1227]\tvalidation_0-mlogloss:0.230068\n",
      "[1228]\tvalidation_0-mlogloss:0.229906\n",
      "[1229]\tvalidation_0-mlogloss:0.229838\n",
      "[1230]\tvalidation_0-mlogloss:0.229757\n",
      "[1231]\tvalidation_0-mlogloss:0.229556\n",
      "[1232]\tvalidation_0-mlogloss:0.229496\n",
      "[1233]\tvalidation_0-mlogloss:0.229399\n",
      "[1234]\tvalidation_0-mlogloss:0.229296\n",
      "[1235]\tvalidation_0-mlogloss:0.22922\n",
      "[1236]\tvalidation_0-mlogloss:0.22906\n",
      "[1237]\tvalidation_0-mlogloss:0.228834\n",
      "[1238]\tvalidation_0-mlogloss:0.228765\n",
      "[1239]\tvalidation_0-mlogloss:0.22859\n",
      "[1240]\tvalidation_0-mlogloss:0.228477\n",
      "[1241]\tvalidation_0-mlogloss:0.228305\n",
      "[1242]\tvalidation_0-mlogloss:0.228189\n",
      "[1243]\tvalidation_0-mlogloss:0.228038\n",
      "[1244]\tvalidation_0-mlogloss:0.227929\n",
      "[1245]\tvalidation_0-mlogloss:0.227838\n",
      "[1246]\tvalidation_0-mlogloss:0.227708\n",
      "[1247]\tvalidation_0-mlogloss:0.227635\n",
      "[1248]\tvalidation_0-mlogloss:0.227556\n",
      "[1249]\tvalidation_0-mlogloss:0.227447\n",
      "[1250]\tvalidation_0-mlogloss:0.227362\n",
      "[1251]\tvalidation_0-mlogloss:0.227275\n",
      "[1252]\tvalidation_0-mlogloss:0.22719\n",
      "[1253]\tvalidation_0-mlogloss:0.227146\n",
      "[1254]\tvalidation_0-mlogloss:0.227105\n",
      "[1255]\tvalidation_0-mlogloss:0.226963\n",
      "[1256]\tvalidation_0-mlogloss:0.226881\n",
      "[1257]\tvalidation_0-mlogloss:0.226763\n",
      "[1258]\tvalidation_0-mlogloss:0.226598\n",
      "[1259]\tvalidation_0-mlogloss:0.2265\n",
      "[1260]\tvalidation_0-mlogloss:0.226445\n",
      "[1261]\tvalidation_0-mlogloss:0.226375\n",
      "[1262]\tvalidation_0-mlogloss:0.226273\n",
      "[1263]\tvalidation_0-mlogloss:0.226191\n",
      "[1264]\tvalidation_0-mlogloss:0.226073\n",
      "[1265]\tvalidation_0-mlogloss:0.226017\n",
      "[1266]\tvalidation_0-mlogloss:0.225959\n",
      "[1267]\tvalidation_0-mlogloss:0.22586\n",
      "[1268]\tvalidation_0-mlogloss:0.225733\n",
      "[1269]\tvalidation_0-mlogloss:0.225656\n",
      "[1270]\tvalidation_0-mlogloss:0.225511\n",
      "[1271]\tvalidation_0-mlogloss:0.225419\n",
      "[1272]\tvalidation_0-mlogloss:0.225328\n",
      "[1273]\tvalidation_0-mlogloss:0.225256\n",
      "[1274]\tvalidation_0-mlogloss:0.225149\n",
      "[1275]\tvalidation_0-mlogloss:0.225096\n",
      "[1276]\tvalidation_0-mlogloss:0.225016\n",
      "[1277]\tvalidation_0-mlogloss:0.2249\n",
      "[1278]\tvalidation_0-mlogloss:0.224857\n",
      "[1279]\tvalidation_0-mlogloss:0.22479\n",
      "[1280]\tvalidation_0-mlogloss:0.224673\n",
      "[1281]\tvalidation_0-mlogloss:0.224581\n",
      "[1282]\tvalidation_0-mlogloss:0.224477\n",
      "[1283]\tvalidation_0-mlogloss:0.224405\n",
      "[1284]\tvalidation_0-mlogloss:0.22434\n",
      "[1285]\tvalidation_0-mlogloss:0.224291\n",
      "[1286]\tvalidation_0-mlogloss:0.224235\n",
      "[1287]\tvalidation_0-mlogloss:0.224039\n",
      "[1288]\tvalidation_0-mlogloss:0.223976\n",
      "[1289]\tvalidation_0-mlogloss:0.22389\n",
      "[1290]\tvalidation_0-mlogloss:0.22382\n",
      "[1291]\tvalidation_0-mlogloss:0.223673\n",
      "[1292]\tvalidation_0-mlogloss:0.223591\n",
      "[1293]\tvalidation_0-mlogloss:0.223413\n",
      "[1294]\tvalidation_0-mlogloss:0.223265\n",
      "[1295]\tvalidation_0-mlogloss:0.22312\n",
      "[1296]\tvalidation_0-mlogloss:0.222964\n",
      "[1297]\tvalidation_0-mlogloss:0.222859\n",
      "[1298]\tvalidation_0-mlogloss:0.222776\n",
      "[1299]\tvalidation_0-mlogloss:0.222706\n",
      "[1300]\tvalidation_0-mlogloss:0.222621\n",
      "[1301]\tvalidation_0-mlogloss:0.222532\n",
      "[1302]\tvalidation_0-mlogloss:0.222438\n",
      "[1303]\tvalidation_0-mlogloss:0.222355\n",
      "[1304]\tvalidation_0-mlogloss:0.222191\n",
      "[1305]\tvalidation_0-mlogloss:0.222054\n",
      "[1306]\tvalidation_0-mlogloss:0.221945\n",
      "[1307]\tvalidation_0-mlogloss:0.221762\n",
      "[1308]\tvalidation_0-mlogloss:0.221587\n",
      "[1309]\tvalidation_0-mlogloss:0.221493\n",
      "[1310]\tvalidation_0-mlogloss:0.221348\n",
      "[1311]\tvalidation_0-mlogloss:0.221229\n",
      "[1312]\tvalidation_0-mlogloss:0.221151\n",
      "[1313]\tvalidation_0-mlogloss:0.221087\n",
      "[1314]\tvalidation_0-mlogloss:0.220986\n",
      "[1315]\tvalidation_0-mlogloss:0.220934\n",
      "[1316]\tvalidation_0-mlogloss:0.220842\n",
      "[1317]\tvalidation_0-mlogloss:0.22078\n",
      "[1318]\tvalidation_0-mlogloss:0.220646\n",
      "[1319]\tvalidation_0-mlogloss:0.220573\n",
      "[1320]\tvalidation_0-mlogloss:0.220449\n",
      "[1321]\tvalidation_0-mlogloss:0.220382\n",
      "[1322]\tvalidation_0-mlogloss:0.220281\n",
      "[1323]\tvalidation_0-mlogloss:0.220158\n",
      "[1324]\tvalidation_0-mlogloss:0.220055\n",
      "[1325]\tvalidation_0-mlogloss:0.219999\n",
      "[1326]\tvalidation_0-mlogloss:0.219946\n",
      "[1327]\tvalidation_0-mlogloss:0.219878\n",
      "[1328]\tvalidation_0-mlogloss:0.219793\n",
      "[1329]\tvalidation_0-mlogloss:0.219713\n"
     ]
    },
    {
     "name": "stdout",
     "output_type": "stream",
     "text": [
      "[1330]\tvalidation_0-mlogloss:0.219636\n",
      "[1331]\tvalidation_0-mlogloss:0.219541\n",
      "[1332]\tvalidation_0-mlogloss:0.219474\n",
      "[1333]\tvalidation_0-mlogloss:0.219362\n",
      "[1334]\tvalidation_0-mlogloss:0.219317\n",
      "[1335]\tvalidation_0-mlogloss:0.219236\n",
      "[1336]\tvalidation_0-mlogloss:0.219139\n",
      "[1337]\tvalidation_0-mlogloss:0.219043\n",
      "[1338]\tvalidation_0-mlogloss:0.218976\n",
      "[1339]\tvalidation_0-mlogloss:0.218916\n",
      "[1340]\tvalidation_0-mlogloss:0.218844\n",
      "[1341]\tvalidation_0-mlogloss:0.21877\n",
      "[1342]\tvalidation_0-mlogloss:0.218701\n",
      "[1343]\tvalidation_0-mlogloss:0.218602\n",
      "[1344]\tvalidation_0-mlogloss:0.218432\n",
      "[1345]\tvalidation_0-mlogloss:0.218334\n",
      "[1346]\tvalidation_0-mlogloss:0.21823\n",
      "[1347]\tvalidation_0-mlogloss:0.218152\n",
      "[1348]\tvalidation_0-mlogloss:0.217961\n",
      "[1349]\tvalidation_0-mlogloss:0.217824\n",
      "[1350]\tvalidation_0-mlogloss:0.217706\n",
      "[1351]\tvalidation_0-mlogloss:0.217531\n",
      "[1352]\tvalidation_0-mlogloss:0.217384\n",
      "[1353]\tvalidation_0-mlogloss:0.217296\n",
      "[1354]\tvalidation_0-mlogloss:0.217146\n",
      "[1355]\tvalidation_0-mlogloss:0.217078\n",
      "[1356]\tvalidation_0-mlogloss:0.216996\n",
      "[1357]\tvalidation_0-mlogloss:0.216808\n",
      "[1358]\tvalidation_0-mlogloss:0.216722\n",
      "[1359]\tvalidation_0-mlogloss:0.21653\n",
      "[1360]\tvalidation_0-mlogloss:0.216447\n",
      "[1361]\tvalidation_0-mlogloss:0.216304\n",
      "[1362]\tvalidation_0-mlogloss:0.216193\n",
      "[1363]\tvalidation_0-mlogloss:0.216121\n",
      "[1364]\tvalidation_0-mlogloss:0.215985\n",
      "[1365]\tvalidation_0-mlogloss:0.215889\n",
      "[1366]\tvalidation_0-mlogloss:0.215717\n",
      "[1367]\tvalidation_0-mlogloss:0.215637\n",
      "[1368]\tvalidation_0-mlogloss:0.215561\n",
      "[1369]\tvalidation_0-mlogloss:0.215487\n",
      "[1370]\tvalidation_0-mlogloss:0.21536\n",
      "[1371]\tvalidation_0-mlogloss:0.215238\n",
      "[1372]\tvalidation_0-mlogloss:0.215181\n",
      "[1373]\tvalidation_0-mlogloss:0.215024\n",
      "[1374]\tvalidation_0-mlogloss:0.214863\n",
      "[1375]\tvalidation_0-mlogloss:0.214723\n",
      "[1376]\tvalidation_0-mlogloss:0.214596\n",
      "[1377]\tvalidation_0-mlogloss:0.214441\n",
      "[1378]\tvalidation_0-mlogloss:0.214245\n",
      "[1379]\tvalidation_0-mlogloss:0.21416\n",
      "[1380]\tvalidation_0-mlogloss:0.213995\n",
      "[1381]\tvalidation_0-mlogloss:0.213818\n",
      "[1382]\tvalidation_0-mlogloss:0.213744\n",
      "[1383]\tvalidation_0-mlogloss:0.213546\n",
      "[1384]\tvalidation_0-mlogloss:0.213394\n",
      "[1385]\tvalidation_0-mlogloss:0.213332\n",
      "[1386]\tvalidation_0-mlogloss:0.213249\n",
      "[1387]\tvalidation_0-mlogloss:0.213155\n",
      "[1388]\tvalidation_0-mlogloss:0.213079\n",
      "[1389]\tvalidation_0-mlogloss:0.212974\n",
      "[1390]\tvalidation_0-mlogloss:0.212914\n",
      "[1391]\tvalidation_0-mlogloss:0.212788\n",
      "[1392]\tvalidation_0-mlogloss:0.212727\n",
      "[1393]\tvalidation_0-mlogloss:0.212621\n",
      "[1394]\tvalidation_0-mlogloss:0.212519\n",
      "[1395]\tvalidation_0-mlogloss:0.212437\n",
      "[1396]\tvalidation_0-mlogloss:0.212337\n",
      "[1397]\tvalidation_0-mlogloss:0.212224\n",
      "[1398]\tvalidation_0-mlogloss:0.212181\n",
      "[1399]\tvalidation_0-mlogloss:0.211944\n",
      "[1400]\tvalidation_0-mlogloss:0.211856\n",
      "[1401]\tvalidation_0-mlogloss:0.211788\n",
      "[1402]\tvalidation_0-mlogloss:0.211662\n",
      "[1403]\tvalidation_0-mlogloss:0.211452\n",
      "[1404]\tvalidation_0-mlogloss:0.211342\n",
      "[1405]\tvalidation_0-mlogloss:0.211135\n",
      "[1406]\tvalidation_0-mlogloss:0.211019\n",
      "[1407]\tvalidation_0-mlogloss:0.210894\n",
      "[1408]\tvalidation_0-mlogloss:0.210758\n",
      "[1409]\tvalidation_0-mlogloss:0.210676\n",
      "[1410]\tvalidation_0-mlogloss:0.210604\n",
      "[1411]\tvalidation_0-mlogloss:0.210473\n",
      "[1412]\tvalidation_0-mlogloss:0.2103\n",
      "[1413]\tvalidation_0-mlogloss:0.210239\n",
      "[1414]\tvalidation_0-mlogloss:0.210086\n",
      "[1415]\tvalidation_0-mlogloss:0.209946\n",
      "[1416]\tvalidation_0-mlogloss:0.209807\n",
      "[1417]\tvalidation_0-mlogloss:0.209688\n",
      "[1418]\tvalidation_0-mlogloss:0.209602\n",
      "[1419]\tvalidation_0-mlogloss:0.209484\n",
      "[1420]\tvalidation_0-mlogloss:0.209358\n",
      "[1421]\tvalidation_0-mlogloss:0.209245\n",
      "[1422]\tvalidation_0-mlogloss:0.209097\n",
      "[1423]\tvalidation_0-mlogloss:0.208968\n",
      "[1424]\tvalidation_0-mlogloss:0.208902\n",
      "[1425]\tvalidation_0-mlogloss:0.208802\n",
      "[1426]\tvalidation_0-mlogloss:0.208636\n",
      "[1427]\tvalidation_0-mlogloss:0.208476\n",
      "[1428]\tvalidation_0-mlogloss:0.208409\n",
      "[1429]\tvalidation_0-mlogloss:0.208346\n",
      "[1430]\tvalidation_0-mlogloss:0.208169\n",
      "[1431]\tvalidation_0-mlogloss:0.208008\n",
      "[1432]\tvalidation_0-mlogloss:0.207866\n",
      "[1433]\tvalidation_0-mlogloss:0.20773\n",
      "[1434]\tvalidation_0-mlogloss:0.207636\n",
      "[1435]\tvalidation_0-mlogloss:0.207487\n",
      "[1436]\tvalidation_0-mlogloss:0.207387\n",
      "[1437]\tvalidation_0-mlogloss:0.207307\n",
      "[1438]\tvalidation_0-mlogloss:0.207136\n",
      "[1439]\tvalidation_0-mlogloss:0.207051\n",
      "[1440]\tvalidation_0-mlogloss:0.206893\n",
      "[1441]\tvalidation_0-mlogloss:0.206835\n",
      "[1442]\tvalidation_0-mlogloss:0.206737\n",
      "[1443]\tvalidation_0-mlogloss:0.206603\n",
      "[1444]\tvalidation_0-mlogloss:0.206354\n",
      "[1445]\tvalidation_0-mlogloss:0.206257\n",
      "[1446]\tvalidation_0-mlogloss:0.206135\n",
      "[1447]\tvalidation_0-mlogloss:0.206058\n",
      "[1448]\tvalidation_0-mlogloss:0.205986\n",
      "[1449]\tvalidation_0-mlogloss:0.205934\n",
      "[1450]\tvalidation_0-mlogloss:0.205867\n",
      "[1451]\tvalidation_0-mlogloss:0.205761\n",
      "[1452]\tvalidation_0-mlogloss:0.20562\n",
      "[1453]\tvalidation_0-mlogloss:0.205562\n",
      "[1454]\tvalidation_0-mlogloss:0.205522\n",
      "[1455]\tvalidation_0-mlogloss:0.205405\n",
      "[1456]\tvalidation_0-mlogloss:0.205321\n",
      "[1457]\tvalidation_0-mlogloss:0.205219\n",
      "[1458]\tvalidation_0-mlogloss:0.205133\n",
      "[1459]\tvalidation_0-mlogloss:0.205009\n",
      "[1460]\tvalidation_0-mlogloss:0.204849\n",
      "[1461]\tvalidation_0-mlogloss:0.204731\n",
      "[1462]\tvalidation_0-mlogloss:0.204662\n",
      "[1463]\tvalidation_0-mlogloss:0.204544\n",
      "[1464]\tvalidation_0-mlogloss:0.204425\n",
      "[1465]\tvalidation_0-mlogloss:0.204343\n",
      "[1466]\tvalidation_0-mlogloss:0.204265\n",
      "[1467]\tvalidation_0-mlogloss:0.204133\n",
      "[1468]\tvalidation_0-mlogloss:0.204049\n",
      "[1469]\tvalidation_0-mlogloss:0.203935\n",
      "[1470]\tvalidation_0-mlogloss:0.203829\n",
      "[1471]\tvalidation_0-mlogloss:0.203788\n",
      "[1472]\tvalidation_0-mlogloss:0.203731\n",
      "[1473]\tvalidation_0-mlogloss:0.203645\n",
      "[1474]\tvalidation_0-mlogloss:0.203553\n",
      "[1475]\tvalidation_0-mlogloss:0.203427\n",
      "[1476]\tvalidation_0-mlogloss:0.203379\n",
      "[1477]\tvalidation_0-mlogloss:0.203267\n",
      "[1478]\tvalidation_0-mlogloss:0.203152\n",
      "[1479]\tvalidation_0-mlogloss:0.203033\n",
      "[1480]\tvalidation_0-mlogloss:0.20293\n",
      "[1481]\tvalidation_0-mlogloss:0.202812\n",
      "[1482]\tvalidation_0-mlogloss:0.20273\n",
      "[1483]\tvalidation_0-mlogloss:0.202628\n",
      "[1484]\tvalidation_0-mlogloss:0.202493\n",
      "[1485]\tvalidation_0-mlogloss:0.202389\n",
      "[1486]\tvalidation_0-mlogloss:0.202315\n",
      "[1487]\tvalidation_0-mlogloss:0.202204\n",
      "[1488]\tvalidation_0-mlogloss:0.202094\n",
      "[1489]\tvalidation_0-mlogloss:0.201929\n",
      "[1490]\tvalidation_0-mlogloss:0.201871\n",
      "[1491]\tvalidation_0-mlogloss:0.201699\n",
      "[1492]\tvalidation_0-mlogloss:0.201571\n",
      "[1493]\tvalidation_0-mlogloss:0.201516\n",
      "[1494]\tvalidation_0-mlogloss:0.201376\n",
      "[1495]\tvalidation_0-mlogloss:0.201177\n",
      "[1496]\tvalidation_0-mlogloss:0.201101\n",
      "[1497]\tvalidation_0-mlogloss:0.200948\n",
      "[1498]\tvalidation_0-mlogloss:0.200855\n",
      "[1499]\tvalidation_0-mlogloss:0.200742\n"
     ]
    },
    {
     "data": {
      "text/plain": [
       "XGBClassifier(base_score=0.5, colsample_bylevel=1, colsample_bytree=1,\n",
       "       gamma=0, learning_rate=0.02, max_delta_step=0, max_depth=7,\n",
       "       min_child_weight=1, missing=None, n_estimators=1500, nthread=-1,\n",
       "       objective='multi:softprob', reg_alpha=0, reg_lambda=1,\n",
       "       scale_pos_weight=1, seed=0, silent=True, subsample=1)"
      ]
     },
     "execution_count": 40,
     "metadata": {},
     "output_type": "execute_result"
    }
   ],
   "source": [
    "model.fit(X_train.values,Y_train.values.ravel(),eval_metric='mlogloss',eval_set=[(X_valid.values,Y_valid.values.ravel())],verbose=True,early_stopping_rounds=550)"
   ]
  },
  {
   "cell_type": "code",
   "execution_count": 41,
   "metadata": {
    "collapsed": true
   },
   "outputs": [],
   "source": [
    "pred=model.predict(X_test.values)"
   ]
  },
  {
   "cell_type": "code",
   "execution_count": 42,
   "metadata": {
    "collapsed": true
   },
   "outputs": [],
   "source": [
    "from sklearn.metrics import accuracy_score"
   ]
  },
  {
   "cell_type": "code",
   "execution_count": 43,
   "metadata": {},
   "outputs": [
    {
     "data": {
      "text/plain": [
       "0.90939713652759102"
      ]
     },
     "execution_count": 43,
     "metadata": {},
     "output_type": "execute_result"
    }
   ],
   "source": [
    "accuracy_score(pred,Y_test.values)"
   ]
  },
  {
   "cell_type": "code",
   "execution_count": 44,
   "metadata": {},
   "outputs": [
    {
     "data": {
      "text/plain": [
       "array([  6.14868850e-02,   4.18594517e-02,   2.43231319e-02,\n",
       "         2.21966729e-02,   2.99062543e-02,   3.99525203e-02,\n",
       "         3.80697772e-02,   3.74074690e-02,   3.07211168e-02,\n",
       "         4.76472192e-02,   9.76739153e-02,   3.43117267e-02,\n",
       "         2.64700577e-02,   5.52749410e-02,   4.76230346e-02,\n",
       "         4.61942330e-02,   5.81083633e-02,   8.10417607e-02,\n",
       "         7.67162815e-02,   1.43624435e-03,   4.17478289e-03,\n",
       "         2.20087706e-03,   5.08080749e-03,   1.47903396e-03,\n",
       "         2.21948116e-03,   2.60458819e-05,   7.06959618e-05,\n",
       "         5.45103103e-04,   5.41940378e-03,   3.25573515e-03,\n",
       "         1.89948897e-03,   4.30129142e-03,   8.33468221e-04,\n",
       "         0.00000000e+00,   1.63344888e-03,   3.04178684e-03,\n",
       "         1.28368993e-04,   5.76730235e-04,   2.04832247e-03,\n",
       "         5.37661428e-04,   2.31622299e-03,   4.09850571e-03,\n",
       "         3.90874268e-03,   1.17206466e-04,   7.33005523e-04,\n",
       "         7.68353522e-04,   1.23717939e-03,   3.89758009e-03,\n",
       "         2.70133000e-03,   4.06129705e-03,   3.38782510e-03,\n",
       "         4.51896060e-03,   8.14864004e-04,   9.28349618e-04,\n",
       "         2.60458823e-04,   2.73481768e-04,   2.25482928e-03,\n",
       "         2.77760718e-03,   1.31345657e-03,   8.07608385e-03,\n",
       "         4.07245941e-03,   7.67981447e-03,   1.90879102e-03], dtype=float32)"
      ]
     },
     "execution_count": 44,
     "metadata": {},
     "output_type": "execute_result"
    }
   ],
   "source": [
    "model.feature_importances_"
   ]
  },
  {
   "cell_type": "code",
   "execution_count": 45,
   "metadata": {},
   "outputs": [
    {
     "name": "stdout",
     "output_type": "stream",
     "text": [
      "Feature ranking:\n",
      "1. feature Ele_minus_VDtHyd : 0.097674\n",
      "2. feature Fire_plus_Road : 0.081042\n",
      "3. feature Fire_minus_Road : 0.076716\n",
      "4. feature Elevation : 0.061487\n",
      "5. feature Hydro_minus_Road : 0.058108\n",
      "6. feature Hydro_plus_Fire : 0.055275\n",
      "7. feature Horizontal_Distance_To_Fire_Points : 0.047647\n",
      "8. feature Hydro_minus_Fire : 0.047623\n",
      "9. feature Hydro_plus_Road : 0.046194\n",
      "10. feature Aspect : 0.041859\n",
      "11. feature Horizontal_Distance_To_Roadways : 0.039953\n",
      "12. feature Hillshade_9am : 0.038070\n",
      "13. feature Hillshade_Noon : 0.037407\n",
      "14. feature Ele_plus_VDtHyd : 0.034312\n",
      "15. feature Hillshade_3pm : 0.030721\n",
      "16. feature Vertical_Distance_To_Hydrology : 0.029906\n",
      "17. feature Distanse_to_Hydrology : 0.026470\n",
      "18. feature Slope : 0.024323\n",
      "19. feature Horizontal_Distance_To_Hydrology : 0.022197\n",
      "20. feature Wilderness_Area_1 : 0.008076\n",
      "21. feature Wilderness_Area_3 : 0.007680\n",
      "22. feature Soil_Type_10 : 0.005419\n",
      "23. feature Soil_Type_4 : 0.005081\n",
      "24. feature Soil_Type_33 : 0.004519\n",
      "25. feature Soil_Type_13 : 0.004301\n",
      "26. feature Soil_Type_2 : 0.004175\n",
      "27. feature Soil_Type_23 : 0.004099\n",
      "28. feature Wilderness_Area_2 : 0.004072\n",
      "29. feature Soil_Type_31 : 0.004061\n",
      "30. feature Soil_Type_24 : 0.003909\n",
      "31. feature Soil_Type_29 : 0.003898\n",
      "32. feature Soil_Type_32 : 0.003388\n",
      "33. feature Soil_Type_11 : 0.003256\n",
      "34. feature Soil_Type_17 : 0.003042\n",
      "35. feature Soil_Type_39 : 0.002778\n",
      "36. feature Soil_Type_30 : 0.002701\n",
      "37. feature Soil_Type_22 : 0.002316\n",
      "38. feature Soil_Type_38 : 0.002255\n",
      "39. feature Soil_Type_6 : 0.002219\n",
      "40. feature Soil_Type_3 : 0.002201\n",
      "41. feature Soil_Type_20 : 0.002048\n",
      "42. feature Wilderness_Area_4 : 0.001909\n",
      "43. feature Soil_Type_12 : 0.001899\n",
      "44. feature Soil_Type_16 : 0.001633\n",
      "45. feature Soil_Type_5 : 0.001479\n",
      "46. feature Soil_Type_1 : 0.001436\n",
      "47. feature Soil_Type_40 : 0.001313\n",
      "48. feature Soil_Type_28 : 0.001237\n",
      "49. feature Soil_Type_35 : 0.000928\n",
      "50. feature Soil_Type_14 : 0.000833\n",
      "51. feature Soil_Type_34 : 0.000815\n",
      "52. feature Soil_Type_27 : 0.000768\n"
     ]
    }
   ],
   "source": [
    "importances = model.feature_importances_\n",
    "indices = np.argsort(importances)[::-1]\n",
    "\n",
    "x_cols=list(X_train.columns)\n",
    "# Print the feature ranking\n",
    "print(\"Feature ranking:\")\n",
    "\n",
    "for f in range(52):\n",
    "    #print(\"%d. feature %d (%f)\" % (f + 1, indices[f], importances[indices[f]]))\n",
    "    print(\"%d. feature %s : %f\" % (f + 1, x_cols[indices[f]], importances[indices[f]]))"
   ]
  },
  {
   "cell_type": "code",
   "execution_count": 46,
   "metadata": {},
   "outputs": [
    {
     "name": "stdout",
     "output_type": "stream",
     "text": [
      "(174303, 19)\n"
     ]
    }
   ],
   "source": [
    "from sklearn.feature_selection import SelectFromModel\n",
    "model1 = SelectFromModel(model, prefit=True)\n",
    "X_train_red_rf_features = model1.transform(X_train)\n",
    "idxs_selected_sfm = model1.get_support(indices=True)\n",
    "print(X_train_red_rf_features.shape)"
   ]
  },
  {
   "cell_type": "code",
   "execution_count": 47,
   "metadata": {},
   "outputs": [
    {
     "data": {
      "text/plain": [
       "array([ 0,  1,  2,  3,  4,  5,  6,  7,  8,  9, 10, 11, 12, 13, 14, 15, 16,\n",
       "       17, 18], dtype=int64)"
      ]
     },
     "execution_count": 47,
     "metadata": {},
     "output_type": "execute_result"
    }
   ],
   "source": [
    "idxs_selected_sfm"
   ]
  },
  {
   "cell_type": "code",
   "execution_count": 48,
   "metadata": {
    "collapsed": true
   },
   "outputs": [],
   "source": [
    "X_test_red_rf_features = model1.transform(X_test)"
   ]
  },
  {
   "cell_type": "code",
   "execution_count": 49,
   "metadata": {},
   "outputs": [
    {
     "data": {
      "text/plain": [
       "(406709, 19)"
      ]
     },
     "execution_count": 49,
     "metadata": {},
     "output_type": "execute_result"
    }
   ],
   "source": [
    "X_test_red_rf_features.shape"
   ]
  },
  {
   "cell_type": "code",
   "execution_count": 56,
   "metadata": {
    "collapsed": true
   },
   "outputs": [],
   "source": [
    "from sklearn.feature_selection import SelectKBest # use this later\n",
    "from sklearn.feature_selection import mutual_info_classif"
   ]
  },
  {
   "cell_type": "markdown",
   "metadata": {},
   "source": [
    "# Bayesian Deep Learning with edward"
   ]
  },
  {
   "cell_type": "code",
   "execution_count": 174,
   "metadata": {
    "collapsed": true
   },
   "outputs": [],
   "source": [
    "%matplotlib inline\n",
    "from __future__ import absolute_import\n",
    "from __future__ import division\n",
    "from __future__ import print_function\n",
    "\n",
    "import edward as ed\n",
    "import matplotlib.pyplot as plt\n",
    "import numpy as np\n",
    "import tensorflow as tf\n",
    "\n",
    "from edward.models import Normal\n",
    "#ed.set_seed(42)\n",
    "plt.style.use('ggplot')"
   ]
  },
  {
   "cell_type": "code",
   "execution_count": 247,
   "metadata": {
    "collapsed": true
   },
   "outputs": [],
   "source": [
    "def neural_network(X):\n",
    "    h = tf.tanh(tf.matmul(X, W_0) + b_0)\n",
    "    h = tf.tanh(tf.matmul(h, W_1) + b_1)\n",
    "    h = tf.tanh(tf.matmul(h, W_2) + b_2)\n",
    "    #h = tf.tanh(tf.matmul(h, W_1) + b_1)\n",
    "    h = tf.matmul(h, W_3) + b_3\n",
    "    return (h)"
   ]
  },
  {
   "cell_type": "code",
   "execution_count": 248,
   "metadata": {
    "collapsed": true
   },
   "outputs": [],
   "source": [
    "\n",
    "\n",
    "N = X_train.shape[0]  # number of data points\n",
    "D = X_train.shape[1]   # number of features\n",
    "\n",
    "# DATA\n",
    "#X_train, y_train = build_toy_dataset(N)"
   ]
  },
  {
   "cell_type": "code",
   "execution_count": 276,
   "metadata": {
    "collapsed": true
   },
   "outputs": [],
   "source": [
    "M=400 # batch size"
   ]
  },
  {
   "cell_type": "code",
   "execution_count": 249,
   "metadata": {},
   "outputs": [
    {
     "data": {
      "text/plain": [
       "(406708, 63)"
      ]
     },
     "execution_count": 249,
     "metadata": {},
     "output_type": "execute_result"
    }
   ],
   "source": [
    "N,D"
   ]
  },
  {
   "cell_type": "code",
   "execution_count": 282,
   "metadata": {
    "collapsed": true
   },
   "outputs": [],
   "source": [
    "# MODEL\n",
    "X = tf.placeholder(tf.float32, [M, D])\n",
    "y_ph = tf.placeholder(tf.float32, [M,7])\n",
    "with tf.name_scope(\"model\"):\n",
    "    W_0 = Normal(loc=tf.zeros([D, 100]), scale=tf.ones([D, 100]), name=\"W_0\")\n",
    "    W_1 = Normal(loc=tf.zeros([100, 50]), scale=tf.ones([100, 50]), name=\"W_1\")\n",
    "    W_2 = Normal(loc=tf.zeros([50, 20]), scale=tf.ones([50, 20]), name=\"W_2\")\n",
    "    W_3 = Normal(loc=tf.zeros([20,7]), scale=tf.ones([20, 7]), name=\"W_2\")\n",
    "    b_0 = Normal(loc=tf.zeros(100), scale=tf.ones(100), name=\"b_0\")\n",
    "    b_1 = Normal(loc=tf.zeros(50), scale=tf.ones(50), name=\"b_1\")\n",
    "    b_2 = Normal(loc=tf.zeros(20), scale=tf.ones(20), name=\"b_2\")\n",
    "    b_3 = Normal(loc=tf.zeros(7), scale=tf.ones(7), name=\"b_3\")\n",
    "    y = Normal(loc=neural_network(X), scale=0.1 * tf.ones([M,7]))"
   ]
  },
  {
   "cell_type": "code",
   "execution_count": 283,
   "metadata": {
    "collapsed": true
   },
   "outputs": [],
   "source": [
    "# INFERENCE\n",
    "with tf.name_scope(\"posterior\"):\n",
    "    with tf.name_scope(\"qW_0\"):\n",
    "        qW_0 = Normal(loc=tf.Variable(tf.random_normal([D, 100]), name=\"loc\"),scale=tf.nn.softplus(tf.Variable(tf.random_normal([D, 100]), name=\"scale\")))\n",
    "    with tf.name_scope(\"qW_1\"):\n",
    "        qW_1 = Normal(loc=tf.Variable(tf.random_normal([100, 50]), name=\"loc\"),scale=tf.nn.softplus(tf.Variable(tf.random_normal([100, 50]), name=\"scale\")))\n",
    "    with tf.name_scope(\"qW_2\"):\n",
    "        qW_2 = Normal(loc=tf.Variable(tf.random_normal([50, 20]), name=\"loc\"),scale=tf.nn.softplus(tf.Variable(tf.random_normal([50,20]), name=\"scale\")))\n",
    "    with tf.name_scope(\"qW_3\"):\n",
    "        qW_3 = Normal(loc=tf.Variable(tf.random_normal([20, 7]), name=\"loc\"),scale=tf.nn.softplus(tf.Variable(tf.random_normal([20,7]), name=\"scale\")))\n",
    "    with tf.name_scope(\"qb_0\"):\n",
    "        qb_0 = Normal(loc=tf.Variable(tf.random_normal([100]), name=\"loc\"),scale=tf.nn.softplus(tf.Variable(tf.random_normal([100]), name=\"scale\")))\n",
    "    with tf.name_scope(\"qb_1\"):\n",
    "        qb_1 = Normal(loc=tf.Variable(tf.random_normal([50]), name=\"loc\"),scale=tf.nn.softplus(tf.Variable(tf.random_normal([50]), name=\"scale\")))\n",
    "    with tf.name_scope(\"qb_2\"):\n",
    "        qb_2 = Normal(loc=tf.Variable(tf.random_normal([20]), name=\"loc\"),scale=tf.nn.softplus(tf.Variable(tf.random_normal([20]), name=\"scale\")))\n",
    "    with tf.name_scope(\"qb_3\"):\n",
    "        qb_3 = Normal(loc=tf.Variable(tf.random_normal([7]), name=\"loc\"),scale=tf.nn.softplus(tf.Variable(tf.random_normal([7]), name=\"scale\")))\n",
    "\n"
   ]
  },
  {
   "cell_type": "code",
   "execution_count": 262,
   "metadata": {
    "collapsed": true
   },
   "outputs": [],
   "source": [
    "Y_train_1hot=pd.get_dummies(Y_train_df,columns=['Cover_Type'])"
   ]
  },
  {
   "cell_type": "code",
   "execution_count": 263,
   "metadata": {
    "collapsed": true
   },
   "outputs": [],
   "source": [
    "Y_train_1hot=Y_train_1hot.astype('float')"
   ]
  },
  {
   "cell_type": "code",
   "execution_count": 284,
   "metadata": {
    "collapsed": true
   },
   "outputs": [],
   "source": [
    "def generator(arrays, batch_size):\n",
    "    starts = [0] * len(arrays)  # pointers to where we are in iteration\n",
    "    while True:\n",
    "        batches = []\n",
    "        for i, array in enumerate(arrays):\n",
    "            start = starts[i]\n",
    "            stop = start + batch_size\n",
    "            diff = stop - array.shape[0]\n",
    "            if diff <= 0:\n",
    "                batch = array[start:stop]\n",
    "                starts[i] += batch_size\n",
    "            else:\n",
    "                batch = np.concatenate((array[start:], array[:diff]))\n",
    "                starts[i] = diff\n",
    "            batches.append(batch)\n",
    "        yield batches"
   ]
  },
  {
   "cell_type": "code",
   "execution_count": 285,
   "metadata": {
    "collapsed": true
   },
   "outputs": [],
   "source": [
    "data = generator([X_train, Y_train_1hot.values], M)"
   ]
  },
  {
   "cell_type": "code",
   "execution_count": null,
   "metadata": {
    "collapsed": true
   },
   "outputs": [],
   "source": []
  },
  {
   "cell_type": "code",
   "execution_count": 286,
   "metadata": {
    "collapsed": true
   },
   "outputs": [],
   "source": [
    "n_batch = int(N / M)\n",
    "n_epoch = 100"
   ]
  },
  {
   "cell_type": "code",
   "execution_count": 287,
   "metadata": {
    "collapsed": true
   },
   "outputs": [],
   "source": [
    "inference = ed.KLqp({W_0: qW_0, b_0: qb_0,\n",
    "                     W_1: qW_1, b_1: qb_1,\n",
    "                     W_2: qW_2, b_2: qb_2,\n",
    "                     W_3: qW_3, b_3: qb_3}, data={ y: y_ph})"
   ]
  },
  {
   "cell_type": "code",
   "execution_count": 289,
   "metadata": {},
   "outputs": [
    {
     "name": "stdout",
     "output_type": "stream",
     "text": [
      "101600/101600 [100%] ██████████████████████████████ Elapsed: 1128s | Loss: 5743214.500\n"
     ]
    }
   ],
   "source": [
    "#inference = ed.KLqp({w: qw, b: qb}, data={y: y_ph})\n",
    "inference.initialize(n_iter=n_batch * n_epoch, n_samples=5, scale={y: N / M})\n",
    "tf.global_variables_initializer().run()\n",
    "\n",
    "for _ in range(inference.n_iter):\n",
    "\n",
    "    X_batch, y_batch = next(data)\n",
    "    #print(X_batch.shape,y_batch.shape)\n",
    "    info_dict = inference.update({X: X_batch, y_ph: y_batch})\n",
    "    inference.print_progress(info_dict)"
   ]
  },
  {
   "cell_type": "code",
   "execution_count": null,
   "metadata": {
    "collapsed": true
   },
   "outputs": [],
   "source": [
    "y_post = ed.copy(y, {W_0: qW_0, b_0: qb_0,W_1: qW_1, b_1: qb_1,W_2: qW_2, b_2: qb_2,W_3: qW_3, b_3: qb_3})"
   ]
  },
  {
   "cell_type": "code",
   "execution_count": null,
   "metadata": {
    "collapsed": true
   },
   "outputs": [],
   "source": [
    "print(\"Mean squared error on test data:\")\n",
    "print(ed.evaluate('mean_squared_error', data={X: X_test, y_post: y_test}))\n",
    "\n",
    "print(\"Mean absolute error on test data:\")\n",
    "print(ed.evaluate('mean_absolute_error', data={X: X_test, y_post: y_test}))"
   ]
  },
  {
   "cell_type": "markdown",
   "metadata": {},
   "source": [
    "# Bayesian Deep Learning using PyMC3"
   ]
  },
  {
   "cell_type": "code",
   "execution_count": 39,
   "metadata": {
    "collapsed": true
   },
   "outputs": [],
   "source": [
    "#import theano.tensor as tt\n",
    "#import pymc3 as pm"
   ]
  },
  {
   "cell_type": "code",
   "execution_count": 39,
   "metadata": {
    "collapsed": true
   },
   "outputs": [],
   "source": [
    "%matplotlib inline\n",
    "import theano\n",
    "floatX = theano.config.floatX\n",
    "import pymc3 as pm\n",
    "import theano.tensor as tt\n",
    "import sklearn\n",
    "import numpy as np\n",
    "import matplotlib.pyplot as plt\n",
    "import seaborn as sns\n",
    "from warnings import filterwarnings\n",
    "filterwarnings('ignore')\n",
    "sns.set_style('white')\n",
    "from sklearn import datasets\n",
    "from sklearn.preprocessing import scale\n",
    "from sklearn.cross_validation import train_test_split\n",
    "from sklearn.datasets import make_moons"
   ]
  },
  {
   "cell_type": "code",
   "execution_count": 55,
   "metadata": {
    "collapsed": true
   },
   "outputs": [],
   "source": [
    "#X, Y = make_moons(noise=0.2, random_state=0, n_samples=1000)\n",
    "#X = scale(X)\n",
    "#X = X.astype(floatX)\n",
    "#Y = Y.astype(floatX)\n",
    "#X_train, X_test, Y_train, Y_test = train_test_split(X, Y, test_size=.5)"
   ]
  },
  {
   "cell_type": "code",
   "execution_count": 56,
   "metadata": {
    "collapsed": true
   },
   "outputs": [],
   "source": [
    "#fig, ax = plt.subplots()\n",
    "#ax.scatter(X[Y==0, 0], X[Y==0, 1], label='Class 0')\n",
    "#ax.scatter(X[Y==1, 0], X[Y==1, 1], color='r', label='Class 1')\n",
    "#sns.despine(); ax.legend()\n",
    "#ax.set(xlabel='X', ylabel='Y', title='Toy binary classification data set');"
   ]
  },
  {
   "cell_type": "code",
   "execution_count": 103,
   "metadata": {
    "collapsed": true
   },
   "outputs": [],
   "source": [
    "#Y_train_1hot=pd.get_dummies(Y_train,columns=['Cover_Type'])"
   ]
  },
  {
   "cell_type": "code",
   "execution_count": 40,
   "metadata": {
    "collapsed": true
   },
   "outputs": [],
   "source": [
    "X_train_fromtest=X_test\n",
    "Y_train_fromtest=Y_test\n",
    "X_test_fromtrain=X_train\n",
    "Y_test_fromtrain=Y_test"
   ]
  },
  {
   "cell_type": "code",
   "execution_count": 41,
   "metadata": {
    "collapsed": true
   },
   "outputs": [],
   "source": [
    "Y_train_1hot=pd.get_dummies(Y_train_fromtest,columns=['Cover_Type'])"
   ]
  },
  {
   "cell_type": "code",
   "execution_count": 42,
   "metadata": {
    "collapsed": true
   },
   "outputs": [],
   "source": [
    "Y_test_1hot=pd.get_dummies(Y_test_fromtrain,columns=['Cover_Type'])"
   ]
  },
  {
   "cell_type": "code",
   "execution_count": 43,
   "metadata": {},
   "outputs": [
    {
     "data": {
      "text/plain": [
       "(174304, 63)"
      ]
     },
     "execution_count": 43,
     "metadata": {},
     "output_type": "execute_result"
    }
   ],
   "source": [
    "X_train_fromtest.shape"
   ]
  },
  {
   "cell_type": "code",
   "execution_count": 44,
   "metadata": {
    "collapsed": true
   },
   "outputs": [],
   "source": [
    "def construct_nn(ann_input, ann_output):\n",
    "    n_hidden_1 = 500\n",
    "    n_hidden_2=300\n",
    "    n_hidden_3=200\n",
    "    n_hidden_4=100\n",
    "\n",
    "    # Initialize random weights between each layer\n",
    "    init_1 = np.random.randn(X_train.shape[1], n_hidden_1).astype(floatX)\n",
    "    init_2 = np.random.randn(n_hidden_1, n_hidden_2).astype(floatX)\n",
    "    init_3 = np.random.randn(n_hidden_2, n_hidden_3).astype(floatX)\n",
    "    init_4 = np.random.randn(n_hidden_3, n_hidden_4).astype(floatX)\n",
    "    init_out = np.random.randn(n_hidden_4,Y_train_1hot.shape[1]).astype(floatX)\n",
    "\n",
    "    with pm.Model() as neural_network:\n",
    "        # Weights from input to hidden layer\n",
    "        weights_in_1 = pm.Normal('w_in_1', 0, sd=1,shape=(X_train.shape[1], n_hidden_1),testval=init_1)\n",
    "\n",
    "        # Weights from 1st to 2nd layer\n",
    "        weights_1_2 = pm.Normal('w_1_2', 0, sd=1,shape=(n_hidden_1, n_hidden_2),testval=init_2)\n",
    "        \n",
    "        # Weights from input to hidden layer\n",
    "        weights_2_3 = pm.Normal('w_2_3', 0, sd=1,shape=(n_hidden_2, n_hidden_3),testval=init_3)\n",
    "\n",
    "        # Weights from 1st to 2nd layer\n",
    "        weights_3_4 = pm.Normal('w_3_4', 0, sd=1,shape=(n_hidden_3, n_hidden_4),testval=init_4)\n",
    "\n",
    "        # Weights from hidden layer to output\n",
    "        weights_4_out = pm.Normal('w_4_out', 0, sd=1,shape=(n_hidden_4,Y_train_1hot.shape[1]),testval=init_out)\n",
    "\n",
    "        # Build neural-network using tanh activation function\n",
    "        act_1 = pm.math.tanh(pm.math.dot(ann_input,weights_in_1))\n",
    "        act_2 = pm.math.tanh(pm.math.dot(act_1,weights_1_2))\n",
    "        act_3 = pm.math.tanh(pm.math.dot(act_2,weights_2_3))\n",
    "        act_4 = pm.math.tanh(pm.math.dot(act_3, weights_3_4))\n",
    "        act_out = tt.nnet.softmax(pm.math.dot(act_4, weights_4_out))\n",
    "\n",
    "        # Binary classification -> Bernoulli likelihood\n",
    "        out = pm.Multinomial('out',n=1,\n",
    "                           p=act_out,\n",
    "                           observed=ann_output,\n",
    "                           total_size=Y_train_1hot.shape[0] # IMPORTANT for minibatches\n",
    "                          )\n",
    "    return neural_network\n",
    "\n",
    "\n",
    "ann_input = theano.shared(X_train_fromtest.values)\n",
    "ann_output = theano.shared(Y_train_1hot.values)\n",
    "neural_network = construct_nn(ann_input, ann_output)"
   ]
  },
  {
   "cell_type": "code",
   "execution_count": 48,
   "metadata": {
    "collapsed": true
   },
   "outputs": [],
   "source": [
    "#ann_input = theano.shared(X_train)\n",
    "#ann_output = theano.shared(Y_train)\n",
    "#neural_network = construct_nn(ann_input, ann_output)"
   ]
  },
  {
   "cell_type": "code",
   "execution_count": 45,
   "metadata": {
    "collapsed": true
   },
   "outputs": [],
   "source": [
    "from pymc3.theanof import set_tt_rng, MRG_RandomStreams\n",
    "set_tt_rng(MRG_RandomStreams(42))"
   ]
  },
  {
   "cell_type": "code",
   "execution_count": 51,
   "metadata": {},
   "outputs": [
    {
     "name": "stderr",
     "output_type": "stream",
     "text": [
      "Average Loss = 198.01: 100%|██████████| 30000/30000 [00:19<00:00, 1535.12it/s]\n",
      "Finished [100%]: Average Loss = 198\n"
     ]
    }
   ],
   "source": [
    "#with neural_network:\n",
    "#    inference = pm.ADVI()\n",
    "#    approx = pm.fit(n=30000, method=inference)"
   ]
  },
  {
   "cell_type": "code",
   "execution_count": null,
   "metadata": {},
   "outputs": [
    {
     "name": "stderr",
     "output_type": "stream",
     "text": [
      "Average Loss = 3.4869e+05:  26%|██▋       | 26483/100000 [58:50<2:43:20,  7.50it/s]"
     ]
    }
   ],
   "source": [
    "minibatch_x = pm.Minibatch(X_train_fromtest.values, batch_size=300)\n",
    "minibatch_y = pm.Minibatch(Y_train_1hot.values, batch_size=300)\n",
    "neural_network_minibatch = construct_nn(minibatch_x, minibatch_y)\n",
    "with neural_network_minibatch:\n",
    "    approx = pm.fit(100000, method=pm.ADVI(),callbacks=[pm.callbacks.CheckParametersConvergence(diff='relative')])"
   ]
  },
  {
   "cell_type": "code",
   "execution_count": 51,
   "metadata": {
    "collapsed": true
   },
   "outputs": [],
   "source": [
    "with neural_network_minibatch:\n",
    "    trace = approx.sample(draws=5000)"
   ]
  },
  {
   "cell_type": "code",
   "execution_count": 52,
   "metadata": {
    "collapsed": true
   },
   "outputs": [],
   "source": [
    "#trace"
   ]
  },
  {
   "cell_type": "code",
   "execution_count": 59,
   "metadata": {},
   "outputs": [
    {
     "data": {
      "image/png": "[encoded data removed]",
      "text/plain": [
       "<matplotlib.figure.Figure at 0x7f8a86664358>"
      ]
     },
     "metadata": {},
     "output_type": "display_data"
    }
   ],
   "source": [
    "pm.traceplot(trace,varnames=['w_4_out']);"
   ]
  },
  {
   "cell_type": "code",
   "execution_count": 54,
   "metadata": {},
   "outputs": [
    {
     "name": "stderr",
     "output_type": "stream",
     "text": [
      "100%|██████████| 5000/5000 [03:45<00:00, 22.21it/s]\n"
     ]
    }
   ],
   "source": [
    "# Replace shared variables with testing set\n",
    "ann_input.set_value(X_test_fromtrain.values)\n",
    "ann_output.set_value(Y_test_1hot.values)\n",
    "\n",
    "# Creater posterior predictive samples\n",
    "ppc = pm.sample_ppc(trace, model=neural_network_minibatch, samples=5000)\n",
    "\n",
    "# Use probability of > 0.5 to assume prediction of class 1\n",
    "pred = ppc['out'].mean(axis=0) > 0.5"
   ]
  },
  {
   "cell_type": "code",
   "execution_count": 61,
   "metadata": {
    "collapsed": true
   },
   "outputs": [],
   "source": [
    "#ppc"
   ]
  },
  {
   "cell_type": "code",
   "execution_count": null,
   "metadata": {
    "collapsed": true
   },
   "outputs": [],
   "source": []
  },
  {
   "cell_type": "code",
   "execution_count": 55,
   "metadata": {},
   "outputs": [
    {
     "data": {
      "text/plain": [
       "<matplotlib.collections.PolyCollection at 0x7f8a86a0d860>"
      ]
     },
     "execution_count": 55,
     "metadata": {},
     "output_type": "execute_result"
    },
    {
     "data": {
      "image/png": "[encoded data removed]",
      "text/plain": [
       "<matplotlib.figure.Figure at 0x7f8b07e8e1d0>"
      ]
     },
     "metadata": {},
     "output_type": "display_data"
    }
   ],
   "source": [
    "preds_proba = ppc['out'].mean(axis=0)\n",
    "preds = (preds_proba == np.max(preds_proba, axis=1, keepdims=True)) * 1\n",
    "plt.pcolor(preds)"
   ]
  },
  {
   "cell_type": "code",
   "execution_count": 56,
   "metadata": {},
   "outputs": [
    {
     "data": {
      "text/plain": [
       "<matplotlib.collections.PolyCollection at 0x7f8a8680e128>"
      ]
     },
     "execution_count": 56,
     "metadata": {},
     "output_type": "execute_result"
    },
    {
     "data": {
      "image/png": "[encoded data removed]",
      "text/plain": [
       "<matplotlib.figure.Figure at 0x7f8a0bbf72e8>"
      ]
     },
     "metadata": {},
     "output_type": "display_data"
    }
   ],
   "source": [
    "plt.pcolor(preds_proba)"
   ]
  },
  {
   "cell_type": "code",
   "execution_count": null,
   "metadata": {
    "collapsed": true
   },
   "outputs": [],
   "source": [
    "plt.pcolor(ppc['out'].std(axis=0))"
   ]
  },
  {
   "cell_type": "code",
   "execution_count": 57,
   "metadata": {},
   "outputs": [
    {
     "ename": "ValueError",
     "evalue": "Found input variables with inconsistent numbers of samples: [174304, 300]",
     "output_type": "error",
     "traceback": [
      "\u001b[0;31m---------------------------------------------------------------------------\u001b[0m",
      "\u001b[0;31mValueError\u001b[0m                                Traceback (most recent call last)",
      "\u001b[0;32m<ipython-input-57-4b2540dbeae3>\u001b[0m in \u001b[0;36m<module>\u001b[0;34m()\u001b[0m\n\u001b[1;32m      1\u001b[0m \u001b[0;32mfrom\u001b[0m \u001b[0msklearn\u001b[0m\u001b[0;34m.\u001b[0m\u001b[0mmetrics\u001b[0m \u001b[0;32mimport\u001b[0m \u001b[0mclassification_report\u001b[0m\u001b[0;34m\u001b[0m\u001b[0m\n\u001b[1;32m      2\u001b[0m \u001b[0;34m\u001b[0m\u001b[0m\n\u001b[0;32m----> 3\u001b[0;31m \u001b[0mprint\u001b[0m\u001b[0;34m(\u001b[0m\u001b[0mclassification_report\u001b[0m\u001b[0;34m(\u001b[0m\u001b[0mY_test_1hot\u001b[0m\u001b[0;34m,\u001b[0m \u001b[0mpreds\u001b[0m\u001b[0;34m)\u001b[0m\u001b[0;34m)\u001b[0m\u001b[0;34m\u001b[0m\u001b[0m\n\u001b[0m",
      "\u001b[0;32m/home/namanda/anaconda3.6/lib/python3.6/site-packages/sklearn/metrics/classification.py\u001b[0m in \u001b[0;36mclassification_report\u001b[0;34m(y_true, y_pred, labels, target_names, sample_weight, digits)\u001b[0m\n\u001b[1;32m   1444\u001b[0m                                                   \u001b[0mlabels\u001b[0m\u001b[0;34m=\u001b[0m\u001b[0mlabels\u001b[0m\u001b[0;34m,\u001b[0m\u001b[0;34m\u001b[0m\u001b[0m\n\u001b[1;32m   1445\u001b[0m                                                   \u001b[0maverage\u001b[0m\u001b[0;34m=\u001b[0m\u001b[0;32mNone\u001b[0m\u001b[0;34m,\u001b[0m\u001b[0;34m\u001b[0m\u001b[0m\n\u001b[0;32m-> 1446\u001b[0;31m                                                   sample_weight=sample_weight)\n\u001b[0m\u001b[1;32m   1447\u001b[0m \u001b[0;34m\u001b[0m\u001b[0m\n\u001b[1;32m   1448\u001b[0m     \u001b[0mrow_fmt\u001b[0m \u001b[0;34m=\u001b[0m \u001b[0;34mu'{:>{width}s} '\u001b[0m \u001b[0;34m+\u001b[0m \u001b[0;34mu' {:>9.{digits}f}'\u001b[0m \u001b[0;34m*\u001b[0m \u001b[0;36m3\u001b[0m \u001b[0;34m+\u001b[0m \u001b[0;34mu' {:>9}\\n'\u001b[0m\u001b[0;34m\u001b[0m\u001b[0m\n",
      "\u001b[0;32m/home/namanda/anaconda3.6/lib/python3.6/site-packages/sklearn/metrics/classification.py\u001b[0m in \u001b[0;36mprecision_recall_fscore_support\u001b[0;34m(y_true, y_pred, beta, labels, pos_label, average, warn_for, sample_weight)\u001b[0m\n\u001b[1;32m   1023\u001b[0m         \u001b[0;32mraise\u001b[0m \u001b[0mValueError\u001b[0m\u001b[0;34m(\u001b[0m\u001b[0;34m\"beta should be >0 in the F-beta score\"\u001b[0m\u001b[0;34m)\u001b[0m\u001b[0;34m\u001b[0m\u001b[0m\n\u001b[1;32m   1024\u001b[0m \u001b[0;34m\u001b[0m\u001b[0m\n\u001b[0;32m-> 1025\u001b[0;31m     \u001b[0my_type\u001b[0m\u001b[0;34m,\u001b[0m \u001b[0my_true\u001b[0m\u001b[0;34m,\u001b[0m \u001b[0my_pred\u001b[0m \u001b[0;34m=\u001b[0m \u001b[0m_check_targets\u001b[0m\u001b[0;34m(\u001b[0m\u001b[0my_true\u001b[0m\u001b[0;34m,\u001b[0m \u001b[0my_pred\u001b[0m\u001b[0;34m)\u001b[0m\u001b[0;34m\u001b[0m\u001b[0m\n\u001b[0m\u001b[1;32m   1026\u001b[0m     \u001b[0mpresent_labels\u001b[0m \u001b[0;34m=\u001b[0m \u001b[0munique_labels\u001b[0m\u001b[0;34m(\u001b[0m\u001b[0my_true\u001b[0m\u001b[0;34m,\u001b[0m \u001b[0my_pred\u001b[0m\u001b[0;34m)\u001b[0m\u001b[0;34m\u001b[0m\u001b[0m\n\u001b[1;32m   1027\u001b[0m \u001b[0;34m\u001b[0m\u001b[0m\n",
      "\u001b[0;32m/home/namanda/anaconda3.6/lib/python3.6/site-packages/sklearn/metrics/classification.py\u001b[0m in \u001b[0;36m_check_targets\u001b[0;34m(y_true, y_pred)\u001b[0m\n\u001b[1;32m     69\u001b[0m     \u001b[0my_pred\u001b[0m \u001b[0;34m:\u001b[0m \u001b[0marray\u001b[0m \u001b[0;32mor\u001b[0m \u001b[0mindicator\u001b[0m \u001b[0mmatrix\u001b[0m\u001b[0;34m\u001b[0m\u001b[0m\n\u001b[1;32m     70\u001b[0m     \"\"\"\n\u001b[0;32m---> 71\u001b[0;31m     \u001b[0mcheck_consistent_length\u001b[0m\u001b[0;34m(\u001b[0m\u001b[0my_true\u001b[0m\u001b[0;34m,\u001b[0m \u001b[0my_pred\u001b[0m\u001b[0;34m)\u001b[0m\u001b[0;34m\u001b[0m\u001b[0m\n\u001b[0m\u001b[1;32m     72\u001b[0m     \u001b[0mtype_true\u001b[0m \u001b[0;34m=\u001b[0m \u001b[0mtype_of_target\u001b[0m\u001b[0;34m(\u001b[0m\u001b[0my_true\u001b[0m\u001b[0;34m)\u001b[0m\u001b[0;34m\u001b[0m\u001b[0m\n\u001b[1;32m     73\u001b[0m     \u001b[0mtype_pred\u001b[0m \u001b[0;34m=\u001b[0m \u001b[0mtype_of_target\u001b[0m\u001b[0;34m(\u001b[0m\u001b[0my_pred\u001b[0m\u001b[0;34m)\u001b[0m\u001b[0;34m\u001b[0m\u001b[0m\n",
      "\u001b[0;32m/home/namanda/anaconda3.6/lib/python3.6/site-packages/sklearn/utils/validation.py\u001b[0m in \u001b[0;36mcheck_consistent_length\u001b[0;34m(*arrays)\u001b[0m\n\u001b[1;32m    171\u001b[0m     \u001b[0;32mif\u001b[0m \u001b[0mlen\u001b[0m\u001b[0;34m(\u001b[0m\u001b[0muniques\u001b[0m\u001b[0;34m)\u001b[0m \u001b[0;34m>\u001b[0m \u001b[0;36m1\u001b[0m\u001b[0;34m:\u001b[0m\u001b[0;34m\u001b[0m\u001b[0m\n\u001b[1;32m    172\u001b[0m         raise ValueError(\"Found input variables with inconsistent numbers of\"\n\u001b[0;32m--> 173\u001b[0;31m                          \" samples: %r\" % [int(l) for l in lengths])\n\u001b[0m\u001b[1;32m    174\u001b[0m \u001b[0;34m\u001b[0m\u001b[0m\n\u001b[1;32m    175\u001b[0m \u001b[0;34m\u001b[0m\u001b[0m\n",
      "\u001b[0;31mValueError\u001b[0m: Found input variables with inconsistent numbers of samples: [174304, 300]"
     ]
    }
   ],
   "source": [
    "from sklearn.metrics import classification_report\n",
    "\n",
    "print(classification_report(Y_test_1hot, preds))"
   ]
  },
  {
   "cell_type": "code",
   "execution_count": null,
   "metadata": {
    "collapsed": true
   },
   "outputs": [],
   "source": []
  },
  {
   "cell_type": "code",
   "execution_count": null,
   "metadata": {
    "collapsed": true
   },
   "outputs": [],
   "source": []
  },
  {
   "cell_type": "markdown",
   "metadata": {},
   "source": [
    "# Weka Run"
   ]
  },
  {
   "cell_type": "code",
   "execution_count": 39,
   "metadata": {
    "collapsed": true
   },
   "outputs": [],
   "source": [
    "import weka.core.jvm as jvm"
   ]
  },
  {
   "cell_type": "code",
   "execution_count": 40,
   "metadata": {},
   "outputs": [
    {
     "name": "stderr",
     "output_type": "stream",
     "text": [
      "DEBUG:weka.core.jvm:Adding user-supplied classpath=C:\\Program Files\\Weka-3-8\\weka.jar\n",
      "DEBUG:weka.core.jvm:Adding user-supplied classpath=C:\\Program Files\\Weka-3-8\\weka-src.jar\n",
      "DEBUG:weka.core.jvm:Adding bundled jars\n",
      "DEBUG:weka.core.jvm:Adding Weka packages\n",
      "ERROR:weka.core.jvm:package_dir not found: H:\\\\wekafiles\\packages\n",
      "DEBUG:weka.core.jvm:Classpath=['C:\\\\Users\\\\namanda\\\\AppData\\\\Local\\\\Continuum\\\\anaconda3\\\\lib\\\\site-packages\\\\javabridge\\\\jars\\\\rhino-1.7R4.jar', 'C:\\\\Users\\\\namanda\\\\AppData\\\\Local\\\\Continuum\\\\anaconda3\\\\lib\\\\site-packages\\\\javabridge\\\\jars\\\\runnablequeue.jar', 'C:\\\\Users\\\\namanda\\\\AppData\\\\Local\\\\Continuum\\\\anaconda3\\\\lib\\\\site-packages\\\\javabridge\\\\jars\\\\cpython.jar', 'C:\\\\Program Files\\\\Weka-3-8\\\\weka.jar', 'C:\\\\Program Files\\\\Weka-3-8\\\\weka-src.jar', 'C:\\\\Users\\\\namanda\\\\AppData\\\\Local\\\\Continuum\\\\anaconda3\\\\lib\\\\site-packages\\\\weka\\\\lib\\\\python-weka-wrapper.jar']\n",
      "DEBUG:weka.core.jvm:MaxHeapSize=default\n",
      "DEBUG:javabridge.jutil:Creating JVM object\n",
      "DEBUG:javabridge.jutil:Signalling caller\n"
     ]
    }
   ],
   "source": [
    "jvm.start(packages=True,class_path=['C:\\\\Program Files\\\\Weka-3-8\\\\weka.jar','C:\\\\Program Files\\\\Weka-3-8\\\\weka-src.jar'])"
   ]
  },
  {
   "cell_type": "code",
   "execution_count": 41,
   "metadata": {
    "collapsed": true
   },
   "outputs": [],
   "source": [
    "from weka.classifiers import Classifier"
   ]
  },
  {
   "cell_type": "code",
   "execution_count": 59,
   "metadata": {
    "collapsed": true
   },
   "outputs": [],
   "source": [
    "from weka.classifiers import Classifier\n",
    "from weka.core.classes import from_commandline\n",
    "\n",
    "cmdline='weka.classifiers.meta.LogitBoost -P 100 -L -1.7976931348623157E308 -H 1.0 -Z 3.0 -O 1 -E 1 -S 1 -I 10 -W weka.classifiers.trees.RandomForest -- -P 100 -I 100 -num-slots 4 -K 0 -M 1.0 -V 0.001 -S 1'\n",
    "\n",
    "classifier = from_commandline(cmdline, classname=\"weka.classifiers.Classifier\")\n",
    "#cls = Classifier(classname=\"weka.classifiers.meta.LogitBoost\",options=[\"-W\",\"weka.classifiers.trees.RandomForest\", \"-O\",\"4\"])"
   ]
  },
  {
   "cell_type": "code",
   "execution_count": 60,
   "metadata": {},
   "outputs": [
    {
     "data": {
      "text/plain": [
       "'weka.classifiers.meta.LogitBoost -P 100 -L -1.7976931348623157E308 -H 1.0 -Z 3.0 -O 1 -E 1 -S 1 -I 10 -W weka.classifiers.trees.RandomForest -- -P 100 -I 100 -num-slots 4 -K 0 -M 1.0 -V 0.001 -S 1'"
      ]
     },
     "execution_count": 60,
     "metadata": {},
     "output_type": "execute_result"
    }
   ],
   "source": [
    "classifier.to_commandline()"
   ]
  },
  {
   "cell_type": "code",
   "execution_count": 61,
   "metadata": {},
   "outputs": [
    {
     "name": "stdout",
     "output_type": "stream",
     "text": [
      "weka.classifiers.meta.LogitBoost\n",
      "================================\n",
      "\n",
      "DESCRIPTION\n",
      "\n",
      "Class for performing additive logistic regression. \n",
      "This class performs classification using a regression scheme as the base learner, and can handle multi-class problems.  For more information, see\n",
      "\n",
      "J. Friedman, T. Hastie, R. Tibshirani (1998). Additive Logistic Regression: a Statistical View of Boosting. Stanford University.\n",
      "\n",
      "OPTIONS\n",
      "\n",
      "-Q\n",
      "\tUse resampling instead of reweighting for boosting.\n",
      "\n",
      "-use-estimated-priors\n",
      "\tUse estimated priors rather than uniform ones.\n",
      "\n",
      "-P <percent>\n",
      "\tPercentage of weight mass to base training on.\n",
      "\t(default 100, reduce to around 90 speed up)\n",
      "\n",
      "-L <num>\n",
      "\tThreshold on the improvement of the likelihood.\n",
      "\t(default -Double.MAX_VALUE)\n",
      "\n",
      "-H <num>\n",
      "\tShrinkage parameter.\n",
      "\t(default 1)\n",
      "\n",
      "-Z <num>\n",
      "\tZ max threshold for responses.\n",
      "\t(default 3)\n",
      "\n",
      "-O <int>\n",
      "\tThe size of the thread pool, for example, the number of cores in the CPU. (default 1)\n",
      "\n",
      "-E <int>\n",
      "\tThe number of threads to use for batch prediction, which should be >= size of thread pool.\n",
      "\t(default 1)\n",
      "\n",
      "-S <num>\n",
      "\tRandom number seed.\n",
      "\t(default 1)\n",
      "\n",
      "-I <num>\n",
      "\tNumber of iterations.\n",
      "\t(current value 10)\n",
      "\n",
      "-W <classifier name>\n",
      "\tFull name of base classifier.\n",
      "\t(default: weka.classifiers.trees.DecisionStump)\n",
      "\n",
      "-output-debug-info\n",
      "\tIf set, classifier is run in debug mode and\n",
      "\tmay output additional info to the console\n",
      "\n",
      "-do-not-check-capabilities\n",
      "\tIf set, classifier capabilities are not checked before classifier is built\n",
      "\t(use with caution).\n",
      "\n",
      "-num-decimal-places\n",
      "\tThe number of decimal places for the output of numbers in the model (default 2).\n",
      "\n",
      "-batch-size\n",
      "\tThe desired batch size for batch prediction  (default 100).\n",
      "\n",
      "\n",
      "Options specific to classifier weka.classifiers.trees.RandomForest:\n",
      "\n",
      "\n",
      "-P\n",
      "\tSize of each bag, as a percentage of the\n",
      "\ttraining set size. (default 100)\n",
      "\n",
      "-O\n",
      "\tCalculate the out of bag error.\n",
      "\n",
      "-store-out-of-bag-predictions\n",
      "\tWhether to store out of bag predictions in internal evaluation object.\n",
      "\n",
      "-output-out-of-bag-complexity-statistics\n",
      "\tWhether to output complexity-based statistics when out-of-bag evaluation is performed.\n",
      "\n",
      "-print\n",
      "\tPrint the individual classifiers in the output\n",
      "\n",
      "-attribute-importance\n",
      "\tCompute and output attribute importance (mean impurity decrease method)\n",
      "\n",
      "-I <num>\n",
      "\tNumber of iterations.\n",
      "\t(current value 100)\n",
      "\n",
      "-num-slots <num>\n",
      "\tNumber of execution slots.\n",
      "\t(default 1 - i.e. no parallelism)\n",
      "\t(use 0 to auto-detect number of cores)\n",
      "\n",
      "-K <number of attributes>\n",
      "\tNumber of attributes to randomly investigate.\t(default 0)\n",
      "\t(<1 = int(log_2(#predictors)+1)).\n",
      "\n",
      "-M <minimum number of instances>\n",
      "\tSet minimum number of instances per leaf.\n",
      "\t(default 1)\n",
      "\n",
      "-V <minimum variance for split>\n",
      "\tSet minimum numeric class variance proportion\n",
      "\tof train variance for split (default 1e-3).\n",
      "\n",
      "-S <num>\n",
      "\tSeed for random number generator.\n",
      "\t(default 1)\n",
      "\n",
      "-depth <num>\n",
      "\tThe maximum depth of the tree, 0 for unlimited.\n",
      "\t(default 0)\n",
      "\n",
      "-N <num>\n",
      "\tNumber of folds for backfitting (default 0, no backfitting).\n",
      "\n",
      "-U\n",
      "\tAllow unclassified instances.\n",
      "\n",
      "-B\n",
      "\tBreak ties randomly when several attributes look equally good.\n",
      "\n",
      "-output-debug-info\n",
      "\tIf set, classifier is run in debug mode and\n",
      "\tmay output additional info to the console\n",
      "\n",
      "-do-not-check-capabilities\n",
      "\tIf set, classifier capabilities are not checked before classifier is built\n",
      "\t(use with caution).\n",
      "\n",
      "-num-decimal-places\n",
      "\tThe number of decimal places for the output of numbers in the model (default 2).\n",
      "\n",
      "-batch-size\n",
      "\tThe desired batch size for batch prediction  (default 100).\n",
      "\n"
     ]
    }
   ],
   "source": [
    "print(cls.to_help())"
   ]
  },
  {
   "cell_type": "code",
   "execution_count": 62,
   "metadata": {
    "collapsed": true
   },
   "outputs": [],
   "source": [
    "X_train_df=pd.DataFrame(X_train,columns=features_imp)"
   ]
  },
  {
   "cell_type": "code",
   "execution_count": 63,
   "metadata": {
    "collapsed": true
   },
   "outputs": [],
   "source": [
    "Y_train_df=pd.DataFrame(Y_train,columns=['Cover_Type'])\n",
    "train_df=pd.concat([X_train_df, Y_train_df], axis=1)"
   ]
  },
  {
   "cell_type": "code",
   "execution_count": 64,
   "metadata": {
    "collapsed": true
   },
   "outputs": [],
   "source": [
    "train_df.reset_index(inplace=True)"
   ]
  },
  {
   "cell_type": "code",
   "execution_count": 65,
   "metadata": {
    "collapsed": true
   },
   "outputs": [],
   "source": [
    "train_df.set_index('index',inplace=True)"
   ]
  },
  {
   "cell_type": "code",
   "execution_count": 66,
   "metadata": {
    "collapsed": true
   },
   "outputs": [],
   "source": [
    "train_df.to_csv('Train_file.csv',sep=',',index=False)"
   ]
  },
  {
   "cell_type": "code",
   "execution_count": 67,
   "metadata": {
    "collapsed": true
   },
   "outputs": [],
   "source": [
    "import weka.core.converters as converters\n",
    "from weka.core.converters import Loader\n",
    "#helper.print_title(\"Loading CSV file\") \n",
    "loader = Loader(classname=\"weka.core.converters.CSVLoader\") \n",
    "data = loader.load_file(\"Train_file.csv\") \n",
    "#print(str(data)) \n",
    "#converters.load_any_file(\"creditcard.csv\")"
   ]
  },
  {
   "cell_type": "code",
   "execution_count": 343,
   "metadata": {
    "collapsed": true
   },
   "outputs": [],
   "source": [
    "#data.delete_first_attribute()"
   ]
  },
  {
   "cell_type": "code",
   "execution_count": 68,
   "metadata": {
    "collapsed": true
   },
   "outputs": [],
   "source": [
    "from weka.filters import Filter\n",
    "nominal = Filter(classname=\"weka.filters.unsupervised.attribute.NumericToNominal\", options=[\"-R\", \"last\"])\n",
    "#print(nominal.to_help())"
   ]
  },
  {
   "cell_type": "code",
   "execution_count": 69,
   "metadata": {
    "collapsed": true
   },
   "outputs": [],
   "source": [
    "nominal.inputformat(data)\n",
    "nominaldata1 = nominal.filter(data)\n",
    "nominaldata1.class_is_last()"
   ]
  },
  {
   "cell_type": "code",
   "execution_count": 70,
   "metadata": {
    "collapsed": true
   },
   "outputs": [],
   "source": [
    "#print(cls)"
   ]
  },
  {
   "cell_type": "code",
   "execution_count": 71,
   "metadata": {},
   "outputs": [
    {
     "ename": "JavaException",
     "evalue": "GC overhead limit exceeded",
     "output_type": "error",
     "traceback": [
      "\u001b[1;31m---------------------------------------------------------------------------\u001b[0m",
      "\u001b[1;31mJavaException\u001b[0m                             Traceback (most recent call last)",
      "\u001b[1;32m<ipython-input-71-2626fffe9d39>\u001b[0m in \u001b[0;36m<module>\u001b[1;34m()\u001b[0m\n\u001b[1;32m----> 1\u001b[1;33m \u001b[0mcls\u001b[0m\u001b[1;33m.\u001b[0m\u001b[0mbuild_classifier\u001b[0m\u001b[1;33m(\u001b[0m\u001b[0mnominaldata1\u001b[0m\u001b[1;33m)\u001b[0m\u001b[1;33m\u001b[0m\u001b[0m\n\u001b[0m",
      "\u001b[1;32mC:\\Users\\namanda\\AppData\\Local\\Continuum\\anaconda3\\lib\\site-packages\\weka\\classifiers.py\u001b[0m in \u001b[0;36mbuild_classifier\u001b[1;34m(self, data)\u001b[0m\n\u001b[0;32m     80\u001b[0m         \u001b[1;33m:\u001b[0m\u001b[0mtype\u001b[0m \u001b[0mdata\u001b[0m\u001b[1;33m:\u001b[0m \u001b[0mInstances\u001b[0m\u001b[1;33m\u001b[0m\u001b[0m\n\u001b[0;32m     81\u001b[0m         \"\"\"\n\u001b[1;32m---> 82\u001b[1;33m         \u001b[0mjavabridge\u001b[0m\u001b[1;33m.\u001b[0m\u001b[0mcall\u001b[0m\u001b[1;33m(\u001b[0m\u001b[0mself\u001b[0m\u001b[1;33m.\u001b[0m\u001b[0mjobject\u001b[0m\u001b[1;33m,\u001b[0m \u001b[1;34m\"buildClassifier\"\u001b[0m\u001b[1;33m,\u001b[0m \u001b[1;34m\"(Lweka/core/Instances;)V\"\u001b[0m\u001b[1;33m,\u001b[0m \u001b[0mdata\u001b[0m\u001b[1;33m.\u001b[0m\u001b[0mjobject\u001b[0m\u001b[1;33m)\u001b[0m\u001b[1;33m\u001b[0m\u001b[0m\n\u001b[0m\u001b[0;32m     83\u001b[0m \u001b[1;33m\u001b[0m\u001b[0m\n\u001b[0;32m     84\u001b[0m     \u001b[1;32mdef\u001b[0m \u001b[0mupdate_classifier\u001b[0m\u001b[1;33m(\u001b[0m\u001b[0mself\u001b[0m\u001b[1;33m,\u001b[0m \u001b[0minst\u001b[0m\u001b[1;33m)\u001b[0m\u001b[1;33m:\u001b[0m\u001b[1;33m\u001b[0m\u001b[0m\n",
      "\u001b[1;32mC:\\Users\\namanda\\AppData\\Local\\Continuum\\anaconda3\\lib\\site-packages\\javabridge\\jutil.py\u001b[0m in \u001b[0;36mcall\u001b[1;34m(o, method_name, sig, *args)\u001b[0m\n\u001b[0;32m    885\u001b[0m     \u001b[0mret_sig\u001b[0m \u001b[1;33m=\u001b[0m \u001b[0msig\u001b[0m\u001b[1;33m[\u001b[0m\u001b[0msig\u001b[0m\u001b[1;33m.\u001b[0m\u001b[0mfind\u001b[0m\u001b[1;33m(\u001b[0m\u001b[1;34m')'\u001b[0m\u001b[1;33m)\u001b[0m\u001b[1;33m+\u001b[0m\u001b[1;36m1\u001b[0m\u001b[1;33m:\u001b[0m\u001b[1;33m]\u001b[0m\u001b[1;33m\u001b[0m\u001b[0m\n\u001b[0;32m    886\u001b[0m     \u001b[0mnice_args\u001b[0m \u001b[1;33m=\u001b[0m \u001b[0mget_nice_args\u001b[0m\u001b[1;33m(\u001b[0m\u001b[0margs\u001b[0m\u001b[1;33m,\u001b[0m \u001b[0margs_sig\u001b[0m\u001b[1;33m)\u001b[0m\u001b[1;33m\u001b[0m\u001b[0m\n\u001b[1;32m--> 887\u001b[1;33m     \u001b[0mresult\u001b[0m \u001b[1;33m=\u001b[0m \u001b[0mfn\u001b[0m\u001b[1;33m(\u001b[0m\u001b[1;33m*\u001b[0m\u001b[0mnice_args\u001b[0m\u001b[1;33m)\u001b[0m\u001b[1;33m\u001b[0m\u001b[0m\n\u001b[0m\u001b[0;32m    888\u001b[0m     \u001b[0mx\u001b[0m \u001b[1;33m=\u001b[0m \u001b[0menv\u001b[0m\u001b[1;33m.\u001b[0m\u001b[0mexception_occurred\u001b[0m\u001b[1;33m(\u001b[0m\u001b[1;33m)\u001b[0m\u001b[1;33m\u001b[0m\u001b[0m\n\u001b[0;32m    889\u001b[0m     \u001b[1;32mif\u001b[0m \u001b[0mx\u001b[0m \u001b[1;32mis\u001b[0m \u001b[1;32mnot\u001b[0m \u001b[1;32mNone\u001b[0m\u001b[1;33m:\u001b[0m\u001b[1;33m\u001b[0m\u001b[0m\n",
      "\u001b[1;32mC:\\Users\\namanda\\AppData\\Local\\Continuum\\anaconda3\\lib\\site-packages\\javabridge\\jutil.py\u001b[0m in \u001b[0;36mfn\u001b[1;34m(*args)\u001b[0m\n\u001b[0;32m    852\u001b[0m             \u001b[0mx\u001b[0m \u001b[1;33m=\u001b[0m \u001b[0menv\u001b[0m\u001b[1;33m.\u001b[0m\u001b[0mexception_occurred\u001b[0m\u001b[1;33m(\u001b[0m\u001b[1;33m)\u001b[0m\u001b[1;33m\u001b[0m\u001b[0m\n\u001b[0;32m    853\u001b[0m             \u001b[1;32mif\u001b[0m \u001b[0mx\u001b[0m \u001b[1;32mis\u001b[0m \u001b[1;32mnot\u001b[0m \u001b[1;32mNone\u001b[0m\u001b[1;33m:\u001b[0m\u001b[1;33m\u001b[0m\u001b[0m\n\u001b[1;32m--> 854\u001b[1;33m                 \u001b[1;32mraise\u001b[0m \u001b[0mJavaException\u001b[0m\u001b[1;33m(\u001b[0m\u001b[0mx\u001b[0m\u001b[1;33m)\u001b[0m\u001b[1;33m\u001b[0m\u001b[0m\n\u001b[0m\u001b[0;32m    855\u001b[0m             \u001b[1;32mreturn\u001b[0m \u001b[0mresult\u001b[0m\u001b[1;33m\u001b[0m\u001b[0m\n\u001b[0;32m    856\u001b[0m     \u001b[1;32melse\u001b[0m\u001b[1;33m:\u001b[0m\u001b[1;33m\u001b[0m\u001b[0m\n",
      "\u001b[1;31mJavaException\u001b[0m: GC overhead limit exceeded"
     ]
    }
   ],
   "source": [
    "cls.build_classifier(nominaldata1)"
   ]
  },
  {
   "cell_type": "code",
   "execution_count": 64,
   "metadata": {
    "collapsed": true
   },
   "outputs": [
    {
     "name": "stdout",
     "output_type": "stream",
     "text": [
      "1: label index=0.0, class distribution=[ 1.  0.  0.]\n",
      "2: label index=0.0, class distribution=[ 1.  0.  0.]\n",
      "3: label index=0.0, class distribution=[ 1.  0.  0.]\n",
      "4: label index=0.0, class distribution=[ 1.  0.  0.]\n",
      "5: label index=0.0, class distribution=[ 1.  0.  0.]\n",
      "6: label index=0.0, class distribution=[ 1.  0.  0.]\n",
      "7: label index=0.0, class distribution=[ 1.  0.  0.]\n",
      "8: label index=0.0, class distribution=[ 1.  0.  0.]\n",
      "9: label index=0.0, class distribution=[ 1.  0.  0.]\n",
      "10: label index=0.0, class distribution=[ 1.  0.  0.]\n",
      "11: label index=0.0, class distribution=[ 1.  0.  0.]\n",
      "12: label index=0.0, class distribution=[ 1.  0.  0.]\n",
      "13: label index=0.0, class distribution=[ 1.  0.  0.]\n",
      "14: label index=0.0, class distribution=[ 1.  0.  0.]\n",
      "15: label index=0.0, class distribution=[ 1.  0.  0.]\n",
      "16: label index=0.0, class distribution=[ 1.  0.  0.]\n",
      "17: label index=0.0, class distribution=[ 1.  0.  0.]\n",
      "18: label index=0.0, class distribution=[ 1.  0.  0.]\n",
      "19: label index=0.0, class distribution=[ 1.  0.  0.]\n",
      "20: label index=0.0, class distribution=[ 1.  0.  0.]\n",
      "21: label index=0.0, class distribution=[ 1.  0.  0.]\n",
      "22: label index=0.0, class distribution=[ 1.  0.  0.]\n",
      "23: label index=0.0, class distribution=[ 1.  0.  0.]\n",
      "24: label index=0.0, class distribution=[ 1.  0.  0.]\n",
      "25: label index=0.0, class distribution=[ 1.  0.  0.]\n",
      "26: label index=0.0, class distribution=[ 1.  0.  0.]\n",
      "27: label index=0.0, class distribution=[ 1.  0.  0.]\n",
      "28: label index=0.0, class distribution=[ 1.  0.  0.]\n",
      "29: label index=0.0, class distribution=[ 1.  0.  0.]\n",
      "30: label index=0.0, class distribution=[ 1.  0.  0.]\n",
      "31: label index=0.0, class distribution=[ 1.  0.  0.]\n",
      "32: label index=0.0, class distribution=[ 1.  0.  0.]\n",
      "33: label index=0.0, class distribution=[ 1.  0.  0.]\n",
      "34: label index=0.0, class distribution=[ 1.  0.  0.]\n",
      "35: label index=0.0, class distribution=[ 1.  0.  0.]\n",
      "36: label index=0.0, class distribution=[ 1.  0.  0.]\n",
      "37: label index=0.0, class distribution=[ 1.  0.  0.]\n",
      "38: label index=0.0, class distribution=[ 1.  0.  0.]\n",
      "39: label index=0.0, class distribution=[ 1.  0.  0.]\n",
      "40: label index=0.0, class distribution=[ 1.  0.  0.]\n",
      "41: label index=0.0, class distribution=[ 1.  0.  0.]\n",
      "42: label index=0.0, class distribution=[ 1.  0.  0.]\n",
      "43: label index=0.0, class distribution=[ 1.  0.  0.]\n",
      "44: label index=0.0, class distribution=[ 1.  0.  0.]\n",
      "45: label index=0.0, class distribution=[ 1.  0.  0.]\n",
      "46: label index=0.0, class distribution=[ 1.  0.  0.]\n",
      "47: label index=0.0, class distribution=[ 1.  0.  0.]\n",
      "48: label index=0.0, class distribution=[ 1.  0.  0.]\n",
      "49: label index=0.0, class distribution=[ 1.  0.  0.]\n",
      "50: label index=0.0, class distribution=[ 1.  0.  0.]\n",
      "51: label index=1.0, class distribution=[ 0.          0.97916667  0.02083333]\n",
      "52: label index=1.0, class distribution=[ 0.          0.97916667  0.02083333]\n",
      "53: label index=1.0, class distribution=[ 0.          0.97916667  0.02083333]\n",
      "54: label index=1.0, class distribution=[ 0.          0.97916667  0.02083333]\n",
      "55: label index=1.0, class distribution=[ 0.          0.97916667  0.02083333]\n",
      "56: label index=1.0, class distribution=[ 0.          0.97916667  0.02083333]\n",
      "57: label index=1.0, class distribution=[ 0.          0.97916667  0.02083333]\n",
      "58: label index=1.0, class distribution=[ 0.          0.97916667  0.02083333]\n",
      "59: label index=1.0, class distribution=[ 0.          0.97916667  0.02083333]\n",
      "60: label index=1.0, class distribution=[ 0.          0.97916667  0.02083333]\n",
      "61: label index=1.0, class distribution=[ 0.          0.97916667  0.02083333]\n",
      "62: label index=1.0, class distribution=[ 0.          0.97916667  0.02083333]\n",
      "63: label index=1.0, class distribution=[ 0.          0.97916667  0.02083333]\n",
      "64: label index=1.0, class distribution=[ 0.          0.97916667  0.02083333]\n",
      "65: label index=1.0, class distribution=[ 0.          0.97916667  0.02083333]\n",
      "66: label index=1.0, class distribution=[ 0.          0.97916667  0.02083333]\n",
      "67: label index=1.0, class distribution=[ 0.          0.97916667  0.02083333]\n",
      "68: label index=1.0, class distribution=[ 0.          0.97916667  0.02083333]\n",
      "69: label index=1.0, class distribution=[ 0.          0.97916667  0.02083333]\n",
      "70: label index=1.0, class distribution=[ 0.          0.97916667  0.02083333]\n",
      "71: label index=2.0, class distribution=[ 0.          0.02173913  0.97826087]\n",
      "72: label index=1.0, class distribution=[ 0.          0.97916667  0.02083333]\n",
      "73: label index=1.0, class distribution=[ 0.          0.97916667  0.02083333]\n",
      "74: label index=1.0, class distribution=[ 0.          0.97916667  0.02083333]\n",
      "75: label index=1.0, class distribution=[ 0.          0.97916667  0.02083333]\n",
      "76: label index=1.0, class distribution=[ 0.          0.97916667  0.02083333]\n",
      "77: label index=1.0, class distribution=[ 0.          0.97916667  0.02083333]\n",
      "78: label index=1.0, class distribution=[ 0.          0.66666667  0.33333333]\n",
      "79: label index=1.0, class distribution=[ 0.          0.97916667  0.02083333]\n",
      "80: label index=1.0, class distribution=[ 0.          0.97916667  0.02083333]\n",
      "81: label index=1.0, class distribution=[ 0.          0.97916667  0.02083333]\n",
      "82: label index=1.0, class distribution=[ 0.          0.97916667  0.02083333]\n",
      "83: label index=1.0, class distribution=[ 0.          0.97916667  0.02083333]\n",
      "84: label index=1.0, class distribution=[ 0.          0.66666667  0.33333333]\n",
      "85: label index=1.0, class distribution=[ 0.          0.97916667  0.02083333]\n",
      "86: label index=1.0, class distribution=[ 0.          0.97916667  0.02083333]\n",
      "87: label index=1.0, class distribution=[ 0.          0.97916667  0.02083333]\n",
      "88: label index=1.0, class distribution=[ 0.          0.97916667  0.02083333]\n",
      "89: label index=1.0, class distribution=[ 0.          0.97916667  0.02083333]\n",
      "90: label index=1.0, class distribution=[ 0.          0.97916667  0.02083333]\n",
      "91: label index=1.0, class distribution=[ 0.          0.97916667  0.02083333]\n",
      "92: label index=1.0, class distribution=[ 0.          0.97916667  0.02083333]\n",
      "93: label index=1.0, class distribution=[ 0.          0.97916667  0.02083333]\n",
      "94: label index=1.0, class distribution=[ 0.          0.97916667  0.02083333]\n",
      "95: label index=1.0, class distribution=[ 0.          0.97916667  0.02083333]\n",
      "96: label index=1.0, class distribution=[ 0.          0.97916667  0.02083333]\n",
      "97: label index=1.0, class distribution=[ 0.          0.97916667  0.02083333]\n",
      "98: label index=1.0, class distribution=[ 0.          0.97916667  0.02083333]\n",
      "99: label index=1.0, class distribution=[ 0.          0.97916667  0.02083333]\n",
      "100: label index=1.0, class distribution=[ 0.          0.97916667  0.02083333]\n",
      "101: label index=2.0, class distribution=[ 0.          0.02173913  0.97826087]\n",
      "102: label index=2.0, class distribution=[ 0.          0.02173913  0.97826087]\n",
      "103: label index=2.0, class distribution=[ 0.          0.02173913  0.97826087]\n",
      "104: label index=2.0, class distribution=[ 0.          0.02173913  0.97826087]\n",
      "105: label index=2.0, class distribution=[ 0.          0.02173913  0.97826087]\n",
      "106: label index=2.0, class distribution=[ 0.          0.02173913  0.97826087]\n",
      "107: label index=1.0, class distribution=[ 0.          0.97916667  0.02083333]\n",
      "108: label index=2.0, class distribution=[ 0.          0.02173913  0.97826087]\n",
      "109: label index=2.0, class distribution=[ 0.          0.02173913  0.97826087]\n",
      "110: label index=2.0, class distribution=[ 0.          0.02173913  0.97826087]\n",
      "111: label index=2.0, class distribution=[ 0.          0.02173913  0.97826087]\n",
      "112: label index=2.0, class distribution=[ 0.          0.02173913  0.97826087]\n",
      "113: label index=2.0, class distribution=[ 0.          0.02173913  0.97826087]\n",
      "114: label index=2.0, class distribution=[ 0.          0.02173913  0.97826087]\n",
      "115: label index=2.0, class distribution=[ 0.          0.02173913  0.97826087]\n",
      "116: label index=2.0, class distribution=[ 0.          0.02173913  0.97826087]\n",
      "117: label index=2.0, class distribution=[ 0.          0.02173913  0.97826087]\n",
      "118: label index=2.0, class distribution=[ 0.          0.02173913  0.97826087]\n",
      "119: label index=2.0, class distribution=[ 0.          0.02173913  0.97826087]\n",
      "120: label index=2.0, class distribution=[ 0.  0.  1.]\n",
      "121: label index=2.0, class distribution=[ 0.          0.02173913  0.97826087]\n",
      "122: label index=2.0, class distribution=[ 0.          0.02173913  0.97826087]\n",
      "123: label index=2.0, class distribution=[ 0.          0.02173913  0.97826087]\n",
      "124: label index=2.0, class distribution=[ 0.          0.02173913  0.97826087]\n",
      "125: label index=2.0, class distribution=[ 0.          0.02173913  0.97826087]\n",
      "126: label index=2.0, class distribution=[ 0.          0.02173913  0.97826087]\n",
      "127: label index=2.0, class distribution=[ 0.          0.02173913  0.97826087]\n",
      "128: label index=2.0, class distribution=[ 0.          0.02173913  0.97826087]\n",
      "129: label index=2.0, class distribution=[ 0.          0.02173913  0.97826087]\n",
      "130: label index=1.0, class distribution=[ 0.          0.66666667  0.33333333]\n",
      "131: label index=2.0, class distribution=[ 0.          0.02173913  0.97826087]\n",
      "132: label index=2.0, class distribution=[ 0.          0.02173913  0.97826087]\n",
      "133: label index=2.0, class distribution=[ 0.          0.02173913  0.97826087]\n",
      "134: label index=2.0, class distribution=[ 0.  0.  1.]\n",
      "135: label index=2.0, class distribution=[ 0.  0.  1.]\n",
      "136: label index=2.0, class distribution=[ 0.          0.02173913  0.97826087]\n",
      "137: label index=2.0, class distribution=[ 0.          0.02173913  0.97826087]\n",
      "138: label index=2.0, class distribution=[ 0.          0.02173913  0.97826087]\n",
      "139: label index=2.0, class distribution=[ 0.          0.02173913  0.97826087]\n",
      "140: label index=2.0, class distribution=[ 0.          0.02173913  0.97826087]\n",
      "141: label index=2.0, class distribution=[ 0.          0.02173913  0.97826087]\n",
      "142: label index=2.0, class distribution=[ 0.          0.02173913  0.97826087]\n",
      "143: label index=2.0, class distribution=[ 0.          0.02173913  0.97826087]\n",
      "144: label index=2.0, class distribution=[ 0.          0.02173913  0.97826087]\n",
      "145: label index=2.0, class distribution=[ 0.          0.02173913  0.97826087]\n",
      "146: label index=2.0, class distribution=[ 0.          0.02173913  0.97826087]\n",
      "147: label index=2.0, class distribution=[ 0.          0.02173913  0.97826087]\n",
      "148: label index=2.0, class distribution=[ 0.          0.02173913  0.97826087]\n",
      "149: label index=2.0, class distribution=[ 0.          0.02173913  0.97826087]\n",
      "150: label index=2.0, class distribution=[ 0.          0.02173913  0.97826087]\n"
     ]
    }
   ],
   "source": [
    "for index, inst in enumerate(data):\n",
    "    pred = cls.classify_instance(inst)\n",
    "    dist = cls.distribution_for_instance(inst)\n",
    "    print(str(index+1) + \": label index=\" + str(pred) + \", class distribution=\" + str(dist))"
   ]
  },
  {
   "cell_type": "code",
   "execution_count": 66,
   "metadata": {},
   "outputs": [
    {
     "name": "stderr",
     "output_type": "stream",
     "text": [
      "ERROR:weka.plot.graph:Pygraphviz is not installed, cannot generate graph plot!\n"
     ]
    },
    {
     "name": "stdout",
     "output_type": "stream",
     "text": [
      "J48 pruned tree\n",
      "------------------\n",
      "\n",
      "petalwidth <= 0.6: Iris-setosa (50.0)\n",
      "petalwidth > 0.6\n",
      "|   petalwidth <= 1.7\n",
      "|   |   petallength <= 4.9: Iris-versicolor (48.0/1.0)\n",
      "|   |   petallength > 4.9\n",
      "|   |   |   petalwidth <= 1.5: Iris-virginica (3.0)\n",
      "|   |   |   petalwidth > 1.5: Iris-versicolor (3.0/1.0)\n",
      "|   petalwidth > 1.7: Iris-virginica (46.0/1.0)\n",
      "\n",
      "Number of Leaves  : \t5\n",
      "\n",
      "Size of the tree : \t9\n",
      "\n"
     ]
    }
   ],
   "source": [
    "#from weka.classifiers import Classifier\n",
    "#cls = Classifier(classname=\"weka.classifiers.trees.J48\", options=[\"-C\", \"0.3\"])\n",
    "#cls.build_classifier(data)\n",
    "\n",
    "#print(cls)\n",
    "\n",
    "import weka.plot.graph as graph  # NB: pygraphviz and PIL are required\n",
    "graph.plot_dot_graph(cls.graph)"
   ]
  },
  {
   "cell_type": "code",
   "execution_count": 67,
   "metadata": {
    "collapsed": true
   },
   "outputs": [],
   "source": [
    "jvm.stop()"
   ]
  }
 ],
 "metadata": {
  "kernelspec": {
   "display_name": "Python 3",
   "language": "python",
   "name": "python3"
  },
  "language_info": {
   "codemirror_mode": {
    "name": "ipython",
    "version": 3
   },
   "file_extension": ".py",
   "mimetype": "text/x-python",
   "name": "python",
   "nbconvert_exporter": "python",
   "pygments_lexer": "ipython3",
   "version": "3.6.3"
  }
 },
 "nbformat": 4,
 "nbformat_minor": 2
}
