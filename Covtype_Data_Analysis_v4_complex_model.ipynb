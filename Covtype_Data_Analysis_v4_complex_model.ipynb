{
 "cells": [
  {
   "cell_type": "code",
   "execution_count": 1,
   "metadata": {
    "collapsed": true
   },
   "outputs": [],
   "source": [
    "import pandas as pd\n",
    "import numpy as np\n",
    "import matplotlib.pyplot as plt\n",
    "import seaborn as sns\n",
    "%matplotlib inline"
   ]
  },
  {
   "cell_type": "code",
   "execution_count": 2,
   "metadata": {
    "collapsed": true
   },
   "outputs": [],
   "source": [
    "import matplotlib\n",
    "font = {'family' : 'normal',\n",
    "        'weight' : 'bold',\n",
    "        'size'   : 14}\n",
    "matplotlib.rc('font', **font)"
   ]
  },
  {
   "cell_type": "code",
   "execution_count": 3,
   "metadata": {
    "collapsed": true
   },
   "outputs": [],
   "source": [
    "data=pd.read_csv('covtype.CSV',header=-1)"
   ]
  },
  {
   "cell_type": "code",
   "execution_count": 4,
   "metadata": {},
   "outputs": [
    {
     "data": {
      "text/html": [
       "<div>\n",
       "<style>\n",
       "    .dataframe thead tr:only-child th {\n",
       "        text-align: right;\n",
       "    }\n",
       "\n",
       "    .dataframe thead th {\n",
       "        text-align: left;\n",
       "    }\n",
       "\n",
       "    .dataframe tbody tr th {\n",
       "        vertical-align: top;\n",
       "    }\n",
       "</style>\n",
       "<table border=\"1\" class=\"dataframe\">\n",
       "  <thead>\n",
       "    <tr style=\"text-align: right;\">\n",
       "      <th></th>\n",
       "      <th>0</th>\n",
       "      <th>1</th>\n",
       "      <th>2</th>\n",
       "      <th>3</th>\n",
       "      <th>4</th>\n",
       "      <th>5</th>\n",
       "      <th>6</th>\n",
       "      <th>7</th>\n",
       "      <th>8</th>\n",
       "      <th>9</th>\n",
       "      <th>...</th>\n",
       "      <th>45</th>\n",
       "      <th>46</th>\n",
       "      <th>47</th>\n",
       "      <th>48</th>\n",
       "      <th>49</th>\n",
       "      <th>50</th>\n",
       "      <th>51</th>\n",
       "      <th>52</th>\n",
       "      <th>53</th>\n",
       "      <th>54</th>\n",
       "    </tr>\n",
       "  </thead>\n",
       "  <tbody>\n",
       "    <tr>\n",
       "      <th>0</th>\n",
       "      <td>2596</td>\n",
       "      <td>51</td>\n",
       "      <td>3</td>\n",
       "      <td>258</td>\n",
       "      <td>0</td>\n",
       "      <td>510</td>\n",
       "      <td>221</td>\n",
       "      <td>232</td>\n",
       "      <td>148</td>\n",
       "      <td>6279</td>\n",
       "      <td>...</td>\n",
       "      <td>0</td>\n",
       "      <td>0</td>\n",
       "      <td>0</td>\n",
       "      <td>0</td>\n",
       "      <td>0</td>\n",
       "      <td>0</td>\n",
       "      <td>0</td>\n",
       "      <td>0</td>\n",
       "      <td>0</td>\n",
       "      <td>5</td>\n",
       "    </tr>\n",
       "    <tr>\n",
       "      <th>1</th>\n",
       "      <td>2590</td>\n",
       "      <td>56</td>\n",
       "      <td>2</td>\n",
       "      <td>212</td>\n",
       "      <td>-6</td>\n",
       "      <td>390</td>\n",
       "      <td>220</td>\n",
       "      <td>235</td>\n",
       "      <td>151</td>\n",
       "      <td>6225</td>\n",
       "      <td>...</td>\n",
       "      <td>0</td>\n",
       "      <td>0</td>\n",
       "      <td>0</td>\n",
       "      <td>0</td>\n",
       "      <td>0</td>\n",
       "      <td>0</td>\n",
       "      <td>0</td>\n",
       "      <td>0</td>\n",
       "      <td>0</td>\n",
       "      <td>5</td>\n",
       "    </tr>\n",
       "    <tr>\n",
       "      <th>2</th>\n",
       "      <td>2804</td>\n",
       "      <td>139</td>\n",
       "      <td>9</td>\n",
       "      <td>268</td>\n",
       "      <td>65</td>\n",
       "      <td>3180</td>\n",
       "      <td>234</td>\n",
       "      <td>238</td>\n",
       "      <td>135</td>\n",
       "      <td>6121</td>\n",
       "      <td>...</td>\n",
       "      <td>0</td>\n",
       "      <td>0</td>\n",
       "      <td>0</td>\n",
       "      <td>0</td>\n",
       "      <td>0</td>\n",
       "      <td>0</td>\n",
       "      <td>0</td>\n",
       "      <td>0</td>\n",
       "      <td>0</td>\n",
       "      <td>2</td>\n",
       "    </tr>\n",
       "    <tr>\n",
       "      <th>3</th>\n",
       "      <td>2785</td>\n",
       "      <td>155</td>\n",
       "      <td>18</td>\n",
       "      <td>242</td>\n",
       "      <td>118</td>\n",
       "      <td>3090</td>\n",
       "      <td>238</td>\n",
       "      <td>238</td>\n",
       "      <td>122</td>\n",
       "      <td>6211</td>\n",
       "      <td>...</td>\n",
       "      <td>0</td>\n",
       "      <td>0</td>\n",
       "      <td>0</td>\n",
       "      <td>0</td>\n",
       "      <td>0</td>\n",
       "      <td>0</td>\n",
       "      <td>0</td>\n",
       "      <td>0</td>\n",
       "      <td>0</td>\n",
       "      <td>2</td>\n",
       "    </tr>\n",
       "    <tr>\n",
       "      <th>4</th>\n",
       "      <td>2595</td>\n",
       "      <td>45</td>\n",
       "      <td>2</td>\n",
       "      <td>153</td>\n",
       "      <td>-1</td>\n",
       "      <td>391</td>\n",
       "      <td>220</td>\n",
       "      <td>234</td>\n",
       "      <td>150</td>\n",
       "      <td>6172</td>\n",
       "      <td>...</td>\n",
       "      <td>0</td>\n",
       "      <td>0</td>\n",
       "      <td>0</td>\n",
       "      <td>0</td>\n",
       "      <td>0</td>\n",
       "      <td>0</td>\n",
       "      <td>0</td>\n",
       "      <td>0</td>\n",
       "      <td>0</td>\n",
       "      <td>5</td>\n",
       "    </tr>\n",
       "  </tbody>\n",
       "</table>\n",
       "<p>5 rows × 55 columns</p>\n",
       "</div>"
      ],
      "text/plain": [
       "     0    1   2    3    4     5    6    7    8     9  ...  45  46  47  48  49  \\\n",
       "0  2596   51   3  258    0   510  221  232  148  6279 ...   0   0   0   0   0   \n",
       "1  2590   56   2  212   -6   390  220  235  151  6225 ...   0   0   0   0   0   \n",
       "2  2804  139   9  268   65  3180  234  238  135  6121 ...   0   0   0   0   0   \n",
       "3  2785  155  18  242  118  3090  238  238  122  6211 ...   0   0   0   0   0   \n",
       "4  2595   45   2  153   -1   391  220  234  150  6172 ...   0   0   0   0   0   \n",
       "\n",
       "   50  51  52  53  54  \n",
       "0   0   0   0   0   5  \n",
       "1   0   0   0   0   5  \n",
       "2   0   0   0   0   2  \n",
       "3   0   0   0   0   2  \n",
       "4   0   0   0   0   5  \n",
       "\n",
       "[5 rows x 55 columns]"
      ]
     },
     "execution_count": 4,
     "metadata": {},
     "output_type": "execute_result"
    }
   ],
   "source": [
    "data.head()"
   ]
  },
  {
   "cell_type": "code",
   "execution_count": 5,
   "metadata": {
    "collapsed": true
   },
   "outputs": [],
   "source": [
    "headers=['Elevation','Aspect','Slope','Horizontal_Distance_To_Hydrology','Vertical_Distance_To_Hydrology','Horizontal_Distance_To_Roadways'         \n",
    ",'Hillshade_9am','Hillshade_Noon','Hillshade_3pm','Horizontal_Distance_To_Fire_Points','Wilderness_Area_1','Wilderness_Area_2','Wilderness_Area_3','Wilderness_Area_4']"
   ]
  },
  {
   "cell_type": "code",
   "execution_count": 6,
   "metadata": {
    "collapsed": true
   },
   "outputs": [],
   "source": [
    "headers_init=['Elevation','Aspect','Slope','Horizontal_Distance_To_Hydrology','Vertical_Distance_To_Hydrology','Horizontal_Distance_To_Roadways'         \n",
    ",'Hillshade_9am','Hillshade_Noon','Hillshade_3pm','Horizontal_Distance_To_Fire_Points','Cover_Type']"
   ]
  },
  {
   "cell_type": "code",
   "execution_count": 7,
   "metadata": {
    "collapsed": true
   },
   "outputs": [],
   "source": [
    "soiltypes=[]\n",
    "for i in range(1,41):\n",
    "    soiltypes.append('Soil_Type_'+str(i))\n",
    "\n",
    "soiltypes.append('Cover_Type')"
   ]
  },
  {
   "cell_type": "code",
   "execution_count": 8,
   "metadata": {
    "collapsed": true
   },
   "outputs": [],
   "source": [
    "for i in range(len(soiltypes)):\n",
    "    headers.append(soiltypes[i])"
   ]
  },
  {
   "cell_type": "code",
   "execution_count": 9,
   "metadata": {
    "collapsed": true
   },
   "outputs": [],
   "source": [
    "data.columns=headers"
   ]
  },
  {
   "cell_type": "code",
   "execution_count": 10,
   "metadata": {},
   "outputs": [
    {
     "name": "stdout",
     "output_type": "stream",
     "text": [
      "<class 'pandas.core.frame.DataFrame'>\n",
      "RangeIndex: 581012 entries, 0 to 581011\n",
      "Data columns (total 55 columns):\n",
      "Elevation                             581012 non-null int64\n",
      "Aspect                                581012 non-null int64\n",
      "Slope                                 581012 non-null int64\n",
      "Horizontal_Distance_To_Hydrology      581012 non-null int64\n",
      "Vertical_Distance_To_Hydrology        581012 non-null int64\n",
      "Horizontal_Distance_To_Roadways       581012 non-null int64\n",
      "Hillshade_9am                         581012 non-null int64\n",
      "Hillshade_Noon                        581012 non-null int64\n",
      "Hillshade_3pm                         581012 non-null int64\n",
      "Horizontal_Distance_To_Fire_Points    581012 non-null int64\n",
      "Wilderness_Area_1                     581012 non-null int64\n",
      "Wilderness_Area_2                     581012 non-null int64\n",
      "Wilderness_Area_3                     581012 non-null int64\n",
      "Wilderness_Area_4                     581012 non-null int64\n",
      "Soil_Type_1                           581012 non-null int64\n",
      "Soil_Type_2                           581012 non-null int64\n",
      "Soil_Type_3                           581012 non-null int64\n",
      "Soil_Type_4                           581012 non-null int64\n",
      "Soil_Type_5                           581012 non-null int64\n",
      "Soil_Type_6                           581012 non-null int64\n",
      "Soil_Type_7                           581012 non-null int64\n",
      "Soil_Type_8                           581012 non-null int64\n",
      "Soil_Type_9                           581012 non-null int64\n",
      "Soil_Type_10                          581012 non-null int64\n",
      "Soil_Type_11                          581012 non-null int64\n",
      "Soil_Type_12                          581012 non-null int64\n",
      "Soil_Type_13                          581012 non-null int64\n",
      "Soil_Type_14                          581012 non-null int64\n",
      "Soil_Type_15                          581012 non-null int64\n",
      "Soil_Type_16                          581012 non-null int64\n",
      "Soil_Type_17                          581012 non-null int64\n",
      "Soil_Type_18                          581012 non-null int64\n",
      "Soil_Type_19                          581012 non-null int64\n",
      "Soil_Type_20                          581012 non-null int64\n",
      "Soil_Type_21                          581012 non-null int64\n",
      "Soil_Type_22                          581012 non-null int64\n",
      "Soil_Type_23                          581012 non-null int64\n",
      "Soil_Type_24                          581012 non-null int64\n",
      "Soil_Type_25                          581012 non-null int64\n",
      "Soil_Type_26                          581012 non-null int64\n",
      "Soil_Type_27                          581012 non-null int64\n",
      "Soil_Type_28                          581012 non-null int64\n",
      "Soil_Type_29                          581012 non-null int64\n",
      "Soil_Type_30                          581012 non-null int64\n",
      "Soil_Type_31                          581012 non-null int64\n",
      "Soil_Type_32                          581012 non-null int64\n",
      "Soil_Type_33                          581012 non-null int64\n",
      "Soil_Type_34                          581012 non-null int64\n",
      "Soil_Type_35                          581012 non-null int64\n",
      "Soil_Type_36                          581012 non-null int64\n",
      "Soil_Type_37                          581012 non-null int64\n",
      "Soil_Type_38                          581012 non-null int64\n",
      "Soil_Type_39                          581012 non-null int64\n",
      "Soil_Type_40                          581012 non-null int64\n",
      "Cover_Type                            581012 non-null int64\n",
      "dtypes: int64(55)\n",
      "memory usage: 243.8 MB\n"
     ]
    }
   ],
   "source": [
    "data.info()"
   ]
  },
  {
   "cell_type": "code",
   "execution_count": 11,
   "metadata": {},
   "outputs": [
    {
     "data": {
      "text/html": [
       "<div>\n",
       "<style>\n",
       "    .dataframe thead tr:only-child th {\n",
       "        text-align: right;\n",
       "    }\n",
       "\n",
       "    .dataframe thead th {\n",
       "        text-align: left;\n",
       "    }\n",
       "\n",
       "    .dataframe tbody tr th {\n",
       "        vertical-align: top;\n",
       "    }\n",
       "</style>\n",
       "<table border=\"1\" class=\"dataframe\">\n",
       "  <thead>\n",
       "    <tr style=\"text-align: right;\">\n",
       "      <th></th>\n",
       "      <th>Elevation</th>\n",
       "      <th>Aspect</th>\n",
       "      <th>Slope</th>\n",
       "      <th>Horizontal_Distance_To_Hydrology</th>\n",
       "      <th>Vertical_Distance_To_Hydrology</th>\n",
       "      <th>Horizontal_Distance_To_Roadways</th>\n",
       "      <th>Hillshade_9am</th>\n",
       "      <th>Hillshade_Noon</th>\n",
       "      <th>Hillshade_3pm</th>\n",
       "      <th>Horizontal_Distance_To_Fire_Points</th>\n",
       "      <th>...</th>\n",
       "      <th>Soil_Type_32</th>\n",
       "      <th>Soil_Type_33</th>\n",
       "      <th>Soil_Type_34</th>\n",
       "      <th>Soil_Type_35</th>\n",
       "      <th>Soil_Type_36</th>\n",
       "      <th>Soil_Type_37</th>\n",
       "      <th>Soil_Type_38</th>\n",
       "      <th>Soil_Type_39</th>\n",
       "      <th>Soil_Type_40</th>\n",
       "      <th>Cover_Type</th>\n",
       "    </tr>\n",
       "  </thead>\n",
       "  <tbody>\n",
       "    <tr>\n",
       "      <th>0</th>\n",
       "      <td>2596</td>\n",
       "      <td>51</td>\n",
       "      <td>3</td>\n",
       "      <td>258</td>\n",
       "      <td>0</td>\n",
       "      <td>510</td>\n",
       "      <td>221</td>\n",
       "      <td>232</td>\n",
       "      <td>148</td>\n",
       "      <td>6279</td>\n",
       "      <td>...</td>\n",
       "      <td>0</td>\n",
       "      <td>0</td>\n",
       "      <td>0</td>\n",
       "      <td>0</td>\n",
       "      <td>0</td>\n",
       "      <td>0</td>\n",
       "      <td>0</td>\n",
       "      <td>0</td>\n",
       "      <td>0</td>\n",
       "      <td>5</td>\n",
       "    </tr>\n",
       "    <tr>\n",
       "      <th>1</th>\n",
       "      <td>2590</td>\n",
       "      <td>56</td>\n",
       "      <td>2</td>\n",
       "      <td>212</td>\n",
       "      <td>-6</td>\n",
       "      <td>390</td>\n",
       "      <td>220</td>\n",
       "      <td>235</td>\n",
       "      <td>151</td>\n",
       "      <td>6225</td>\n",
       "      <td>...</td>\n",
       "      <td>0</td>\n",
       "      <td>0</td>\n",
       "      <td>0</td>\n",
       "      <td>0</td>\n",
       "      <td>0</td>\n",
       "      <td>0</td>\n",
       "      <td>0</td>\n",
       "      <td>0</td>\n",
       "      <td>0</td>\n",
       "      <td>5</td>\n",
       "    </tr>\n",
       "    <tr>\n",
       "      <th>2</th>\n",
       "      <td>2804</td>\n",
       "      <td>139</td>\n",
       "      <td>9</td>\n",
       "      <td>268</td>\n",
       "      <td>65</td>\n",
       "      <td>3180</td>\n",
       "      <td>234</td>\n",
       "      <td>238</td>\n",
       "      <td>135</td>\n",
       "      <td>6121</td>\n",
       "      <td>...</td>\n",
       "      <td>0</td>\n",
       "      <td>0</td>\n",
       "      <td>0</td>\n",
       "      <td>0</td>\n",
       "      <td>0</td>\n",
       "      <td>0</td>\n",
       "      <td>0</td>\n",
       "      <td>0</td>\n",
       "      <td>0</td>\n",
       "      <td>2</td>\n",
       "    </tr>\n",
       "    <tr>\n",
       "      <th>3</th>\n",
       "      <td>2785</td>\n",
       "      <td>155</td>\n",
       "      <td>18</td>\n",
       "      <td>242</td>\n",
       "      <td>118</td>\n",
       "      <td>3090</td>\n",
       "      <td>238</td>\n",
       "      <td>238</td>\n",
       "      <td>122</td>\n",
       "      <td>6211</td>\n",
       "      <td>...</td>\n",
       "      <td>0</td>\n",
       "      <td>0</td>\n",
       "      <td>0</td>\n",
       "      <td>0</td>\n",
       "      <td>0</td>\n",
       "      <td>0</td>\n",
       "      <td>0</td>\n",
       "      <td>0</td>\n",
       "      <td>0</td>\n",
       "      <td>2</td>\n",
       "    </tr>\n",
       "    <tr>\n",
       "      <th>4</th>\n",
       "      <td>2595</td>\n",
       "      <td>45</td>\n",
       "      <td>2</td>\n",
       "      <td>153</td>\n",
       "      <td>-1</td>\n",
       "      <td>391</td>\n",
       "      <td>220</td>\n",
       "      <td>234</td>\n",
       "      <td>150</td>\n",
       "      <td>6172</td>\n",
       "      <td>...</td>\n",
       "      <td>0</td>\n",
       "      <td>0</td>\n",
       "      <td>0</td>\n",
       "      <td>0</td>\n",
       "      <td>0</td>\n",
       "      <td>0</td>\n",
       "      <td>0</td>\n",
       "      <td>0</td>\n",
       "      <td>0</td>\n",
       "      <td>5</td>\n",
       "    </tr>\n",
       "  </tbody>\n",
       "</table>\n",
       "<p>5 rows × 55 columns</p>\n",
       "</div>"
      ],
      "text/plain": [
       "   Elevation  Aspect  Slope  Horizontal_Distance_To_Hydrology  \\\n",
       "0       2596      51      3                               258   \n",
       "1       2590      56      2                               212   \n",
       "2       2804     139      9                               268   \n",
       "3       2785     155     18                               242   \n",
       "4       2595      45      2                               153   \n",
       "\n",
       "   Vertical_Distance_To_Hydrology  Horizontal_Distance_To_Roadways  \\\n",
       "0                               0                              510   \n",
       "1                              -6                              390   \n",
       "2                              65                             3180   \n",
       "3                             118                             3090   \n",
       "4                              -1                              391   \n",
       "\n",
       "   Hillshade_9am  Hillshade_Noon  Hillshade_3pm  \\\n",
       "0            221             232            148   \n",
       "1            220             235            151   \n",
       "2            234             238            135   \n",
       "3            238             238            122   \n",
       "4            220             234            150   \n",
       "\n",
       "   Horizontal_Distance_To_Fire_Points     ...      Soil_Type_32  Soil_Type_33  \\\n",
       "0                                6279     ...                 0             0   \n",
       "1                                6225     ...                 0             0   \n",
       "2                                6121     ...                 0             0   \n",
       "3                                6211     ...                 0             0   \n",
       "4                                6172     ...                 0             0   \n",
       "\n",
       "   Soil_Type_34  Soil_Type_35  Soil_Type_36  Soil_Type_37  Soil_Type_38  \\\n",
       "0             0             0             0             0             0   \n",
       "1             0             0             0             0             0   \n",
       "2             0             0             0             0             0   \n",
       "3             0             0             0             0             0   \n",
       "4             0             0             0             0             0   \n",
       "\n",
       "   Soil_Type_39  Soil_Type_40  Cover_Type  \n",
       "0             0             0           5  \n",
       "1             0             0           5  \n",
       "2             0             0           2  \n",
       "3             0             0           2  \n",
       "4             0             0           5  \n",
       "\n",
       "[5 rows x 55 columns]"
      ]
     },
     "execution_count": 11,
     "metadata": {},
     "output_type": "execute_result"
    }
   ],
   "source": [
    "data.head()"
   ]
  },
  {
   "cell_type": "code",
   "execution_count": 12,
   "metadata": {},
   "outputs": [
    {
     "data": {
      "text/plain": [
       "2    283301\n",
       "1    211840\n",
       "3     35754\n",
       "7     20510\n",
       "6     17367\n",
       "5      9493\n",
       "4      2747\n",
       "Name: Cover_Type, dtype: int64"
      ]
     },
     "execution_count": 12,
     "metadata": {},
     "output_type": "execute_result"
    }
   ],
   "source": [
    "data['Cover_Type'].value_counts()"
   ]
  },
  {
   "cell_type": "code",
   "execution_count": 13,
   "metadata": {
    "collapsed": true
   },
   "outputs": [],
   "source": [
    "from sklearn.model_selection import train_test_split"
   ]
  },
  {
   "cell_type": "code",
   "execution_count": 14,
   "metadata": {
    "collapsed": true
   },
   "outputs": [],
   "source": [
    "train,test=train_test_split(data,test_size=0.3,random_state=0,stratify=data.Cover_Type)"
   ]
  },
  {
   "cell_type": "code",
   "execution_count": 15,
   "metadata": {},
   "outputs": [
    {
     "data": {
      "text/plain": [
       "(406708, 55)"
      ]
     },
     "execution_count": 15,
     "metadata": {},
     "output_type": "execute_result"
    }
   ],
   "source": [
    "train.shape"
   ]
  },
  {
   "cell_type": "code",
   "execution_count": 16,
   "metadata": {},
   "outputs": [
    {
     "data": {
      "text/plain": [
       "(174304, 55)"
      ]
     },
     "execution_count": 16,
     "metadata": {},
     "output_type": "execute_result"
    }
   ],
   "source": [
    "test.shape"
   ]
  },
  {
   "cell_type": "code",
   "execution_count": 17,
   "metadata": {},
   "outputs": [
    {
     "name": "stderr",
     "output_type": "stream",
     "text": [
      "/usr/local/anaconda3/5.0.1/lib/python3.6/site-packages/matplotlib/font_manager.py:1316: UserWarning: findfont: Font family ['normal'] not found. Falling back to DejaVu Sans\n",
      "  (prop.get_family(), self.defaultFamily[fontext]))\n"
     ]
    },
    {
     "data": {
      "text/plain": [
       "<matplotlib.axes._subplots.AxesSubplot at 0x7ff40fbf6e10>"
      ]
     },
     "execution_count": 17,
     "metadata": {},
     "output_type": "execute_result"
    },
    {
     "data": {
      "image/png": "[encoded data removed]",
      "text/plain": [
       "<matplotlib.figure.Figure at 0x7ff40fbf6cf8>"
      ]
     },
     "metadata": {},
     "output_type": "display_data"
    }
   ],
   "source": [
    "import matplotlib.style as style\n",
    "style.use('fivethirtyeight')\n",
    "colormap = plt.cm.viridis\n",
    "plt.figure(figsize=(14,12))\n",
    "plt.title('Pearson Correlation of Features', y=1.0, size=15)\n",
    "sns.heatmap(train.astype(float).corr(),linewidths=0.05,vmax=1.0, square=True, cmap=colormap, linecolor='black', annot=False)"
   ]
  },
  {
   "cell_type": "code",
   "execution_count": 18,
   "metadata": {},
   "outputs": [
    {
     "name": "stdout",
     "output_type": "stream",
     "text": [
      "Feature:- Soil_Type_1 has 2 unique categories\n",
      "Feature:- Soil_Type_2 has 2 unique categories\n",
      "Feature:- Soil_Type_3 has 2 unique categories\n",
      "Feature:- Soil_Type_4 has 2 unique categories\n",
      "Feature:- Soil_Type_5 has 2 unique categories\n",
      "Feature:- Soil_Type_6 has 2 unique categories\n",
      "Feature:- Soil_Type_7 has 2 unique categories\n",
      "Feature:- Soil_Type_8 has 2 unique categories\n",
      "Feature:- Soil_Type_9 has 2 unique categories\n",
      "Feature:- Soil_Type_10 has 2 unique categories\n",
      "Feature:- Soil_Type_11 has 2 unique categories\n",
      "Feature:- Soil_Type_12 has 2 unique categories\n",
      "Feature:- Soil_Type_13 has 2 unique categories\n",
      "Feature:- Soil_Type_14 has 2 unique categories\n",
      "Feature:- Soil_Type_15 has 2 unique categories\n",
      "Feature:- Soil_Type_16 has 2 unique categories\n",
      "Feature:- Soil_Type_17 has 2 unique categories\n",
      "Feature:- Soil_Type_18 has 2 unique categories\n",
      "Feature:- Soil_Type_19 has 2 unique categories\n",
      "Feature:- Soil_Type_20 has 2 unique categories\n",
      "Feature:- Soil_Type_21 has 2 unique categories\n",
      "Feature:- Soil_Type_22 has 2 unique categories\n",
      "Feature:- Soil_Type_23 has 2 unique categories\n",
      "Feature:- Soil_Type_24 has 2 unique categories\n",
      "Feature:- Soil_Type_25 has 2 unique categories\n",
      "Feature:- Soil_Type_26 has 2 unique categories\n",
      "Feature:- Soil_Type_27 has 2 unique categories\n",
      "Feature:- Soil_Type_28 has 2 unique categories\n",
      "Feature:- Soil_Type_29 has 2 unique categories\n",
      "Feature:- Soil_Type_30 has 2 unique categories\n",
      "Feature:- Soil_Type_31 has 2 unique categories\n",
      "Feature:- Soil_Type_32 has 2 unique categories\n",
      "Feature:- Soil_Type_33 has 2 unique categories\n",
      "Feature:- Soil_Type_34 has 2 unique categories\n",
      "Feature:- Soil_Type_35 has 2 unique categories\n",
      "Feature:- Soil_Type_36 has 2 unique categories\n",
      "Feature:- Soil_Type_37 has 2 unique categories\n",
      "Feature:- Soil_Type_38 has 2 unique categories\n",
      "Feature:- Soil_Type_39 has 2 unique categories\n",
      "Feature:- Soil_Type_40 has 2 unique categories\n",
      "Feature:- Cover_Type has 7 unique categories\n"
     ]
    }
   ],
   "source": [
    "for col_name in soiltypes:\n",
    "    if train[col_name].dtype=='int64':\n",
    "        unique_cat=len(train[col_name].unique())\n",
    "        print(\"Feature:- {col_name} has {unique_cat} unique categories\".format(col_name=col_name,unique_cat=unique_cat))"
   ]
  },
  {
   "cell_type": "code",
   "execution_count": 19,
   "metadata": {
    "collapsed": true
   },
   "outputs": [],
   "source": [
    "#Remove Constant columns\n",
    "train_cons = []\n",
    "test_cons=[]\n",
    "for col in train.columns:\n",
    "    if train[col].std() == 0:\n",
    "        train_cons.append(col)\n",
    "        test_cons.append(col)\n",
    "\n",
    "train=train.drop(train_cons,axis=1)\n",
    "test=test.drop(test_cons,axis=1)"
   ]
  },
  {
   "cell_type": "code",
   "execution_count": 20,
   "metadata": {
    "collapsed": true
   },
   "outputs": [],
   "source": [
    "def feature_engineering(data2,train_cons):\n",
    "    \n",
    "    \n",
    "    data = data2\n",
    "    \n",
    "    data['Ele_minus_VDtHyd'] = data.Elevation-data.Vertical_Distance_To_Hydrology\n",
    "         \n",
    "    data['Ele_plus_VDtHyd'] = data.Elevation+data.Vertical_Distance_To_Hydrology\n",
    "     \n",
    "    data['Distanse_to_Hydrology'] = (data['Horizontal_Distance_To_Hydrology']**2+data['Vertical_Distance_To_Hydrology']**2)**0.5\n",
    "     \n",
    "    data['Hydro_plus_Fire'] = data['Horizontal_Distance_To_Hydrology']+data['Horizontal_Distance_To_Fire_Points']\n",
    "     \n",
    "    data['Hydro_minus_Fire'] = data['Horizontal_Distance_To_Hydrology']-data['Horizontal_Distance_To_Fire_Points']\n",
    "     \n",
    "    data['Hydro_plus_Road'] = data['Horizontal_Distance_To_Hydrology']+data['Horizontal_Distance_To_Roadways']\n",
    "     \n",
    "    data['Hydro_minus_Road'] = data['Horizontal_Distance_To_Hydrology']-data['Horizontal_Distance_To_Roadways']\n",
    "     \n",
    "    data['Fire_plus_Road'] = data['Horizontal_Distance_To_Fire_Points']+data['Horizontal_Distance_To_Roadways']\n",
    "     \n",
    "    data['Fire_minus_Road'] = data['Horizontal_Distance_To_Fire_Points']-data['Horizontal_Distance_To_Roadways']\n",
    "    \n",
    "    #data['Soil']=0\n",
    "    #for i in range(1,41):\n",
    "    #    if ('Soil_Type_'+str(i)) not in train_cons:\n",
    "    #        data['Soil']=data['Soil']+i*data['Soil_Type_'+str(i)]\n",
    "      \n",
    "     \n",
    "    #data['Wilderness_Area']=0\n",
    "    #for i in range(1,5):\n",
    "    #    data['Wilderness_Area']=data['Wilderness_Area']+i*data['Wilderness_Area_'+str(i)]\n",
    "      \n",
    "    return data"
   ]
  },
  {
   "cell_type": "code",
   "execution_count": 21,
   "metadata": {
    "collapsed": true
   },
   "outputs": [],
   "source": [
    "train_df = feature_engineering(train,train_cons)\n",
    "test_df = feature_engineering(test,train_cons)"
   ]
  },
  {
   "cell_type": "code",
   "execution_count": 22,
   "metadata": {
    "collapsed": true
   },
   "outputs": [],
   "source": [
    "def get_features():\n",
    "    return ['Elevation','Aspect','Slope','Horizontal_Distance_To_Hydrology','Vertical_Distance_To_Hydrology',\n",
    "    'Horizontal_Distance_To_Roadways','Hillshade_9am','Hillshade_Noon','Hillshade_3pm','Horizontal_Distance_To_Fire_Points',\n",
    "    'Ele_minus_VDtHyd','Ele_plus_VDtHyd','Distanse_to_Hydrology','Hydro_plus_Fire','Hydro_minus_Fire','Hydro_plus_Road',\n",
    "    'Hydro_minus_Road','Fire_plus_Road','Fire_minus_Road']"
   ]
  },
  {
   "cell_type": "code",
   "execution_count": 23,
   "metadata": {
    "collapsed": true
   },
   "outputs": [],
   "source": [
    "features_imp=get_features()\n",
    "for i in range(1,41):\n",
    "    features_imp.append('Soil_Type_'+str(i))\n",
    "for j in range(1,5):\n",
    "    features_imp.append('Wilderness_Area_'+str(j))"
   ]
  },
  {
   "cell_type": "code",
   "execution_count": 24,
   "metadata": {
    "collapsed": true
   },
   "outputs": [],
   "source": [
    "X_train=train_df[features_imp]\n",
    "X_test=test_df[features_imp]"
   ]
  },
  {
   "cell_type": "code",
   "execution_count": 25,
   "metadata": {
    "collapsed": true
   },
   "outputs": [],
   "source": [
    "Y_train=train_df[['Cover_Type']]\n",
    "Y_test=test_df[['Cover_Type']]"
   ]
  },
  {
   "cell_type": "code",
   "execution_count": 26,
   "metadata": {},
   "outputs": [
    {
     "data": {
      "text/html": [
       "<div>\n",
       "<style>\n",
       "    .dataframe thead tr:only-child th {\n",
       "        text-align: right;\n",
       "    }\n",
       "\n",
       "    .dataframe thead th {\n",
       "        text-align: left;\n",
       "    }\n",
       "\n",
       "    .dataframe tbody tr th {\n",
       "        vertical-align: top;\n",
       "    }\n",
       "</style>\n",
       "<table border=\"1\" class=\"dataframe\">\n",
       "  <thead>\n",
       "    <tr style=\"text-align: right;\">\n",
       "      <th></th>\n",
       "      <th>Elevation</th>\n",
       "      <th>Aspect</th>\n",
       "      <th>Slope</th>\n",
       "      <th>Horizontal_Distance_To_Hydrology</th>\n",
       "      <th>Vertical_Distance_To_Hydrology</th>\n",
       "      <th>Horizontal_Distance_To_Roadways</th>\n",
       "      <th>Hillshade_9am</th>\n",
       "      <th>Hillshade_Noon</th>\n",
       "      <th>Hillshade_3pm</th>\n",
       "      <th>Horizontal_Distance_To_Fire_Points</th>\n",
       "      <th>...</th>\n",
       "      <th>Soil_Type_35</th>\n",
       "      <th>Soil_Type_36</th>\n",
       "      <th>Soil_Type_37</th>\n",
       "      <th>Soil_Type_38</th>\n",
       "      <th>Soil_Type_39</th>\n",
       "      <th>Soil_Type_40</th>\n",
       "      <th>Wilderness_Area_1</th>\n",
       "      <th>Wilderness_Area_2</th>\n",
       "      <th>Wilderness_Area_3</th>\n",
       "      <th>Wilderness_Area_4</th>\n",
       "    </tr>\n",
       "  </thead>\n",
       "  <tbody>\n",
       "    <tr>\n",
       "      <th>15190</th>\n",
       "      <td>2736</td>\n",
       "      <td>4</td>\n",
       "      <td>15</td>\n",
       "      <td>60</td>\n",
       "      <td>17</td>\n",
       "      <td>3064</td>\n",
       "      <td>200</td>\n",
       "      <td>211</td>\n",
       "      <td>147</td>\n",
       "      <td>6249</td>\n",
       "      <td>...</td>\n",
       "      <td>0</td>\n",
       "      <td>0</td>\n",
       "      <td>0</td>\n",
       "      <td>0</td>\n",
       "      <td>0</td>\n",
       "      <td>0</td>\n",
       "      <td>1</td>\n",
       "      <td>0</td>\n",
       "      <td>0</td>\n",
       "      <td>0</td>\n",
       "    </tr>\n",
       "    <tr>\n",
       "      <th>560331</th>\n",
       "      <td>2600</td>\n",
       "      <td>195</td>\n",
       "      <td>33</td>\n",
       "      <td>256</td>\n",
       "      <td>115</td>\n",
       "      <td>1074</td>\n",
       "      <td>195</td>\n",
       "      <td>245</td>\n",
       "      <td>161</td>\n",
       "      <td>1050</td>\n",
       "      <td>...</td>\n",
       "      <td>0</td>\n",
       "      <td>0</td>\n",
       "      <td>0</td>\n",
       "      <td>0</td>\n",
       "      <td>0</td>\n",
       "      <td>0</td>\n",
       "      <td>0</td>\n",
       "      <td>0</td>\n",
       "      <td>1</td>\n",
       "      <td>0</td>\n",
       "    </tr>\n",
       "    <tr>\n",
       "      <th>323159</th>\n",
       "      <td>2922</td>\n",
       "      <td>123</td>\n",
       "      <td>13</td>\n",
       "      <td>192</td>\n",
       "      <td>48</td>\n",
       "      <td>1530</td>\n",
       "      <td>241</td>\n",
       "      <td>230</td>\n",
       "      <td>115</td>\n",
       "      <td>2078</td>\n",
       "      <td>...</td>\n",
       "      <td>0</td>\n",
       "      <td>0</td>\n",
       "      <td>0</td>\n",
       "      <td>0</td>\n",
       "      <td>0</td>\n",
       "      <td>0</td>\n",
       "      <td>0</td>\n",
       "      <td>0</td>\n",
       "      <td>1</td>\n",
       "      <td>0</td>\n",
       "    </tr>\n",
       "    <tr>\n",
       "      <th>349637</th>\n",
       "      <td>3111</td>\n",
       "      <td>291</td>\n",
       "      <td>8</td>\n",
       "      <td>446</td>\n",
       "      <td>45</td>\n",
       "      <td>2355</td>\n",
       "      <td>197</td>\n",
       "      <td>239</td>\n",
       "      <td>181</td>\n",
       "      <td>2491</td>\n",
       "      <td>...</td>\n",
       "      <td>0</td>\n",
       "      <td>0</td>\n",
       "      <td>0</td>\n",
       "      <td>0</td>\n",
       "      <td>0</td>\n",
       "      <td>0</td>\n",
       "      <td>0</td>\n",
       "      <td>0</td>\n",
       "      <td>1</td>\n",
       "      <td>0</td>\n",
       "    </tr>\n",
       "    <tr>\n",
       "      <th>137117</th>\n",
       "      <td>2760</td>\n",
       "      <td>18</td>\n",
       "      <td>5</td>\n",
       "      <td>330</td>\n",
       "      <td>9</td>\n",
       "      <td>1806</td>\n",
       "      <td>216</td>\n",
       "      <td>229</td>\n",
       "      <td>150</td>\n",
       "      <td>698</td>\n",
       "      <td>...</td>\n",
       "      <td>0</td>\n",
       "      <td>0</td>\n",
       "      <td>0</td>\n",
       "      <td>0</td>\n",
       "      <td>0</td>\n",
       "      <td>0</td>\n",
       "      <td>1</td>\n",
       "      <td>0</td>\n",
       "      <td>0</td>\n",
       "      <td>0</td>\n",
       "    </tr>\n",
       "  </tbody>\n",
       "</table>\n",
       "<p>5 rows × 63 columns</p>\n",
       "</div>"
      ],
      "text/plain": [
       "        Elevation  Aspect  Slope  Horizontal_Distance_To_Hydrology  \\\n",
       "15190        2736       4     15                                60   \n",
       "560331       2600     195     33                               256   \n",
       "323159       2922     123     13                               192   \n",
       "349637       3111     291      8                               446   \n",
       "137117       2760      18      5                               330   \n",
       "\n",
       "        Vertical_Distance_To_Hydrology  Horizontal_Distance_To_Roadways  \\\n",
       "15190                               17                             3064   \n",
       "560331                             115                             1074   \n",
       "323159                              48                             1530   \n",
       "349637                              45                             2355   \n",
       "137117                               9                             1806   \n",
       "\n",
       "        Hillshade_9am  Hillshade_Noon  Hillshade_3pm  \\\n",
       "15190             200             211            147   \n",
       "560331            195             245            161   \n",
       "323159            241             230            115   \n",
       "349637            197             239            181   \n",
       "137117            216             229            150   \n",
       "\n",
       "        Horizontal_Distance_To_Fire_Points        ...          Soil_Type_35  \\\n",
       "15190                                 6249        ...                     0   \n",
       "560331                                1050        ...                     0   \n",
       "323159                                2078        ...                     0   \n",
       "349637                                2491        ...                     0   \n",
       "137117                                 698        ...                     0   \n",
       "\n",
       "        Soil_Type_36  Soil_Type_37  Soil_Type_38  Soil_Type_39  Soil_Type_40  \\\n",
       "15190              0             0             0             0             0   \n",
       "560331             0             0             0             0             0   \n",
       "323159             0             0             0             0             0   \n",
       "349637             0             0             0             0             0   \n",
       "137117             0             0             0             0             0   \n",
       "\n",
       "        Wilderness_Area_1  Wilderness_Area_2  Wilderness_Area_3  \\\n",
       "15190                   1                  0                  0   \n",
       "560331                  0                  0                  1   \n",
       "323159                  0                  0                  1   \n",
       "349637                  0                  0                  1   \n",
       "137117                  1                  0                  0   \n",
       "\n",
       "        Wilderness_Area_4  \n",
       "15190                   0  \n",
       "560331                  0  \n",
       "323159                  0  \n",
       "349637                  0  \n",
       "137117                  0  \n",
       "\n",
       "[5 rows x 63 columns]"
      ]
     },
     "execution_count": 26,
     "metadata": {},
     "output_type": "execute_result"
    }
   ],
   "source": [
    "X_train.head()"
   ]
  },
  {
   "cell_type": "code",
   "execution_count": 27,
   "metadata": {
    "collapsed": true
   },
   "outputs": [],
   "source": [
    "Y_train=Y_train-1\n",
    "Y_test=Y_test-1"
   ]
  },
  {
   "cell_type": "code",
   "execution_count": 28,
   "metadata": {
    "collapsed": true
   },
   "outputs": [],
   "source": [
    "from sklearn.preprocessing import StandardScaler"
   ]
  },
  {
   "cell_type": "code",
   "execution_count": 29,
   "metadata": {
    "collapsed": true
   },
   "outputs": [],
   "source": [
    "features_num=get_features()"
   ]
  },
  {
   "cell_type": "code",
   "execution_count": 30,
   "metadata": {
    "collapsed": true
   },
   "outputs": [],
   "source": [
    "X_train_num_Scld=StandardScaler().fit_transform(X_train[features_num])"
   ]
  },
  {
   "cell_type": "code",
   "execution_count": 31,
   "metadata": {},
   "outputs": [
    {
     "data": {
      "text/plain": [
       "19"
      ]
     },
     "execution_count": 31,
     "metadata": {},
     "output_type": "execute_result"
    }
   ],
   "source": [
    "len(features_num)"
   ]
  },
  {
   "cell_type": "code",
   "execution_count": 32,
   "metadata": {},
   "outputs": [
    {
     "name": "stderr",
     "output_type": "stream",
     "text": [
      "/usr/local/anaconda3/5.0.1/lib/python3.6/site-packages/pandas/core/indexing.py:517: SettingWithCopyWarning: \n",
      "A value is trying to be set on a copy of a slice from a DataFrame.\n",
      "Try using .loc[row_indexer,col_indexer] = value instead\n",
      "\n",
      "See the caveats in the documentation: http://pandas.pydata.org/pandas-docs/stable/indexing.html#indexing-view-versus-copy\n",
      "  self.obj[item] = s\n"
     ]
    }
   ],
   "source": [
    "X_train.loc[:,:len(features_num)]=X_train_num_Scld"
   ]
  },
  {
   "cell_type": "code",
   "execution_count": 33,
   "metadata": {},
   "outputs": [
    {
     "name": "stdout",
     "output_type": "stream",
     "text": [
      "<class 'pandas.core.frame.DataFrame'>\n",
      "Int64Index: 406708 entries, 15190 to 269194\n",
      "Data columns (total 63 columns):\n",
      "Elevation                             406708 non-null float64\n",
      "Aspect                                406708 non-null float64\n",
      "Slope                                 406708 non-null float64\n",
      "Horizontal_Distance_To_Hydrology      406708 non-null float64\n",
      "Vertical_Distance_To_Hydrology        406708 non-null float64\n",
      "Horizontal_Distance_To_Roadways       406708 non-null float64\n",
      "Hillshade_9am                         406708 non-null float64\n",
      "Hillshade_Noon                        406708 non-null float64\n",
      "Hillshade_3pm                         406708 non-null float64\n",
      "Horizontal_Distance_To_Fire_Points    406708 non-null float64\n",
      "Ele_minus_VDtHyd                      406708 non-null float64\n",
      "Ele_plus_VDtHyd                       406708 non-null float64\n",
      "Distanse_to_Hydrology                 406708 non-null float64\n",
      "Hydro_plus_Fire                       406708 non-null float64\n",
      "Hydro_minus_Fire                      406708 non-null float64\n",
      "Hydro_plus_Road                       406708 non-null float64\n",
      "Hydro_minus_Road                      406708 non-null float64\n",
      "Fire_plus_Road                        406708 non-null float64\n",
      "Fire_minus_Road                       406708 non-null float64\n",
      "Soil_Type_1                           406708 non-null int64\n",
      "Soil_Type_2                           406708 non-null int64\n",
      "Soil_Type_3                           406708 non-null int64\n",
      "Soil_Type_4                           406708 non-null int64\n",
      "Soil_Type_5                           406708 non-null int64\n",
      "Soil_Type_6                           406708 non-null int64\n",
      "Soil_Type_7                           406708 non-null int64\n",
      "Soil_Type_8                           406708 non-null int64\n",
      "Soil_Type_9                           406708 non-null int64\n",
      "Soil_Type_10                          406708 non-null int64\n",
      "Soil_Type_11                          406708 non-null int64\n",
      "Soil_Type_12                          406708 non-null int64\n",
      "Soil_Type_13                          406708 non-null int64\n",
      "Soil_Type_14                          406708 non-null int64\n",
      "Soil_Type_15                          406708 non-null int64\n",
      "Soil_Type_16                          406708 non-null int64\n",
      "Soil_Type_17                          406708 non-null int64\n",
      "Soil_Type_18                          406708 non-null int64\n",
      "Soil_Type_19                          406708 non-null int64\n",
      "Soil_Type_20                          406708 non-null int64\n",
      "Soil_Type_21                          406708 non-null int64\n",
      "Soil_Type_22                          406708 non-null int64\n",
      "Soil_Type_23                          406708 non-null int64\n",
      "Soil_Type_24                          406708 non-null int64\n",
      "Soil_Type_25                          406708 non-null int64\n",
      "Soil_Type_26                          406708 non-null int64\n",
      "Soil_Type_27                          406708 non-null int64\n",
      "Soil_Type_28                          406708 non-null int64\n",
      "Soil_Type_29                          406708 non-null int64\n",
      "Soil_Type_30                          406708 non-null int64\n",
      "Soil_Type_31                          406708 non-null int64\n",
      "Soil_Type_32                          406708 non-null int64\n",
      "Soil_Type_33                          406708 non-null int64\n",
      "Soil_Type_34                          406708 non-null int64\n",
      "Soil_Type_35                          406708 non-null int64\n",
      "Soil_Type_36                          406708 non-null int64\n",
      "Soil_Type_37                          406708 non-null int64\n",
      "Soil_Type_38                          406708 non-null int64\n",
      "Soil_Type_39                          406708 non-null int64\n",
      "Soil_Type_40                          406708 non-null int64\n",
      "Wilderness_Area_1                     406708 non-null int64\n",
      "Wilderness_Area_2                     406708 non-null int64\n",
      "Wilderness_Area_3                     406708 non-null int64\n",
      "Wilderness_Area_4                     406708 non-null int64\n",
      "dtypes: float64(19), int64(44)\n",
      "memory usage: 198.6 MB\n"
     ]
    }
   ],
   "source": [
    "X_train.info()"
   ]
  },
  {
   "cell_type": "code",
   "execution_count": null,
   "metadata": {
    "collapsed": true
   },
   "outputs": [],
   "source": []
  },
  {
   "cell_type": "code",
   "execution_count": 34,
   "metadata": {
    "collapsed": true
   },
   "outputs": [],
   "source": [
    "X_test_num_Scld=StandardScaler().fit_transform(X_test[features_num])"
   ]
  },
  {
   "cell_type": "code",
   "execution_count": 35,
   "metadata": {},
   "outputs": [
    {
     "data": {
      "text/plain": [
       "19"
      ]
     },
     "execution_count": 35,
     "metadata": {},
     "output_type": "execute_result"
    }
   ],
   "source": [
    "len(features_num)"
   ]
  },
  {
   "cell_type": "code",
   "execution_count": 36,
   "metadata": {},
   "outputs": [
    {
     "name": "stderr",
     "output_type": "stream",
     "text": [
      "/usr/local/anaconda3/5.0.1/lib/python3.6/site-packages/pandas/core/indexing.py:517: SettingWithCopyWarning: \n",
      "A value is trying to be set on a copy of a slice from a DataFrame.\n",
      "Try using .loc[row_indexer,col_indexer] = value instead\n",
      "\n",
      "See the caveats in the documentation: http://pandas.pydata.org/pandas-docs/stable/indexing.html#indexing-view-versus-copy\n",
      "  self.obj[item] = s\n"
     ]
    }
   ],
   "source": [
    "X_test.loc[:,:len(features_num)]=X_test_num_Scld"
   ]
  },
  {
   "cell_type": "code",
   "execution_count": 37,
   "metadata": {},
   "outputs": [
    {
     "name": "stdout",
     "output_type": "stream",
     "text": [
      "<class 'pandas.core.frame.DataFrame'>\n",
      "Int64Index: 174304 entries, 3990 to 469778\n",
      "Data columns (total 63 columns):\n",
      "Elevation                             174304 non-null float64\n",
      "Aspect                                174304 non-null float64\n",
      "Slope                                 174304 non-null float64\n",
      "Horizontal_Distance_To_Hydrology      174304 non-null float64\n",
      "Vertical_Distance_To_Hydrology        174304 non-null float64\n",
      "Horizontal_Distance_To_Roadways       174304 non-null float64\n",
      "Hillshade_9am                         174304 non-null float64\n",
      "Hillshade_Noon                        174304 non-null float64\n",
      "Hillshade_3pm                         174304 non-null float64\n",
      "Horizontal_Distance_To_Fire_Points    174304 non-null float64\n",
      "Ele_minus_VDtHyd                      174304 non-null float64\n",
      "Ele_plus_VDtHyd                       174304 non-null float64\n",
      "Distanse_to_Hydrology                 174304 non-null float64\n",
      "Hydro_plus_Fire                       174304 non-null float64\n",
      "Hydro_minus_Fire                      174304 non-null float64\n",
      "Hydro_plus_Road                       174304 non-null float64\n",
      "Hydro_minus_Road                      174304 non-null float64\n",
      "Fire_plus_Road                        174304 non-null float64\n",
      "Fire_minus_Road                       174304 non-null float64\n",
      "Soil_Type_1                           174304 non-null int64\n",
      "Soil_Type_2                           174304 non-null int64\n",
      "Soil_Type_3                           174304 non-null int64\n",
      "Soil_Type_4                           174304 non-null int64\n",
      "Soil_Type_5                           174304 non-null int64\n",
      "Soil_Type_6                           174304 non-null int64\n",
      "Soil_Type_7                           174304 non-null int64\n",
      "Soil_Type_8                           174304 non-null int64\n",
      "Soil_Type_9                           174304 non-null int64\n",
      "Soil_Type_10                          174304 non-null int64\n",
      "Soil_Type_11                          174304 non-null int64\n",
      "Soil_Type_12                          174304 non-null int64\n",
      "Soil_Type_13                          174304 non-null int64\n",
      "Soil_Type_14                          174304 non-null int64\n",
      "Soil_Type_15                          174304 non-null int64\n",
      "Soil_Type_16                          174304 non-null int64\n",
      "Soil_Type_17                          174304 non-null int64\n",
      "Soil_Type_18                          174304 non-null int64\n",
      "Soil_Type_19                          174304 non-null int64\n",
      "Soil_Type_20                          174304 non-null int64\n",
      "Soil_Type_21                          174304 non-null int64\n",
      "Soil_Type_22                          174304 non-null int64\n",
      "Soil_Type_23                          174304 non-null int64\n",
      "Soil_Type_24                          174304 non-null int64\n",
      "Soil_Type_25                          174304 non-null int64\n",
      "Soil_Type_26                          174304 non-null int64\n",
      "Soil_Type_27                          174304 non-null int64\n",
      "Soil_Type_28                          174304 non-null int64\n",
      "Soil_Type_29                          174304 non-null int64\n",
      "Soil_Type_30                          174304 non-null int64\n",
      "Soil_Type_31                          174304 non-null int64\n",
      "Soil_Type_32                          174304 non-null int64\n",
      "Soil_Type_33                          174304 non-null int64\n",
      "Soil_Type_34                          174304 non-null int64\n",
      "Soil_Type_35                          174304 non-null int64\n",
      "Soil_Type_36                          174304 non-null int64\n",
      "Soil_Type_37                          174304 non-null int64\n",
      "Soil_Type_38                          174304 non-null int64\n",
      "Soil_Type_39                          174304 non-null int64\n",
      "Soil_Type_40                          174304 non-null int64\n",
      "Wilderness_Area_1                     174304 non-null int64\n",
      "Wilderness_Area_2                     174304 non-null int64\n",
      "Wilderness_Area_3                     174304 non-null int64\n",
      "Wilderness_Area_4                     174304 non-null int64\n",
      "dtypes: float64(19), int64(44)\n",
      "memory usage: 85.1 MB\n"
     ]
    }
   ],
   "source": [
    "X_test.info()"
   ]
  },
  {
   "cell_type": "code",
   "execution_count": 38,
   "metadata": {},
   "outputs": [
    {
     "data": {
      "text/plain": [
       "Text(0.5,0,'Target Class')"
      ]
     },
     "execution_count": 38,
     "metadata": {},
     "output_type": "execute_result"
    },
    {
     "name": "stderr",
     "output_type": "stream",
     "text": [
      "/usr/local/anaconda3/5.0.1/lib/python3.6/site-packages/matplotlib/font_manager.py:1316: UserWarning: findfont: Font family ['normal'] not found. Falling back to DejaVu Sans\n",
      "  (prop.get_family(), self.defaultFamily[fontext]))\n"
     ]
    },
    {
     "data": {
      "image/png": "[encoded data removed]",
      "text/plain": [
       "<matplotlib.figure.Figure at 0x7ff4057dada0>"
      ]
     },
     "metadata": {},
     "output_type": "display_data"
    }
   ],
   "source": [
    "ax=sns.countplot(x='Cover_Type', data=train_df);\n",
    "total=float(len(data))\n",
    "plt.title('Frequency of the target class in the train Data Set')\n",
    "plt.ylabel('Frequency of the Target')\n",
    "plt.xlabel('Target Class')"
   ]
  },
  {
   "cell_type": "code",
   "execution_count": 39,
   "metadata": {},
   "outputs": [
    {
     "data": {
      "text/plain": [
       "Text(0.5,0,'Target Class')"
      ]
     },
     "execution_count": 39,
     "metadata": {},
     "output_type": "execute_result"
    },
    {
     "name": "stderr",
     "output_type": "stream",
     "text": [
      "/usr/local/anaconda3/5.0.1/lib/python3.6/site-packages/matplotlib/font_manager.py:1316: UserWarning: findfont: Font family ['normal'] not found. Falling back to DejaVu Sans\n",
      "  (prop.get_family(), self.defaultFamily[fontext]))\n"
     ]
    },
    {
     "data": {
      "image/png": "[encoded data removed]",
      "text/plain": [
       "<matplotlib.figure.Figure at 0x7ff405756630>"
      ]
     },
     "metadata": {},
     "output_type": "display_data"
    }
   ],
   "source": [
    "ax=sns.countplot(x='Cover_Type', data=test_df);\n",
    "total=float(len(data))\n",
    "plt.title('Frequency of the target class in the test Data Set')\n",
    "plt.ylabel('Frequency of the Target')\n",
    "plt.xlabel('Target Class')"
   ]
  },
  {
   "cell_type": "markdown",
   "metadata": {},
   "source": [
    "# Without Noise"
   ]
  },
  {
   "cell_type": "code",
   "execution_count": 40,
   "metadata": {},
   "outputs": [
    {
     "name": "stderr",
     "output_type": "stream",
     "text": [
      "Using TensorFlow backend.\n",
      "/usr/local/anaconda3/5.0.1/lib/python3.6/importlib/_bootstrap.py:219: RuntimeWarning: compiletime version 3.5 of module 'tensorflow.python.framework.fast_tensor_util' does not match runtime version 3.6\n",
      "  return f(*args, **kwds)\n"
     ]
    }
   ],
   "source": [
    "import numpy as np\n",
    "import keras\n",
    "from keras.models import Sequential\n",
    "from keras.layers import Dense, Dropout, Activation\n",
    "\n",
    "import tensorflow as tf\n",
    "from keras.layers import Dense, Dropout, Flatten,BatchNormalization\n",
    "from keras.optimizers import SGD,Adam\n",
    "import keras.backend as K\n",
    "import keras.callbacks\n",
    "from keras import regularizers"
   ]
  },
  {
   "cell_type": "code",
   "execution_count": 41,
   "metadata": {},
   "outputs": [
    {
     "data": {
      "text/plain": [
       "(406708, 1)"
      ]
     },
     "execution_count": 41,
     "metadata": {},
     "output_type": "execute_result"
    }
   ],
   "source": [
    "Y_train.shape"
   ]
  },
  {
   "cell_type": "code",
   "execution_count": 42,
   "metadata": {
    "collapsed": true
   },
   "outputs": [],
   "source": [
    "X_train_r,X_valid,Y_train_r,Y_valid=train_test_split(X_train,Y_train,test_size=0.1,random_state=0,stratify=Y_train.Cover_Type)"
   ]
  },
  {
   "cell_type": "code",
   "execution_count": 43,
   "metadata": {
    "collapsed": true
   },
   "outputs": [],
   "source": [
    "nb_classes=7\n",
    "l1_num_neuron=500\n",
    "l2_num_neuron=300\n",
    "l3_num_neuron=200\n",
    "l4_num_neuron=100\n",
    "#l5_num_neuron=100\n",
    "output_neuron=nb_classes"
   ]
  },
  {
   "cell_type": "code",
   "execution_count": 44,
   "metadata": {
    "collapsed": true
   },
   "outputs": [],
   "source": [
    "layer_1 = Dense(l1_num_neuron, activation='relu',kernel_regularizer=regularizers.l2(0.01), input_dim=X_train.shape[1])\n",
    "layer_2 = Dense(l2_num_neuron, activation='relu',kernel_regularizer=regularizers.l2(0.01))\n",
    "layer_3 = Dense(l3_num_neuron, activation='relu',kernel_regularizer=regularizers.l2(0.01))\n",
    "layer_4 = Dense(l4_num_neuron, activation='relu',kernel_regularizer=regularizers.l2(0.01))\n",
    "layer_out = Dense(output_neuron, activation='softmax',kernel_regularizer=regularizers.l2(0.01))"
   ]
  },
  {
   "cell_type": "code",
   "execution_count": 45,
   "metadata": {
    "collapsed": true
   },
   "outputs": [],
   "source": [
    "mlp=Sequential()\n",
    "mlp.add(layer_1)\n",
    "mlp.add(Dropout(0.1))\n",
    "mlp.add(BatchNormalization(axis=-1, momentum=0.99, epsilon=0.01))\n",
    "mlp.add(layer_2)\n",
    "mlp.add(Dropout(0.3))\n",
    "mlp.add(BatchNormalization(axis=-1, momentum=0.99, epsilon=0.01))\n",
    "mlp.add(layer_3)\n",
    "mlp.add(Dropout(0.2))\n",
    "mlp.add(BatchNormalization(axis=-1, momentum=0.99, epsilon=0.01))\n",
    "mlp.add(layer_4)\n",
    "mlp.add(Dropout(0.2))\n",
    "mlp.add(BatchNormalization(axis=-1, momentum=0.99, epsilon=0.01))\n",
    "#mlp.add(layer_5)\n",
    "mlp.add(layer_out)"
   ]
  },
  {
   "cell_type": "code",
   "execution_count": 46,
   "metadata": {
    "collapsed": true
   },
   "outputs": [],
   "source": [
    "#optim=Adam(lr=0.01, beta_1=0.9, beta_2=0.999, epsilon=None, decay=0.0005)\n",
    "sgd = SGD(lr=0.01, momentum=0.8, decay=0.1/200, nesterov=True)\n",
    "mlp.compile(optimizer=sgd,loss='sparse_categorical_crossentropy',metrics=['accuracy'])"
   ]
  },
  {
   "cell_type": "code",
   "execution_count": 47,
   "metadata": {},
   "outputs": [
    {
     "name": "stdout",
     "output_type": "stream",
     "text": [
      "_________________________________________________________________\n",
      "Layer (type)                 Output Shape              Param #   \n",
      "=================================================================\n",
      "dense_1 (Dense)              (None, 500)               32000     \n",
      "_________________________________________________________________\n",
      "dropout_1 (Dropout)          (None, 500)               0         \n",
      "_________________________________________________________________\n",
      "batch_normalization_1 (Batch (None, 500)               2000      \n",
      "_________________________________________________________________\n",
      "dense_2 (Dense)              (None, 300)               150300    \n",
      "_________________________________________________________________\n",
      "dropout_2 (Dropout)          (None, 300)               0         \n",
      "_________________________________________________________________\n",
      "batch_normalization_2 (Batch (None, 300)               1200      \n",
      "_________________________________________________________________\n",
      "dense_3 (Dense)              (None, 200)               60200     \n",
      "_________________________________________________________________\n",
      "dropout_3 (Dropout)          (None, 200)               0         \n",
      "_________________________________________________________________\n",
      "batch_normalization_3 (Batch (None, 200)               800       \n",
      "_________________________________________________________________\n",
      "dense_4 (Dense)              (None, 100)               20100     \n",
      "_________________________________________________________________\n",
      "dropout_4 (Dropout)          (None, 100)               0         \n",
      "_________________________________________________________________\n",
      "batch_normalization_4 (Batch (None, 100)               400       \n",
      "_________________________________________________________________\n",
      "dense_5 (Dense)              (None, 7)                 707       \n",
      "=================================================================\n",
      "Total params: 267,707\n",
      "Trainable params: 265,507\n",
      "Non-trainable params: 2,200\n",
      "_________________________________________________________________\n"
     ]
    }
   ],
   "source": [
    "mlp.summary()"
   ]
  },
  {
   "cell_type": "code",
   "execution_count": 48,
   "metadata": {},
   "outputs": [
    {
     "data": {
      "text/plain": [
       "(366037, 1)"
      ]
     },
     "execution_count": 48,
     "metadata": {},
     "output_type": "execute_result"
    }
   ],
   "source": [
    "Y_train_r.shape"
   ]
  },
  {
   "cell_type": "code",
   "execution_count": 49,
   "metadata": {},
   "outputs": [
    {
     "name": "stdout",
     "output_type": "stream",
     "text": [
      "Train on 366037 samples, validate on 40671 samples\n",
      "Epoch 1/200\n",
      "366037/366037 [==============================] - 15s 40us/step - loss: 4.3459 - acc: 0.7229 - val_loss: 1.8937 - val_acc: 0.7608\n",
      "Epoch 2/200\n",
      "366037/366037 [==============================] - 14s 39us/step - loss: 1.2878 - acc: 0.7731 - val_loss: 0.8736 - val_acc: 0.8075\n",
      "Epoch 3/200\n",
      "366037/366037 [==============================] - 14s 39us/step - loss: 0.7688 - acc: 0.8006 - val_loss: 0.6386 - val_acc: 0.8193\n",
      "Epoch 4/200\n",
      "366037/366037 [==============================] - 14s 39us/step - loss: 0.6160 - acc: 0.8209 - val_loss: 0.5417 - val_acc: 0.8418\n",
      "Epoch 5/200\n",
      "366037/366037 [==============================] - 14s 39us/step - loss: 0.5538 - acc: 0.8322 - val_loss: 0.5049 - val_acc: 0.8491\n",
      "Epoch 6/200\n",
      "366037/366037 [==============================] - 14s 39us/step - loss: 0.5204 - acc: 0.8414 - val_loss: 0.4712 - val_acc: 0.8598\n",
      "Epoch 7/200\n",
      "366037/366037 [==============================] - 14s 39us/step - loss: 0.4989 - acc: 0.8490 - val_loss: 0.4488 - val_acc: 0.8688\n",
      "Epoch 8/200\n",
      "366037/366037 [==============================] - 14s 39us/step - loss: 0.4832 - acc: 0.8540 - val_loss: 0.4386 - val_acc: 0.8742\n",
      "Epoch 9/200\n",
      "366037/366037 [==============================] - 14s 39us/step - loss: 0.4719 - acc: 0.8583 - val_loss: 0.4251 - val_acc: 0.8777\n",
      "Epoch 10/200\n",
      "366037/366037 [==============================] - 14s 39us/step - loss: 0.4634 - acc: 0.8622 - val_loss: 0.4316 - val_acc: 0.8749\n",
      "Epoch 11/200\n",
      "366037/366037 [==============================] - 14s 39us/step - loss: 0.4564 - acc: 0.8650 - val_loss: 0.4103 - val_acc: 0.8823\n",
      "Epoch 12/200\n",
      "366037/366037 [==============================] - 14s 39us/step - loss: 0.4494 - acc: 0.8678 - val_loss: 0.3958 - val_acc: 0.8903\n",
      "Epoch 13/200\n",
      "366037/366037 [==============================] - 14s 39us/step - loss: 0.4426 - acc: 0.8706 - val_loss: 0.3888 - val_acc: 0.8942\n",
      "Epoch 14/200\n",
      "366037/366037 [==============================] - 14s 39us/step - loss: 0.4372 - acc: 0.8729 - val_loss: 0.3853 - val_acc: 0.8955\n",
      "Epoch 15/200\n",
      "366037/366037 [==============================] - 14s 39us/step - loss: 0.4330 - acc: 0.8750 - val_loss: 0.3763 - val_acc: 0.8988\n",
      "Epoch 16/200\n",
      "366037/366037 [==============================] - 14s 39us/step - loss: 0.4288 - acc: 0.8767 - val_loss: 0.3736 - val_acc: 0.9005\n",
      "Epoch 17/200\n",
      "366037/366037 [==============================] - 14s 39us/step - loss: 0.4247 - acc: 0.8778 - val_loss: 0.3727 - val_acc: 0.9017\n",
      "Epoch 18/200\n",
      "366037/366037 [==============================] - 14s 39us/step - loss: 0.4206 - acc: 0.8798 - val_loss: 0.3660 - val_acc: 0.9031\n",
      "Epoch 19/200\n",
      "366037/366037 [==============================] - 14s 40us/step - loss: 0.4182 - acc: 0.8806 - val_loss: 0.3691 - val_acc: 0.9019\n",
      "Epoch 20/200\n",
      "366037/366037 [==============================] - 14s 39us/step - loss: 0.4148 - acc: 0.8822 - val_loss: 0.3603 - val_acc: 0.9072\n",
      "Epoch 21/200\n",
      "366037/366037 [==============================] - 14s 39us/step - loss: 0.4128 - acc: 0.8839 - val_loss: 0.3642 - val_acc: 0.9031\n",
      "Epoch 22/200\n",
      "366037/366037 [==============================] - 14s 39us/step - loss: 0.4094 - acc: 0.8850 - val_loss: 0.3583 - val_acc: 0.9045\n",
      "Epoch 23/200\n",
      "366037/366037 [==============================] - 14s 39us/step - loss: 0.4069 - acc: 0.8861 - val_loss: 0.3542 - val_acc: 0.9076\n",
      "Epoch 24/200\n",
      "366037/366037 [==============================] - 14s 40us/step - loss: 0.4055 - acc: 0.8864 - val_loss: 0.3521 - val_acc: 0.9091\n",
      "Epoch 25/200\n",
      "366037/366037 [==============================] - 15s 40us/step - loss: 0.4040 - acc: 0.8870 - val_loss: 0.3459 - val_acc: 0.9135\n",
      "Epoch 26/200\n",
      "366037/366037 [==============================] - 14s 39us/step - loss: 0.4003 - acc: 0.8884 - val_loss: 0.3517 - val_acc: 0.9107\n",
      "Epoch 27/200\n",
      "366037/366037 [==============================] - 14s 39us/step - loss: 0.3989 - acc: 0.8895 - val_loss: 0.3438 - val_acc: 0.9128\n",
      "Epoch 28/200\n",
      "366037/366037 [==============================] - 14s 39us/step - loss: 0.3969 - acc: 0.8896 - val_loss: 0.3505 - val_acc: 0.9097\n",
      "Epoch 29/200\n",
      "366037/366037 [==============================] - 14s 39us/step - loss: 0.3952 - acc: 0.8907 - val_loss: 0.3434 - val_acc: 0.9128\n",
      "Epoch 30/200\n",
      "366037/366037 [==============================] - 14s 38us/step - loss: 0.3928 - acc: 0.8915 - val_loss: 0.3415 - val_acc: 0.9136\n",
      "Epoch 31/200\n",
      "366037/366037 [==============================] - 14s 39us/step - loss: 0.3925 - acc: 0.8918 - val_loss: 0.3359 - val_acc: 0.9156\n",
      "Epoch 32/200\n",
      "366037/366037 [==============================] - 14s 39us/step - loss: 0.3899 - acc: 0.8920 - val_loss: 0.3391 - val_acc: 0.9133\n",
      "Epoch 33/200\n",
      "366037/366037 [==============================] - 14s 39us/step - loss: 0.3893 - acc: 0.8935 - val_loss: 0.3324 - val_acc: 0.9170\n",
      "Epoch 34/200\n",
      "366037/366037 [==============================] - 14s 39us/step - loss: 0.3866 - acc: 0.8943 - val_loss: 0.3320 - val_acc: 0.9175\n",
      "Epoch 35/200\n",
      "366037/366037 [==============================] - 14s 39us/step - loss: 0.3862 - acc: 0.8943 - val_loss: 0.3376 - val_acc: 0.9142\n",
      "Epoch 36/200\n",
      "366037/366037 [==============================] - 14s 38us/step - loss: 0.3848 - acc: 0.8952 - val_loss: 0.3321 - val_acc: 0.9180\n",
      "Epoch 37/200\n",
      "366037/366037 [==============================] - 14s 38us/step - loss: 0.3837 - acc: 0.8956 - val_loss: 0.3333 - val_acc: 0.9165\n",
      "Epoch 38/200\n",
      "366037/366037 [==============================] - 14s 39us/step - loss: 0.3819 - acc: 0.8963 - val_loss: 0.3291 - val_acc: 0.9184\n",
      "Epoch 39/200\n",
      "366037/366037 [==============================] - 14s 39us/step - loss: 0.3810 - acc: 0.8966 - val_loss: 0.3257 - val_acc: 0.9193\n",
      "Epoch 40/200\n",
      "366037/366037 [==============================] - 14s 39us/step - loss: 0.3803 - acc: 0.8967 - val_loss: 0.3252 - val_acc: 0.9206\n",
      "Epoch 41/200\n",
      "366037/366037 [==============================] - 14s 38us/step - loss: 0.3791 - acc: 0.8971 - val_loss: 0.3232 - val_acc: 0.9208\n",
      "Epoch 42/200\n",
      "366037/366037 [==============================] - 14s 39us/step - loss: 0.3782 - acc: 0.8971 - val_loss: 0.3233 - val_acc: 0.9198\n",
      "Epoch 43/200\n",
      "366037/366037 [==============================] - 14s 39us/step - loss: 0.3777 - acc: 0.8976 - val_loss: 0.3238 - val_acc: 0.9204\n",
      "Epoch 44/200\n",
      "366037/366037 [==============================] - 14s 39us/step - loss: 0.3751 - acc: 0.8989 - val_loss: 0.3214 - val_acc: 0.9224\n",
      "Epoch 45/200\n",
      "366037/366037 [==============================] - 14s 39us/step - loss: 0.3753 - acc: 0.8991 - val_loss: 0.3202 - val_acc: 0.9219\n",
      "Epoch 46/200\n",
      "366037/366037 [==============================] - 14s 39us/step - loss: 0.3738 - acc: 0.8994 - val_loss: 0.3206 - val_acc: 0.9214\n",
      "Epoch 47/200\n",
      "366037/366037 [==============================] - 14s 39us/step - loss: 0.3723 - acc: 0.8999 - val_loss: 0.3184 - val_acc: 0.9236\n",
      "Epoch 48/200\n",
      "366037/366037 [==============================] - 14s 39us/step - loss: 0.3723 - acc: 0.9004 - val_loss: 0.3187 - val_acc: 0.9231\n",
      "Epoch 49/200\n",
      "366037/366037 [==============================] - 14s 38us/step - loss: 0.3721 - acc: 0.9006 - val_loss: 0.3239 - val_acc: 0.9194\n",
      "Epoch 50/200\n",
      "366037/366037 [==============================] - 14s 38us/step - loss: 0.3716 - acc: 0.9008 - val_loss: 0.3177 - val_acc: 0.9224\n",
      "Epoch 51/200\n",
      "366037/366037 [==============================] - 14s 39us/step - loss: 0.3702 - acc: 0.9013 - val_loss: 0.3165 - val_acc: 0.9225\n",
      "Epoch 52/200\n",
      "366037/366037 [==============================] - 14s 39us/step - loss: 0.3697 - acc: 0.9008 - val_loss: 0.3151 - val_acc: 0.9242\n",
      "Epoch 53/200\n",
      "366037/366037 [==============================] - 14s 39us/step - loss: 0.3681 - acc: 0.9016 - val_loss: 0.3121 - val_acc: 0.9258\n",
      "Epoch 54/200\n",
      "366037/366037 [==============================] - 14s 39us/step - loss: 0.3673 - acc: 0.9019 - val_loss: 0.3152 - val_acc: 0.9243\n",
      "Epoch 55/200\n",
      "366037/366037 [==============================] - 14s 39us/step - loss: 0.3674 - acc: 0.9022 - val_loss: 0.3138 - val_acc: 0.9236\n",
      "Epoch 56/200\n",
      "366037/366037 [==============================] - 14s 38us/step - loss: 0.3661 - acc: 0.9027 - val_loss: 0.3122 - val_acc: 0.9251\n",
      "Epoch 57/200\n",
      "366037/366037 [==============================] - 14s 39us/step - loss: 0.3662 - acc: 0.9024 - val_loss: 0.3117 - val_acc: 0.9252\n",
      "Epoch 58/200\n"
     ]
    },
    {
     "name": "stdout",
     "output_type": "stream",
     "text": [
      "366037/366037 [==============================] - 14s 39us/step - loss: 0.3653 - acc: 0.9032 - val_loss: 0.3104 - val_acc: 0.9269\n",
      "Epoch 59/200\n",
      "366037/366037 [==============================] - 14s 39us/step - loss: 0.3643 - acc: 0.9029 - val_loss: 0.3122 - val_acc: 0.9240\n",
      "Epoch 60/200\n",
      "366037/366037 [==============================] - 14s 38us/step - loss: 0.3649 - acc: 0.9030 - val_loss: 0.3105 - val_acc: 0.9265\n",
      "Epoch 61/200\n",
      "366037/366037 [==============================] - 14s 39us/step - loss: 0.3644 - acc: 0.9032 - val_loss: 0.3122 - val_acc: 0.9246\n",
      "Epoch 62/200\n",
      "366037/366037 [==============================] - 14s 39us/step - loss: 0.3629 - acc: 0.9043 - val_loss: 0.3086 - val_acc: 0.9272\n",
      "Epoch 63/200\n",
      "366037/366037 [==============================] - 14s 39us/step - loss: 0.3612 - acc: 0.9045 - val_loss: 0.3095 - val_acc: 0.9275\n",
      "Epoch 64/200\n",
      "366037/366037 [==============================] - 14s 39us/step - loss: 0.3614 - acc: 0.9045 - val_loss: 0.3080 - val_acc: 0.9278\n",
      "Epoch 65/200\n",
      "366037/366037 [==============================] - 14s 39us/step - loss: 0.3605 - acc: 0.9048 - val_loss: 0.3114 - val_acc: 0.9249\n",
      "Epoch 66/200\n",
      "366037/366037 [==============================] - 14s 39us/step - loss: 0.3596 - acc: 0.9051 - val_loss: 0.3141 - val_acc: 0.9248\n",
      "Epoch 67/200\n",
      "366037/366037 [==============================] - 14s 39us/step - loss: 0.3605 - acc: 0.9048 - val_loss: 0.3061 - val_acc: 0.9274\n",
      "Epoch 68/200\n",
      "366037/366037 [==============================] - 14s 39us/step - loss: 0.3590 - acc: 0.9048 - val_loss: 0.3039 - val_acc: 0.9292\n",
      "Epoch 69/200\n",
      "366037/366037 [==============================] - 14s 39us/step - loss: 0.3586 - acc: 0.9055 - val_loss: 0.3053 - val_acc: 0.9283\n",
      "Epoch 70/200\n",
      "366037/366037 [==============================] - 14s 38us/step - loss: 0.3577 - acc: 0.9057 - val_loss: 0.3054 - val_acc: 0.9284\n",
      "Epoch 71/200\n",
      "366037/366037 [==============================] - 14s 39us/step - loss: 0.3581 - acc: 0.9060 - val_loss: 0.3065 - val_acc: 0.9284\n",
      "Epoch 72/200\n",
      "366037/366037 [==============================] - 14s 39us/step - loss: 0.3573 - acc: 0.9062 - val_loss: 0.3066 - val_acc: 0.9272\n",
      "Epoch 00072: early stopping\n"
     ]
    }
   ],
   "source": [
    "from keras.callbacks import EarlyStopping\n",
    "train_res = mlp.fit(X_train_r.values,\n",
    "                      Y_train_r.values.ravel(),\n",
    "                      batch_size=300,\n",
    "                      epochs=200,\n",
    "                      verbose=True,\n",
    "                      validation_data=(X_valid.values,\n",
    "                                       Y_valid.values.ravel()),\n",
    "                      callbacks=\n",
    "                      [EarlyStopping(patience=4,mode='min',\n",
    "                                     verbose=True)]\n",
    "                      )"
   ]
  },
  {
   "cell_type": "code",
   "execution_count": 50,
   "metadata": {},
   "outputs": [
    {
     "name": "stdout",
     "output_type": "stream",
     "text": [
      "174304/174304 [==============================] - 9s 50us/step\n"
     ]
    }
   ],
   "source": [
    "predictions=mlp.predict_classes(X_test.values,verbose=True)"
   ]
  },
  {
   "cell_type": "code",
   "execution_count": 51,
   "metadata": {},
   "outputs": [
    {
     "data": {
      "text/plain": [
       "0.92634133467964019"
      ]
     },
     "execution_count": 51,
     "metadata": {},
     "output_type": "execute_result"
    }
   ],
   "source": [
    "from sklearn.metrics import accuracy_score\n",
    "accuracy_score(Y_test.values.ravel(),predictions)"
   ]
  },
  {
   "cell_type": "code",
   "execution_count": 52,
   "metadata": {
    "collapsed": true
   },
   "outputs": [],
   "source": [
    "title_font = {'fontname':'Arial', 'size':'16', 'color':'black', 'weight':'normal',\n",
    "              'verticalalignment':'bottom'}\n",
    "axis_font = {'fontname':'Arial', 'size':'16'}"
   ]
  },
  {
   "cell_type": "code",
   "execution_count": 59,
   "metadata": {
    "collapsed": true
   },
   "outputs": [],
   "source": [
    "import matplotlib\n",
    "font = {'family' : 'normal',\n",
    "        'weight' : 'bold',\n",
    "        'size'   : 14}\n",
    "matplotlib.rc('font', **font)"
   ]
  },
  {
   "cell_type": "code",
   "execution_count": 62,
   "metadata": {
    "collapsed": true
   },
   "outputs": [],
   "source": [
    "import itertools\n",
    "\n",
    "def plot_confusion_matrix(cm, classes,\n",
    "                          normalize=False,\n",
    "                          title='Confusion matrix',\n",
    "                          cmap=plt.cm.Blues):\n",
    "    \"\"\"\n",
    "    This function prints and plots the confusion matrix.\n",
    "    Normalization can be applied by setting `normalize=True`.\n",
    "    \"\"\"\n",
    "    plt.imshow(cm, interpolation='nearest', cmap=cmap)\n",
    "    plt.title(title)\n",
    "    plt.colorbar()\n",
    "    tick_marks = np.arange(len(classes))\n",
    "    plt.xticks(tick_marks, classes, rotation=0)\n",
    "    plt.yticks(tick_marks, classes)\n",
    "\n",
    "    if normalize:\n",
    "        cm = cm.astype('float') / cm.sum(axis=1)[:, np.newaxis]\n",
    "        #print(\"Normalized confusion matrix\")\n",
    "    else:\n",
    "        1#print('Confusion matrix, without normalization')\n",
    "\n",
    "    #print(cm)\n",
    "\n",
    "    thresh = cm.max() / 2.\n",
    "    for i, j in itertools.product(range(cm.shape[0]), range(cm.shape[1])):\n",
    "        plt.text(j, i, cm[i, j],\n",
    "                 horizontalalignment=\"center\",\n",
    "                 color=\"white\" if cm[i, j] > thresh else \"black\",size=16)\n",
    "\n",
    "    #plt.tight_layout()\n",
    "    plt.ylabel('True label')\n",
    "    plt.xlabel('Predicted label')"
   ]
  },
  {
   "cell_type": "code",
   "execution_count": 55,
   "metadata": {
    "collapsed": true
   },
   "outputs": [],
   "source": [
    "from sklearn.metrics import confusion_matrix,precision_recall_curve,auc,roc_auc_score,roc_curve,recall_score,classification_report"
   ]
  },
  {
   "cell_type": "code",
   "execution_count": 63,
   "metadata": {},
   "outputs": [
    {
     "name": "stderr",
     "output_type": "stream",
     "text": [
      "/usr/local/anaconda3/5.0.1/lib/python3.6/site-packages/matplotlib/font_manager.py:1316: UserWarning: findfont: Font family ['normal'] not found. Falling back to DejaVu Sans\n",
      "  (prop.get_family(), self.defaultFamily[fontext]))\n"
     ]
    },
    {
     "data": {
      "image/png": "[encoded data removed]",
      "text/plain": [
       "<matplotlib.figure.Figure at 0x7ff3cd09d7f0>"
      ]
     },
     "metadata": {},
     "output_type": "display_data"
    }
   ],
   "source": [
    "cnf_matrix = confusion_matrix(Y_test,predictions)\n",
    "np.set_printoptions(precision=2)\n",
    "\n",
    "#print(\"Recall metric in the testing dataset: \", cnf_matrix[1,1]/(cnf_matrix[1,0]+cnf_matrix[1,1]))\n",
    "\n",
    "# Plot non-normalized confusion matrix\n",
    "class_names = ['C type-1','C type-2','C type-3','C type-4','C type-5','C type-6','C type-7']\n",
    "plt.figure(figsize=(15, 10))\n",
    "plt.style.use('ggplot')\n",
    "plot_confusion_matrix(cnf_matrix\n",
    "                      , classes=class_names\n",
    "                      , title='Confusion matrix')\n",
    "plt.grid('off')\n",
    "plt.show()"
   ]
  },
  {
   "cell_type": "code",
   "execution_count": 128,
   "metadata": {},
   "outputs": [
    {
     "name": "stdout",
     "output_type": "stream",
     "text": [
      "------------------------Classification Report-------------------------------\n",
      "             precision    recall  f1-score   support\n",
      "\n",
      "          0       0.94      0.92      0.93     63552\n",
      "          1       0.93      0.95      0.94     84991\n",
      "          2       0.88      0.94      0.91     10726\n",
      "          3       0.87      0.76      0.81       824\n",
      "          4       0.87      0.69      0.77      2848\n",
      "          5       0.86      0.78      0.82      5210\n",
      "          6       0.95      0.91      0.93      6153\n",
      "\n",
      "avg / total       0.93      0.93      0.93    174304\n",
      "\n"
     ]
    }
   ],
   "source": [
    "print('------------------------Classification Report-------------------------------')\n",
    "print(classification_report(Y_test,predictions))"
   ]
  },
  {
   "cell_type": "markdown",
   "metadata": {},
   "source": [
    "# Noise conisderation"
   ]
  },
  {
   "cell_type": "code",
   "execution_count": 64,
   "metadata": {
    "collapsed": true
   },
   "outputs": [],
   "source": [
    "import numpy as np\n",
    "import keras\n",
    "from keras.models import Sequential\n",
    "from keras.layers import Dense, Dropout, Activation\n",
    "\n",
    "import tensorflow as tf\n",
    "from keras.layers import Dense, Dropout, Flatten,BatchNormalization\n",
    "from keras.optimizers import SGD,Adam\n",
    "import keras.backend as K\n",
    "import keras.callbacks\n",
    "from keras import regularizers"
   ]
  },
  {
   "cell_type": "code",
   "execution_count": 65,
   "metadata": {
    "collapsed": true
   },
   "outputs": [],
   "source": [
    "plt.style.use('ggplot')"
   ]
  },
  {
   "cell_type": "code",
   "execution_count": 66,
   "metadata": {
    "collapsed": true
   },
   "outputs": [],
   "source": [
    "NOISE_LEVEL=0.3  # what part of training labels are permuted\n",
    "#perm = np.array([6, 0, 4, 2, 1, 3, 5])  # noise permutation (from Reed)"
   ]
  },
  {
   "cell_type": "code",
   "execution_count": 67,
   "metadata": {
    "collapsed": true
   },
   "outputs": [],
   "source": [
    "Y_train=train_df['Cover_Type']-1"
   ]
  },
  {
   "cell_type": "code",
   "execution_count": 68,
   "metadata": {
    "collapsed": true
   },
   "outputs": [],
   "source": [
    "Y_test=test_df['Cover_Type']-1"
   ]
  },
  {
   "cell_type": "code",
   "execution_count": 69,
   "metadata": {
    "collapsed": true
   },
   "outputs": [],
   "source": [
    "#noise = perm[Y_train]"
   ]
  },
  {
   "cell_type": "code",
   "execution_count": 70,
   "metadata": {
    "collapsed": true
   },
   "outputs": [],
   "source": [
    "seed=0\n",
    "nb_classes = 7"
   ]
  },
  {
   "cell_type": "code",
   "execution_count": 71,
   "metadata": {
    "collapsed": true
   },
   "outputs": [],
   "source": [
    "#X_train=X_train_red_rf_features"
   ]
  },
  {
   "cell_type": "code",
   "execution_count": 72,
   "metadata": {
    "collapsed": true
   },
   "outputs": [],
   "source": [
    "n_train_data,dim=X_train.shape\n",
    "n_test_data,dim_test=X_test.shape\n",
    "Y_train=Y_train.values.reshape(n_train_data,1)\n",
    "Y_test=Y_test.values.reshape(n_test_data,1)"
   ]
  },
  {
   "cell_type": "code",
   "execution_count": 73,
   "metadata": {
    "collapsed": true
   },
   "outputs": [],
   "source": [
    "nhiddens = [500,300,200,100]\n",
    "DROPOUT=0.3\n",
    "#opt='adam'\n",
    "batch_size = 300\n",
    "patience = 4  # Early stopping patience\n",
    "epochs = 400  # number of epochs to train on"
   ]
  },
  {
   "cell_type": "code",
   "execution_count": 74,
   "metadata": {
    "collapsed": true
   },
   "outputs": [],
   "source": [
    "def castLabel(y, t):\n",
    "    if -1 in y:\n",
    "        if t == -1:\n",
    "            y_new = y\n",
    "        elif t == 0:\n",
    "            y_new = np.divide((y + 1) ,2)\n",
    "        elif t == 2:\n",
    "            y_new = np.divide((y + 3),2)\n",
    "    elif 0 in y:\n",
    "        if (t == -1):\n",
    "            y_new = (y * 2) - 1\n",
    "        elif (t == 0):\n",
    "            y_new = y\n",
    "        elif (t == 2):\n",
    "            y_new = y + 1\n",
    "    elif 2 in y:\n",
    "        if (t == -1):\n",
    "            y_new = (y * 2) - 3\n",
    "        elif (t == 0):\n",
    "            y_new = y - 1\n",
    "        elif (t == 2):\n",
    "            y_new = y\n",
    "    return y_new"
   ]
  },
  {
   "cell_type": "code",
   "execution_count": 75,
   "metadata": {
    "collapsed": true
   },
   "outputs": [],
   "source": [
    "def injectLabelNoise(y,flipRate):\n",
    "    fd  =  -np.ones((y.shape))\n",
    "    yz  =  castLabel(y,-1)\n",
    "    y   =  castLabel(y,2)\n",
    "    # sampling some numbers\n",
    "    for i in range(0,2):\n",
    "        prob    = np.random.rand(y.shape[0],1)\n",
    "        idx     = np.where((y==i+1) & (prob <= flipRate[i]))\n",
    "        #print(idx)\n",
    "        yz[idx[0]] = -yz[idx[0]]\n",
    "        fd[idx[0]] = -fd[idx[0]]\n",
    "    yz = castLabel(yz,2)\n",
    "    return yz, fd"
   ]
  },
  {
   "cell_type": "code",
   "execution_count": 209,
   "metadata": {
    "collapsed": true
   },
   "outputs": [],
   "source": [
    "yz, fd=injectLabelNoise(Y_train, [0.4,0.33,0.2,0.3,0.2,0.05,0.05])\n",
    "yz=castLabel(yz,0)"
   ]
  },
  {
   "cell_type": "code",
   "execution_count": 210,
   "metadata": {
    "collapsed": true
   },
   "outputs": [],
   "source": [
    "NOISE= round(1. - np.mean(yz == Y_train),2)"
   ]
  },
  {
   "cell_type": "code",
   "execution_count": 211,
   "metadata": {},
   "outputs": [
    {
     "data": {
      "text/plain": [
       "0.31"
      ]
     },
     "execution_count": 211,
     "metadata": {},
     "output_type": "execute_result"
    }
   ],
   "source": [
    "NOISE"
   ]
  },
  {
   "cell_type": "code",
   "execution_count": 212,
   "metadata": {
    "collapsed": true
   },
   "outputs": [],
   "source": [
    "Y_train_noise=yz"
   ]
  },
  {
   "cell_type": "code",
   "execution_count": 213,
   "metadata": {
    "collapsed": true
   },
   "outputs": [],
   "source": [
    "Y_train_noise=Y_train_noise.flatten()"
   ]
  },
  {
   "cell_type": "code",
   "execution_count": 214,
   "metadata": {},
   "outputs": [
    {
     "data": {
      "text/plain": [
       "Text(0.5,0,'Target Class')"
      ]
     },
     "execution_count": 214,
     "metadata": {},
     "output_type": "execute_result"
    },
    {
     "name": "stderr",
     "output_type": "stream",
     "text": [
      "/usr/local/anaconda3/5.0.1/lib/python3.6/site-packages/matplotlib/font_manager.py:1316: UserWarning: findfont: Font family ['normal'] not found. Falling back to DejaVu Sans\n",
      "  (prop.get_family(), self.defaultFamily[fontext]))\n"
     ]
    },
    {
     "data": {
      "image/png": "[encoded data removed]",
      "text/plain": [
       "<matplotlib.figure.Figure at 0x7ff38e920160>"
      ]
     },
     "metadata": {},
     "output_type": "display_data"
    }
   ],
   "source": [
    "Y_train_df=pd.DataFrame(Y_train,columns=['Cover_Type'])\n",
    "ax=sns.countplot(x='Cover_Type', data=Y_train_df);\n",
    "total=float(len(data))\n",
    "plt.title('Frequency of the target class in the train Data Set')\n",
    "plt.ylabel('Frequency of the Target')\n",
    "plt.xlabel('Target Class')"
   ]
  },
  {
   "cell_type": "code",
   "execution_count": 215,
   "metadata": {},
   "outputs": [
    {
     "data": {
      "text/plain": [
       "Text(0.5,0,'Target Class')"
      ]
     },
     "execution_count": 215,
     "metadata": {},
     "output_type": "execute_result"
    },
    {
     "name": "stderr",
     "output_type": "stream",
     "text": [
      "/usr/local/anaconda3/5.0.1/lib/python3.6/site-packages/matplotlib/font_manager.py:1316: UserWarning: findfont: Font family ['normal'] not found. Falling back to DejaVu Sans\n",
      "  (prop.get_family(), self.defaultFamily[fontext]))\n"
     ]
    },
    {
     "data": {
      "image/png": "[encoded data removed]",
      "text/plain": [
       "<matplotlib.figure.Figure at 0x7ff38e920198>"
      ]
     },
     "metadata": {},
     "output_type": "display_data"
    }
   ],
   "source": [
    "Y_train_df_noise=pd.DataFrame(Y_train_noise,columns=['Cover_Type'])\n",
    "ax=sns.countplot(x='Cover_Type', data=Y_train_df_noise);\n",
    "total=float(len(data))\n",
    "plt.title('Frequency of the target class in the train Data Set after noise')\n",
    "plt.ylabel('Frequency of the Target')\n",
    "plt.xlabel('Target Class')"
   ]
  },
  {
   "cell_type": "code",
   "execution_count": 216,
   "metadata": {
    "collapsed": true
   },
   "outputs": [],
   "source": [
    "from sklearn.model_selection import StratifiedShuffleSplit\n",
    "#_, noise_idx = next(iter(StratifiedShuffleSplit(n_splits=1,\n",
    "#                                                test_size=NOISE_LEVEL,\n",
    "#                                                random_state=seed).split(X_train,Y_train.ravel())))\n",
    "#Y_train_noise = Y_train.copy()\n",
    "#noise=noise.reshape(n_train_data,1)\n",
    "#Y_train_noise[noise_idx] = noise[noise_idx]"
   ]
  },
  {
   "cell_type": "code",
   "execution_count": 217,
   "metadata": {
    "collapsed": true
   },
   "outputs": [],
   "source": [
    "#1. - np.mean(Y_train_noise == Y_train)"
   ]
  },
  {
   "cell_type": "code",
   "execution_count": 218,
   "metadata": {},
   "outputs": [],
   "source": [
    "# break the training set to 10% validation which we will use for early stopping.\n",
    "train_idx, val_idx = next(iter(\n",
    "        StratifiedShuffleSplit(n_splits=1, test_size=0.1,\n",
    "                               random_state=0).split(X_train, Y_train_noise))) #.values\n",
    "X_train=X_train\n",
    "X_train_train = X_train[train_idx]\n",
    "Y_train_train = Y_train_noise[train_idx]\n",
    "X_train_val = X_train[val_idx]\n",
    "Y_train_val = Y_train_noise[val_idx]"
   ]
  },
  {
   "cell_type": "code",
   "execution_count": null,
   "metadata": {
    "collapsed": true
   },
   "outputs": [],
   "source": []
  },
  {
   "cell_type": "code",
   "execution_count": 219,
   "metadata": {
    "collapsed": true
   },
   "outputs": [],
   "source": [
    "from keras import regularizers\n",
    "from keras.models import Sequential\n",
    "hidden_layers = Sequential(name='hidden')"
   ]
  },
  {
   "cell_type": "code",
   "execution_count": 220,
   "metadata": {
    "collapsed": true
   },
   "outputs": [],
   "source": [
    "from keras.layers import Dense, Dropout, Activation\n",
    "for i, nhidden in enumerate(nhiddens):\n",
    "    hidden_layers.add(Dense(nhidden,kernel_regularizer=regularizers.l2(0.01),\n",
    "                            input_shape=(X_train.shape[1],) if i == 0 else []))\n",
    "    hidden_layers.add(Activation('relu'))\n",
    "    hidden_layers.add(BatchNormalization(axis=-1, momentum=0.99, epsilon=0.01))\n",
    "    hidden_layers.add(Dropout(DROPOUT))"
   ]
  },
  {
   "cell_type": "code",
   "execution_count": 221,
   "metadata": {
    "collapsed": true
   },
   "outputs": [],
   "source": [
    "from keras.layers import Input\n",
    "train_inputs = Input(shape=(X_train.shape[1],))"
   ]
  },
  {
   "cell_type": "code",
   "execution_count": 222,
   "metadata": {
    "collapsed": true
   },
   "outputs": [],
   "source": [
    "last_hidden = hidden_layers(train_inputs)\n",
    "baseline_output = Dense(nb_classes, activation='softmax', name='baseline',kernel_regularizer=regularizers.l2(0.01))(last_hidden)"
   ]
  },
  {
   "cell_type": "code",
   "execution_count": 223,
   "metadata": {
    "collapsed": true
   },
   "outputs": [],
   "source": [
    "from keras.models import Model\n",
    "sgd = SGD(lr=0.01, momentum=0.8, decay=0.1/200, nesterov=True)\n",
    "model = Model(inputs=train_inputs, outputs=baseline_output)\n",
    "model.compile(loss='sparse_categorical_crossentropy',\n",
    "              optimizer=sgd,\n",
    "              metrics=['accuracy'])"
   ]
  },
  {
   "cell_type": "code",
   "execution_count": 224,
   "metadata": {},
   "outputs": [
    {
     "name": "stdout",
     "output_type": "stream",
     "text": [
      "_________________________________________________________________\n",
      "Layer (type)                 Output Shape              Param #   \n",
      "=================================================================\n",
      "input_3 (InputLayer)         (None, 63)                0         \n",
      "_________________________________________________________________\n",
      "hidden (Sequential)          (None, 100)               267000    \n",
      "_________________________________________________________________\n",
      "baseline (Dense)             (None, 7)                 707       \n",
      "=================================================================\n",
      "Total params: 267,707\n",
      "Trainable params: 265,507\n",
      "Non-trainable params: 2,200\n",
      "_________________________________________________________________\n"
     ]
    }
   ],
   "source": [
    "model.summary()"
   ]
  },
  {
   "cell_type": "code",
   "execution_count": 225,
   "metadata": {
    "collapsed": true
   },
   "outputs": [],
   "source": [
    "def eval(model,y_test=Y_test):\n",
    "    return dict(zip(model.metrics_names,model.evaluate(X_test.values,y_test, verbose=False)))"
   ]
  },
  {
   "cell_type": "code",
   "execution_count": 226,
   "metadata": {},
   "outputs": [
    {
     "data": {
      "text/plain": [
       "{'acc': 0.064031806498990276, 'loss': 10.654357711962872}"
      ]
     },
     "execution_count": 226,
     "metadata": {},
     "output_type": "execute_result"
    }
   ],
   "source": [
    "eval(model)"
   ]
  },
  {
   "cell_type": "code",
   "execution_count": 227,
   "metadata": {},
   "outputs": [
    {
     "name": "stdout",
     "output_type": "stream",
     "text": [
      "Train on 366037 samples, validate on 40671 samples\n",
      "Epoch 1/400\n",
      "366037/366037 [==============================] - 15s 41us/step - loss: 4.5639 - acc: 0.5390 - val_loss: 2.1192 - val_acc: 0.5588\n",
      "Epoch 2/400\n",
      "366037/366037 [==============================] - 14s 39us/step - loss: 1.5297 - acc: 0.5671 - val_loss: 1.1539 - val_acc: 0.5769\n",
      "Epoch 3/400\n",
      "366037/366037 [==============================] - 14s 38us/step - loss: 1.0337 - acc: 0.5750 - val_loss: 0.9226 - val_acc: 0.5886\n",
      "Epoch 4/400\n",
      "366037/366037 [==============================] - 14s 38us/step - loss: 0.8944 - acc: 0.5821 - val_loss: 0.8355 - val_acc: 0.5973\n",
      "Epoch 5/400\n",
      "366037/366037 [==============================] - 14s 38us/step - loss: 0.8416 - acc: 0.5868 - val_loss: 0.8038 - val_acc: 0.5991\n",
      "Epoch 6/400\n",
      "366037/366037 [==============================] - 14s 38us/step - loss: 0.8160 - acc: 0.5903 - val_loss: 0.7891 - val_acc: 0.6036\n",
      "Epoch 7/400\n",
      "366037/366037 [==============================] - 14s 39us/step - loss: 0.8011 - acc: 0.5940 - val_loss: 0.7726 - val_acc: 0.6060\n",
      "Epoch 8/400\n",
      "366037/366037 [==============================] - 14s 38us/step - loss: 0.7913 - acc: 0.5962 - val_loss: 0.7642 - val_acc: 0.6094\n",
      "Epoch 9/400\n",
      "366037/366037 [==============================] - 14s 38us/step - loss: 0.7846 - acc: 0.5983 - val_loss: 0.7570 - val_acc: 0.6116\n",
      "Epoch 10/400\n",
      "366037/366037 [==============================] - 14s 38us/step - loss: 0.7800 - acc: 0.5994 - val_loss: 0.7650 - val_acc: 0.6101\n",
      "Epoch 11/400\n",
      "366037/366037 [==============================] - 14s 38us/step - loss: 0.7760 - acc: 0.6018 - val_loss: 0.7509 - val_acc: 0.6142\n",
      "Epoch 12/400\n",
      "366037/366037 [==============================] - 14s 38us/step - loss: 0.7719 - acc: 0.6033 - val_loss: 0.7501 - val_acc: 0.6149\n",
      "Epoch 13/400\n",
      "366037/366037 [==============================] - 14s 38us/step - loss: 0.7692 - acc: 0.6051 - val_loss: 0.7456 - val_acc: 0.6158\n",
      "Epoch 14/400\n",
      "366037/366037 [==============================] - 14s 38us/step - loss: 0.7669 - acc: 0.6056 - val_loss: 0.7417 - val_acc: 0.6172\n",
      "Epoch 15/400\n",
      "366037/366037 [==============================] - 14s 38us/step - loss: 0.7641 - acc: 0.6065 - val_loss: 0.7423 - val_acc: 0.6158\n",
      "Epoch 16/400\n",
      "366037/366037 [==============================] - 14s 38us/step - loss: 0.7629 - acc: 0.6064 - val_loss: 0.7481 - val_acc: 0.6170\n",
      "Epoch 17/400\n",
      "366037/366037 [==============================] - 14s 38us/step - loss: 0.7614 - acc: 0.6072 - val_loss: 0.7408 - val_acc: 0.6183\n",
      "Epoch 18/400\n",
      "366037/366037 [==============================] - 14s 38us/step - loss: 0.7588 - acc: 0.6085 - val_loss: 0.7352 - val_acc: 0.6211\n",
      "Epoch 19/400\n",
      "366037/366037 [==============================] - 14s 38us/step - loss: 0.7578 - acc: 0.6092 - val_loss: 0.7357 - val_acc: 0.6210\n",
      "Epoch 20/400\n",
      "366037/366037 [==============================] - 14s 38us/step - loss: 0.7564 - acc: 0.6100 - val_loss: 0.7300 - val_acc: 0.6240\n",
      "Epoch 21/400\n",
      "366037/366037 [==============================] - 14s 38us/step - loss: 0.7551 - acc: 0.6114 - val_loss: 0.7293 - val_acc: 0.6250\n",
      "Epoch 22/400\n",
      "366037/366037 [==============================] - 14s 38us/step - loss: 0.7539 - acc: 0.6112 - val_loss: 0.7310 - val_acc: 0.6235\n",
      "Epoch 23/400\n",
      "366037/366037 [==============================] - 14s 38us/step - loss: 0.7532 - acc: 0.6119 - val_loss: 0.7270 - val_acc: 0.6231\n",
      "Epoch 24/400\n",
      "366037/366037 [==============================] - 14s 38us/step - loss: 0.7515 - acc: 0.6125 - val_loss: 0.7273 - val_acc: 0.6259\n",
      "Epoch 25/400\n",
      "366037/366037 [==============================] - 14s 38us/step - loss: 0.7511 - acc: 0.6131 - val_loss: 0.7248 - val_acc: 0.6254\n",
      "Epoch 26/400\n",
      "366037/366037 [==============================] - 14s 38us/step - loss: 0.7498 - acc: 0.6128 - val_loss: 0.7247 - val_acc: 0.6267\n",
      "Epoch 27/400\n",
      "366037/366037 [==============================] - 14s 38us/step - loss: 0.7485 - acc: 0.6142 - val_loss: 0.7234 - val_acc: 0.6274\n",
      "Epoch 28/400\n",
      "366037/366037 [==============================] - 14s 38us/step - loss: 0.7481 - acc: 0.6139 - val_loss: 0.7242 - val_acc: 0.6272\n",
      "Epoch 29/400\n",
      "366037/366037 [==============================] - 14s 38us/step - loss: 0.7476 - acc: 0.6148 - val_loss: 0.7220 - val_acc: 0.6264\n",
      "Epoch 30/400\n",
      "366037/366037 [==============================] - 14s 38us/step - loss: 0.7473 - acc: 0.6158 - val_loss: 0.7243 - val_acc: 0.6253\n",
      "Epoch 31/400\n",
      "366037/366037 [==============================] - 14s 38us/step - loss: 0.7459 - acc: 0.6152 - val_loss: 0.7221 - val_acc: 0.6277\n",
      "Epoch 32/400\n",
      "366037/366037 [==============================] - 14s 38us/step - loss: 0.7454 - acc: 0.6152 - val_loss: 0.7213 - val_acc: 0.6298\n",
      "Epoch 33/400\n",
      "366037/366037 [==============================] - 14s 38us/step - loss: 0.7447 - acc: 0.6156 - val_loss: 0.7199 - val_acc: 0.6289\n",
      "Epoch 34/400\n",
      "366037/366037 [==============================] - 14s 38us/step - loss: 0.7439 - acc: 0.6160 - val_loss: 0.7203 - val_acc: 0.6289\n",
      "Epoch 35/400\n",
      "366037/366037 [==============================] - 14s 38us/step - loss: 0.7438 - acc: 0.6165 - val_loss: 0.7207 - val_acc: 0.6290\n",
      "Epoch 36/400\n",
      "366037/366037 [==============================] - 14s 38us/step - loss: 0.7431 - acc: 0.6167 - val_loss: 0.7189 - val_acc: 0.6290\n",
      "Epoch 37/400\n",
      "366037/366037 [==============================] - 14s 38us/step - loss: 0.7424 - acc: 0.6174 - val_loss: 0.7213 - val_acc: 0.6279\n",
      "Epoch 38/400\n",
      "366037/366037 [==============================] - 14s 38us/step - loss: 0.7419 - acc: 0.6171 - val_loss: 0.7175 - val_acc: 0.6300\n",
      "Epoch 39/400\n",
      "366037/366037 [==============================] - 14s 38us/step - loss: 0.7414 - acc: 0.6173 - val_loss: 0.7172 - val_acc: 0.6308\n",
      "Epoch 40/400\n",
      "366037/366037 [==============================] - 14s 38us/step - loss: 0.7408 - acc: 0.6181 - val_loss: 0.7187 - val_acc: 0.6280\n",
      "Epoch 41/400\n",
      "366037/366037 [==============================] - 14s 38us/step - loss: 0.7407 - acc: 0.6180 - val_loss: 0.7161 - val_acc: 0.6304\n",
      "Epoch 42/400\n",
      "366037/366037 [==============================] - 14s 38us/step - loss: 0.7403 - acc: 0.6181 - val_loss: 0.7158 - val_acc: 0.6317\n",
      "Epoch 43/400\n",
      "366037/366037 [==============================] - 14s 38us/step - loss: 0.7397 - acc: 0.6187 - val_loss: 0.7152 - val_acc: 0.6318\n",
      "Epoch 44/400\n",
      "366037/366037 [==============================] - 14s 38us/step - loss: 0.7394 - acc: 0.6189 - val_loss: 0.7168 - val_acc: 0.6313\n",
      "Epoch 45/400\n",
      "366037/366037 [==============================] - 14s 39us/step - loss: 0.7384 - acc: 0.6203 - val_loss: 0.7145 - val_acc: 0.6316\n",
      "Epoch 46/400\n",
      "366037/366037 [==============================] - 14s 38us/step - loss: 0.7381 - acc: 0.6193 - val_loss: 0.7158 - val_acc: 0.6321\n",
      "Epoch 47/400\n",
      "366037/366037 [==============================] - 14s 38us/step - loss: 0.7378 - acc: 0.6193 - val_loss: 0.7149 - val_acc: 0.6338\n",
      "Epoch 48/400\n",
      "366037/366037 [==============================] - 14s 38us/step - loss: 0.7378 - acc: 0.6202 - val_loss: 0.7149 - val_acc: 0.6326\n",
      "Epoch 49/400\n",
      "366037/366037 [==============================] - 14s 38us/step - loss: 0.7370 - acc: 0.6198 - val_loss: 0.7137 - val_acc: 0.6326\n",
      "Epoch 50/400\n",
      "366037/366037 [==============================] - 14s 38us/step - loss: 0.7368 - acc: 0.6202 - val_loss: 0.7146 - val_acc: 0.6310\n",
      "Epoch 51/400\n",
      "366037/366037 [==============================] - 14s 38us/step - loss: 0.7370 - acc: 0.6200 - val_loss: 0.7129 - val_acc: 0.6332\n",
      "Epoch 52/400\n",
      "366037/366037 [==============================] - 14s 38us/step - loss: 0.7370 - acc: 0.6191 - val_loss: 0.7128 - val_acc: 0.6331\n",
      "Epoch 53/400\n",
      "366037/366037 [==============================] - 14s 38us/step - loss: 0.7358 - acc: 0.6197 - val_loss: 0.7126 - val_acc: 0.6334\n",
      "Epoch 54/400\n",
      "366037/366037 [==============================] - 14s 38us/step - loss: 0.7359 - acc: 0.6208 - val_loss: 0.7116 - val_acc: 0.6332\n",
      "Epoch 55/400\n",
      "366037/366037 [==============================] - 14s 38us/step - loss: 0.7357 - acc: 0.6207 - val_loss: 0.7151 - val_acc: 0.6318\n",
      "Epoch 56/400\n",
      "366037/366037 [==============================] - 14s 38us/step - loss: 0.7352 - acc: 0.6207 - val_loss: 0.7154 - val_acc: 0.6319\n",
      "Epoch 57/400\n",
      "366037/366037 [==============================] - 14s 39us/step - loss: 0.7346 - acc: 0.6211 - val_loss: 0.7122 - val_acc: 0.6331\n",
      "Epoch 58/400\n"
     ]
    },
    {
     "name": "stdout",
     "output_type": "stream",
     "text": [
      "366037/366037 [==============================] - 14s 38us/step - loss: 0.7344 - acc: 0.6215 - val_loss: 0.7115 - val_acc: 0.6339\n",
      "Epoch 59/400\n",
      "366037/366037 [==============================] - 14s 38us/step - loss: 0.7345 - acc: 0.6214 - val_loss: 0.7109 - val_acc: 0.6349\n",
      "Epoch 60/400\n",
      "366037/366037 [==============================] - 14s 38us/step - loss: 0.7340 - acc: 0.6216 - val_loss: 0.7106 - val_acc: 0.6337\n",
      "Epoch 61/400\n",
      "366037/366037 [==============================] - 14s 38us/step - loss: 0.7338 - acc: 0.6215 - val_loss: 0.7111 - val_acc: 0.6329\n",
      "Epoch 62/400\n",
      "366037/366037 [==============================] - 14s 38us/step - loss: 0.7335 - acc: 0.6212 - val_loss: 0.7097 - val_acc: 0.6351\n",
      "Epoch 63/400\n",
      "366037/366037 [==============================] - 14s 38us/step - loss: 0.7337 - acc: 0.6222 - val_loss: 0.7101 - val_acc: 0.6336\n",
      "Epoch 64/400\n",
      "366037/366037 [==============================] - 14s 38us/step - loss: 0.7333 - acc: 0.6217 - val_loss: 0.7118 - val_acc: 0.6332\n",
      "Epoch 65/400\n",
      "366037/366037 [==============================] - 14s 38us/step - loss: 0.7329 - acc: 0.6219 - val_loss: 0.7104 - val_acc: 0.6334\n",
      "Epoch 66/400\n",
      "366037/366037 [==============================] - 14s 38us/step - loss: 0.7321 - acc: 0.6232 - val_loss: 0.7092 - val_acc: 0.6346\n",
      "Epoch 67/400\n",
      "366037/366037 [==============================] - 14s 38us/step - loss: 0.7324 - acc: 0.6222 - val_loss: 0.7090 - val_acc: 0.6352\n",
      "Epoch 68/400\n",
      "366037/366037 [==============================] - 14s 38us/step - loss: 0.7317 - acc: 0.6229 - val_loss: 0.7090 - val_acc: 0.6343\n",
      "Epoch 69/400\n",
      "366037/366037 [==============================] - 14s 38us/step - loss: 0.7323 - acc: 0.6219 - val_loss: 0.7087 - val_acc: 0.6352\n",
      "Epoch 70/400\n",
      "366037/366037 [==============================] - 14s 38us/step - loss: 0.7320 - acc: 0.6222 - val_loss: 0.7080 - val_acc: 0.6347\n",
      "Epoch 71/400\n",
      "366037/366037 [==============================] - 14s 38us/step - loss: 0.7312 - acc: 0.6229 - val_loss: 0.7081 - val_acc: 0.6354\n",
      "Epoch 72/400\n",
      "366037/366037 [==============================] - 14s 38us/step - loss: 0.7314 - acc: 0.6228 - val_loss: 0.7084 - val_acc: 0.6357\n",
      "Epoch 73/400\n",
      "366037/366037 [==============================] - 14s 38us/step - loss: 0.7310 - acc: 0.6229 - val_loss: 0.7078 - val_acc: 0.6354\n",
      "Epoch 74/400\n",
      "366037/366037 [==============================] - 14s 38us/step - loss: 0.7308 - acc: 0.6229 - val_loss: 0.7089 - val_acc: 0.6345\n",
      "Epoch 75/400\n",
      "366037/366037 [==============================] - 14s 38us/step - loss: 0.7315 - acc: 0.6232 - val_loss: 0.7077 - val_acc: 0.6350\n",
      "Epoch 76/400\n",
      "366037/366037 [==============================] - 14s 38us/step - loss: 0.7303 - acc: 0.6227 - val_loss: 0.7075 - val_acc: 0.6353\n",
      "Epoch 77/400\n",
      "366037/366037 [==============================] - 14s 38us/step - loss: 0.7305 - acc: 0.6230 - val_loss: 0.7064 - val_acc: 0.6363\n",
      "Epoch 78/400\n",
      "366037/366037 [==============================] - 14s 38us/step - loss: 0.7305 - acc: 0.6232 - val_loss: 0.7069 - val_acc: 0.6360\n",
      "Epoch 79/400\n",
      "366037/366037 [==============================] - 14s 38us/step - loss: 0.7304 - acc: 0.6231 - val_loss: 0.7082 - val_acc: 0.6343\n",
      "Epoch 80/400\n",
      "366037/366037 [==============================] - 14s 38us/step - loss: 0.7305 - acc: 0.6236 - val_loss: 0.7074 - val_acc: 0.6348\n",
      "Epoch 81/400\n",
      "366037/366037 [==============================] - 14s 38us/step - loss: 0.7300 - acc: 0.6232 - val_loss: 0.7067 - val_acc: 0.6363\n",
      "Epoch 00081: early stopping\n"
     ]
    }
   ],
   "source": [
    "from keras.callbacks import EarlyStopping\n",
    "train_res = model.fit(X_train_train,\n",
    "                      Y_train_train,\n",
    "                      batch_size=batch_size,\n",
    "                      epochs=epochs,\n",
    "                      verbose=True,\n",
    "                      validation_data=(X_train_val,\n",
    "                                       Y_train_val),\n",
    "                      callbacks=\n",
    "                      [EarlyStopping(patience=patience,mode='min',\n",
    "                                     verbose=True)]\n",
    "                      )"
   ]
  },
  {
   "cell_type": "code",
   "execution_count": 228,
   "metadata": {},
   "outputs": [
    {
     "data": {
      "text/plain": [
       "{'acc': 0.81644138975582892, 'loss': 0.62820961139651643}"
      ]
     },
     "execution_count": 228,
     "metadata": {},
     "output_type": "execute_result"
    }
   ],
   "source": [
    "eval(model)"
   ]
  },
  {
   "cell_type": "code",
   "execution_count": 229,
   "metadata": {
    "collapsed": true
   },
   "outputs": [],
   "source": [
    "ybaseline_predict = model.predict(X_train,batch_size=batch_size)"
   ]
  },
  {
   "cell_type": "code",
   "execution_count": 230,
   "metadata": {
    "collapsed": true
   },
   "outputs": [],
   "source": [
    "ybaseline_predict = np.argmax(ybaseline_predict, axis=-1)"
   ]
  },
  {
   "cell_type": "code",
   "execution_count": 231,
   "metadata": {
    "collapsed": true
   },
   "outputs": [],
   "source": [
    "ybaseline_predict=ybaseline_predict.reshape(ybaseline_predict.shape[0],1)"
   ]
  },
  {
   "cell_type": "code",
   "execution_count": 232,
   "metadata": {},
   "outputs": [
    {
     "data": {
      "text/plain": [
       "(406708, 1)"
      ]
     },
     "execution_count": 232,
     "metadata": {},
     "output_type": "execute_result"
    }
   ],
   "source": [
    "ybaseline_predict.shape"
   ]
  },
  {
   "cell_type": "code",
   "execution_count": 233,
   "metadata": {
    "collapsed": true
   },
   "outputs": [],
   "source": [
    "Y_train_noise=Y_train_noise.flatten()"
   ]
  },
  {
   "cell_type": "code",
   "execution_count": 234,
   "metadata": {
    "collapsed": true
   },
   "outputs": [],
   "source": [
    "Y_train_noise=pd.DataFrame(Y_train_noise,columns=['Cover_Type'])"
   ]
  },
  {
   "cell_type": "code",
   "execution_count": 235,
   "metadata": {
    "collapsed": true
   },
   "outputs": [],
   "source": [
    "Y_train_noise=Y_train_noise.astype('int')"
   ]
  },
  {
   "cell_type": "code",
   "execution_count": 236,
   "metadata": {},
   "outputs": [
    {
     "data": {
      "text/html": [
       "<div>\n",
       "<style>\n",
       "    .dataframe thead tr:only-child th {\n",
       "        text-align: right;\n",
       "    }\n",
       "\n",
       "    .dataframe thead th {\n",
       "        text-align: left;\n",
       "    }\n",
       "\n",
       "    .dataframe tbody tr th {\n",
       "        vertical-align: top;\n",
       "    }\n",
       "</style>\n",
       "<table border=\"1\" class=\"dataframe\">\n",
       "  <thead>\n",
       "    <tr style=\"text-align: right;\">\n",
       "      <th></th>\n",
       "      <th>Cover_Type</th>\n",
       "    </tr>\n",
       "  </thead>\n",
       "  <tbody>\n",
       "    <tr>\n",
       "      <th>0</th>\n",
       "      <td>1</td>\n",
       "    </tr>\n",
       "    <tr>\n",
       "      <th>1</th>\n",
       "      <td>1</td>\n",
       "    </tr>\n",
       "    <tr>\n",
       "      <th>2</th>\n",
       "      <td>1</td>\n",
       "    </tr>\n",
       "    <tr>\n",
       "      <th>3</th>\n",
       "      <td>0</td>\n",
       "    </tr>\n",
       "    <tr>\n",
       "      <th>4</th>\n",
       "      <td>1</td>\n",
       "    </tr>\n",
       "  </tbody>\n",
       "</table>\n",
       "</div>"
      ],
      "text/plain": [
       "   Cover_Type\n",
       "0           1\n",
       "1           1\n",
       "2           1\n",
       "3           0\n",
       "4           1"
      ]
     },
     "execution_count": 236,
     "metadata": {},
     "output_type": "execute_result"
    }
   ],
   "source": [
    "Y_train_noise.head()"
   ]
  },
  {
   "cell_type": "code",
   "execution_count": 237,
   "metadata": {
    "collapsed": true
   },
   "outputs": [],
   "source": [
    "baseline_confusion = np.zeros((nb_classes, nb_classes))\n",
    "for n, p in zip(Y_train_noise.values.ravel(), ybaseline_predict):\n",
    "    baseline_confusion[p, n] += 1."
   ]
  },
  {
   "cell_type": "code",
   "execution_count": 238,
   "metadata": {},
   "outputs": [
    {
     "name": "stderr",
     "output_type": "stream",
     "text": [
      "/usr/local/anaconda3/5.0.1/lib/python3.6/site-packages/matplotlib/font_manager.py:1316: UserWarning: findfont: Font family ['normal'] not found. Falling back to DejaVu Sans\n",
      "  (prop.get_family(), self.defaultFamily[fontext]))\n"
     ]
    },
    {
     "data": {
      "image/png": "[encoded data removed]",
      "text/plain": [
       "<matplotlib.figure.Figure at 0x7ff3cfe84748>"
      ]
     },
     "metadata": {},
     "output_type": "display_data"
    }
   ],
   "source": [
    "import matplotlib.pyplot as plt\n",
    "%matplotlib inline\n",
    "# perm_bias_weights.astype(int)\n",
    "plt.pcolor(baseline_confusion)\n",
    "plt.ylabel('true labels')\n",
    "plt.xlabel('baseline labels')\n",
    "plt.title('baseline confusion matrix');"
   ]
  },
  {
   "cell_type": "code",
   "execution_count": 239,
   "metadata": {
    "collapsed": true
   },
   "outputs": [],
   "source": [
    "BETA = 0"
   ]
  },
  {
   "cell_type": "code",
   "execution_count": 240,
   "metadata": {
    "collapsed": true
   },
   "outputs": [],
   "source": [
    "#baseline_confusion"
   ]
  },
  {
   "cell_type": "code",
   "execution_count": 241,
   "metadata": {
    "collapsed": true
   },
   "outputs": [],
   "source": [
    "channel_weights = baseline_confusion.copy()\n",
    "#channel_weights=channel_weights + 1e-8\n",
    "channel_weights /= channel_weights.sum(axis=1, keepdims=True)\n",
    "# perm_bias_weights[prediction,noisy_label] = log(P(noisy_label|prediction))\n",
    "channel_weights = np.log(channel_weights+1e-8)"
   ]
  },
  {
   "cell_type": "code",
   "execution_count": 242,
   "metadata": {
    "collapsed": true
   },
   "outputs": [],
   "source": [
    "from channel import Channel\n",
    "channeled_output = Channel(name='channel',weights=[channel_weights],kernel_regularizer=regularizers.l2(0.01))(baseline_output)"
   ]
  },
  {
   "cell_type": "code",
   "execution_count": 243,
   "metadata": {
    "collapsed": true
   },
   "outputs": [],
   "source": [
    "if BETA ==1:\n",
    "    simple_model = Model(inputs=train_inputs, outputs=[baseline_output])\n",
    "    simple_model.compile(loss='sparse_categorical_crossentropy',optimizer=sgd,metrics=['accuracy'])\n",
    "else:\n",
    "    simple_model = Model(inputs=train_inputs, outputs=[channeled_output, baseline_output])\n",
    "    simple_model.compile(loss='sparse_categorical_crossentropy',loss_weights=[1.-BETA, BETA],optimizer=sgd,metrics=['accuracy'])"
   ]
  },
  {
   "cell_type": "code",
   "execution_count": 244,
   "metadata": {},
   "outputs": [
    {
     "name": "stdout",
     "output_type": "stream",
     "text": [
      "_________________________________________________________________\n",
      "Layer (type)                 Output Shape              Param #   \n",
      "=================================================================\n",
      "input_3 (InputLayer)         (None, 63)                0         \n",
      "_________________________________________________________________\n",
      "hidden (Sequential)          (None, 100)               267000    \n",
      "_________________________________________________________________\n",
      "baseline (Dense)             (None, 7)                 707       \n",
      "_________________________________________________________________\n",
      "channel (Channel)            (None, 7)                 49        \n",
      "=================================================================\n",
      "Total params: 267,756\n",
      "Trainable params: 265,556\n",
      "Non-trainable params: 2,200\n",
      "_________________________________________________________________\n"
     ]
    }
   ],
   "source": [
    "simple_model.summary()"
   ]
  },
  {
   "cell_type": "code",
   "execution_count": 245,
   "metadata": {},
   "outputs": [
    {
     "name": "stdout",
     "output_type": "stream",
     "text": [
      "Train on 366037 samples, validate on 40671 samples\n",
      "Epoch 1/100\n",
      "366037/366037 [==============================] - 16s 42us/step - loss: 54.1708 - channel_loss: 0.6924 - baseline_loss: 0.6698 - channel_acc: 0.5985 - baseline_acc: 0.6228 - val_loss: 52.8781 - val_channel_loss: 0.6726 - val_baseline_loss: 0.6494 - val_channel_acc: 0.6100 - val_baseline_acc: 0.6347\n",
      "Epoch 2/100\n",
      "366037/366037 [==============================] - 14s 39us/step - loss: 51.6772 - channel_loss: 0.6918 - baseline_loss: 0.6789 - channel_acc: 0.6044 - baseline_acc: 0.6226 - val_loss: 50.4578 - val_channel_loss: 0.6723 - val_baseline_loss: 0.6593 - val_channel_acc: 0.6187 - val_baseline_acc: 0.6340\n",
      "Epoch 3/100\n",
      "366037/366037 [==============================] - 14s 39us/step - loss: 49.3271 - channel_loss: 0.6908 - baseline_loss: 0.6904 - channel_acc: 0.6110 - baseline_acc: 0.6219 - val_loss: 48.1775 - val_channel_loss: 0.6723 - val_baseline_loss: 0.6715 - val_channel_acc: 0.6243 - val_baseline_acc: 0.6346\n",
      "Epoch 4/100\n",
      "366037/366037 [==============================] - 14s 39us/step - loss: 47.1128 - channel_loss: 0.6914 - baseline_loss: 0.7035 - channel_acc: 0.6150 - baseline_acc: 0.6221 - val_loss: 46.0280 - val_channel_loss: 0.6730 - val_baseline_loss: 0.6835 - val_channel_acc: 0.6284 - val_baseline_acc: 0.6339\n",
      "Epoch 5/100\n",
      "366037/366037 [==============================] - 14s 39us/step - loss: 45.0234 - channel_loss: 0.6918 - baseline_loss: 0.7152 - channel_acc: 0.6176 - baseline_acc: 0.6219 - val_loss: 43.9994 - val_channel_loss: 0.6746 - val_baseline_loss: 0.6957 - val_channel_acc: 0.6304 - val_baseline_acc: 0.6326\n",
      "Epoch 6/100\n",
      "366037/366037 [==============================] - 14s 39us/step - loss: 43.0511 - channel_loss: 0.6929 - baseline_loss: 0.7269 - channel_acc: 0.6188 - baseline_acc: 0.6212 - val_loss: 42.0820 - val_channel_loss: 0.6745 - val_baseline_loss: 0.7039 - val_channel_acc: 0.6315 - val_baseline_acc: 0.6340\n",
      "Epoch 7/100\n",
      "366037/366037 [==============================] - 14s 39us/step - loss: 41.1882 - channel_loss: 0.6939 - baseline_loss: 0.7357 - channel_acc: 0.6205 - baseline_acc: 0.6215 - val_loss: 40.2715 - val_channel_loss: 0.6761 - val_baseline_loss: 0.7146 - val_channel_acc: 0.6323 - val_baseline_acc: 0.6329\n",
      "Epoch 8/100\n",
      "366037/366037 [==============================] - 14s 39us/step - loss: 39.4272 - channel_loss: 0.6955 - baseline_loss: 0.7447 - channel_acc: 0.6210 - baseline_acc: 0.6210 - val_loss: 38.5588 - val_channel_loss: 0.6772 - val_baseline_loss: 0.7190 - val_channel_acc: 0.6333 - val_baseline_acc: 0.6334\n",
      "Epoch 9/100\n",
      "366037/366037 [==============================] - 14s 40us/step - loss: 37.7608 - channel_loss: 0.6964 - baseline_loss: 0.7503 - channel_acc: 0.6218 - baseline_acc: 0.6217 - val_loss: 36.9384 - val_channel_loss: 0.6787 - val_baseline_loss: 0.7236 - val_channel_acc: 0.6329 - val_baseline_acc: 0.6339\n",
      "Epoch 10/100\n",
      "366037/366037 [==============================] - 14s 39us/step - loss: 36.1846 - channel_loss: 0.6984 - baseline_loss: 0.7545 - channel_acc: 0.6213 - baseline_acc: 0.6201 - val_loss: 35.4056 - val_channel_loss: 0.6816 - val_baseline_loss: 0.7318 - val_channel_acc: 0.6323 - val_baseline_acc: 0.6328\n",
      "Epoch 11/100\n",
      "366037/366037 [==============================] - 14s 40us/step - loss: 34.6913 - channel_loss: 0.6998 - baseline_loss: 0.7598 - channel_acc: 0.6223 - baseline_acc: 0.6214 - val_loss: 33.9520 - val_channel_loss: 0.6827 - val_baseline_loss: 0.7322 - val_channel_acc: 0.6337 - val_baseline_acc: 0.6327\n",
      "Epoch 12/100\n",
      "366037/366037 [==============================] - 14s 39us/step - loss: 33.2766 - channel_loss: 0.7018 - baseline_loss: 0.7614 - channel_acc: 0.6227 - baseline_acc: 0.6205 - val_loss: 32.5753 - val_channel_loss: 0.6847 - val_baseline_loss: 0.7385 - val_channel_acc: 0.6332 - val_baseline_acc: 0.6328\n",
      "Epoch 13/100\n",
      "366037/366037 [==============================] - 14s 39us/step - loss: 31.9354 - channel_loss: 0.7038 - baseline_loss: 0.7667 - channel_acc: 0.6217 - baseline_acc: 0.6205 - val_loss: 31.2685 - val_channel_loss: 0.6863 - val_baseline_loss: 0.7385 - val_channel_acc: 0.6342 - val_baseline_acc: 0.6336\n",
      "Epoch 14/100\n",
      "366037/366037 [==============================] - 14s 39us/step - loss: 30.6624 - channel_loss: 0.7051 - baseline_loss: 0.7683 - channel_acc: 0.6224 - baseline_acc: 0.6204 - val_loss: 30.0302 - val_channel_loss: 0.6890 - val_baseline_loss: 0.7431 - val_channel_acc: 0.6340 - val_baseline_acc: 0.6322\n",
      "Epoch 15/100\n",
      "366037/366037 [==============================] - 14s 39us/step - loss: 29.4546 - channel_loss: 0.7069 - baseline_loss: 0.7713 - channel_acc: 0.6230 - baseline_acc: 0.6209 - val_loss: 28.8534 - val_channel_loss: 0.6909 - val_baseline_loss: 0.7450 - val_channel_acc: 0.6344 - val_baseline_acc: 0.6319\n",
      "Epoch 16/100\n",
      "366037/366037 [==============================] - 14s 39us/step - loss: 28.3083 - channel_loss: 0.7094 - baseline_loss: 0.7742 - channel_acc: 0.6235 - baseline_acc: 0.6197 - val_loss: 27.7356 - val_channel_loss: 0.6925 - val_baseline_loss: 0.7442 - val_channel_acc: 0.6345 - val_baseline_acc: 0.6316\n",
      "Epoch 17/100\n",
      "366037/366037 [==============================] - 14s 40us/step - loss: 27.2189 - channel_loss: 0.7117 - baseline_loss: 0.7767 - channel_acc: 0.6232 - baseline_acc: 0.6191 - val_loss: 26.6731 - val_channel_loss: 0.6943 - val_baseline_loss: 0.7484 - val_channel_acc: 0.6342 - val_baseline_acc: 0.6317\n",
      "Epoch 18/100\n",
      "366037/366037 [==============================] - 14s 39us/step - loss: 26.1826 - channel_loss: 0.7134 - baseline_loss: 0.7781 - channel_acc: 0.6228 - baseline_acc: 0.6188 - val_loss: 25.6630 - val_channel_loss: 0.6965 - val_baseline_loss: 0.7498 - val_channel_acc: 0.6344 - val_baseline_acc: 0.6307\n",
      "Epoch 19/100\n",
      "366037/366037 [==============================] - 14s 39us/step - loss: 25.1975 - channel_loss: 0.7155 - baseline_loss: 0.7813 - channel_acc: 0.6231 - baseline_acc: 0.6186 - val_loss: 24.7032 - val_channel_loss: 0.6994 - val_baseline_loss: 0.7504 - val_channel_acc: 0.6353 - val_baseline_acc: 0.6298\n",
      "Epoch 20/100\n",
      "366037/366037 [==============================] - 14s 39us/step - loss: 24.2602 - channel_loss: 0.7178 - baseline_loss: 0.7813 - channel_acc: 0.6222 - baseline_acc: 0.6180 - val_loss: 23.7890 - val_channel_loss: 0.7017 - val_baseline_loss: 0.7544 - val_channel_acc: 0.6346 - val_baseline_acc: 0.6287\n",
      "Epoch 21/100\n",
      "366037/366037 [==============================] - 14s 39us/step - loss: 23.3673 - channel_loss: 0.7195 - baseline_loss: 0.7836 - channel_acc: 0.6234 - baseline_acc: 0.6176 - val_loss: 22.9183 - val_channel_loss: 0.7040 - val_baseline_loss: 0.7553 - val_channel_acc: 0.6343 - val_baseline_acc: 0.6287\n",
      "Epoch 22/100\n",
      "366037/366037 [==============================] - 14s 39us/step - loss: 22.5171 - channel_loss: 0.7215 - baseline_loss: 0.7833 - channel_acc: 0.6239 - baseline_acc: 0.6183 - val_loss: 22.0889 - val_channel_loss: 0.7065 - val_baseline_loss: 0.7611 - val_channel_acc: 0.6340 - val_baseline_acc: 0.6277\n",
      "Epoch 23/100\n",
      "366037/366037 [==============================] - 14s 39us/step - loss: 21.7075 - channel_loss: 0.7241 - baseline_loss: 0.7883 - channel_acc: 0.6232 - baseline_acc: 0.6165 - val_loss: 21.2969 - val_channel_loss: 0.7075 - val_baseline_loss: 0.7577 - val_channel_acc: 0.6354 - val_baseline_acc: 0.6300\n",
      "Epoch 24/100\n",
      "366037/366037 [==============================] - 14s 39us/step - loss: 20.9349 - channel_loss: 0.7259 - baseline_loss: 0.7883 - channel_acc: 0.6235 - baseline_acc: 0.6165 - val_loss: 20.5433 - val_channel_loss: 0.7102 - val_baseline_loss: 0.7627 - val_channel_acc: 0.6346 - val_baseline_acc: 0.6277\n",
      "Epoch 25/100\n",
      "366037/366037 [==============================] - 14s 39us/step - loss: 20.1985 - channel_loss: 0.7282 - baseline_loss: 0.7905 - channel_acc: 0.6230 - baseline_acc: 0.6146 - val_loss: 19.8240 - val_channel_loss: 0.7123 - val_baseline_loss: 0.7618 - val_channel_acc: 0.6353 - val_baseline_acc: 0.6273\n",
      "Epoch 26/100\n",
      "366037/366037 [==============================] - 14s 39us/step - loss: 19.4954 - channel_loss: 0.7300 - baseline_loss: 0.7907 - channel_acc: 0.6234 - baseline_acc: 0.6153 - val_loss: 19.1375 - val_channel_loss: 0.7143 - val_baseline_loss: 0.7653 - val_channel_acc: 0.6345 - val_baseline_acc: 0.6257\n",
      "Epoch 27/100\n"
     ]
    },
    {
     "name": "stdout",
     "output_type": "stream",
     "text": [
      "366037/366037 [==============================] - 14s 39us/step - loss: 18.8249 - channel_loss: 0.7326 - baseline_loss: 0.7938 - channel_acc: 0.6228 - baseline_acc: 0.6134 - val_loss: 18.4828 - val_channel_loss: 0.7171 - val_baseline_loss: 0.7677 - val_channel_acc: 0.6348 - val_baseline_acc: 0.6258\n",
      "Epoch 28/100\n",
      "366037/366037 [==============================] - 14s 39us/step - loss: 18.1841 - channel_loss: 0.7346 - baseline_loss: 0.7946 - channel_acc: 0.6233 - baseline_acc: 0.6126 - val_loss: 17.8566 - val_channel_loss: 0.7193 - val_baseline_loss: 0.7694 - val_channel_acc: 0.6345 - val_baseline_acc: 0.6251\n",
      "Epoch 29/100\n",
      "366037/366037 [==============================] - 14s 40us/step - loss: 17.5720 - channel_loss: 0.7368 - baseline_loss: 0.7978 - channel_acc: 0.6229 - baseline_acc: 0.6116 - val_loss: 17.2585 - val_channel_loss: 0.7215 - val_baseline_loss: 0.7719 - val_channel_acc: 0.6339 - val_baseline_acc: 0.6235\n",
      "Epoch 30/100\n",
      "366037/366037 [==============================] - 14s 39us/step - loss: 16.9863 - channel_loss: 0.7382 - baseline_loss: 0.7994 - channel_acc: 0.6239 - baseline_acc: 0.6115 - val_loss: 16.6862 - val_channel_loss: 0.7233 - val_baseline_loss: 0.7717 - val_channel_acc: 0.6355 - val_baseline_acc: 0.6220\n",
      "Epoch 31/100\n",
      "366037/366037 [==============================] - 14s 39us/step - loss: 16.4272 - channel_loss: 0.7406 - baseline_loss: 0.8038 - channel_acc: 0.6233 - baseline_acc: 0.6100 - val_loss: 16.1401 - val_channel_loss: 0.7268 - val_baseline_loss: 0.7783 - val_channel_acc: 0.6339 - val_baseline_acc: 0.6187\n",
      "Epoch 32/100\n",
      "366037/366037 [==============================] - 14s 39us/step - loss: 15.8919 - channel_loss: 0.7425 - baseline_loss: 0.8049 - channel_acc: 0.6231 - baseline_acc: 0.6079 - val_loss: 15.6162 - val_channel_loss: 0.7280 - val_baseline_loss: 0.7799 - val_channel_acc: 0.6352 - val_baseline_acc: 0.6194\n",
      "Epoch 33/100\n",
      "366037/366037 [==============================] - 15s 40us/step - loss: 15.3800 - channel_loss: 0.7448 - baseline_loss: 0.8081 - channel_acc: 0.6227 - baseline_acc: 0.6068 - val_loss: 15.1153 - val_channel_loss: 0.7299 - val_baseline_loss: 0.7824 - val_channel_acc: 0.6344 - val_baseline_acc: 0.6175\n",
      "Epoch 34/100\n",
      "366037/366037 [==============================] - 14s 40us/step - loss: 14.8896 - channel_loss: 0.7466 - baseline_loss: 0.8133 - channel_acc: 0.6230 - baseline_acc: 0.6057 - val_loss: 14.6353 - val_channel_loss: 0.7317 - val_baseline_loss: 0.7842 - val_channel_acc: 0.6343 - val_baseline_acc: 0.6159\n",
      "Epoch 35/100\n",
      "366037/366037 [==============================] - 14s 40us/step - loss: 14.4200 - channel_loss: 0.7484 - baseline_loss: 0.8158 - channel_acc: 0.6224 - baseline_acc: 0.6042 - val_loss: 14.1759 - val_channel_loss: 0.7340 - val_baseline_loss: 0.7902 - val_channel_acc: 0.6349 - val_baseline_acc: 0.6140\n",
      "Epoch 36/100\n",
      "366037/366037 [==============================] - 14s 39us/step - loss: 13.9701 - channel_loss: 0.7503 - baseline_loss: 0.8190 - channel_acc: 0.6223 - baseline_acc: 0.6025 - val_loss: 13.7358 - val_channel_loss: 0.7358 - val_baseline_loss: 0.7926 - val_channel_acc: 0.6341 - val_baseline_acc: 0.6130\n",
      "Epoch 37/100\n",
      "366037/366037 [==============================] - 14s 39us/step - loss: 13.5391 - channel_loss: 0.7523 - baseline_loss: 0.8255 - channel_acc: 0.6228 - baseline_acc: 0.6001 - val_loss: 13.3139 - val_channel_loss: 0.7377 - val_baseline_loss: 0.8003 - val_channel_acc: 0.6347 - val_baseline_acc: 0.6106\n",
      "Epoch 38/100\n",
      "366037/366037 [==============================] - 14s 39us/step - loss: 13.1259 - channel_loss: 0.7540 - baseline_loss: 0.8295 - channel_acc: 0.6220 - baseline_acc: 0.5988 - val_loss: 12.9084 - val_channel_loss: 0.7391 - val_baseline_loss: 0.8034 - val_channel_acc: 0.6334 - val_baseline_acc: 0.6096\n",
      "Epoch 39/100\n",
      "366037/366037 [==============================] - 14s 39us/step - loss: 12.7292 - channel_loss: 0.7557 - baseline_loss: 0.8337 - channel_acc: 0.6220 - baseline_acc: 0.5961 - val_loss: 12.5209 - val_channel_loss: 0.7411 - val_baseline_loss: 0.8108 - val_channel_acc: 0.6347 - val_baseline_acc: 0.6066\n",
      "Epoch 40/100\n",
      "366037/366037 [==============================] - 14s 39us/step - loss: 12.3485 - channel_loss: 0.7570 - baseline_loss: 0.8381 - channel_acc: 0.6225 - baseline_acc: 0.5949 - val_loss: 12.1481 - val_channel_loss: 0.7430 - val_baseline_loss: 0.8156 - val_channel_acc: 0.6337 - val_baseline_acc: 0.6044\n",
      "Epoch 41/100\n",
      "366037/366037 [==============================] - 14s 39us/step - loss: 11.9836 - channel_loss: 0.7588 - baseline_loss: 0.8463 - channel_acc: 0.6221 - baseline_acc: 0.5931 - val_loss: 11.7915 - val_channel_loss: 0.7453 - val_baseline_loss: 0.8207 - val_channel_acc: 0.6322 - val_baseline_acc: 0.6035\n",
      "Epoch 42/100\n",
      "366037/366037 [==============================] - 14s 39us/step - loss: 11.6335 - channel_loss: 0.7610 - baseline_loss: 0.8542 - channel_acc: 0.6211 - baseline_acc: 0.5894 - val_loss: 11.4478 - val_channel_loss: 0.7468 - val_baseline_loss: 0.8322 - val_channel_acc: 0.6334 - val_baseline_acc: 0.5988\n",
      "Epoch 43/100\n",
      "366037/366037 [==============================] - 14s 39us/step - loss: 11.2970 - channel_loss: 0.7623 - baseline_loss: 0.8586 - channel_acc: 0.6218 - baseline_acc: 0.5878 - val_loss: 11.1178 - val_channel_loss: 0.7481 - val_baseline_loss: 0.8347 - val_channel_acc: 0.6326 - val_baseline_acc: 0.5964\n",
      "Epoch 44/100\n",
      "366037/366037 [==============================] - 14s 39us/step - loss: 10.9736 - channel_loss: 0.7639 - baseline_loss: 0.8659 - channel_acc: 0.6216 - baseline_acc: 0.5846 - val_loss: 10.8010 - val_channel_loss: 0.7498 - val_baseline_loss: 0.8428 - val_channel_acc: 0.6328 - val_baseline_acc: 0.5950\n",
      "Epoch 45/100\n",
      "366037/366037 [==============================] - 14s 39us/step - loss: 10.6628 - channel_loss: 0.7653 - baseline_loss: 0.8755 - channel_acc: 0.6218 - baseline_acc: 0.5813 - val_loss: 10.4963 - val_channel_loss: 0.7512 - val_baseline_loss: 0.8498 - val_channel_acc: 0.6324 - val_baseline_acc: 0.5920\n",
      "Epoch 46/100\n",
      "366037/366037 [==============================] - 14s 39us/step - loss: 10.3639 - channel_loss: 0.7667 - baseline_loss: 0.8831 - channel_acc: 0.6210 - baseline_acc: 0.5790 - val_loss: 10.2038 - val_channel_loss: 0.7531 - val_baseline_loss: 0.8679 - val_channel_acc: 0.6320 - val_baseline_acc: 0.5879\n",
      "Epoch 47/100\n",
      "366037/366037 [==============================] - 14s 39us/step - loss: 10.0770 - channel_loss: 0.7684 - baseline_loss: 0.8940 - channel_acc: 0.6206 - baseline_acc: 0.5746 - val_loss: 9.9216 - val_channel_loss: 0.7540 - val_baseline_loss: 0.8752 - val_channel_acc: 0.6318 - val_baseline_acc: 0.5859\n",
      "Epoch 48/100\n",
      "366037/366037 [==============================] - 14s 39us/step - loss: 9.8004 - channel_loss: 0.7695 - baseline_loss: 0.9036 - channel_acc: 0.6203 - baseline_acc: 0.5722 - val_loss: 9.6512 - val_channel_loss: 0.7559 - val_baseline_loss: 0.8880 - val_channel_acc: 0.6318 - val_baseline_acc: 0.5778\n",
      "Epoch 49/100\n",
      "366037/366037 [==============================] - 14s 39us/step - loss: 9.5342 - channel_loss: 0.7706 - baseline_loss: 0.9144 - channel_acc: 0.6206 - baseline_acc: 0.5685 - val_loss: 9.3904 - val_channel_loss: 0.7573 - val_baseline_loss: 0.8963 - val_channel_acc: 0.6322 - val_baseline_acc: 0.5759\n",
      "Epoch 50/100\n",
      "366037/366037 [==============================] - 14s 39us/step - loss: 9.2785 - channel_loss: 0.7722 - baseline_loss: 0.9263 - channel_acc: 0.6204 - baseline_acc: 0.5645 - val_loss: 9.1393 - val_channel_loss: 0.7585 - val_baseline_loss: 0.9041 - val_channel_acc: 0.6324 - val_baseline_acc: 0.5723\n",
      "Epoch 51/100\n",
      "366037/366037 [==============================] - 14s 39us/step - loss: 9.0321 - channel_loss: 0.7735 - baseline_loss: 0.9385 - channel_acc: 0.6202 - baseline_acc: 0.5608 - val_loss: 8.8980 - val_channel_loss: 0.7603 - val_baseline_loss: 0.9237 - val_channel_acc: 0.6329 - val_baseline_acc: 0.5655\n",
      "Epoch 52/100\n",
      "366037/366037 [==============================] - 14s 39us/step - loss: 8.7949 - channel_loss: 0.7748 - baseline_loss: 0.9523 - channel_acc: 0.6201 - baseline_acc: 0.5562 - val_loss: 8.6648 - val_channel_loss: 0.7613 - val_baseline_loss: 0.9435 - val_channel_acc: 0.6316 - val_baseline_acc: 0.5608\n",
      "Epoch 53/100\n"
     ]
    },
    {
     "name": "stdout",
     "output_type": "stream",
     "text": [
      "366037/366037 [==============================] - 14s 39us/step - loss: 8.5659 - channel_loss: 0.7756 - baseline_loss: 0.9669 - channel_acc: 0.6207 - baseline_acc: 0.5529 - val_loss: 8.4403 - val_channel_loss: 0.7624 - val_baseline_loss: 0.9520 - val_channel_acc: 0.6322 - val_baseline_acc: 0.5582\n",
      "Epoch 54/100\n",
      "366037/366037 [==============================] - 14s 39us/step - loss: 8.3457 - channel_loss: 0.7769 - baseline_loss: 0.9826 - channel_acc: 0.6202 - baseline_acc: 0.5477 - val_loss: 8.2241 - val_channel_loss: 0.7635 - val_baseline_loss: 0.9734 - val_channel_acc: 0.6317 - val_baseline_acc: 0.5533\n",
      "Epoch 55/100\n",
      "366037/366037 [==============================] - 14s 39us/step - loss: 8.1333 - channel_loss: 0.7780 - baseline_loss: 1.0006 - channel_acc: 0.6200 - baseline_acc: 0.5431 - val_loss: 8.0155 - val_channel_loss: 0.7644 - val_baseline_loss: 0.9899 - val_channel_acc: 0.6316 - val_baseline_acc: 0.5473\n",
      "Epoch 56/100\n",
      "366037/366037 [==============================] - 14s 39us/step - loss: 7.9288 - channel_loss: 0.7793 - baseline_loss: 1.0194 - channel_acc: 0.6200 - baseline_acc: 0.5386 - val_loss: 7.8142 - val_channel_loss: 0.7654 - val_baseline_loss: 1.0088 - val_channel_acc: 0.6312 - val_baseline_acc: 0.5404\n",
      "Epoch 57/100\n",
      "366037/366037 [==============================] - 14s 39us/step - loss: 7.7307 - channel_loss: 0.7798 - baseline_loss: 1.0386 - channel_acc: 0.6195 - baseline_acc: 0.5340 - val_loss: 7.6207 - val_channel_loss: 0.7668 - val_baseline_loss: 1.0269 - val_channel_acc: 0.6304 - val_baseline_acc: 0.5343\n",
      "Epoch 58/100\n",
      "366037/366037 [==============================] - 14s 39us/step - loss: 7.5401 - channel_loss: 0.7807 - baseline_loss: 1.0587 - channel_acc: 0.6183 - baseline_acc: 0.5302 - val_loss: 7.4335 - val_channel_loss: 0.7676 - val_baseline_loss: 1.0593 - val_channel_acc: 0.6300 - val_baseline_acc: 0.5311\n",
      "Epoch 59/100\n",
      "366037/366037 [==============================] - 14s 39us/step - loss: 7.3563 - channel_loss: 0.7817 - baseline_loss: 1.0825 - channel_acc: 0.6161 - baseline_acc: 0.5260 - val_loss: 7.2526 - val_channel_loss: 0.7684 - val_baseline_loss: 1.0747 - val_channel_acc: 0.6255 - val_baseline_acc: 0.5249\n",
      "Epoch 60/100\n",
      "366037/366037 [==============================] - 14s 39us/step - loss: 7.1789 - channel_loss: 0.7826 - baseline_loss: 1.1082 - channel_acc: 0.6084 - baseline_acc: 0.5210 - val_loss: 7.0787 - val_channel_loss: 0.7697 - val_baseline_loss: 1.1055 - val_channel_acc: 0.6134 - val_baseline_acc: 0.5209\n",
      "Epoch 61/100\n",
      "366037/366037 [==============================] - 14s 39us/step - loss: 7.0074 - channel_loss: 0.7834 - baseline_loss: 1.1337 - channel_acc: 0.5979 - baseline_acc: 0.5183 - val_loss: 6.9105 - val_channel_loss: 0.7706 - val_baseline_loss: 1.1338 - val_channel_acc: 0.5978 - val_baseline_acc: 0.5195\n",
      "Epoch 62/100\n",
      "366037/366037 [==============================] - 14s 39us/step - loss: 6.8419 - channel_loss: 0.7842 - baseline_loss: 1.1615 - channel_acc: 0.5903 - baseline_acc: 0.5159 - val_loss: 6.7472 - val_channel_loss: 0.7710 - val_baseline_loss: 1.1646 - val_channel_acc: 0.5973 - val_baseline_acc: 0.5172\n",
      "Epoch 63/100\n",
      "366037/366037 [==============================] - 14s 39us/step - loss: 6.6820 - channel_loss: 0.7849 - baseline_loss: 1.1906 - channel_acc: 0.5900 - baseline_acc: 0.5129 - val_loss: 6.5903 - val_channel_loss: 0.7717 - val_baseline_loss: 1.1926 - val_channel_acc: 0.5976 - val_baseline_acc: 0.5162\n",
      "Epoch 64/100\n",
      "366037/366037 [==============================] - 14s 39us/step - loss: 6.5273 - channel_loss: 0.7854 - baseline_loss: 1.2206 - channel_acc: 0.5900 - baseline_acc: 0.5112 - val_loss: 6.4381 - val_channel_loss: 0.7722 - val_baseline_loss: 1.2240 - val_channel_acc: 0.5970 - val_baseline_acc: 0.5141\n",
      "Epoch 65/100\n",
      "366037/366037 [==============================] - 14s 39us/step - loss: 6.3779 - channel_loss: 0.7860 - baseline_loss: 1.2537 - channel_acc: 0.5899 - baseline_acc: 0.5097 - val_loss: 6.2916 - val_channel_loss: 0.7731 - val_baseline_loss: 1.2542 - val_channel_acc: 0.5975 - val_baseline_acc: 0.5124\n",
      "Epoch 66/100\n",
      "366037/366037 [==============================] - 14s 39us/step - loss: 6.2335 - channel_loss: 0.7866 - baseline_loss: 1.2864 - channel_acc: 0.5899 - baseline_acc: 0.5080 - val_loss: 6.1497 - val_channel_loss: 0.7737 - val_baseline_loss: 1.3025 - val_channel_acc: 0.5968 - val_baseline_acc: 0.5117\n",
      "Epoch 67/100\n",
      "366037/366037 [==============================] - 14s 39us/step - loss: 6.0940 - channel_loss: 0.7873 - baseline_loss: 1.3226 - channel_acc: 0.5898 - baseline_acc: 0.5070 - val_loss: 6.0123 - val_channel_loss: 0.7742 - val_baseline_loss: 1.3330 - val_channel_acc: 0.5970 - val_baseline_acc: 0.5117\n",
      "Epoch 68/100\n",
      "366037/366037 [==============================] - 14s 39us/step - loss: 5.9587 - channel_loss: 0.7876 - baseline_loss: 1.3578 - channel_acc: 0.5896 - baseline_acc: 0.5060 - val_loss: 5.8801 - val_channel_loss: 0.7752 - val_baseline_loss: 1.3653 - val_channel_acc: 0.5968 - val_baseline_acc: 0.5103\n",
      "Epoch 69/100\n",
      "366037/366037 [==============================] - 14s 39us/step - loss: 5.8283 - channel_loss: 0.7882 - baseline_loss: 1.3942 - channel_acc: 0.5896 - baseline_acc: 0.5050 - val_loss: 5.7515 - val_channel_loss: 0.7756 - val_baseline_loss: 1.4067 - val_channel_acc: 0.5970 - val_baseline_acc: 0.5100\n",
      "Epoch 70/100\n",
      "366037/366037 [==============================] - 14s 39us/step - loss: 5.7016 - channel_loss: 0.7884 - baseline_loss: 1.4292 - channel_acc: 0.5900 - baseline_acc: 0.5051 - val_loss: 5.6267 - val_channel_loss: 0.7756 - val_baseline_loss: 1.4477 - val_channel_acc: 0.5976 - val_baseline_acc: 0.5097\n",
      "Epoch 71/100\n",
      "366037/366037 [==============================] - 14s 39us/step - loss: 5.5796 - channel_loss: 0.7891 - baseline_loss: 1.4643 - channel_acc: 0.5898 - baseline_acc: 0.5036 - val_loss: 5.5067 - val_channel_loss: 0.7764 - val_baseline_loss: 1.4785 - val_channel_acc: 0.5972 - val_baseline_acc: 0.5098\n",
      "Epoch 72/100\n",
      "366037/366037 [==============================] - 14s 39us/step - loss: 5.4613 - channel_loss: 0.7897 - baseline_loss: 1.4989 - channel_acc: 0.5897 - baseline_acc: 0.5037 - val_loss: 5.3904 - val_channel_loss: 0.7770 - val_baseline_loss: 1.5114 - val_channel_acc: 0.5977 - val_baseline_acc: 0.5094\n",
      "Epoch 73/100\n",
      "366037/366037 [==============================] - 14s 39us/step - loss: 5.3465 - channel_loss: 0.7898 - baseline_loss: 1.5347 - channel_acc: 0.5899 - baseline_acc: 0.5033 - val_loss: 5.2778 - val_channel_loss: 0.7775 - val_baseline_loss: 1.5542 - val_channel_acc: 0.5970 - val_baseline_acc: 0.5076\n",
      "Epoch 74/100\n",
      "366037/366037 [==============================] - 14s 39us/step - loss: 5.2362 - channel_loss: 0.7909 - baseline_loss: 1.5671 - channel_acc: 0.5895 - baseline_acc: 0.5029 - val_loss: 5.1686 - val_channel_loss: 0.7779 - val_baseline_loss: 1.5798 - val_channel_acc: 0.5966 - val_baseline_acc: 0.5081\n",
      "Epoch 75/100\n",
      "366037/366037 [==============================] - 14s 39us/step - loss: 5.1288 - channel_loss: 0.7913 - baseline_loss: 1.5981 - channel_acc: 0.5895 - baseline_acc: 0.5027 - val_loss: 5.0634 - val_channel_loss: 0.7788 - val_baseline_loss: 1.6084 - val_channel_acc: 0.5967 - val_baseline_acc: 0.5076\n",
      "Epoch 76/100\n",
      "366037/366037 [==============================] - 14s 39us/step - loss: 5.0250 - channel_loss: 0.7920 - baseline_loss: 1.6284 - channel_acc: 0.5895 - baseline_acc: 0.5023 - val_loss: 4.9610 - val_channel_loss: 0.7793 - val_baseline_loss: 1.6349 - val_channel_acc: 0.5966 - val_baseline_acc: 0.5074\n",
      "Epoch 77/100\n",
      "366037/366037 [==============================] - 14s 39us/step - loss: 4.9244 - channel_loss: 0.7926 - baseline_loss: 1.6585 - channel_acc: 0.5893 - baseline_acc: 0.5019 - val_loss: 4.8621 - val_channel_loss: 0.7798 - val_baseline_loss: 1.6717 - val_channel_acc: 0.5969 - val_baseline_acc: 0.5078\n",
      "Epoch 78/100\n",
      "366037/366037 [==============================] - 14s 39us/step - loss: 4.8273 - channel_loss: 0.7934 - baseline_loss: 1.6868 - channel_acc: 0.5892 - baseline_acc: 0.5016 - val_loss: 4.7661 - val_channel_loss: 0.7804 - val_baseline_loss: 1.7063 - val_channel_acc: 0.5967 - val_baseline_acc: 0.5071\n",
      "Epoch 79/100\n"
     ]
    },
    {
     "name": "stdout",
     "output_type": "stream",
     "text": [
      "366037/366037 [==============================] - 15s 40us/step - loss: 4.7325 - channel_loss: 0.7938 - baseline_loss: 1.7137 - channel_acc: 0.5898 - baseline_acc: 0.5016 - val_loss: 4.6731 - val_channel_loss: 0.7810 - val_baseline_loss: 1.7272 - val_channel_acc: 0.5973 - val_baseline_acc: 0.5073\n",
      "Epoch 80/100\n",
      "366037/366037 [==============================] - 14s 40us/step - loss: 4.6413 - channel_loss: 0.7946 - baseline_loss: 1.7391 - channel_acc: 0.5894 - baseline_acc: 0.5014 - val_loss: 4.5833 - val_channel_loss: 0.7818 - val_baseline_loss: 1.7522 - val_channel_acc: 0.5971 - val_baseline_acc: 0.5067\n",
      "Epoch 81/100\n",
      "366037/366037 [==============================] - 14s 39us/step - loss: 4.5523 - channel_loss: 0.7949 - baseline_loss: 1.7632 - channel_acc: 0.5896 - baseline_acc: 0.5014 - val_loss: 4.4959 - val_channel_loss: 0.7823 - val_baseline_loss: 1.7848 - val_channel_acc: 0.5975 - val_baseline_acc: 0.5075\n",
      "Epoch 82/100\n",
      "366037/366037 [==============================] - 14s 39us/step - loss: 4.4666 - channel_loss: 0.7959 - baseline_loss: 1.7871 - channel_acc: 0.5895 - baseline_acc: 0.5010 - val_loss: 4.4112 - val_channel_loss: 0.7830 - val_baseline_loss: 1.7961 - val_channel_acc: 0.5971 - val_baseline_acc: 0.5073\n",
      "Epoch 83/100\n",
      "366037/366037 [==============================] - 14s 39us/step - loss: 4.3830 - channel_loss: 0.7962 - baseline_loss: 1.8077 - channel_acc: 0.5896 - baseline_acc: 0.5010 - val_loss: 4.3297 - val_channel_loss: 0.7841 - val_baseline_loss: 1.8196 - val_channel_acc: 0.5966 - val_baseline_acc: 0.5069\n",
      "Epoch 84/100\n",
      "366037/366037 [==============================] - 14s 39us/step - loss: 4.3028 - channel_loss: 0.7974 - baseline_loss: 1.8306 - channel_acc: 0.5892 - baseline_acc: 0.5009 - val_loss: 4.2499 - val_channel_loss: 0.7846 - val_baseline_loss: 1.8469 - val_channel_acc: 0.5969 - val_baseline_acc: 0.5066\n",
      "Epoch 85/100\n",
      "366037/366037 [==============================] - 14s 39us/step - loss: 4.2241 - channel_loss: 0.7978 - baseline_loss: 1.8510 - channel_acc: 0.5891 - baseline_acc: 0.5008 - val_loss: 4.1729 - val_channel_loss: 0.7853 - val_baseline_loss: 1.8690 - val_channel_acc: 0.5965 - val_baseline_acc: 0.5064\n",
      "Epoch 86/100\n",
      "366037/366037 [==============================] - 15s 40us/step - loss: 4.1484 - channel_loss: 0.7988 - baseline_loss: 1.8721 - channel_acc: 0.5891 - baseline_acc: 0.5007 - val_loss: 4.0979 - val_channel_loss: 0.7858 - val_baseline_loss: 1.8811 - val_channel_acc: 0.5974 - val_baseline_acc: 0.5068\n",
      "Epoch 87/100\n",
      "366037/366037 [==============================] - 14s 39us/step - loss: 4.0748 - channel_loss: 0.7996 - baseline_loss: 1.8907 - channel_acc: 0.5891 - baseline_acc: 0.5003 - val_loss: 4.0257 - val_channel_loss: 0.7870 - val_baseline_loss: 1.8979 - val_channel_acc: 0.5964 - val_baseline_acc: 0.5064\n",
      "Epoch 88/100\n",
      "366037/366037 [==============================] - 14s 39us/step - loss: 4.0031 - channel_loss: 0.8001 - baseline_loss: 1.9077 - channel_acc: 0.5889 - baseline_acc: 0.5008 - val_loss: 3.9550 - val_channel_loss: 0.7875 - val_baseline_loss: 1.9166 - val_channel_acc: 0.5969 - val_baseline_acc: 0.5067\n",
      "Epoch 89/100\n",
      "366037/366037 [==============================] - 15s 40us/step - loss: 3.9338 - channel_loss: 0.8009 - baseline_loss: 1.9265 - channel_acc: 0.5891 - baseline_acc: 0.5006 - val_loss: 3.8867 - val_channel_loss: 0.7882 - val_baseline_loss: 1.9451 - val_channel_acc: 0.5969 - val_baseline_acc: 0.5065\n",
      "Epoch 90/100\n",
      "366037/366037 [==============================] - 14s 40us/step - loss: 3.8665 - channel_loss: 0.8017 - baseline_loss: 1.9418 - channel_acc: 0.5891 - baseline_acc: 0.5005 - val_loss: 3.8204 - val_channel_loss: 0.7890 - val_baseline_loss: 1.9499 - val_channel_acc: 0.5969 - val_baseline_acc: 0.5064\n",
      "Epoch 91/100\n",
      "366037/366037 [==============================] - 15s 40us/step - loss: 3.8010 - channel_loss: 0.8024 - baseline_loss: 1.9571 - channel_acc: 0.5892 - baseline_acc: 0.5004 - val_loss: 3.7559 - val_channel_loss: 0.7898 - val_baseline_loss: 1.9739 - val_channel_acc: 0.5964 - val_baseline_acc: 0.5065\n",
      "Epoch 92/100\n",
      "366037/366037 [==============================] - 15s 40us/step - loss: 3.7378 - channel_loss: 0.8034 - baseline_loss: 1.9736 - channel_acc: 0.5892 - baseline_acc: 0.5000 - val_loss: 3.6937 - val_channel_loss: 0.7908 - val_baseline_loss: 1.9883 - val_channel_acc: 0.5969 - val_baseline_acc: 0.5064\n",
      "Epoch 93/100\n",
      "366037/366037 [==============================] - 14s 39us/step - loss: 3.6758 - channel_loss: 0.8036 - baseline_loss: 1.9869 - channel_acc: 0.5893 - baseline_acc: 0.5005 - val_loss: 3.6333 - val_channel_loss: 0.7917 - val_baseline_loss: 1.9971 - val_channel_acc: 0.5972 - val_baseline_acc: 0.5065\n",
      "Epoch 94/100\n",
      "366037/366037 [==============================] - 14s 39us/step - loss: 3.6162 - channel_loss: 0.8046 - baseline_loss: 2.0020 - channel_acc: 0.5892 - baseline_acc: 0.5003 - val_loss: 3.5742 - val_channel_loss: 0.7925 - val_baseline_loss: 2.0064 - val_channel_acc: 0.5973 - val_baseline_acc: 0.5061\n",
      "Epoch 95/100\n",
      "366037/366037 [==============================] - 14s 39us/step - loss: 3.5579 - channel_loss: 0.8054 - baseline_loss: 2.0155 - channel_acc: 0.5891 - baseline_acc: 0.5004 - val_loss: 3.5169 - val_channel_loss: 0.7933 - val_baseline_loss: 2.0255 - val_channel_acc: 0.5966 - val_baseline_acc: 0.5058\n",
      "Epoch 96/100\n",
      "366037/366037 [==============================] - 14s 39us/step - loss: 3.5015 - channel_loss: 0.8063 - baseline_loss: 2.0298 - channel_acc: 0.5890 - baseline_acc: 0.5005 - val_loss: 3.4612 - val_channel_loss: 0.7941 - val_baseline_loss: 2.0450 - val_channel_acc: 0.5969 - val_baseline_acc: 0.5061\n",
      "Epoch 97/100\n",
      "366037/366037 [==============================] - 14s 40us/step - loss: 3.4470 - channel_loss: 0.8074 - baseline_loss: 2.0420 - channel_acc: 0.5888 - baseline_acc: 0.5001 - val_loss: 3.4072 - val_channel_loss: 0.7950 - val_baseline_loss: 2.0603 - val_channel_acc: 0.5959 - val_baseline_acc: 0.5063\n",
      "Epoch 98/100\n",
      "366037/366037 [==============================] - 14s 39us/step - loss: 3.3935 - channel_loss: 0.8081 - baseline_loss: 2.0547 - channel_acc: 0.5889 - baseline_acc: 0.4999 - val_loss: 3.3545 - val_channel_loss: 0.7955 - val_baseline_loss: 2.0671 - val_channel_acc: 0.5972 - val_baseline_acc: 0.5064\n",
      "Epoch 99/100\n",
      "366037/366037 [==============================] - 14s 39us/step - loss: 3.3419 - channel_loss: 0.8090 - baseline_loss: 2.0699 - channel_acc: 0.5888 - baseline_acc: 0.4999 - val_loss: 3.3033 - val_channel_loss: 0.7963 - val_baseline_loss: 2.0881 - val_channel_acc: 0.5971 - val_baseline_acc: 0.5067\n",
      "Epoch 100/100\n",
      "366037/366037 [==============================] - 14s 39us/step - loss: 3.2910 - channel_loss: 0.8093 - baseline_loss: 2.0794 - channel_acc: 0.5892 - baseline_acc: 0.5004 - val_loss: 3.2541 - val_channel_loss: 0.7974 - val_baseline_loss: 2.0998 - val_channel_acc: 0.5960 - val_baseline_acc: 0.5056\n"
     ]
    }
   ],
   "source": [
    "train_res = simple_model.fit(X_train_train,\n",
    "                      [Y_train_train,Y_train_train],\n",
    "                      batch_size=batch_size,\n",
    "                      epochs=100,\n",
    "                      verbose=True,\n",
    "                      validation_data=(X_train_val,\n",
    "                                       [Y_train_val,Y_train_val]),\n",
    "                      callbacks=\n",
    "                      [EarlyStopping(patience=3,mode='min',verbose=True)]\n",
    "                      )"
   ]
  },
  {
   "cell_type": "code",
   "execution_count": null,
   "metadata": {
    "collapsed": true
   },
   "outputs": [],
   "source": []
  },
  {
   "cell_type": "code",
   "execution_count": 246,
   "metadata": {},
   "outputs": [
    {
     "data": {
      "text/plain": [
       "{'baseline_acc': 0.49163530383697446,\n",
       " 'baseline_loss': 2.0887858594407156,\n",
       " 'channel_acc': 0.60979093996695433,\n",
       " 'channel_loss': 0.7949226043498776,\n",
       " 'loss': 3.2515737548188723}"
      ]
     },
     "execution_count": 246,
     "metadata": {},
     "output_type": "execute_result"
    }
   ],
   "source": [
    "eval(simple_model,y_test=[Y_test,Y_test])"
   ]
  },
  {
   "cell_type": "code",
   "execution_count": 247,
   "metadata": {},
   "outputs": [
    {
     "data": {
      "text/html": [
       "<div>\n",
       "<style>\n",
       "    .dataframe thead tr:only-child th {\n",
       "        text-align: right;\n",
       "    }\n",
       "\n",
       "    .dataframe thead th {\n",
       "        text-align: left;\n",
       "    }\n",
       "\n",
       "    .dataframe tbody tr th {\n",
       "        vertical-align: top;\n",
       "    }\n",
       "</style>\n",
       "<table border=\"1\" class=\"dataframe\">\n",
       "  <thead>\n",
       "    <tr style=\"text-align: right;\">\n",
       "      <th></th>\n",
       "      <th>Elevation</th>\n",
       "      <th>Aspect</th>\n",
       "      <th>Slope</th>\n",
       "      <th>Horizontal_Distance_To_Hydrology</th>\n",
       "      <th>Vertical_Distance_To_Hydrology</th>\n",
       "      <th>Horizontal_Distance_To_Roadways</th>\n",
       "      <th>Hillshade_9am</th>\n",
       "      <th>Hillshade_Noon</th>\n",
       "      <th>Hillshade_3pm</th>\n",
       "      <th>Horizontal_Distance_To_Fire_Points</th>\n",
       "      <th>...</th>\n",
       "      <th>Soil_Type_35</th>\n",
       "      <th>Soil_Type_36</th>\n",
       "      <th>Soil_Type_37</th>\n",
       "      <th>Soil_Type_38</th>\n",
       "      <th>Soil_Type_39</th>\n",
       "      <th>Soil_Type_40</th>\n",
       "      <th>Wilderness_Area_1</th>\n",
       "      <th>Wilderness_Area_2</th>\n",
       "      <th>Wilderness_Area_3</th>\n",
       "      <th>Wilderness_Area_4</th>\n",
       "    </tr>\n",
       "  </thead>\n",
       "  <tbody>\n",
       "    <tr>\n",
       "      <th>3990</th>\n",
       "      <td>-2.940916</td>\n",
       "      <td>-1.176484</td>\n",
       "      <td>0.920171</td>\n",
       "      <td>-1.127079</td>\n",
       "      <td>-0.676873</td>\n",
       "      <td>-0.787048</td>\n",
       "      <td>-0.342117</td>\n",
       "      <td>-1.737584</td>\n",
       "      <td>-0.717244</td>\n",
       "      <td>-0.383433</td>\n",
       "      <td>...</td>\n",
       "      <td>0</td>\n",
       "      <td>0</td>\n",
       "      <td>0</td>\n",
       "      <td>0</td>\n",
       "      <td>0</td>\n",
       "      <td>0</td>\n",
       "      <td>0</td>\n",
       "      <td>0</td>\n",
       "      <td>0</td>\n",
       "      <td>1</td>\n",
       "    </tr>\n",
       "    <tr>\n",
       "      <th>269758</th>\n",
       "      <td>-2.905167</td>\n",
       "      <td>-0.675744</td>\n",
       "      <td>0.652874</td>\n",
       "      <td>-0.561127</td>\n",
       "      <td>0.594638</td>\n",
       "      <td>-1.302943</td>\n",
       "      <td>1.075192</td>\n",
       "      <td>-1.079161</td>\n",
       "      <td>-1.526362</td>\n",
       "      <td>-1.054360</td>\n",
       "      <td>...</td>\n",
       "      <td>0</td>\n",
       "      <td>0</td>\n",
       "      <td>0</td>\n",
       "      <td>0</td>\n",
       "      <td>0</td>\n",
       "      <td>0</td>\n",
       "      <td>0</td>\n",
       "      <td>0</td>\n",
       "      <td>0</td>\n",
       "      <td>1</td>\n",
       "    </tr>\n",
       "    <tr>\n",
       "      <th>418575</th>\n",
       "      <td>-0.556407</td>\n",
       "      <td>1.577588</td>\n",
       "      <td>0.118281</td>\n",
       "      <td>-0.443220</td>\n",
       "      <td>-0.401952</td>\n",
       "      <td>-0.043006</td>\n",
       "      <td>-1.050771</td>\n",
       "      <td>-0.167499</td>\n",
       "      <td>0.848791</td>\n",
       "      <td>-0.728719</td>\n",
       "      <td>...</td>\n",
       "      <td>0</td>\n",
       "      <td>0</td>\n",
       "      <td>0</td>\n",
       "      <td>0</td>\n",
       "      <td>0</td>\n",
       "      <td>0</td>\n",
       "      <td>0</td>\n",
       "      <td>0</td>\n",
       "      <td>1</td>\n",
       "      <td>0</td>\n",
       "    </tr>\n",
       "    <tr>\n",
       "      <th>227405</th>\n",
       "      <td>-1.014004</td>\n",
       "      <td>1.121557</td>\n",
       "      <td>3.192193</td>\n",
       "      <td>1.240486</td>\n",
       "      <td>2.897103</td>\n",
       "      <td>-1.001737</td>\n",
       "      <td>-4.407555</td>\n",
       "      <td>-0.522034</td>\n",
       "      <td>2.649731</td>\n",
       "      <td>-0.094058</td>\n",
       "      <td>...</td>\n",
       "      <td>0</td>\n",
       "      <td>0</td>\n",
       "      <td>0</td>\n",
       "      <td>0</td>\n",
       "      <td>0</td>\n",
       "      <td>0</td>\n",
       "      <td>0</td>\n",
       "      <td>0</td>\n",
       "      <td>1</td>\n",
       "      <td>0</td>\n",
       "    </tr>\n",
       "    <tr>\n",
       "      <th>540541</th>\n",
       "      <td>1.517079</td>\n",
       "      <td>1.362985</td>\n",
       "      <td>1.722061</td>\n",
       "      <td>-0.363044</td>\n",
       "      <td>0.422812</td>\n",
       "      <td>-0.656312</td>\n",
       "      <td>-2.766461</td>\n",
       "      <td>-0.522034</td>\n",
       "      <td>1.762311</td>\n",
       "      <td>-0.247434</td>\n",
       "      <td>...</td>\n",
       "      <td>0</td>\n",
       "      <td>0</td>\n",
       "      <td>0</td>\n",
       "      <td>0</td>\n",
       "      <td>1</td>\n",
       "      <td>0</td>\n",
       "      <td>0</td>\n",
       "      <td>1</td>\n",
       "      <td>0</td>\n",
       "      <td>0</td>\n",
       "    </tr>\n",
       "  </tbody>\n",
       "</table>\n",
       "<p>5 rows × 63 columns</p>\n",
       "</div>"
      ],
      "text/plain": [
       "        Elevation    Aspect     Slope  Horizontal_Distance_To_Hydrology  \\\n",
       "3990    -2.940916 -1.176484  0.920171                         -1.127079   \n",
       "269758  -2.905167 -0.675744  0.652874                         -0.561127   \n",
       "418575  -0.556407  1.577588  0.118281                         -0.443220   \n",
       "227405  -1.014004  1.121557  3.192193                          1.240486   \n",
       "540541   1.517079  1.362985  1.722061                         -0.363044   \n",
       "\n",
       "        Vertical_Distance_To_Hydrology  Horizontal_Distance_To_Roadways  \\\n",
       "3990                         -0.676873                        -0.787048   \n",
       "269758                        0.594638                        -1.302943   \n",
       "418575                       -0.401952                        -0.043006   \n",
       "227405                        2.897103                        -1.001737   \n",
       "540541                        0.422812                        -0.656312   \n",
       "\n",
       "        Hillshade_9am  Hillshade_Noon  Hillshade_3pm  \\\n",
       "3990        -0.342117       -1.737584      -0.717244   \n",
       "269758       1.075192       -1.079161      -1.526362   \n",
       "418575      -1.050771       -0.167499       0.848791   \n",
       "227405      -4.407555       -0.522034       2.649731   \n",
       "540541      -2.766461       -0.522034       1.762311   \n",
       "\n",
       "        Horizontal_Distance_To_Fire_Points        ...          Soil_Type_35  \\\n",
       "3990                             -0.383433        ...                     0   \n",
       "269758                           -1.054360        ...                     0   \n",
       "418575                           -0.728719        ...                     0   \n",
       "227405                           -0.094058        ...                     0   \n",
       "540541                           -0.247434        ...                     0   \n",
       "\n",
       "        Soil_Type_36  Soil_Type_37  Soil_Type_38  Soil_Type_39  Soil_Type_40  \\\n",
       "3990               0             0             0             0             0   \n",
       "269758             0             0             0             0             0   \n",
       "418575             0             0             0             0             0   \n",
       "227405             0             0             0             0             0   \n",
       "540541             0             0             0             1             0   \n",
       "\n",
       "        Wilderness_Area_1  Wilderness_Area_2  Wilderness_Area_3  \\\n",
       "3990                    0                  0                  0   \n",
       "269758                  0                  0                  0   \n",
       "418575                  0                  0                  1   \n",
       "227405                  0                  0                  1   \n",
       "540541                  0                  1                  0   \n",
       "\n",
       "        Wilderness_Area_4  \n",
       "3990                    1  \n",
       "269758                  1  \n",
       "418575                  0  \n",
       "227405                  0  \n",
       "540541                  0  \n",
       "\n",
       "[5 rows x 63 columns]"
      ]
     },
     "execution_count": 247,
     "metadata": {},
     "output_type": "execute_result"
    }
   ],
   "source": [
    "X_test.head()"
   ]
  },
  {
   "cell_type": "code",
   "execution_count": 248,
   "metadata": {
    "collapsed": true
   },
   "outputs": [],
   "source": [
    "preds=simple_model.predict(X_test.values)"
   ]
  },
  {
   "cell_type": "code",
   "execution_count": 249,
   "metadata": {
    "collapsed": true
   },
   "outputs": [],
   "source": [
    "preds_max=np.argmax(preds[0],axis=-1)"
   ]
  },
  {
   "cell_type": "code",
   "execution_count": 250,
   "metadata": {},
   "outputs": [
    {
     "data": {
      "text/plain": [
       "(174304,)"
      ]
     },
     "execution_count": 250,
     "metadata": {},
     "output_type": "execute_result"
    }
   ],
   "source": [
    "preds_max.shape"
   ]
  },
  {
   "cell_type": "code",
   "execution_count": null,
   "metadata": {
    "collapsed": true
   },
   "outputs": [],
   "source": []
  },
  {
   "cell_type": "code",
   "execution_count": 251,
   "metadata": {
    "collapsed": true
   },
   "outputs": [],
   "source": [
    "Y_test_df=pd.DataFrame(Y_test,columns=['Cover_Type'])"
   ]
  },
  {
   "cell_type": "code",
   "execution_count": 252,
   "metadata": {},
   "outputs": [
    {
     "data": {
      "text/plain": [
       "1    84991\n",
       "0    63552\n",
       "2    10726\n",
       "6     6153\n",
       "5     5210\n",
       "4     2848\n",
       "3      824\n",
       "Name: Cover_Type, dtype: int64"
      ]
     },
     "execution_count": 252,
     "metadata": {},
     "output_type": "execute_result"
    }
   ],
   "source": [
    "Y_test_df['Cover_Type'].value_counts()"
   ]
  },
  {
   "cell_type": "code",
   "execution_count": 253,
   "metadata": {},
   "outputs": [
    {
     "name": "stderr",
     "output_type": "stream",
     "text": [
      "/usr/local/anaconda3/5.0.1/lib/python3.6/site-packages/matplotlib/font_manager.py:1316: UserWarning: findfont: Font family ['normal'] not found. Falling back to DejaVu Sans\n",
      "  (prop.get_family(), self.defaultFamily[fontext]))\n"
     ]
    },
    {
     "data": {
      "image/png": "[encoded data removed]",
      "text/plain": [
       "<matplotlib.figure.Figure at 0x7ff38a2b85f8>"
      ]
     },
     "metadata": {},
     "output_type": "display_data"
    }
   ],
   "source": [
    "cnf_matrix = confusion_matrix(Y_test,preds_max)\n",
    "np.set_printoptions(precision=2)\n",
    "\n",
    "#print(\"Recall metric in the testing dataset: \", cnf_matrix[1,1]/(cnf_matrix[1,0]+cnf_matrix[1,1]))\n",
    "\n",
    "# Plot non-normalized confusion matrix\n",
    "class_names = ['C type-1','C type-2','C type-3','C type-4','C type-5','C type-6','C type-7']\n",
    "plt.figure(figsize=(15, 10))\n",
    "plot_confusion_matrix(cnf_matrix\n",
    "                      , classes=class_names\n",
    "                      , title='Confusion matrix')\n",
    "plt.grid('off')\n",
    "plt.show()"
   ]
  },
  {
   "cell_type": "code",
   "execution_count": 254,
   "metadata": {
    "collapsed": true
   },
   "outputs": [],
   "source": [
    "from sklearn.metrics import accuracy_score"
   ]
  },
  {
   "cell_type": "code",
   "execution_count": 255,
   "metadata": {},
   "outputs": [
    {
     "data": {
      "text/plain": [
       "0.60979093996695433"
      ]
     },
     "execution_count": 255,
     "metadata": {},
     "output_type": "execute_result"
    }
   ],
   "source": [
    "accuracy_score(Y_test,preds_max.ravel())"
   ]
  },
  {
   "cell_type": "code",
   "execution_count": 256,
   "metadata": {},
   "outputs": [
    {
     "name": "stdout",
     "output_type": "stream",
     "text": [
      "------------------------Classification Report-------------------------------\n",
      "             precision    recall  f1-score   support\n",
      "\n",
      "          0       0.00      0.00      0.00     63552\n",
      "          1       0.57      0.99      0.72     84991\n",
      "          2       0.87      0.93      0.90     10726\n",
      "          3       0.90      0.62      0.73       824\n",
      "          4       0.84      0.63      0.72      2848\n",
      "          5       0.84      0.78      0.81      5210\n",
      "          6       0.89      0.96      0.92      6153\n",
      "\n",
      "avg / total       0.40      0.61      0.48    174304\n",
      "\n"
     ]
    },
    {
     "name": "stderr",
     "output_type": "stream",
     "text": [
      "/usr/local/anaconda3/5.0.1/lib/python3.6/site-packages/sklearn/metrics/classification.py:1135: UndefinedMetricWarning: Precision and F-score are ill-defined and being set to 0.0 in labels with no predicted samples.\n",
      "  'precision', 'predicted', average, warn_for)\n"
     ]
    }
   ],
   "source": [
    "print('------------------------Classification Report-------------------------------')\n",
    "print(classification_report(Y_test,preds_max.ravel()))"
   ]
  },
  {
   "cell_type": "code",
   "execution_count": 257,
   "metadata": {
    "collapsed": true
   },
   "outputs": [],
   "source": [
    "from keras.layers import merge\n",
    "from keras.layers import concatenate\n",
    "from keras.layers import Dot\n",
    "from keras.layers import Reshape"
   ]
  },
  {
   "cell_type": "code",
   "execution_count": 258,
   "metadata": {},
   "outputs": [
    {
     "name": "stderr",
     "output_type": "stream",
     "text": [
      "/usr/local/anaconda3/5.0.1/lib/python3.6/site-packages/ipykernel_launcher.py:4: UserWarning: The `merge` function is deprecated and will be removed after 08/2017. Use instead layers from `keras.layers.merge`, e.g. `add`, `concatenate`, etc.\n",
      "  after removing the cwd from sys.path.\n",
      "/usr/local/anaconda3/5.0.1/lib/python3.6/site-packages/keras/legacy/layers.py:458: UserWarning: The `Merge` layer is deprecated and will be removed after 08/2017. Use instead layers from `keras.layers.merge`, e.g. `add`, `concatenate`, etc.\n",
      "  name=name)\n"
     ]
    }
   ],
   "source": [
    "channel_matrix = [Dense(nb_classes,activation='softmax',kernel_regularizer=regularizers.l2(0.01),name='dense_class%d'%i,weights=[0.05*(np.random.random((nhidden,nb_classes)) - 0.5),channel_weights[i]])(last_hidden)for i in range(nb_classes)]\n",
    "channel_matrix = concatenate(channel_matrix)\n",
    "channel_matrix = Reshape((nb_classes,nb_classes))(channel_matrix)\n",
    "channeled_output = merge([channel_matrix, baseline_output], mode='dot', dot_axes=(1,1), name='channel')"
   ]
  },
  {
   "cell_type": "code",
   "execution_count": 259,
   "metadata": {
    "collapsed": true
   },
   "outputs": [],
   "source": [
    "if BETA ==1:\n",
    "    complex_model = Model(inputs=train_inputs, outputs=[baseline_output])\n",
    "    complex_model.compile(loss='sparse_categorical_crossentropy',optimizer=sgd,metrics=['accuracy'])\n",
    "else:\n",
    "    complex_model = Model(inputs=train_inputs, outputs=[channeled_output, baseline_output])\n",
    "    complex_model.compile(loss='sparse_categorical_crossentropy',loss_weights=[1.-BETA, BETA],optimizer=sgd,metrics=['accuracy'])"
   ]
  },
  {
   "cell_type": "code",
   "execution_count": 260,
   "metadata": {},
   "outputs": [
    {
     "name": "stdout",
     "output_type": "stream",
     "text": [
      "__________________________________________________________________________________________________\n",
      "Layer (type)                    Output Shape         Param #     Connected to                     \n",
      "==================================================================================================\n",
      "input_3 (InputLayer)            (None, 63)           0                                            \n",
      "__________________________________________________________________________________________________\n",
      "hidden (Sequential)             (None, 100)          267000      input_3[0][0]                    \n",
      "__________________________________________________________________________________________________\n",
      "dense_class0 (Dense)            (None, 7)            707         hidden[1][0]                     \n",
      "__________________________________________________________________________________________________\n",
      "dense_class1 (Dense)            (None, 7)            707         hidden[1][0]                     \n",
      "__________________________________________________________________________________________________\n",
      "dense_class2 (Dense)            (None, 7)            707         hidden[1][0]                     \n",
      "__________________________________________________________________________________________________\n",
      "dense_class3 (Dense)            (None, 7)            707         hidden[1][0]                     \n",
      "__________________________________________________________________________________________________\n",
      "dense_class4 (Dense)            (None, 7)            707         hidden[1][0]                     \n",
      "__________________________________________________________________________________________________\n",
      "dense_class5 (Dense)            (None, 7)            707         hidden[1][0]                     \n",
      "__________________________________________________________________________________________________\n",
      "dense_class6 (Dense)            (None, 7)            707         hidden[1][0]                     \n",
      "__________________________________________________________________________________________________\n",
      "concatenate_3 (Concatenate)     (None, 49)           0           dense_class0[0][0]               \n",
      "                                                                 dense_class1[0][0]               \n",
      "                                                                 dense_class2[0][0]               \n",
      "                                                                 dense_class3[0][0]               \n",
      "                                                                 dense_class4[0][0]               \n",
      "                                                                 dense_class5[0][0]               \n",
      "                                                                 dense_class6[0][0]               \n",
      "__________________________________________________________________________________________________\n",
      "reshape_3 (Reshape)             (None, 7, 7)         0           concatenate_3[0][0]              \n",
      "__________________________________________________________________________________________________\n",
      "baseline (Dense)                (None, 7)            707         hidden[1][0]                     \n",
      "__________________________________________________________________________________________________\n",
      "channel (Merge)                 (None, 7)            0           reshape_3[0][0]                  \n",
      "                                                                 baseline[0][0]                   \n",
      "==================================================================================================\n",
      "Total params: 272,656\n",
      "Trainable params: 270,456\n",
      "Non-trainable params: 2,200\n",
      "__________________________________________________________________________________________________\n"
     ]
    }
   ],
   "source": [
    "complex_model.summary()"
   ]
  },
  {
   "cell_type": "code",
   "execution_count": 261,
   "metadata": {},
   "outputs": [
    {
     "name": "stdout",
     "output_type": "stream",
     "text": [
      "Train on 366037 samples, validate on 40671 samples\n",
      "Epoch 1/2000\n",
      "366037/366037 [==============================] - 16s 45us/step - loss: 0.7609 - channel_loss: 0.6925 - baseline_loss: 2.0439 - channel_acc: 0.5848 - baseline_acc: 0.5002 - val_loss: 0.7320 - val_channel_loss: 0.6638 - val_baseline_loss: 2.0313 - val_channel_acc: 0.6165 - val_baseline_acc: 0.5071\n",
      "Epoch 2/2000\n",
      "366037/366037 [==============================] - 15s 41us/step - loss: 0.7498 - channel_loss: 0.6817 - baseline_loss: 2.0081 - channel_acc: 0.6107 - baseline_acc: 0.5003 - val_loss: 0.7269 - val_channel_loss: 0.6590 - val_baseline_loss: 2.0097 - val_channel_acc: 0.6236 - val_baseline_acc: 0.5073\n",
      "Epoch 3/2000\n",
      "366037/366037 [==============================] - 15s 41us/step - loss: 0.7476 - channel_loss: 0.6798 - baseline_loss: 1.9783 - channel_acc: 0.6120 - baseline_acc: 0.5003 - val_loss: 0.7247 - val_channel_loss: 0.6570 - val_baseline_loss: 1.9651 - val_channel_acc: 0.6251 - val_baseline_acc: 0.5078\n",
      "Epoch 4/2000\n",
      "366037/366037 [==============================] - 15s 41us/step - loss: 0.7455 - channel_loss: 0.6779 - baseline_loss: 1.9541 - channel_acc: 0.6144 - baseline_acc: 0.5005 - val_loss: 0.7226 - val_channel_loss: 0.6550 - val_baseline_loss: 1.9469 - val_channel_acc: 0.6269 - val_baseline_acc: 0.5077\n",
      "Epoch 5/2000\n",
      "366037/366037 [==============================] - 15s 42us/step - loss: 0.7443 - channel_loss: 0.6768 - baseline_loss: 1.9298 - channel_acc: 0.6151 - baseline_acc: 0.5005 - val_loss: 0.7214 - val_channel_loss: 0.6540 - val_baseline_loss: 1.9199 - val_channel_acc: 0.6279 - val_baseline_acc: 0.5080\n",
      "Epoch 6/2000\n",
      "366037/366037 [==============================] - 15s 42us/step - loss: 0.7425 - channel_loss: 0.6753 - baseline_loss: 1.9065 - channel_acc: 0.6164 - baseline_acc: 0.5006 - val_loss: 0.7200 - val_channel_loss: 0.6528 - val_baseline_loss: 1.9072 - val_channel_acc: 0.6283 - val_baseline_acc: 0.5077\n",
      "Epoch 7/2000\n",
      "366037/366037 [==============================] - 15s 42us/step - loss: 0.7418 - channel_loss: 0.6747 - baseline_loss: 1.8864 - channel_acc: 0.6163 - baseline_acc: 0.5008 - val_loss: 0.7188 - val_channel_loss: 0.6518 - val_baseline_loss: 1.8832 - val_channel_acc: 0.6301 - val_baseline_acc: 0.5081\n",
      "Epoch 8/2000\n",
      "366037/366037 [==============================] - 15s 41us/step - loss: 0.7411 - channel_loss: 0.6741 - baseline_loss: 1.8665 - channel_acc: 0.6173 - baseline_acc: 0.5005 - val_loss: 0.7177 - val_channel_loss: 0.6509 - val_baseline_loss: 1.8543 - val_channel_acc: 0.6295 - val_baseline_acc: 0.5079\n",
      "Epoch 9/2000\n",
      "366037/366037 [==============================] - 15s 41us/step - loss: 0.7398 - channel_loss: 0.6731 - baseline_loss: 1.8483 - channel_acc: 0.6174 - baseline_acc: 0.5007 - val_loss: 0.7170 - val_channel_loss: 0.6504 - val_baseline_loss: 1.8417 - val_channel_acc: 0.6309 - val_baseline_acc: 0.5081\n",
      "Epoch 10/2000\n",
      "366037/366037 [==============================] - 15s 41us/step - loss: 0.7395 - channel_loss: 0.6729 - baseline_loss: 1.8289 - channel_acc: 0.6176 - baseline_acc: 0.5004 - val_loss: 0.7167 - val_channel_loss: 0.6502 - val_baseline_loss: 1.8220 - val_channel_acc: 0.6312 - val_baseline_acc: 0.5078\n",
      "Epoch 11/2000\n",
      "366037/366037 [==============================] - 15s 41us/step - loss: 0.7389 - channel_loss: 0.6725 - baseline_loss: 1.8118 - channel_acc: 0.6178 - baseline_acc: 0.5006 - val_loss: 0.7156 - val_channel_loss: 0.6492 - val_baseline_loss: 1.8037 - val_channel_acc: 0.6317 - val_baseline_acc: 0.5075\n",
      "Epoch 12/2000\n",
      "366037/366037 [==============================] - 15s 41us/step - loss: 0.7382 - channel_loss: 0.6719 - baseline_loss: 1.7959 - channel_acc: 0.6186 - baseline_acc: 0.5006 - val_loss: 0.7156 - val_channel_loss: 0.6494 - val_baseline_loss: 1.7826 - val_channel_acc: 0.6314 - val_baseline_acc: 0.5080\n",
      "Epoch 13/2000\n",
      "366037/366037 [==============================] - 15s 41us/step - loss: 0.7376 - channel_loss: 0.6714 - baseline_loss: 1.7804 - channel_acc: 0.6191 - baseline_acc: 0.5008 - val_loss: 0.7153 - val_channel_loss: 0.6492 - val_baseline_loss: 1.7724 - val_channel_acc: 0.6318 - val_baseline_acc: 0.5077\n",
      "Epoch 14/2000\n",
      "366037/366037 [==============================] - 15s 41us/step - loss: 0.7372 - channel_loss: 0.6712 - baseline_loss: 1.7664 - channel_acc: 0.6185 - baseline_acc: 0.5006 - val_loss: 0.7157 - val_channel_loss: 0.6497 - val_baseline_loss: 1.7659 - val_channel_acc: 0.6314 - val_baseline_acc: 0.5070\n",
      "Epoch 15/2000\n",
      "366037/366037 [==============================] - 15s 41us/step - loss: 0.7363 - channel_loss: 0.6704 - baseline_loss: 1.7522 - channel_acc: 0.6192 - baseline_acc: 0.5012 - val_loss: 0.7139 - val_channel_loss: 0.6481 - val_baseline_loss: 1.7468 - val_channel_acc: 0.6323 - val_baseline_acc: 0.5077\n",
      "Epoch 16/2000\n",
      "366037/366037 [==============================] - 15s 41us/step - loss: 0.7363 - channel_loss: 0.6704 - baseline_loss: 1.7404 - channel_acc: 0.6197 - baseline_acc: 0.5008 - val_loss: 0.7132 - val_channel_loss: 0.6474 - val_baseline_loss: 1.7423 - val_channel_acc: 0.6326 - val_baseline_acc: 0.5076\n",
      "Epoch 17/2000\n",
      "366037/366037 [==============================] - 15s 42us/step - loss: 0.7350 - channel_loss: 0.6692 - baseline_loss: 1.7279 - channel_acc: 0.6194 - baseline_acc: 0.5012 - val_loss: 0.7130 - val_channel_loss: 0.6473 - val_baseline_loss: 1.7219 - val_channel_acc: 0.6327 - val_baseline_acc: 0.5081\n",
      "Epoch 18/2000\n",
      "366037/366037 [==============================] - 15s 41us/step - loss: 0.7350 - channel_loss: 0.6694 - baseline_loss: 1.7175 - channel_acc: 0.6204 - baseline_acc: 0.5008 - val_loss: 0.7132 - val_channel_loss: 0.6476 - val_baseline_loss: 1.7033 - val_channel_acc: 0.6334 - val_baseline_acc: 0.5083\n",
      "Epoch 19/2000\n",
      "366037/366037 [==============================] - 15s 41us/step - loss: 0.7352 - channel_loss: 0.6697 - baseline_loss: 1.7059 - channel_acc: 0.6198 - baseline_acc: 0.5007 - val_loss: 0.7124 - val_channel_loss: 0.6469 - val_baseline_loss: 1.6999 - val_channel_acc: 0.6336 - val_baseline_acc: 0.5081\n",
      "Epoch 20/2000\n",
      "366037/366037 [==============================] - 15s 42us/step - loss: 0.7343 - channel_loss: 0.6688 - baseline_loss: 1.6949 - channel_acc: 0.6208 - baseline_acc: 0.5010 - val_loss: 0.7131 - val_channel_loss: 0.6477 - val_baseline_loss: 1.6857 - val_channel_acc: 0.6322 - val_baseline_acc: 0.5081\n",
      "Epoch 21/2000\n",
      "366037/366037 [==============================] - 15s 41us/step - loss: 0.7341 - channel_loss: 0.6687 - baseline_loss: 1.6845 - channel_acc: 0.6204 - baseline_acc: 0.5009 - val_loss: 0.7120 - val_channel_loss: 0.6467 - val_baseline_loss: 1.6805 - val_channel_acc: 0.6332 - val_baseline_acc: 0.5082\n",
      "Epoch 22/2000\n",
      "366037/366037 [==============================] - 15s 42us/step - loss: 0.7344 - channel_loss: 0.6692 - baseline_loss: 1.6768 - channel_acc: 0.6204 - baseline_acc: 0.5005 - val_loss: 0.7116 - val_channel_loss: 0.6464 - val_baseline_loss: 1.6686 - val_channel_acc: 0.6344 - val_baseline_acc: 0.5083\n",
      "Epoch 23/2000\n",
      "366037/366037 [==============================] - 15s 41us/step - loss: 0.7334 - channel_loss: 0.6682 - baseline_loss: 1.6659 - channel_acc: 0.6203 - baseline_acc: 0.5010 - val_loss: 0.7106 - val_channel_loss: 0.6454 - val_baseline_loss: 1.6612 - val_channel_acc: 0.6334 - val_baseline_acc: 0.5083\n",
      "Epoch 24/2000\n",
      "366037/366037 [==============================] - 15s 41us/step - loss: 0.7330 - channel_loss: 0.6679 - baseline_loss: 1.6592 - channel_acc: 0.6211 - baseline_acc: 0.5009 - val_loss: 0.7111 - val_channel_loss: 0.6460 - val_baseline_loss: 1.6536 - val_channel_acc: 0.6339 - val_baseline_acc: 0.5084\n",
      "Epoch 25/2000\n",
      "366037/366037 [==============================] - 15s 42us/step - loss: 0.7334 - channel_loss: 0.6684 - baseline_loss: 1.6515 - channel_acc: 0.6215 - baseline_acc: 0.5009 - val_loss: 0.7108 - val_channel_loss: 0.6458 - val_baseline_loss: 1.6402 - val_channel_acc: 0.6333 - val_baseline_acc: 0.5082\n",
      "Epoch 26/2000\n",
      "366037/366037 [==============================] - 15s 41us/step - loss: 0.7327 - channel_loss: 0.6677 - baseline_loss: 1.6436 - channel_acc: 0.6221 - baseline_acc: 0.5013 - val_loss: 0.7102 - val_channel_loss: 0.6453 - val_baseline_loss: 1.6306 - val_channel_acc: 0.6334 - val_baseline_acc: 0.5085\n",
      "Epoch 27/2000\n"
     ]
    },
    {
     "name": "stdout",
     "output_type": "stream",
     "text": [
      "366037/366037 [==============================] - 15s 41us/step - loss: 0.7320 - channel_loss: 0.6671 - baseline_loss: 1.6357 - channel_acc: 0.6213 - baseline_acc: 0.5010 - val_loss: 0.7099 - val_channel_loss: 0.6451 - val_baseline_loss: 1.6250 - val_channel_acc: 0.6338 - val_baseline_acc: 0.5088\n",
      "Epoch 28/2000\n",
      "366037/366037 [==============================] - 15s 41us/step - loss: 0.7321 - channel_loss: 0.6673 - baseline_loss: 1.6304 - channel_acc: 0.6216 - baseline_acc: 0.5011 - val_loss: 0.7101 - val_channel_loss: 0.6454 - val_baseline_loss: 1.6202 - val_channel_acc: 0.6340 - val_baseline_acc: 0.5080\n",
      "Epoch 29/2000\n",
      "366037/366037 [==============================] - 15s 41us/step - loss: 0.7316 - channel_loss: 0.6669 - baseline_loss: 1.6228 - channel_acc: 0.6222 - baseline_acc: 0.5012 - val_loss: 0.7097 - val_channel_loss: 0.6450 - val_baseline_loss: 1.6194 - val_channel_acc: 0.6333 - val_baseline_acc: 0.5082\n",
      "Epoch 30/2000\n",
      "366037/366037 [==============================] - 15s 41us/step - loss: 0.7316 - channel_loss: 0.6669 - baseline_loss: 1.6160 - channel_acc: 0.6222 - baseline_acc: 0.5015 - val_loss: 0.7094 - val_channel_loss: 0.6448 - val_baseline_loss: 1.6128 - val_channel_acc: 0.6340 - val_baseline_acc: 0.5083\n",
      "Epoch 31/2000\n",
      "366037/366037 [==============================] - 15s 41us/step - loss: 0.7317 - channel_loss: 0.6671 - baseline_loss: 1.6112 - channel_acc: 0.6216 - baseline_acc: 0.5010 - val_loss: 0.7085 - val_channel_loss: 0.6440 - val_baseline_loss: 1.6022 - val_channel_acc: 0.6337 - val_baseline_acc: 0.5084\n",
      "Epoch 32/2000\n",
      "366037/366037 [==============================] - 15s 41us/step - loss: 0.7312 - channel_loss: 0.6666 - baseline_loss: 1.6050 - channel_acc: 0.6216 - baseline_acc: 0.5012 - val_loss: 0.7091 - val_channel_loss: 0.6446 - val_baseline_loss: 1.6013 - val_channel_acc: 0.6332 - val_baseline_acc: 0.5084\n",
      "Epoch 33/2000\n",
      "366037/366037 [==============================] - 15s 41us/step - loss: 0.7311 - channel_loss: 0.6666 - baseline_loss: 1.5986 - channel_acc: 0.6217 - baseline_acc: 0.5015 - val_loss: 0.7089 - val_channel_loss: 0.6445 - val_baseline_loss: 1.5945 - val_channel_acc: 0.6344 - val_baseline_acc: 0.5085\n",
      "Epoch 34/2000\n",
      "366037/366037 [==============================] - 15s 41us/step - loss: 0.7308 - channel_loss: 0.6664 - baseline_loss: 1.5939 - channel_acc: 0.6213 - baseline_acc: 0.5014 - val_loss: 0.7085 - val_channel_loss: 0.6441 - val_baseline_loss: 1.5907 - val_channel_acc: 0.6341 - val_baseline_acc: 0.5082\n",
      "Epoch 35/2000\n",
      "366037/366037 [==============================] - 15s 41us/step - loss: 0.7301 - channel_loss: 0.6657 - baseline_loss: 1.5902 - channel_acc: 0.6217 - baseline_acc: 0.5014 - val_loss: 0.7079 - val_channel_loss: 0.6436 - val_baseline_loss: 1.5740 - val_channel_acc: 0.6349 - val_baseline_acc: 0.5088\n",
      "Epoch 36/2000\n",
      "366037/366037 [==============================] - 15s 41us/step - loss: 0.7301 - channel_loss: 0.6658 - baseline_loss: 1.5844 - channel_acc: 0.6219 - baseline_acc: 0.5015 - val_loss: 0.7082 - val_channel_loss: 0.6440 - val_baseline_loss: 1.5735 - val_channel_acc: 0.6345 - val_baseline_acc: 0.5089\n",
      "Epoch 37/2000\n",
      "366037/366037 [==============================] - 15s 42us/step - loss: 0.7305 - channel_loss: 0.6662 - baseline_loss: 1.5800 - channel_acc: 0.6219 - baseline_acc: 0.5016 - val_loss: 0.7085 - val_channel_loss: 0.6444 - val_baseline_loss: 1.5711 - val_channel_acc: 0.6343 - val_baseline_acc: 0.5080\n",
      "Epoch 38/2000\n",
      "366037/366037 [==============================] - 15s 42us/step - loss: 0.7301 - channel_loss: 0.6659 - baseline_loss: 1.5765 - channel_acc: 0.6222 - baseline_acc: 0.5016 - val_loss: 0.7081 - val_channel_loss: 0.6439 - val_baseline_loss: 1.5674 - val_channel_acc: 0.6347 - val_baseline_acc: 0.5084\n",
      "Epoch 39/2000\n",
      "366037/366037 [==============================] - 15s 42us/step - loss: 0.7304 - channel_loss: 0.6663 - baseline_loss: 1.5722 - channel_acc: 0.6219 - baseline_acc: 0.5012 - val_loss: 0.7076 - val_channel_loss: 0.6434 - val_baseline_loss: 1.5699 - val_channel_acc: 0.6344 - val_baseline_acc: 0.5087\n",
      "Epoch 40/2000\n",
      "366037/366037 [==============================] - 15s 42us/step - loss: 0.7299 - channel_loss: 0.6658 - baseline_loss: 1.5677 - channel_acc: 0.6219 - baseline_acc: 0.5013 - val_loss: 0.7076 - val_channel_loss: 0.6435 - val_baseline_loss: 1.5675 - val_channel_acc: 0.6340 - val_baseline_acc: 0.5082\n",
      "Epoch 41/2000\n",
      "366037/366037 [==============================] - 15s 41us/step - loss: 0.7296 - channel_loss: 0.6656 - baseline_loss: 1.5636 - channel_acc: 0.6225 - baseline_acc: 0.5013 - val_loss: 0.7075 - val_channel_loss: 0.6435 - val_baseline_loss: 1.5588 - val_channel_acc: 0.6340 - val_baseline_acc: 0.5084\n",
      "Epoch 42/2000\n",
      "366037/366037 [==============================] - 15s 41us/step - loss: 0.7287 - channel_loss: 0.6647 - baseline_loss: 1.5599 - channel_acc: 0.6230 - baseline_acc: 0.5018 - val_loss: 0.7071 - val_channel_loss: 0.6431 - val_baseline_loss: 1.5603 - val_channel_acc: 0.6350 - val_baseline_acc: 0.5080\n",
      "Epoch 43/2000\n",
      "366037/366037 [==============================] - 15s 41us/step - loss: 0.7292 - channel_loss: 0.6653 - baseline_loss: 1.5575 - channel_acc: 0.6230 - baseline_acc: 0.5017 - val_loss: 0.7069 - val_channel_loss: 0.6430 - val_baseline_loss: 1.5543 - val_channel_acc: 0.6344 - val_baseline_acc: 0.5084\n",
      "Epoch 44/2000\n",
      "366037/366037 [==============================] - 15s 41us/step - loss: 0.7288 - channel_loss: 0.6649 - baseline_loss: 1.5548 - channel_acc: 0.6233 - baseline_acc: 0.5015 - val_loss: 0.7067 - val_channel_loss: 0.6428 - val_baseline_loss: 1.5487 - val_channel_acc: 0.6346 - val_baseline_acc: 0.5085\n",
      "Epoch 45/2000\n",
      "366037/366037 [==============================] - 15s 41us/step - loss: 0.7292 - channel_loss: 0.6653 - baseline_loss: 1.5518 - channel_acc: 0.6233 - baseline_acc: 0.5015 - val_loss: 0.7069 - val_channel_loss: 0.6431 - val_baseline_loss: 1.5427 - val_channel_acc: 0.6347 - val_baseline_acc: 0.5091\n",
      "Epoch 46/2000\n",
      "366037/366037 [==============================] - 15s 41us/step - loss: 0.7286 - channel_loss: 0.6648 - baseline_loss: 1.5486 - channel_acc: 0.6232 - baseline_acc: 0.5016 - val_loss: 0.7066 - val_channel_loss: 0.6428 - val_baseline_loss: 1.5428 - val_channel_acc: 0.6353 - val_baseline_acc: 0.5084\n",
      "Epoch 47/2000\n",
      "366037/366037 [==============================] - 15s 42us/step - loss: 0.7288 - channel_loss: 0.6651 - baseline_loss: 1.5457 - channel_acc: 0.6228 - baseline_acc: 0.5015 - val_loss: 0.7063 - val_channel_loss: 0.6426 - val_baseline_loss: 1.5389 - val_channel_acc: 0.6350 - val_baseline_acc: 0.5085\n",
      "Epoch 48/2000\n",
      "366037/366037 [==============================] - 15s 41us/step - loss: 0.7283 - channel_loss: 0.6646 - baseline_loss: 1.5439 - channel_acc: 0.6238 - baseline_acc: 0.5019 - val_loss: 0.7062 - val_channel_loss: 0.6425 - val_baseline_loss: 1.5309 - val_channel_acc: 0.6349 - val_baseline_acc: 0.5087\n",
      "Epoch 49/2000\n",
      "366037/366037 [==============================] - 15s 41us/step - loss: 0.7284 - channel_loss: 0.6647 - baseline_loss: 1.5398 - channel_acc: 0.6236 - baseline_acc: 0.5016 - val_loss: 0.7067 - val_channel_loss: 0.6430 - val_baseline_loss: 1.5332 - val_channel_acc: 0.6344 - val_baseline_acc: 0.5085\n",
      "Epoch 50/2000\n",
      "366037/366037 [==============================] - 15s 42us/step - loss: 0.7279 - channel_loss: 0.6643 - baseline_loss: 1.5365 - channel_acc: 0.6240 - baseline_acc: 0.5015 - val_loss: 0.7067 - val_channel_loss: 0.6431 - val_baseline_loss: 1.5344 - val_channel_acc: 0.6347 - val_baseline_acc: 0.5080\n",
      "Epoch 51/2000\n",
      "366037/366037 [==============================] - 15s 42us/step - loss: 0.7277 - channel_loss: 0.6641 - baseline_loss: 1.5355 - channel_acc: 0.6238 - baseline_acc: 0.5020 - val_loss: 0.7061 - val_channel_loss: 0.6425 - val_baseline_loss: 1.5299 - val_channel_acc: 0.6354 - val_baseline_acc: 0.5081\n",
      "Epoch 52/2000\n",
      "366037/366037 [==============================] - 15s 41us/step - loss: 0.7280 - channel_loss: 0.6644 - baseline_loss: 1.5338 - channel_acc: 0.6235 - baseline_acc: 0.5017 - val_loss: 0.7059 - val_channel_loss: 0.6424 - val_baseline_loss: 1.5274 - val_channel_acc: 0.6353 - val_baseline_acc: 0.5087\n",
      "Epoch 53/2000\n"
     ]
    },
    {
     "name": "stdout",
     "output_type": "stream",
     "text": [
      "366037/366037 [==============================] - 15s 41us/step - loss: 0.7275 - channel_loss: 0.6639 - baseline_loss: 1.5310 - channel_acc: 0.6242 - baseline_acc: 0.5018 - val_loss: 0.7060 - val_channel_loss: 0.6424 - val_baseline_loss: 1.5261 - val_channel_acc: 0.6347 - val_baseline_acc: 0.5084\n",
      "Epoch 54/2000\n",
      "366037/366037 [==============================] - 15s 42us/step - loss: 0.7278 - channel_loss: 0.6643 - baseline_loss: 1.5279 - channel_acc: 0.6235 - baseline_acc: 0.5018 - val_loss: 0.7056 - val_channel_loss: 0.6421 - val_baseline_loss: 1.5231 - val_channel_acc: 0.6352 - val_baseline_acc: 0.5085\n",
      "Epoch 55/2000\n",
      "366037/366037 [==============================] - 15s 42us/step - loss: 0.7277 - channel_loss: 0.6642 - baseline_loss: 1.5264 - channel_acc: 0.6243 - baseline_acc: 0.5015 - val_loss: 0.7052 - val_channel_loss: 0.6417 - val_baseline_loss: 1.5204 - val_channel_acc: 0.6349 - val_baseline_acc: 0.5082\n",
      "Epoch 56/2000\n",
      "366037/366037 [==============================] - 15s 42us/step - loss: 0.7277 - channel_loss: 0.6643 - baseline_loss: 1.5238 - channel_acc: 0.6237 - baseline_acc: 0.5015 - val_loss: 0.7057 - val_channel_loss: 0.6423 - val_baseline_loss: 1.5154 - val_channel_acc: 0.6355 - val_baseline_acc: 0.5088\n",
      "Epoch 57/2000\n",
      "366037/366037 [==============================] - 15s 41us/step - loss: 0.7275 - channel_loss: 0.6641 - baseline_loss: 1.5201 - channel_acc: 0.6233 - baseline_acc: 0.5018 - val_loss: 0.7057 - val_channel_loss: 0.6423 - val_baseline_loss: 1.5202 - val_channel_acc: 0.6349 - val_baseline_acc: 0.5082\n",
      "Epoch 58/2000\n",
      "366037/366037 [==============================] - 15s 42us/step - loss: 0.7272 - channel_loss: 0.6638 - baseline_loss: 1.5192 - channel_acc: 0.6238 - baseline_acc: 0.5017 - val_loss: 0.7050 - val_channel_loss: 0.6416 - val_baseline_loss: 1.5118 - val_channel_acc: 0.6358 - val_baseline_acc: 0.5085\n",
      "Epoch 59/2000\n",
      "366037/366037 [==============================] - 15s 41us/step - loss: 0.7269 - channel_loss: 0.6635 - baseline_loss: 1.5180 - channel_acc: 0.6241 - baseline_acc: 0.5015 - val_loss: 0.7046 - val_channel_loss: 0.6413 - val_baseline_loss: 1.5108 - val_channel_acc: 0.6358 - val_baseline_acc: 0.5088\n",
      "Epoch 60/2000\n",
      "366037/366037 [==============================] - 15s 41us/step - loss: 0.7266 - channel_loss: 0.6633 - baseline_loss: 1.5154 - channel_acc: 0.6245 - baseline_acc: 0.5020 - val_loss: 0.7047 - val_channel_loss: 0.6414 - val_baseline_loss: 1.5064 - val_channel_acc: 0.6351 - val_baseline_acc: 0.5086\n",
      "Epoch 61/2000\n",
      "366037/366037 [==============================] - 15s 41us/step - loss: 0.7268 - channel_loss: 0.6635 - baseline_loss: 1.5144 - channel_acc: 0.6236 - baseline_acc: 0.5017 - val_loss: 0.7055 - val_channel_loss: 0.6422 - val_baseline_loss: 1.5098 - val_channel_acc: 0.6362 - val_baseline_acc: 0.5083\n",
      "Epoch 62/2000\n",
      "366037/366037 [==============================] - 15s 41us/step - loss: 0.7268 - channel_loss: 0.6636 - baseline_loss: 1.5126 - channel_acc: 0.6241 - baseline_acc: 0.5017 - val_loss: 0.7051 - val_channel_loss: 0.6419 - val_baseline_loss: 1.5023 - val_channel_acc: 0.6353 - val_baseline_acc: 0.5084\n",
      "Epoch 63/2000\n",
      "366037/366037 [==============================] - 15s 41us/step - loss: 0.7267 - channel_loss: 0.6635 - baseline_loss: 1.5129 - channel_acc: 0.6247 - baseline_acc: 0.5019 - val_loss: 0.7047 - val_channel_loss: 0.6414 - val_baseline_loss: 1.5084 - val_channel_acc: 0.6357 - val_baseline_acc: 0.5085\n",
      "Epoch 00063: early stopping\n"
     ]
    }
   ],
   "source": [
    "train_res_complex = complex_model.fit(X_train_train,\n",
    "                      [Y_train_train,Y_train_train],\n",
    "                      batch_size=batch_size,\n",
    "                      epochs=2000,\n",
    "                      verbose=True,\n",
    "                      validation_data=(X_train_val,\n",
    "                                       [Y_train_val,Y_train_val]),\n",
    "                      callbacks=\n",
    "                      [EarlyStopping(patience=4,mode='min',verbose=True)]\n",
    "                      )"
   ]
  },
  {
   "cell_type": "code",
   "execution_count": 262,
   "metadata": {},
   "outputs": [
    {
     "data": {
      "text/plain": [
       "{'baseline_acc': 0.49420552597760237,\n",
       " 'baseline_loss': 1.5279761140929113,\n",
       " 'channel_acc': 0.81018794749403344,\n",
       " 'channel_loss': 0.56673214217052559,\n",
       " 'loss': 0.62996468229733282}"
      ]
     },
     "execution_count": 262,
     "metadata": {},
     "output_type": "execute_result"
    }
   ],
   "source": [
    "eval(complex_model,y_test=[Y_test,Y_test])"
   ]
  },
  {
   "cell_type": "code",
   "execution_count": 263,
   "metadata": {
    "collapsed": true
   },
   "outputs": [],
   "source": [
    "preds_complex=complex_model.predict(X_test.values)"
   ]
  },
  {
   "cell_type": "code",
   "execution_count": 264,
   "metadata": {
    "collapsed": true
   },
   "outputs": [],
   "source": [
    "preds_max_complex=np.argmax(preds_complex[0],axis=-1)"
   ]
  },
  {
   "cell_type": "code",
   "execution_count": 265,
   "metadata": {},
   "outputs": [
    {
     "data": {
      "text/plain": [
       "(174304,)"
      ]
     },
     "execution_count": 265,
     "metadata": {},
     "output_type": "execute_result"
    }
   ],
   "source": [
    "preds_max_complex.shape"
   ]
  },
  {
   "cell_type": "code",
   "execution_count": 266,
   "metadata": {},
   "outputs": [
    {
     "name": "stderr",
     "output_type": "stream",
     "text": [
      "/usr/local/anaconda3/5.0.1/lib/python3.6/site-packages/matplotlib/font_manager.py:1316: UserWarning: findfont: Font family ['normal'] not found. Falling back to DejaVu Sans\n",
      "  (prop.get_family(), self.defaultFamily[fontext]))\n"
     ]
    },
    {
     "data": {
      "image/png": "[encoded data removed]",
      "text/plain": [
       "<matplotlib.figure.Figure at 0x7ff38a083c88>"
      ]
     },
     "metadata": {},
     "output_type": "display_data"
    }
   ],
   "source": [
    "cnf_matrix = confusion_matrix(Y_test,preds_max_complex)\n",
    "np.set_printoptions(precision=2)\n",
    "\n",
    "#print(\"Recall metric in the testing dataset: \", cnf_matrix[1,1]/(cnf_matrix[1,0]+cnf_matrix[1,1]))\n",
    "\n",
    "# Plot non-normalized confusion matrix\n",
    "class_names = ['C type-1','C type-2','C type-3','C type-4','C type-5','C type-6','C type-7']\n",
    "plt.figure(figsize=(15, 10))\n",
    "plot_confusion_matrix(cnf_matrix\n",
    "                      , classes=class_names\n",
    "                      , title='Confusion matrix')\n",
    "plt.grid('off')\n",
    "plt.show()"
   ]
  },
  {
   "cell_type": "code",
   "execution_count": 267,
   "metadata": {},
   "outputs": [
    {
     "name": "stdout",
     "output_type": "stream",
     "text": [
      "------------------------Classification Report-------------------------------\n",
      "             precision    recall  f1-score   support\n",
      "\n",
      "          0       0.87      0.62      0.73     63552\n",
      "          1       0.76      0.92      0.84     84991\n",
      "          2       0.89      0.95      0.92     10726\n",
      "          3       0.88      0.72      0.79       824\n",
      "          4       0.78      0.78      0.78      2848\n",
      "          5       0.86      0.82      0.84      5210\n",
      "          6       0.92      0.94      0.93      6153\n",
      "\n",
      "avg / total       0.82      0.81      0.80    174304\n",
      "\n"
     ]
    }
   ],
   "source": [
    "print('------------------------Classification Report-------------------------------')\n",
    "print(classification_report(Y_test,preds_max_complex))"
   ]
  },
  {
   "cell_type": "markdown",
   "metadata": {},
   "source": [
    "# Xgboost"
   ]
  },
  {
   "cell_type": "code",
   "execution_count": 37,
   "metadata": {
    "scrolled": true
   },
   "outputs": [
    {
     "name": "stderr",
     "output_type": "stream",
     "text": [
      "C:\\Users\\namanda\\AppData\\Local\\Continuum\\anaconda3\\lib\\site-packages\\sklearn\\cross_validation.py:41: DeprecationWarning: This module was deprecated in version 0.18 in favor of the model_selection module into which all the refactored classes and functions are moved. Also note that the interface of the new CV iterators are different from that of this module. This module will be removed in 0.20.\n",
      "  \"This module will be removed in 0.20.\", DeprecationWarning)\n"
     ]
    }
   ],
   "source": [
    "import xgboost as xgb"
   ]
  },
  {
   "cell_type": "code",
   "execution_count": 38,
   "metadata": {
    "collapsed": true
   },
   "outputs": [],
   "source": [
    "X_train_r, X_valid,Y_train_r,Y_valid = train_test_split(X_train,Y_train, test_size=0.1, random_state=0,stratify=Y_train.Cover_Type)"
   ]
  },
  {
   "cell_type": "code",
   "execution_count": 39,
   "metadata": {
    "collapsed": true
   },
   "outputs": [],
   "source": [
    "model=xgb.XGBClassifier(n_estimators=1500,learning_rate=0.02,max_depth=7,objective='multi:softprob',nthread=-1,scale_pos_weight=1)"
   ]
  },
  {
   "cell_type": "code",
   "execution_count": 40,
   "metadata": {},
   "outputs": [
    {
     "name": "stdout",
     "output_type": "stream",
     "text": [
      "[0]\tvalidation_0-mlogloss:1.90497\n",
      "Will train until validation_0-mlogloss hasn't improved in 550 rounds.\n",
      "[1]\tvalidation_0-mlogloss:1.8661\n",
      "[2]\tvalidation_0-mlogloss:1.82927\n",
      "[3]\tvalidation_0-mlogloss:1.79403\n",
      "[4]\tvalidation_0-mlogloss:1.76014\n",
      "[5]\tvalidation_0-mlogloss:1.72792\n",
      "[6]\tvalidation_0-mlogloss:1.69706\n",
      "[7]\tvalidation_0-mlogloss:1.66752\n",
      "[8]\tvalidation_0-mlogloss:1.63918\n",
      "[9]\tvalidation_0-mlogloss:1.61162\n",
      "[10]\tvalidation_0-mlogloss:1.58518\n",
      "[11]\tvalidation_0-mlogloss:1.55959\n",
      "[12]\tvalidation_0-mlogloss:1.53505\n",
      "[13]\tvalidation_0-mlogloss:1.51134\n",
      "[14]\tvalidation_0-mlogloss:1.48841\n",
      "[15]\tvalidation_0-mlogloss:1.46605\n",
      "[16]\tvalidation_0-mlogloss:1.44426\n",
      "[17]\tvalidation_0-mlogloss:1.42321\n",
      "[18]\tvalidation_0-mlogloss:1.40288\n",
      "[19]\tvalidation_0-mlogloss:1.38313\n",
      "[20]\tvalidation_0-mlogloss:1.36398\n",
      "[21]\tvalidation_0-mlogloss:1.34541\n",
      "[22]\tvalidation_0-mlogloss:1.32714\n",
      "[23]\tvalidation_0-mlogloss:1.30948\n",
      "[24]\tvalidation_0-mlogloss:1.29237\n",
      "[25]\tvalidation_0-mlogloss:1.27571\n",
      "[26]\tvalidation_0-mlogloss:1.25954\n",
      "[27]\tvalidation_0-mlogloss:1.24358\n",
      "[28]\tvalidation_0-mlogloss:1.22819\n",
      "[29]\tvalidation_0-mlogloss:1.21312\n",
      "[30]\tvalidation_0-mlogloss:1.19848\n",
      "[31]\tvalidation_0-mlogloss:1.18403\n",
      "[32]\tvalidation_0-mlogloss:1.17003\n",
      "[33]\tvalidation_0-mlogloss:1.15647\n",
      "[34]\tvalidation_0-mlogloss:1.14311\n",
      "[35]\tvalidation_0-mlogloss:1.13023\n",
      "[36]\tvalidation_0-mlogloss:1.11772\n",
      "[37]\tvalidation_0-mlogloss:1.10521\n",
      "[38]\tvalidation_0-mlogloss:1.09304\n",
      "[39]\tvalidation_0-mlogloss:1.0813\n",
      "[40]\tvalidation_0-mlogloss:1.0696\n",
      "[41]\tvalidation_0-mlogloss:1.05834\n",
      "[42]\tvalidation_0-mlogloss:1.0472\n",
      "[43]\tvalidation_0-mlogloss:1.03626\n",
      "[44]\tvalidation_0-mlogloss:1.02575\n",
      "[45]\tvalidation_0-mlogloss:1.01532\n",
      "[46]\tvalidation_0-mlogloss:1.00516\n",
      "[47]\tvalidation_0-mlogloss:0.995273\n",
      "[48]\tvalidation_0-mlogloss:0.985626\n",
      "[49]\tvalidation_0-mlogloss:0.976073\n",
      "[50]\tvalidation_0-mlogloss:0.966827\n",
      "[51]\tvalidation_0-mlogloss:0.957707\n",
      "[52]\tvalidation_0-mlogloss:0.948652\n",
      "[53]\tvalidation_0-mlogloss:0.939788\n",
      "[54]\tvalidation_0-mlogloss:0.931085\n",
      "[55]\tvalidation_0-mlogloss:0.922525\n",
      "[56]\tvalidation_0-mlogloss:0.914169\n",
      "[57]\tvalidation_0-mlogloss:0.905833\n",
      "[58]\tvalidation_0-mlogloss:0.897843\n",
      "[59]\tvalidation_0-mlogloss:0.889915\n",
      "[60]\tvalidation_0-mlogloss:0.882319\n",
      "[61]\tvalidation_0-mlogloss:0.874786\n",
      "[62]\tvalidation_0-mlogloss:0.867328\n",
      "[63]\tvalidation_0-mlogloss:0.860187\n",
      "[64]\tvalidation_0-mlogloss:0.853024\n",
      "[65]\tvalidation_0-mlogloss:0.845959\n",
      "[66]\tvalidation_0-mlogloss:0.839228\n",
      "[67]\tvalidation_0-mlogloss:0.832487\n",
      "[68]\tvalidation_0-mlogloss:0.825938\n",
      "[69]\tvalidation_0-mlogloss:0.81943\n",
      "[70]\tvalidation_0-mlogloss:0.813052\n",
      "[71]\tvalidation_0-mlogloss:0.806924\n",
      "[72]\tvalidation_0-mlogloss:0.800769\n",
      "[73]\tvalidation_0-mlogloss:0.794721\n",
      "[74]\tvalidation_0-mlogloss:0.788805\n",
      "[75]\tvalidation_0-mlogloss:0.783149\n",
      "[76]\tvalidation_0-mlogloss:0.777513\n",
      "[77]\tvalidation_0-mlogloss:0.772042\n",
      "[78]\tvalidation_0-mlogloss:0.766575\n",
      "[79]\tvalidation_0-mlogloss:0.761144\n",
      "[80]\tvalidation_0-mlogloss:0.755805\n",
      "[81]\tvalidation_0-mlogloss:0.750607\n",
      "[82]\tvalidation_0-mlogloss:0.745369\n",
      "[83]\tvalidation_0-mlogloss:0.740333\n",
      "[84]\tvalidation_0-mlogloss:0.735498\n",
      "[85]\tvalidation_0-mlogloss:0.730685\n",
      "[86]\tvalidation_0-mlogloss:0.725997\n",
      "[87]\tvalidation_0-mlogloss:0.721325\n",
      "[88]\tvalidation_0-mlogloss:0.716787\n",
      "[89]\tvalidation_0-mlogloss:0.712284\n",
      "[90]\tvalidation_0-mlogloss:0.707891\n",
      "[91]\tvalidation_0-mlogloss:0.703587\n",
      "[92]\tvalidation_0-mlogloss:0.699364\n",
      "[93]\tvalidation_0-mlogloss:0.695198\n",
      "[94]\tvalidation_0-mlogloss:0.691144\n",
      "[95]\tvalidation_0-mlogloss:0.687096\n",
      "[96]\tvalidation_0-mlogloss:0.683122\n",
      "[97]\tvalidation_0-mlogloss:0.679179\n",
      "[98]\tvalidation_0-mlogloss:0.675259\n",
      "[99]\tvalidation_0-mlogloss:0.671472\n",
      "[100]\tvalidation_0-mlogloss:0.667709\n",
      "[101]\tvalidation_0-mlogloss:0.663987\n",
      "[102]\tvalidation_0-mlogloss:0.66034\n",
      "[103]\tvalidation_0-mlogloss:0.656839\n",
      "[104]\tvalidation_0-mlogloss:0.653297\n",
      "[105]\tvalidation_0-mlogloss:0.649896\n",
      "[106]\tvalidation_0-mlogloss:0.646596\n",
      "[107]\tvalidation_0-mlogloss:0.643231\n",
      "[108]\tvalidation_0-mlogloss:0.640028\n",
      "[109]\tvalidation_0-mlogloss:0.636837\n",
      "[110]\tvalidation_0-mlogloss:0.633663\n",
      "[111]\tvalidation_0-mlogloss:0.630554\n",
      "[112]\tvalidation_0-mlogloss:0.627491\n",
      "[113]\tvalidation_0-mlogloss:0.624511\n",
      "[114]\tvalidation_0-mlogloss:0.621587\n",
      "[115]\tvalidation_0-mlogloss:0.618697\n",
      "[116]\tvalidation_0-mlogloss:0.615801\n",
      "[117]\tvalidation_0-mlogloss:0.612906\n",
      "[118]\tvalidation_0-mlogloss:0.610104\n",
      "[119]\tvalidation_0-mlogloss:0.607327\n",
      "[120]\tvalidation_0-mlogloss:0.604655\n",
      "[121]\tvalidation_0-mlogloss:0.60197\n",
      "[122]\tvalidation_0-mlogloss:0.599372\n",
      "[123]\tvalidation_0-mlogloss:0.596799\n",
      "[124]\tvalidation_0-mlogloss:0.594247\n",
      "[125]\tvalidation_0-mlogloss:0.591817\n",
      "[126]\tvalidation_0-mlogloss:0.589259\n",
      "[127]\tvalidation_0-mlogloss:0.58687\n",
      "[128]\tvalidation_0-mlogloss:0.584431\n",
      "[129]\tvalidation_0-mlogloss:0.58213\n",
      "[130]\tvalidation_0-mlogloss:0.579736\n",
      "[131]\tvalidation_0-mlogloss:0.57751\n",
      "[132]\tvalidation_0-mlogloss:0.575297\n",
      "[133]\tvalidation_0-mlogloss:0.573082\n",
      "[134]\tvalidation_0-mlogloss:0.570905\n",
      "[135]\tvalidation_0-mlogloss:0.568782\n",
      "[136]\tvalidation_0-mlogloss:0.566651\n",
      "[137]\tvalidation_0-mlogloss:0.564573\n",
      "[138]\tvalidation_0-mlogloss:0.562451\n",
      "[139]\tvalidation_0-mlogloss:0.560451\n",
      "[140]\tvalidation_0-mlogloss:0.558362\n",
      "[141]\tvalidation_0-mlogloss:0.556448\n",
      "[142]\tvalidation_0-mlogloss:0.554442\n",
      "[143]\tvalidation_0-mlogloss:0.552531\n",
      "[144]\tvalidation_0-mlogloss:0.550662\n",
      "[145]\tvalidation_0-mlogloss:0.548732\n",
      "[146]\tvalidation_0-mlogloss:0.546889\n",
      "[147]\tvalidation_0-mlogloss:0.545012\n",
      "[148]\tvalidation_0-mlogloss:0.543203\n",
      "[149]\tvalidation_0-mlogloss:0.541478\n",
      "[150]\tvalidation_0-mlogloss:0.539674\n",
      "[151]\tvalidation_0-mlogloss:0.537913\n",
      "[152]\tvalidation_0-mlogloss:0.536173\n",
      "[153]\tvalidation_0-mlogloss:0.534511\n",
      "[154]\tvalidation_0-mlogloss:0.532827\n",
      "[155]\tvalidation_0-mlogloss:0.5312\n",
      "[156]\tvalidation_0-mlogloss:0.529575\n",
      "[157]\tvalidation_0-mlogloss:0.52798\n",
      "[158]\tvalidation_0-mlogloss:0.526399\n",
      "[159]\tvalidation_0-mlogloss:0.524851\n",
      "[160]\tvalidation_0-mlogloss:0.523362\n",
      "[161]\tvalidation_0-mlogloss:0.521883\n",
      "[162]\tvalidation_0-mlogloss:0.520386\n",
      "[163]\tvalidation_0-mlogloss:0.518938\n",
      "[164]\tvalidation_0-mlogloss:0.517461\n",
      "[165]\tvalidation_0-mlogloss:0.515952\n",
      "[166]\tvalidation_0-mlogloss:0.514514\n",
      "[167]\tvalidation_0-mlogloss:0.513123\n",
      "[168]\tvalidation_0-mlogloss:0.511682\n",
      "[169]\tvalidation_0-mlogloss:0.510255\n",
      "[170]\tvalidation_0-mlogloss:0.508785\n",
      "[171]\tvalidation_0-mlogloss:0.507387\n",
      "[172]\tvalidation_0-mlogloss:0.506067\n",
      "[173]\tvalidation_0-mlogloss:0.504714\n",
      "[174]\tvalidation_0-mlogloss:0.503463\n",
      "[175]\tvalidation_0-mlogloss:0.502186\n",
      "[176]\tvalidation_0-mlogloss:0.500904\n",
      "[177]\tvalidation_0-mlogloss:0.499593\n",
      "[178]\tvalidation_0-mlogloss:0.498316\n",
      "[179]\tvalidation_0-mlogloss:0.49704\n",
      "[180]\tvalidation_0-mlogloss:0.495787\n",
      "[181]\tvalidation_0-mlogloss:0.494587\n",
      "[182]\tvalidation_0-mlogloss:0.493421\n",
      "[183]\tvalidation_0-mlogloss:0.492219\n",
      "[184]\tvalidation_0-mlogloss:0.491065\n",
      "[185]\tvalidation_0-mlogloss:0.489816\n",
      "[186]\tvalidation_0-mlogloss:0.488719\n",
      "[187]\tvalidation_0-mlogloss:0.487599\n",
      "[188]\tvalidation_0-mlogloss:0.486555\n",
      "[189]\tvalidation_0-mlogloss:0.485511\n",
      "[190]\tvalidation_0-mlogloss:0.484453\n",
      "[191]\tvalidation_0-mlogloss:0.483401\n",
      "[192]\tvalidation_0-mlogloss:0.482306\n",
      "[193]\tvalidation_0-mlogloss:0.481294\n",
      "[194]\tvalidation_0-mlogloss:0.480298\n",
      "[195]\tvalidation_0-mlogloss:0.47934\n",
      "[196]\tvalidation_0-mlogloss:0.47823\n",
      "[197]\tvalidation_0-mlogloss:0.477232\n",
      "[198]\tvalidation_0-mlogloss:0.47618\n",
      "[199]\tvalidation_0-mlogloss:0.475245\n",
      "[200]\tvalidation_0-mlogloss:0.474318\n",
      "[201]\tvalidation_0-mlogloss:0.473374\n",
      "[202]\tvalidation_0-mlogloss:0.472451\n",
      "[203]\tvalidation_0-mlogloss:0.47155\n",
      "[204]\tvalidation_0-mlogloss:0.470597\n",
      "[205]\tvalidation_0-mlogloss:0.469659\n",
      "[206]\tvalidation_0-mlogloss:0.468764\n",
      "[207]\tvalidation_0-mlogloss:0.467911\n",
      "[208]\tvalidation_0-mlogloss:0.467002\n",
      "[209]\tvalidation_0-mlogloss:0.466111\n",
      "[210]\tvalidation_0-mlogloss:0.46526\n",
      "[211]\tvalidation_0-mlogloss:0.464357\n",
      "[212]\tvalidation_0-mlogloss:0.463557\n",
      "[213]\tvalidation_0-mlogloss:0.462518\n",
      "[214]\tvalidation_0-mlogloss:0.461731\n",
      "[215]\tvalidation_0-mlogloss:0.460936\n",
      "[216]\tvalidation_0-mlogloss:0.460059\n",
      "[217]\tvalidation_0-mlogloss:0.459182\n",
      "[218]\tvalidation_0-mlogloss:0.458358\n",
      "[219]\tvalidation_0-mlogloss:0.457503\n",
      "[220]\tvalidation_0-mlogloss:0.456594\n",
      "[221]\tvalidation_0-mlogloss:0.455778\n",
      "[222]\tvalidation_0-mlogloss:0.454992\n",
      "[223]\tvalidation_0-mlogloss:0.454217\n",
      "[224]\tvalidation_0-mlogloss:0.453404\n"
     ]
    },
    {
     "name": "stdout",
     "output_type": "stream",
     "text": [
      "[225]\tvalidation_0-mlogloss:0.452674\n",
      "[226]\tvalidation_0-mlogloss:0.451838\n",
      "[227]\tvalidation_0-mlogloss:0.451011\n",
      "[228]\tvalidation_0-mlogloss:0.450276\n",
      "[229]\tvalidation_0-mlogloss:0.449505\n",
      "[230]\tvalidation_0-mlogloss:0.448825\n",
      "[231]\tvalidation_0-mlogloss:0.448011\n",
      "[232]\tvalidation_0-mlogloss:0.447222\n",
      "[233]\tvalidation_0-mlogloss:0.446491\n",
      "[234]\tvalidation_0-mlogloss:0.445745\n",
      "[235]\tvalidation_0-mlogloss:0.445023\n",
      "[236]\tvalidation_0-mlogloss:0.444384\n",
      "[237]\tvalidation_0-mlogloss:0.44359\n",
      "[238]\tvalidation_0-mlogloss:0.442812\n",
      "[239]\tvalidation_0-mlogloss:0.442149\n",
      "[240]\tvalidation_0-mlogloss:0.441462\n",
      "[241]\tvalidation_0-mlogloss:0.440785\n",
      "[242]\tvalidation_0-mlogloss:0.440054\n",
      "[243]\tvalidation_0-mlogloss:0.439116\n",
      "[244]\tvalidation_0-mlogloss:0.438516\n",
      "[245]\tvalidation_0-mlogloss:0.437899\n",
      "[246]\tvalidation_0-mlogloss:0.437071\n",
      "[247]\tvalidation_0-mlogloss:0.436451\n",
      "[248]\tvalidation_0-mlogloss:0.435677\n",
      "[249]\tvalidation_0-mlogloss:0.4351\n",
      "[250]\tvalidation_0-mlogloss:0.434301\n",
      "[251]\tvalidation_0-mlogloss:0.433511\n",
      "[252]\tvalidation_0-mlogloss:0.432957\n",
      "[253]\tvalidation_0-mlogloss:0.432241\n",
      "[254]\tvalidation_0-mlogloss:0.431654\n",
      "[255]\tvalidation_0-mlogloss:0.431074\n",
      "[256]\tvalidation_0-mlogloss:0.430376\n",
      "[257]\tvalidation_0-mlogloss:0.429629\n",
      "[258]\tvalidation_0-mlogloss:0.429127\n",
      "[259]\tvalidation_0-mlogloss:0.428359\n",
      "[260]\tvalidation_0-mlogloss:0.427764\n",
      "[261]\tvalidation_0-mlogloss:0.4271\n",
      "[262]\tvalidation_0-mlogloss:0.426431\n",
      "[263]\tvalidation_0-mlogloss:0.425864\n",
      "[264]\tvalidation_0-mlogloss:0.425207\n",
      "[265]\tvalidation_0-mlogloss:0.424715\n",
      "[266]\tvalidation_0-mlogloss:0.424197\n",
      "[267]\tvalidation_0-mlogloss:0.423637\n",
      "[268]\tvalidation_0-mlogloss:0.423036\n",
      "[269]\tvalidation_0-mlogloss:0.422554\n",
      "[270]\tvalidation_0-mlogloss:0.422114\n",
      "[271]\tvalidation_0-mlogloss:0.42161\n",
      "[272]\tvalidation_0-mlogloss:0.421028\n",
      "[273]\tvalidation_0-mlogloss:0.420498\n",
      "[274]\tvalidation_0-mlogloss:0.420064\n",
      "[275]\tvalidation_0-mlogloss:0.419405\n",
      "[276]\tvalidation_0-mlogloss:0.418877\n",
      "[277]\tvalidation_0-mlogloss:0.418431\n",
      "[278]\tvalidation_0-mlogloss:0.417968\n",
      "[279]\tvalidation_0-mlogloss:0.417507\n",
      "[280]\tvalidation_0-mlogloss:0.417063\n",
      "[281]\tvalidation_0-mlogloss:0.416638\n",
      "[282]\tvalidation_0-mlogloss:0.415997\n",
      "[283]\tvalidation_0-mlogloss:0.415609\n",
      "[284]\tvalidation_0-mlogloss:0.414931\n",
      "[285]\tvalidation_0-mlogloss:0.414422\n",
      "[286]\tvalidation_0-mlogloss:0.413976\n",
      "[287]\tvalidation_0-mlogloss:0.413313\n",
      "[288]\tvalidation_0-mlogloss:0.41281\n",
      "[289]\tvalidation_0-mlogloss:0.412333\n",
      "[290]\tvalidation_0-mlogloss:0.411931\n",
      "[291]\tvalidation_0-mlogloss:0.41148\n",
      "[292]\tvalidation_0-mlogloss:0.410965\n",
      "[293]\tvalidation_0-mlogloss:0.410267\n",
      "[294]\tvalidation_0-mlogloss:0.409862\n",
      "[295]\tvalidation_0-mlogloss:0.409342\n",
      "[296]\tvalidation_0-mlogloss:0.408862\n",
      "[297]\tvalidation_0-mlogloss:0.408459\n",
      "[298]\tvalidation_0-mlogloss:0.407925\n",
      "[299]\tvalidation_0-mlogloss:0.407424\n",
      "[300]\tvalidation_0-mlogloss:0.406914\n",
      "[301]\tvalidation_0-mlogloss:0.406489\n",
      "[302]\tvalidation_0-mlogloss:0.406134\n",
      "[303]\tvalidation_0-mlogloss:0.405651\n",
      "[304]\tvalidation_0-mlogloss:0.405199\n",
      "[305]\tvalidation_0-mlogloss:0.404664\n",
      "[306]\tvalidation_0-mlogloss:0.404203\n",
      "[307]\tvalidation_0-mlogloss:0.403593\n",
      "[308]\tvalidation_0-mlogloss:0.403268\n",
      "[309]\tvalidation_0-mlogloss:0.402896\n",
      "[310]\tvalidation_0-mlogloss:0.402457\n",
      "[311]\tvalidation_0-mlogloss:0.402013\n",
      "[312]\tvalidation_0-mlogloss:0.401522\n",
      "[313]\tvalidation_0-mlogloss:0.401042\n",
      "[314]\tvalidation_0-mlogloss:0.400671\n",
      "[315]\tvalidation_0-mlogloss:0.400287\n",
      "[316]\tvalidation_0-mlogloss:0.399804\n",
      "[317]\tvalidation_0-mlogloss:0.399342\n",
      "[318]\tvalidation_0-mlogloss:0.398966\n",
      "[319]\tvalidation_0-mlogloss:0.398494\n",
      "[320]\tvalidation_0-mlogloss:0.39812\n",
      "[321]\tvalidation_0-mlogloss:0.397784\n",
      "[322]\tvalidation_0-mlogloss:0.39733\n",
      "[323]\tvalidation_0-mlogloss:0.396949\n",
      "[324]\tvalidation_0-mlogloss:0.396619\n",
      "[325]\tvalidation_0-mlogloss:0.396253\n",
      "[326]\tvalidation_0-mlogloss:0.395943\n",
      "[327]\tvalidation_0-mlogloss:0.395578\n",
      "[328]\tvalidation_0-mlogloss:0.395204\n",
      "[329]\tvalidation_0-mlogloss:0.394769\n",
      "[330]\tvalidation_0-mlogloss:0.394355\n",
      "[331]\tvalidation_0-mlogloss:0.393856\n",
      "[332]\tvalidation_0-mlogloss:0.393565\n",
      "[333]\tvalidation_0-mlogloss:0.393217\n",
      "[334]\tvalidation_0-mlogloss:0.392865\n",
      "[335]\tvalidation_0-mlogloss:0.392536\n",
      "[336]\tvalidation_0-mlogloss:0.392224\n",
      "[337]\tvalidation_0-mlogloss:0.391834\n",
      "[338]\tvalidation_0-mlogloss:0.391514\n",
      "[339]\tvalidation_0-mlogloss:0.391132\n",
      "[340]\tvalidation_0-mlogloss:0.390773\n",
      "[341]\tvalidation_0-mlogloss:0.390479\n",
      "[342]\tvalidation_0-mlogloss:0.390102\n",
      "[343]\tvalidation_0-mlogloss:0.389801\n",
      "[344]\tvalidation_0-mlogloss:0.389518\n",
      "[345]\tvalidation_0-mlogloss:0.389093\n",
      "[346]\tvalidation_0-mlogloss:0.388794\n",
      "[347]\tvalidation_0-mlogloss:0.388478\n",
      "[348]\tvalidation_0-mlogloss:0.38811\n",
      "[349]\tvalidation_0-mlogloss:0.387819\n",
      "[350]\tvalidation_0-mlogloss:0.387459\n",
      "[351]\tvalidation_0-mlogloss:0.387168\n",
      "[352]\tvalidation_0-mlogloss:0.386802\n",
      "[353]\tvalidation_0-mlogloss:0.386356\n",
      "[354]\tvalidation_0-mlogloss:0.386\n",
      "[355]\tvalidation_0-mlogloss:0.385669\n",
      "[356]\tvalidation_0-mlogloss:0.38535\n",
      "[357]\tvalidation_0-mlogloss:0.385069\n",
      "[358]\tvalidation_0-mlogloss:0.384781\n",
      "[359]\tvalidation_0-mlogloss:0.384515\n",
      "[360]\tvalidation_0-mlogloss:0.384227\n",
      "[361]\tvalidation_0-mlogloss:0.383868\n",
      "[362]\tvalidation_0-mlogloss:0.383531\n",
      "[363]\tvalidation_0-mlogloss:0.38318\n",
      "[364]\tvalidation_0-mlogloss:0.382902\n",
      "[365]\tvalidation_0-mlogloss:0.382538\n",
      "[366]\tvalidation_0-mlogloss:0.382248\n",
      "[367]\tvalidation_0-mlogloss:0.381972\n",
      "[368]\tvalidation_0-mlogloss:0.381681\n",
      "[369]\tvalidation_0-mlogloss:0.381451\n",
      "[370]\tvalidation_0-mlogloss:0.381134\n",
      "[371]\tvalidation_0-mlogloss:0.380742\n",
      "[372]\tvalidation_0-mlogloss:0.380514\n",
      "[373]\tvalidation_0-mlogloss:0.380222\n",
      "[374]\tvalidation_0-mlogloss:0.379823\n",
      "[375]\tvalidation_0-mlogloss:0.379468\n",
      "[376]\tvalidation_0-mlogloss:0.379146\n",
      "[377]\tvalidation_0-mlogloss:0.378807\n",
      "[378]\tvalidation_0-mlogloss:0.37857\n",
      "[379]\tvalidation_0-mlogloss:0.378312\n",
      "[380]\tvalidation_0-mlogloss:0.378083\n",
      "[381]\tvalidation_0-mlogloss:0.377821\n",
      "[382]\tvalidation_0-mlogloss:0.377516\n",
      "[383]\tvalidation_0-mlogloss:0.377233\n",
      "[384]\tvalidation_0-mlogloss:0.376974\n",
      "[385]\tvalidation_0-mlogloss:0.376732\n",
      "[386]\tvalidation_0-mlogloss:0.376459\n",
      "[387]\tvalidation_0-mlogloss:0.376193\n",
      "[388]\tvalidation_0-mlogloss:0.375924\n",
      "[389]\tvalidation_0-mlogloss:0.375683\n",
      "[390]\tvalidation_0-mlogloss:0.375447\n",
      "[391]\tvalidation_0-mlogloss:0.375222\n",
      "[392]\tvalidation_0-mlogloss:0.374906\n",
      "[393]\tvalidation_0-mlogloss:0.374643\n",
      "[394]\tvalidation_0-mlogloss:0.37435\n",
      "[395]\tvalidation_0-mlogloss:0.374067\n",
      "[396]\tvalidation_0-mlogloss:0.37375\n",
      "[397]\tvalidation_0-mlogloss:0.373456\n",
      "[398]\tvalidation_0-mlogloss:0.373128\n",
      "[399]\tvalidation_0-mlogloss:0.37287\n",
      "[400]\tvalidation_0-mlogloss:0.372669\n",
      "[401]\tvalidation_0-mlogloss:0.372433\n",
      "[402]\tvalidation_0-mlogloss:0.372096\n",
      "[403]\tvalidation_0-mlogloss:0.371873\n",
      "[404]\tvalidation_0-mlogloss:0.371569\n",
      "[405]\tvalidation_0-mlogloss:0.37126\n",
      "[406]\tvalidation_0-mlogloss:0.370902\n",
      "[407]\tvalidation_0-mlogloss:0.370647\n",
      "[408]\tvalidation_0-mlogloss:0.370338\n",
      "[409]\tvalidation_0-mlogloss:0.370051\n",
      "[410]\tvalidation_0-mlogloss:0.369852\n",
      "[411]\tvalidation_0-mlogloss:0.369505\n",
      "[412]\tvalidation_0-mlogloss:0.369285\n",
      "[413]\tvalidation_0-mlogloss:0.368945\n",
      "[414]\tvalidation_0-mlogloss:0.368607\n",
      "[415]\tvalidation_0-mlogloss:0.368326\n",
      "[416]\tvalidation_0-mlogloss:0.367951\n",
      "[417]\tvalidation_0-mlogloss:0.367711\n",
      "[418]\tvalidation_0-mlogloss:0.367462\n",
      "[419]\tvalidation_0-mlogloss:0.367141\n",
      "[420]\tvalidation_0-mlogloss:0.366879\n",
      "[421]\tvalidation_0-mlogloss:0.366588\n",
      "[422]\tvalidation_0-mlogloss:0.366321\n",
      "[423]\tvalidation_0-mlogloss:0.366011\n",
      "[424]\tvalidation_0-mlogloss:0.365719\n",
      "[425]\tvalidation_0-mlogloss:0.365415\n",
      "[426]\tvalidation_0-mlogloss:0.365218\n",
      "[427]\tvalidation_0-mlogloss:0.36495\n",
      "[428]\tvalidation_0-mlogloss:0.364687\n",
      "[429]\tvalidation_0-mlogloss:0.364379\n",
      "[430]\tvalidation_0-mlogloss:0.364027\n",
      "[431]\tvalidation_0-mlogloss:0.363828\n",
      "[432]\tvalidation_0-mlogloss:0.363631\n",
      "[433]\tvalidation_0-mlogloss:0.363418\n",
      "[434]\tvalidation_0-mlogloss:0.36321\n",
      "[435]\tvalidation_0-mlogloss:0.362974\n",
      "[436]\tvalidation_0-mlogloss:0.362759\n",
      "[437]\tvalidation_0-mlogloss:0.362432\n",
      "[438]\tvalidation_0-mlogloss:0.362198\n",
      "[439]\tvalidation_0-mlogloss:0.361997\n",
      "[440]\tvalidation_0-mlogloss:0.361762\n",
      "[441]\tvalidation_0-mlogloss:0.361614\n",
      "[442]\tvalidation_0-mlogloss:0.361362\n",
      "[443]\tvalidation_0-mlogloss:0.361153\n",
      "[444]\tvalidation_0-mlogloss:0.360976\n",
      "[445]\tvalidation_0-mlogloss:0.360657\n",
      "[446]\tvalidation_0-mlogloss:0.360364\n",
      "[447]\tvalidation_0-mlogloss:0.360063\n"
     ]
    },
    {
     "name": "stdout",
     "output_type": "stream",
     "text": [
      "[448]\tvalidation_0-mlogloss:0.359874\n",
      "[449]\tvalidation_0-mlogloss:0.359688\n",
      "[450]\tvalidation_0-mlogloss:0.3595\n",
      "[451]\tvalidation_0-mlogloss:0.35927\n",
      "[452]\tvalidation_0-mlogloss:0.359101\n",
      "[453]\tvalidation_0-mlogloss:0.358886\n",
      "[454]\tvalidation_0-mlogloss:0.358714\n",
      "[455]\tvalidation_0-mlogloss:0.35836\n",
      "[456]\tvalidation_0-mlogloss:0.358138\n",
      "[457]\tvalidation_0-mlogloss:0.357929\n",
      "[458]\tvalidation_0-mlogloss:0.357767\n",
      "[459]\tvalidation_0-mlogloss:0.357494\n",
      "[460]\tvalidation_0-mlogloss:0.357242\n",
      "[461]\tvalidation_0-mlogloss:0.357003\n",
      "[462]\tvalidation_0-mlogloss:0.356786\n",
      "[463]\tvalidation_0-mlogloss:0.356621\n",
      "[464]\tvalidation_0-mlogloss:0.35643\n",
      "[465]\tvalidation_0-mlogloss:0.356081\n",
      "[466]\tvalidation_0-mlogloss:0.355846\n",
      "[467]\tvalidation_0-mlogloss:0.355677\n",
      "[468]\tvalidation_0-mlogloss:0.35523\n",
      "[469]\tvalidation_0-mlogloss:0.354837\n",
      "[470]\tvalidation_0-mlogloss:0.354632\n",
      "[471]\tvalidation_0-mlogloss:0.354333\n",
      "[472]\tvalidation_0-mlogloss:0.354112\n",
      "[473]\tvalidation_0-mlogloss:0.353851\n",
      "[474]\tvalidation_0-mlogloss:0.353721\n",
      "[475]\tvalidation_0-mlogloss:0.353525\n",
      "[476]\tvalidation_0-mlogloss:0.353158\n",
      "[477]\tvalidation_0-mlogloss:0.352839\n",
      "[478]\tvalidation_0-mlogloss:0.352677\n",
      "[479]\tvalidation_0-mlogloss:0.352561\n",
      "[480]\tvalidation_0-mlogloss:0.352155\n",
      "[481]\tvalidation_0-mlogloss:0.3519\n",
      "[482]\tvalidation_0-mlogloss:0.351753\n",
      "[483]\tvalidation_0-mlogloss:0.351558\n",
      "[484]\tvalidation_0-mlogloss:0.351335\n",
      "[485]\tvalidation_0-mlogloss:0.351093\n",
      "[486]\tvalidation_0-mlogloss:0.350888\n",
      "[487]\tvalidation_0-mlogloss:0.350706\n",
      "[488]\tvalidation_0-mlogloss:0.350525\n",
      "[489]\tvalidation_0-mlogloss:0.350329\n",
      "[490]\tvalidation_0-mlogloss:0.35014\n",
      "[491]\tvalidation_0-mlogloss:0.349902\n",
      "[492]\tvalidation_0-mlogloss:0.349661\n",
      "[493]\tvalidation_0-mlogloss:0.349447\n",
      "[494]\tvalidation_0-mlogloss:0.349177\n",
      "[495]\tvalidation_0-mlogloss:0.348987\n",
      "[496]\tvalidation_0-mlogloss:0.348857\n",
      "[497]\tvalidation_0-mlogloss:0.348544\n",
      "[498]\tvalidation_0-mlogloss:0.348325\n",
      "[499]\tvalidation_0-mlogloss:0.348102\n",
      "[500]\tvalidation_0-mlogloss:0.347903\n",
      "[501]\tvalidation_0-mlogloss:0.347742\n",
      "[502]\tvalidation_0-mlogloss:0.347578\n",
      "[503]\tvalidation_0-mlogloss:0.347305\n",
      "[504]\tvalidation_0-mlogloss:0.34699\n",
      "[505]\tvalidation_0-mlogloss:0.346848\n",
      "[506]\tvalidation_0-mlogloss:0.346602\n",
      "[507]\tvalidation_0-mlogloss:0.346367\n",
      "[508]\tvalidation_0-mlogloss:0.346172\n",
      "[509]\tvalidation_0-mlogloss:0.346036\n",
      "[510]\tvalidation_0-mlogloss:0.345791\n",
      "[511]\tvalidation_0-mlogloss:0.345669\n",
      "[512]\tvalidation_0-mlogloss:0.34552\n",
      "[513]\tvalidation_0-mlogloss:0.345192\n",
      "[514]\tvalidation_0-mlogloss:0.344924\n",
      "[515]\tvalidation_0-mlogloss:0.344561\n",
      "[516]\tvalidation_0-mlogloss:0.344395\n",
      "[517]\tvalidation_0-mlogloss:0.344227\n",
      "[518]\tvalidation_0-mlogloss:0.344013\n",
      "[519]\tvalidation_0-mlogloss:0.343831\n",
      "[520]\tvalidation_0-mlogloss:0.343557\n",
      "[521]\tvalidation_0-mlogloss:0.343339\n",
      "[522]\tvalidation_0-mlogloss:0.343121\n",
      "[523]\tvalidation_0-mlogloss:0.3429\n",
      "[524]\tvalidation_0-mlogloss:0.342738\n",
      "[525]\tvalidation_0-mlogloss:0.34258\n",
      "[526]\tvalidation_0-mlogloss:0.342294\n",
      "[527]\tvalidation_0-mlogloss:0.342077\n",
      "[528]\tvalidation_0-mlogloss:0.341844\n",
      "[529]\tvalidation_0-mlogloss:0.341517\n",
      "[530]\tvalidation_0-mlogloss:0.341271\n",
      "[531]\tvalidation_0-mlogloss:0.341134\n",
      "[532]\tvalidation_0-mlogloss:0.340914\n",
      "[533]\tvalidation_0-mlogloss:0.340739\n",
      "[534]\tvalidation_0-mlogloss:0.340433\n",
      "[535]\tvalidation_0-mlogloss:0.340293\n",
      "[536]\tvalidation_0-mlogloss:0.339994\n",
      "[537]\tvalidation_0-mlogloss:0.339817\n",
      "[538]\tvalidation_0-mlogloss:0.339577\n",
      "[539]\tvalidation_0-mlogloss:0.339413\n",
      "[540]\tvalidation_0-mlogloss:0.33918\n",
      "[541]\tvalidation_0-mlogloss:0.338948\n",
      "[542]\tvalidation_0-mlogloss:0.338685\n",
      "[543]\tvalidation_0-mlogloss:0.338561\n",
      "[544]\tvalidation_0-mlogloss:0.338382\n",
      "[545]\tvalidation_0-mlogloss:0.3382\n",
      "[546]\tvalidation_0-mlogloss:0.33801\n",
      "[547]\tvalidation_0-mlogloss:0.337857\n",
      "[548]\tvalidation_0-mlogloss:0.337661\n",
      "[549]\tvalidation_0-mlogloss:0.337418\n",
      "[550]\tvalidation_0-mlogloss:0.337293\n",
      "[551]\tvalidation_0-mlogloss:0.337036\n",
      "[552]\tvalidation_0-mlogloss:0.336866\n",
      "[553]\tvalidation_0-mlogloss:0.336699\n",
      "[554]\tvalidation_0-mlogloss:0.336535\n",
      "[555]\tvalidation_0-mlogloss:0.336287\n",
      "[556]\tvalidation_0-mlogloss:0.336072\n",
      "[557]\tvalidation_0-mlogloss:0.335839\n",
      "[558]\tvalidation_0-mlogloss:0.335678\n",
      "[559]\tvalidation_0-mlogloss:0.335456\n",
      "[560]\tvalidation_0-mlogloss:0.335229\n",
      "[561]\tvalidation_0-mlogloss:0.335004\n",
      "[562]\tvalidation_0-mlogloss:0.334859\n",
      "[563]\tvalidation_0-mlogloss:0.334665\n",
      "[564]\tvalidation_0-mlogloss:0.334437\n",
      "[565]\tvalidation_0-mlogloss:0.334122\n",
      "[566]\tvalidation_0-mlogloss:0.333911\n",
      "[567]\tvalidation_0-mlogloss:0.333721\n",
      "[568]\tvalidation_0-mlogloss:0.333616\n",
      "[569]\tvalidation_0-mlogloss:0.333481\n",
      "[570]\tvalidation_0-mlogloss:0.333224\n",
      "[571]\tvalidation_0-mlogloss:0.333075\n",
      "[572]\tvalidation_0-mlogloss:0.332903\n",
      "[573]\tvalidation_0-mlogloss:0.332713\n",
      "[574]\tvalidation_0-mlogloss:0.332557\n",
      "[575]\tvalidation_0-mlogloss:0.332215\n",
      "[576]\tvalidation_0-mlogloss:0.332037\n",
      "[577]\tvalidation_0-mlogloss:0.331704\n",
      "[578]\tvalidation_0-mlogloss:0.33147\n",
      "[579]\tvalidation_0-mlogloss:0.331279\n",
      "[580]\tvalidation_0-mlogloss:0.331045\n",
      "[581]\tvalidation_0-mlogloss:0.330831\n",
      "[582]\tvalidation_0-mlogloss:0.330533\n",
      "[583]\tvalidation_0-mlogloss:0.330298\n",
      "[584]\tvalidation_0-mlogloss:0.329958\n",
      "[585]\tvalidation_0-mlogloss:0.329745\n",
      "[586]\tvalidation_0-mlogloss:0.329452\n",
      "[587]\tvalidation_0-mlogloss:0.329139\n",
      "[588]\tvalidation_0-mlogloss:0.328804\n",
      "[589]\tvalidation_0-mlogloss:0.328638\n",
      "[590]\tvalidation_0-mlogloss:0.328509\n",
      "[591]\tvalidation_0-mlogloss:0.328327\n",
      "[592]\tvalidation_0-mlogloss:0.328047\n",
      "[593]\tvalidation_0-mlogloss:0.327802\n",
      "[594]\tvalidation_0-mlogloss:0.327604\n",
      "[595]\tvalidation_0-mlogloss:0.327414\n",
      "[596]\tvalidation_0-mlogloss:0.327144\n",
      "[597]\tvalidation_0-mlogloss:0.326963\n",
      "[598]\tvalidation_0-mlogloss:0.32673\n",
      "[599]\tvalidation_0-mlogloss:0.32654\n",
      "[600]\tvalidation_0-mlogloss:0.326402\n",
      "[601]\tvalidation_0-mlogloss:0.326206\n",
      "[602]\tvalidation_0-mlogloss:0.325987\n",
      "[603]\tvalidation_0-mlogloss:0.325783\n",
      "[604]\tvalidation_0-mlogloss:0.325577\n",
      "[605]\tvalidation_0-mlogloss:0.325385\n",
      "[606]\tvalidation_0-mlogloss:0.325215\n",
      "[607]\tvalidation_0-mlogloss:0.324979\n",
      "[608]\tvalidation_0-mlogloss:0.324789\n",
      "[609]\tvalidation_0-mlogloss:0.324529\n",
      "[610]\tvalidation_0-mlogloss:0.324326\n",
      "[611]\tvalidation_0-mlogloss:0.324025\n",
      "[612]\tvalidation_0-mlogloss:0.323888\n",
      "[613]\tvalidation_0-mlogloss:0.323645\n",
      "[614]\tvalidation_0-mlogloss:0.323439\n",
      "[615]\tvalidation_0-mlogloss:0.323316\n",
      "[616]\tvalidation_0-mlogloss:0.323196\n",
      "[617]\tvalidation_0-mlogloss:0.322959\n",
      "[618]\tvalidation_0-mlogloss:0.322812\n",
      "[619]\tvalidation_0-mlogloss:0.322627\n",
      "[620]\tvalidation_0-mlogloss:0.322519\n",
      "[621]\tvalidation_0-mlogloss:0.322219\n",
      "[622]\tvalidation_0-mlogloss:0.322077\n",
      "[623]\tvalidation_0-mlogloss:0.321901\n",
      "[624]\tvalidation_0-mlogloss:0.321741\n",
      "[625]\tvalidation_0-mlogloss:0.321494\n",
      "[626]\tvalidation_0-mlogloss:0.321321\n",
      "[627]\tvalidation_0-mlogloss:0.321118\n",
      "[628]\tvalidation_0-mlogloss:0.320956\n",
      "[629]\tvalidation_0-mlogloss:0.320809\n",
      "[630]\tvalidation_0-mlogloss:0.320663\n",
      "[631]\tvalidation_0-mlogloss:0.320428\n",
      "[632]\tvalidation_0-mlogloss:0.320257\n",
      "[633]\tvalidation_0-mlogloss:0.320038\n",
      "[634]\tvalidation_0-mlogloss:0.319894\n",
      "[635]\tvalidation_0-mlogloss:0.31975\n",
      "[636]\tvalidation_0-mlogloss:0.319561\n",
      "[637]\tvalidation_0-mlogloss:0.319379\n",
      "[638]\tvalidation_0-mlogloss:0.319205\n",
      "[639]\tvalidation_0-mlogloss:0.3191\n",
      "[640]\tvalidation_0-mlogloss:0.318951\n",
      "[641]\tvalidation_0-mlogloss:0.318784\n",
      "[642]\tvalidation_0-mlogloss:0.31858\n",
      "[643]\tvalidation_0-mlogloss:0.31838\n",
      "[644]\tvalidation_0-mlogloss:0.318149\n",
      "[645]\tvalidation_0-mlogloss:0.317938\n",
      "[646]\tvalidation_0-mlogloss:0.317773\n",
      "[647]\tvalidation_0-mlogloss:0.317521\n",
      "[648]\tvalidation_0-mlogloss:0.317354\n",
      "[649]\tvalidation_0-mlogloss:0.317146\n",
      "[650]\tvalidation_0-mlogloss:0.316967\n",
      "[651]\tvalidation_0-mlogloss:0.316864\n",
      "[652]\tvalidation_0-mlogloss:0.316721\n",
      "[653]\tvalidation_0-mlogloss:0.316495\n",
      "[654]\tvalidation_0-mlogloss:0.3163\n",
      "[655]\tvalidation_0-mlogloss:0.31618\n",
      "[656]\tvalidation_0-mlogloss:0.31593\n",
      "[657]\tvalidation_0-mlogloss:0.31581\n",
      "[658]\tvalidation_0-mlogloss:0.315613\n",
      "[659]\tvalidation_0-mlogloss:0.315487\n",
      "[660]\tvalidation_0-mlogloss:0.315244\n",
      "[661]\tvalidation_0-mlogloss:0.315002\n",
      "[662]\tvalidation_0-mlogloss:0.314867\n",
      "[663]\tvalidation_0-mlogloss:0.314621\n",
      "[664]\tvalidation_0-mlogloss:0.314473\n",
      "[665]\tvalidation_0-mlogloss:0.314255\n",
      "[666]\tvalidation_0-mlogloss:0.314013\n",
      "[667]\tvalidation_0-mlogloss:0.313709\n",
      "[668]\tvalidation_0-mlogloss:0.313548\n",
      "[669]\tvalidation_0-mlogloss:0.313318\n",
      "[670]\tvalidation_0-mlogloss:0.313145\n"
     ]
    },
    {
     "name": "stdout",
     "output_type": "stream",
     "text": [
      "[671]\tvalidation_0-mlogloss:0.312934\n",
      "[672]\tvalidation_0-mlogloss:0.312686\n",
      "[673]\tvalidation_0-mlogloss:0.312544\n",
      "[674]\tvalidation_0-mlogloss:0.312371\n",
      "[675]\tvalidation_0-mlogloss:0.312233\n",
      "[676]\tvalidation_0-mlogloss:0.312102\n",
      "[677]\tvalidation_0-mlogloss:0.311941\n",
      "[678]\tvalidation_0-mlogloss:0.311727\n",
      "[679]\tvalidation_0-mlogloss:0.311523\n",
      "[680]\tvalidation_0-mlogloss:0.311426\n",
      "[681]\tvalidation_0-mlogloss:0.31124\n",
      "[682]\tvalidation_0-mlogloss:0.311105\n",
      "[683]\tvalidation_0-mlogloss:0.310939\n",
      "[684]\tvalidation_0-mlogloss:0.310731\n",
      "[685]\tvalidation_0-mlogloss:0.310559\n",
      "[686]\tvalidation_0-mlogloss:0.310391\n",
      "[687]\tvalidation_0-mlogloss:0.310246\n",
      "[688]\tvalidation_0-mlogloss:0.310073\n",
      "[689]\tvalidation_0-mlogloss:0.309925\n",
      "[690]\tvalidation_0-mlogloss:0.309712\n",
      "[691]\tvalidation_0-mlogloss:0.309497\n",
      "[692]\tvalidation_0-mlogloss:0.309375\n",
      "[693]\tvalidation_0-mlogloss:0.309234\n",
      "[694]\tvalidation_0-mlogloss:0.30906\n",
      "[695]\tvalidation_0-mlogloss:0.308891\n",
      "[696]\tvalidation_0-mlogloss:0.308767\n",
      "[697]\tvalidation_0-mlogloss:0.30864\n",
      "[698]\tvalidation_0-mlogloss:0.30842\n",
      "[699]\tvalidation_0-mlogloss:0.308269\n",
      "[700]\tvalidation_0-mlogloss:0.308168\n",
      "[701]\tvalidation_0-mlogloss:0.307958\n",
      "[702]\tvalidation_0-mlogloss:0.307791\n",
      "[703]\tvalidation_0-mlogloss:0.307583\n",
      "[704]\tvalidation_0-mlogloss:0.307409\n",
      "[705]\tvalidation_0-mlogloss:0.307252\n",
      "[706]\tvalidation_0-mlogloss:0.30706\n",
      "[707]\tvalidation_0-mlogloss:0.3069\n",
      "[708]\tvalidation_0-mlogloss:0.306607\n",
      "[709]\tvalidation_0-mlogloss:0.306439\n",
      "[710]\tvalidation_0-mlogloss:0.306155\n",
      "[711]\tvalidation_0-mlogloss:0.305978\n",
      "[712]\tvalidation_0-mlogloss:0.305781\n",
      "[713]\tvalidation_0-mlogloss:0.305638\n",
      "[714]\tvalidation_0-mlogloss:0.305479\n",
      "[715]\tvalidation_0-mlogloss:0.305311\n",
      "[716]\tvalidation_0-mlogloss:0.305136\n",
      "[717]\tvalidation_0-mlogloss:0.305005\n",
      "[718]\tvalidation_0-mlogloss:0.304844\n",
      "[719]\tvalidation_0-mlogloss:0.304722\n",
      "[720]\tvalidation_0-mlogloss:0.304523\n",
      "[721]\tvalidation_0-mlogloss:0.304361\n",
      "[722]\tvalidation_0-mlogloss:0.304221\n",
      "[723]\tvalidation_0-mlogloss:0.304122\n",
      "[724]\tvalidation_0-mlogloss:0.303956\n",
      "[725]\tvalidation_0-mlogloss:0.303748\n",
      "[726]\tvalidation_0-mlogloss:0.303661\n",
      "[727]\tvalidation_0-mlogloss:0.303542\n",
      "[728]\tvalidation_0-mlogloss:0.303389\n",
      "[729]\tvalidation_0-mlogloss:0.303161\n",
      "[730]\tvalidation_0-mlogloss:0.303098\n",
      "[731]\tvalidation_0-mlogloss:0.302961\n",
      "[732]\tvalidation_0-mlogloss:0.302784\n",
      "[733]\tvalidation_0-mlogloss:0.302546\n",
      "[734]\tvalidation_0-mlogloss:0.302315\n",
      "[735]\tvalidation_0-mlogloss:0.302202\n",
      "[736]\tvalidation_0-mlogloss:0.302068\n",
      "[737]\tvalidation_0-mlogloss:0.301837\n",
      "[738]\tvalidation_0-mlogloss:0.301735\n",
      "[739]\tvalidation_0-mlogloss:0.301638\n",
      "[740]\tvalidation_0-mlogloss:0.301465\n",
      "[741]\tvalidation_0-mlogloss:0.301376\n",
      "[742]\tvalidation_0-mlogloss:0.301209\n",
      "[743]\tvalidation_0-mlogloss:0.300998\n",
      "[744]\tvalidation_0-mlogloss:0.300906\n",
      "[745]\tvalidation_0-mlogloss:0.300786\n",
      "[746]\tvalidation_0-mlogloss:0.30063\n",
      "[747]\tvalidation_0-mlogloss:0.300478\n",
      "[748]\tvalidation_0-mlogloss:0.300338\n",
      "[749]\tvalidation_0-mlogloss:0.300152\n",
      "[750]\tvalidation_0-mlogloss:0.300005\n",
      "[751]\tvalidation_0-mlogloss:0.299852\n",
      "[752]\tvalidation_0-mlogloss:0.2997\n",
      "[753]\tvalidation_0-mlogloss:0.299563\n",
      "[754]\tvalidation_0-mlogloss:0.299331\n",
      "[755]\tvalidation_0-mlogloss:0.299135\n",
      "[756]\tvalidation_0-mlogloss:0.298945\n",
      "[757]\tvalidation_0-mlogloss:0.298862\n",
      "[758]\tvalidation_0-mlogloss:0.298712\n",
      "[759]\tvalidation_0-mlogloss:0.298619\n",
      "[760]\tvalidation_0-mlogloss:0.298557\n",
      "[761]\tvalidation_0-mlogloss:0.298426\n",
      "[762]\tvalidation_0-mlogloss:0.298239\n",
      "[763]\tvalidation_0-mlogloss:0.298122\n",
      "[764]\tvalidation_0-mlogloss:0.298052\n",
      "[765]\tvalidation_0-mlogloss:0.297882\n",
      "[766]\tvalidation_0-mlogloss:0.297755\n",
      "[767]\tvalidation_0-mlogloss:0.297549\n",
      "[768]\tvalidation_0-mlogloss:0.297463\n",
      "[769]\tvalidation_0-mlogloss:0.297382\n",
      "[770]\tvalidation_0-mlogloss:0.297253\n",
      "[771]\tvalidation_0-mlogloss:0.297087\n",
      "[772]\tvalidation_0-mlogloss:0.296997\n",
      "[773]\tvalidation_0-mlogloss:0.296875\n",
      "[774]\tvalidation_0-mlogloss:0.296703\n",
      "[775]\tvalidation_0-mlogloss:0.296568\n",
      "[776]\tvalidation_0-mlogloss:0.296453\n",
      "[777]\tvalidation_0-mlogloss:0.296333\n",
      "[778]\tvalidation_0-mlogloss:0.29619\n",
      "[779]\tvalidation_0-mlogloss:0.296049\n",
      "[780]\tvalidation_0-mlogloss:0.295963\n",
      "[781]\tvalidation_0-mlogloss:0.295837\n",
      "[782]\tvalidation_0-mlogloss:0.295697\n",
      "[783]\tvalidation_0-mlogloss:0.295585\n",
      "[784]\tvalidation_0-mlogloss:0.295526\n",
      "[785]\tvalidation_0-mlogloss:0.295432\n",
      "[786]\tvalidation_0-mlogloss:0.295379\n",
      "[787]\tvalidation_0-mlogloss:0.295309\n",
      "[788]\tvalidation_0-mlogloss:0.295182\n",
      "[789]\tvalidation_0-mlogloss:0.295068\n",
      "[790]\tvalidation_0-mlogloss:0.29482\n",
      "[791]\tvalidation_0-mlogloss:0.294669\n",
      "[792]\tvalidation_0-mlogloss:0.2946\n",
      "[793]\tvalidation_0-mlogloss:0.294479\n",
      "[794]\tvalidation_0-mlogloss:0.294287\n",
      "[795]\tvalidation_0-mlogloss:0.294124\n",
      "[796]\tvalidation_0-mlogloss:0.293974\n",
      "[797]\tvalidation_0-mlogloss:0.293822\n",
      "[798]\tvalidation_0-mlogloss:0.293619\n",
      "[799]\tvalidation_0-mlogloss:0.293467\n",
      "[800]\tvalidation_0-mlogloss:0.293321\n",
      "[801]\tvalidation_0-mlogloss:0.293163\n",
      "[802]\tvalidation_0-mlogloss:0.293077\n",
      "[803]\tvalidation_0-mlogloss:0.292947\n",
      "[804]\tvalidation_0-mlogloss:0.292781\n",
      "[805]\tvalidation_0-mlogloss:0.292697\n",
      "[806]\tvalidation_0-mlogloss:0.292558\n",
      "[807]\tvalidation_0-mlogloss:0.292416\n",
      "[808]\tvalidation_0-mlogloss:0.292259\n",
      "[809]\tvalidation_0-mlogloss:0.292028\n",
      "[810]\tvalidation_0-mlogloss:0.291825\n",
      "[811]\tvalidation_0-mlogloss:0.291735\n",
      "[812]\tvalidation_0-mlogloss:0.291633\n",
      "[813]\tvalidation_0-mlogloss:0.291463\n",
      "[814]\tvalidation_0-mlogloss:0.291319\n",
      "[815]\tvalidation_0-mlogloss:0.291152\n",
      "[816]\tvalidation_0-mlogloss:0.29101\n",
      "[817]\tvalidation_0-mlogloss:0.290856\n",
      "[818]\tvalidation_0-mlogloss:0.290729\n",
      "[819]\tvalidation_0-mlogloss:0.290566\n",
      "[820]\tvalidation_0-mlogloss:0.290447\n",
      "[821]\tvalidation_0-mlogloss:0.290245\n",
      "[822]\tvalidation_0-mlogloss:0.290116\n",
      "[823]\tvalidation_0-mlogloss:0.289917\n",
      "[824]\tvalidation_0-mlogloss:0.289754\n",
      "[825]\tvalidation_0-mlogloss:0.289453\n",
      "[826]\tvalidation_0-mlogloss:0.289278\n",
      "[827]\tvalidation_0-mlogloss:0.289099\n",
      "[828]\tvalidation_0-mlogloss:0.288953\n",
      "[829]\tvalidation_0-mlogloss:0.288777\n",
      "[830]\tvalidation_0-mlogloss:0.288605\n",
      "[831]\tvalidation_0-mlogloss:0.288473\n",
      "[832]\tvalidation_0-mlogloss:0.288316\n",
      "[833]\tvalidation_0-mlogloss:0.288185\n",
      "[834]\tvalidation_0-mlogloss:0.287993\n",
      "[835]\tvalidation_0-mlogloss:0.28783\n",
      "[836]\tvalidation_0-mlogloss:0.287621\n",
      "[837]\tvalidation_0-mlogloss:0.287455\n",
      "[838]\tvalidation_0-mlogloss:0.28726\n",
      "[839]\tvalidation_0-mlogloss:0.287109\n",
      "[840]\tvalidation_0-mlogloss:0.286918\n",
      "[841]\tvalidation_0-mlogloss:0.286742\n",
      "[842]\tvalidation_0-mlogloss:0.286547\n",
      "[843]\tvalidation_0-mlogloss:0.286367\n",
      "[844]\tvalidation_0-mlogloss:0.286153\n",
      "[845]\tvalidation_0-mlogloss:0.285954\n",
      "[846]\tvalidation_0-mlogloss:0.285791\n",
      "[847]\tvalidation_0-mlogloss:0.285642\n",
      "[848]\tvalidation_0-mlogloss:0.285443\n",
      "[849]\tvalidation_0-mlogloss:0.285264\n",
      "[850]\tvalidation_0-mlogloss:0.285067\n",
      "[851]\tvalidation_0-mlogloss:0.28495\n",
      "[852]\tvalidation_0-mlogloss:0.284635\n",
      "[853]\tvalidation_0-mlogloss:0.284497\n",
      "[854]\tvalidation_0-mlogloss:0.284313\n",
      "[855]\tvalidation_0-mlogloss:0.284133\n",
      "[856]\tvalidation_0-mlogloss:0.28401\n",
      "[857]\tvalidation_0-mlogloss:0.283833\n",
      "[858]\tvalidation_0-mlogloss:0.283642\n",
      "[859]\tvalidation_0-mlogloss:0.283498\n",
      "[860]\tvalidation_0-mlogloss:0.283382\n",
      "[861]\tvalidation_0-mlogloss:0.28331\n",
      "[862]\tvalidation_0-mlogloss:0.283225\n",
      "[863]\tvalidation_0-mlogloss:0.283086\n",
      "[864]\tvalidation_0-mlogloss:0.283001\n",
      "[865]\tvalidation_0-mlogloss:0.282763\n",
      "[866]\tvalidation_0-mlogloss:0.282689\n",
      "[867]\tvalidation_0-mlogloss:0.282622\n",
      "[868]\tvalidation_0-mlogloss:0.282453\n",
      "[869]\tvalidation_0-mlogloss:0.282206\n",
      "[870]\tvalidation_0-mlogloss:0.28212\n",
      "[871]\tvalidation_0-mlogloss:0.281895\n",
      "[872]\tvalidation_0-mlogloss:0.281741\n",
      "[873]\tvalidation_0-mlogloss:0.281663\n",
      "[874]\tvalidation_0-mlogloss:0.281547\n",
      "[875]\tvalidation_0-mlogloss:0.281415\n",
      "[876]\tvalidation_0-mlogloss:0.281238\n",
      "[877]\tvalidation_0-mlogloss:0.281148\n",
      "[878]\tvalidation_0-mlogloss:0.281051\n",
      "[879]\tvalidation_0-mlogloss:0.280968\n",
      "[880]\tvalidation_0-mlogloss:0.280858\n",
      "[881]\tvalidation_0-mlogloss:0.280756\n",
      "[882]\tvalidation_0-mlogloss:0.280652\n",
      "[883]\tvalidation_0-mlogloss:0.280547\n",
      "[884]\tvalidation_0-mlogloss:0.28038\n",
      "[885]\tvalidation_0-mlogloss:0.280127\n",
      "[886]\tvalidation_0-mlogloss:0.279985\n",
      "[887]\tvalidation_0-mlogloss:0.27984\n",
      "[888]\tvalidation_0-mlogloss:0.279756\n",
      "[889]\tvalidation_0-mlogloss:0.279553\n",
      "[890]\tvalidation_0-mlogloss:0.279388\n",
      "[891]\tvalidation_0-mlogloss:0.27925\n",
      "[892]\tvalidation_0-mlogloss:0.279091\n",
      "[893]\tvalidation_0-mlogloss:0.278942\n"
     ]
    },
    {
     "name": "stdout",
     "output_type": "stream",
     "text": [
      "[894]\tvalidation_0-mlogloss:0.278719\n",
      "[895]\tvalidation_0-mlogloss:0.278601\n",
      "[896]\tvalidation_0-mlogloss:0.278412\n",
      "[897]\tvalidation_0-mlogloss:0.278254\n",
      "[898]\tvalidation_0-mlogloss:0.278117\n",
      "[899]\tvalidation_0-mlogloss:0.27799\n",
      "[900]\tvalidation_0-mlogloss:0.277842\n",
      "[901]\tvalidation_0-mlogloss:0.277762\n",
      "[902]\tvalidation_0-mlogloss:0.277513\n",
      "[903]\tvalidation_0-mlogloss:0.277351\n",
      "[904]\tvalidation_0-mlogloss:0.277073\n",
      "[905]\tvalidation_0-mlogloss:0.2769\n",
      "[906]\tvalidation_0-mlogloss:0.276548\n",
      "[907]\tvalidation_0-mlogloss:0.276379\n",
      "[908]\tvalidation_0-mlogloss:0.276141\n",
      "[909]\tvalidation_0-mlogloss:0.275899\n",
      "[910]\tvalidation_0-mlogloss:0.275772\n",
      "[911]\tvalidation_0-mlogloss:0.275488\n",
      "[912]\tvalidation_0-mlogloss:0.275328\n",
      "[913]\tvalidation_0-mlogloss:0.275184\n",
      "[914]\tvalidation_0-mlogloss:0.275003\n",
      "[915]\tvalidation_0-mlogloss:0.274719\n",
      "[916]\tvalidation_0-mlogloss:0.274584\n",
      "[917]\tvalidation_0-mlogloss:0.274375\n",
      "[918]\tvalidation_0-mlogloss:0.274199\n",
      "[919]\tvalidation_0-mlogloss:0.274052\n",
      "[920]\tvalidation_0-mlogloss:0.273925\n",
      "[921]\tvalidation_0-mlogloss:0.27381\n",
      "[922]\tvalidation_0-mlogloss:0.273651\n",
      "[923]\tvalidation_0-mlogloss:0.273503\n",
      "[924]\tvalidation_0-mlogloss:0.273264\n",
      "[925]\tvalidation_0-mlogloss:0.273052\n",
      "[926]\tvalidation_0-mlogloss:0.272884\n",
      "[927]\tvalidation_0-mlogloss:0.272519\n",
      "[928]\tvalidation_0-mlogloss:0.272347\n",
      "[929]\tvalidation_0-mlogloss:0.272177\n",
      "[930]\tvalidation_0-mlogloss:0.272003\n",
      "[931]\tvalidation_0-mlogloss:0.271891\n",
      "[932]\tvalidation_0-mlogloss:0.271804\n",
      "[933]\tvalidation_0-mlogloss:0.271669\n",
      "[934]\tvalidation_0-mlogloss:0.271519\n",
      "[935]\tvalidation_0-mlogloss:0.271423\n",
      "[936]\tvalidation_0-mlogloss:0.271309\n",
      "[937]\tvalidation_0-mlogloss:0.271053\n",
      "[938]\tvalidation_0-mlogloss:0.270926\n",
      "[939]\tvalidation_0-mlogloss:0.270753\n",
      "[940]\tvalidation_0-mlogloss:0.270645\n",
      "[941]\tvalidation_0-mlogloss:0.270502\n",
      "[942]\tvalidation_0-mlogloss:0.270344\n",
      "[943]\tvalidation_0-mlogloss:0.270182\n",
      "[944]\tvalidation_0-mlogloss:0.269893\n",
      "[945]\tvalidation_0-mlogloss:0.269803\n",
      "[946]\tvalidation_0-mlogloss:0.269534\n",
      "[947]\tvalidation_0-mlogloss:0.269408\n",
      "[948]\tvalidation_0-mlogloss:0.269191\n",
      "[949]\tvalidation_0-mlogloss:0.268939\n",
      "[950]\tvalidation_0-mlogloss:0.268851\n",
      "[951]\tvalidation_0-mlogloss:0.268672\n",
      "[952]\tvalidation_0-mlogloss:0.268533\n",
      "[953]\tvalidation_0-mlogloss:0.268351\n",
      "[954]\tvalidation_0-mlogloss:0.268177\n",
      "[955]\tvalidation_0-mlogloss:0.267984\n",
      "[956]\tvalidation_0-mlogloss:0.267765\n",
      "[957]\tvalidation_0-mlogloss:0.267664\n",
      "[958]\tvalidation_0-mlogloss:0.267508\n",
      "[959]\tvalidation_0-mlogloss:0.26741\n",
      "[960]\tvalidation_0-mlogloss:0.267298\n",
      "[961]\tvalidation_0-mlogloss:0.267126\n",
      "[962]\tvalidation_0-mlogloss:0.266915\n",
      "[963]\tvalidation_0-mlogloss:0.266741\n",
      "[964]\tvalidation_0-mlogloss:0.266564\n",
      "[965]\tvalidation_0-mlogloss:0.266373\n",
      "[966]\tvalidation_0-mlogloss:0.266241\n",
      "[967]\tvalidation_0-mlogloss:0.266069\n",
      "[968]\tvalidation_0-mlogloss:0.265918\n",
      "[969]\tvalidation_0-mlogloss:0.26578\n",
      "[970]\tvalidation_0-mlogloss:0.265635\n",
      "[971]\tvalidation_0-mlogloss:0.265556\n",
      "[972]\tvalidation_0-mlogloss:0.26543\n",
      "[973]\tvalidation_0-mlogloss:0.265212\n",
      "[974]\tvalidation_0-mlogloss:0.265024\n",
      "[975]\tvalidation_0-mlogloss:0.264888\n",
      "[976]\tvalidation_0-mlogloss:0.264784\n",
      "[977]\tvalidation_0-mlogloss:0.264612\n",
      "[978]\tvalidation_0-mlogloss:0.26442\n",
      "[979]\tvalidation_0-mlogloss:0.264252\n",
      "[980]\tvalidation_0-mlogloss:0.264146\n",
      "[981]\tvalidation_0-mlogloss:0.263928\n",
      "[982]\tvalidation_0-mlogloss:0.263746\n",
      "[983]\tvalidation_0-mlogloss:0.263514\n",
      "[984]\tvalidation_0-mlogloss:0.263325\n",
      "[985]\tvalidation_0-mlogloss:0.263103\n",
      "[986]\tvalidation_0-mlogloss:0.262936\n",
      "[987]\tvalidation_0-mlogloss:0.2628\n",
      "[988]\tvalidation_0-mlogloss:0.262616\n",
      "[989]\tvalidation_0-mlogloss:0.262489\n",
      "[990]\tvalidation_0-mlogloss:0.262315\n",
      "[991]\tvalidation_0-mlogloss:0.262127\n",
      "[992]\tvalidation_0-mlogloss:0.262052\n",
      "[993]\tvalidation_0-mlogloss:0.261973\n",
      "[994]\tvalidation_0-mlogloss:0.261823\n",
      "[995]\tvalidation_0-mlogloss:0.261708\n",
      "[996]\tvalidation_0-mlogloss:0.261614\n",
      "[997]\tvalidation_0-mlogloss:0.261535\n",
      "[998]\tvalidation_0-mlogloss:0.261432\n",
      "[999]\tvalidation_0-mlogloss:0.261287\n",
      "[1000]\tvalidation_0-mlogloss:0.261116\n",
      "[1001]\tvalidation_0-mlogloss:0.260979\n",
      "[1002]\tvalidation_0-mlogloss:0.260918\n",
      "[1003]\tvalidation_0-mlogloss:0.26079\n",
      "[1004]\tvalidation_0-mlogloss:0.260726\n",
      "[1005]\tvalidation_0-mlogloss:0.260596\n",
      "[1006]\tvalidation_0-mlogloss:0.260447\n",
      "[1007]\tvalidation_0-mlogloss:0.260306\n",
      "[1008]\tvalidation_0-mlogloss:0.260236\n",
      "[1009]\tvalidation_0-mlogloss:0.260117\n",
      "[1010]\tvalidation_0-mlogloss:0.260012\n",
      "[1011]\tvalidation_0-mlogloss:0.259819\n",
      "[1012]\tvalidation_0-mlogloss:0.259674\n",
      "[1013]\tvalidation_0-mlogloss:0.259582\n",
      "[1014]\tvalidation_0-mlogloss:0.259458\n",
      "[1015]\tvalidation_0-mlogloss:0.259309\n",
      "[1016]\tvalidation_0-mlogloss:0.259118\n",
      "[1017]\tvalidation_0-mlogloss:0.258968\n",
      "[1018]\tvalidation_0-mlogloss:0.258771\n",
      "[1019]\tvalidation_0-mlogloss:0.2586\n",
      "[1020]\tvalidation_0-mlogloss:0.258387\n",
      "[1021]\tvalidation_0-mlogloss:0.258229\n",
      "[1022]\tvalidation_0-mlogloss:0.258041\n",
      "[1023]\tvalidation_0-mlogloss:0.257923\n",
      "[1024]\tvalidation_0-mlogloss:0.257598\n",
      "[1025]\tvalidation_0-mlogloss:0.257443\n",
      "[1026]\tvalidation_0-mlogloss:0.257253\n",
      "[1027]\tvalidation_0-mlogloss:0.256895\n",
      "[1028]\tvalidation_0-mlogloss:0.256688\n",
      "[1029]\tvalidation_0-mlogloss:0.256518\n",
      "[1030]\tvalidation_0-mlogloss:0.256359\n",
      "[1031]\tvalidation_0-mlogloss:0.256259\n",
      "[1032]\tvalidation_0-mlogloss:0.256123\n",
      "[1033]\tvalidation_0-mlogloss:0.256027\n",
      "[1034]\tvalidation_0-mlogloss:0.25592\n",
      "[1035]\tvalidation_0-mlogloss:0.255704\n",
      "[1036]\tvalidation_0-mlogloss:0.255632\n",
      "[1037]\tvalidation_0-mlogloss:0.255546\n",
      "[1038]\tvalidation_0-mlogloss:0.255441\n",
      "[1039]\tvalidation_0-mlogloss:0.255332\n",
      "[1040]\tvalidation_0-mlogloss:0.255247\n",
      "[1041]\tvalidation_0-mlogloss:0.255049\n",
      "[1042]\tvalidation_0-mlogloss:0.254897\n",
      "[1043]\tvalidation_0-mlogloss:0.254789\n",
      "[1044]\tvalidation_0-mlogloss:0.254691\n",
      "[1045]\tvalidation_0-mlogloss:0.254576\n",
      "[1046]\tvalidation_0-mlogloss:0.254463\n",
      "[1047]\tvalidation_0-mlogloss:0.254318\n",
      "[1048]\tvalidation_0-mlogloss:0.254212\n",
      "[1049]\tvalidation_0-mlogloss:0.254118\n",
      "[1050]\tvalidation_0-mlogloss:0.254019\n",
      "[1051]\tvalidation_0-mlogloss:0.253882\n",
      "[1052]\tvalidation_0-mlogloss:0.253762\n",
      "[1053]\tvalidation_0-mlogloss:0.253625\n",
      "[1054]\tvalidation_0-mlogloss:0.253517\n",
      "[1055]\tvalidation_0-mlogloss:0.253363\n",
      "[1056]\tvalidation_0-mlogloss:0.253227\n",
      "[1057]\tvalidation_0-mlogloss:0.253092\n",
      "[1058]\tvalidation_0-mlogloss:0.253028\n",
      "[1059]\tvalidation_0-mlogloss:0.252871\n",
      "[1060]\tvalidation_0-mlogloss:0.252775\n",
      "[1061]\tvalidation_0-mlogloss:0.252655\n",
      "[1062]\tvalidation_0-mlogloss:0.252556\n",
      "[1063]\tvalidation_0-mlogloss:0.252427\n",
      "[1064]\tvalidation_0-mlogloss:0.252347\n",
      "[1065]\tvalidation_0-mlogloss:0.252267\n",
      "[1066]\tvalidation_0-mlogloss:0.252177\n",
      "[1067]\tvalidation_0-mlogloss:0.252043\n",
      "[1068]\tvalidation_0-mlogloss:0.251955\n",
      "[1069]\tvalidation_0-mlogloss:0.251826\n",
      "[1070]\tvalidation_0-mlogloss:0.251686\n",
      "[1071]\tvalidation_0-mlogloss:0.251566\n",
      "[1072]\tvalidation_0-mlogloss:0.251461\n",
      "[1073]\tvalidation_0-mlogloss:0.251309\n",
      "[1074]\tvalidation_0-mlogloss:0.251134\n",
      "[1075]\tvalidation_0-mlogloss:0.250932\n",
      "[1076]\tvalidation_0-mlogloss:0.250782\n",
      "[1077]\tvalidation_0-mlogloss:0.250663\n",
      "[1078]\tvalidation_0-mlogloss:0.250411\n",
      "[1079]\tvalidation_0-mlogloss:0.250258\n",
      "[1080]\tvalidation_0-mlogloss:0.25003\n",
      "[1081]\tvalidation_0-mlogloss:0.249904\n",
      "[1082]\tvalidation_0-mlogloss:0.249815\n",
      "[1083]\tvalidation_0-mlogloss:0.249708\n",
      "[1084]\tvalidation_0-mlogloss:0.249538\n",
      "[1085]\tvalidation_0-mlogloss:0.249437\n",
      "[1086]\tvalidation_0-mlogloss:0.249353\n",
      "[1087]\tvalidation_0-mlogloss:0.249225\n",
      "[1088]\tvalidation_0-mlogloss:0.249052\n",
      "[1089]\tvalidation_0-mlogloss:0.248963\n",
      "[1090]\tvalidation_0-mlogloss:0.248885\n",
      "[1091]\tvalidation_0-mlogloss:0.248784\n",
      "[1092]\tvalidation_0-mlogloss:0.248602\n",
      "[1093]\tvalidation_0-mlogloss:0.248412\n",
      "[1094]\tvalidation_0-mlogloss:0.24829\n",
      "[1095]\tvalidation_0-mlogloss:0.248179\n",
      "[1096]\tvalidation_0-mlogloss:0.24796\n",
      "[1097]\tvalidation_0-mlogloss:0.247825\n",
      "[1098]\tvalidation_0-mlogloss:0.24771\n",
      "[1099]\tvalidation_0-mlogloss:0.247548\n",
      "[1100]\tvalidation_0-mlogloss:0.247401\n",
      "[1101]\tvalidation_0-mlogloss:0.247277\n",
      "[1102]\tvalidation_0-mlogloss:0.247194\n",
      "[1103]\tvalidation_0-mlogloss:0.24704\n",
      "[1104]\tvalidation_0-mlogloss:0.246912\n",
      "[1105]\tvalidation_0-mlogloss:0.246792\n",
      "[1106]\tvalidation_0-mlogloss:0.246661\n",
      "[1107]\tvalidation_0-mlogloss:0.24657\n",
      "[1108]\tvalidation_0-mlogloss:0.246435\n",
      "[1109]\tvalidation_0-mlogloss:0.24635\n",
      "[1110]\tvalidation_0-mlogloss:0.246228\n",
      "[1111]\tvalidation_0-mlogloss:0.246105\n",
      "[1112]\tvalidation_0-mlogloss:0.245931\n"
     ]
    },
    {
     "name": "stdout",
     "output_type": "stream",
     "text": [
      "[1113]\tvalidation_0-mlogloss:0.245838\n",
      "[1114]\tvalidation_0-mlogloss:0.245743\n",
      "[1115]\tvalidation_0-mlogloss:0.245612\n",
      "[1116]\tvalidation_0-mlogloss:0.245465\n",
      "[1117]\tvalidation_0-mlogloss:0.245331\n",
      "[1118]\tvalidation_0-mlogloss:0.245188\n",
      "[1119]\tvalidation_0-mlogloss:0.24501\n",
      "[1120]\tvalidation_0-mlogloss:0.24482\n",
      "[1121]\tvalidation_0-mlogloss:0.244697\n",
      "[1122]\tvalidation_0-mlogloss:0.244629\n",
      "[1123]\tvalidation_0-mlogloss:0.244385\n",
      "[1124]\tvalidation_0-mlogloss:0.244247\n",
      "[1125]\tvalidation_0-mlogloss:0.244097\n",
      "[1126]\tvalidation_0-mlogloss:0.244026\n",
      "[1127]\tvalidation_0-mlogloss:0.243873\n",
      "[1128]\tvalidation_0-mlogloss:0.243735\n",
      "[1129]\tvalidation_0-mlogloss:0.24366\n",
      "[1130]\tvalidation_0-mlogloss:0.243583\n",
      "[1131]\tvalidation_0-mlogloss:0.243435\n",
      "[1132]\tvalidation_0-mlogloss:0.243309\n",
      "[1133]\tvalidation_0-mlogloss:0.243164\n",
      "[1134]\tvalidation_0-mlogloss:0.243014\n",
      "[1135]\tvalidation_0-mlogloss:0.242858\n",
      "[1136]\tvalidation_0-mlogloss:0.242768\n",
      "[1137]\tvalidation_0-mlogloss:0.242609\n",
      "[1138]\tvalidation_0-mlogloss:0.242498\n",
      "[1139]\tvalidation_0-mlogloss:0.242341\n",
      "[1140]\tvalidation_0-mlogloss:0.242208\n",
      "[1141]\tvalidation_0-mlogloss:0.242062\n",
      "[1142]\tvalidation_0-mlogloss:0.241972\n",
      "[1143]\tvalidation_0-mlogloss:0.241846\n",
      "[1144]\tvalidation_0-mlogloss:0.241742\n",
      "[1145]\tvalidation_0-mlogloss:0.241672\n",
      "[1146]\tvalidation_0-mlogloss:0.241532\n",
      "[1147]\tvalidation_0-mlogloss:0.241454\n",
      "[1148]\tvalidation_0-mlogloss:0.241269\n",
      "[1149]\tvalidation_0-mlogloss:0.241094\n",
      "[1150]\tvalidation_0-mlogloss:0.241001\n",
      "[1151]\tvalidation_0-mlogloss:0.240871\n",
      "[1152]\tvalidation_0-mlogloss:0.240757\n",
      "[1153]\tvalidation_0-mlogloss:0.240659\n",
      "[1154]\tvalidation_0-mlogloss:0.240525\n",
      "[1155]\tvalidation_0-mlogloss:0.240344\n",
      "[1156]\tvalidation_0-mlogloss:0.240183\n",
      "[1157]\tvalidation_0-mlogloss:0.240026\n",
      "[1158]\tvalidation_0-mlogloss:0.239867\n",
      "[1159]\tvalidation_0-mlogloss:0.239632\n",
      "[1160]\tvalidation_0-mlogloss:0.239463\n",
      "[1161]\tvalidation_0-mlogloss:0.239347\n",
      "[1162]\tvalidation_0-mlogloss:0.239181\n",
      "[1163]\tvalidation_0-mlogloss:0.238948\n",
      "[1164]\tvalidation_0-mlogloss:0.238854\n",
      "[1165]\tvalidation_0-mlogloss:0.23866\n",
      "[1166]\tvalidation_0-mlogloss:0.238476\n",
      "[1167]\tvalidation_0-mlogloss:0.238403\n",
      "[1168]\tvalidation_0-mlogloss:0.23829\n",
      "[1169]\tvalidation_0-mlogloss:0.238198\n",
      "[1170]\tvalidation_0-mlogloss:0.238034\n",
      "[1171]\tvalidation_0-mlogloss:0.237922\n",
      "[1172]\tvalidation_0-mlogloss:0.237823\n",
      "[1173]\tvalidation_0-mlogloss:0.23772\n",
      "[1174]\tvalidation_0-mlogloss:0.237563\n",
      "[1175]\tvalidation_0-mlogloss:0.237342\n",
      "[1176]\tvalidation_0-mlogloss:0.237148\n",
      "[1177]\tvalidation_0-mlogloss:0.236958\n",
      "[1178]\tvalidation_0-mlogloss:0.236792\n",
      "[1179]\tvalidation_0-mlogloss:0.236656\n",
      "[1180]\tvalidation_0-mlogloss:0.236402\n",
      "[1181]\tvalidation_0-mlogloss:0.236253\n",
      "[1182]\tvalidation_0-mlogloss:0.236133\n",
      "[1183]\tvalidation_0-mlogloss:0.235983\n",
      "[1184]\tvalidation_0-mlogloss:0.235863\n",
      "[1185]\tvalidation_0-mlogloss:0.235726\n",
      "[1186]\tvalidation_0-mlogloss:0.235598\n",
      "[1187]\tvalidation_0-mlogloss:0.23547\n",
      "[1188]\tvalidation_0-mlogloss:0.235327\n",
      "[1189]\tvalidation_0-mlogloss:0.235171\n",
      "[1190]\tvalidation_0-mlogloss:0.234916\n",
      "[1191]\tvalidation_0-mlogloss:0.234827\n",
      "[1192]\tvalidation_0-mlogloss:0.234747\n",
      "[1193]\tvalidation_0-mlogloss:0.234595\n",
      "[1194]\tvalidation_0-mlogloss:0.234512\n",
      "[1195]\tvalidation_0-mlogloss:0.234355\n",
      "[1196]\tvalidation_0-mlogloss:0.234207\n",
      "[1197]\tvalidation_0-mlogloss:0.234105\n",
      "[1198]\tvalidation_0-mlogloss:0.234015\n",
      "[1199]\tvalidation_0-mlogloss:0.233913\n",
      "[1200]\tvalidation_0-mlogloss:0.233832\n",
      "[1201]\tvalidation_0-mlogloss:0.233732\n",
      "[1202]\tvalidation_0-mlogloss:0.233673\n",
      "[1203]\tvalidation_0-mlogloss:0.233588\n",
      "[1204]\tvalidation_0-mlogloss:0.233515\n",
      "[1205]\tvalidation_0-mlogloss:0.23339\n",
      "[1206]\tvalidation_0-mlogloss:0.233248\n",
      "[1207]\tvalidation_0-mlogloss:0.233061\n",
      "[1208]\tvalidation_0-mlogloss:0.232943\n",
      "[1209]\tvalidation_0-mlogloss:0.232824\n",
      "[1210]\tvalidation_0-mlogloss:0.232687\n",
      "[1211]\tvalidation_0-mlogloss:0.232538\n",
      "[1212]\tvalidation_0-mlogloss:0.232439\n",
      "[1213]\tvalidation_0-mlogloss:0.232262\n",
      "[1214]\tvalidation_0-mlogloss:0.232071\n",
      "[1215]\tvalidation_0-mlogloss:0.231868\n",
      "[1216]\tvalidation_0-mlogloss:0.231702\n",
      "[1217]\tvalidation_0-mlogloss:0.231523\n",
      "[1218]\tvalidation_0-mlogloss:0.231288\n",
      "[1219]\tvalidation_0-mlogloss:0.231106\n",
      "[1220]\tvalidation_0-mlogloss:0.231021\n",
      "[1221]\tvalidation_0-mlogloss:0.230911\n",
      "[1222]\tvalidation_0-mlogloss:0.23072\n",
      "[1223]\tvalidation_0-mlogloss:0.230595\n",
      "[1224]\tvalidation_0-mlogloss:0.230393\n",
      "[1225]\tvalidation_0-mlogloss:0.230264\n",
      "[1226]\tvalidation_0-mlogloss:0.230157\n",
      "[1227]\tvalidation_0-mlogloss:0.230068\n",
      "[1228]\tvalidation_0-mlogloss:0.229906\n",
      "[1229]\tvalidation_0-mlogloss:0.229838\n",
      "[1230]\tvalidation_0-mlogloss:0.229757\n",
      "[1231]\tvalidation_0-mlogloss:0.229556\n",
      "[1232]\tvalidation_0-mlogloss:0.229496\n",
      "[1233]\tvalidation_0-mlogloss:0.229399\n",
      "[1234]\tvalidation_0-mlogloss:0.229296\n",
      "[1235]\tvalidation_0-mlogloss:0.22922\n",
      "[1236]\tvalidation_0-mlogloss:0.22906\n",
      "[1237]\tvalidation_0-mlogloss:0.228834\n",
      "[1238]\tvalidation_0-mlogloss:0.228765\n",
      "[1239]\tvalidation_0-mlogloss:0.22859\n",
      "[1240]\tvalidation_0-mlogloss:0.228477\n",
      "[1241]\tvalidation_0-mlogloss:0.228305\n",
      "[1242]\tvalidation_0-mlogloss:0.228189\n",
      "[1243]\tvalidation_0-mlogloss:0.228038\n",
      "[1244]\tvalidation_0-mlogloss:0.227929\n",
      "[1245]\tvalidation_0-mlogloss:0.227838\n",
      "[1246]\tvalidation_0-mlogloss:0.227708\n",
      "[1247]\tvalidation_0-mlogloss:0.227635\n",
      "[1248]\tvalidation_0-mlogloss:0.227556\n",
      "[1249]\tvalidation_0-mlogloss:0.227447\n",
      "[1250]\tvalidation_0-mlogloss:0.227362\n",
      "[1251]\tvalidation_0-mlogloss:0.227275\n",
      "[1252]\tvalidation_0-mlogloss:0.22719\n",
      "[1253]\tvalidation_0-mlogloss:0.227146\n",
      "[1254]\tvalidation_0-mlogloss:0.227105\n",
      "[1255]\tvalidation_0-mlogloss:0.226963\n",
      "[1256]\tvalidation_0-mlogloss:0.226881\n",
      "[1257]\tvalidation_0-mlogloss:0.226763\n",
      "[1258]\tvalidation_0-mlogloss:0.226598\n",
      "[1259]\tvalidation_0-mlogloss:0.2265\n",
      "[1260]\tvalidation_0-mlogloss:0.226445\n",
      "[1261]\tvalidation_0-mlogloss:0.226375\n",
      "[1262]\tvalidation_0-mlogloss:0.226273\n",
      "[1263]\tvalidation_0-mlogloss:0.226191\n",
      "[1264]\tvalidation_0-mlogloss:0.226073\n",
      "[1265]\tvalidation_0-mlogloss:0.226017\n",
      "[1266]\tvalidation_0-mlogloss:0.225959\n",
      "[1267]\tvalidation_0-mlogloss:0.22586\n",
      "[1268]\tvalidation_0-mlogloss:0.225733\n",
      "[1269]\tvalidation_0-mlogloss:0.225656\n",
      "[1270]\tvalidation_0-mlogloss:0.225511\n",
      "[1271]\tvalidation_0-mlogloss:0.225419\n",
      "[1272]\tvalidation_0-mlogloss:0.225328\n",
      "[1273]\tvalidation_0-mlogloss:0.225256\n",
      "[1274]\tvalidation_0-mlogloss:0.225149\n",
      "[1275]\tvalidation_0-mlogloss:0.225096\n",
      "[1276]\tvalidation_0-mlogloss:0.225016\n",
      "[1277]\tvalidation_0-mlogloss:0.2249\n",
      "[1278]\tvalidation_0-mlogloss:0.224857\n",
      "[1279]\tvalidation_0-mlogloss:0.22479\n",
      "[1280]\tvalidation_0-mlogloss:0.224673\n",
      "[1281]\tvalidation_0-mlogloss:0.224581\n",
      "[1282]\tvalidation_0-mlogloss:0.224477\n",
      "[1283]\tvalidation_0-mlogloss:0.224405\n",
      "[1284]\tvalidation_0-mlogloss:0.22434\n",
      "[1285]\tvalidation_0-mlogloss:0.224291\n",
      "[1286]\tvalidation_0-mlogloss:0.224235\n",
      "[1287]\tvalidation_0-mlogloss:0.224039\n",
      "[1288]\tvalidation_0-mlogloss:0.223976\n",
      "[1289]\tvalidation_0-mlogloss:0.22389\n",
      "[1290]\tvalidation_0-mlogloss:0.22382\n",
      "[1291]\tvalidation_0-mlogloss:0.223673\n",
      "[1292]\tvalidation_0-mlogloss:0.223591\n",
      "[1293]\tvalidation_0-mlogloss:0.223413\n",
      "[1294]\tvalidation_0-mlogloss:0.223265\n",
      "[1295]\tvalidation_0-mlogloss:0.22312\n",
      "[1296]\tvalidation_0-mlogloss:0.222964\n",
      "[1297]\tvalidation_0-mlogloss:0.222859\n",
      "[1298]\tvalidation_0-mlogloss:0.222776\n",
      "[1299]\tvalidation_0-mlogloss:0.222706\n",
      "[1300]\tvalidation_0-mlogloss:0.222621\n",
      "[1301]\tvalidation_0-mlogloss:0.222532\n",
      "[1302]\tvalidation_0-mlogloss:0.222438\n",
      "[1303]\tvalidation_0-mlogloss:0.222355\n",
      "[1304]\tvalidation_0-mlogloss:0.222191\n",
      "[1305]\tvalidation_0-mlogloss:0.222054\n",
      "[1306]\tvalidation_0-mlogloss:0.221945\n",
      "[1307]\tvalidation_0-mlogloss:0.221762\n",
      "[1308]\tvalidation_0-mlogloss:0.221587\n",
      "[1309]\tvalidation_0-mlogloss:0.221493\n",
      "[1310]\tvalidation_0-mlogloss:0.221348\n",
      "[1311]\tvalidation_0-mlogloss:0.221229\n",
      "[1312]\tvalidation_0-mlogloss:0.221151\n",
      "[1313]\tvalidation_0-mlogloss:0.221087\n",
      "[1314]\tvalidation_0-mlogloss:0.220986\n",
      "[1315]\tvalidation_0-mlogloss:0.220934\n",
      "[1316]\tvalidation_0-mlogloss:0.220842\n",
      "[1317]\tvalidation_0-mlogloss:0.22078\n",
      "[1318]\tvalidation_0-mlogloss:0.220646\n",
      "[1319]\tvalidation_0-mlogloss:0.220573\n",
      "[1320]\tvalidation_0-mlogloss:0.220449\n",
      "[1321]\tvalidation_0-mlogloss:0.220382\n",
      "[1322]\tvalidation_0-mlogloss:0.220281\n",
      "[1323]\tvalidation_0-mlogloss:0.220158\n",
      "[1324]\tvalidation_0-mlogloss:0.220055\n",
      "[1325]\tvalidation_0-mlogloss:0.219999\n",
      "[1326]\tvalidation_0-mlogloss:0.219946\n",
      "[1327]\tvalidation_0-mlogloss:0.219878\n",
      "[1328]\tvalidation_0-mlogloss:0.219793\n",
      "[1329]\tvalidation_0-mlogloss:0.219713\n"
     ]
    },
    {
     "name": "stdout",
     "output_type": "stream",
     "text": [
      "[1330]\tvalidation_0-mlogloss:0.219636\n",
      "[1331]\tvalidation_0-mlogloss:0.219541\n",
      "[1332]\tvalidation_0-mlogloss:0.219474\n",
      "[1333]\tvalidation_0-mlogloss:0.219362\n",
      "[1334]\tvalidation_0-mlogloss:0.219317\n",
      "[1335]\tvalidation_0-mlogloss:0.219236\n",
      "[1336]\tvalidation_0-mlogloss:0.219139\n",
      "[1337]\tvalidation_0-mlogloss:0.219043\n",
      "[1338]\tvalidation_0-mlogloss:0.218976\n",
      "[1339]\tvalidation_0-mlogloss:0.218916\n",
      "[1340]\tvalidation_0-mlogloss:0.218844\n",
      "[1341]\tvalidation_0-mlogloss:0.21877\n",
      "[1342]\tvalidation_0-mlogloss:0.218701\n",
      "[1343]\tvalidation_0-mlogloss:0.218602\n",
      "[1344]\tvalidation_0-mlogloss:0.218432\n",
      "[1345]\tvalidation_0-mlogloss:0.218334\n",
      "[1346]\tvalidation_0-mlogloss:0.21823\n",
      "[1347]\tvalidation_0-mlogloss:0.218152\n",
      "[1348]\tvalidation_0-mlogloss:0.217961\n",
      "[1349]\tvalidation_0-mlogloss:0.217824\n",
      "[1350]\tvalidation_0-mlogloss:0.217706\n",
      "[1351]\tvalidation_0-mlogloss:0.217531\n",
      "[1352]\tvalidation_0-mlogloss:0.217384\n",
      "[1353]\tvalidation_0-mlogloss:0.217296\n",
      "[1354]\tvalidation_0-mlogloss:0.217146\n",
      "[1355]\tvalidation_0-mlogloss:0.217078\n",
      "[1356]\tvalidation_0-mlogloss:0.216996\n",
      "[1357]\tvalidation_0-mlogloss:0.216808\n",
      "[1358]\tvalidation_0-mlogloss:0.216722\n",
      "[1359]\tvalidation_0-mlogloss:0.21653\n",
      "[1360]\tvalidation_0-mlogloss:0.216447\n",
      "[1361]\tvalidation_0-mlogloss:0.216304\n",
      "[1362]\tvalidation_0-mlogloss:0.216193\n",
      "[1363]\tvalidation_0-mlogloss:0.216121\n",
      "[1364]\tvalidation_0-mlogloss:0.215985\n",
      "[1365]\tvalidation_0-mlogloss:0.215889\n",
      "[1366]\tvalidation_0-mlogloss:0.215717\n",
      "[1367]\tvalidation_0-mlogloss:0.215637\n",
      "[1368]\tvalidation_0-mlogloss:0.215561\n",
      "[1369]\tvalidation_0-mlogloss:0.215487\n",
      "[1370]\tvalidation_0-mlogloss:0.21536\n",
      "[1371]\tvalidation_0-mlogloss:0.215238\n",
      "[1372]\tvalidation_0-mlogloss:0.215181\n",
      "[1373]\tvalidation_0-mlogloss:0.215024\n",
      "[1374]\tvalidation_0-mlogloss:0.214863\n",
      "[1375]\tvalidation_0-mlogloss:0.214723\n",
      "[1376]\tvalidation_0-mlogloss:0.214596\n",
      "[1377]\tvalidation_0-mlogloss:0.214441\n",
      "[1378]\tvalidation_0-mlogloss:0.214245\n",
      "[1379]\tvalidation_0-mlogloss:0.21416\n",
      "[1380]\tvalidation_0-mlogloss:0.213995\n",
      "[1381]\tvalidation_0-mlogloss:0.213818\n",
      "[1382]\tvalidation_0-mlogloss:0.213744\n",
      "[1383]\tvalidation_0-mlogloss:0.213546\n",
      "[1384]\tvalidation_0-mlogloss:0.213394\n",
      "[1385]\tvalidation_0-mlogloss:0.213332\n",
      "[1386]\tvalidation_0-mlogloss:0.213249\n",
      "[1387]\tvalidation_0-mlogloss:0.213155\n",
      "[1388]\tvalidation_0-mlogloss:0.213079\n",
      "[1389]\tvalidation_0-mlogloss:0.212974\n",
      "[1390]\tvalidation_0-mlogloss:0.212914\n",
      "[1391]\tvalidation_0-mlogloss:0.212788\n",
      "[1392]\tvalidation_0-mlogloss:0.212727\n",
      "[1393]\tvalidation_0-mlogloss:0.212621\n",
      "[1394]\tvalidation_0-mlogloss:0.212519\n",
      "[1395]\tvalidation_0-mlogloss:0.212437\n",
      "[1396]\tvalidation_0-mlogloss:0.212337\n",
      "[1397]\tvalidation_0-mlogloss:0.212224\n",
      "[1398]\tvalidation_0-mlogloss:0.212181\n",
      "[1399]\tvalidation_0-mlogloss:0.211944\n",
      "[1400]\tvalidation_0-mlogloss:0.211856\n",
      "[1401]\tvalidation_0-mlogloss:0.211788\n",
      "[1402]\tvalidation_0-mlogloss:0.211662\n",
      "[1403]\tvalidation_0-mlogloss:0.211452\n",
      "[1404]\tvalidation_0-mlogloss:0.211342\n",
      "[1405]\tvalidation_0-mlogloss:0.211135\n",
      "[1406]\tvalidation_0-mlogloss:0.211019\n",
      "[1407]\tvalidation_0-mlogloss:0.210894\n",
      "[1408]\tvalidation_0-mlogloss:0.210758\n",
      "[1409]\tvalidation_0-mlogloss:0.210676\n",
      "[1410]\tvalidation_0-mlogloss:0.210604\n",
      "[1411]\tvalidation_0-mlogloss:0.210473\n",
      "[1412]\tvalidation_0-mlogloss:0.2103\n",
      "[1413]\tvalidation_0-mlogloss:0.210239\n",
      "[1414]\tvalidation_0-mlogloss:0.210086\n",
      "[1415]\tvalidation_0-mlogloss:0.209946\n",
      "[1416]\tvalidation_0-mlogloss:0.209807\n",
      "[1417]\tvalidation_0-mlogloss:0.209688\n",
      "[1418]\tvalidation_0-mlogloss:0.209602\n",
      "[1419]\tvalidation_0-mlogloss:0.209484\n",
      "[1420]\tvalidation_0-mlogloss:0.209358\n",
      "[1421]\tvalidation_0-mlogloss:0.209245\n",
      "[1422]\tvalidation_0-mlogloss:0.209097\n",
      "[1423]\tvalidation_0-mlogloss:0.208968\n",
      "[1424]\tvalidation_0-mlogloss:0.208902\n",
      "[1425]\tvalidation_0-mlogloss:0.208802\n",
      "[1426]\tvalidation_0-mlogloss:0.208636\n",
      "[1427]\tvalidation_0-mlogloss:0.208476\n",
      "[1428]\tvalidation_0-mlogloss:0.208409\n",
      "[1429]\tvalidation_0-mlogloss:0.208346\n",
      "[1430]\tvalidation_0-mlogloss:0.208169\n",
      "[1431]\tvalidation_0-mlogloss:0.208008\n",
      "[1432]\tvalidation_0-mlogloss:0.207866\n",
      "[1433]\tvalidation_0-mlogloss:0.20773\n",
      "[1434]\tvalidation_0-mlogloss:0.207636\n",
      "[1435]\tvalidation_0-mlogloss:0.207487\n",
      "[1436]\tvalidation_0-mlogloss:0.207387\n",
      "[1437]\tvalidation_0-mlogloss:0.207307\n",
      "[1438]\tvalidation_0-mlogloss:0.207136\n",
      "[1439]\tvalidation_0-mlogloss:0.207051\n",
      "[1440]\tvalidation_0-mlogloss:0.206893\n",
      "[1441]\tvalidation_0-mlogloss:0.206835\n",
      "[1442]\tvalidation_0-mlogloss:0.206737\n",
      "[1443]\tvalidation_0-mlogloss:0.206603\n",
      "[1444]\tvalidation_0-mlogloss:0.206354\n",
      "[1445]\tvalidation_0-mlogloss:0.206257\n",
      "[1446]\tvalidation_0-mlogloss:0.206135\n",
      "[1447]\tvalidation_0-mlogloss:0.206058\n",
      "[1448]\tvalidation_0-mlogloss:0.205986\n",
      "[1449]\tvalidation_0-mlogloss:0.205934\n",
      "[1450]\tvalidation_0-mlogloss:0.205867\n",
      "[1451]\tvalidation_0-mlogloss:0.205761\n",
      "[1452]\tvalidation_0-mlogloss:0.20562\n",
      "[1453]\tvalidation_0-mlogloss:0.205562\n",
      "[1454]\tvalidation_0-mlogloss:0.205522\n",
      "[1455]\tvalidation_0-mlogloss:0.205405\n",
      "[1456]\tvalidation_0-mlogloss:0.205321\n",
      "[1457]\tvalidation_0-mlogloss:0.205219\n",
      "[1458]\tvalidation_0-mlogloss:0.205133\n",
      "[1459]\tvalidation_0-mlogloss:0.205009\n",
      "[1460]\tvalidation_0-mlogloss:0.204849\n",
      "[1461]\tvalidation_0-mlogloss:0.204731\n",
      "[1462]\tvalidation_0-mlogloss:0.204662\n",
      "[1463]\tvalidation_0-mlogloss:0.204544\n",
      "[1464]\tvalidation_0-mlogloss:0.204425\n",
      "[1465]\tvalidation_0-mlogloss:0.204343\n",
      "[1466]\tvalidation_0-mlogloss:0.204265\n",
      "[1467]\tvalidation_0-mlogloss:0.204133\n",
      "[1468]\tvalidation_0-mlogloss:0.204049\n",
      "[1469]\tvalidation_0-mlogloss:0.203935\n",
      "[1470]\tvalidation_0-mlogloss:0.203829\n",
      "[1471]\tvalidation_0-mlogloss:0.203788\n",
      "[1472]\tvalidation_0-mlogloss:0.203731\n",
      "[1473]\tvalidation_0-mlogloss:0.203645\n",
      "[1474]\tvalidation_0-mlogloss:0.203553\n",
      "[1475]\tvalidation_0-mlogloss:0.203427\n",
      "[1476]\tvalidation_0-mlogloss:0.203379\n",
      "[1477]\tvalidation_0-mlogloss:0.203267\n",
      "[1478]\tvalidation_0-mlogloss:0.203152\n",
      "[1479]\tvalidation_0-mlogloss:0.203033\n",
      "[1480]\tvalidation_0-mlogloss:0.20293\n",
      "[1481]\tvalidation_0-mlogloss:0.202812\n",
      "[1482]\tvalidation_0-mlogloss:0.20273\n",
      "[1483]\tvalidation_0-mlogloss:0.202628\n",
      "[1484]\tvalidation_0-mlogloss:0.202493\n",
      "[1485]\tvalidation_0-mlogloss:0.202389\n",
      "[1486]\tvalidation_0-mlogloss:0.202315\n",
      "[1487]\tvalidation_0-mlogloss:0.202204\n",
      "[1488]\tvalidation_0-mlogloss:0.202094\n",
      "[1489]\tvalidation_0-mlogloss:0.201929\n",
      "[1490]\tvalidation_0-mlogloss:0.201871\n",
      "[1491]\tvalidation_0-mlogloss:0.201699\n",
      "[1492]\tvalidation_0-mlogloss:0.201571\n",
      "[1493]\tvalidation_0-mlogloss:0.201516\n",
      "[1494]\tvalidation_0-mlogloss:0.201376\n",
      "[1495]\tvalidation_0-mlogloss:0.201177\n",
      "[1496]\tvalidation_0-mlogloss:0.201101\n",
      "[1497]\tvalidation_0-mlogloss:0.200948\n",
      "[1498]\tvalidation_0-mlogloss:0.200855\n",
      "[1499]\tvalidation_0-mlogloss:0.200742\n"
     ]
    },
    {
     "data": {
      "text/plain": [
       "XGBClassifier(base_score=0.5, colsample_bylevel=1, colsample_bytree=1,\n",
       "       gamma=0, learning_rate=0.02, max_delta_step=0, max_depth=7,\n",
       "       min_child_weight=1, missing=None, n_estimators=1500, nthread=-1,\n",
       "       objective='multi:softprob', reg_alpha=0, reg_lambda=1,\n",
       "       scale_pos_weight=1, seed=0, silent=True, subsample=1)"
      ]
     },
     "execution_count": 40,
     "metadata": {},
     "output_type": "execute_result"
    }
   ],
   "source": [
    "model.fit(X_train.values,Y_train.values.ravel(),eval_metric='mlogloss',eval_set=[(X_valid.values,Y_valid.values.ravel())],verbose=True,early_stopping_rounds=550)"
   ]
  },
  {
   "cell_type": "code",
   "execution_count": 41,
   "metadata": {
    "collapsed": true
   },
   "outputs": [],
   "source": [
    "pred=model.predict(X_test.values)"
   ]
  },
  {
   "cell_type": "code",
   "execution_count": 42,
   "metadata": {
    "collapsed": true
   },
   "outputs": [],
   "source": [
    "from sklearn.metrics import accuracy_score"
   ]
  },
  {
   "cell_type": "code",
   "execution_count": 43,
   "metadata": {},
   "outputs": [
    {
     "data": {
      "text/plain": [
       "0.90939713652759102"
      ]
     },
     "execution_count": 43,
     "metadata": {},
     "output_type": "execute_result"
    }
   ],
   "source": [
    "accuracy_score(pred,Y_test.values)"
   ]
  },
  {
   "cell_type": "code",
   "execution_count": 44,
   "metadata": {},
   "outputs": [
    {
     "data": {
      "text/plain": [
       "array([  6.14868850e-02,   4.18594517e-02,   2.43231319e-02,\n",
       "         2.21966729e-02,   2.99062543e-02,   3.99525203e-02,\n",
       "         3.80697772e-02,   3.74074690e-02,   3.07211168e-02,\n",
       "         4.76472192e-02,   9.76739153e-02,   3.43117267e-02,\n",
       "         2.64700577e-02,   5.52749410e-02,   4.76230346e-02,\n",
       "         4.61942330e-02,   5.81083633e-02,   8.10417607e-02,\n",
       "         7.67162815e-02,   1.43624435e-03,   4.17478289e-03,\n",
       "         2.20087706e-03,   5.08080749e-03,   1.47903396e-03,\n",
       "         2.21948116e-03,   2.60458819e-05,   7.06959618e-05,\n",
       "         5.45103103e-04,   5.41940378e-03,   3.25573515e-03,\n",
       "         1.89948897e-03,   4.30129142e-03,   8.33468221e-04,\n",
       "         0.00000000e+00,   1.63344888e-03,   3.04178684e-03,\n",
       "         1.28368993e-04,   5.76730235e-04,   2.04832247e-03,\n",
       "         5.37661428e-04,   2.31622299e-03,   4.09850571e-03,\n",
       "         3.90874268e-03,   1.17206466e-04,   7.33005523e-04,\n",
       "         7.68353522e-04,   1.23717939e-03,   3.89758009e-03,\n",
       "         2.70133000e-03,   4.06129705e-03,   3.38782510e-03,\n",
       "         4.51896060e-03,   8.14864004e-04,   9.28349618e-04,\n",
       "         2.60458823e-04,   2.73481768e-04,   2.25482928e-03,\n",
       "         2.77760718e-03,   1.31345657e-03,   8.07608385e-03,\n",
       "         4.07245941e-03,   7.67981447e-03,   1.90879102e-03], dtype=float32)"
      ]
     },
     "execution_count": 44,
     "metadata": {},
     "output_type": "execute_result"
    }
   ],
   "source": [
    "model.feature_importances_"
   ]
  },
  {
   "cell_type": "code",
   "execution_count": 45,
   "metadata": {},
   "outputs": [
    {
     "name": "stdout",
     "output_type": "stream",
     "text": [
      "Feature ranking:\n",
      "1. feature Ele_minus_VDtHyd : 0.097674\n",
      "2. feature Fire_plus_Road : 0.081042\n",
      "3. feature Fire_minus_Road : 0.076716\n",
      "4. feature Elevation : 0.061487\n",
      "5. feature Hydro_minus_Road : 0.058108\n",
      "6. feature Hydro_plus_Fire : 0.055275\n",
      "7. feature Horizontal_Distance_To_Fire_Points : 0.047647\n",
      "8. feature Hydro_minus_Fire : 0.047623\n",
      "9. feature Hydro_plus_Road : 0.046194\n",
      "10. feature Aspect : 0.041859\n",
      "11. feature Horizontal_Distance_To_Roadways : 0.039953\n",
      "12. feature Hillshade_9am : 0.038070\n",
      "13. feature Hillshade_Noon : 0.037407\n",
      "14. feature Ele_plus_VDtHyd : 0.034312\n",
      "15. feature Hillshade_3pm : 0.030721\n",
      "16. feature Vertical_Distance_To_Hydrology : 0.029906\n",
      "17. feature Distanse_to_Hydrology : 0.026470\n",
      "18. feature Slope : 0.024323\n",
      "19. feature Horizontal_Distance_To_Hydrology : 0.022197\n",
      "20. feature Wilderness_Area_1 : 0.008076\n",
      "21. feature Wilderness_Area_3 : 0.007680\n",
      "22. feature Soil_Type_10 : 0.005419\n",
      "23. feature Soil_Type_4 : 0.005081\n",
      "24. feature Soil_Type_33 : 0.004519\n",
      "25. feature Soil_Type_13 : 0.004301\n",
      "26. feature Soil_Type_2 : 0.004175\n",
      "27. feature Soil_Type_23 : 0.004099\n",
      "28. feature Wilderness_Area_2 : 0.004072\n",
      "29. feature Soil_Type_31 : 0.004061\n",
      "30. feature Soil_Type_24 : 0.003909\n",
      "31. feature Soil_Type_29 : 0.003898\n",
      "32. feature Soil_Type_32 : 0.003388\n",
      "33. feature Soil_Type_11 : 0.003256\n",
      "34. feature Soil_Type_17 : 0.003042\n",
      "35. feature Soil_Type_39 : 0.002778\n",
      "36. feature Soil_Type_30 : 0.002701\n",
      "37. feature Soil_Type_22 : 0.002316\n",
      "38. feature Soil_Type_38 : 0.002255\n",
      "39. feature Soil_Type_6 : 0.002219\n",
      "40. feature Soil_Type_3 : 0.002201\n",
      "41. feature Soil_Type_20 : 0.002048\n",
      "42. feature Wilderness_Area_4 : 0.001909\n",
      "43. feature Soil_Type_12 : 0.001899\n",
      "44. feature Soil_Type_16 : 0.001633\n",
      "45. feature Soil_Type_5 : 0.001479\n",
      "46. feature Soil_Type_1 : 0.001436\n",
      "47. feature Soil_Type_40 : 0.001313\n",
      "48. feature Soil_Type_28 : 0.001237\n",
      "49. feature Soil_Type_35 : 0.000928\n",
      "50. feature Soil_Type_14 : 0.000833\n",
      "51. feature Soil_Type_34 : 0.000815\n",
      "52. feature Soil_Type_27 : 0.000768\n"
     ]
    }
   ],
   "source": [
    "importances = model.feature_importances_\n",
    "indices = np.argsort(importances)[::-1]\n",
    "\n",
    "x_cols=list(X_train.columns)\n",
    "# Print the feature ranking\n",
    "print(\"Feature ranking:\")\n",
    "\n",
    "for f in range(52):\n",
    "    #print(\"%d. feature %d (%f)\" % (f + 1, indices[f], importances[indices[f]]))\n",
    "    print(\"%d. feature %s : %f\" % (f + 1, x_cols[indices[f]], importances[indices[f]]))"
   ]
  },
  {
   "cell_type": "code",
   "execution_count": 46,
   "metadata": {},
   "outputs": [
    {
     "name": "stdout",
     "output_type": "stream",
     "text": [
      "(174303, 19)\n"
     ]
    }
   ],
   "source": [
    "from sklearn.feature_selection import SelectFromModel\n",
    "model1 = SelectFromModel(model, prefit=True)\n",
    "X_train_red_rf_features = model1.transform(X_train)\n",
    "idxs_selected_sfm = model1.get_support(indices=True)\n",
    "print(X_train_red_rf_features.shape)"
   ]
  },
  {
   "cell_type": "code",
   "execution_count": 47,
   "metadata": {},
   "outputs": [
    {
     "data": {
      "text/plain": [
       "array([ 0,  1,  2,  3,  4,  5,  6,  7,  8,  9, 10, 11, 12, 13, 14, 15, 16,\n",
       "       17, 18], dtype=int64)"
      ]
     },
     "execution_count": 47,
     "metadata": {},
     "output_type": "execute_result"
    }
   ],
   "source": [
    "idxs_selected_sfm"
   ]
  },
  {
   "cell_type": "code",
   "execution_count": 48,
   "metadata": {
    "collapsed": true
   },
   "outputs": [],
   "source": [
    "X_test_red_rf_features = model1.transform(X_test)"
   ]
  },
  {
   "cell_type": "code",
   "execution_count": 49,
   "metadata": {},
   "outputs": [
    {
     "data": {
      "text/plain": [
       "(406709, 19)"
      ]
     },
     "execution_count": 49,
     "metadata": {},
     "output_type": "execute_result"
    }
   ],
   "source": [
    "X_test_red_rf_features.shape"
   ]
  },
  {
   "cell_type": "code",
   "execution_count": 56,
   "metadata": {
    "collapsed": true
   },
   "outputs": [],
   "source": [
    "from sklearn.feature_selection import SelectKBest # use this later\n",
    "from sklearn.feature_selection import mutual_info_classif"
   ]
  },
  {
   "cell_type": "markdown",
   "metadata": {},
   "source": [
    "# Bayesian Deep Learning with edward"
   ]
  },
  {
   "cell_type": "code",
   "execution_count": 174,
   "metadata": {
    "collapsed": true
   },
   "outputs": [],
   "source": [
    "%matplotlib inline\n",
    "from __future__ import absolute_import\n",
    "from __future__ import division\n",
    "from __future__ import print_function\n",
    "\n",
    "import edward as ed\n",
    "import matplotlib.pyplot as plt\n",
    "import numpy as np\n",
    "import tensorflow as tf\n",
    "\n",
    "from edward.models import Normal\n",
    "#ed.set_seed(42)\n",
    "plt.style.use('ggplot')"
   ]
  },
  {
   "cell_type": "code",
   "execution_count": 247,
   "metadata": {
    "collapsed": true
   },
   "outputs": [],
   "source": [
    "def neural_network(X):\n",
    "    h = tf.tanh(tf.matmul(X, W_0) + b_0)\n",
    "    h = tf.tanh(tf.matmul(h, W_1) + b_1)\n",
    "    h = tf.tanh(tf.matmul(h, W_2) + b_2)\n",
    "    #h = tf.tanh(tf.matmul(h, W_1) + b_1)\n",
    "    h = tf.matmul(h, W_3) + b_3\n",
    "    return (h)"
   ]
  },
  {
   "cell_type": "code",
   "execution_count": 248,
   "metadata": {
    "collapsed": true
   },
   "outputs": [],
   "source": [
    "\n",
    "\n",
    "N = X_train.shape[0]  # number of data points\n",
    "D = X_train.shape[1]   # number of features\n",
    "\n",
    "# DATA\n",
    "#X_train, y_train = build_toy_dataset(N)"
   ]
  },
  {
   "cell_type": "code",
   "execution_count": 276,
   "metadata": {
    "collapsed": true
   },
   "outputs": [],
   "source": [
    "M=400 # batch size"
   ]
  },
  {
   "cell_type": "code",
   "execution_count": 249,
   "metadata": {},
   "outputs": [
    {
     "data": {
      "text/plain": [
       "(406708, 63)"
      ]
     },
     "execution_count": 249,
     "metadata": {},
     "output_type": "execute_result"
    }
   ],
   "source": [
    "N,D"
   ]
  },
  {
   "cell_type": "code",
   "execution_count": 282,
   "metadata": {
    "collapsed": true
   },
   "outputs": [],
   "source": [
    "# MODEL\n",
    "X = tf.placeholder(tf.float32, [M, D])\n",
    "y_ph = tf.placeholder(tf.float32, [M,7])\n",
    "with tf.name_scope(\"model\"):\n",
    "    W_0 = Normal(loc=tf.zeros([D, 100]), scale=tf.ones([D, 100]), name=\"W_0\")\n",
    "    W_1 = Normal(loc=tf.zeros([100, 50]), scale=tf.ones([100, 50]), name=\"W_1\")\n",
    "    W_2 = Normal(loc=tf.zeros([50, 20]), scale=tf.ones([50, 20]), name=\"W_2\")\n",
    "    W_3 = Normal(loc=tf.zeros([20,7]), scale=tf.ones([20, 7]), name=\"W_2\")\n",
    "    b_0 = Normal(loc=tf.zeros(100), scale=tf.ones(100), name=\"b_0\")\n",
    "    b_1 = Normal(loc=tf.zeros(50), scale=tf.ones(50), name=\"b_1\")\n",
    "    b_2 = Normal(loc=tf.zeros(20), scale=tf.ones(20), name=\"b_2\")\n",
    "    b_3 = Normal(loc=tf.zeros(7), scale=tf.ones(7), name=\"b_3\")\n",
    "    y = Normal(loc=neural_network(X), scale=0.1 * tf.ones([M,7]))"
   ]
  },
  {
   "cell_type": "code",
   "execution_count": 283,
   "metadata": {
    "collapsed": true
   },
   "outputs": [],
   "source": [
    "# INFERENCE\n",
    "with tf.name_scope(\"posterior\"):\n",
    "    with tf.name_scope(\"qW_0\"):\n",
    "        qW_0 = Normal(loc=tf.Variable(tf.random_normal([D, 100]), name=\"loc\"),scale=tf.nn.softplus(tf.Variable(tf.random_normal([D, 100]), name=\"scale\")))\n",
    "    with tf.name_scope(\"qW_1\"):\n",
    "        qW_1 = Normal(loc=tf.Variable(tf.random_normal([100, 50]), name=\"loc\"),scale=tf.nn.softplus(tf.Variable(tf.random_normal([100, 50]), name=\"scale\")))\n",
    "    with tf.name_scope(\"qW_2\"):\n",
    "        qW_2 = Normal(loc=tf.Variable(tf.random_normal([50, 20]), name=\"loc\"),scale=tf.nn.softplus(tf.Variable(tf.random_normal([50,20]), name=\"scale\")))\n",
    "    with tf.name_scope(\"qW_3\"):\n",
    "        qW_3 = Normal(loc=tf.Variable(tf.random_normal([20, 7]), name=\"loc\"),scale=tf.nn.softplus(tf.Variable(tf.random_normal([20,7]), name=\"scale\")))\n",
    "    with tf.name_scope(\"qb_0\"):\n",
    "        qb_0 = Normal(loc=tf.Variable(tf.random_normal([100]), name=\"loc\"),scale=tf.nn.softplus(tf.Variable(tf.random_normal([100]), name=\"scale\")))\n",
    "    with tf.name_scope(\"qb_1\"):\n",
    "        qb_1 = Normal(loc=tf.Variable(tf.random_normal([50]), name=\"loc\"),scale=tf.nn.softplus(tf.Variable(tf.random_normal([50]), name=\"scale\")))\n",
    "    with tf.name_scope(\"qb_2\"):\n",
    "        qb_2 = Normal(loc=tf.Variable(tf.random_normal([20]), name=\"loc\"),scale=tf.nn.softplus(tf.Variable(tf.random_normal([20]), name=\"scale\")))\n",
    "    with tf.name_scope(\"qb_3\"):\n",
    "        qb_3 = Normal(loc=tf.Variable(tf.random_normal([7]), name=\"loc\"),scale=tf.nn.softplus(tf.Variable(tf.random_normal([7]), name=\"scale\")))\n",
    "\n"
   ]
  },
  {
   "cell_type": "code",
   "execution_count": 262,
   "metadata": {
    "collapsed": true
   },
   "outputs": [],
   "source": [
    "Y_train_1hot=pd.get_dummies(Y_train_df,columns=['Cover_Type'])"
   ]
  },
  {
   "cell_type": "code",
   "execution_count": 263,
   "metadata": {
    "collapsed": true
   },
   "outputs": [],
   "source": [
    "Y_train_1hot=Y_train_1hot.astype('float')"
   ]
  },
  {
   "cell_type": "code",
   "execution_count": 284,
   "metadata": {
    "collapsed": true
   },
   "outputs": [],
   "source": [
    "def generator(arrays, batch_size):\n",
    "    starts = [0] * len(arrays)  # pointers to where we are in iteration\n",
    "    while True:\n",
    "        batches = []\n",
    "        for i, array in enumerate(arrays):\n",
    "            start = starts[i]\n",
    "            stop = start + batch_size\n",
    "            diff = stop - array.shape[0]\n",
    "            if diff <= 0:\n",
    "                batch = array[start:stop]\n",
    "                starts[i] += batch_size\n",
    "            else:\n",
    "                batch = np.concatenate((array[start:], array[:diff]))\n",
    "                starts[i] = diff\n",
    "            batches.append(batch)\n",
    "        yield batches"
   ]
  },
  {
   "cell_type": "code",
   "execution_count": 285,
   "metadata": {
    "collapsed": true
   },
   "outputs": [],
   "source": [
    "data = generator([X_train, Y_train_1hot.values], M)"
   ]
  },
  {
   "cell_type": "code",
   "execution_count": null,
   "metadata": {
    "collapsed": true
   },
   "outputs": [],
   "source": []
  },
  {
   "cell_type": "code",
   "execution_count": 286,
   "metadata": {
    "collapsed": true
   },
   "outputs": [],
   "source": [
    "n_batch = int(N / M)\n",
    "n_epoch = 100"
   ]
  },
  {
   "cell_type": "code",
   "execution_count": 287,
   "metadata": {
    "collapsed": true
   },
   "outputs": [],
   "source": [
    "inference = ed.KLqp({W_0: qW_0, b_0: qb_0,\n",
    "                     W_1: qW_1, b_1: qb_1,\n",
    "                     W_2: qW_2, b_2: qb_2,\n",
    "                     W_3: qW_3, b_3: qb_3}, data={ y: y_ph})"
   ]
  },
  {
   "cell_type": "code",
   "execution_count": 289,
   "metadata": {},
   "outputs": [
    {
     "name": "stdout",
     "output_type": "stream",
     "text": [
      "101600/101600 [100%] ██████████████████████████████ Elapsed: 1128s | Loss: 5743214.500\n"
     ]
    }
   ],
   "source": [
    "#inference = ed.KLqp({w: qw, b: qb}, data={y: y_ph})\n",
    "inference.initialize(n_iter=n_batch * n_epoch, n_samples=5, scale={y: N / M})\n",
    "tf.global_variables_initializer().run()\n",
    "\n",
    "for _ in range(inference.n_iter):\n",
    "\n",
    "    X_batch, y_batch = next(data)\n",
    "    #print(X_batch.shape,y_batch.shape)\n",
    "    info_dict = inference.update({X: X_batch, y_ph: y_batch})\n",
    "    inference.print_progress(info_dict)"
   ]
  },
  {
   "cell_type": "code",
   "execution_count": null,
   "metadata": {
    "collapsed": true
   },
   "outputs": [],
   "source": [
    "y_post = ed.copy(y, {W_0: qW_0, b_0: qb_0,W_1: qW_1, b_1: qb_1,W_2: qW_2, b_2: qb_2,W_3: qW_3, b_3: qb_3})"
   ]
  },
  {
   "cell_type": "code",
   "execution_count": null,
   "metadata": {
    "collapsed": true
   },
   "outputs": [],
   "source": [
    "print(\"Mean squared error on test data:\")\n",
    "print(ed.evaluate('mean_squared_error', data={X: X_test, y_post: y_test}))\n",
    "\n",
    "print(\"Mean absolute error on test data:\")\n",
    "print(ed.evaluate('mean_absolute_error', data={X: X_test, y_post: y_test}))"
   ]
  },
  {
   "cell_type": "markdown",
   "metadata": {},
   "source": [
    "# Bayesian Deep Learning using PyMC3"
   ]
  },
  {
   "cell_type": "code",
   "execution_count": 39,
   "metadata": {
    "collapsed": true
   },
   "outputs": [],
   "source": [
    "#import theano.tensor as tt\n",
    "#import pymc3 as pm"
   ]
  },
  {
   "cell_type": "code",
   "execution_count": 39,
   "metadata": {
    "collapsed": true
   },
   "outputs": [],
   "source": [
    "%matplotlib inline\n",
    "import theano\n",
    "floatX = theano.config.floatX\n",
    "import pymc3 as pm\n",
    "import theano.tensor as tt\n",
    "import sklearn\n",
    "import numpy as np\n",
    "import matplotlib.pyplot as plt\n",
    "import seaborn as sns\n",
    "from warnings import filterwarnings\n",
    "filterwarnings('ignore')\n",
    "sns.set_style('white')\n",
    "from sklearn import datasets\n",
    "from sklearn.preprocessing import scale\n",
    "from sklearn.cross_validation import train_test_split\n",
    "from sklearn.datasets import make_moons"
   ]
  },
  {
   "cell_type": "code",
   "execution_count": 55,
   "metadata": {
    "collapsed": true
   },
   "outputs": [],
   "source": [
    "#X, Y = make_moons(noise=0.2, random_state=0, n_samples=1000)\n",
    "#X = scale(X)\n",
    "#X = X.astype(floatX)\n",
    "#Y = Y.astype(floatX)\n",
    "#X_train, X_test, Y_train, Y_test = train_test_split(X, Y, test_size=.5)"
   ]
  },
  {
   "cell_type": "code",
   "execution_count": 56,
   "metadata": {
    "collapsed": true
   },
   "outputs": [],
   "source": [
    "#fig, ax = plt.subplots()\n",
    "#ax.scatter(X[Y==0, 0], X[Y==0, 1], label='Class 0')\n",
    "#ax.scatter(X[Y==1, 0], X[Y==1, 1], color='r', label='Class 1')\n",
    "#sns.despine(); ax.legend()\n",
    "#ax.set(xlabel='X', ylabel='Y', title='Toy binary classification data set');"
   ]
  },
  {
   "cell_type": "code",
   "execution_count": 103,
   "metadata": {
    "collapsed": true
   },
   "outputs": [],
   "source": [
    "#Y_train_1hot=pd.get_dummies(Y_train,columns=['Cover_Type'])"
   ]
  },
  {
   "cell_type": "code",
   "execution_count": 40,
   "metadata": {
    "collapsed": true
   },
   "outputs": [],
   "source": [
    "X_train_fromtest=X_test\n",
    "Y_train_fromtest=Y_test\n",
    "X_test_fromtrain=X_train\n",
    "Y_test_fromtrain=Y_test"
   ]
  },
  {
   "cell_type": "code",
   "execution_count": 41,
   "metadata": {
    "collapsed": true
   },
   "outputs": [],
   "source": [
    "Y_train_1hot=pd.get_dummies(Y_train_fromtest,columns=['Cover_Type'])"
   ]
  },
  {
   "cell_type": "code",
   "execution_count": 42,
   "metadata": {
    "collapsed": true
   },
   "outputs": [],
   "source": [
    "Y_test_1hot=pd.get_dummies(Y_test_fromtrain,columns=['Cover_Type'])"
   ]
  },
  {
   "cell_type": "code",
   "execution_count": 43,
   "metadata": {},
   "outputs": [
    {
     "data": {
      "text/plain": [
       "(174304, 63)"
      ]
     },
     "execution_count": 43,
     "metadata": {},
     "output_type": "execute_result"
    }
   ],
   "source": [
    "X_train_fromtest.shape"
   ]
  },
  {
   "cell_type": "code",
   "execution_count": 44,
   "metadata": {
    "collapsed": true
   },
   "outputs": [],
   "source": [
    "def construct_nn(ann_input, ann_output):\n",
    "    n_hidden_1 = 500\n",
    "    n_hidden_2=300\n",
    "    n_hidden_3=200\n",
    "    n_hidden_4=100\n",
    "\n",
    "    # Initialize random weights between each layer\n",
    "    init_1 = np.random.randn(X_train.shape[1], n_hidden_1).astype(floatX)\n",
    "    init_2 = np.random.randn(n_hidden_1, n_hidden_2).astype(floatX)\n",
    "    init_3 = np.random.randn(n_hidden_2, n_hidden_3).astype(floatX)\n",
    "    init_4 = np.random.randn(n_hidden_3, n_hidden_4).astype(floatX)\n",
    "    init_out = np.random.randn(n_hidden_4,Y_train_1hot.shape[1]).astype(floatX)\n",
    "\n",
    "    with pm.Model() as neural_network:\n",
    "        # Weights from input to hidden layer\n",
    "        weights_in_1 = pm.Normal('w_in_1', 0, sd=1,shape=(X_train.shape[1], n_hidden_1),testval=init_1)\n",
    "\n",
    "        # Weights from 1st to 2nd layer\n",
    "        weights_1_2 = pm.Normal('w_1_2', 0, sd=1,shape=(n_hidden_1, n_hidden_2),testval=init_2)\n",
    "        \n",
    "        # Weights from input to hidden layer\n",
    "        weights_2_3 = pm.Normal('w_2_3', 0, sd=1,shape=(n_hidden_2, n_hidden_3),testval=init_3)\n",
    "\n",
    "        # Weights from 1st to 2nd layer\n",
    "        weights_3_4 = pm.Normal('w_3_4', 0, sd=1,shape=(n_hidden_3, n_hidden_4),testval=init_4)\n",
    "\n",
    "        # Weights from hidden layer to output\n",
    "        weights_4_out = pm.Normal('w_4_out', 0, sd=1,shape=(n_hidden_4,Y_train_1hot.shape[1]),testval=init_out)\n",
    "\n",
    "        # Build neural-network using tanh activation function\n",
    "        act_1 = pm.math.tanh(pm.math.dot(ann_input,weights_in_1))\n",
    "        act_2 = pm.math.tanh(pm.math.dot(act_1,weights_1_2))\n",
    "        act_3 = pm.math.tanh(pm.math.dot(act_2,weights_2_3))\n",
    "        act_4 = pm.math.tanh(pm.math.dot(act_3, weights_3_4))\n",
    "        act_out = tt.nnet.softmax(pm.math.dot(act_4, weights_4_out))\n",
    "\n",
    "        # Binary classification -> Bernoulli likelihood\n",
    "        out = pm.Multinomial('out',n=1,\n",
    "                           p=act_out,\n",
    "                           observed=ann_output,\n",
    "                           total_size=Y_train_1hot.shape[0] # IMPORTANT for minibatches\n",
    "                          )\n",
    "    return neural_network\n",
    "\n",
    "\n",
    "ann_input = theano.shared(X_train_fromtest.values)\n",
    "ann_output = theano.shared(Y_train_1hot.values)\n",
    "neural_network = construct_nn(ann_input, ann_output)"
   ]
  },
  {
   "cell_type": "code",
   "execution_count": 48,
   "metadata": {
    "collapsed": true
   },
   "outputs": [],
   "source": [
    "#ann_input = theano.shared(X_train)\n",
    "#ann_output = theano.shared(Y_train)\n",
    "#neural_network = construct_nn(ann_input, ann_output)"
   ]
  },
  {
   "cell_type": "code",
   "execution_count": 45,
   "metadata": {
    "collapsed": true
   },
   "outputs": [],
   "source": [
    "from pymc3.theanof import set_tt_rng, MRG_RandomStreams\n",
    "set_tt_rng(MRG_RandomStreams(42))"
   ]
  },
  {
   "cell_type": "code",
   "execution_count": 51,
   "metadata": {},
   "outputs": [
    {
     "name": "stderr",
     "output_type": "stream",
     "text": [
      "Average Loss = 198.01: 100%|██████████| 30000/30000 [00:19<00:00, 1535.12it/s]\n",
      "Finished [100%]: Average Loss = 198\n"
     ]
    }
   ],
   "source": [
    "#with neural_network:\n",
    "#    inference = pm.ADVI()\n",
    "#    approx = pm.fit(n=30000, method=inference)"
   ]
  },
  {
   "cell_type": "code",
   "execution_count": null,
   "metadata": {},
   "outputs": [
    {
     "name": "stderr",
     "output_type": "stream",
     "text": [
      "Average Loss = 3.4869e+05:  26%|██▋       | 26483/100000 [58:50<2:43:20,  7.50it/s]"
     ]
    }
   ],
   "source": [
    "minibatch_x = pm.Minibatch(X_train_fromtest.values, batch_size=300)\n",
    "minibatch_y = pm.Minibatch(Y_train_1hot.values, batch_size=300)\n",
    "neural_network_minibatch = construct_nn(minibatch_x, minibatch_y)\n",
    "with neural_network_minibatch:\n",
    "    approx = pm.fit(100000, method=pm.ADVI(),callbacks=[pm.callbacks.CheckParametersConvergence(diff='relative')])"
   ]
  },
  {
   "cell_type": "code",
   "execution_count": 51,
   "metadata": {
    "collapsed": true
   },
   "outputs": [],
   "source": [
    "with neural_network_minibatch:\n",
    "    trace = approx.sample(draws=5000)"
   ]
  },
  {
   "cell_type": "code",
   "execution_count": 52,
   "metadata": {
    "collapsed": true
   },
   "outputs": [],
   "source": [
    "#trace"
   ]
  },
  {
   "cell_type": "code",
   "execution_count": 59,
   "metadata": {},
   "outputs": [
    {
     "data": {
      "image/png": "[encoded data removed]",
      "text/plain": [
       "<matplotlib.figure.Figure at 0x7f8a86664358>"
      ]
     },
     "metadata": {},
     "output_type": "display_data"
    }
   ],
   "source": [
    "pm.traceplot(trace,varnames=['w_4_out']);"
   ]
  },
  {
   "cell_type": "code",
   "execution_count": 54,
   "metadata": {},
   "outputs": [
    {
     "name": "stderr",
     "output_type": "stream",
     "text": [
      "100%|██████████| 5000/5000 [03:45<00:00, 22.21it/s]\n"
     ]
    }
   ],
   "source": [
    "# Replace shared variables with testing set\n",
    "ann_input.set_value(X_test_fromtrain.values)\n",
    "ann_output.set_value(Y_test_1hot.values)\n",
    "\n",
    "# Creater posterior predictive samples\n",
    "ppc = pm.sample_ppc(trace, model=neural_network_minibatch, samples=5000)\n",
    "\n",
    "# Use probability of > 0.5 to assume prediction of class 1\n",
    "pred = ppc['out'].mean(axis=0) > 0.5"
   ]
  },
  {
   "cell_type": "code",
   "execution_count": 61,
   "metadata": {
    "collapsed": true
   },
   "outputs": [],
   "source": [
    "#ppc"
   ]
  },
  {
   "cell_type": "code",
   "execution_count": null,
   "metadata": {
    "collapsed": true
   },
   "outputs": [],
   "source": []
  },
  {
   "cell_type": "code",
   "execution_count": 55,
   "metadata": {},
   "outputs": [
    {
     "data": {
      "text/plain": [
       "<matplotlib.collections.PolyCollection at 0x7f8a86a0d860>"
      ]
     },
     "execution_count": 55,
     "metadata": {},
     "output_type": "execute_result"
    },
    {
     "data": {
      "image/png": "[encoded data removed]",
      "text/plain": [
       "<matplotlib.figure.Figure at 0x7f8b07e8e1d0>"
      ]
     },
     "metadata": {},
     "output_type": "display_data"
    }
   ],
   "source": [
    "preds_proba = ppc['out'].mean(axis=0)\n",
    "preds = (preds_proba == np.max(preds_proba, axis=1, keepdims=True)) * 1\n",
    "plt.pcolor(preds)"
   ]
  },
  {
   "cell_type": "code",
   "execution_count": 56,
   "metadata": {},
   "outputs": [
    {
     "data": {
      "text/plain": [
       "<matplotlib.collections.PolyCollection at 0x7f8a8680e128>"
      ]
     },
     "execution_count": 56,
     "metadata": {},
     "output_type": "execute_result"
    },
    {
     "data": {
      "image/png": "[encoded data removed]",
      "text/plain": [
       "<matplotlib.figure.Figure at 0x7f8a0bbf72e8>"
      ]
     },
     "metadata": {},
     "output_type": "display_data"
    }
   ],
   "source": [
    "plt.pcolor(preds_proba)"
   ]
  },
  {
   "cell_type": "code",
   "execution_count": null,
   "metadata": {
    "collapsed": true
   },
   "outputs": [],
   "source": [
    "plt.pcolor(ppc['out'].std(axis=0))"
   ]
  },
  {
   "cell_type": "code",
   "execution_count": 268,
   "metadata": {},
   "outputs": [],
   "source": [
    "from sklearn.metrics import classification_report\n",
    "\n",
    "#print(classification_report(Y_test_1hot, preds))"
   ]
  },
  {
   "cell_type": "code",
   "execution_count": null,
   "metadata": {
    "collapsed": true
   },
   "outputs": [],
   "source": []
  },
  {
   "cell_type": "code",
   "execution_count": null,
   "metadata": {
    "collapsed": true
   },
   "outputs": [],
   "source": []
  },
  {
   "cell_type": "markdown",
   "metadata": {},
   "source": [
    "# Weka Run"
   ]
  },
  {
   "cell_type": "code",
   "execution_count": 39,
   "metadata": {
    "collapsed": true
   },
   "outputs": [],
   "source": [
    "import weka.core.jvm as jvm"
   ]
  },
  {
   "cell_type": "code",
   "execution_count": 40,
   "metadata": {},
   "outputs": [
    {
     "name": "stderr",
     "output_type": "stream",
     "text": [
      "DEBUG:weka.core.jvm:Adding user-supplied classpath=C:\\Program Files\\Weka-3-8\\weka.jar\n",
      "DEBUG:weka.core.jvm:Adding user-supplied classpath=C:\\Program Files\\Weka-3-8\\weka-src.jar\n",
      "DEBUG:weka.core.jvm:Adding bundled jars\n",
      "DEBUG:weka.core.jvm:Adding Weka packages\n",
      "ERROR:weka.core.jvm:package_dir not found: H:\\\\wekafiles\\packages\n",
      "DEBUG:weka.core.jvm:Classpath=['C:\\\\Users\\\\namanda\\\\AppData\\\\Local\\\\Continuum\\\\anaconda3\\\\lib\\\\site-packages\\\\javabridge\\\\jars\\\\rhino-1.7R4.jar', 'C:\\\\Users\\\\namanda\\\\AppData\\\\Local\\\\Continuum\\\\anaconda3\\\\lib\\\\site-packages\\\\javabridge\\\\jars\\\\runnablequeue.jar', 'C:\\\\Users\\\\namanda\\\\AppData\\\\Local\\\\Continuum\\\\anaconda3\\\\lib\\\\site-packages\\\\javabridge\\\\jars\\\\cpython.jar', 'C:\\\\Program Files\\\\Weka-3-8\\\\weka.jar', 'C:\\\\Program Files\\\\Weka-3-8\\\\weka-src.jar', 'C:\\\\Users\\\\namanda\\\\AppData\\\\Local\\\\Continuum\\\\anaconda3\\\\lib\\\\site-packages\\\\weka\\\\lib\\\\python-weka-wrapper.jar']\n",
      "DEBUG:weka.core.jvm:MaxHeapSize=default\n",
      "DEBUG:javabridge.jutil:Creating JVM object\n",
      "DEBUG:javabridge.jutil:Signalling caller\n"
     ]
    }
   ],
   "source": [
    "jvm.start(packages=True,class_path=['C:\\\\Program Files\\\\Weka-3-8\\\\weka.jar','C:\\\\Program Files\\\\Weka-3-8\\\\weka-src.jar'])"
   ]
  },
  {
   "cell_type": "code",
   "execution_count": 41,
   "metadata": {
    "collapsed": true
   },
   "outputs": [],
   "source": [
    "from weka.classifiers import Classifier"
   ]
  },
  {
   "cell_type": "code",
   "execution_count": 59,
   "metadata": {
    "collapsed": true
   },
   "outputs": [],
   "source": [
    "from weka.classifiers import Classifier\n",
    "from weka.core.classes import from_commandline\n",
    "\n",
    "cmdline='weka.classifiers.meta.LogitBoost -P 100 -L -1.7976931348623157E308 -H 1.0 -Z 3.0 -O 1 -E 1 -S 1 -I 10 -W weka.classifiers.trees.RandomForest -- -P 100 -I 100 -num-slots 4 -K 0 -M 1.0 -V 0.001 -S 1'\n",
    "\n",
    "classifier = from_commandline(cmdline, classname=\"weka.classifiers.Classifier\")\n",
    "#cls = Classifier(classname=\"weka.classifiers.meta.LogitBoost\",options=[\"-W\",\"weka.classifiers.trees.RandomForest\", \"-O\",\"4\"])"
   ]
  },
  {
   "cell_type": "code",
   "execution_count": 60,
   "metadata": {},
   "outputs": [
    {
     "data": {
      "text/plain": [
       "'weka.classifiers.meta.LogitBoost -P 100 -L -1.7976931348623157E308 -H 1.0 -Z 3.0 -O 1 -E 1 -S 1 -I 10 -W weka.classifiers.trees.RandomForest -- -P 100 -I 100 -num-slots 4 -K 0 -M 1.0 -V 0.001 -S 1'"
      ]
     },
     "execution_count": 60,
     "metadata": {},
     "output_type": "execute_result"
    }
   ],
   "source": [
    "classifier.to_commandline()"
   ]
  },
  {
   "cell_type": "code",
   "execution_count": 61,
   "metadata": {},
   "outputs": [
    {
     "name": "stdout",
     "output_type": "stream",
     "text": [
      "weka.classifiers.meta.LogitBoost\n",
      "================================\n",
      "\n",
      "DESCRIPTION\n",
      "\n",
      "Class for performing additive logistic regression. \n",
      "This class performs classification using a regression scheme as the base learner, and can handle multi-class problems.  For more information, see\n",
      "\n",
      "J. Friedman, T. Hastie, R. Tibshirani (1998). Additive Logistic Regression: a Statistical View of Boosting. Stanford University.\n",
      "\n",
      "OPTIONS\n",
      "\n",
      "-Q\n",
      "\tUse resampling instead of reweighting for boosting.\n",
      "\n",
      "-use-estimated-priors\n",
      "\tUse estimated priors rather than uniform ones.\n",
      "\n",
      "-P <percent>\n",
      "\tPercentage of weight mass to base training on.\n",
      "\t(default 100, reduce to around 90 speed up)\n",
      "\n",
      "-L <num>\n",
      "\tThreshold on the improvement of the likelihood.\n",
      "\t(default -Double.MAX_VALUE)\n",
      "\n",
      "-H <num>\n",
      "\tShrinkage parameter.\n",
      "\t(default 1)\n",
      "\n",
      "-Z <num>\n",
      "\tZ max threshold for responses.\n",
      "\t(default 3)\n",
      "\n",
      "-O <int>\n",
      "\tThe size of the thread pool, for example, the number of cores in the CPU. (default 1)\n",
      "\n",
      "-E <int>\n",
      "\tThe number of threads to use for batch prediction, which should be >= size of thread pool.\n",
      "\t(default 1)\n",
      "\n",
      "-S <num>\n",
      "\tRandom number seed.\n",
      "\t(default 1)\n",
      "\n",
      "-I <num>\n",
      "\tNumber of iterations.\n",
      "\t(current value 10)\n",
      "\n",
      "-W <classifier name>\n",
      "\tFull name of base classifier.\n",
      "\t(default: weka.classifiers.trees.DecisionStump)\n",
      "\n",
      "-output-debug-info\n",
      "\tIf set, classifier is run in debug mode and\n",
      "\tmay output additional info to the console\n",
      "\n",
      "-do-not-check-capabilities\n",
      "\tIf set, classifier capabilities are not checked before classifier is built\n",
      "\t(use with caution).\n",
      "\n",
      "-num-decimal-places\n",
      "\tThe number of decimal places for the output of numbers in the model (default 2).\n",
      "\n",
      "-batch-size\n",
      "\tThe desired batch size for batch prediction  (default 100).\n",
      "\n",
      "\n",
      "Options specific to classifier weka.classifiers.trees.RandomForest:\n",
      "\n",
      "\n",
      "-P\n",
      "\tSize of each bag, as a percentage of the\n",
      "\ttraining set size. (default 100)\n",
      "\n",
      "-O\n",
      "\tCalculate the out of bag error.\n",
      "\n",
      "-store-out-of-bag-predictions\n",
      "\tWhether to store out of bag predictions in internal evaluation object.\n",
      "\n",
      "-output-out-of-bag-complexity-statistics\n",
      "\tWhether to output complexity-based statistics when out-of-bag evaluation is performed.\n",
      "\n",
      "-print\n",
      "\tPrint the individual classifiers in the output\n",
      "\n",
      "-attribute-importance\n",
      "\tCompute and output attribute importance (mean impurity decrease method)\n",
      "\n",
      "-I <num>\n",
      "\tNumber of iterations.\n",
      "\t(current value 100)\n",
      "\n",
      "-num-slots <num>\n",
      "\tNumber of execution slots.\n",
      "\t(default 1 - i.e. no parallelism)\n",
      "\t(use 0 to auto-detect number of cores)\n",
      "\n",
      "-K <number of attributes>\n",
      "\tNumber of attributes to randomly investigate.\t(default 0)\n",
      "\t(<1 = int(log_2(#predictors)+1)).\n",
      "\n",
      "-M <minimum number of instances>\n",
      "\tSet minimum number of instances per leaf.\n",
      "\t(default 1)\n",
      "\n",
      "-V <minimum variance for split>\n",
      "\tSet minimum numeric class variance proportion\n",
      "\tof train variance for split (default 1e-3).\n",
      "\n",
      "-S <num>\n",
      "\tSeed for random number generator.\n",
      "\t(default 1)\n",
      "\n",
      "-depth <num>\n",
      "\tThe maximum depth of the tree, 0 for unlimited.\n",
      "\t(default 0)\n",
      "\n",
      "-N <num>\n",
      "\tNumber of folds for backfitting (default 0, no backfitting).\n",
      "\n",
      "-U\n",
      "\tAllow unclassified instances.\n",
      "\n",
      "-B\n",
      "\tBreak ties randomly when several attributes look equally good.\n",
      "\n",
      "-output-debug-info\n",
      "\tIf set, classifier is run in debug mode and\n",
      "\tmay output additional info to the console\n",
      "\n",
      "-do-not-check-capabilities\n",
      "\tIf set, classifier capabilities are not checked before classifier is built\n",
      "\t(use with caution).\n",
      "\n",
      "-num-decimal-places\n",
      "\tThe number of decimal places for the output of numbers in the model (default 2).\n",
      "\n",
      "-batch-size\n",
      "\tThe desired batch size for batch prediction  (default 100).\n",
      "\n"
     ]
    }
   ],
   "source": [
    "print(cls.to_help())"
   ]
  },
  {
   "cell_type": "code",
   "execution_count": 62,
   "metadata": {
    "collapsed": true
   },
   "outputs": [],
   "source": [
    "X_train_df=pd.DataFrame(X_train,columns=features_imp)"
   ]
  },
  {
   "cell_type": "code",
   "execution_count": 63,
   "metadata": {
    "collapsed": true
   },
   "outputs": [],
   "source": [
    "Y_train_df=pd.DataFrame(Y_train,columns=['Cover_Type'])\n",
    "train_df=pd.concat([X_train_df, Y_train_df], axis=1)"
   ]
  },
  {
   "cell_type": "code",
   "execution_count": 64,
   "metadata": {
    "collapsed": true
   },
   "outputs": [],
   "source": [
    "train_df.reset_index(inplace=True)"
   ]
  },
  {
   "cell_type": "code",
   "execution_count": 65,
   "metadata": {
    "collapsed": true
   },
   "outputs": [],
   "source": [
    "train_df.set_index('index',inplace=True)"
   ]
  },
  {
   "cell_type": "code",
   "execution_count": 66,
   "metadata": {
    "collapsed": true
   },
   "outputs": [],
   "source": [
    "train_df.to_csv('Train_file.csv',sep=',',index=False)"
   ]
  },
  {
   "cell_type": "code",
   "execution_count": 67,
   "metadata": {
    "collapsed": true
   },
   "outputs": [],
   "source": [
    "import weka.core.converters as converters\n",
    "from weka.core.converters import Loader\n",
    "#helper.print_title(\"Loading CSV file\") \n",
    "loader = Loader(classname=\"weka.core.converters.CSVLoader\") \n",
    "data = loader.load_file(\"Train_file.csv\") \n",
    "#print(str(data)) \n",
    "#converters.load_any_file(\"creditcard.csv\")"
   ]
  },
  {
   "cell_type": "code",
   "execution_count": 343,
   "metadata": {
    "collapsed": true
   },
   "outputs": [],
   "source": [
    "#data.delete_first_attribute()"
   ]
  },
  {
   "cell_type": "code",
   "execution_count": 68,
   "metadata": {
    "collapsed": true
   },
   "outputs": [],
   "source": [
    "from weka.filters import Filter\n",
    "nominal = Filter(classname=\"weka.filters.unsupervised.attribute.NumericToNominal\", options=[\"-R\", \"last\"])\n",
    "#print(nominal.to_help())"
   ]
  },
  {
   "cell_type": "code",
   "execution_count": 69,
   "metadata": {
    "collapsed": true
   },
   "outputs": [],
   "source": [
    "nominal.inputformat(data)\n",
    "nominaldata1 = nominal.filter(data)\n",
    "nominaldata1.class_is_last()"
   ]
  },
  {
   "cell_type": "code",
   "execution_count": 70,
   "metadata": {
    "collapsed": true
   },
   "outputs": [],
   "source": [
    "#print(cls)"
   ]
  },
  {
   "cell_type": "code",
   "execution_count": 71,
   "metadata": {},
   "outputs": [
    {
     "ename": "JavaException",
     "evalue": "GC overhead limit exceeded",
     "output_type": "error",
     "traceback": [
      "\u001b[1;31m---------------------------------------------------------------------------\u001b[0m",
      "\u001b[1;31mJavaException\u001b[0m                             Traceback (most recent call last)",
      "\u001b[1;32m<ipython-input-71-2626fffe9d39>\u001b[0m in \u001b[0;36m<module>\u001b[1;34m()\u001b[0m\n\u001b[1;32m----> 1\u001b[1;33m \u001b[0mcls\u001b[0m\u001b[1;33m.\u001b[0m\u001b[0mbuild_classifier\u001b[0m\u001b[1;33m(\u001b[0m\u001b[0mnominaldata1\u001b[0m\u001b[1;33m)\u001b[0m\u001b[1;33m\u001b[0m\u001b[0m\n\u001b[0m",
      "\u001b[1;32mC:\\Users\\namanda\\AppData\\Local\\Continuum\\anaconda3\\lib\\site-packages\\weka\\classifiers.py\u001b[0m in \u001b[0;36mbuild_classifier\u001b[1;34m(self, data)\u001b[0m\n\u001b[0;32m     80\u001b[0m         \u001b[1;33m:\u001b[0m\u001b[0mtype\u001b[0m \u001b[0mdata\u001b[0m\u001b[1;33m:\u001b[0m \u001b[0mInstances\u001b[0m\u001b[1;33m\u001b[0m\u001b[0m\n\u001b[0;32m     81\u001b[0m         \"\"\"\n\u001b[1;32m---> 82\u001b[1;33m         \u001b[0mjavabridge\u001b[0m\u001b[1;33m.\u001b[0m\u001b[0mcall\u001b[0m\u001b[1;33m(\u001b[0m\u001b[0mself\u001b[0m\u001b[1;33m.\u001b[0m\u001b[0mjobject\u001b[0m\u001b[1;33m,\u001b[0m \u001b[1;34m\"buildClassifier\"\u001b[0m\u001b[1;33m,\u001b[0m \u001b[1;34m\"(Lweka/core/Instances;)V\"\u001b[0m\u001b[1;33m,\u001b[0m \u001b[0mdata\u001b[0m\u001b[1;33m.\u001b[0m\u001b[0mjobject\u001b[0m\u001b[1;33m)\u001b[0m\u001b[1;33m\u001b[0m\u001b[0m\n\u001b[0m\u001b[0;32m     83\u001b[0m \u001b[1;33m\u001b[0m\u001b[0m\n\u001b[0;32m     84\u001b[0m     \u001b[1;32mdef\u001b[0m \u001b[0mupdate_classifier\u001b[0m\u001b[1;33m(\u001b[0m\u001b[0mself\u001b[0m\u001b[1;33m,\u001b[0m \u001b[0minst\u001b[0m\u001b[1;33m)\u001b[0m\u001b[1;33m:\u001b[0m\u001b[1;33m\u001b[0m\u001b[0m\n",
      "\u001b[1;32mC:\\Users\\namanda\\AppData\\Local\\Continuum\\anaconda3\\lib\\site-packages\\javabridge\\jutil.py\u001b[0m in \u001b[0;36mcall\u001b[1;34m(o, method_name, sig, *args)\u001b[0m\n\u001b[0;32m    885\u001b[0m     \u001b[0mret_sig\u001b[0m \u001b[1;33m=\u001b[0m \u001b[0msig\u001b[0m\u001b[1;33m[\u001b[0m\u001b[0msig\u001b[0m\u001b[1;33m.\u001b[0m\u001b[0mfind\u001b[0m\u001b[1;33m(\u001b[0m\u001b[1;34m')'\u001b[0m\u001b[1;33m)\u001b[0m\u001b[1;33m+\u001b[0m\u001b[1;36m1\u001b[0m\u001b[1;33m:\u001b[0m\u001b[1;33m]\u001b[0m\u001b[1;33m\u001b[0m\u001b[0m\n\u001b[0;32m    886\u001b[0m     \u001b[0mnice_args\u001b[0m \u001b[1;33m=\u001b[0m \u001b[0mget_nice_args\u001b[0m\u001b[1;33m(\u001b[0m\u001b[0margs\u001b[0m\u001b[1;33m,\u001b[0m \u001b[0margs_sig\u001b[0m\u001b[1;33m)\u001b[0m\u001b[1;33m\u001b[0m\u001b[0m\n\u001b[1;32m--> 887\u001b[1;33m     \u001b[0mresult\u001b[0m \u001b[1;33m=\u001b[0m \u001b[0mfn\u001b[0m\u001b[1;33m(\u001b[0m\u001b[1;33m*\u001b[0m\u001b[0mnice_args\u001b[0m\u001b[1;33m)\u001b[0m\u001b[1;33m\u001b[0m\u001b[0m\n\u001b[0m\u001b[0;32m    888\u001b[0m     \u001b[0mx\u001b[0m \u001b[1;33m=\u001b[0m \u001b[0menv\u001b[0m\u001b[1;33m.\u001b[0m\u001b[0mexception_occurred\u001b[0m\u001b[1;33m(\u001b[0m\u001b[1;33m)\u001b[0m\u001b[1;33m\u001b[0m\u001b[0m\n\u001b[0;32m    889\u001b[0m     \u001b[1;32mif\u001b[0m \u001b[0mx\u001b[0m \u001b[1;32mis\u001b[0m \u001b[1;32mnot\u001b[0m \u001b[1;32mNone\u001b[0m\u001b[1;33m:\u001b[0m\u001b[1;33m\u001b[0m\u001b[0m\n",
      "\u001b[1;32mC:\\Users\\namanda\\AppData\\Local\\Continuum\\anaconda3\\lib\\site-packages\\javabridge\\jutil.py\u001b[0m in \u001b[0;36mfn\u001b[1;34m(*args)\u001b[0m\n\u001b[0;32m    852\u001b[0m             \u001b[0mx\u001b[0m \u001b[1;33m=\u001b[0m \u001b[0menv\u001b[0m\u001b[1;33m.\u001b[0m\u001b[0mexception_occurred\u001b[0m\u001b[1;33m(\u001b[0m\u001b[1;33m)\u001b[0m\u001b[1;33m\u001b[0m\u001b[0m\n\u001b[0;32m    853\u001b[0m             \u001b[1;32mif\u001b[0m \u001b[0mx\u001b[0m \u001b[1;32mis\u001b[0m \u001b[1;32mnot\u001b[0m \u001b[1;32mNone\u001b[0m\u001b[1;33m:\u001b[0m\u001b[1;33m\u001b[0m\u001b[0m\n\u001b[1;32m--> 854\u001b[1;33m                 \u001b[1;32mraise\u001b[0m \u001b[0mJavaException\u001b[0m\u001b[1;33m(\u001b[0m\u001b[0mx\u001b[0m\u001b[1;33m)\u001b[0m\u001b[1;33m\u001b[0m\u001b[0m\n\u001b[0m\u001b[0;32m    855\u001b[0m             \u001b[1;32mreturn\u001b[0m \u001b[0mresult\u001b[0m\u001b[1;33m\u001b[0m\u001b[0m\n\u001b[0;32m    856\u001b[0m     \u001b[1;32melse\u001b[0m\u001b[1;33m:\u001b[0m\u001b[1;33m\u001b[0m\u001b[0m\n",
      "\u001b[1;31mJavaException\u001b[0m: GC overhead limit exceeded"
     ]
    }
   ],
   "source": [
    "cls.build_classifier(nominaldata1)"
   ]
  },
  {
   "cell_type": "code",
   "execution_count": 64,
   "metadata": {
    "collapsed": true
   },
   "outputs": [
    {
     "name": "stdout",
     "output_type": "stream",
     "text": [
      "1: label index=0.0, class distribution=[ 1.  0.  0.]\n",
      "2: label index=0.0, class distribution=[ 1.  0.  0.]\n",
      "3: label index=0.0, class distribution=[ 1.  0.  0.]\n",
      "4: label index=0.0, class distribution=[ 1.  0.  0.]\n",
      "5: label index=0.0, class distribution=[ 1.  0.  0.]\n",
      "6: label index=0.0, class distribution=[ 1.  0.  0.]\n",
      "7: label index=0.0, class distribution=[ 1.  0.  0.]\n",
      "8: label index=0.0, class distribution=[ 1.  0.  0.]\n",
      "9: label index=0.0, class distribution=[ 1.  0.  0.]\n",
      "10: label index=0.0, class distribution=[ 1.  0.  0.]\n",
      "11: label index=0.0, class distribution=[ 1.  0.  0.]\n",
      "12: label index=0.0, class distribution=[ 1.  0.  0.]\n",
      "13: label index=0.0, class distribution=[ 1.  0.  0.]\n",
      "14: label index=0.0, class distribution=[ 1.  0.  0.]\n",
      "15: label index=0.0, class distribution=[ 1.  0.  0.]\n",
      "16: label index=0.0, class distribution=[ 1.  0.  0.]\n",
      "17: label index=0.0, class distribution=[ 1.  0.  0.]\n",
      "18: label index=0.0, class distribution=[ 1.  0.  0.]\n",
      "19: label index=0.0, class distribution=[ 1.  0.  0.]\n",
      "20: label index=0.0, class distribution=[ 1.  0.  0.]\n",
      "21: label index=0.0, class distribution=[ 1.  0.  0.]\n",
      "22: label index=0.0, class distribution=[ 1.  0.  0.]\n",
      "23: label index=0.0, class distribution=[ 1.  0.  0.]\n",
      "24: label index=0.0, class distribution=[ 1.  0.  0.]\n",
      "25: label index=0.0, class distribution=[ 1.  0.  0.]\n",
      "26: label index=0.0, class distribution=[ 1.  0.  0.]\n",
      "27: label index=0.0, class distribution=[ 1.  0.  0.]\n",
      "28: label index=0.0, class distribution=[ 1.  0.  0.]\n",
      "29: label index=0.0, class distribution=[ 1.  0.  0.]\n",
      "30: label index=0.0, class distribution=[ 1.  0.  0.]\n",
      "31: label index=0.0, class distribution=[ 1.  0.  0.]\n",
      "32: label index=0.0, class distribution=[ 1.  0.  0.]\n",
      "33: label index=0.0, class distribution=[ 1.  0.  0.]\n",
      "34: label index=0.0, class distribution=[ 1.  0.  0.]\n",
      "35: label index=0.0, class distribution=[ 1.  0.  0.]\n",
      "36: label index=0.0, class distribution=[ 1.  0.  0.]\n",
      "37: label index=0.0, class distribution=[ 1.  0.  0.]\n",
      "38: label index=0.0, class distribution=[ 1.  0.  0.]\n",
      "39: label index=0.0, class distribution=[ 1.  0.  0.]\n",
      "40: label index=0.0, class distribution=[ 1.  0.  0.]\n",
      "41: label index=0.0, class distribution=[ 1.  0.  0.]\n",
      "42: label index=0.0, class distribution=[ 1.  0.  0.]\n",
      "43: label index=0.0, class distribution=[ 1.  0.  0.]\n",
      "44: label index=0.0, class distribution=[ 1.  0.  0.]\n",
      "45: label index=0.0, class distribution=[ 1.  0.  0.]\n",
      "46: label index=0.0, class distribution=[ 1.  0.  0.]\n",
      "47: label index=0.0, class distribution=[ 1.  0.  0.]\n",
      "48: label index=0.0, class distribution=[ 1.  0.  0.]\n",
      "49: label index=0.0, class distribution=[ 1.  0.  0.]\n",
      "50: label index=0.0, class distribution=[ 1.  0.  0.]\n",
      "51: label index=1.0, class distribution=[ 0.          0.97916667  0.02083333]\n",
      "52: label index=1.0, class distribution=[ 0.          0.97916667  0.02083333]\n",
      "53: label index=1.0, class distribution=[ 0.          0.97916667  0.02083333]\n",
      "54: label index=1.0, class distribution=[ 0.          0.97916667  0.02083333]\n",
      "55: label index=1.0, class distribution=[ 0.          0.97916667  0.02083333]\n",
      "56: label index=1.0, class distribution=[ 0.          0.97916667  0.02083333]\n",
      "57: label index=1.0, class distribution=[ 0.          0.97916667  0.02083333]\n",
      "58: label index=1.0, class distribution=[ 0.          0.97916667  0.02083333]\n",
      "59: label index=1.0, class distribution=[ 0.          0.97916667  0.02083333]\n",
      "60: label index=1.0, class distribution=[ 0.          0.97916667  0.02083333]\n",
      "61: label index=1.0, class distribution=[ 0.          0.97916667  0.02083333]\n",
      "62: label index=1.0, class distribution=[ 0.          0.97916667  0.02083333]\n",
      "63: label index=1.0, class distribution=[ 0.          0.97916667  0.02083333]\n",
      "64: label index=1.0, class distribution=[ 0.          0.97916667  0.02083333]\n",
      "65: label index=1.0, class distribution=[ 0.          0.97916667  0.02083333]\n",
      "66: label index=1.0, class distribution=[ 0.          0.97916667  0.02083333]\n",
      "67: label index=1.0, class distribution=[ 0.          0.97916667  0.02083333]\n",
      "68: label index=1.0, class distribution=[ 0.          0.97916667  0.02083333]\n",
      "69: label index=1.0, class distribution=[ 0.          0.97916667  0.02083333]\n",
      "70: label index=1.0, class distribution=[ 0.          0.97916667  0.02083333]\n",
      "71: label index=2.0, class distribution=[ 0.          0.02173913  0.97826087]\n",
      "72: label index=1.0, class distribution=[ 0.          0.97916667  0.02083333]\n",
      "73: label index=1.0, class distribution=[ 0.          0.97916667  0.02083333]\n",
      "74: label index=1.0, class distribution=[ 0.          0.97916667  0.02083333]\n",
      "75: label index=1.0, class distribution=[ 0.          0.97916667  0.02083333]\n",
      "76: label index=1.0, class distribution=[ 0.          0.97916667  0.02083333]\n",
      "77: label index=1.0, class distribution=[ 0.          0.97916667  0.02083333]\n",
      "78: label index=1.0, class distribution=[ 0.          0.66666667  0.33333333]\n",
      "79: label index=1.0, class distribution=[ 0.          0.97916667  0.02083333]\n",
      "80: label index=1.0, class distribution=[ 0.          0.97916667  0.02083333]\n",
      "81: label index=1.0, class distribution=[ 0.          0.97916667  0.02083333]\n",
      "82: label index=1.0, class distribution=[ 0.          0.97916667  0.02083333]\n",
      "83: label index=1.0, class distribution=[ 0.          0.97916667  0.02083333]\n",
      "84: label index=1.0, class distribution=[ 0.          0.66666667  0.33333333]\n",
      "85: label index=1.0, class distribution=[ 0.          0.97916667  0.02083333]\n",
      "86: label index=1.0, class distribution=[ 0.          0.97916667  0.02083333]\n",
      "87: label index=1.0, class distribution=[ 0.          0.97916667  0.02083333]\n",
      "88: label index=1.0, class distribution=[ 0.          0.97916667  0.02083333]\n",
      "89: label index=1.0, class distribution=[ 0.          0.97916667  0.02083333]\n",
      "90: label index=1.0, class distribution=[ 0.          0.97916667  0.02083333]\n",
      "91: label index=1.0, class distribution=[ 0.          0.97916667  0.02083333]\n",
      "92: label index=1.0, class distribution=[ 0.          0.97916667  0.02083333]\n",
      "93: label index=1.0, class distribution=[ 0.          0.97916667  0.02083333]\n",
      "94: label index=1.0, class distribution=[ 0.          0.97916667  0.02083333]\n",
      "95: label index=1.0, class distribution=[ 0.          0.97916667  0.02083333]\n",
      "96: label index=1.0, class distribution=[ 0.          0.97916667  0.02083333]\n",
      "97: label index=1.0, class distribution=[ 0.          0.97916667  0.02083333]\n",
      "98: label index=1.0, class distribution=[ 0.          0.97916667  0.02083333]\n",
      "99: label index=1.0, class distribution=[ 0.          0.97916667  0.02083333]\n",
      "100: label index=1.0, class distribution=[ 0.          0.97916667  0.02083333]\n",
      "101: label index=2.0, class distribution=[ 0.          0.02173913  0.97826087]\n",
      "102: label index=2.0, class distribution=[ 0.          0.02173913  0.97826087]\n",
      "103: label index=2.0, class distribution=[ 0.          0.02173913  0.97826087]\n",
      "104: label index=2.0, class distribution=[ 0.          0.02173913  0.97826087]\n",
      "105: label index=2.0, class distribution=[ 0.          0.02173913  0.97826087]\n",
      "106: label index=2.0, class distribution=[ 0.          0.02173913  0.97826087]\n",
      "107: label index=1.0, class distribution=[ 0.          0.97916667  0.02083333]\n",
      "108: label index=2.0, class distribution=[ 0.          0.02173913  0.97826087]\n",
      "109: label index=2.0, class distribution=[ 0.          0.02173913  0.97826087]\n",
      "110: label index=2.0, class distribution=[ 0.          0.02173913  0.97826087]\n",
      "111: label index=2.0, class distribution=[ 0.          0.02173913  0.97826087]\n",
      "112: label index=2.0, class distribution=[ 0.          0.02173913  0.97826087]\n",
      "113: label index=2.0, class distribution=[ 0.          0.02173913  0.97826087]\n",
      "114: label index=2.0, class distribution=[ 0.          0.02173913  0.97826087]\n",
      "115: label index=2.0, class distribution=[ 0.          0.02173913  0.97826087]\n",
      "116: label index=2.0, class distribution=[ 0.          0.02173913  0.97826087]\n",
      "117: label index=2.0, class distribution=[ 0.          0.02173913  0.97826087]\n",
      "118: label index=2.0, class distribution=[ 0.          0.02173913  0.97826087]\n",
      "119: label index=2.0, class distribution=[ 0.          0.02173913  0.97826087]\n",
      "120: label index=2.0, class distribution=[ 0.  0.  1.]\n",
      "121: label index=2.0, class distribution=[ 0.          0.02173913  0.97826087]\n",
      "122: label index=2.0, class distribution=[ 0.          0.02173913  0.97826087]\n",
      "123: label index=2.0, class distribution=[ 0.          0.02173913  0.97826087]\n",
      "124: label index=2.0, class distribution=[ 0.          0.02173913  0.97826087]\n",
      "125: label index=2.0, class distribution=[ 0.          0.02173913  0.97826087]\n",
      "126: label index=2.0, class distribution=[ 0.          0.02173913  0.97826087]\n",
      "127: label index=2.0, class distribution=[ 0.          0.02173913  0.97826087]\n",
      "128: label index=2.0, class distribution=[ 0.          0.02173913  0.97826087]\n",
      "129: label index=2.0, class distribution=[ 0.          0.02173913  0.97826087]\n",
      "130: label index=1.0, class distribution=[ 0.          0.66666667  0.33333333]\n",
      "131: label index=2.0, class distribution=[ 0.          0.02173913  0.97826087]\n",
      "132: label index=2.0, class distribution=[ 0.          0.02173913  0.97826087]\n",
      "133: label index=2.0, class distribution=[ 0.          0.02173913  0.97826087]\n",
      "134: label index=2.0, class distribution=[ 0.  0.  1.]\n",
      "135: label index=2.0, class distribution=[ 0.  0.  1.]\n",
      "136: label index=2.0, class distribution=[ 0.          0.02173913  0.97826087]\n",
      "137: label index=2.0, class distribution=[ 0.          0.02173913  0.97826087]\n",
      "138: label index=2.0, class distribution=[ 0.          0.02173913  0.97826087]\n",
      "139: label index=2.0, class distribution=[ 0.          0.02173913  0.97826087]\n",
      "140: label index=2.0, class distribution=[ 0.          0.02173913  0.97826087]\n",
      "141: label index=2.0, class distribution=[ 0.          0.02173913  0.97826087]\n",
      "142: label index=2.0, class distribution=[ 0.          0.02173913  0.97826087]\n",
      "143: label index=2.0, class distribution=[ 0.          0.02173913  0.97826087]\n",
      "144: label index=2.0, class distribution=[ 0.          0.02173913  0.97826087]\n",
      "145: label index=2.0, class distribution=[ 0.          0.02173913  0.97826087]\n",
      "146: label index=2.0, class distribution=[ 0.          0.02173913  0.97826087]\n",
      "147: label index=2.0, class distribution=[ 0.          0.02173913  0.97826087]\n",
      "148: label index=2.0, class distribution=[ 0.          0.02173913  0.97826087]\n",
      "149: label index=2.0, class distribution=[ 0.          0.02173913  0.97826087]\n",
      "150: label index=2.0, class distribution=[ 0.          0.02173913  0.97826087]\n"
     ]
    }
   ],
   "source": [
    "for index, inst in enumerate(data):\n",
    "    pred = cls.classify_instance(inst)\n",
    "    dist = cls.distribution_for_instance(inst)\n",
    "    print(str(index+1) + \": label index=\" + str(pred) + \", class distribution=\" + str(dist))"
   ]
  },
  {
   "cell_type": "code",
   "execution_count": 66,
   "metadata": {},
   "outputs": [
    {
     "name": "stderr",
     "output_type": "stream",
     "text": [
      "ERROR:weka.plot.graph:Pygraphviz is not installed, cannot generate graph plot!\n"
     ]
    },
    {
     "name": "stdout",
     "output_type": "stream",
     "text": [
      "J48 pruned tree\n",
      "------------------\n",
      "\n",
      "petalwidth <= 0.6: Iris-setosa (50.0)\n",
      "petalwidth > 0.6\n",
      "|   petalwidth <= 1.7\n",
      "|   |   petallength <= 4.9: Iris-versicolor (48.0/1.0)\n",
      "|   |   petallength > 4.9\n",
      "|   |   |   petalwidth <= 1.5: Iris-virginica (3.0)\n",
      "|   |   |   petalwidth > 1.5: Iris-versicolor (3.0/1.0)\n",
      "|   petalwidth > 1.7: Iris-virginica (46.0/1.0)\n",
      "\n",
      "Number of Leaves  : \t5\n",
      "\n",
      "Size of the tree : \t9\n",
      "\n"
     ]
    }
   ],
   "source": [
    "#from weka.classifiers import Classifier\n",
    "#cls = Classifier(classname=\"weka.classifiers.trees.J48\", options=[\"-C\", \"0.3\"])\n",
    "#cls.build_classifier(data)\n",
    "\n",
    "#print(cls)\n",
    "\n",
    "import weka.plot.graph as graph  # NB: pygraphviz and PIL are required\n",
    "graph.plot_dot_graph(cls.graph)"
   ]
  },
  {
   "cell_type": "code",
   "execution_count": 67,
   "metadata": {
    "collapsed": true
   },
   "outputs": [],
   "source": [
    "jvm.stop()"
   ]
  }
 ],
 "metadata": {
  "kernelspec": {
   "display_name": "Python 3",
   "language": "python",
   "name": "python3"
  },
  "language_info": {
   "codemirror_mode": {
    "name": "ipython",
    "version": 3
   },
   "file_extension": ".py",
   "mimetype": "text/x-python",
   "name": "python",
   "nbconvert_exporter": "python",
   "pygments_lexer": "ipython3",
   "version": "3.6.3"
  }
 },
 "nbformat": 4,
 "nbformat_minor": 2
}
